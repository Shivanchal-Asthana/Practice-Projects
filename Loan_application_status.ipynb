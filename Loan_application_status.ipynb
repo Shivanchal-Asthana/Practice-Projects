{
 "cells": [
  {
   "cell_type": "code",
   "execution_count": 3,
   "id": "e5c06f2f",
   "metadata": {},
   "outputs": [],
   "source": [
    "#importing necessary libraries\n",
    "import pandas as pd\n",
    "import numpy as np\n",
    "import statsmodels.formula.api as smf\n",
    "from sklearn.preprocessing import StandardScaler, OrdinalEncoder, OneHotEncoder, LabelEncoder, PowerTransformer\n",
    "from sklearn.impute import SimpleImputer\n",
    "from sklearn.compose import make_column_transformer\n",
    "from sklearn.linear_model import LinearRegression, LogisticRegression\n",
    "from sklearn.model_selection import train_test_split, RandomizedSearchCV, GridSearchCV\n",
    "from sklearn.feature_selection import SelectPercentile, chi2\n",
    "from sklearn.metrics import mean_squared_error, mean_absolute_error, r2_score,roc_curve, roc_auc_score, plot_roc_curve\n",
    "from sklearn.ensemble import AdaBoostRegressor, GradientBoostingRegressor,RandomForestClassifier, BaggingClassifier\n",
    "from sklearn.metrics import confusion_matrix, classification_report\n",
    "from scipy.stats import norm, stats\n",
    "from sklearn.neighbors import KNeighborsClassifier\n",
    "from sklearn.tree import DecisionTreeClassifier\n",
    "from sklearn.decomposition import PCA\n",
    "from sklearn.pipeline import Pipeline\n",
    "from sklearn.model_selection import cross_val_score\n",
    "from sklearn.metrics import accuracy_score\n",
    "from sklearn.svm import SVC\n",
    "import statistics as st\n",
    "import statsmodels.api as sm\n",
    "import seaborn as sns\n",
    "import matplotlib.pyplot as plt\n",
    "import pickle\n",
    "import time\n",
    "\n",
    "\n",
    "#import plotty\n",
    "import warnings\n",
    "warnings.filterwarnings('ignore')"
   ]
  },
  {
   "cell_type": "code",
   "execution_count": 4,
   "id": "1ac5253f",
   "metadata": {},
   "outputs": [
    {
     "data": {
      "text/html": [
       "<div>\n",
       "<style scoped>\n",
       "    .dataframe tbody tr th:only-of-type {\n",
       "        vertical-align: middle;\n",
       "    }\n",
       "\n",
       "    .dataframe tbody tr th {\n",
       "        vertical-align: top;\n",
       "    }\n",
       "\n",
       "    .dataframe thead th {\n",
       "        text-align: right;\n",
       "    }\n",
       "</style>\n",
       "<table border=\"1\" class=\"dataframe\">\n",
       "  <thead>\n",
       "    <tr style=\"text-align: right;\">\n",
       "      <th></th>\n",
       "      <th>Loan_ID</th>\n",
       "      <th>Gender</th>\n",
       "      <th>Married</th>\n",
       "      <th>Dependents</th>\n",
       "      <th>Education</th>\n",
       "      <th>Self_Employed</th>\n",
       "      <th>ApplicantIncome</th>\n",
       "      <th>CoapplicantIncome</th>\n",
       "      <th>LoanAmount</th>\n",
       "      <th>Loan_Amount_Term</th>\n",
       "      <th>Credit_History</th>\n",
       "      <th>Property_Area</th>\n",
       "      <th>Loan_Status</th>\n",
       "    </tr>\n",
       "  </thead>\n",
       "  <tbody>\n",
       "    <tr>\n",
       "      <th>0</th>\n",
       "      <td>LP001002</td>\n",
       "      <td>Male</td>\n",
       "      <td>No</td>\n",
       "      <td>0</td>\n",
       "      <td>Graduate</td>\n",
       "      <td>No</td>\n",
       "      <td>5849</td>\n",
       "      <td>0.0</td>\n",
       "      <td>NaN</td>\n",
       "      <td>360.0</td>\n",
       "      <td>1.0</td>\n",
       "      <td>Urban</td>\n",
       "      <td>Y</td>\n",
       "    </tr>\n",
       "    <tr>\n",
       "      <th>1</th>\n",
       "      <td>LP001003</td>\n",
       "      <td>Male</td>\n",
       "      <td>Yes</td>\n",
       "      <td>1</td>\n",
       "      <td>Graduate</td>\n",
       "      <td>No</td>\n",
       "      <td>4583</td>\n",
       "      <td>1508.0</td>\n",
       "      <td>128.0</td>\n",
       "      <td>360.0</td>\n",
       "      <td>1.0</td>\n",
       "      <td>Rural</td>\n",
       "      <td>N</td>\n",
       "    </tr>\n",
       "    <tr>\n",
       "      <th>2</th>\n",
       "      <td>LP001005</td>\n",
       "      <td>Male</td>\n",
       "      <td>Yes</td>\n",
       "      <td>0</td>\n",
       "      <td>Graduate</td>\n",
       "      <td>Yes</td>\n",
       "      <td>3000</td>\n",
       "      <td>0.0</td>\n",
       "      <td>66.0</td>\n",
       "      <td>360.0</td>\n",
       "      <td>1.0</td>\n",
       "      <td>Urban</td>\n",
       "      <td>Y</td>\n",
       "    </tr>\n",
       "    <tr>\n",
       "      <th>3</th>\n",
       "      <td>LP001006</td>\n",
       "      <td>Male</td>\n",
       "      <td>Yes</td>\n",
       "      <td>0</td>\n",
       "      <td>Not Graduate</td>\n",
       "      <td>No</td>\n",
       "      <td>2583</td>\n",
       "      <td>2358.0</td>\n",
       "      <td>120.0</td>\n",
       "      <td>360.0</td>\n",
       "      <td>1.0</td>\n",
       "      <td>Urban</td>\n",
       "      <td>Y</td>\n",
       "    </tr>\n",
       "    <tr>\n",
       "      <th>4</th>\n",
       "      <td>LP001008</td>\n",
       "      <td>Male</td>\n",
       "      <td>No</td>\n",
       "      <td>0</td>\n",
       "      <td>Graduate</td>\n",
       "      <td>No</td>\n",
       "      <td>6000</td>\n",
       "      <td>0.0</td>\n",
       "      <td>141.0</td>\n",
       "      <td>360.0</td>\n",
       "      <td>1.0</td>\n",
       "      <td>Urban</td>\n",
       "      <td>Y</td>\n",
       "    </tr>\n",
       "  </tbody>\n",
       "</table>\n",
       "</div>"
      ],
      "text/plain": [
       "    Loan_ID Gender Married Dependents     Education Self_Employed  \\\n",
       "0  LP001002   Male      No          0      Graduate            No   \n",
       "1  LP001003   Male     Yes          1      Graduate            No   \n",
       "2  LP001005   Male     Yes          0      Graduate           Yes   \n",
       "3  LP001006   Male     Yes          0  Not Graduate            No   \n",
       "4  LP001008   Male      No          0      Graduate            No   \n",
       "\n",
       "   ApplicantIncome  CoapplicantIncome  LoanAmount  Loan_Amount_Term  \\\n",
       "0             5849                0.0         NaN             360.0   \n",
       "1             4583             1508.0       128.0             360.0   \n",
       "2             3000                0.0        66.0             360.0   \n",
       "3             2583             2358.0       120.0             360.0   \n",
       "4             6000                0.0       141.0             360.0   \n",
       "\n",
       "   Credit_History Property_Area Loan_Status  \n",
       "0             1.0         Urban           Y  \n",
       "1             1.0         Rural           N  \n",
       "2             1.0         Urban           Y  \n",
       "3             1.0         Urban           Y  \n",
       "4             1.0         Urban           Y  "
      ]
     },
     "execution_count": 4,
     "metadata": {},
     "output_type": "execute_result"
    }
   ],
   "source": [
    "df = pd.read_csv(\"https://raw.githubusercontent.com/dsrscientist/DSData/master/loan_prediction.csv\")\n",
    "df.head() #read the csv file"
   ]
  },
  {
   "cell_type": "markdown",
   "id": "6226f274",
   "metadata": {},
   "source": [
    "Documentation:\n",
    "1. Dataset contains 13 columns\n",
    "2. Out of which 8 columns are in object form\n",
    "3. There is high skewness in 'CoapplicantIncome' column\n",
    "4. 'Loan_Amount_Term', 'Credit_History','Dependents','Credit_History' etc has some missing values\n",
    "5. There are some null values in many columns\n",
    "6. There is no duplicate rows in this dataset\n",
    "7. Almost, every columns are inter related to each other"
   ]
  },
  {
   "cell_type": "code",
   "execution_count": 5,
   "id": "025def26",
   "metadata": {},
   "outputs": [
    {
     "data": {
      "text/plain": [
       "(614, 13)"
      ]
     },
     "execution_count": 5,
     "metadata": {},
     "output_type": "execute_result"
    }
   ],
   "source": [
    "df.shape #check the shape of the dataset"
   ]
  },
  {
   "cell_type": "code",
   "execution_count": 6,
   "id": "de8fc0de",
   "metadata": {},
   "outputs": [
    {
     "data": {
      "text/plain": [
       "Index(['Loan_ID', 'Gender', 'Married', 'Dependents', 'Education',\n",
       "       'Self_Employed', 'ApplicantIncome', 'CoapplicantIncome', 'LoanAmount',\n",
       "       'Loan_Amount_Term', 'Credit_History', 'Property_Area', 'Loan_Status'],\n",
       "      dtype='object')"
      ]
     },
     "execution_count": 6,
     "metadata": {},
     "output_type": "execute_result"
    }
   ],
   "source": [
    "df.columns #check the number of columns"
   ]
  },
  {
   "cell_type": "code",
   "execution_count": 7,
   "id": "33aed5da",
   "metadata": {},
   "outputs": [
    {
     "data": {
      "text/html": [
       "<div>\n",
       "<style scoped>\n",
       "    .dataframe tbody tr th:only-of-type {\n",
       "        vertical-align: middle;\n",
       "    }\n",
       "\n",
       "    .dataframe tbody tr th {\n",
       "        vertical-align: top;\n",
       "    }\n",
       "\n",
       "    .dataframe thead th {\n",
       "        text-align: right;\n",
       "    }\n",
       "</style>\n",
       "<table border=\"1\" class=\"dataframe\">\n",
       "  <thead>\n",
       "    <tr style=\"text-align: right;\">\n",
       "      <th></th>\n",
       "      <th>ApplicantIncome</th>\n",
       "      <th>CoapplicantIncome</th>\n",
       "      <th>LoanAmount</th>\n",
       "      <th>Loan_Amount_Term</th>\n",
       "      <th>Credit_History</th>\n",
       "    </tr>\n",
       "  </thead>\n",
       "  <tbody>\n",
       "    <tr>\n",
       "      <th>count</th>\n",
       "      <td>614.000000</td>\n",
       "      <td>614.000000</td>\n",
       "      <td>592.000000</td>\n",
       "      <td>600.00000</td>\n",
       "      <td>564.000000</td>\n",
       "    </tr>\n",
       "    <tr>\n",
       "      <th>mean</th>\n",
       "      <td>5403.459283</td>\n",
       "      <td>1621.245798</td>\n",
       "      <td>146.412162</td>\n",
       "      <td>342.00000</td>\n",
       "      <td>0.842199</td>\n",
       "    </tr>\n",
       "    <tr>\n",
       "      <th>std</th>\n",
       "      <td>6109.041673</td>\n",
       "      <td>2926.248369</td>\n",
       "      <td>85.587325</td>\n",
       "      <td>65.12041</td>\n",
       "      <td>0.364878</td>\n",
       "    </tr>\n",
       "    <tr>\n",
       "      <th>min</th>\n",
       "      <td>150.000000</td>\n",
       "      <td>0.000000</td>\n",
       "      <td>9.000000</td>\n",
       "      <td>12.00000</td>\n",
       "      <td>0.000000</td>\n",
       "    </tr>\n",
       "    <tr>\n",
       "      <th>25%</th>\n",
       "      <td>2877.500000</td>\n",
       "      <td>0.000000</td>\n",
       "      <td>100.000000</td>\n",
       "      <td>360.00000</td>\n",
       "      <td>1.000000</td>\n",
       "    </tr>\n",
       "    <tr>\n",
       "      <th>50%</th>\n",
       "      <td>3812.500000</td>\n",
       "      <td>1188.500000</td>\n",
       "      <td>128.000000</td>\n",
       "      <td>360.00000</td>\n",
       "      <td>1.000000</td>\n",
       "    </tr>\n",
       "    <tr>\n",
       "      <th>75%</th>\n",
       "      <td>5795.000000</td>\n",
       "      <td>2297.250000</td>\n",
       "      <td>168.000000</td>\n",
       "      <td>360.00000</td>\n",
       "      <td>1.000000</td>\n",
       "    </tr>\n",
       "    <tr>\n",
       "      <th>max</th>\n",
       "      <td>81000.000000</td>\n",
       "      <td>41667.000000</td>\n",
       "      <td>700.000000</td>\n",
       "      <td>480.00000</td>\n",
       "      <td>1.000000</td>\n",
       "    </tr>\n",
       "  </tbody>\n",
       "</table>\n",
       "</div>"
      ],
      "text/plain": [
       "       ApplicantIncome  CoapplicantIncome  LoanAmount  Loan_Amount_Term  \\\n",
       "count       614.000000         614.000000  592.000000         600.00000   \n",
       "mean       5403.459283        1621.245798  146.412162         342.00000   \n",
       "std        6109.041673        2926.248369   85.587325          65.12041   \n",
       "min         150.000000           0.000000    9.000000          12.00000   \n",
       "25%        2877.500000           0.000000  100.000000         360.00000   \n",
       "50%        3812.500000        1188.500000  128.000000         360.00000   \n",
       "75%        5795.000000        2297.250000  168.000000         360.00000   \n",
       "max       81000.000000       41667.000000  700.000000         480.00000   \n",
       "\n",
       "       Credit_History  \n",
       "count      564.000000  \n",
       "mean         0.842199  \n",
       "std          0.364878  \n",
       "min          0.000000  \n",
       "25%          1.000000  \n",
       "50%          1.000000  \n",
       "75%          1.000000  \n",
       "max          1.000000  "
      ]
     },
     "execution_count": 7,
     "metadata": {},
     "output_type": "execute_result"
    }
   ],
   "source": [
    "df.describe() #check the parameters"
   ]
  },
  {
   "cell_type": "code",
   "execution_count": 8,
   "id": "fe09b906",
   "metadata": {},
   "outputs": [
    {
     "name": "stdout",
     "output_type": "stream",
     "text": [
      "<class 'pandas.core.frame.DataFrame'>\n",
      "RangeIndex: 614 entries, 0 to 613\n",
      "Data columns (total 13 columns):\n",
      " #   Column             Non-Null Count  Dtype  \n",
      "---  ------             --------------  -----  \n",
      " 0   Loan_ID            614 non-null    object \n",
      " 1   Gender             601 non-null    object \n",
      " 2   Married            611 non-null    object \n",
      " 3   Dependents         599 non-null    object \n",
      " 4   Education          614 non-null    object \n",
      " 5   Self_Employed      582 non-null    object \n",
      " 6   ApplicantIncome    614 non-null    int64  \n",
      " 7   CoapplicantIncome  614 non-null    float64\n",
      " 8   LoanAmount         592 non-null    float64\n",
      " 9   Loan_Amount_Term   600 non-null    float64\n",
      " 10  Credit_History     564 non-null    float64\n",
      " 11  Property_Area      614 non-null    object \n",
      " 12  Loan_Status        614 non-null    object \n",
      "dtypes: float64(4), int64(1), object(8)\n",
      "memory usage: 62.5+ KB\n"
     ]
    }
   ],
   "source": [
    "df.info() #check the null values and Dtype of the columns"
   ]
  },
  {
   "cell_type": "code",
   "execution_count": 9,
   "id": "b42c5908",
   "metadata": {},
   "outputs": [
    {
     "data": {
      "text/plain": [
       "0"
      ]
     },
     "execution_count": 9,
     "metadata": {},
     "output_type": "execute_result"
    }
   ],
   "source": [
    "df.duplicated().sum() #check the duplicate values in our column"
   ]
  },
  {
   "cell_type": "code",
   "execution_count": 10,
   "id": "33614f8a",
   "metadata": {},
   "outputs": [
    {
     "data": {
      "text/plain": [
       "Loan_ID               0\n",
       "Gender               13\n",
       "Married               3\n",
       "Dependents           15\n",
       "Education             0\n",
       "Self_Employed        32\n",
       "ApplicantIncome       0\n",
       "CoapplicantIncome     0\n",
       "LoanAmount           22\n",
       "Loan_Amount_Term     14\n",
       "Credit_History       50\n",
       "Property_Area         0\n",
       "Loan_Status           0\n",
       "dtype: int64"
      ]
     },
     "execution_count": 10,
     "metadata": {},
     "output_type": "execute_result"
    }
   ],
   "source": [
    "df.isnull().sum() #check the null values "
   ]
  },
  {
   "cell_type": "markdown",
   "id": "d3543b6c",
   "metadata": {},
   "source": [
    "# Column1: Loan_ID"
   ]
  },
  {
   "cell_type": "code",
   "execution_count": 11,
   "id": "e2b6152d",
   "metadata": {},
   "outputs": [
    {
     "data": {
      "text/plain": [
       "array(['LP001002', 'LP001003', 'LP001005', 'LP001006', 'LP001008',\n",
       "       'LP001011', 'LP001013', 'LP001014', 'LP001018', 'LP001020',\n",
       "       'LP001024', 'LP001027', 'LP001028', 'LP001029', 'LP001030',\n",
       "       'LP001032', 'LP001034', 'LP001036', 'LP001038', 'LP001041',\n",
       "       'LP001043', 'LP001046', 'LP001047', 'LP001050', 'LP001052',\n",
       "       'LP001066', 'LP001068', 'LP001073', 'LP001086', 'LP001087',\n",
       "       'LP001091', 'LP001095', 'LP001097', 'LP001098', 'LP001100',\n",
       "       'LP001106', 'LP001109', 'LP001112', 'LP001114', 'LP001116',\n",
       "       'LP001119', 'LP001120', 'LP001123', 'LP001131', 'LP001136',\n",
       "       'LP001137', 'LP001138', 'LP001144', 'LP001146', 'LP001151',\n",
       "       'LP001155', 'LP001157', 'LP001164', 'LP001179', 'LP001186',\n",
       "       'LP001194', 'LP001195', 'LP001197', 'LP001198', 'LP001199',\n",
       "       'LP001205', 'LP001206', 'LP001207', 'LP001213', 'LP001222',\n",
       "       'LP001225', 'LP001228', 'LP001233', 'LP001238', 'LP001241',\n",
       "       'LP001243', 'LP001245', 'LP001248', 'LP001250', 'LP001253',\n",
       "       'LP001255', 'LP001256', 'LP001259', 'LP001263', 'LP001264',\n",
       "       'LP001265', 'LP001266', 'LP001267', 'LP001273', 'LP001275',\n",
       "       'LP001279', 'LP001280', 'LP001282', 'LP001289', 'LP001310',\n",
       "       'LP001316', 'LP001318', 'LP001319', 'LP001322', 'LP001325',\n",
       "       'LP001326', 'LP001327', 'LP001333', 'LP001334', 'LP001343',\n",
       "       'LP001345', 'LP001349', 'LP001350', 'LP001356', 'LP001357',\n",
       "       'LP001367', 'LP001369', 'LP001370', 'LP001379', 'LP001384',\n",
       "       'LP001385', 'LP001387', 'LP001391', 'LP001392', 'LP001398',\n",
       "       'LP001401', 'LP001404', 'LP001405', 'LP001421', 'LP001422',\n",
       "       'LP001426', 'LP001430', 'LP001431', 'LP001432', 'LP001439',\n",
       "       'LP001443', 'LP001448', 'LP001449', 'LP001451', 'LP001465',\n",
       "       'LP001469', 'LP001473', 'LP001478', 'LP001482', 'LP001487',\n",
       "       'LP001488', 'LP001489', 'LP001491', 'LP001492', 'LP001493',\n",
       "       'LP001497', 'LP001498', 'LP001504', 'LP001507', 'LP001508',\n",
       "       'LP001514', 'LP001516', 'LP001518', 'LP001519', 'LP001520',\n",
       "       'LP001528', 'LP001529', 'LP001531', 'LP001532', 'LP001535',\n",
       "       'LP001536', 'LP001541', 'LP001543', 'LP001546', 'LP001552',\n",
       "       'LP001560', 'LP001562', 'LP001565', 'LP001570', 'LP001572',\n",
       "       'LP001574', 'LP001577', 'LP001578', 'LP001579', 'LP001580',\n",
       "       'LP001581', 'LP001585', 'LP001586', 'LP001594', 'LP001603',\n",
       "       'LP001606', 'LP001608', 'LP001610', 'LP001616', 'LP001630',\n",
       "       'LP001633', 'LP001634', 'LP001636', 'LP001637', 'LP001639',\n",
       "       'LP001640', 'LP001641', 'LP001643', 'LP001644', 'LP001647',\n",
       "       'LP001653', 'LP001656', 'LP001657', 'LP001658', 'LP001664',\n",
       "       'LP001665', 'LP001666', 'LP001669', 'LP001671', 'LP001673',\n",
       "       'LP001674', 'LP001677', 'LP001682', 'LP001688', 'LP001691',\n",
       "       'LP001692', 'LP001693', 'LP001698', 'LP001699', 'LP001702',\n",
       "       'LP001708', 'LP001711', 'LP001713', 'LP001715', 'LP001716',\n",
       "       'LP001720', 'LP001722', 'LP001726', 'LP001732', 'LP001734',\n",
       "       'LP001736', 'LP001743', 'LP001744', 'LP001749', 'LP001750',\n",
       "       'LP001751', 'LP001754', 'LP001758', 'LP001760', 'LP001761',\n",
       "       'LP001765', 'LP001768', 'LP001770', 'LP001776', 'LP001778',\n",
       "       'LP001784', 'LP001786', 'LP001788', 'LP001790', 'LP001792',\n",
       "       'LP001798', 'LP001800', 'LP001806', 'LP001807', 'LP001811',\n",
       "       'LP001813', 'LP001814', 'LP001819', 'LP001824', 'LP001825',\n",
       "       'LP001835', 'LP001836', 'LP001841', 'LP001843', 'LP001844',\n",
       "       'LP001846', 'LP001849', 'LP001854', 'LP001859', 'LP001864',\n",
       "       'LP001865', 'LP001868', 'LP001870', 'LP001871', 'LP001872',\n",
       "       'LP001875', 'LP001877', 'LP001882', 'LP001883', 'LP001884',\n",
       "       'LP001888', 'LP001891', 'LP001892', 'LP001894', 'LP001896',\n",
       "       'LP001900', 'LP001903', 'LP001904', 'LP001907', 'LP001908',\n",
       "       'LP001910', 'LP001914', 'LP001915', 'LP001917', 'LP001922',\n",
       "       'LP001924', 'LP001925', 'LP001926', 'LP001931', 'LP001935',\n",
       "       'LP001936', 'LP001938', 'LP001940', 'LP001945', 'LP001947',\n",
       "       'LP001949', 'LP001953', 'LP001954', 'LP001955', 'LP001963',\n",
       "       'LP001964', 'LP001972', 'LP001974', 'LP001977', 'LP001978',\n",
       "       'LP001990', 'LP001993', 'LP001994', 'LP001996', 'LP001998',\n",
       "       'LP002002', 'LP002004', 'LP002006', 'LP002008', 'LP002024',\n",
       "       'LP002031', 'LP002035', 'LP002036', 'LP002043', 'LP002050',\n",
       "       'LP002051', 'LP002053', 'LP002054', 'LP002055', 'LP002065',\n",
       "       'LP002067', 'LP002068', 'LP002082', 'LP002086', 'LP002087',\n",
       "       'LP002097', 'LP002098', 'LP002100', 'LP002101', 'LP002103',\n",
       "       'LP002106', 'LP002110', 'LP002112', 'LP002113', 'LP002114',\n",
       "       'LP002115', 'LP002116', 'LP002119', 'LP002126', 'LP002128',\n",
       "       'LP002129', 'LP002130', 'LP002131', 'LP002137', 'LP002138',\n",
       "       'LP002139', 'LP002140', 'LP002141', 'LP002142', 'LP002143',\n",
       "       'LP002144', 'LP002149', 'LP002151', 'LP002158', 'LP002160',\n",
       "       'LP002161', 'LP002170', 'LP002175', 'LP002178', 'LP002180',\n",
       "       'LP002181', 'LP002187', 'LP002188', 'LP002190', 'LP002191',\n",
       "       'LP002194', 'LP002197', 'LP002201', 'LP002205', 'LP002209',\n",
       "       'LP002211', 'LP002219', 'LP002223', 'LP002224', 'LP002225',\n",
       "       'LP002226', 'LP002229', 'LP002231', 'LP002234', 'LP002236',\n",
       "       'LP002237', 'LP002239', 'LP002243', 'LP002244', 'LP002250',\n",
       "       'LP002255', 'LP002262', 'LP002263', 'LP002265', 'LP002266',\n",
       "       'LP002272', 'LP002277', 'LP002281', 'LP002284', 'LP002287',\n",
       "       'LP002288', 'LP002296', 'LP002297', 'LP002300', 'LP002301',\n",
       "       'LP002305', 'LP002308', 'LP002314', 'LP002315', 'LP002317',\n",
       "       'LP002318', 'LP002319', 'LP002328', 'LP002332', 'LP002335',\n",
       "       'LP002337', 'LP002341', 'LP002342', 'LP002345', 'LP002347',\n",
       "       'LP002348', 'LP002357', 'LP002361', 'LP002362', 'LP002364',\n",
       "       'LP002366', 'LP002367', 'LP002368', 'LP002369', 'LP002370',\n",
       "       'LP002377', 'LP002379', 'LP002386', 'LP002387', 'LP002390',\n",
       "       'LP002393', 'LP002398', 'LP002401', 'LP002403', 'LP002407',\n",
       "       'LP002408', 'LP002409', 'LP002418', 'LP002422', 'LP002424',\n",
       "       'LP002429', 'LP002434', 'LP002435', 'LP002443', 'LP002444',\n",
       "       'LP002446', 'LP002447', 'LP002448', 'LP002449', 'LP002453',\n",
       "       'LP002455', 'LP002459', 'LP002467', 'LP002472', 'LP002473',\n",
       "       'LP002478', 'LP002484', 'LP002487', 'LP002489', 'LP002493',\n",
       "       'LP002494', 'LP002500', 'LP002501', 'LP002502', 'LP002505',\n",
       "       'LP002515', 'LP002517', 'LP002519', 'LP002522', 'LP002524',\n",
       "       'LP002527', 'LP002529', 'LP002530', 'LP002531', 'LP002533',\n",
       "       'LP002534', 'LP002536', 'LP002537', 'LP002541', 'LP002543',\n",
       "       'LP002544', 'LP002545', 'LP002547', 'LP002555', 'LP002556',\n",
       "       'LP002560', 'LP002562', 'LP002571', 'LP002582', 'LP002585',\n",
       "       'LP002586', 'LP002587', 'LP002588', 'LP002600', 'LP002602',\n",
       "       'LP002603', 'LP002606', 'LP002615', 'LP002618', 'LP002619',\n",
       "       'LP002622', 'LP002624', 'LP002625', 'LP002626', 'LP002634',\n",
       "       'LP002637', 'LP002640', 'LP002643', 'LP002648', 'LP002652',\n",
       "       'LP002659', 'LP002670', 'LP002682', 'LP002683', 'LP002684',\n",
       "       'LP002689', 'LP002690', 'LP002692', 'LP002693', 'LP002697',\n",
       "       'LP002699', 'LP002705', 'LP002706', 'LP002714', 'LP002716',\n",
       "       'LP002717', 'LP002720', 'LP002723', 'LP002729', 'LP002731',\n",
       "       'LP002732', 'LP002734', 'LP002738', 'LP002739', 'LP002740',\n",
       "       'LP002741', 'LP002743', 'LP002753', 'LP002755', 'LP002757',\n",
       "       'LP002767', 'LP002768', 'LP002772', 'LP002776', 'LP002777',\n",
       "       'LP002778', 'LP002784', 'LP002785', 'LP002788', 'LP002789',\n",
       "       'LP002792', 'LP002794', 'LP002795', 'LP002798', 'LP002804',\n",
       "       'LP002807', 'LP002813', 'LP002820', 'LP002821', 'LP002832',\n",
       "       'LP002833', 'LP002836', 'LP002837', 'LP002840', 'LP002841',\n",
       "       'LP002842', 'LP002847', 'LP002855', 'LP002862', 'LP002863',\n",
       "       'LP002868', 'LP002872', 'LP002874', 'LP002877', 'LP002888',\n",
       "       'LP002892', 'LP002893', 'LP002894', 'LP002898', 'LP002911',\n",
       "       'LP002912', 'LP002916', 'LP002917', 'LP002925', 'LP002926',\n",
       "       'LP002928', 'LP002931', 'LP002933', 'LP002936', 'LP002938',\n",
       "       'LP002940', 'LP002941', 'LP002943', 'LP002945', 'LP002948',\n",
       "       'LP002949', 'LP002950', 'LP002953', 'LP002958', 'LP002959',\n",
       "       'LP002960', 'LP002961', 'LP002964', 'LP002974', 'LP002978',\n",
       "       'LP002979', 'LP002983', 'LP002984', 'LP002990'], dtype=object)"
      ]
     },
     "execution_count": 11,
     "metadata": {},
     "output_type": "execute_result"
    }
   ],
   "source": [
    "df['Loan_ID'].unique() #check the unique values"
   ]
  },
  {
   "cell_type": "code",
   "execution_count": 12,
   "id": "bc3ea832",
   "metadata": {},
   "outputs": [
    {
     "data": {
      "text/plain": [
       "LP002446    1\n",
       "LP001266    1\n",
       "LP001734    1\n",
       "LP001032    1\n",
       "LP002178    1\n",
       "           ..\n",
       "LP001945    1\n",
       "LP002342    1\n",
       "LP001713    1\n",
       "LP002933    1\n",
       "LP002225    1\n",
       "Name: Loan_ID, Length: 614, dtype: int64"
      ]
     },
     "execution_count": 12,
     "metadata": {},
     "output_type": "execute_result"
    }
   ],
   "source": [
    "df['Loan_ID'].value_counts()#check the counts of unique values"
   ]
  },
  {
   "cell_type": "code",
   "execution_count": 13,
   "id": "87dcd8be",
   "metadata": {},
   "outputs": [
    {
     "data": {
      "text/plain": [
       "0"
      ]
     },
     "execution_count": 13,
     "metadata": {},
     "output_type": "execute_result"
    }
   ],
   "source": [
    "df['Loan_ID'].duplicated().sum()#check the duplicate values in our column"
   ]
  },
  {
   "cell_type": "code",
   "execution_count": 14,
   "id": "8bbf4dac",
   "metadata": {},
   "outputs": [
    {
     "data": {
      "text/plain": [
       "0"
      ]
     },
     "execution_count": 14,
     "metadata": {},
     "output_type": "execute_result"
    }
   ],
   "source": [
    "df['Loan_ID'].isnull().sum()#check the null values "
   ]
  },
  {
   "cell_type": "code",
   "execution_count": 15,
   "id": "ac14c3d5",
   "metadata": {},
   "outputs": [],
   "source": [
    "lab_enc = LabelEncoder() #using Label Encoder to transform our column data\n",
    "df['Loan_ID'] = pd.Series(lab_enc.fit_transform(df['Loan_ID']))"
   ]
  },
  {
   "cell_type": "code",
   "execution_count": 16,
   "id": "467b1fc5",
   "metadata": {},
   "outputs": [
    {
     "data": {
      "text/plain": [
       "array([  0,   1,   2,   3,   4,   5,   6,   7,   8,   9,  10,  11,  12,\n",
       "        13,  14,  15,  16,  17,  18,  19,  20,  21,  22,  23,  24,  25,\n",
       "        26,  27,  28,  29,  30,  31,  32,  33,  34,  35,  36,  37,  38,\n",
       "        39,  40,  41,  42,  43,  44,  45,  46,  47,  48,  49,  50,  51,\n",
       "        52,  53,  54,  55,  56,  57,  58,  59,  60,  61,  62,  63,  64,\n",
       "        65,  66,  67,  68,  69,  70,  71,  72,  73,  74,  75,  76,  77,\n",
       "        78,  79,  80,  81,  82,  83,  84,  85,  86,  87,  88,  89,  90,\n",
       "        91,  92,  93,  94,  95,  96,  97,  98,  99, 100, 101, 102, 103,\n",
       "       104, 105, 106, 107, 108, 109, 110, 111, 112, 113, 114, 115, 116,\n",
       "       117, 118, 119, 120, 121, 122, 123, 124, 125, 126, 127, 128, 129,\n",
       "       130, 131, 132, 133, 134, 135, 136, 137, 138, 139, 140, 141, 142,\n",
       "       143, 144, 145, 146, 147, 148, 149, 150, 151, 152, 153, 154, 155,\n",
       "       156, 157, 158, 159, 160, 161, 162, 163, 164, 165, 166, 167, 168,\n",
       "       169, 170, 171, 172, 173, 174, 175, 176, 177, 178, 179, 180, 181,\n",
       "       182, 183, 184, 185, 186, 187, 188, 189, 190, 191, 192, 193, 194,\n",
       "       195, 196, 197, 198, 199, 200, 201, 202, 203, 204, 205, 206, 207,\n",
       "       208, 209, 210, 211, 212, 213, 214, 215, 216, 217, 218, 219, 220,\n",
       "       221, 222, 223, 224, 225, 226, 227, 228, 229, 230, 231, 232, 233,\n",
       "       234, 235, 236, 237, 238, 239, 240, 241, 242, 243, 244, 245, 246,\n",
       "       247, 248, 249, 250, 251, 252, 253, 254, 255, 256, 257, 258, 259,\n",
       "       260, 261, 262, 263, 264, 265, 266, 267, 268, 269, 270, 271, 272,\n",
       "       273, 274, 275, 276, 277, 278, 279, 280, 281, 282, 283, 284, 285,\n",
       "       286, 287, 288, 289, 290, 291, 292, 293, 294, 295, 296, 297, 298,\n",
       "       299, 300, 301, 302, 303, 304, 305, 306, 307, 308, 309, 310, 311,\n",
       "       312, 313, 314, 315, 316, 317, 318, 319, 320, 321, 322, 323, 324,\n",
       "       325, 326, 327, 328, 329, 330, 331, 332, 333, 334, 335, 336, 337,\n",
       "       338, 339, 340, 341, 342, 343, 344, 345, 346, 347, 348, 349, 350,\n",
       "       351, 352, 353, 354, 355, 356, 357, 358, 359, 360, 361, 362, 363,\n",
       "       364, 365, 366, 367, 368, 369, 370, 371, 372, 373, 374, 375, 376,\n",
       "       377, 378, 379, 380, 381, 382, 383, 384, 385, 386, 387, 388, 389,\n",
       "       390, 391, 392, 393, 394, 395, 396, 397, 398, 399, 400, 401, 402,\n",
       "       403, 404, 405, 406, 407, 408, 409, 410, 411, 412, 413, 414, 415,\n",
       "       416, 417, 418, 419, 420, 421, 422, 423, 424, 425, 426, 427, 428,\n",
       "       429, 430, 431, 432, 433, 434, 435, 436, 437, 438, 439, 440, 441,\n",
       "       442, 443, 444, 445, 446, 447, 448, 449, 450, 451, 452, 453, 454,\n",
       "       455, 456, 457, 458, 459, 460, 461, 462, 463, 464, 465, 466, 467,\n",
       "       468, 469, 470, 471, 472, 473, 474, 475, 476, 477, 478, 479, 480,\n",
       "       481, 482, 483, 484, 485, 486, 487, 488, 489, 490, 491, 492, 493,\n",
       "       494, 495, 496, 497, 498, 499, 500, 501, 502, 503, 504, 505, 506,\n",
       "       507, 508, 509, 510, 511, 512, 513, 514, 515, 516, 517, 518, 519,\n",
       "       520, 521, 522, 523, 524, 525, 526, 527, 528, 529, 530, 531, 532,\n",
       "       533, 534, 535, 536, 537, 538, 539, 540, 541, 542, 543, 544, 545,\n",
       "       546, 547, 548, 549, 550, 551, 552, 553, 554, 555, 556, 557, 558,\n",
       "       559, 560, 561, 562, 563, 564, 565, 566, 567, 568, 569, 570, 571,\n",
       "       572, 573, 574, 575, 576, 577, 578, 579, 580, 581, 582, 583, 584,\n",
       "       585, 586, 587, 588, 589, 590, 591, 592, 593, 594, 595, 596, 597,\n",
       "       598, 599, 600, 601, 602, 603, 604, 605, 606, 607, 608, 609, 610,\n",
       "       611, 612, 613])"
      ]
     },
     "execution_count": 16,
     "metadata": {},
     "output_type": "execute_result"
    }
   ],
   "source": [
    "df['Loan_ID'].unique() #check the unique values now"
   ]
  },
  {
   "cell_type": "code",
   "execution_count": 17,
   "id": "4ad5b02b",
   "metadata": {},
   "outputs": [
    {
     "name": "stdout",
     "output_type": "stream",
     "text": [
      "Actual shape of our Dataset now :--------> (614, 13)\n"
     ]
    }
   ],
   "source": [
    "#check the updated shape of our dataset\n",
    "print('Actual shape of our Dataset now :-------->', df.shape)"
   ]
  },
  {
   "cell_type": "markdown",
   "id": "63362b6b",
   "metadata": {},
   "source": [
    "# Column2: Gender"
   ]
  },
  {
   "cell_type": "code",
   "execution_count": 18,
   "id": "a8e3d6c8",
   "metadata": {},
   "outputs": [
    {
     "data": {
      "text/plain": [
       "array(['Male', 'Female', nan], dtype=object)"
      ]
     },
     "execution_count": 18,
     "metadata": {},
     "output_type": "execute_result"
    }
   ],
   "source": [
    "df['Gender'].unique()#check the unique values"
   ]
  },
  {
   "cell_type": "code",
   "execution_count": 19,
   "id": "50ede172",
   "metadata": {},
   "outputs": [
    {
     "data": {
      "text/plain": [
       "Male      489\n",
       "Female    112\n",
       "Name: Gender, dtype: int64"
      ]
     },
     "execution_count": 19,
     "metadata": {},
     "output_type": "execute_result"
    }
   ],
   "source": [
    "df['Gender'].value_counts()#check the counts of unique values"
   ]
  },
  {
   "cell_type": "code",
   "execution_count": 20,
   "id": "b5497253",
   "metadata": {},
   "outputs": [
    {
     "data": {
      "text/plain": [
       "13"
      ]
     },
     "execution_count": 20,
     "metadata": {},
     "output_type": "execute_result"
    }
   ],
   "source": [
    "df['Gender'].isnull().sum()#check the null values "
   ]
  },
  {
   "cell_type": "code",
   "execution_count": 21,
   "id": "a412b2c7",
   "metadata": {},
   "outputs": [],
   "source": [
    "df.dropna(subset=[\"Gender\"], inplace=True) #drop the null values"
   ]
  },
  {
   "cell_type": "code",
   "execution_count": 22,
   "id": "b8763db0",
   "metadata": {},
   "outputs": [
    {
     "data": {
      "text/plain": [
       "0"
      ]
     },
     "execution_count": 22,
     "metadata": {},
     "output_type": "execute_result"
    }
   ],
   "source": [
    "df['Gender'].isnull().sum()#check the null values "
   ]
  },
  {
   "cell_type": "code",
   "execution_count": 23,
   "id": "5284acfa",
   "metadata": {},
   "outputs": [
    {
     "data": {
      "text/plain": [
       "Male      489\n",
       "Female    112\n",
       "Name: Gender, dtype: int64"
      ]
     },
     "execution_count": 23,
     "metadata": {},
     "output_type": "execute_result"
    }
   ],
   "source": [
    "df['Gender'].value_counts()#check the counts of unique values"
   ]
  },
  {
   "cell_type": "code",
   "execution_count": 24,
   "id": "d38d483b",
   "metadata": {},
   "outputs": [],
   "source": [
    "gender = ['Male', 'Female']\n",
    "values= [489,112] #making dataframes"
   ]
  },
  {
   "cell_type": "code",
   "execution_count": 25,
   "id": "a5156bb0",
   "metadata": {},
   "outputs": [
    {
     "data": {
      "image/png": "[encoded data removed]",
      "text/plain": [
       "<Figure size 432x288 with 1 Axes>"
      ]
     },
     "metadata": {},
     "output_type": "display_data"
    }
   ],
   "source": [
    "plt.pie(values, labels = gender, autopct = '%.2f')\n",
    "plt.show() #visualize by pieplot"
   ]
  },
  {
   "cell_type": "code",
   "execution_count": 26,
   "id": "cef2682b",
   "metadata": {},
   "outputs": [
    {
     "data": {
      "text/plain": [
       "Gender  Loan_Status\n",
       "Female  Y              0.669643\n",
       "        N              0.330357\n",
       "Male    Y              0.693252\n",
       "        N              0.306748\n",
       "Name: Loan_Status, dtype: float64"
      ]
     },
     "execution_count": 26,
     "metadata": {},
     "output_type": "execute_result"
    }
   ],
   "source": [
    "df.groupby('Gender')['Loan_Status'].value_counts(normalize = True)\n",
    "#Checking the relationship between gender and loan_Status"
   ]
  },
  {
   "cell_type": "code",
   "execution_count": 27,
   "id": "5d366081",
   "metadata": {},
   "outputs": [
    {
     "data": {
      "text/plain": [
       "Gender  Married\n",
       "Female  No         0.720721\n",
       "        Yes        0.279279\n",
       "Male    Yes        0.733060\n",
       "        No         0.266940\n",
       "Name: Married, dtype: float64"
      ]
     },
     "execution_count": 27,
     "metadata": {},
     "output_type": "execute_result"
    }
   ],
   "source": [
    "df.groupby('Gender')['Married'].value_counts(normalize = True)\n",
    "#Checking the relationship between gender and Married"
   ]
  },
  {
   "cell_type": "code",
   "execution_count": 28,
   "id": "a7a86633",
   "metadata": {},
   "outputs": [
    {
     "data": {
      "text/plain": [
       "Gender  Education   \n",
       "Female  Graduate        0.821429\n",
       "        Not Graduate    0.178571\n",
       "Male    Graduate        0.768916\n",
       "        Not Graduate    0.231084\n",
       "Name: Education, dtype: float64"
      ]
     },
     "execution_count": 28,
     "metadata": {},
     "output_type": "execute_result"
    }
   ],
   "source": [
    "df.groupby('Gender')['Education'].value_counts(normalize = True)\n",
    "#Checking the relationship between gender and Education"
   ]
  },
  {
   "cell_type": "code",
   "execution_count": 29,
   "id": "32efe41c",
   "metadata": {},
   "outputs": [
    {
     "data": {
      "text/plain": [
       "Gender  Self_Employed\n",
       "Female  No               0.855769\n",
       "        Yes              0.144231\n",
       "Male    No               0.864516\n",
       "        Yes              0.135484\n",
       "Name: Self_Employed, dtype: float64"
      ]
     },
     "execution_count": 29,
     "metadata": {},
     "output_type": "execute_result"
    }
   ],
   "source": [
    "df.groupby('Gender')['Self_Employed'].value_counts(normalize = True)\n",
    "#Checking the relationship between gender and Self_Employed"
   ]
  },
  {
   "cell_type": "code",
   "execution_count": 30,
   "id": "0a5339b7",
   "metadata": {},
   "outputs": [
    {
     "data": {
      "text/plain": [
       "Gender  Property_Area\n",
       "Female  Semiurban        0.491071\n",
       "        Urban            0.294643\n",
       "        Rural            0.214286\n",
       "Male    Semiurban        0.351738\n",
       "        Urban            0.339468\n",
       "        Rural            0.308793\n",
       "Name: Property_Area, dtype: float64"
      ]
     },
     "execution_count": 30,
     "metadata": {},
     "output_type": "execute_result"
    }
   ],
   "source": [
    "df.groupby('Gender')['Property_Area'].value_counts(normalize = True)\n",
    "#Checking the relationship between gender and Property_Area"
   ]
  },
  {
   "cell_type": "markdown",
   "id": "15a58660",
   "metadata": {},
   "source": [
    "Observation:\n",
    "1. Null values are found and treated\n",
    "2. No zero values are found\n",
    "3. Approx 81% are Males and 18% are females\n",
    "4. Approx 66% Females Loan status is Yes and 69% for Males\n",
    "5. More numbers of Females are not Married and Maximum males are married:- Females: 72.07, males: 73.3\n",
    "6. More numbers of Males and Females are Graduated:- Females: 82.1, Males: 76.89\n",
    "7. More numbers of Males and Females are not Self_Employed:- Females: 85.5, Males: 86.45 \n",
    "8. More numbers of peoples are from Semiurban:- Females: 49%, Males: 35%"
   ]
  },
  {
   "cell_type": "code",
   "execution_count": 31,
   "id": "4e185348",
   "metadata": {},
   "outputs": [
    {
     "name": "stdout",
     "output_type": "stream",
     "text": [
      "Actual shape of our Dataset now :--------> (601, 13)\n"
     ]
    }
   ],
   "source": [
    "#check the updated shape of our dataset\n",
    "print('Actual shape of our Dataset now :-------->', df.shape)"
   ]
  },
  {
   "cell_type": "markdown",
   "id": "944734e4",
   "metadata": {},
   "source": [
    "# Column3: Married"
   ]
  },
  {
   "cell_type": "code",
   "execution_count": 32,
   "id": "80d34d7a",
   "metadata": {},
   "outputs": [
    {
     "data": {
      "text/plain": [
       "array(['No', 'Yes', nan], dtype=object)"
      ]
     },
     "execution_count": 32,
     "metadata": {},
     "output_type": "execute_result"
    }
   ],
   "source": [
    "df['Married'].unique()#check the unique values"
   ]
  },
  {
   "cell_type": "code",
   "execution_count": 33,
   "id": "91ba1d07",
   "metadata": {},
   "outputs": [
    {
     "data": {
      "text/plain": [
       "Yes    388\n",
       "No     210\n",
       "Name: Married, dtype: int64"
      ]
     },
     "execution_count": 33,
     "metadata": {},
     "output_type": "execute_result"
    }
   ],
   "source": [
    "df['Married'].value_counts()#check the counts of unique values"
   ]
  },
  {
   "cell_type": "code",
   "execution_count": 34,
   "id": "b1c73872",
   "metadata": {},
   "outputs": [
    {
     "data": {
      "text/plain": [
       "3"
      ]
     },
     "execution_count": 34,
     "metadata": {},
     "output_type": "execute_result"
    }
   ],
   "source": [
    "df['Married'].isnull().sum()#check the null values "
   ]
  },
  {
   "cell_type": "code",
   "execution_count": 35,
   "id": "0f1d164e",
   "metadata": {},
   "outputs": [],
   "source": [
    "df.dropna(subset=[\"Married\"], inplace=True) #drop the null values"
   ]
  },
  {
   "cell_type": "code",
   "execution_count": 36,
   "id": "722da28b",
   "metadata": {},
   "outputs": [
    {
     "data": {
      "text/plain": [
       "0"
      ]
     },
     "execution_count": 36,
     "metadata": {},
     "output_type": "execute_result"
    }
   ],
   "source": [
    "df['Married'].isnull().sum()#check the null values "
   ]
  },
  {
   "cell_type": "code",
   "execution_count": 37,
   "id": "a13f2948",
   "metadata": {},
   "outputs": [
    {
     "data": {
      "text/plain": [
       "array(['No', 'Yes'], dtype=object)"
      ]
     },
     "execution_count": 37,
     "metadata": {},
     "output_type": "execute_result"
    }
   ],
   "source": [
    "df['Married'].unique()#check the unique values"
   ]
  },
  {
   "cell_type": "code",
   "execution_count": 38,
   "id": "1c255d18",
   "metadata": {},
   "outputs": [],
   "source": [
    "marry = ['Yes', 'No']\n",
    "values= [388,210] #making dataframes"
   ]
  },
  {
   "cell_type": "code",
   "execution_count": 39,
   "id": "8471a542",
   "metadata": {},
   "outputs": [
    {
     "data": {
      "image/png": "[encoded data removed]",
      "text/plain": [
       "<Figure size 432x288 with 1 Axes>"
      ]
     },
     "metadata": {},
     "output_type": "display_data"
    }
   ],
   "source": [
    "plt.pie(values, labels = marry, autopct = '%.2f')\n",
    "plt.show() #visualize by pieplot"
   ]
  },
  {
   "cell_type": "code",
   "execution_count": 40,
   "id": "914cde9a",
   "metadata": {},
   "outputs": [
    {
     "data": {
      "text/plain": [
       "Married  Loan_Status\n",
       "No       Y              0.628571\n",
       "         N              0.371429\n",
       "Yes      Y              0.719072\n",
       "         N              0.280928\n",
       "Name: Loan_Status, dtype: float64"
      ]
     },
     "execution_count": 40,
     "metadata": {},
     "output_type": "execute_result"
    }
   ],
   "source": [
    "df.groupby('Married')['Loan_Status'].value_counts(normalize = True)\n",
    "#Checking the relationship between Married and loan_Status"
   ]
  },
  {
   "cell_type": "code",
   "execution_count": 41,
   "id": "77f627ed",
   "metadata": {},
   "outputs": [
    {
     "data": {
      "text/plain": [
       "Married  Education   \n",
       "No       Graduate        0.785714\n",
       "         Not Graduate    0.214286\n",
       "Yes      Graduate        0.773196\n",
       "         Not Graduate    0.226804\n",
       "Name: Education, dtype: float64"
      ]
     },
     "execution_count": 41,
     "metadata": {},
     "output_type": "execute_result"
    }
   ],
   "source": [
    "df.groupby('Married')['Education'].value_counts(normalize = True)\n",
    "#Checking the relationship between Married and Education"
   ]
  },
  {
   "cell_type": "code",
   "execution_count": 42,
   "id": "70b996aa",
   "metadata": {},
   "outputs": [
    {
     "data": {
      "text/plain": [
       "Married  Self_Employed\n",
       "No       No               0.862245\n",
       "         Yes              0.137755\n",
       "Yes      No               0.862162\n",
       "         Yes              0.137838\n",
       "Name: Self_Employed, dtype: float64"
      ]
     },
     "execution_count": 42,
     "metadata": {},
     "output_type": "execute_result"
    }
   ],
   "source": [
    "df.groupby('Married')['Self_Employed'].value_counts(normalize = True)\n",
    "#Checking the relationship between Married and Self_Employed"
   ]
  },
  {
   "cell_type": "code",
   "execution_count": 43,
   "id": "21d8ee1c",
   "metadata": {},
   "outputs": [
    {
     "data": {
      "text/plain": [
       "Married  Property_Area\n",
       "No       Semiurban        0.371429\n",
       "         Urban            0.328571\n",
       "         Rural            0.300000\n",
       "Yes      Semiurban        0.378866\n",
       "         Urban            0.332474\n",
       "         Rural            0.288660\n",
       "Name: Property_Area, dtype: float64"
      ]
     },
     "execution_count": 43,
     "metadata": {},
     "output_type": "execute_result"
    }
   ],
   "source": [
    "df.groupby('Married')['Property_Area'].value_counts(normalize = True)\n",
    "#Checking the relationship between Married and Property_Area"
   ]
  },
  {
   "cell_type": "markdown",
   "id": "d927972a",
   "metadata": {},
   "source": [
    "Observation:\n",
    "1. Null values are found and treated\n",
    "2. No zero values are found\n",
    "3. Approx 64% are Married and 35.12% are unmarried\n",
    "4. Approx 66% Females Loan status is Yes and 69% for Males\n",
    "5. More Numbers of Married people Loan Status is Yes\n",
    "6. More numbers of Married and unmarried are Graduated:- Unmarried: 78.5, Married: 77.3\n",
    "7. More numbers of Married and unmarried are not Self_Employed:- Females: 86.2, Males: 86.2 \n",
    "8. More numbers of peoples are from Semiurban:- Married: 37%, umarried: 37%"
   ]
  },
  {
   "cell_type": "code",
   "execution_count": 44,
   "id": "05814200",
   "metadata": {},
   "outputs": [
    {
     "name": "stdout",
     "output_type": "stream",
     "text": [
      "Actual shape of our Dataset now :--------> (598, 13)\n"
     ]
    }
   ],
   "source": [
    "#check the updated shape of our dataset\n",
    "print('Actual shape of our Dataset now :-------->', df.shape)"
   ]
  },
  {
   "cell_type": "markdown",
   "id": "4491deaf",
   "metadata": {},
   "source": [
    "# Column4: Dependents"
   ]
  },
  {
   "cell_type": "code",
   "execution_count": 45,
   "id": "a0fcb90b",
   "metadata": {},
   "outputs": [
    {
     "data": {
      "text/plain": [
       "array(['0', '1', '2', '3+', nan], dtype=object)"
      ]
     },
     "execution_count": 45,
     "metadata": {},
     "output_type": "execute_result"
    }
   ],
   "source": [
    "df['Dependents'].unique()#check the unique values"
   ]
  },
  {
   "cell_type": "code",
   "execution_count": 46,
   "id": "1e7637e5",
   "metadata": {},
   "outputs": [
    {
     "data": {
      "text/plain": [
       "0     338\n",
       "1     101\n",
       "2      99\n",
       "3+     48\n",
       "Name: Dependents, dtype: int64"
      ]
     },
     "execution_count": 46,
     "metadata": {},
     "output_type": "execute_result"
    }
   ],
   "source": [
    "df['Dependents'].value_counts()#check the counts of unique values"
   ]
  },
  {
   "cell_type": "code",
   "execution_count": 47,
   "id": "ca7e5bb4",
   "metadata": {},
   "outputs": [
    {
     "data": {
      "text/plain": [
       "12"
      ]
     },
     "execution_count": 47,
     "metadata": {},
     "output_type": "execute_result"
    }
   ],
   "source": [
    "df['Dependents'].isnull().sum()#check the null values "
   ]
  },
  {
   "cell_type": "code",
   "execution_count": 48,
   "id": "7c8e8ee4",
   "metadata": {},
   "outputs": [],
   "source": [
    "df.dropna(subset=[\"Dependents\"], inplace=True) #drop the null values"
   ]
  },
  {
   "cell_type": "code",
   "execution_count": 49,
   "id": "898e302d",
   "metadata": {},
   "outputs": [
    {
     "data": {
      "text/plain": [
       "0"
      ]
     },
     "execution_count": 49,
     "metadata": {},
     "output_type": "execute_result"
    }
   ],
   "source": [
    "df['Dependents'].isnull().sum()#check the null values "
   ]
  },
  {
   "cell_type": "code",
   "execution_count": 50,
   "id": "4649a7d1",
   "metadata": {},
   "outputs": [
    {
     "data": {
      "text/plain": [
       "array(['0', '1', '2', '3+'], dtype=object)"
      ]
     },
     "execution_count": 50,
     "metadata": {},
     "output_type": "execute_result"
    }
   ],
   "source": [
    "df['Dependents'].unique()#check the unique values"
   ]
  },
  {
   "cell_type": "code",
   "execution_count": 51,
   "id": "17dcfd8f",
   "metadata": {},
   "outputs": [],
   "source": [
    "df['Dependents'] = df['Dependents'].replace('3+','3') #replace 3+ by 3"
   ]
  },
  {
   "cell_type": "code",
   "execution_count": 52,
   "id": "fc48c33e",
   "metadata": {},
   "outputs": [
    {
     "data": {
      "text/plain": [
       "array(['0', '1', '2', '3'], dtype=object)"
      ]
     },
     "execution_count": 52,
     "metadata": {},
     "output_type": "execute_result"
    }
   ],
   "source": [
    "df['Dependents'].unique()#check the unique values"
   ]
  },
  {
   "cell_type": "code",
   "execution_count": 53,
   "id": "0ac57996",
   "metadata": {},
   "outputs": [
    {
     "data": {
      "text/plain": [
       "Text(0, 0.5, 'Counts')"
      ]
     },
     "execution_count": 53,
     "metadata": {},
     "output_type": "execute_result"
    },
    {
     "data": {
      "image/png": "[encoded data removed]",
      "text/plain": [
       "<Figure size 360x216 with 1 Axes>"
      ]
     },
     "metadata": {
      "needs_background": "light"
     },
     "output_type": "display_data"
    }
   ],
   "source": [
    "#visualize this column by Countplot\n",
    "plt.figure(figsize =(5,3))\n",
    "sns.countplot(x = 'Dependents', data=df)\n",
    "plt.xlabel('Dependents', fontsize = 14)\n",
    "plt.ylabel('Counts', fontsize = 14)"
   ]
  },
  {
   "cell_type": "code",
   "execution_count": 54,
   "id": "8e8314e8",
   "metadata": {},
   "outputs": [
    {
     "data": {
      "text/plain": [
       "Dependents  Loan_Status\n",
       "0           Y              0.692308\n",
       "            N              0.307692\n",
       "1           Y              0.643564\n",
       "            N              0.356436\n",
       "2           Y              0.767677\n",
       "            N              0.232323\n",
       "3           Y              0.625000\n",
       "            N              0.375000\n",
       "Name: Loan_Status, dtype: float64"
      ]
     },
     "execution_count": 54,
     "metadata": {},
     "output_type": "execute_result"
    }
   ],
   "source": [
    "df.groupby('Dependents')['Loan_Status'].value_counts(normalize = True)\n",
    "#Checking the relationship between Dependents and Loan_Status"
   ]
  },
  {
   "cell_type": "code",
   "execution_count": 55,
   "id": "d381ee97",
   "metadata": {},
   "outputs": [
    {
     "data": {
      "text/plain": [
       "Dependents  Gender\n",
       "0           Male      0.763314\n",
       "            Female    0.236686\n",
       "1           Male      0.811881\n",
       "            Female    0.188119\n",
       "2           Male      0.929293\n",
       "            Female    0.070707\n",
       "3           Male      0.937500\n",
       "            Female    0.062500\n",
       "Name: Gender, dtype: float64"
      ]
     },
     "execution_count": 55,
     "metadata": {},
     "output_type": "execute_result"
    }
   ],
   "source": [
    "df.groupby('Dependents')['Gender'].value_counts(normalize = True)\n",
    "#Checking the relationship between Dependents and Gender"
   ]
  },
  {
   "cell_type": "code",
   "execution_count": 56,
   "id": "8409d8d6",
   "metadata": {},
   "outputs": [
    {
     "data": {
      "text/plain": [
       "Dependents  Married\n",
       "0           No         0.500000\n",
       "            Yes        0.500000\n",
       "1           Yes        0.772277\n",
       "            No         0.227723\n",
       "2           Yes        0.919192\n",
       "            No         0.080808\n",
       "3           Yes        0.875000\n",
       "            No         0.125000\n",
       "Name: Married, dtype: float64"
      ]
     },
     "execution_count": 56,
     "metadata": {},
     "output_type": "execute_result"
    }
   ],
   "source": [
    "df.groupby('Dependents')['Married'].value_counts(normalize = True)\n",
    "#Checking the relationship between Dependents and Married"
   ]
  },
  {
   "cell_type": "markdown",
   "id": "c20ab690",
   "metadata": {},
   "source": [
    "Observation:\n",
    "1. Null Values are found\n",
    "2. Zero rating dependent is more than others\n",
    "3. All Dependents loan status is yes more than no\n",
    "4. All dependents ratings.  males are more than females\n",
    "5. 2 rating dependent, married peoples are more"
   ]
  },
  {
   "cell_type": "code",
   "execution_count": 57,
   "id": "dd80b46d",
   "metadata": {},
   "outputs": [
    {
     "name": "stdout",
     "output_type": "stream",
     "text": [
      "Actual shape of our Dataset now :--------> (586, 13)\n"
     ]
    }
   ],
   "source": [
    "#check the updated shape of our dataset\n",
    "print('Actual shape of our Dataset now :-------->', df.shape)"
   ]
  },
  {
   "cell_type": "markdown",
   "id": "9b88c14e",
   "metadata": {},
   "source": [
    "# Column5: Education"
   ]
  },
  {
   "cell_type": "code",
   "execution_count": 58,
   "id": "669d694a",
   "metadata": {},
   "outputs": [
    {
     "data": {
      "text/plain": [
       "array(['Graduate', 'Not Graduate'], dtype=object)"
      ]
     },
     "execution_count": 58,
     "metadata": {},
     "output_type": "execute_result"
    }
   ],
   "source": [
    "df['Education'].unique()#check the unique values"
   ]
  },
  {
   "cell_type": "code",
   "execution_count": 59,
   "id": "66109494",
   "metadata": {},
   "outputs": [
    {
     "data": {
      "text/plain": [
       "Graduate        0.779863\n",
       "Not Graduate    0.220137\n",
       "Name: Education, dtype: float64"
      ]
     },
     "execution_count": 59,
     "metadata": {},
     "output_type": "execute_result"
    }
   ],
   "source": [
    "df['Education'].value_counts(normalize = True)#check the counts of unique values"
   ]
  },
  {
   "cell_type": "code",
   "execution_count": 60,
   "id": "6352bb74",
   "metadata": {},
   "outputs": [
    {
     "data": {
      "text/plain": [
       "0"
      ]
     },
     "execution_count": 60,
     "metadata": {},
     "output_type": "execute_result"
    }
   ],
   "source": [
    "df['Education'].isnull().sum()#check the null values "
   ]
  },
  {
   "cell_type": "code",
   "execution_count": 61,
   "id": "f3a2b356",
   "metadata": {},
   "outputs": [
    {
     "data": {
      "text/plain": [
       "Text(0, 0.5, 'Counts')"
      ]
     },
     "execution_count": 61,
     "metadata": {},
     "output_type": "execute_result"
    },
    {
     "data": {
      "image/png": "[encoded data removed]",
      "text/plain": [
       "<Figure size 216x216 with 1 Axes>"
      ]
     },
     "metadata": {
      "needs_background": "light"
     },
     "output_type": "display_data"
    }
   ],
   "source": [
    "#visualize this column by Countplot\n",
    "plt.figure(figsize =(3,3))\n",
    "sns.countplot(x = 'Education', data=df)\n",
    "plt.xlabel('Education', fontsize = 14)\n",
    "plt.ylabel('Counts', fontsize = 14)"
   ]
  },
  {
   "cell_type": "code",
   "execution_count": 62,
   "id": "07e29e37",
   "metadata": {},
   "outputs": [
    {
     "data": {
      "text/plain": [
       "Education     Loan_Status\n",
       "Graduate      Y              0.708972\n",
       "              N              0.291028\n",
       "Not Graduate  Y              0.627907\n",
       "              N              0.372093\n",
       "Name: Loan_Status, dtype: float64"
      ]
     },
     "execution_count": 62,
     "metadata": {},
     "output_type": "execute_result"
    }
   ],
   "source": [
    "df.groupby('Education')['Loan_Status'].value_counts(normalize = True)\n",
    "#Checking the relationship between Education and Loan_Status"
   ]
  },
  {
   "cell_type": "markdown",
   "id": "798c811f",
   "metadata": {},
   "source": [
    "Observation:\n",
    "1. No Null values are found\n",
    "2. Graduate peoples are more than Ungraduate\n",
    "3. Loan status is 'YES' more for graduate people than ungraduate "
   ]
  },
  {
   "cell_type": "code",
   "execution_count": 63,
   "id": "4ebb8f6c",
   "metadata": {},
   "outputs": [
    {
     "name": "stdout",
     "output_type": "stream",
     "text": [
      "Actual shape of our Dataset now :--------> (586, 13)\n"
     ]
    }
   ],
   "source": [
    "#check the updated shape of our dataset\n",
    "print('Actual shape of our Dataset now :-------->', df.shape)"
   ]
  },
  {
   "cell_type": "markdown",
   "id": "ba872cec",
   "metadata": {},
   "source": [
    "# Column6: Self-Employed "
   ]
  },
  {
   "cell_type": "code",
   "execution_count": 64,
   "id": "f8fc1564",
   "metadata": {},
   "outputs": [
    {
     "data": {
      "text/plain": [
       "array(['No', 'Yes', nan], dtype=object)"
      ]
     },
     "execution_count": 64,
     "metadata": {},
     "output_type": "execute_result"
    }
   ],
   "source": [
    "df['Self_Employed'].unique()#check the unique values"
   ]
  },
  {
   "cell_type": "code",
   "execution_count": 65,
   "id": "3c295700",
   "metadata": {},
   "outputs": [
    {
     "data": {
      "text/plain": [
       "No     0.862816\n",
       "Yes    0.137184\n",
       "Name: Self_Employed, dtype: float64"
      ]
     },
     "execution_count": 65,
     "metadata": {},
     "output_type": "execute_result"
    }
   ],
   "source": [
    "df['Self_Employed'].value_counts(normalize = True)#check the counts of unique values"
   ]
  },
  {
   "cell_type": "code",
   "execution_count": 66,
   "id": "101817bf",
   "metadata": {},
   "outputs": [
    {
     "data": {
      "text/plain": [
       "32"
      ]
     },
     "execution_count": 66,
     "metadata": {},
     "output_type": "execute_result"
    }
   ],
   "source": [
    "df['Self_Employed'].isnull().sum()#check the null values "
   ]
  },
  {
   "cell_type": "code",
   "execution_count": 67,
   "id": "e89febeb",
   "metadata": {},
   "outputs": [],
   "source": [
    "df.dropna(subset=[\"Self_Employed\"], inplace=True) #drop the null values"
   ]
  },
  {
   "cell_type": "code",
   "execution_count": 68,
   "id": "fa5cf6e9",
   "metadata": {},
   "outputs": [
    {
     "data": {
      "text/plain": [
       "0"
      ]
     },
     "execution_count": 68,
     "metadata": {},
     "output_type": "execute_result"
    }
   ],
   "source": [
    "df['Self_Employed'].isnull().sum()#check the null values "
   ]
  },
  {
   "cell_type": "code",
   "execution_count": 69,
   "id": "73cb0e90",
   "metadata": {},
   "outputs": [
    {
     "data": {
      "text/plain": [
       "array(['No', 'Yes'], dtype=object)"
      ]
     },
     "execution_count": 69,
     "metadata": {},
     "output_type": "execute_result"
    }
   ],
   "source": [
    "df['Self_Employed'].unique()#check the unique values"
   ]
  },
  {
   "cell_type": "code",
   "execution_count": 70,
   "id": "aa64f304",
   "metadata": {},
   "outputs": [
    {
     "data": {
      "text/plain": [
       "Text(0, 0.5, 'Counts')"
      ]
     },
     "execution_count": 70,
     "metadata": {},
     "output_type": "execute_result"
    },
    {
     "data": {
      "image/png": "[encoded data removed]",
      "text/plain": [
       "<Figure size 216x216 with 1 Axes>"
      ]
     },
     "metadata": {
      "needs_background": "light"
     },
     "output_type": "display_data"
    }
   ],
   "source": [
    "#visualize this column by lineplot\n",
    "plt.figure(figsize =(3,3))\n",
    "sns.countplot(x = 'Self_Employed', data=df)\n",
    "plt.xlabel('Self_Employed', fontsize = 14)\n",
    "plt.ylabel('Counts', fontsize = 14)"
   ]
  },
  {
   "cell_type": "code",
   "execution_count": 71,
   "id": "5d39fe27",
   "metadata": {},
   "outputs": [
    {
     "data": {
      "text/plain": [
       "Self_Employed  Loan_Status\n",
       "No             Y              0.692469\n",
       "               N              0.307531\n",
       "Yes            Y              0.671053\n",
       "               N              0.328947\n",
       "Name: Loan_Status, dtype: float64"
      ]
     },
     "execution_count": 71,
     "metadata": {},
     "output_type": "execute_result"
    }
   ],
   "source": [
    "df.groupby('Self_Employed')['Loan_Status'].value_counts(normalize = True)\n",
    "#Checking the relationship between Self_Employed and Loan_Status"
   ]
  },
  {
   "cell_type": "markdown",
   "id": "5be2d735",
   "metadata": {},
   "source": [
    "Observation:\n",
    "1. Null values are found\n",
    "2. Most of the peoples are not self- employed\n",
    "3. Loan status 'YES' more for not self_employed "
   ]
  },
  {
   "cell_type": "code",
   "execution_count": 72,
   "id": "3b358393",
   "metadata": {},
   "outputs": [
    {
     "name": "stdout",
     "output_type": "stream",
     "text": [
      "Actual shape of our Dataset now :--------> (554, 13)\n"
     ]
    }
   ],
   "source": [
    "#check the updated shape of our dataset\n",
    "print('Actual shape of our Dataset now :-------->', df.shape)"
   ]
  },
  {
   "cell_type": "markdown",
   "id": "d8734376",
   "metadata": {},
   "source": [
    "# Column7: ApplicantIncome"
   ]
  },
  {
   "cell_type": "code",
   "execution_count": 73,
   "id": "6b27c833",
   "metadata": {},
   "outputs": [
    {
     "data": {
      "text/plain": [
       "array([ 5849,  4583,  3000,  2583,  6000,  5417,  2333,  3036,  4006,\n",
       "       12841,  3200,  3073,  1853,  1299,  4950,  3596,  3510,  4887,\n",
       "        7660,  5955,  2600,  9560,  2799,  4226,  1442,  3167,  4692,\n",
       "        3500, 12500,  2275,  1828,  3667,  4166,  3748,  3600,  1800,\n",
       "        2400,  3941,  4695,  3410,  5649,  5821,  2645,  4000,  1928,\n",
       "        3086,  4230,  4616, 11500,  2708,  2132,  3366,  8080,  3357,\n",
       "        2500,  3029,  2609,  4945,  5726, 10750,  7100,  4300,  3208,\n",
       "        1875,  4755,  5266,  3750,  1000,  3333,  3846,  2395,  1378,\n",
       "        3988,  2366,  8566,  5695,  2958,  6250,  3273,  4133,  3620,\n",
       "        2484,  1977,  4188,  1759,  4288,  4843,  4652,  3052, 11417,\n",
       "        3800,  2071,  5316,  3572,  7451, 14583,  2214,  5568, 10408,\n",
       "        2137,  2957,  3692,  3865, 10513,  6080, 20166,  2014,  2718,\n",
       "        3459,  4895,  3316, 14999,  4200,  5042,  6950,  2698, 11757,\n",
       "        2330, 14866,  1538, 10000,  4860,  6277,  2577,  9166,  2281,\n",
       "        3254, 39999,  9538,  1863,  7933,  3089,  4167,  9323,  3707,\n",
       "        2439,  2237,  8000,  3522,  5708,  4344,  3497,  2045,  5516,\n",
       "        6400,  1916,  4600, 33846,  3625, 39147,  2178,  2383,  9328,\n",
       "        4885, 12000,  6033,  3858,  4191,  3125,  8333,  1907,  3416,\n",
       "       11000,  4923,  3992,  3917,  4408,  3244,  3975,  2479,  3418,\n",
       "        3430,  7787,  5703,  3173,  3850,   150,  3727,  4283,  2221,\n",
       "        4009,  2971,  7578,  3250,  2491,  3189,  3155,  5500,  3463,\n",
       "        3812,  3315,  5819,  2510,  2965,  3406,  6050,  9703,  6608,\n",
       "        2882,  1809,  1668,  3427,  2661, 16250,  3083,  6045,  5250,\n",
       "       14683,  4931,  6083,  2060,  3481,  7200,  5166,  4095,  4708,\n",
       "        4333,  2876,  3237, 11146,  2833,  2620,  3900,  2750,  3993,\n",
       "        3103,  4100,  4053,  3927,  2301,  1811, 20667,  3158,  3704,\n",
       "        4124,  9508,  3075,  4400,  3153,  6875,  4666,  5000,  1625,\n",
       "        2000,  3762, 20233,  7667,  2917,  2927,  2507,  5746,  3399,\n",
       "        3717,  2058,  3541,  4342,  3601,  3166, 15000,  8666,  4917,\n",
       "        5818,  4384,  2935,  1830,  4160,  2647,  2378,  4554,  2499,\n",
       "        6333,  2625,  9083,  8750,  2666,  2423,  3875,  5167,  4723,\n",
       "        4750,  3013,  6822,  6216,  5124,  6325, 19730, 15759,  5185,\n",
       "        3062,  4817,  4310,  3069,  5391,  5941,  7167,  4566,  2346,\n",
       "        3010,  5488,  9167,  9504,  1993,  3100,  3276,  3180,  3033,\n",
       "        3902,  1500,  2889,  2755,  1963,  7441,  4547,  2167,  2213,\n",
       "        8300, 81000,  3867,  6096,  2253,  2149,  2995,  1600,  1025,\n",
       "        3246,  5829,  2720,  1820,  7250, 14880,  4606,  5935,  2920,\n",
       "        2717,  8624,  6500,  2425,  1926, 10416,  7142,  3660,  7901,\n",
       "        4707, 37719,  7333,  3466,  3340,  2769,  2309,  1958,  3948,\n",
       "        2483,  7085,  3859,  4301,  3708,  4354,  8334,  7740,  3015,\n",
       "        2947,  3450,  2653,  4691,  5532, 16525,  6700, 16667,  4350,\n",
       "        3095,  2083, 10833,  3547, 18333,  2435,  2699,  5333,  3691,\n",
       "       17263,  3597,  3326,  4625,  2895,  6283,   645,  3159,  4865,\n",
       "        4050,  3814, 20833, 13262,  3598,  6065,  3283,  2130,  5815,\n",
       "        2031,  4683,  3400,  2192,  5677,  7948,  4680, 17500,  3775,\n",
       "        5285,  2679,  6783,  4281,  3588, 11250, 18165,  6133,  3617,\n",
       "        6417,  4608,  2138,  2239,  3017,  2768,  3358,  2526,  2785,\n",
       "        6633,  2492,  2454,  3593,  5468,  2667, 10139,  3887,  4180,\n",
       "        3675, 19484,  5923,  5800,  8799,  4467,  3417, 16666,  6125,\n",
       "        6406,  3229,  1782,  6540,  1836,  1880,  2787,  2297,  2165,\n",
       "        2726, 16120,  3833,  6383,  9963,  5780,  3676,  3987,  3232,\n",
       "        2900,  4106,  8072,  7583], dtype=int64)"
      ]
     },
     "execution_count": 73,
     "metadata": {},
     "output_type": "execute_result"
    }
   ],
   "source": [
    "df['ApplicantIncome'].unique()#check the unique values"
   ]
  },
  {
   "cell_type": "code",
   "execution_count": 74,
   "id": "163c6862",
   "metadata": {},
   "outputs": [
    {
     "data": {
      "text/plain": [
       "2500    8\n",
       "6000    6\n",
       "4583    6\n",
       "2600    5\n",
       "3750    4\n",
       "       ..\n",
       "8566    1\n",
       "4467    1\n",
       "5488    1\n",
       "2130    1\n",
       "4095    1\n",
       "Name: ApplicantIncome, Length: 463, dtype: int64"
      ]
     },
     "execution_count": 74,
     "metadata": {},
     "output_type": "execute_result"
    }
   ],
   "source": [
    "df['ApplicantIncome'].value_counts()#check the counts of unique values"
   ]
  },
  {
   "cell_type": "code",
   "execution_count": 75,
   "id": "893d4c51",
   "metadata": {},
   "outputs": [
    {
     "data": {
      "text/plain": [
       "0"
      ]
     },
     "execution_count": 75,
     "metadata": {},
     "output_type": "execute_result"
    }
   ],
   "source": [
    "df['ApplicantIncome'].isnull().sum()#check the null values "
   ]
  },
  {
   "cell_type": "code",
   "execution_count": 76,
   "id": "398a5bb7",
   "metadata": {},
   "outputs": [
    {
     "data": {
      "text/plain": [
       "True"
      ]
     },
     "execution_count": 76,
     "metadata": {},
     "output_type": "execute_result"
    }
   ],
   "source": [
    "df['ApplicantIncome'].all() #check the zeros of the column"
   ]
  },
  {
   "cell_type": "code",
   "execution_count": 77,
   "id": "e921d6d6",
   "metadata": {},
   "outputs": [
    {
     "data": {
      "text/plain": [
       "ApplicantIncome  Loan_Status\n",
       "150              N              1\n",
       "645              Y              1\n",
       "1000             N              1\n",
       "1025             Y              2\n",
       "1299             Y              1\n",
       "                               ..\n",
       "33846            N              1\n",
       "37719            Y              1\n",
       "39147            Y              1\n",
       "39999            Y              1\n",
       "81000            N              1\n",
       "Name: Loan_Status, Length: 489, dtype: int64"
      ]
     },
     "execution_count": 77,
     "metadata": {},
     "output_type": "execute_result"
    }
   ],
   "source": [
    "df.groupby('ApplicantIncome')['Loan_Status'].value_counts()\n",
    "#Checking the relationship between ApplicantIncome and Loan_Status"
   ]
  },
  {
   "cell_type": "markdown",
   "id": "14f43373",
   "metadata": {},
   "source": [
    "Observation:\n",
    "1. No zero values are found\n",
    "2. No null values are found\n",
    "3. it is very difficult to say based on applicant income, peoples loan was approved or not."
   ]
  },
  {
   "cell_type": "code",
   "execution_count": 78,
   "id": "7ecae2c1",
   "metadata": {},
   "outputs": [
    {
     "name": "stdout",
     "output_type": "stream",
     "text": [
      "Actual shape of our Dataset now :--------> (554, 13)\n"
     ]
    }
   ],
   "source": [
    "#check the updated shape of our dataset\n",
    "print('Actual shape of our Dataset now :-------->', df.shape)"
   ]
  },
  {
   "cell_type": "markdown",
   "id": "f94a0659",
   "metadata": {},
   "source": [
    "# Column8: CoapplicantIncome"
   ]
  },
  {
   "cell_type": "code",
   "execution_count": 79,
   "id": "fcce3758",
   "metadata": {},
   "outputs": [
    {
     "data": {
      "text/plain": [
       "array([0.00000000e+00, 1.50800000e+03, 2.35800000e+03, 4.19600000e+03,\n",
       "       1.51600000e+03, 2.50400000e+03, 1.52600000e+03, 1.09680000e+04,\n",
       "       7.00000000e+02, 8.10600000e+03, 2.84000000e+03, 1.08600000e+03,\n",
       "       5.62500000e+03, 1.91100000e+03, 2.25300000e+03, 1.04000000e+03,\n",
       "       1.66700000e+03, 3.00000000e+03, 2.06700000e+03, 1.33000000e+03,\n",
       "       1.45900000e+03, 7.21000000e+03, 1.66800000e+03, 1.21300000e+03,\n",
       "       2.33600000e+03, 3.44000000e+03, 2.27500000e+03, 1.64400000e+03,\n",
       "       1.16700000e+03, 1.59100000e+03, 2.20000000e+03, 2.25000000e+03,\n",
       "       2.85900000e+03, 3.79600000e+03, 3.44900000e+03, 4.59500000e+03,\n",
       "       2.25400000e+03, 3.06600000e+03, 1.87500000e+03, 1.77400000e+03,\n",
       "       4.75000000e+03, 3.02200000e+03, 4.00000000e+03, 2.16600000e+03,\n",
       "       1.88100000e+03, 2.53100000e+03, 2.00000000e+03, 2.11800000e+03,\n",
       "       4.16700000e+03, 2.90000000e+03, 5.65400000e+03, 1.82000000e+03,\n",
       "       2.30200000e+03, 9.97000000e+02, 3.54100000e+03, 3.26300000e+03,\n",
       "       3.80600000e+03, 3.58300000e+03, 1.03000000e+03, 1.12600000e+03,\n",
       "       3.60000000e+03, 7.54000000e+02, 4.11400000e+03, 2.28300000e+03,\n",
       "       1.39800000e+03, 2.14200000e+03, 8.98000000e+03, 2.01400000e+03,\n",
       "       1.64000000e+03, 3.85000000e+03, 2.56900000e+03, 1.92900000e+03,\n",
       "       7.75000000e+03, 3.50000000e+03, 1.43000000e+03, 2.08300000e+03,\n",
       "       2.03400000e+03, 4.48600000e+03, 1.42500000e+03, 1.66600000e+03,\n",
       "       8.30000000e+02, 3.75000000e+03, 1.04100000e+03, 1.28000000e+03,\n",
       "       1.44700000e+03, 3.16600000e+03, 3.33300000e+03, 7.36000000e+02,\n",
       "       1.96400000e+03, 1.61900000e+03, 1.13000000e+04, 1.45100000e+03,\n",
       "       7.25000000e+03, 5.06300000e+03, 2.13800000e+03, 2.58300000e+03,\n",
       "       2.36500000e+03, 2.81600000e+03, 2.50000000e+03, 1.08300000e+03,\n",
       "       1.25000000e+03, 3.02100000e+03, 9.83000000e+02, 1.80000000e+03,\n",
       "       1.77500000e+03, 2.38300000e+03, 1.71700000e+03, 2.79100000e+03,\n",
       "       1.01000000e+03, 1.69500000e+03, 2.05400000e+03, 2.59800000e+03,\n",
       "       1.77900000e+03, 1.26000000e+03, 5.00000000e+03, 1.98300000e+03,\n",
       "       5.70100000e+03, 1.30000000e+03, 4.41700000e+03, 4.33300000e+03,\n",
       "       1.84300000e+03, 1.86800000e+03, 3.89000000e+03, 2.16700000e+03,\n",
       "       7.10100000e+03, 2.10000000e+03, 4.25000000e+03, 2.20900000e+03,\n",
       "       3.44700000e+03, 1.38700000e+03, 1.81100000e+03, 1.56000000e+03,\n",
       "       1.85700000e+03, 2.22300000e+03, 1.84200000e+03, 3.27400000e+03,\n",
       "       2.42600000e+03, 8.00000000e+02, 9.85799988e+02, 3.05300000e+03,\n",
       "       2.41600000e+03, 3.33400000e+03, 2.54100000e+03, 2.92500000e+03,\n",
       "       2.93400000e+03, 1.80300000e+03, 1.86300000e+03, 2.40500000e+03,\n",
       "       2.13400000e+03, 1.89000000e+02, 1.59000000e+03, 2.98500000e+03,\n",
       "       4.98300000e+03, 2.16000000e+03, 2.45100000e+03, 1.79300000e+03,\n",
       "       4.60000000e+03, 1.58700000e+03, 1.22900000e+03, 2.45800000e+03,\n",
       "       2.16800000e+03, 4.58300000e+03, 6.25000000e+03, 5.05000000e+02,\n",
       "       3.16700000e+03, 3.66700000e+03, 2.33300000e+03, 3.03300000e+03,\n",
       "       5.26600000e+03, 7.87300000e+03, 1.98700000e+03, 9.23000000e+02,\n",
       "       4.99600000e+03, 4.23200000e+03, 1.60000000e+03, 3.13600000e+03,\n",
       "       2.41700000e+03, 2.11500000e+03, 1.62500000e+03, 1.40000000e+03,\n",
       "       4.84000000e+02, 2.00000000e+04, 2.40000000e+03, 2.03300000e+03,\n",
       "       3.23700000e+03, 2.77300000e+03, 1.41700000e+03, 1.71900000e+03,\n",
       "       4.30000000e+03, 1.61200008e+01, 2.34000000e+03, 1.85100000e+03,\n",
       "       1.12500000e+03, 5.06400000e+03, 1.83300000e+03, 1.99300000e+03,\n",
       "       8.33300000e+03, 1.21000000e+03, 1.71000000e+03, 1.54200000e+03,\n",
       "       1.25500000e+03, 1.45600000e+03, 1.73300000e+03, 2.46600000e+03,\n",
       "       2.18800000e+03, 1.66400000e+03, 2.07900000e+03, 1.50000000e+03,\n",
       "       4.64800000e+03, 1.01400000e+03, 1.75000000e+03, 1.60300000e+03,\n",
       "       3.15000000e+03, 2.43600000e+03, 2.78500000e+03, 1.13100000e+03,\n",
       "       2.15700000e+03, 9.13000000e+02, 1.70000000e+03, 2.85700000e+03,\n",
       "       4.41600000e+03, 3.68300000e+03, 5.62400000e+03, 5.30200000e+03,\n",
       "       1.48300000e+03, 6.66700000e+03, 3.01300000e+03, 1.28700000e+03,\n",
       "       2.00400000e+03, 2.03500000e+03, 6.66600000e+03, 3.66600000e+03,\n",
       "       3.42800000e+03, 1.63200000e+03, 1.91500000e+03, 1.74200000e+03,\n",
       "       1.42400000e+03, 7.16600000e+03, 2.08700000e+03, 1.30200000e+03,\n",
       "       5.50000000e+03, 3.90600000e+03, 5.36000000e+02, 2.84500000e+03,\n",
       "       2.52400000e+03, 6.63000000e+02, 1.95000000e+03, 1.78300000e+03,\n",
       "       2.01600000e+03, 2.37500000e+03, 3.25000000e+03, 4.26600000e+03,\n",
       "       1.03200000e+03, 2.66900000e+03, 2.30600000e+03, 2.42000000e+02,\n",
       "       2.06400000e+03, 4.61000000e+02, 2.73900000e+03, 2.23200000e+03,\n",
       "       3.38370000e+04, 1.91700000e+03, 1.52200000e+03, 3.41600000e+03,\n",
       "       3.30000000e+03, 1.00000000e+03, 4.30100000e+03, 3.80000000e+03,\n",
       "       1.41100000e+03, 2.40000000e+02])"
      ]
     },
     "execution_count": 79,
     "metadata": {},
     "output_type": "execute_result"
    }
   ],
   "source": [
    "df['CoapplicantIncome'].unique()#check the unique values"
   ]
  },
  {
   "cell_type": "code",
   "execution_count": 80,
   "id": "dd05f854",
   "metadata": {},
   "outputs": [
    {
     "data": {
      "text/plain": [
       "0.0       246\n",
       "1666.0      5\n",
       "2500.0      4\n",
       "2250.0      3\n",
       "1625.0      3\n",
       "         ... \n",
       "2375.0      1\n",
       "1842.0      1\n",
       "1875.0      1\n",
       "3500.0      1\n",
       "2142.0      1\n",
       "Name: CoapplicantIncome, Length: 270, dtype: int64"
      ]
     },
     "execution_count": 80,
     "metadata": {},
     "output_type": "execute_result"
    }
   ],
   "source": [
    "df['CoapplicantIncome'].value_counts()#check the counts of unique values"
   ]
  },
  {
   "cell_type": "code",
   "execution_count": 81,
   "id": "39e6d11c",
   "metadata": {},
   "outputs": [
    {
     "data": {
      "text/plain": [
       "False"
      ]
     },
     "execution_count": 81,
     "metadata": {},
     "output_type": "execute_result"
    }
   ],
   "source": [
    "df['CoapplicantIncome'].all()#check the zeros of the column"
   ]
  },
  {
   "cell_type": "code",
   "execution_count": 82,
   "id": "bcf7009d",
   "metadata": {},
   "outputs": [],
   "source": [
    "df['CoapplicantIncome'] = df['CoapplicantIncome'].replace(0.0, df['CoapplicantIncome'].mean())"
   ]
  },
  {
   "cell_type": "code",
   "execution_count": 83,
   "id": "663e3ef2",
   "metadata": {},
   "outputs": [
    {
     "data": {
      "text/plain": [
       "True"
      ]
     },
     "execution_count": 83,
     "metadata": {},
     "output_type": "execute_result"
    }
   ],
   "source": [
    "df['CoapplicantIncome'].all()#check the zeros of the column"
   ]
  },
  {
   "cell_type": "code",
   "execution_count": 84,
   "id": "e13bf48e",
   "metadata": {},
   "outputs": [
    {
     "data": {
      "text/plain": [
       "0"
      ]
     },
     "execution_count": 84,
     "metadata": {},
     "output_type": "execute_result"
    }
   ],
   "source": [
    "df['CoapplicantIncome'].isnull().sum()#check the null values "
   ]
  },
  {
   "cell_type": "code",
   "execution_count": 85,
   "id": "6fba5f39",
   "metadata": {},
   "outputs": [
    {
     "data": {
      "text/plain": [
       "8.058418391957112"
      ]
     },
     "execution_count": 85,
     "metadata": {},
     "output_type": "execute_result"
    }
   ],
   "source": [
    "df['CoapplicantIncome'].skew() #check the skewness"
   ]
  },
  {
   "cell_type": "code",
   "execution_count": 86,
   "id": "e806c79d",
   "metadata": {},
   "outputs": [
    {
     "name": "stdout",
     "output_type": "stream",
     "text": [
      "Mean of the column:-----> 2289.6399535733217\n",
      "Median of the column:-----> 1585.5756678495306\n",
      "Mode of the column:-----> 1585.5756678495306\n",
      "std of the column:-----> 2181.29666236735\n"
     ]
    }
   ],
   "source": [
    "# Calculate mean, median, mode and std to check the normalization curve\n",
    "print('Mean of the column:----->',df['CoapplicantIncome'].mean())\n",
    "print('Median of the column:----->',df['CoapplicantIncome'].median())\n",
    "print('Mode of the column:----->',st.mode(df['CoapplicantIncome']))\n",
    "print('std of the column:----->',df['CoapplicantIncome'].std())"
   ]
  },
  {
   "cell_type": "code",
   "execution_count": 87,
   "id": "655e6929",
   "metadata": {},
   "outputs": [
    {
     "data": {
      "image/png": "[encoded data removed]",
      "text/plain": [
       "<Figure size 1440x360 with 3 Axes>"
      ]
     },
     "metadata": {
      "needs_background": "light"
     },
     "output_type": "display_data"
    }
   ],
   "source": [
    "#Visualization\n",
    "plt.figure(figsize=(20,5))\n",
    "plt.subplot(1,3,1)\n",
    "sns.histplot(df['CoapplicantIncome']) #visualize the outliers by using histplot\n",
    "plt.title('Before removing outliers', fontsize=15)\n",
    "plt.xlabel('CoapplicantIncome', fontsize= 14)\n",
    "\n",
    "plt.subplot(1,3,2)\n",
    "sns.distplot(df['CoapplicantIncome'], color='r') #visualize the normalization curve by using distplot\n",
    "plt.title('Before removing outliers', fontsize=15)\n",
    "plt.xlabel('CoapplicantIncome', fontsize= 14)\n",
    "\n",
    "plt.subplot(1,3,3)\n",
    "sns.boxplot(data = df['CoapplicantIncome']) #visualize the outliers by using boxplot\n",
    "plt.title('Before removing outliers', fontsize=15)\n",
    "plt.xlabel('CoapplicantIncome', fontsize= 14)\n",
    "plt.show()"
   ]
  },
  {
   "cell_type": "code",
   "execution_count": 88,
   "id": "6075592d",
   "metadata": {},
   "outputs": [],
   "source": [
    "df.drop(columns = ['CoapplicantIncome'], inplace = True) #drop the column"
   ]
  },
  {
   "cell_type": "markdown",
   "id": "0ec8f29c",
   "metadata": {},
   "source": [
    "Observation:\n",
    "1. Zero values are found\n",
    "2. High skewness\n",
    "3. Mean, median, mode values are not good\n",
    "4. Huge amount fo outliers \n",
    "5. That's why we have to drop this column"
   ]
  },
  {
   "cell_type": "code",
   "execution_count": 89,
   "id": "b42e2a8d",
   "metadata": {},
   "outputs": [
    {
     "name": "stdout",
     "output_type": "stream",
     "text": [
      "Actual shape of our Dataset now :--------> (554, 12)\n"
     ]
    }
   ],
   "source": [
    "#check the updated shape of our dataset\n",
    "print('Actual shape of our Dataset now :-------->', df.shape)"
   ]
  },
  {
   "cell_type": "markdown",
   "id": "1ef048c6",
   "metadata": {},
   "source": [
    "# Column9: LoanAmount"
   ]
  },
  {
   "cell_type": "code",
   "execution_count": 90,
   "id": "c140e8ad",
   "metadata": {},
   "outputs": [
    {
     "data": {
      "text/plain": [
       "array([ nan, 128.,  66., 120., 141., 267.,  95., 158., 168., 349.,  70.,\n",
       "       200., 114.,  17., 125., 100.,  76., 133., 104., 315., 116., 191.,\n",
       "       122., 110.,  35.,  74., 106., 320., 144., 184.,  80.,  47.,  75.,\n",
       "       134.,  96.,  88.,  44., 112., 286.,  97., 135., 180.,  99., 165.,\n",
       "       258., 126., 312., 136., 172.,  81., 187., 113., 176., 130., 111.,\n",
       "       167., 265.,  50., 210., 175., 131., 188.,  25., 137., 115., 151.,\n",
       "       225., 216.,  94., 152., 185., 154.,  85., 259., 194.,  93., 160.,\n",
       "       182., 650., 102., 290.,  84., 242., 129.,  30., 118., 244., 600.,\n",
       "       255.,  98., 275., 121.,  63.,  87., 101., 495.,  67.,  73., 260.,\n",
       "       108.,  58.,  48., 164., 170.,  83.,  90., 166., 124.,  55.,  59.,\n",
       "       127., 214., 240.,  60., 280., 140., 155., 123., 201., 138., 279.,\n",
       "       192., 304., 330., 150., 207., 436.,  78.,  54.,  89., 139., 132.,\n",
       "       480.,  56., 300., 376., 117.,  71., 173.,  46., 228., 308., 105.,\n",
       "       236., 570., 380., 296., 156., 109., 103.,  45.,  65.,  53., 360.,\n",
       "        62., 218., 178., 239., 143., 148., 190., 149., 153., 162., 230.,\n",
       "        86., 234., 246., 500., 186., 119., 107., 209., 208., 243.,  40.,\n",
       "       250., 311., 400., 161., 196., 324., 157., 145., 181.,  26., 211.,\n",
       "         9., 205.,  36.,  61., 146., 142., 496., 253.])"
      ]
     },
     "execution_count": 90,
     "metadata": {},
     "output_type": "execute_result"
    }
   ],
   "source": [
    "df['LoanAmount'].unique()#check the unique values"
   ]
  },
  {
   "cell_type": "code",
   "execution_count": 91,
   "id": "5b92177b",
   "metadata": {},
   "outputs": [
    {
     "data": {
      "text/plain": [
       "120.0    17\n",
       "100.0    15\n",
       "110.0    14\n",
       "187.0    12\n",
       "130.0    10\n",
       "         ..\n",
       "250.0     1\n",
       "62.0      1\n",
       "85.0      1\n",
       "214.0     1\n",
       "436.0     1\n",
       "Name: LoanAmount, Length: 194, dtype: int64"
      ]
     },
     "execution_count": 91,
     "metadata": {},
     "output_type": "execute_result"
    }
   ],
   "source": [
    "df['LoanAmount'].value_counts()#check the counts of unique values"
   ]
  },
  {
   "cell_type": "code",
   "execution_count": 92,
   "id": "62e08df0",
   "metadata": {},
   "outputs": [
    {
     "data": {
      "text/plain": [
       "19"
      ]
     },
     "execution_count": 92,
     "metadata": {},
     "output_type": "execute_result"
    }
   ],
   "source": [
    "df['LoanAmount'].isnull().sum()#check the null values "
   ]
  },
  {
   "cell_type": "code",
   "execution_count": 93,
   "id": "3a5118a6",
   "metadata": {},
   "outputs": [],
   "source": [
    "df.dropna(subset=[\"LoanAmount\"], inplace=True) #drop the null values"
   ]
  },
  {
   "cell_type": "code",
   "execution_count": 94,
   "id": "252d20dc",
   "metadata": {},
   "outputs": [
    {
     "data": {
      "text/plain": [
       "0"
      ]
     },
     "execution_count": 94,
     "metadata": {},
     "output_type": "execute_result"
    }
   ],
   "source": [
    "df['LoanAmount'].isnull().sum()#check the null values "
   ]
  },
  {
   "cell_type": "code",
   "execution_count": 95,
   "id": "6f085997",
   "metadata": {},
   "outputs": [
    {
     "data": {
      "text/plain": [
       "2.5362165808605535"
      ]
     },
     "execution_count": 95,
     "metadata": {},
     "output_type": "execute_result"
    }
   ],
   "source": [
    "df['LoanAmount'].skew() #check the skewness"
   ]
  },
  {
   "cell_type": "code",
   "execution_count": 96,
   "id": "860ea4f1",
   "metadata": {},
   "outputs": [
    {
     "name": "stdout",
     "output_type": "stream",
     "text": [
      "Mean of the column:-----> 144.9177570093458\n",
      "Median of the column:-----> 127.0\n",
      "Mode of the column:-----> 120.0\n",
      "std of the column:-----> 82.50774996294794\n"
     ]
    }
   ],
   "source": [
    "# Calculate mean, median, mode and std to check the normalization curve\n",
    "print('Mean of the column:----->',df['LoanAmount'].mean())\n",
    "print('Median of the column:----->',df['LoanAmount'].median())\n",
    "print('Mode of the column:----->',st.mode(df['LoanAmount']))\n",
    "print('std of the column:----->',df['LoanAmount'].std())"
   ]
  },
  {
   "cell_type": "code",
   "execution_count": 97,
   "id": "2f6de211",
   "metadata": {},
   "outputs": [
    {
     "data": {
      "image/png": "[encoded data removed]",
      "text/plain": [
       "<Figure size 1440x360 with 3 Axes>"
      ]
     },
     "metadata": {
      "needs_background": "light"
     },
     "output_type": "display_data"
    }
   ],
   "source": [
    "#visualization\n",
    "plt.figure(figsize=(20,5))\n",
    "plt.subplot(1,3,1)\n",
    "sns.histplot(df['LoanAmount']) #visualize the outliers by using histplot\n",
    "plt.title('Before removing outliers', fontsize=15)\n",
    "plt.xlabel('LoanAmount', fontsize= 14)\n",
    "\n",
    "plt.subplot(1,3,2)\n",
    "sns.distplot(df['LoanAmount'], color='r') #visualize the normalization curve by using distplot\n",
    "plt.title('Before removing outliers', fontsize=15)\n",
    "plt.xlabel('LoanAmount', fontsize= 14)\n",
    "\n",
    "plt.subplot(1,3,3)\n",
    "sns.boxplot(df['LoanAmount']) #visualize the outliers by using boxplot\n",
    "plt.title('Before removing outliers', fontsize=15)\n",
    "plt.xlabel('LoanAmount', fontsize= 14)\n",
    "plt.show()"
   ]
  },
  {
   "cell_type": "code",
   "execution_count": 98,
   "id": "d53c16dc",
   "metadata": {},
   "outputs": [
    {
     "name": "stdout",
     "output_type": "stream",
     "text": [
      "Inter quartile range:------> 70.0\n",
      "\n",
      " **************************************************\n",
      "Higher range:-\n",
      " (array([  8,  18,  27,  46,  58, 109, 114, 134, 139, 153, 203, 222, 227,\n",
      "       229, 246, 271, 285, 286, 304, 321, 324, 331, 339, 357, 424, 443,\n",
      "       450, 458, 459, 469, 491, 501, 526], dtype=int64),)\n",
      "\n",
      " **************************************************\n",
      "Lower range:- \n",
      " (array([], dtype=int64),)\n"
     ]
    }
   ],
   "source": [
    "#Detecting the outlier by using iqr method and removing them.\n",
    "q1 = np.percentile(df['LoanAmount'], 25,\n",
    "                   interpolation = 'midpoint')\n",
    " \n",
    "q3 = np.percentile(df['LoanAmount'], 75,\n",
    "                   interpolation = 'midpoint')\n",
    "iqr = q3 - q1\n",
    "print('Inter quartile range:------>',iqr)\n",
    "print(\"\\n\",'*'*50)\n",
    "\n",
    "# higher side \n",
    "higher_side = df['LoanAmount'] >= (q3+1.5*iqr)\n",
    "print('Higher range:-\\n',np.where(higher_side))\n",
    "print(\"\\n\",'*'*50)\n",
    "\n",
    "# lower side \n",
    "lower_side = df['LoanAmount'] <= (q1-1.5*iqr)\n",
    "print('Lower range:- \\n',np.where(lower_side))"
   ]
  },
  {
   "cell_type": "code",
   "execution_count": 99,
   "id": "68e39b3c",
   "metadata": {},
   "outputs": [
    {
     "name": "stdout",
     "output_type": "stream",
     "text": [
      "old Shape:------>  (535, 12)\n",
      "New Shape:------>  (502, 12)\n"
     ]
    }
   ],
   "source": [
    "#First print the old shape and then compare\n",
    "print(\"old Shape:------> \", df.shape)\n",
    "#removing the outliers\n",
    "high=np.where(higher_side)\n",
    "low=np.where(lower_side)\n",
    "df=df.drop(df.index[high])\n",
    "df=df.drop(df.index[low])\n",
    " \n",
    "print(\"New Shape:------> \", df.shape)"
   ]
  },
  {
   "cell_type": "code",
   "execution_count": 100,
   "id": "9da5c006",
   "metadata": {},
   "outputs": [
    {
     "data": {
      "image/png": "[encoded data removed]",
      "text/plain": [
       "<Figure size 1440x360 with 3 Axes>"
      ]
     },
     "metadata": {
      "needs_background": "light"
     },
     "output_type": "display_data"
    }
   ],
   "source": [
    "#visualization\n",
    "plt.figure(figsize=(20,5))\n",
    "plt.subplot(1,3,1)\n",
    "sns.histplot(df['LoanAmount']) #visualize the outliers by using histplot\n",
    "plt.title('Improving curve', fontsize=15)\n",
    "plt.xlabel('LoanAmount', fontsize= 14)\n",
    "\n",
    "plt.subplot(1,3,2)\n",
    "sns.distplot(df['LoanAmount'], color='r') #visualize the normalization curve by using distplot\n",
    "plt.title('Improving curve', fontsize=15)\n",
    "plt.xlabel('LoanAmount', fontsize= 14)\n",
    "\n",
    "plt.subplot(1,3,3)\n",
    "sns.boxplot(df['LoanAmount']) #visualize the outliers by using boxplot\n",
    "plt.title('Improving curve', fontsize=15)\n",
    "plt.xlabel('LoanAmount', fontsize= 14)\n",
    "plt.show()"
   ]
  },
  {
   "cell_type": "code",
   "execution_count": 101,
   "id": "65fa62c1",
   "metadata": {},
   "outputs": [
    {
     "name": "stdout",
     "output_type": "stream",
     "text": [
      "Inter quartile range:------> 59.0\n",
      "\n",
      " **************************************************\n",
      "Higher range:-\n",
      " (array([  4,  52,  68,  96, 129, 149, 212, 283, 421, 457, 463, 487, 499],\n",
      "      dtype=int64),)\n",
      "\n",
      " **************************************************\n",
      "Lower range:- \n",
      " (array([467], dtype=int64),)\n"
     ]
    }
   ],
   "source": [
    "#Detecting the outlier by using iqr method and removing them.\n",
    "q1 = np.percentile(df['LoanAmount'], 25,\n",
    "                   interpolation = 'midpoint')\n",
    " \n",
    "q3 = np.percentile(df['LoanAmount'], 75,\n",
    "                   interpolation = 'midpoint')\n",
    "iqr = q3 - q1\n",
    "print('Inter quartile range:------>',iqr)\n",
    "print(\"\\n\",'*'*50)\n",
    "\n",
    "# higher side \n",
    "higher_side = df['LoanAmount'] >= (q3+1.5*iqr)\n",
    "print('Higher range:-\\n',np.where(higher_side))\n",
    "print(\"\\n\",'*'*50)\n",
    "\n",
    "# lower side \n",
    "lower_side = df['LoanAmount'] <= (q1-1.5*iqr)\n",
    "print('Lower range:- \\n',np.where(lower_side))"
   ]
  },
  {
   "cell_type": "code",
   "execution_count": 102,
   "id": "33e11426",
   "metadata": {},
   "outputs": [
    {
     "name": "stdout",
     "output_type": "stream",
     "text": [
      "old Shape:------>  (502, 12)\n",
      "New Shape:------>  (488, 12)\n"
     ]
    }
   ],
   "source": [
    "#First print the old shape and then compare\n",
    "print(\"old Shape:------> \", df.shape)\n",
    "#removing the outliers\n",
    "high=np.where(higher_side)\n",
    "low=np.where(lower_side)\n",
    "df=df.drop(df.index[high])\n",
    "df=df.drop(df.index[low])\n",
    " \n",
    "print(\"New Shape:------> \", df.shape)"
   ]
  },
  {
   "cell_type": "code",
   "execution_count": 103,
   "id": "acf16cf3",
   "metadata": {},
   "outputs": [
    {
     "data": {
      "image/png": "[encoded data removed]",
      "text/plain": [
       "<Figure size 1440x360 with 3 Axes>"
      ]
     },
     "metadata": {
      "needs_background": "light"
     },
     "output_type": "display_data"
    }
   ],
   "source": [
    "#visualization\n",
    "plt.figure(figsize=(20,5))\n",
    "plt.subplot(1,3,1)\n",
    "sns.histplot(df['LoanAmount']) #visualize the outliers by using histplot\n",
    "plt.title('Improving curve', fontsize=15)\n",
    "plt.xlabel('LoanAmount', fontsize= 14)\n",
    "\n",
    "plt.subplot(1,3,2)\n",
    "sns.distplot(df['LoanAmount'], color='r') #visualize the normalization curve by using distplot\n",
    "plt.title('Improving curve', fontsize=15)\n",
    "plt.xlabel('LoanAmount', fontsize= 14)\n",
    "\n",
    "plt.subplot(1,3,3)\n",
    "sns.boxplot(df['LoanAmount']) #visualize the outliers by using boxplot\n",
    "plt.title('Improving curve', fontsize=15)\n",
    "plt.xlabel('LoanAmount', fontsize= 14)\n",
    "plt.show()"
   ]
  },
  {
   "cell_type": "code",
   "execution_count": 104,
   "id": "d7e39587",
   "metadata": {},
   "outputs": [
    {
     "name": "stdout",
     "output_type": "stream",
     "text": [
      "Inter quartile range:------> 46.5\n",
      "\n",
      " **************************************************\n",
      "Higher range:-\n",
      " (array([ 84, 106, 116, 120, 170, 277, 286, 332, 383, 388, 389, 397, 409],\n",
      "      dtype=int64),)\n",
      "\n",
      " **************************************************\n",
      "Lower range:- \n",
      " (array([ 10,  20,  76, 102, 115, 217, 446, 456, 466], dtype=int64),)\n"
     ]
    }
   ],
   "source": [
    "#Detecting the outlier by using iqr method and removing them.\n",
    "q1 = np.percentile(df['LoanAmount'], 34,\n",
    "                   interpolation = 'midpoint')\n",
    " \n",
    "q3 = np.percentile(df['LoanAmount'], 75,\n",
    "                   interpolation = 'midpoint')\n",
    "iqr = q3 - q1\n",
    "print('Inter quartile range:------>',iqr)\n",
    "print(\"\\n\",'*'*50)\n",
    "\n",
    "# higher side \n",
    "higher_side = df['LoanAmount'] >= (q3+1.5*iqr)\n",
    "print('Higher range:-\\n',np.where(higher_side))\n",
    "print(\"\\n\",'*'*50)\n",
    "\n",
    "# lower side \n",
    "lower_side = df['LoanAmount'] <= (q1-1.5*iqr)\n",
    "print('Lower range:- \\n',np.where(lower_side))"
   ]
  },
  {
   "cell_type": "code",
   "execution_count": 105,
   "id": "688f5c0c",
   "metadata": {},
   "outputs": [
    {
     "name": "stdout",
     "output_type": "stream",
     "text": [
      "old Shape:------>  (488, 12)\n",
      "New Shape:------>  (466, 12)\n"
     ]
    }
   ],
   "source": [
    "#First print the old shape and then compare\n",
    "print(\"old Shape:------> \", df.shape)\n",
    "#removing the outliers\n",
    "high=np.where(higher_side)\n",
    "low=np.where(lower_side)\n",
    "df=df.drop(df.index[high])\n",
    "df=df.drop(df.index[low])\n",
    " \n",
    "print(\"New Shape:------> \", df.shape)"
   ]
  },
  {
   "cell_type": "code",
   "execution_count": 106,
   "id": "c85c41b0",
   "metadata": {},
   "outputs": [
    {
     "data": {
      "image/png": "[encoded data removed]",
      "text/plain": [
       "<Figure size 1440x360 with 3 Axes>"
      ]
     },
     "metadata": {
      "needs_background": "light"
     },
     "output_type": "display_data"
    }
   ],
   "source": [
    "#visualization\n",
    "plt.figure(figsize=(20,5))\n",
    "plt.subplot(1,3,1)\n",
    "sns.histplot(df['LoanAmount']) #visualize the outliers by using histplot\n",
    "plt.title('Improving curve', fontsize=15)\n",
    "plt.xlabel('LoanAmount', fontsize= 14)\n",
    "\n",
    "plt.subplot(1,3,2)\n",
    "sns.distplot(df['LoanAmount'], color='r') #visualize the normalization curve by using distplot\n",
    "plt.title('Improving curve', fontsize=15)\n",
    "plt.xlabel('LoanAmount', fontsize= 14)\n",
    "\n",
    "plt.subplot(1,3,3)\n",
    "sns.boxplot(df['LoanAmount']) #visualize the outliers by using boxplot\n",
    "plt.title('Improving curve', fontsize=15)\n",
    "plt.xlabel('LoanAmount', fontsize= 14)\n",
    "plt.show()"
   ]
  },
  {
   "cell_type": "code",
   "execution_count": 107,
   "id": "e8fb02e8",
   "metadata": {},
   "outputs": [
    {
     "name": "stdout",
     "output_type": "stream",
     "text": [
      "Inter quartile range:------> 49.5\n",
      "\n",
      " **************************************************\n",
      "Higher range:-\n",
      " (array([], dtype=int64),)\n",
      "\n",
      " **************************************************\n",
      "Lower range:- \n",
      " (array([ 98, 427, 437], dtype=int64),)\n"
     ]
    }
   ],
   "source": [
    "#Detecting the outlier by using iqr method and removing them.\n",
    "q1 = np.percentile(df['LoanAmount'], 30,\n",
    "                   interpolation = 'midpoint')\n",
    " \n",
    "q3 = np.percentile(df['LoanAmount'], 75,\n",
    "                   interpolation = 'midpoint')\n",
    "iqr = q3 - q1\n",
    "print('Inter quartile range:------>',iqr)\n",
    "print(\"\\n\",'*'*50)\n",
    "\n",
    "# higher side \n",
    "higher_side = df['LoanAmount'] >= (q3+1.5*iqr)\n",
    "print('Higher range:-\\n',np.where(higher_side))\n",
    "print(\"\\n\",'*'*50)\n",
    "\n",
    "# lower side \n",
    "lower_side = df['LoanAmount'] <= (q1-1.5*iqr)\n",
    "print('Lower range:- \\n',np.where(lower_side))"
   ]
  },
  {
   "cell_type": "code",
   "execution_count": 108,
   "id": "c1ec8284",
   "metadata": {},
   "outputs": [
    {
     "name": "stdout",
     "output_type": "stream",
     "text": [
      "old Shape:------>  (466, 12)\n",
      "New Shape:------>  (463, 12)\n"
     ]
    }
   ],
   "source": [
    "#First print the old shape and then compare\n",
    "print(\"old Shape:------> \", df.shape)\n",
    "#removing the outliers\n",
    "high=np.where(higher_side)\n",
    "low=np.where(lower_side)\n",
    "df=df.drop(df.index[high])\n",
    "df=df.drop(df.index[low])\n",
    " \n",
    "print(\"New Shape:------> \", df.shape)"
   ]
  },
  {
   "cell_type": "code",
   "execution_count": 109,
   "id": "1dc38144",
   "metadata": {},
   "outputs": [
    {
     "data": {
      "image/png": "[encoded data removed]",
      "text/plain": [
       "<Figure size 1440x360 with 3 Axes>"
      ]
     },
     "metadata": {
      "needs_background": "light"
     },
     "output_type": "display_data"
    }
   ],
   "source": [
    "#visualization\n",
    "plt.figure(figsize=(20,5))\n",
    "plt.subplot(1,3,1)\n",
    "sns.histplot(df['LoanAmount']) #visualize the outliers by using histplot\n",
    "plt.title('Final Plot', fontsize=15)\n",
    "plt.xlabel('LoanAmount', fontsize= 14)\n",
    "\n",
    "plt.subplot(1,3,2)\n",
    "sns.distplot(df['LoanAmount'], color='r') #visualize the normalization curve by using distplot\n",
    "plt.title('Final Plot', fontsize=15)\n",
    "plt.xlabel('LoanAmount', fontsize= 14)\n",
    "\n",
    "plt.subplot(1,3,3)\n",
    "sns.boxplot(df['LoanAmount']) #visualize the outliers by using boxplot\n",
    "plt.title('Final Plot', fontsize=15)\n",
    "plt.xlabel('LoanAmount', fontsize= 14)\n",
    "plt.show()"
   ]
  },
  {
   "cell_type": "code",
   "execution_count": 110,
   "id": "2c952acb",
   "metadata": {},
   "outputs": [
    {
     "data": {
      "text/plain": [
       "0.1341777178658578"
      ]
     },
     "execution_count": 110,
     "metadata": {},
     "output_type": "execute_result"
    }
   ],
   "source": [
    "df['LoanAmount'].skew() #now, check the skewness"
   ]
  },
  {
   "cell_type": "code",
   "execution_count": 111,
   "id": "12eb0e08",
   "metadata": {},
   "outputs": [
    {
     "name": "stdout",
     "output_type": "stream",
     "text": [
      "Mean of the column:-----> 124.04103671706264\n",
      "Median of the column:-----> 121.0\n",
      "Mode of the column:-----> 120.0\n",
      "std of the column:-----> 40.073693487690896\n"
     ]
    }
   ],
   "source": [
    "# Calculate mean, median, mode and std to check the normalization curve\n",
    "print('Mean of the column:----->',df['LoanAmount'].mean())\n",
    "print('Median of the column:----->',df['LoanAmount'].median())\n",
    "print('Mode of the column:----->',st.mode(df['LoanAmount']))\n",
    "print('std of the column:----->',df['LoanAmount'].std())"
   ]
  },
  {
   "cell_type": "code",
   "execution_count": 112,
   "id": "bc64f94a",
   "metadata": {},
   "outputs": [],
   "source": [
    "df['LoanAmount'] = df['LoanAmount'].replace(120.0, df['LoanAmount'].mean())\n",
    "#replace mode by mean value to improve curve"
   ]
  },
  {
   "cell_type": "code",
   "execution_count": 113,
   "id": "74b2ef1f",
   "metadata": {},
   "outputs": [
    {
     "name": "stdout",
     "output_type": "stream",
     "text": [
      "Mean of the column:-----> 124.18941171531331\n",
      "Median of the column:-----> 124.04103671706264\n",
      "Mode of the column:-----> 124.04103671706264\n",
      "std of the column:-----> 40.065920185693486\n"
     ]
    }
   ],
   "source": [
    "# Calculate mean, median, mode and std to check the normalization curve\n",
    "print('Mean of the column:----->',df['LoanAmount'].mean())\n",
    "print('Median of the column:----->',df['LoanAmount'].median())\n",
    "print('Mode of the column:----->',st.mode(df['LoanAmount']))\n",
    "print('std of the column:----->',df['LoanAmount'].std())"
   ]
  },
  {
   "cell_type": "code",
   "execution_count": 114,
   "id": "07220a52",
   "metadata": {},
   "outputs": [
    {
     "data": {
      "text/plain": [
       "0.12313568141279763"
      ]
     },
     "execution_count": 114,
     "metadata": {},
     "output_type": "execute_result"
    }
   ],
   "source": [
    "df['LoanAmount'].skew() #now, check the skewness"
   ]
  },
  {
   "cell_type": "code",
   "execution_count": 115,
   "id": "5dab836f",
   "metadata": {},
   "outputs": [
    {
     "data": {
      "text/plain": [
       "LoanAmount  Loan_Status\n",
       "30.0        Y              2\n",
       "36.0        Y              1\n",
       "40.0        Y              2\n",
       "44.0        Y              2\n",
       "45.0        N              1\n",
       "                          ..\n",
       "211.0       Y              1\n",
       "214.0       N              1\n",
       "216.0       N              1\n",
       "            Y              1\n",
       "218.0       N              1\n",
       "Name: Loan_Status, Length: 209, dtype: int64"
      ]
     },
     "execution_count": 115,
     "metadata": {},
     "output_type": "execute_result"
    }
   ],
   "source": [
    "df.groupby('LoanAmount')['Loan_Status'].value_counts()\n",
    "#Checking the relationship between LoanAmount and Loan_Status"
   ]
  },
  {
   "cell_type": "code",
   "execution_count": 118,
   "id": "37aac1c3",
   "metadata": {},
   "outputs": [
    {
     "data": {
      "text/plain": [
       "Text(3.674999999999997, 0.5, 'LoanAmount')"
      ]
     },
     "execution_count": 118,
     "metadata": {},
     "output_type": "execute_result"
    },
    {
     "data": {
      "text/plain": [
       "<Figure size 720x504 with 0 Axes>"
      ]
     },
     "metadata": {},
     "output_type": "display_data"
    },
    {
     "data": {
      "image/png": "[encoded data removed]",
      "text/plain": [
       "<Figure size 360x360 with 1 Axes>"
      ]
     },
     "metadata": {
      "needs_background": "light"
     },
     "output_type": "display_data"
    }
   ],
   "source": [
    "#visualize this column by catplot\n",
    "plt.figure(figsize=(10,7))\n",
    "sns.catplot(y= 'LoanAmount',x= 'Loan_Status', data=df)\n",
    "plt.xlabel('Loan_Status', fontsize = 14)\n",
    "plt.ylabel('LoanAmount', fontsize = 14)"
   ]
  },
  {
   "cell_type": "markdown",
   "id": "01e336b2",
   "metadata": {},
   "source": [
    "Observation:\n",
    "1. Null values are found and treated\n",
    "2. Skewness is improved from 2.53 to 0.12\n",
    "3. mean, median and mode values are improved\n",
    "4. approval of loan is more than rejection "
   ]
  },
  {
   "cell_type": "code",
   "execution_count": 1774,
   "id": "a165a55a",
   "metadata": {},
   "outputs": [
    {
     "name": "stdout",
     "output_type": "stream",
     "text": [
      "Actual shape of our Dataset now :--------> (463, 12)\n"
     ]
    }
   ],
   "source": [
    "#check the updated shape of our dataset\n",
    "print('Actual shape of our Dataset now :-------->', df.shape)"
   ]
  },
  {
   "cell_type": "markdown",
   "id": "74d81e1f",
   "metadata": {},
   "source": [
    "# Column10: Loan_Amount_Term"
   ]
  },
  {
   "cell_type": "code",
   "execution_count": 1775,
   "id": "bb50b559",
   "metadata": {},
   "outputs": [
    {
     "data": {
      "text/plain": [
       "array([360., 240.,  nan, 180.,  60., 300., 480.,  36.,  84.,  12.])"
      ]
     },
     "execution_count": 1775,
     "metadata": {},
     "output_type": "execute_result"
    }
   ],
   "source": [
    "df['Loan_Amount_Term'].unique()#check the unique values"
   ]
  },
  {
   "cell_type": "code",
   "execution_count": 1776,
   "id": "3edc7e9d",
   "metadata": {},
   "outputs": [
    {
     "data": {
      "text/plain": [
       "360.0    384\n",
       "180.0     34\n",
       "480.0     11\n",
       "300.0     10\n",
       "84.0       4\n",
       "240.0      3\n",
       "36.0       2\n",
       "60.0       2\n",
       "12.0       1\n",
       "Name: Loan_Amount_Term, dtype: int64"
      ]
     },
     "execution_count": 1776,
     "metadata": {},
     "output_type": "execute_result"
    }
   ],
   "source": [
    "df['Loan_Amount_Term'].value_counts()#check the counts of unique values"
   ]
  },
  {
   "cell_type": "code",
   "execution_count": 1777,
   "id": "beccdda0",
   "metadata": {},
   "outputs": [
    {
     "data": {
      "text/plain": [
       "True"
      ]
     },
     "execution_count": 1777,
     "metadata": {},
     "output_type": "execute_result"
    }
   ],
   "source": [
    "df['Loan_Amount_Term'].all()#check the zeros of the column"
   ]
  },
  {
   "cell_type": "code",
   "execution_count": 1778,
   "id": "9c2765e8",
   "metadata": {},
   "outputs": [
    {
     "data": {
      "text/plain": [
       "-2.4142446002715188"
      ]
     },
     "execution_count": 1778,
     "metadata": {},
     "output_type": "execute_result"
    }
   ],
   "source": [
    "df['Loan_Amount_Term'].skew() #check the skewness"
   ]
  },
  {
   "cell_type": "code",
   "execution_count": 1779,
   "id": "e9f4f625",
   "metadata": {},
   "outputs": [
    {
     "name": "stdout",
     "output_type": "stream",
     "text": [
      "Mean of the column:-----> 341.2416851441242\n",
      "Median of the column:-----> 360.0\n",
      "Mode of the column:-----> 360.0\n",
      "std of the column:-----> 66.60438184316077\n"
     ]
    }
   ],
   "source": [
    "# Calculate mean, median, mode and std to check the normalization curve\n",
    "print('Mean of the column:----->',df['Loan_Amount_Term'].mean())\n",
    "print('Median of the column:----->',df['Loan_Amount_Term'].median())\n",
    "print('Mode of the column:----->',st.mode(df['Loan_Amount_Term']))\n",
    "print('std of the column:----->',df['Loan_Amount_Term'].std())"
   ]
  },
  {
   "cell_type": "code",
   "execution_count": 1780,
   "id": "85c0f512",
   "metadata": {},
   "outputs": [
    {
     "data": {
      "image/png": "[encoded data removed]",
      "text/plain": [
       "<Figure size 1440x360 with 3 Axes>"
      ]
     },
     "metadata": {
      "needs_background": "light"
     },
     "output_type": "display_data"
    }
   ],
   "source": [
    "#visualization\n",
    "plt.figure(figsize=(20,5))\n",
    "plt.subplot(1,3,1)\n",
    "sns.histplot(df['Loan_Amount_Term']) #visualize the outliers by using histplot\n",
    "plt.title('Final Plot', fontsize=15)\n",
    "plt.xlabel('Loan_Amount_Term', fontsize= 14)\n",
    "\n",
    "plt.subplot(1,3,2)\n",
    "sns.distplot(df['Loan_Amount_Term'], color='r') #visualize the normalization curve by using distplot\n",
    "plt.title('Final Plot', fontsize=15)\n",
    "plt.xlabel('Loan_Amount_Term', fontsize= 14)\n",
    "\n",
    "plt.subplot(1,3,3)\n",
    "sns.boxplot(df['Loan_Amount_Term']) #visualize the outliers by using boxplot\n",
    "plt.title('Final Plot', fontsize=15)\n",
    "plt.xlabel('Loan_Amount_Term', fontsize= 14)\n",
    "plt.show()"
   ]
  },
  {
   "cell_type": "code",
   "execution_count": 1781,
   "id": "5b8c6f1c",
   "metadata": {},
   "outputs": [],
   "source": [
    "df.drop(columns = ['Loan_Amount_Term'], inplace = True) #drop the column"
   ]
  },
  {
   "cell_type": "markdown",
   "id": "325b4694",
   "metadata": {},
   "source": [
    "Observation:\n",
    "1. Null values are found and zeros are not found\n",
    "2. high skewness in negative\n",
    "3. Mean, Median and mode values are not good\n",
    "4. huge amount of outliers, that's why we drop this column. "
   ]
  },
  {
   "cell_type": "code",
   "execution_count": 1782,
   "id": "2635e485",
   "metadata": {},
   "outputs": [
    {
     "name": "stdout",
     "output_type": "stream",
     "text": [
      "Actual shape of our Dataset now :--------> (463, 11)\n"
     ]
    }
   ],
   "source": [
    "#check the updated shape of our dataset\n",
    "print('Actual shape of our Dataset now :-------->', df.shape)"
   ]
  },
  {
   "cell_type": "markdown",
   "id": "6436bd85",
   "metadata": {},
   "source": [
    "# Column11: Credit_History"
   ]
  },
  {
   "cell_type": "code",
   "execution_count": 1783,
   "id": "498ed76c",
   "metadata": {},
   "outputs": [
    {
     "data": {
      "text/plain": [
       "array([ 1.,  0., nan])"
      ]
     },
     "execution_count": 1783,
     "metadata": {},
     "output_type": "execute_result"
    }
   ],
   "source": [
    "df['Credit_History'].unique()#check the unique values"
   ]
  },
  {
   "cell_type": "code",
   "execution_count": 1784,
   "id": "b99c6fd3",
   "metadata": {},
   "outputs": [
    {
     "data": {
      "text/plain": [
       "1.0    358\n",
       "0.0     68\n",
       "Name: Credit_History, dtype: int64"
      ]
     },
     "execution_count": 1784,
     "metadata": {},
     "output_type": "execute_result"
    }
   ],
   "source": [
    "df['Credit_History'].value_counts()#check the counts of unique values"
   ]
  },
  {
   "cell_type": "code",
   "execution_count": 1785,
   "id": "6d4892a4",
   "metadata": {},
   "outputs": [
    {
     "data": {
      "text/plain": [
       "37"
      ]
     },
     "execution_count": 1785,
     "metadata": {},
     "output_type": "execute_result"
    }
   ],
   "source": [
    "df['Credit_History'].isnull().sum()#check the null values "
   ]
  },
  {
   "cell_type": "code",
   "execution_count": 1786,
   "id": "822b2359",
   "metadata": {},
   "outputs": [],
   "source": [
    "df.dropna(subset=[\"Credit_History\"], inplace=True) #drop the null values"
   ]
  },
  {
   "cell_type": "code",
   "execution_count": 1787,
   "id": "bbc75ef9",
   "metadata": {},
   "outputs": [
    {
     "data": {
      "text/plain": [
       "0"
      ]
     },
     "execution_count": 1787,
     "metadata": {},
     "output_type": "execute_result"
    }
   ],
   "source": [
    "df['Credit_History'].isnull().sum()#check the null values "
   ]
  },
  {
   "cell_type": "code",
   "execution_count": 1788,
   "id": "25d2a4e3",
   "metadata": {},
   "outputs": [
    {
     "data": {
      "text/plain": [
       "Credit_History  Loan_Status\n",
       "0.0             N              0.911765\n",
       "                Y              0.088235\n",
       "1.0             Y              0.812849\n",
       "                N              0.187151\n",
       "Name: Loan_Status, dtype: float64"
      ]
     },
     "execution_count": 1788,
     "metadata": {},
     "output_type": "execute_result"
    }
   ],
   "source": [
    "df.groupby('Credit_History')['Loan_Status'].value_counts(normalize = True)\n",
    "#Checking the relationship between Credit_History and Loan_Status"
   ]
  },
  {
   "cell_type": "markdown",
   "id": "37cb81fc",
   "metadata": {},
   "source": [
    "Observation:\n",
    "1. this column contains two values 1 or 0\n",
    "2. Null values are found and treated\n",
    "3. the percentage value of loan status is not approved for no credit history is high\n",
    "4. and load approved for those who have credit history"
   ]
  },
  {
   "cell_type": "code",
   "execution_count": 1789,
   "id": "9e58c71a",
   "metadata": {},
   "outputs": [
    {
     "name": "stdout",
     "output_type": "stream",
     "text": [
      "Actual shape of our Dataset now :--------> (426, 11)\n"
     ]
    }
   ],
   "source": [
    "#check the updated shape of our dataset\n",
    "print('Actual shape of our Dataset now :-------->', df.shape)"
   ]
  },
  {
   "cell_type": "markdown",
   "id": "2d90f4d2",
   "metadata": {},
   "source": [
    "# Column12: Property_Area"
   ]
  },
  {
   "cell_type": "code",
   "execution_count": 1790,
   "id": "0fb731cd",
   "metadata": {},
   "outputs": [
    {
     "data": {
      "text/plain": [
       "array(['Rural', 'Urban', 'Semiurban'], dtype=object)"
      ]
     },
     "execution_count": 1790,
     "metadata": {},
     "output_type": "execute_result"
    }
   ],
   "source": [
    "df['Property_Area'].unique()#check the unique values"
   ]
  },
  {
   "cell_type": "code",
   "execution_count": 1791,
   "id": "e6464d76",
   "metadata": {},
   "outputs": [
    {
     "data": {
      "text/plain": [
       "Semiurban    165\n",
       "Urban        135\n",
       "Rural        126\n",
       "Name: Property_Area, dtype: int64"
      ]
     },
     "execution_count": 1791,
     "metadata": {},
     "output_type": "execute_result"
    }
   ],
   "source": [
    "df['Property_Area'].value_counts()#check the counts of unique values"
   ]
  },
  {
   "cell_type": "code",
   "execution_count": 1792,
   "id": "593c0a7f",
   "metadata": {},
   "outputs": [
    {
     "data": {
      "text/plain": [
       "0"
      ]
     },
     "execution_count": 1792,
     "metadata": {},
     "output_type": "execute_result"
    }
   ],
   "source": [
    "df['Property_Area'].isnull().sum()#check the null values"
   ]
  },
  {
   "cell_type": "code",
   "execution_count": 1793,
   "id": "bdccf2e2",
   "metadata": {},
   "outputs": [
    {
     "data": {
      "text/plain": [
       "Property_Area  Loan_Status\n",
       "Rural          Y              0.634921\n",
       "               N              0.365079\n",
       "Semiurban      Y              0.781818\n",
       "               N              0.218182\n",
       "Urban          Y              0.651852\n",
       "               N              0.348148\n",
       "Name: Loan_Status, dtype: float64"
      ]
     },
     "execution_count": 1793,
     "metadata": {},
     "output_type": "execute_result"
    }
   ],
   "source": [
    "df.groupby('Property_Area')['Loan_Status'].value_counts(normalize = True)\n",
    "#Checking the relationship between Property_Area and Loan_Status"
   ]
  },
  {
   "cell_type": "code",
   "execution_count": 1794,
   "id": "65c2d246",
   "metadata": {},
   "outputs": [],
   "source": [
    "df['Property_Area'] = df['Property_Area'].map({'Rural':2,'Semiurban':1, 'Urban':0})\n",
    "#convert string into integer"
   ]
  },
  {
   "cell_type": "code",
   "execution_count": 1795,
   "id": "96e3ee3a",
   "metadata": {},
   "outputs": [
    {
     "data": {
      "text/plain": [
       "array([2, 0, 1], dtype=int64)"
      ]
     },
     "execution_count": 1795,
     "metadata": {},
     "output_type": "execute_result"
    }
   ],
   "source": [
    "df['Property_Area'].unique()#check the unique values"
   ]
  },
  {
   "cell_type": "markdown",
   "id": "0b839a26",
   "metadata": {},
   "source": [
    "Observation:\n",
    "1. No null values are found\n",
    "2. column contains three value:- Urban, semiurban, rural\n",
    "3. percentage value of loan approved for semiurbans are more than urban and rural."
   ]
  },
  {
   "cell_type": "code",
   "execution_count": 1796,
   "id": "6ba89893",
   "metadata": {},
   "outputs": [
    {
     "name": "stdout",
     "output_type": "stream",
     "text": [
      "Actual shape of our Dataset now :--------> (426, 11)\n"
     ]
    }
   ],
   "source": [
    "#check the updated shape of our dataset\n",
    "print('Actual shape of our Dataset now :-------->', df.shape)"
   ]
  },
  {
   "cell_type": "markdown",
   "id": "57949eb9",
   "metadata": {},
   "source": [
    "# Label: Loan_Status"
   ]
  },
  {
   "cell_type": "code",
   "execution_count": 1797,
   "id": "74e38812",
   "metadata": {},
   "outputs": [
    {
     "data": {
      "text/plain": [
       "array(['N', 'Y'], dtype=object)"
      ]
     },
     "execution_count": 1797,
     "metadata": {},
     "output_type": "execute_result"
    }
   ],
   "source": [
    "df['Loan_Status'].unique()#check the unique values"
   ]
  },
  {
   "cell_type": "code",
   "execution_count": 1798,
   "id": "37cf719e",
   "metadata": {},
   "outputs": [
    {
     "data": {
      "text/plain": [
       "Y    297\n",
       "N    129\n",
       "Name: Loan_Status, dtype: int64"
      ]
     },
     "execution_count": 1798,
     "metadata": {},
     "output_type": "execute_result"
    }
   ],
   "source": [
    "df['Loan_Status'].value_counts()#check the counts of unique values"
   ]
  },
  {
   "cell_type": "code",
   "execution_count": 121,
   "id": "8ab2305c",
   "metadata": {},
   "outputs": [
    {
     "data": {
      "text/plain": [
       "Y    0.708423\n",
       "N    0.291577\n",
       "Name: Loan_Status, dtype: float64"
      ]
     },
     "execution_count": 121,
     "metadata": {},
     "output_type": "execute_result"
    }
   ],
   "source": [
    "df['Loan_Status'].value_counts(normalize=True)#check the counts of unique values"
   ]
  },
  {
   "cell_type": "code",
   "execution_count": 120,
   "id": "25232def",
   "metadata": {},
   "outputs": [
    {
     "data": {
      "text/plain": [
       "Text(0, 0.5, 'count')"
      ]
     },
     "execution_count": 120,
     "metadata": {},
     "output_type": "execute_result"
    },
    {
     "data": {
      "image/png": "[encoded data removed]",
      "text/plain": [
       "<Figure size 216x216 with 1 Axes>"
      ]
     },
     "metadata": {
      "needs_background": "light"
     },
     "output_type": "display_data"
    }
   ],
   "source": [
    "#visualize this column by catplot\n",
    "plt.figure(figsize=(3,3))\n",
    "sns.countplot(x= 'Loan_Status', data=df)\n",
    "plt.xlabel('Loan_Status', fontsize = 14)\n",
    "plt.ylabel('count', fontsize = 14)"
   ]
  },
  {
   "cell_type": "code",
   "execution_count": 1799,
   "id": "7b6f028c",
   "metadata": {},
   "outputs": [
    {
     "data": {
      "text/plain": [
       "0"
      ]
     },
     "execution_count": 1799,
     "metadata": {},
     "output_type": "execute_result"
    }
   ],
   "source": [
    "df['Loan_Status'].isnull().sum()#check the null values "
   ]
  },
  {
   "cell_type": "code",
   "execution_count": 1800,
   "id": "caa64dae",
   "metadata": {},
   "outputs": [],
   "source": [
    "df['Loan_Status'] = df['Loan_Status'].map({'Y':1, 'N':0})#convert string into integer"
   ]
  },
  {
   "cell_type": "code",
   "execution_count": 1801,
   "id": "fd206bd5",
   "metadata": {},
   "outputs": [
    {
     "data": {
      "text/plain": [
       "array([0, 1], dtype=int64)"
      ]
     },
     "execution_count": 1801,
     "metadata": {},
     "output_type": "execute_result"
    }
   ],
   "source": [
    "df['Loan_Status'].unique()#check the unique values"
   ]
  },
  {
   "cell_type": "markdown",
   "id": "0d1b3970",
   "metadata": {},
   "source": [
    "Observation:\n",
    "1. no null values are found\n",
    "2. approx 70% loan is approved rest rejected"
   ]
  },
  {
   "cell_type": "code",
   "execution_count": 1805,
   "id": "53ad5922",
   "metadata": {},
   "outputs": [],
   "source": [
    "df['Gender'] = df['Gender'].map({'Male':1, 'Female':0}) \n",
    "df['Married'] = df['Married'].map({'Yes':1, 'No':0})\n",
    "df['Education'] = df['Education'].map({'Graduate':1, 'Not Graduate':0})\n",
    "df['Self_Employed'] = df['Self_Employed'].map({'Yes':1, 'No':0})\n",
    "#convert string into integer"
   ]
  },
  {
   "cell_type": "code",
   "execution_count": 1806,
   "id": "aad85372",
   "metadata": {},
   "outputs": [
    {
     "name": "stdout",
     "output_type": "stream",
     "text": [
      "Actual shape of our Dataset now :--------> (426, 11)\n"
     ]
    }
   ],
   "source": [
    "#check the updated shape of our dataset\n",
    "print('Actual shape of our Dataset now :-------->', df.shape)"
   ]
  },
  {
   "cell_type": "code",
   "execution_count": 1807,
   "id": "ddc1ca1b",
   "metadata": {},
   "outputs": [
    {
     "name": "stdout",
     "output_type": "stream",
     "text": [
      "correlation between the Features and with label:-----> (10, 10)\n",
      "\n",
      " **************************************************\n"
     ]
    },
    {
     "data": {
      "text/plain": [
       "<function matplotlib.pyplot.show(close=None, block=None)>"
      ]
     },
     "execution_count": 1807,
     "metadata": {},
     "output_type": "execute_result"
    },
    {
     "data": {
      "image/png": "[encoded data removed]",
      "text/plain": [
       "<Figure size 1800x864 with 2 Axes>"
      ]
     },
     "metadata": {
      "needs_background": "light"
     },
     "output_type": "display_data"
    }
   ],
   "source": [
    "# Check the correlation \n",
    "corr = df.corr()\n",
    "print('correlation between the Features and with label:----->',corr.shape)\n",
    "print(\"\\n\",'*'*50)\n",
    "# Visualize the corrrelation by using heatmap\n",
    "plt.figure(figsize=(25,12))\n",
    "sns.heatmap(corr, annot=True)\n",
    "plt.show "
   ]
  },
  {
   "cell_type": "code",
   "execution_count": 1808,
   "id": "d9323bc0",
   "metadata": {},
   "outputs": [],
   "source": [
    "#split x and y\n",
    "x = df.drop(['Loan_Status'], axis=1)\n",
    "y=df.Loan_Status"
   ]
  },
  {
   "cell_type": "code",
   "execution_count": 1809,
   "id": "b4ab87cf",
   "metadata": {},
   "outputs": [
    {
     "data": {
      "text/plain": [
       "array([[-1.72689654,  0.48084704,  0.76396539, ...,  0.09418261,\n",
       "         0.43582581,  1.30503589],\n",
       "       [-1.7211639 ,  0.48084704,  0.76396539, ..., -1.45339426,\n",
       "         0.43582581, -1.2510344 ],\n",
       "       [-1.71543126,  0.48084704,  0.76396539, ..., -0.00463675,\n",
       "         0.43582581, -1.2510344 ],\n",
       "       ...,\n",
       "       [ 1.76427979,  0.48084704,  0.76396539, ..., -2.10237811,\n",
       "         0.43582581,  1.30503589],\n",
       "       [ 1.77574507,  0.48084704,  0.76396539, ...,  1.56687672,\n",
       "         0.43582581, -1.2510344 ],\n",
       "       [ 1.78147771, -2.07966343, -1.30895981, ...,  0.21898719,\n",
       "        -2.29449469,  0.02700074]])"
      ]
     },
     "execution_count": 1809,
     "metadata": {},
     "output_type": "execute_result"
    }
   ],
   "source": [
    "#scale the value x\n",
    "Scaler = StandardScaler()\n",
    "x_scaled = Scaler.fit_transform(x)\n",
    "x_scaled"
   ]
  },
  {
   "cell_type": "code",
   "execution_count": 1810,
   "id": "ed1543f5",
   "metadata": {},
   "outputs": [
    {
     "data": {
      "text/html": [
       "<div>\n",
       "<style scoped>\n",
       "    .dataframe tbody tr th:only-of-type {\n",
       "        vertical-align: middle;\n",
       "    }\n",
       "\n",
       "    .dataframe tbody tr th {\n",
       "        vertical-align: top;\n",
       "    }\n",
       "\n",
       "    .dataframe thead th {\n",
       "        text-align: right;\n",
       "    }\n",
       "</style>\n",
       "<table border=\"1\" class=\"dataframe\">\n",
       "  <thead>\n",
       "    <tr style=\"text-align: right;\">\n",
       "      <th></th>\n",
       "      <th>vif</th>\n",
       "      <th>features</th>\n",
       "    </tr>\n",
       "  </thead>\n",
       "  <tbody>\n",
       "    <tr>\n",
       "      <th>0</th>\n",
       "      <td>1.066794</td>\n",
       "      <td>Loan_ID</td>\n",
       "    </tr>\n",
       "    <tr>\n",
       "      <th>1</th>\n",
       "      <td>1.185631</td>\n",
       "      <td>Gender</td>\n",
       "    </tr>\n",
       "    <tr>\n",
       "      <th>2</th>\n",
       "      <td>1.322585</td>\n",
       "      <td>Married</td>\n",
       "    </tr>\n",
       "    <tr>\n",
       "      <th>3</th>\n",
       "      <td>1.200055</td>\n",
       "      <td>Dependents</td>\n",
       "    </tr>\n",
       "    <tr>\n",
       "      <th>4</th>\n",
       "      <td>1.051978</td>\n",
       "      <td>Education</td>\n",
       "    </tr>\n",
       "    <tr>\n",
       "      <th>5</th>\n",
       "      <td>1.094414</td>\n",
       "      <td>Self_Employed</td>\n",
       "    </tr>\n",
       "    <tr>\n",
       "      <th>6</th>\n",
       "      <td>1.170293</td>\n",
       "      <td>ApplicantIncome</td>\n",
       "    </tr>\n",
       "    <tr>\n",
       "      <th>7</th>\n",
       "      <td>1.172515</td>\n",
       "      <td>LoanAmount</td>\n",
       "    </tr>\n",
       "    <tr>\n",
       "      <th>8</th>\n",
       "      <td>1.016748</td>\n",
       "      <td>Credit_History</td>\n",
       "    </tr>\n",
       "    <tr>\n",
       "      <th>9</th>\n",
       "      <td>1.089244</td>\n",
       "      <td>Property_Area</td>\n",
       "    </tr>\n",
       "  </tbody>\n",
       "</table>\n",
       "</div>"
      ],
      "text/plain": [
       "        vif         features\n",
       "0  1.066794          Loan_ID\n",
       "1  1.185631           Gender\n",
       "2  1.322585          Married\n",
       "3  1.200055       Dependents\n",
       "4  1.051978        Education\n",
       "5  1.094414    Self_Employed\n",
       "6  1.170293  ApplicantIncome\n",
       "7  1.172515       LoanAmount\n",
       "8  1.016748   Credit_History\n",
       "9  1.089244    Property_Area"
      ]
     },
     "execution_count": 1810,
     "metadata": {},
     "output_type": "execute_result"
    }
   ],
   "source": [
    "# Check the multicollinearity between the features\n",
    "#import library for VIF\n",
    "from statsmodels.stats.outliers_influence import variance_inflation_factor\n",
    "vif = pd.DataFrame()\n",
    "vif[\"vif\"]= [ variance_inflation_factor(x_scaled, i)\n",
    "               for i in range ( x_scaled.shape[1])]\n",
    "vif['features']= x.columns\n",
    "vif "
   ]
  },
  {
   "cell_type": "code",
   "execution_count": 1813,
   "id": "a4a1d58d",
   "metadata": {},
   "outputs": [],
   "source": [
    "#split data into train and test.\n",
    "x_train, x_test, y_train, y_test = train_test_split(x_scaled, y,test_size = 0.25, random_state=13)"
   ]
  },
  {
   "cell_type": "code",
   "execution_count": 1814,
   "id": "2c0789c9",
   "metadata": {},
   "outputs": [
    {
     "data": {
      "text/plain": [
       "480    1\n",
       "384    0\n",
       "89     1\n",
       "270    1\n",
       "116    1\n",
       "Name: Loan_Status, dtype: int64"
      ]
     },
     "execution_count": 1814,
     "metadata": {},
     "output_type": "execute_result"
    }
   ],
   "source": [
    "y_train.head()"
   ]
  },
  {
   "cell_type": "markdown",
   "id": "3c588094",
   "metadata": {},
   "source": [
    "# Check the Accuracy by using 5 classification models"
   ]
  },
  {
   "cell_type": "code",
   "execution_count": 1815,
   "id": "d49131b9",
   "metadata": {},
   "outputs": [],
   "source": [
    "log_reg = LogisticRegression() #Model instantiating\n",
    "dt = DecisionTreeClassifier()\n",
    "rf= RandomForestClassifier()\n",
    "knn = KNeighborsClassifier()\n",
    "svc = SVC()"
   ]
  },
  {
   "cell_type": "code",
   "execution_count": 1816,
   "id": "3c2663ce",
   "metadata": {},
   "outputs": [
    {
     "name": "stdout",
     "output_type": "stream",
     "text": [
      "all models are trained\n"
     ]
    }
   ],
   "source": [
    "#train the model\n",
    "log_reg.fit(x_train,y_train)\n",
    "dt.fit(x_train,y_train)\n",
    "rf.fit(x_train,y_train)\n",
    "knn.fit(x_train,y_train)\n",
    "svc.fit(x_train,y_train)\n",
    "print(\"all models are trained\")"
   ]
  },
  {
   "cell_type": "code",
   "execution_count": 1817,
   "id": "ec0db9db",
   "metadata": {},
   "outputs": [
    {
     "name": "stdout",
     "output_type": "stream",
     "text": [
      "all models score are captured\n"
     ]
    }
   ],
   "source": [
    "log_reg.score(x_test,y_test) #Let's check how well model fits the test data\n",
    "dt.score(x_test,y_test)\n",
    "rf.score(x_test,y_test)\n",
    "knn.score(x_test,y_test)\n",
    "svc.score(x_test,y_test)\n",
    "print(\"all models score are captured\")"
   ]
  },
  {
   "cell_type": "code",
   "execution_count": 1818,
   "id": "3e384f87",
   "metadata": {},
   "outputs": [],
   "source": [
    "y_pred_log_reg = log_reg.predict(x_test) #save the predictions in some variables\n",
    "y_pred_dt = dt.predict(x_test) \n",
    "y_pred_rf = rf.predict(x_test) \n",
    "y_pred_knn = knn.predict(x_test) \n",
    "y_pred_svc = svc.predict(x_test) "
   ]
  },
  {
   "cell_type": "code",
   "execution_count": 1823,
   "id": "a7ccec59",
   "metadata": {},
   "outputs": [
    {
     "name": "stdout",
     "output_type": "stream",
     "text": [
      "Accuracy_score of Logistic regression:-------->   0.8317757009345794\n",
      "Confusion_matrix:\n",
      " [[12 18]\n",
      " [ 0 77]]\n",
      "Classification_report:\n",
      "               precision    recall  f1-score   support\n",
      "\n",
      "           0       1.00      0.40      0.57        30\n",
      "           1       0.81      1.00      0.90        77\n",
      "\n",
      "    accuracy                           0.83       107\n",
      "   macro avg       0.91      0.70      0.73       107\n",
      "weighted avg       0.86      0.83      0.80       107\n",
      "\n",
      "\n",
      " **************************************************\n",
      "\n",
      " **************************************************\n",
      "Accuracy_score of Decision Tree:-------->   0.7289719626168224\n",
      "Confusion_matrix:\n",
      " [[15 15]\n",
      " [14 63]]\n",
      "Classification_report:\n",
      "               precision    recall  f1-score   support\n",
      "\n",
      "           0       0.52      0.50      0.51        30\n",
      "           1       0.81      0.82      0.81        77\n",
      "\n",
      "    accuracy                           0.73       107\n",
      "   macro avg       0.66      0.66      0.66       107\n",
      "weighted avg       0.73      0.73      0.73       107\n",
      "\n",
      "\n",
      " **************************************************\n",
      "\n",
      " **************************************************\n",
      "Accuracy_score of Random forest:-------->   0.822429906542056\n",
      "Confusion_matrix:\n",
      " [[13 17]\n",
      " [ 2 75]]\n",
      "Classification_report:\n",
      "               precision    recall  f1-score   support\n",
      "\n",
      "           0       0.87      0.43      0.58        30\n",
      "           1       0.82      0.97      0.89        77\n",
      "\n",
      "    accuracy                           0.82       107\n",
      "   macro avg       0.84      0.70      0.73       107\n",
      "weighted avg       0.83      0.82      0.80       107\n",
      "\n",
      "\n",
      " **************************************************\n",
      "\n",
      " **************************************************\n",
      "Accuracy_score of KNeighbors Classifiers:-------->   0.822429906542056\n",
      "Confusion_matrix:\n",
      " [[12 18]\n",
      " [ 1 76]]\n",
      "Classification_report:\n",
      "               precision    recall  f1-score   support\n",
      "\n",
      "           0       0.92      0.40      0.56        30\n",
      "           1       0.81      0.99      0.89        77\n",
      "\n",
      "    accuracy                           0.82       107\n",
      "   macro avg       0.87      0.69      0.72       107\n",
      "weighted avg       0.84      0.82      0.80       107\n",
      "\n",
      "\n",
      " **************************************************\n",
      "\n",
      " **************************************************\n",
      "Accuracy_score of Support Vector Machine:-------->   0.8317757009345794\n",
      "Confusion_matrix:\n",
      " [[12 18]\n",
      " [ 0 77]]\n",
      "Classification_report:\n",
      "               precision    recall  f1-score   support\n",
      "\n",
      "           0       1.00      0.40      0.57        30\n",
      "           1       0.81      1.00      0.90        77\n",
      "\n",
      "    accuracy                           0.83       107\n",
      "   macro avg       0.91      0.70      0.73       107\n",
      "weighted avg       0.86      0.83      0.80       107\n",
      "\n"
     ]
    }
   ],
   "source": [
    "#check the accuracy score, confusion matrix and classification report\n",
    "print('Accuracy_score of Logistic regression:-------->  ',accuracy_score(y_test,y_pred_log_reg))\n",
    "time.sleep(2)\n",
    "print('Confusion_matrix:\\n' , confusion_matrix(y_test,y_pred_log_reg))\n",
    "time.sleep(2)\n",
    "print('Classification_report:\\n' , classification_report(y_test,y_pred_log_reg))\n",
    "\n",
    "time.sleep(2)\n",
    "print(\"\\n\",'*'*50)\n",
    "print(\"\\n\",'*'*50)\n",
    "time.sleep(2)\n",
    "\n",
    "\n",
    "print('Accuracy_score of Decision Tree:-------->  ',accuracy_score(y_test,y_pred_dt))\n",
    "time.sleep(2)\n",
    "print('Confusion_matrix:\\n' , confusion_matrix(y_test,y_pred_dt))\n",
    "time.sleep(2)\n",
    "print('Classification_report:\\n' , classification_report(y_test,y_pred_dt))\n",
    "\n",
    "time.sleep(2)\n",
    "print(\"\\n\",'*'*50)\n",
    "print(\"\\n\",'*'*50)\n",
    "time.sleep(2)\n",
    "\n",
    "print('Accuracy_score of Random forest:-------->  ',accuracy_score(y_test,y_pred_rf))\n",
    "time.sleep(2)\n",
    "print('Confusion_matrix:\\n' , confusion_matrix(y_test,y_pred_rf))\n",
    "time.sleep(2)\n",
    "print('Classification_report:\\n' , classification_report(y_test,y_pred_rf))\n",
    "\n",
    "time.sleep(2)\n",
    "print(\"\\n\",'*'*50)\n",
    "print(\"\\n\",'*'*50)\n",
    "time.sleep(2)\n",
    "\n",
    "print('Accuracy_score of KNeighbors Classifiers:-------->  ',accuracy_score(y_test,y_pred_knn))\n",
    "time.sleep(2)\n",
    "print('Confusion_matrix:\\n' , confusion_matrix(y_test,y_pred_knn))\n",
    "time.sleep(2)\n",
    "print('Classification_report:\\n' , classification_report(y_test,y_pred_knn))\n",
    "\n",
    "time.sleep(2)\n",
    "print(\"\\n\",'*'*50)\n",
    "print(\"\\n\",'*'*50)\n",
    "time.sleep(2)\n",
    "\n",
    "print('Accuracy_score of Support Vector Machine:-------->  ',accuracy_score(y_test,y_pred_svc))\n",
    "time.sleep(2)\n",
    "print('Confusion_matrix:\\n' , confusion_matrix(y_test,y_pred_svc))\n",
    "time.sleep(2)\n",
    "print('Classification_report:\\n' , classification_report(y_test,y_pred_svc))"
   ]
  },
  {
   "cell_type": "code",
   "execution_count": 1835,
   "id": "ab973727",
   "metadata": {},
   "outputs": [
    {
     "name": "stdout",
     "output_type": "stream",
     "text": [
      "Logistic regression CV Score:\n",
      "[0.8372093  0.78823529 0.8        0.87058824 0.84705882]\n",
      "\n",
      " **************************************************\n",
      "Decision Tree CV Score:\n",
      "[0.86046512 0.72941176 0.76470588 0.76470588 0.71764706]\n",
      "\n",
      " **************************************************\n",
      "Random Forest CV Score:\n",
      "[0.55813953 0.77647059 0.8        0.84705882 0.83529412]\n",
      "\n",
      " **************************************************\n",
      "KNeighbour Classifier CV Score:\n",
      "[0.8255814  0.74117647 0.8        0.83529412 0.84705882]\n",
      "\n",
      " **************************************************\n",
      "Support Vector Machine CV Score:\n",
      "[0.8372093  0.78823529 0.8        0.87058824 0.84705882]\n"
     ]
    }
   ],
   "source": [
    "#check all model cv score\n",
    "print(\"Logistic regression CV Score:\")\n",
    "print(cross_val_score(log_reg,x_scaled,y,cv=5))\n",
    "\n",
    "time.sleep(2)\n",
    "print(\"\\n\",'*'*50)\n",
    "\n",
    "print(\"Decision Tree CV Score:\")\n",
    "print(cross_val_score(dt,x_scaled,y,cv=5))\n",
    "\n",
    "time.sleep(2)\n",
    "print(\"\\n\",'*'*50)\n",
    "\n",
    "print(\"Random Forest CV Score:\")\n",
    "print(cross_val_score(rf,x_scaled,y,cv=5))\n",
    "\n",
    "time.sleep(2)\n",
    "print(\"\\n\",'*'*50)\n",
    "\n",
    "print(\"KNeighbour Classifier CV Score:\")\n",
    "print(cross_val_score(knn,x_scaled,y,cv=5))\n",
    "\n",
    "time.sleep(2)\n",
    "print(\"\\n\",'*'*50)\n",
    "\n",
    "print(\"Support Vector Machine CV Score:\")\n",
    "print(cross_val_score(svc,x_scaled,y,cv=5))"
   ]
  },
  {
   "cell_type": "code",
   "execution_count": 1836,
   "id": "b87806e2",
   "metadata": {},
   "outputs": [
    {
     "name": "stdout",
     "output_type": "stream",
     "text": [
      "Logistic regression CV Score:\n",
      "0.8286183310533517\n",
      "\n",
      " **************************************************\n",
      "Decision Tree CV Score:\n",
      "0.7720656634746922\n",
      "\n",
      " **************************************************\n",
      "Random Forest CV Score:\n",
      "0.7773187414500683\n",
      "\n",
      " **************************************************\n",
      "KNeighbour Classifier CV Score:\n",
      "0.8098221614227088\n",
      "\n",
      " **************************************************\n",
      "Support Vector Machine CV Score:\n",
      "0.8286183310533517\n"
     ]
    }
   ],
   "source": [
    "#Check the mean of all models cv score one by one\n",
    "print(\"Logistic regression CV Score:\")\n",
    "print(cross_val_score(log_reg,x_scaled,y,cv=5).mean())\n",
    "\n",
    "time.sleep(2)\n",
    "print(\"\\n\",'*'*50)\n",
    "\n",
    "print(\"Decision Tree CV Score:\")\n",
    "print(cross_val_score(dt,x_scaled,y,cv=5).mean())\n",
    "\n",
    "time.sleep(2)\n",
    "print(\"\\n\",'*'*50)\n",
    "\n",
    "print(\"Random Forest CV Score:\")\n",
    "print(cross_val_score(rf,x_scaled,y,cv=5).mean())\n",
    "\n",
    "time.sleep(2)\n",
    "print(\"\\n\",'*'*50)\n",
    "\n",
    "print(\"KNeighbour Classifier CV Score:\")\n",
    "print(cross_val_score(knn,x_scaled,y,cv=5).mean())\n",
    "\n",
    "time.sleep(2)\n",
    "print(\"\\n\",'*'*50)\n",
    "\n",
    "print(\"Support Vector Machine CV Score:\")\n",
    "print(cross_val_score(svc,x_scaled,y,cv=5).mean())"
   ]
  },
  {
   "cell_type": "code",
   "execution_count": 1,
   "id": "aca065a9",
   "metadata": {},
   "outputs": [],
   "source": [
    "# Plot ROC/AUC for multiple models"
   ]
  },
  {
   "cell_type": "code",
   "execution_count": 1837,
   "id": "bbaf4cbb",
   "metadata": {},
   "outputs": [
    {
     "data": {
      "image/png": "[encoded data removed]",
      "text/plain": [
       "<Figure size 432x288 with 1 Axes>"
      ]
     },
     "metadata": {
      "needs_background": "light"
     },
     "output_type": "display_data"
    }
   ],
   "source": [
    "#how well out model works on test data\n",
    "disp = plot_roc_curve(dt,x_test,y_test)\n",
    "plot_roc_curve(log_reg,x_test,y_test, ax= disp.ax_)\n",
    "plot_roc_curve(rf,x_test,y_test, ax= disp.ax_)\n",
    "plot_roc_curve(knn,x_test,y_test, ax= disp.ax_)\n",
    "plot_roc_curve(svc,x_test,y_test, ax= disp.ax_)\n",
    "plt.show()"
   ]
  },
  {
   "cell_type": "markdown",
   "id": "12f7b1df",
   "metadata": {},
   "source": [
    "# GridSearchCV By using Knn as a estimator"
   ]
  },
  {
   "cell_type": "code",
   "execution_count": 1868,
   "id": "d848cc5d",
   "metadata": {},
   "outputs": [
    {
     "name": "stdout",
     "output_type": "stream",
     "text": [
      "GridSearchCV(estimator=KNeighborsClassifier(algorithm='brute', leaf_size=12,\n",
      "                                            n_neighbors=11),\n",
      "             param_grid={'algorithm': ['kdtree', 'brute'],\n",
      "                         'leaf_size': [12, 11, 14, 15, 18, 20, 25],\n",
      "                         'n_neighbors': [3, 5, 7, 9, 11, 13]})\n",
      "\n",
      " **************************************************\n",
      "GridSearchCV best parameters:-----> {'algorithm': 'brute', 'leaf_size': 12, 'n_neighbors': 11}\n",
      "\n",
      " **************************************************\n",
      "Trained Model:-----> KNeighborsClassifier(algorithm='brute', leaf_size=12, n_neighbors=11)\n",
      "\n",
      " **************************************************\n",
      "Accuracy score:------> 0.8213166144200627\n"
     ]
    }
   ],
   "source": [
    "param_grid = {'algorithm':['kdtree','brute'], 'leaf_size':[12,11,14,15,18,20,25], 'n_neighbors':[3,5,7,9,11,13]}\n",
    "gridsearch = GridSearchCV(estimator=knn, param_grid= param_grid) #apply GridSearchCV\n",
    "time.sleep(2)\n",
    "print(gridsearch.fit(x_train,y_train)) #train the model\n",
    "time.sleep(1)\n",
    "print(\"\\n\",'*'*50)\n",
    "time.sleep(1)\n",
    "print('GridSearchCV best parameters:----->',gridsearch.best_params_) #get best parameters\n",
    "time.sleep(1)\n",
    "print(\"\\n\",'*'*50)\n",
    "time.sleep(1)\n",
    "#put best params into knn\n",
    "knn1 = gridsearch.best_estimator_ #save that best param into one variable\n",
    "print('Trained Model using best parameters:----->',knn1.fit(x_train,y_train))#train the model\n",
    "time.sleep(1)\n",
    "print(\"\\n\",'*'*50)\n",
    "time.sleep(1)\n",
    "print('Accuracy score:------>',knn1.score(x_train,y_train)) #check the accuracy score"
   ]
  },
  {
   "cell_type": "markdown",
   "id": "5996356f",
   "metadata": {},
   "source": [
    "# GridSearchCV By using SVC as a estimator"
   ]
  },
  {
   "cell_type": "code",
   "execution_count": 1869,
   "id": "d185af06",
   "metadata": {},
   "outputs": [
    {
     "name": "stdout",
     "output_type": "stream",
     "text": [
      "GridSearchCV(estimator=SVC(C=1, gamma=0.2),\n",
      "             param_grid={'C': [1, 2, 4, 5, 6, 7, 8, 9, 10],\n",
      "                         'gamma': [0.2, 0.3, 0.4, 0.5, 0.6, 0.7, 0.8],\n",
      "                         'kernel': ['rbf']})\n",
      "\n",
      " **************************************************\n",
      "GridSearchCV best parameters:-----> {'C': 1, 'gamma': 0.2, 'kernel': 'rbf'}\n",
      "\n",
      " **************************************************\n",
      "Trained Model:-----> SVC(C=1, gamma=0.2)\n",
      "\n",
      " **************************************************\n",
      "Accuracy score:------> 0.8683385579937304\n"
     ]
    }
   ],
   "source": [
    "param_grid = {'C': [1,2,4,5,6,7,8,9,10],         \n",
    "             'gamma': [0.2,0.3,0.4,0.5,0.6,0.7,0.8],\n",
    "             'kernel': ['rbf']}\n",
    "gridsearch = GridSearchCV(estimator=svc, param_grid= param_grid)#apply GridSearchCV\n",
    "time.sleep(2)\n",
    "print(gridsearch.fit(x_train,y_train)) #train the model\n",
    "time.sleep(1)\n",
    "print(\"\\n\",'*'*50)\n",
    "time.sleep(1)\n",
    "print('GridSearchCV best parameters:----->',gridsearch.best_params_) #get best parameters\n",
    "time.sleep(1)\n",
    "print(\"\\n\",'*'*50)\n",
    "time.sleep(1)\n",
    "#put best params into svc\n",
    "svc1 = gridsearch.best_estimator_#save that best param into one variable\n",
    "print('Trained Model using best parameters:----->',svc1.fit(x_train,y_train))#train the model\n",
    "time.sleep(1)\n",
    "print(\"\\n\",'*'*50)\n",
    "time.sleep(1)\n",
    "print('Accuracy score:------>',svc1.score(x_train,y_train))#check the accuracy score"
   ]
  },
  {
   "cell_type": "markdown",
   "id": "c612255f",
   "metadata": {},
   "source": [
    "# GridSearchCV By using RandomForestClassifier as a estimator"
   ]
  },
  {
   "cell_type": "code",
   "execution_count": 1870,
   "id": "1d1ad5f1",
   "metadata": {},
   "outputs": [
    {
     "name": "stdout",
     "output_type": "stream",
     "text": [
      "GridSearchCV(estimator=RandomForestClassifier(),\n",
      "             param_grid={'criterion': ['entropy'], 'max_depth': [10, 15],\n",
      "                         'min_samples_leaf': [5, 6],\n",
      "                         'min_samples_split': [10, 11],\n",
      "                         'n_estimators': [13, 15]})\n",
      "\n",
      " **************************************************\n",
      "GridSearchCV best parameters:-----> {'criterion': 'entropy', 'max_depth': 15, 'min_samples_leaf': 5, 'min_samples_split': 11, 'n_estimators': 15}\n",
      "\n",
      " **************************************************\n",
      "Trained Model using best parameters:-----> RandomForestClassifier(criterion='entropy', max_depth=15, min_samples_leaf=5,\n",
      "                       min_samples_split=11, n_estimators=15)\n",
      "\n",
      " **************************************************\n",
      "Accuracy score:------> 0.8275862068965517\n"
     ]
    }
   ],
   "source": [
    "params = {'n_estimators':[13,15],\n",
    "         'criterion':['entropy'],\n",
    "         'max_depth':[10,15],\n",
    "         'min_samples_split':[10,11],\n",
    "         'min_samples_leaf':[5,6]}\n",
    "gridsearch = GridSearchCV(estimator=rf, param_grid= params)#apply GridSearchCV\n",
    "time.sleep(2)\n",
    "print(gridsearch.fit(x_train,y_train)) #train the model\n",
    "time.sleep(1)\n",
    "print(\"\\n\",'*'*50)\n",
    "time.sleep(1)\n",
    "print('GridSearchCV best parameters:----->',gridsearch.best_params_) #get best parameters\n",
    "time.sleep(1)\n",
    "print(\"\\n\",'*'*50)\n",
    "time.sleep(1)\n",
    "#put best params into knn\n",
    "rfc = gridsearch.best_estimator_\n",
    "print('Trained Model using best parameters:----->',rfc.fit(x_train,y_train)) #train the model\n",
    "time.sleep(1)\n",
    "print(\"\\n\",'*'*50)\n",
    "time.sleep(1)\n",
    "print('Accuracy score:------>',rfc.score(x_train,y_train))#check the accuracy score"
   ]
  },
  {
   "cell_type": "markdown",
   "id": "157ecb09",
   "metadata": {},
   "source": [
    "# GridSearchCV By using DecisionTreeClassifier as a estimator"
   ]
  },
  {
   "cell_type": "code",
   "execution_count": 1871,
   "id": "1d7e6011",
   "metadata": {},
   "outputs": [
    {
     "name": "stdout",
     "output_type": "stream",
     "text": [
      "GridSearchCV(estimator=DecisionTreeClassifier(),\n",
      "             param_grid={'criterion': ['entropy', 'gini'],\n",
      "                         'max_depth': range(10, 15),\n",
      "                         'min_samples_leaf': [2, 10],\n",
      "                         'min_samples_split': [3, 10]})\n",
      "\n",
      " **************************************************\n",
      "GridSearchCV best parameters:-----> {'criterion': 'entropy', 'max_depth': 10, 'min_samples_leaf': 10, 'min_samples_split': 3}\n",
      "\n",
      " **************************************************\n",
      "Trained Model using best parameters:-----> DecisionTreeClassifier(criterion='entropy', max_depth=10, min_samples_leaf=10,\n",
      "                       min_samples_split=3)\n",
      "\n",
      " **************************************************\n",
      "Accuracy score:------> 0.8432601880877743\n"
     ]
    }
   ],
   "source": [
    "params = {'criterion':['entropy','gini'],\n",
    "         'max_depth':range(10,15),\n",
    "         'min_samples_split':[3,10],\n",
    "         'min_samples_leaf':[2,10]}\n",
    "gridsearch = GridSearchCV(estimator=dt, param_grid= params)#apply GridSearchCV\n",
    "time.sleep(2)\n",
    "print(gridsearch.fit(x_train,y_train)) #train the model\n",
    "time.sleep(1)\n",
    "print(\"\\n\",'*'*50)\n",
    "time.sleep(1)\n",
    "print('GridSearchCV best parameters:----->',gridsearch.best_params_) #get best parameters\n",
    "time.sleep(1)\n",
    "print(\"\\n\",'*'*50)\n",
    "time.sleep(1)\n",
    "#put best params into knn\n",
    "dtr = gridsearch.best_estimator_\n",
    "print('Trained Model using best parameters:----->',dtr.fit(x_train,y_train))#train the model\n",
    "time.sleep(1)\n",
    "print(\"\\n\",'*'*50)\n",
    "time.sleep(1)\n",
    "print('Accuracy score:------>',dtr.score(x_train,y_train))#check the accuracy score"
   ]
  },
  {
   "cell_type": "markdown",
   "id": "3974f2f0",
   "metadata": {},
   "source": [
    "# Bagging Classifier with Bootstrap = True (Using 4 models)"
   ]
  },
  {
   "cell_type": "markdown",
   "id": "c49d9ce7",
   "metadata": {},
   "source": [
    "Using knn as a best estimator"
   ]
  },
  {
   "cell_type": "code",
   "execution_count": 1880,
   "id": "e021eee5",
   "metadata": {},
   "outputs": [
    {
     "name": "stdout",
     "output_type": "stream",
     "text": [
      "Model is Trained:-  BaggingClassifier(base_estimator=KNeighborsClassifier(), max_samples=0.5,\n",
      "                  oob_score=True, random_state=3)\n",
      "\n",
      " **************************************************\n",
      "Accuracy score by using BaggingClassifier:- 0.8317757009345794\n"
     ]
    }
   ],
   "source": [
    "bag_knn = BaggingClassifier(KNeighborsClassifier(n_neighbors=5),\n",
    "                           n_estimators=10, max_samples=0.5,\n",
    "                           bootstrap=True, random_state=3,\n",
    "                           oob_score=True)\n",
    "time.sleep(2)\n",
    "print('Model is Trained:- ', bag_knn.fit(x_train,y_train))\n",
    "time.sleep(1)\n",
    "print(\"\\n\",'*'*50)\n",
    "time.sleep(1)\n",
    "print('Accuracy score by using BaggingClassifier:-', bag_knn.score(x_test,y_test))"
   ]
  },
  {
   "cell_type": "markdown",
   "id": "bea86514",
   "metadata": {},
   "source": [
    "Using svc as a best estimator"
   ]
  },
  {
   "cell_type": "code",
   "execution_count": 1884,
   "id": "cb446d5f",
   "metadata": {},
   "outputs": [
    {
     "name": "stdout",
     "output_type": "stream",
     "text": [
      "Model is Trained:-  BaggingClassifier(base_estimator=SVC(), n_estimators=15, oob_score=True,\n",
      "                  random_state=5)\n",
      "\n",
      " **************************************************\n",
      "Accuracy score by using BaggingClassifier:- 0.8317757009345794\n"
     ]
    }
   ],
   "source": [
    "bag_svc = BaggingClassifier(SVC(),                       #using svc as a best estimator\n",
    "                           n_estimators=15,\n",
    "                           bootstrap=True, random_state=5,\n",
    "                           oob_score=True)\n",
    "time.sleep(2)\n",
    "print('Model is Trained:- ', bag_svc.fit(x_train,y_train))\n",
    "time.sleep(1)\n",
    "print(\"\\n\",'*'*50)\n",
    "time.sleep(1)\n",
    "print('Accuracy score by using BaggingClassifier:-', bag_svc.score(x_test,y_test))"
   ]
  },
  {
   "cell_type": "markdown",
   "id": "78c59f72",
   "metadata": {},
   "source": [
    "Using RandomForestClassifier as a best estimator"
   ]
  },
  {
   "cell_type": "code",
   "execution_count": 1894,
   "id": "fd1fac0f",
   "metadata": {},
   "outputs": [
    {
     "name": "stdout",
     "output_type": "stream",
     "text": [
      "Model is Trained:-  BaggingClassifier(base_estimator=RandomForestClassifier(), n_estimators=15,\n",
      "                  oob_score=True, random_state=7)\n",
      "\n",
      " **************************************************\n",
      "Accuracy score by using BaggingClassifier:- 0.822429906542056\n"
     ]
    }
   ],
   "source": [
    "bag_rf = BaggingClassifier(RandomForestClassifier(),#using RandomForest as a best estimator\n",
    "                           n_estimators=15,\n",
    "                           bootstrap=True, random_state=7,\n",
    "                           oob_score=True)\n",
    "time.sleep(2)\n",
    "print('Model is Trained:- ', bag_rf.fit(x_train,y_train))\n",
    "time.sleep(1)\n",
    "print(\"\\n\",'*'*50)\n",
    "time.sleep(1)\n",
    "print('Accuracy score by using BaggingClassifier:-', bag_rf.score(x_test,y_test))"
   ]
  },
  {
   "cell_type": "markdown",
   "id": "c63e6686",
   "metadata": {},
   "source": [
    "Using DecisionTreeClassifier as a best estimator"
   ]
  },
  {
   "cell_type": "code",
   "execution_count": 1895,
   "id": "8b411b2f",
   "metadata": {},
   "outputs": [
    {
     "name": "stdout",
     "output_type": "stream",
     "text": [
      "Model is Trained:-  BaggingClassifier(base_estimator=DecisionTreeClassifier(), n_estimators=15,\n",
      "                  oob_score=True, random_state=7)\n",
      "\n",
      " **************************************************\n",
      "Accuracy score by using BaggingClassifier:- 0.7850467289719626\n"
     ]
    }
   ],
   "source": [
    "bag_dt = BaggingClassifier(dt,                        #using DecisionTree as a best estimator\n",
    "                           n_estimators=15,\n",
    "                           bootstrap=True, random_state=7,\n",
    "                           oob_score=True)\n",
    "time.sleep(2)\n",
    "print('Model is Trained:- ', bag_dt.fit(x_train,y_train))\n",
    "time.sleep(1)\n",
    "print(\"\\n\",'*'*50)\n",
    "time.sleep(1)\n",
    "print('Accuracy score by using BaggingClassifier:-', bag_dt.score(x_test,y_test))"
   ]
  },
  {
   "cell_type": "markdown",
   "id": "ebaa1e72",
   "metadata": {},
   "source": [
    "# Bagging Classifier with Bootstrap = False (Using 4 models)"
   ]
  },
  {
   "cell_type": "markdown",
   "id": "8ee0cc4a",
   "metadata": {},
   "source": [
    "Using knn as a best estimator"
   ]
  },
  {
   "cell_type": "code",
   "execution_count": 1897,
   "id": "1157225d",
   "metadata": {},
   "outputs": [
    {
     "name": "stdout",
     "output_type": "stream",
     "text": [
      "Model is Trained:-  BaggingClassifier(base_estimator=KNeighborsClassifier(), bootstrap=False,\n",
      "                  max_samples=0.5, random_state=3)\n",
      "\n",
      " **************************************************\n",
      "Accuracy score by using BaggingClassifier:- 0.822429906542056\n"
     ]
    }
   ],
   "source": [
    "bag_knn = BaggingClassifier(KNeighborsClassifier(n_neighbors=5),#using knn as a best estimator\n",
    "                           n_estimators=10, max_samples=0.5,\n",
    "                           bootstrap=False, random_state=3,\n",
    "                           )\n",
    "time.sleep(2)\n",
    "print('Model is Trained:- ', bag_knn.fit(x_train,y_train))\n",
    "time.sleep(1)\n",
    "print(\"\\n\",'*'*50)\n",
    "time.sleep(1)\n",
    "print('Accuracy score by using BaggingClassifier:-', bag_knn.score(x_test,y_test))"
   ]
  },
  {
   "cell_type": "markdown",
   "id": "c84c74af",
   "metadata": {},
   "source": [
    "Using svc as a best estimator"
   ]
  },
  {
   "cell_type": "code",
   "execution_count": 1898,
   "id": "85230ddb",
   "metadata": {},
   "outputs": [
    {
     "name": "stdout",
     "output_type": "stream",
     "text": [
      "Model is Trained:-  BaggingClassifier(base_estimator=SVC(), bootstrap=False, n_estimators=15,\n",
      "                  random_state=5)\n",
      "\n",
      " **************************************************\n",
      "Accuracy score by using BaggingClassifier:- 0.8317757009345794\n"
     ]
    }
   ],
   "source": [
    "bag_svc = BaggingClassifier(SVC(),                  #using svc as a best estimator\n",
    "                           n_estimators=15,\n",
    "                           bootstrap=False, random_state=5,\n",
    "                           )\n",
    "time.sleep(2)\n",
    "print('Model is Trained:- ', bag_svc.fit(x_train,y_train))\n",
    "time.sleep(1)\n",
    "print(\"\\n\",'*'*50)\n",
    "time.sleep(1)\n",
    "print('Accuracy score by using BaggingClassifier:-', bag_svc.score(x_test,y_test))"
   ]
  },
  {
   "cell_type": "markdown",
   "id": "6c30df8d",
   "metadata": {},
   "source": [
    "Using RandomForestClassifier as a best estimator"
   ]
  },
  {
   "cell_type": "code",
   "execution_count": 1899,
   "id": "94aac226",
   "metadata": {},
   "outputs": [
    {
     "name": "stdout",
     "output_type": "stream",
     "text": [
      "Model is Trained:-  BaggingClassifier(base_estimator=RandomForestClassifier(), bootstrap=False,\n",
      "                  n_estimators=15, random_state=7)\n",
      "\n",
      " **************************************************\n",
      "Accuracy score by using BaggingClassifier:- 0.822429906542056\n"
     ]
    }
   ],
   "source": [
    "bag_rf = BaggingClassifier(RandomForestClassifier(),   #using RandomForest as a best estimator\n",
    "                           n_estimators=15,\n",
    "                           bootstrap=False, random_state=7,\n",
    "                           )\n",
    "time.sleep(2)\n",
    "print('Model is Trained:- ', bag_rf.fit(x_train,y_train))\n",
    "time.sleep(1)\n",
    "print(\"\\n\",'*'*50)\n",
    "time.sleep(1)\n",
    "print('Accuracy score by using BaggingClassifier:-', bag_rf.score(x_test,y_test))"
   ]
  },
  {
   "cell_type": "markdown",
   "id": "fd902fa8",
   "metadata": {},
   "source": [
    "Using DecisionTreeClassifier as a best estimator"
   ]
  },
  {
   "cell_type": "code",
   "execution_count": 1900,
   "id": "c565fac8",
   "metadata": {},
   "outputs": [
    {
     "name": "stdout",
     "output_type": "stream",
     "text": [
      "Model is Trained:-  BaggingClassifier(base_estimator=DecisionTreeClassifier(), bootstrap=False,\n",
      "                  n_estimators=15, random_state=7)\n",
      "\n",
      " **************************************************\n",
      "Accuracy score by using BaggingClassifier:- 0.7383177570093458\n"
     ]
    }
   ],
   "source": [
    "bag_dt = BaggingClassifier(dt,                       #using DecisionTree as a best estimator\n",
    "                           n_estimators=15,\n",
    "                           bootstrap=False, random_state=7,\n",
    "                           )\n",
    "time.sleep(2)\n",
    "print('Model is Trained:- ', bag_dt.fit(x_train,y_train))\n",
    "time.sleep(1)\n",
    "print(\"\\n\",'*'*50)\n",
    "time.sleep(1)\n",
    "print('Accuracy score by using BaggingClassifier:-', bag_dt.score(x_test,y_test))"
   ]
  },
  {
   "cell_type": "markdown",
   "id": "f8947a4a",
   "metadata": {},
   "source": [
    "# Saving the Model"
   ]
  },
  {
   "cell_type": "code",
   "execution_count": null,
   "id": "df6ac8ec",
   "metadata": {},
   "outputs": [],
   "source": [
    "#by using GridSearchCV and svc as an estimator, it is giving 86% accuracy, which is highest\n",
    "#so, we select it as our best model"
   ]
  },
  {
   "cell_type": "code",
   "execution_count": 123,
   "id": "24d5b60e",
   "metadata": {},
   "outputs": [],
   "source": [
    "with open('Loan_application_status','wb') as f:\n",
    "    pickle.dump(SVC(),f)"
   ]
  },
  {
   "cell_type": "code",
   "execution_count": null,
   "id": "b2c285e7",
   "metadata": {},
   "outputs": [],
   "source": []
  }
 ],
 "metadata": {
  "kernelspec": {
   "display_name": "Python 3",
   "language": "python",
   "name": "python3"
  },
  "language_info": {
   "codemirror_mode": {
    "name": "ipython",
    "version": 3
   },
   "file_extension": ".py",
   "mimetype": "text/x-python",
   "name": "python",
   "nbconvert_exporter": "python",
   "pygments_lexer": "ipython3",
   "version": "3.8.8"
  }
 },
 "nbformat": 4,
 "nbformat_minor": 5
}
