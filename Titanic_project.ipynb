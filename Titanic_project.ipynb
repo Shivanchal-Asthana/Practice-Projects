{
 "cells": [
  {
   "cell_type": "code",
   "execution_count": 1271,
   "id": "9e6199d0",
   "metadata": {},
   "outputs": [],
   "source": [
    "#importing necessary libraries\n",
    "import pandas as pd\n",
    "import numpy as np\n",
    "import statsmodels.formula.api as smf\n",
    "from sklearn.preprocessing import StandardScaler, OrdinalEncoder, OneHotEncoder, LabelEncoder, PowerTransformer\n",
    "from sklearn.impute import SimpleImputer\n",
    "from sklearn.compose import make_column_transformer\n",
    "from sklearn.linear_model import LinearRegression, LogisticRegression\n",
    "from sklearn.model_selection import train_test_split, RandomizedSearchCV\n",
    "from sklearn.feature_selection import SelectPercentile, chi2\n",
    "from sklearn.metrics import mean_squared_error, mean_absolute_error, roc_curve, roc_auc_score, plot_roc_curve\n",
    "from sklearn.ensemble import AdaBoostRegressor, GradientBoostingRegressor, RandomForestClassifier\n",
    "from scipy.stats import norm, stats, zscore\n",
    "from sklearn.neighbors import KNeighborsClassifier\n",
    "from sklearn.tree import DecisionTreeClassifier\n",
    "import statistics as st\n",
    "import statsmodels.api as sm\n",
    "import seaborn as sns\n",
    "import matplotlib.pyplot as plt\n",
    "import pickle\n",
    "\n",
    "\n",
    "\n",
    "#import plotty\n",
    "import warnings\n",
    "warnings.filterwarnings('ignore')"
   ]
  },
  {
   "cell_type": "code",
   "execution_count": 1272,
   "id": "5f294d15",
   "metadata": {},
   "outputs": [
    {
     "data": {
      "text/html": [
       "<div>\n",
       "<style scoped>\n",
       "    .dataframe tbody tr th:only-of-type {\n",
       "        vertical-align: middle;\n",
       "    }\n",
       "\n",
       "    .dataframe tbody tr th {\n",
       "        vertical-align: top;\n",
       "    }\n",
       "\n",
       "    .dataframe thead th {\n",
       "        text-align: right;\n",
       "    }\n",
       "</style>\n",
       "<table border=\"1\" class=\"dataframe\">\n",
       "  <thead>\n",
       "    <tr style=\"text-align: right;\">\n",
       "      <th></th>\n",
       "      <th>PassengerId</th>\n",
       "      <th>Survived</th>\n",
       "      <th>Pclass</th>\n",
       "      <th>Name</th>\n",
       "      <th>Sex</th>\n",
       "      <th>Age</th>\n",
       "      <th>SibSp</th>\n",
       "      <th>Parch</th>\n",
       "      <th>Ticket</th>\n",
       "      <th>Fare</th>\n",
       "      <th>Cabin</th>\n",
       "      <th>Embarked</th>\n",
       "    </tr>\n",
       "  </thead>\n",
       "  <tbody>\n",
       "    <tr>\n",
       "      <th>0</th>\n",
       "      <td>1</td>\n",
       "      <td>0</td>\n",
       "      <td>3</td>\n",
       "      <td>Braund, Mr. Owen Harris</td>\n",
       "      <td>male</td>\n",
       "      <td>22.0</td>\n",
       "      <td>1</td>\n",
       "      <td>0</td>\n",
       "      <td>A/5 21171</td>\n",
       "      <td>7.2500</td>\n",
       "      <td>NaN</td>\n",
       "      <td>S</td>\n",
       "    </tr>\n",
       "    <tr>\n",
       "      <th>1</th>\n",
       "      <td>2</td>\n",
       "      <td>1</td>\n",
       "      <td>1</td>\n",
       "      <td>Cumings, Mrs. John Bradley (Florence Briggs Th...</td>\n",
       "      <td>female</td>\n",
       "      <td>38.0</td>\n",
       "      <td>1</td>\n",
       "      <td>0</td>\n",
       "      <td>PC 17599</td>\n",
       "      <td>71.2833</td>\n",
       "      <td>C85</td>\n",
       "      <td>C</td>\n",
       "    </tr>\n",
       "    <tr>\n",
       "      <th>2</th>\n",
       "      <td>3</td>\n",
       "      <td>1</td>\n",
       "      <td>3</td>\n",
       "      <td>Heikkinen, Miss. Laina</td>\n",
       "      <td>female</td>\n",
       "      <td>26.0</td>\n",
       "      <td>0</td>\n",
       "      <td>0</td>\n",
       "      <td>STON/O2. 3101282</td>\n",
       "      <td>7.9250</td>\n",
       "      <td>NaN</td>\n",
       "      <td>S</td>\n",
       "    </tr>\n",
       "    <tr>\n",
       "      <th>3</th>\n",
       "      <td>4</td>\n",
       "      <td>1</td>\n",
       "      <td>1</td>\n",
       "      <td>Futrelle, Mrs. Jacques Heath (Lily May Peel)</td>\n",
       "      <td>female</td>\n",
       "      <td>35.0</td>\n",
       "      <td>1</td>\n",
       "      <td>0</td>\n",
       "      <td>113803</td>\n",
       "      <td>53.1000</td>\n",
       "      <td>C123</td>\n",
       "      <td>S</td>\n",
       "    </tr>\n",
       "    <tr>\n",
       "      <th>4</th>\n",
       "      <td>5</td>\n",
       "      <td>0</td>\n",
       "      <td>3</td>\n",
       "      <td>Allen, Mr. William Henry</td>\n",
       "      <td>male</td>\n",
       "      <td>35.0</td>\n",
       "      <td>0</td>\n",
       "      <td>0</td>\n",
       "      <td>373450</td>\n",
       "      <td>8.0500</td>\n",
       "      <td>NaN</td>\n",
       "      <td>S</td>\n",
       "    </tr>\n",
       "  </tbody>\n",
       "</table>\n",
       "</div>"
      ],
      "text/plain": [
       "   PassengerId  Survived  Pclass  \\\n",
       "0            1         0       3   \n",
       "1            2         1       1   \n",
       "2            3         1       3   \n",
       "3            4         1       1   \n",
       "4            5         0       3   \n",
       "\n",
       "                                                Name     Sex   Age  SibSp  \\\n",
       "0                            Braund, Mr. Owen Harris    male  22.0      1   \n",
       "1  Cumings, Mrs. John Bradley (Florence Briggs Th...  female  38.0      1   \n",
       "2                             Heikkinen, Miss. Laina  female  26.0      0   \n",
       "3       Futrelle, Mrs. Jacques Heath (Lily May Peel)  female  35.0      1   \n",
       "4                           Allen, Mr. William Henry    male  35.0      0   \n",
       "\n",
       "   Parch            Ticket     Fare Cabin Embarked  \n",
       "0      0         A/5 21171   7.2500   NaN        S  \n",
       "1      0          PC 17599  71.2833   C85        C  \n",
       "2      0  STON/O2. 3101282   7.9250   NaN        S  \n",
       "3      0            113803  53.1000  C123        S  \n",
       "4      0            373450   8.0500   NaN        S  "
      ]
     },
     "execution_count": 1272,
     "metadata": {},
     "output_type": "execute_result"
    }
   ],
   "source": [
    "df = pd.read_csv('https://raw.githubusercontent.com/dsrscientist/dataset1/master/titanic_train.csv')\n",
    "df.head(5) #read the csv file"
   ]
  },
  {
   "cell_type": "code",
   "execution_count": 1273,
   "id": "d534308b",
   "metadata": {},
   "outputs": [
    {
     "data": {
      "text/plain": [
       "(891, 12)"
      ]
     },
     "execution_count": 1273,
     "metadata": {},
     "output_type": "execute_result"
    }
   ],
   "source": [
    "df.shape #check the shape of the dataset"
   ]
  },
  {
   "cell_type": "code",
   "execution_count": 1274,
   "id": "a179089a",
   "metadata": {},
   "outputs": [
    {
     "data": {
      "text/html": [
       "<div>\n",
       "<style scoped>\n",
       "    .dataframe tbody tr th:only-of-type {\n",
       "        vertical-align: middle;\n",
       "    }\n",
       "\n",
       "    .dataframe tbody tr th {\n",
       "        vertical-align: top;\n",
       "    }\n",
       "\n",
       "    .dataframe thead th {\n",
       "        text-align: right;\n",
       "    }\n",
       "</style>\n",
       "<table border=\"1\" class=\"dataframe\">\n",
       "  <thead>\n",
       "    <tr style=\"text-align: right;\">\n",
       "      <th></th>\n",
       "      <th>PassengerId</th>\n",
       "      <th>Survived</th>\n",
       "      <th>Pclass</th>\n",
       "      <th>Age</th>\n",
       "      <th>SibSp</th>\n",
       "      <th>Parch</th>\n",
       "      <th>Fare</th>\n",
       "    </tr>\n",
       "  </thead>\n",
       "  <tbody>\n",
       "    <tr>\n",
       "      <th>count</th>\n",
       "      <td>891.000000</td>\n",
       "      <td>891.000000</td>\n",
       "      <td>891.000000</td>\n",
       "      <td>714.000000</td>\n",
       "      <td>891.000000</td>\n",
       "      <td>891.000000</td>\n",
       "      <td>891.000000</td>\n",
       "    </tr>\n",
       "    <tr>\n",
       "      <th>mean</th>\n",
       "      <td>446.000000</td>\n",
       "      <td>0.383838</td>\n",
       "      <td>2.308642</td>\n",
       "      <td>29.699118</td>\n",
       "      <td>0.523008</td>\n",
       "      <td>0.381594</td>\n",
       "      <td>32.204208</td>\n",
       "    </tr>\n",
       "    <tr>\n",
       "      <th>std</th>\n",
       "      <td>257.353842</td>\n",
       "      <td>0.486592</td>\n",
       "      <td>0.836071</td>\n",
       "      <td>14.526497</td>\n",
       "      <td>1.102743</td>\n",
       "      <td>0.806057</td>\n",
       "      <td>49.693429</td>\n",
       "    </tr>\n",
       "    <tr>\n",
       "      <th>min</th>\n",
       "      <td>1.000000</td>\n",
       "      <td>0.000000</td>\n",
       "      <td>1.000000</td>\n",
       "      <td>0.420000</td>\n",
       "      <td>0.000000</td>\n",
       "      <td>0.000000</td>\n",
       "      <td>0.000000</td>\n",
       "    </tr>\n",
       "    <tr>\n",
       "      <th>25%</th>\n",
       "      <td>223.500000</td>\n",
       "      <td>0.000000</td>\n",
       "      <td>2.000000</td>\n",
       "      <td>20.125000</td>\n",
       "      <td>0.000000</td>\n",
       "      <td>0.000000</td>\n",
       "      <td>7.910400</td>\n",
       "    </tr>\n",
       "    <tr>\n",
       "      <th>50%</th>\n",
       "      <td>446.000000</td>\n",
       "      <td>0.000000</td>\n",
       "      <td>3.000000</td>\n",
       "      <td>28.000000</td>\n",
       "      <td>0.000000</td>\n",
       "      <td>0.000000</td>\n",
       "      <td>14.454200</td>\n",
       "    </tr>\n",
       "    <tr>\n",
       "      <th>75%</th>\n",
       "      <td>668.500000</td>\n",
       "      <td>1.000000</td>\n",
       "      <td>3.000000</td>\n",
       "      <td>38.000000</td>\n",
       "      <td>1.000000</td>\n",
       "      <td>0.000000</td>\n",
       "      <td>31.000000</td>\n",
       "    </tr>\n",
       "    <tr>\n",
       "      <th>max</th>\n",
       "      <td>891.000000</td>\n",
       "      <td>1.000000</td>\n",
       "      <td>3.000000</td>\n",
       "      <td>80.000000</td>\n",
       "      <td>8.000000</td>\n",
       "      <td>6.000000</td>\n",
       "      <td>512.329200</td>\n",
       "    </tr>\n",
       "  </tbody>\n",
       "</table>\n",
       "</div>"
      ],
      "text/plain": [
       "       PassengerId    Survived      Pclass         Age       SibSp  \\\n",
       "count   891.000000  891.000000  891.000000  714.000000  891.000000   \n",
       "mean    446.000000    0.383838    2.308642   29.699118    0.523008   \n",
       "std     257.353842    0.486592    0.836071   14.526497    1.102743   \n",
       "min       1.000000    0.000000    1.000000    0.420000    0.000000   \n",
       "25%     223.500000    0.000000    2.000000   20.125000    0.000000   \n",
       "50%     446.000000    0.000000    3.000000   28.000000    0.000000   \n",
       "75%     668.500000    1.000000    3.000000   38.000000    1.000000   \n",
       "max     891.000000    1.000000    3.000000   80.000000    8.000000   \n",
       "\n",
       "            Parch        Fare  \n",
       "count  891.000000  891.000000  \n",
       "mean     0.381594   32.204208  \n",
       "std      0.806057   49.693429  \n",
       "min      0.000000    0.000000  \n",
       "25%      0.000000    7.910400  \n",
       "50%      0.000000   14.454200  \n",
       "75%      0.000000   31.000000  \n",
       "max      6.000000  512.329200  "
      ]
     },
     "execution_count": 1274,
     "metadata": {},
     "output_type": "execute_result"
    }
   ],
   "source": [
    "df.describe() # analyize more information "
   ]
  },
  {
   "cell_type": "code",
   "execution_count": 1275,
   "id": "5ec49763",
   "metadata": {},
   "outputs": [
    {
     "name": "stdout",
     "output_type": "stream",
     "text": [
      "<class 'pandas.core.frame.DataFrame'>\n",
      "RangeIndex: 891 entries, 0 to 890\n",
      "Data columns (total 12 columns):\n",
      " #   Column       Non-Null Count  Dtype  \n",
      "---  ------       --------------  -----  \n",
      " 0   PassengerId  891 non-null    int64  \n",
      " 1   Survived     891 non-null    int64  \n",
      " 2   Pclass       891 non-null    int64  \n",
      " 3   Name         891 non-null    object \n",
      " 4   Sex          891 non-null    object \n",
      " 5   Age          714 non-null    float64\n",
      " 6   SibSp        891 non-null    int64  \n",
      " 7   Parch        891 non-null    int64  \n",
      " 8   Ticket       891 non-null    object \n",
      " 9   Fare         891 non-null    float64\n",
      " 10  Cabin        204 non-null    object \n",
      " 11  Embarked     889 non-null    object \n",
      "dtypes: float64(2), int64(5), object(5)\n",
      "memory usage: 83.7+ KB\n"
     ]
    }
   ],
   "source": [
    "df.info() #check the null values and Dtype"
   ]
  },
  {
   "cell_type": "code",
   "execution_count": 1276,
   "id": "fe73dbeb",
   "metadata": {},
   "outputs": [],
   "source": [
    "df.drop(columns = 'Name', inplace = True) #drop the unnecessary column"
   ]
  },
  {
   "cell_type": "code",
   "execution_count": 1277,
   "id": "c81762ab",
   "metadata": {},
   "outputs": [],
   "source": [
    "df.drop(columns = 'Ticket', inplace = True)#drop the unnecessary column"
   ]
  },
  {
   "cell_type": "code",
   "execution_count": 1278,
   "id": "202ce652",
   "metadata": {},
   "outputs": [],
   "source": [
    "df.drop(columns = 'Cabin', inplace = True)#drop the unnecessary column"
   ]
  },
  {
   "cell_type": "code",
   "execution_count": 1279,
   "id": "c6d87277",
   "metadata": {},
   "outputs": [
    {
     "data": {
      "text/html": [
       "<div>\n",
       "<style scoped>\n",
       "    .dataframe tbody tr th:only-of-type {\n",
       "        vertical-align: middle;\n",
       "    }\n",
       "\n",
       "    .dataframe tbody tr th {\n",
       "        vertical-align: top;\n",
       "    }\n",
       "\n",
       "    .dataframe thead th {\n",
       "        text-align: right;\n",
       "    }\n",
       "</style>\n",
       "<table border=\"1\" class=\"dataframe\">\n",
       "  <thead>\n",
       "    <tr style=\"text-align: right;\">\n",
       "      <th></th>\n",
       "      <th>PassengerId</th>\n",
       "      <th>Survived</th>\n",
       "      <th>Pclass</th>\n",
       "      <th>Sex</th>\n",
       "      <th>Age</th>\n",
       "      <th>SibSp</th>\n",
       "      <th>Parch</th>\n",
       "      <th>Fare</th>\n",
       "      <th>Embarked</th>\n",
       "    </tr>\n",
       "  </thead>\n",
       "  <tbody>\n",
       "    <tr>\n",
       "      <th>0</th>\n",
       "      <td>1</td>\n",
       "      <td>0</td>\n",
       "      <td>3</td>\n",
       "      <td>male</td>\n",
       "      <td>22.0</td>\n",
       "      <td>1</td>\n",
       "      <td>0</td>\n",
       "      <td>7.2500</td>\n",
       "      <td>S</td>\n",
       "    </tr>\n",
       "    <tr>\n",
       "      <th>1</th>\n",
       "      <td>2</td>\n",
       "      <td>1</td>\n",
       "      <td>1</td>\n",
       "      <td>female</td>\n",
       "      <td>38.0</td>\n",
       "      <td>1</td>\n",
       "      <td>0</td>\n",
       "      <td>71.2833</td>\n",
       "      <td>C</td>\n",
       "    </tr>\n",
       "    <tr>\n",
       "      <th>2</th>\n",
       "      <td>3</td>\n",
       "      <td>1</td>\n",
       "      <td>3</td>\n",
       "      <td>female</td>\n",
       "      <td>26.0</td>\n",
       "      <td>0</td>\n",
       "      <td>0</td>\n",
       "      <td>7.9250</td>\n",
       "      <td>S</td>\n",
       "    </tr>\n",
       "    <tr>\n",
       "      <th>3</th>\n",
       "      <td>4</td>\n",
       "      <td>1</td>\n",
       "      <td>1</td>\n",
       "      <td>female</td>\n",
       "      <td>35.0</td>\n",
       "      <td>1</td>\n",
       "      <td>0</td>\n",
       "      <td>53.1000</td>\n",
       "      <td>S</td>\n",
       "    </tr>\n",
       "    <tr>\n",
       "      <th>4</th>\n",
       "      <td>5</td>\n",
       "      <td>0</td>\n",
       "      <td>3</td>\n",
       "      <td>male</td>\n",
       "      <td>35.0</td>\n",
       "      <td>0</td>\n",
       "      <td>0</td>\n",
       "      <td>8.0500</td>\n",
       "      <td>S</td>\n",
       "    </tr>\n",
       "  </tbody>\n",
       "</table>\n",
       "</div>"
      ],
      "text/plain": [
       "   PassengerId  Survived  Pclass     Sex   Age  SibSp  Parch     Fare Embarked\n",
       "0            1         0       3    male  22.0      1      0   7.2500        S\n",
       "1            2         1       1  female  38.0      1      0  71.2833        C\n",
       "2            3         1       3  female  26.0      0      0   7.9250        S\n",
       "3            4         1       1  female  35.0      1      0  53.1000        S\n",
       "4            5         0       3    male  35.0      0      0   8.0500        S"
      ]
     },
     "execution_count": 1279,
     "metadata": {},
     "output_type": "execute_result"
    }
   ],
   "source": [
    "df.head()"
   ]
  },
  {
   "cell_type": "markdown",
   "id": "140a9b02",
   "metadata": {},
   "source": [
    "# Column1: PassengerId"
   ]
  },
  {
   "cell_type": "code",
   "execution_count": 1280,
   "id": "c959b6d3",
   "metadata": {},
   "outputs": [
    {
     "data": {
      "text/plain": [
       "array([  1,   2,   3,   4,   5,   6,   7,   8,   9,  10,  11,  12,  13,\n",
       "        14,  15,  16,  17,  18,  19,  20,  21,  22,  23,  24,  25,  26,\n",
       "        27,  28,  29,  30,  31,  32,  33,  34,  35,  36,  37,  38,  39,\n",
       "        40,  41,  42,  43,  44,  45,  46,  47,  48,  49,  50,  51,  52,\n",
       "        53,  54,  55,  56,  57,  58,  59,  60,  61,  62,  63,  64,  65,\n",
       "        66,  67,  68,  69,  70,  71,  72,  73,  74,  75,  76,  77,  78,\n",
       "        79,  80,  81,  82,  83,  84,  85,  86,  87,  88,  89,  90,  91,\n",
       "        92,  93,  94,  95,  96,  97,  98,  99, 100, 101, 102, 103, 104,\n",
       "       105, 106, 107, 108, 109, 110, 111, 112, 113, 114, 115, 116, 117,\n",
       "       118, 119, 120, 121, 122, 123, 124, 125, 126, 127, 128, 129, 130,\n",
       "       131, 132, 133, 134, 135, 136, 137, 138, 139, 140, 141, 142, 143,\n",
       "       144, 145, 146, 147, 148, 149, 150, 151, 152, 153, 154, 155, 156,\n",
       "       157, 158, 159, 160, 161, 162, 163, 164, 165, 166, 167, 168, 169,\n",
       "       170, 171, 172, 173, 174, 175, 176, 177, 178, 179, 180, 181, 182,\n",
       "       183, 184, 185, 186, 187, 188, 189, 190, 191, 192, 193, 194, 195,\n",
       "       196, 197, 198, 199, 200, 201, 202, 203, 204, 205, 206, 207, 208,\n",
       "       209, 210, 211, 212, 213, 214, 215, 216, 217, 218, 219, 220, 221,\n",
       "       222, 223, 224, 225, 226, 227, 228, 229, 230, 231, 232, 233, 234,\n",
       "       235, 236, 237, 238, 239, 240, 241, 242, 243, 244, 245, 246, 247,\n",
       "       248, 249, 250, 251, 252, 253, 254, 255, 256, 257, 258, 259, 260,\n",
       "       261, 262, 263, 264, 265, 266, 267, 268, 269, 270, 271, 272, 273,\n",
       "       274, 275, 276, 277, 278, 279, 280, 281, 282, 283, 284, 285, 286,\n",
       "       287, 288, 289, 290, 291, 292, 293, 294, 295, 296, 297, 298, 299,\n",
       "       300, 301, 302, 303, 304, 305, 306, 307, 308, 309, 310, 311, 312,\n",
       "       313, 314, 315, 316, 317, 318, 319, 320, 321, 322, 323, 324, 325,\n",
       "       326, 327, 328, 329, 330, 331, 332, 333, 334, 335, 336, 337, 338,\n",
       "       339, 340, 341, 342, 343, 344, 345, 346, 347, 348, 349, 350, 351,\n",
       "       352, 353, 354, 355, 356, 357, 358, 359, 360, 361, 362, 363, 364,\n",
       "       365, 366, 367, 368, 369, 370, 371, 372, 373, 374, 375, 376, 377,\n",
       "       378, 379, 380, 381, 382, 383, 384, 385, 386, 387, 388, 389, 390,\n",
       "       391, 392, 393, 394, 395, 396, 397, 398, 399, 400, 401, 402, 403,\n",
       "       404, 405, 406, 407, 408, 409, 410, 411, 412, 413, 414, 415, 416,\n",
       "       417, 418, 419, 420, 421, 422, 423, 424, 425, 426, 427, 428, 429,\n",
       "       430, 431, 432, 433, 434, 435, 436, 437, 438, 439, 440, 441, 442,\n",
       "       443, 444, 445, 446, 447, 448, 449, 450, 451, 452, 453, 454, 455,\n",
       "       456, 457, 458, 459, 460, 461, 462, 463, 464, 465, 466, 467, 468,\n",
       "       469, 470, 471, 472, 473, 474, 475, 476, 477, 478, 479, 480, 481,\n",
       "       482, 483, 484, 485, 486, 487, 488, 489, 490, 491, 492, 493, 494,\n",
       "       495, 496, 497, 498, 499, 500, 501, 502, 503, 504, 505, 506, 507,\n",
       "       508, 509, 510, 511, 512, 513, 514, 515, 516, 517, 518, 519, 520,\n",
       "       521, 522, 523, 524, 525, 526, 527, 528, 529, 530, 531, 532, 533,\n",
       "       534, 535, 536, 537, 538, 539, 540, 541, 542, 543, 544, 545, 546,\n",
       "       547, 548, 549, 550, 551, 552, 553, 554, 555, 556, 557, 558, 559,\n",
       "       560, 561, 562, 563, 564, 565, 566, 567, 568, 569, 570, 571, 572,\n",
       "       573, 574, 575, 576, 577, 578, 579, 580, 581, 582, 583, 584, 585,\n",
       "       586, 587, 588, 589, 590, 591, 592, 593, 594, 595, 596, 597, 598,\n",
       "       599, 600, 601, 602, 603, 604, 605, 606, 607, 608, 609, 610, 611,\n",
       "       612, 613, 614, 615, 616, 617, 618, 619, 620, 621, 622, 623, 624,\n",
       "       625, 626, 627, 628, 629, 630, 631, 632, 633, 634, 635, 636, 637,\n",
       "       638, 639, 640, 641, 642, 643, 644, 645, 646, 647, 648, 649, 650,\n",
       "       651, 652, 653, 654, 655, 656, 657, 658, 659, 660, 661, 662, 663,\n",
       "       664, 665, 666, 667, 668, 669, 670, 671, 672, 673, 674, 675, 676,\n",
       "       677, 678, 679, 680, 681, 682, 683, 684, 685, 686, 687, 688, 689,\n",
       "       690, 691, 692, 693, 694, 695, 696, 697, 698, 699, 700, 701, 702,\n",
       "       703, 704, 705, 706, 707, 708, 709, 710, 711, 712, 713, 714, 715,\n",
       "       716, 717, 718, 719, 720, 721, 722, 723, 724, 725, 726, 727, 728,\n",
       "       729, 730, 731, 732, 733, 734, 735, 736, 737, 738, 739, 740, 741,\n",
       "       742, 743, 744, 745, 746, 747, 748, 749, 750, 751, 752, 753, 754,\n",
       "       755, 756, 757, 758, 759, 760, 761, 762, 763, 764, 765, 766, 767,\n",
       "       768, 769, 770, 771, 772, 773, 774, 775, 776, 777, 778, 779, 780,\n",
       "       781, 782, 783, 784, 785, 786, 787, 788, 789, 790, 791, 792, 793,\n",
       "       794, 795, 796, 797, 798, 799, 800, 801, 802, 803, 804, 805, 806,\n",
       "       807, 808, 809, 810, 811, 812, 813, 814, 815, 816, 817, 818, 819,\n",
       "       820, 821, 822, 823, 824, 825, 826, 827, 828, 829, 830, 831, 832,\n",
       "       833, 834, 835, 836, 837, 838, 839, 840, 841, 842, 843, 844, 845,\n",
       "       846, 847, 848, 849, 850, 851, 852, 853, 854, 855, 856, 857, 858,\n",
       "       859, 860, 861, 862, 863, 864, 865, 866, 867, 868, 869, 870, 871,\n",
       "       872, 873, 874, 875, 876, 877, 878, 879, 880, 881, 882, 883, 884,\n",
       "       885, 886, 887, 888, 889, 890, 891], dtype=int64)"
      ]
     },
     "execution_count": 1280,
     "metadata": {},
     "output_type": "execute_result"
    }
   ],
   "source": [
    "df['PassengerId'].unique() #check the unique values\n",
    "#i think everything is clear, no missing values are there, so, switch to second column now"
   ]
  },
  {
   "cell_type": "markdown",
   "id": "4df457f3",
   "metadata": {},
   "source": [
    "# Column2: Pclass"
   ]
  },
  {
   "cell_type": "code",
   "execution_count": 1281,
   "id": "c5191171",
   "metadata": {},
   "outputs": [
    {
     "data": {
      "text/plain": [
       "array([3, 1, 2], dtype=int64)"
      ]
     },
     "execution_count": 1281,
     "metadata": {},
     "output_type": "execute_result"
    }
   ],
   "source": [
    "df['Pclass'].unique() #check the unique values"
   ]
  },
  {
   "cell_type": "code",
   "execution_count": 1282,
   "id": "3e84de5a",
   "metadata": {},
   "outputs": [
    {
     "data": {
      "text/plain": [
       "3    491\n",
       "1    216\n",
       "2    184\n",
       "Name: Pclass, dtype: int64"
      ]
     },
     "execution_count": 1282,
     "metadata": {},
     "output_type": "execute_result"
    }
   ],
   "source": [
    "df['Pclass'].value_counts() #check the number of counts"
   ]
  },
  {
   "cell_type": "code",
   "execution_count": 1283,
   "id": "0a32c07f",
   "metadata": {},
   "outputs": [
    {
     "data": {
      "text/plain": [
       "True"
      ]
     },
     "execution_count": 1283,
     "metadata": {},
     "output_type": "execute_result"
    }
   ],
   "source": [
    "df['Pclass'].all() #check the zeros present in column"
   ]
  },
  {
   "cell_type": "code",
   "execution_count": 1284,
   "id": "bcbfcd99",
   "metadata": {},
   "outputs": [
    {
     "data": {
      "text/plain": [
       "0"
      ]
     },
     "execution_count": 1284,
     "metadata": {},
     "output_type": "execute_result"
    }
   ],
   "source": [
    "df['Pclass'].isna().sum() #check for null values"
   ]
  },
  {
   "cell_type": "code",
   "execution_count": 1285,
   "id": "feceb87c",
   "metadata": {},
   "outputs": [
    {
     "data": {
      "text/plain": [
       "<seaborn.axisgrid.FacetGrid at 0x1f712b86970>"
      ]
     },
     "execution_count": 1285,
     "metadata": {},
     "output_type": "execute_result"
    },
    {
     "data": {
      "image/png": "[encoded data removed]",
      "text/plain": [
       "<Figure size 360x360 with 1 Axes>"
      ]
     },
     "metadata": {
      "needs_background": "light"
     },
     "output_type": "display_data"
    }
   ],
   "source": [
    "sns.catplot(x = 'Pclass', y ='Survived', data=df) #visualize by using catplot"
   ]
  },
  {
   "cell_type": "code",
   "execution_count": 1286,
   "id": "46e597d4",
   "metadata": {},
   "outputs": [
    {
     "data": {
      "text/plain": [
       "<AxesSubplot:xlabel='Pclass', ylabel='Density'>"
      ]
     },
     "execution_count": 1286,
     "metadata": {},
     "output_type": "execute_result"
    },
    {
     "data": {
      "image/png": "[encoded data removed]",
      "text/plain": [
       "<Figure size 432x288 with 1 Axes>"
      ]
     },
     "metadata": {
      "needs_background": "light"
     },
     "output_type": "display_data"
    }
   ],
   "source": [
    "sns.distplot(df['Pclass'])  #visualize by using distplot"
   ]
  },
  {
   "cell_type": "markdown",
   "id": "34b3a277",
   "metadata": {},
   "source": [
    "# Column3: Sex"
   ]
  },
  {
   "cell_type": "code",
   "execution_count": 1287,
   "id": "001bdab1",
   "metadata": {},
   "outputs": [
    {
     "data": {
      "text/html": [
       "<div>\n",
       "<style scoped>\n",
       "    .dataframe tbody tr th:only-of-type {\n",
       "        vertical-align: middle;\n",
       "    }\n",
       "\n",
       "    .dataframe tbody tr th {\n",
       "        vertical-align: top;\n",
       "    }\n",
       "\n",
       "    .dataframe thead th {\n",
       "        text-align: right;\n",
       "    }\n",
       "</style>\n",
       "<table border=\"1\" class=\"dataframe\">\n",
       "  <thead>\n",
       "    <tr style=\"text-align: right;\">\n",
       "      <th></th>\n",
       "      <th>PassengerId</th>\n",
       "      <th>Survived</th>\n",
       "      <th>Pclass</th>\n",
       "      <th>Sex</th>\n",
       "      <th>Age</th>\n",
       "      <th>SibSp</th>\n",
       "      <th>Parch</th>\n",
       "      <th>Fare</th>\n",
       "      <th>Embarked</th>\n",
       "    </tr>\n",
       "  </thead>\n",
       "  <tbody>\n",
       "    <tr>\n",
       "      <th>0</th>\n",
       "      <td>1</td>\n",
       "      <td>0</td>\n",
       "      <td>3</td>\n",
       "      <td>male</td>\n",
       "      <td>22.0</td>\n",
       "      <td>1</td>\n",
       "      <td>0</td>\n",
       "      <td>7.25</td>\n",
       "      <td>S</td>\n",
       "    </tr>\n",
       "  </tbody>\n",
       "</table>\n",
       "</div>"
      ],
      "text/plain": [
       "   PassengerId  Survived  Pclass   Sex   Age  SibSp  Parch  Fare Embarked\n",
       "0            1         0       3  male  22.0      1      0  7.25        S"
      ]
     },
     "execution_count": 1287,
     "metadata": {},
     "output_type": "execute_result"
    }
   ],
   "source": [
    "df.head(1)"
   ]
  },
  {
   "cell_type": "code",
   "execution_count": 1288,
   "id": "c009bb22",
   "metadata": {},
   "outputs": [
    {
     "data": {
      "text/plain": [
       "array(['male', 'female'], dtype=object)"
      ]
     },
     "execution_count": 1288,
     "metadata": {},
     "output_type": "execute_result"
    }
   ],
   "source": [
    "df['Sex'].unique() #check the unique values "
   ]
  },
  {
   "cell_type": "code",
   "execution_count": 1289,
   "id": "856ea78d",
   "metadata": {},
   "outputs": [
    {
     "data": {
      "text/plain": [
       "male      577\n",
       "female    314\n",
       "Name: Sex, dtype: int64"
      ]
     },
     "execution_count": 1289,
     "metadata": {},
     "output_type": "execute_result"
    }
   ],
   "source": [
    "df['Sex'].value_counts() #check the number of counts"
   ]
  },
  {
   "cell_type": "code",
   "execution_count": 1290,
   "id": "220806f7",
   "metadata": {},
   "outputs": [],
   "source": [
    "lab_enc = LabelEncoder() #using label encoder to convert object value into integer"
   ]
  },
  {
   "cell_type": "code",
   "execution_count": 1291,
   "id": "b5270953",
   "metadata": {},
   "outputs": [],
   "source": [
    "df_sex = lab_enc.fit_transform(df['Sex'])"
   ]
  },
  {
   "cell_type": "code",
   "execution_count": 1292,
   "id": "1ffd40b2",
   "metadata": {},
   "outputs": [],
   "source": [
    "df['Sex'] = df_sex #save it to our column"
   ]
  },
  {
   "cell_type": "code",
   "execution_count": 1293,
   "id": "47a1966a",
   "metadata": {},
   "outputs": [
    {
     "data": {
      "text/plain": [
       "array([1, 0])"
      ]
     },
     "execution_count": 1293,
     "metadata": {},
     "output_type": "execute_result"
    }
   ],
   "source": [
    "df['Sex'].unique() #now, again check the unique value"
   ]
  },
  {
   "cell_type": "code",
   "execution_count": 1294,
   "id": "58b46b14",
   "metadata": {},
   "outputs": [
    {
     "data": {
      "text/plain": [
       "0"
      ]
     },
     "execution_count": 1294,
     "metadata": {},
     "output_type": "execute_result"
    }
   ],
   "source": [
    "df['Sex'].isna().sum() #check for null values"
   ]
  },
  {
   "cell_type": "code",
   "execution_count": 1295,
   "id": "d688a73e",
   "metadata": {},
   "outputs": [
    {
     "data": {
      "text/plain": [
       "<seaborn.axisgrid.FacetGrid at 0x1f70e4ff8e0>"
      ]
     },
     "execution_count": 1295,
     "metadata": {},
     "output_type": "execute_result"
    },
    {
     "data": {
      "image/png": "[encoded data removed]",
      "text/plain": [
       "<Figure size 360x360 with 1 Axes>"
      ]
     },
     "metadata": {
      "needs_background": "light"
     },
     "output_type": "display_data"
    }
   ],
   "source": [
    "sns.catplot(x ='Sex', y='Survived', data = df)  #visualize by using catplot"
   ]
  },
  {
   "cell_type": "code",
   "execution_count": 1296,
   "id": "35299286",
   "metadata": {},
   "outputs": [
    {
     "data": {
      "text/plain": [
       "<AxesSubplot:xlabel='Sex', ylabel='Density'>"
      ]
     },
     "execution_count": 1296,
     "metadata": {},
     "output_type": "execute_result"
    },
    {
     "data": {
      "image/png": "[encoded data removed]",
      "text/plain": [
       "<Figure size 432x288 with 1 Axes>"
      ]
     },
     "metadata": {
      "needs_background": "light"
     },
     "output_type": "display_data"
    }
   ],
   "source": [
    "sns.distplot(df['Sex'])  #visualize by using distplot"
   ]
  },
  {
   "cell_type": "code",
   "execution_count": 1297,
   "id": "6a50595d",
   "metadata": {},
   "outputs": [
    {
     "data": {
      "text/html": [
       "<div>\n",
       "<style scoped>\n",
       "    .dataframe tbody tr th:only-of-type {\n",
       "        vertical-align: middle;\n",
       "    }\n",
       "\n",
       "    .dataframe tbody tr th {\n",
       "        vertical-align: top;\n",
       "    }\n",
       "\n",
       "    .dataframe thead th {\n",
       "        text-align: right;\n",
       "    }\n",
       "</style>\n",
       "<table border=\"1\" class=\"dataframe\">\n",
       "  <thead>\n",
       "    <tr style=\"text-align: right;\">\n",
       "      <th></th>\n",
       "      <th>PassengerId</th>\n",
       "      <th>Survived</th>\n",
       "      <th>Pclass</th>\n",
       "      <th>Sex</th>\n",
       "      <th>Age</th>\n",
       "      <th>SibSp</th>\n",
       "      <th>Parch</th>\n",
       "      <th>Fare</th>\n",
       "      <th>Embarked</th>\n",
       "    </tr>\n",
       "  </thead>\n",
       "  <tbody>\n",
       "    <tr>\n",
       "      <th>0</th>\n",
       "      <td>1</td>\n",
       "      <td>0</td>\n",
       "      <td>3</td>\n",
       "      <td>1</td>\n",
       "      <td>22.0</td>\n",
       "      <td>1</td>\n",
       "      <td>0</td>\n",
       "      <td>7.2500</td>\n",
       "      <td>S</td>\n",
       "    </tr>\n",
       "    <tr>\n",
       "      <th>1</th>\n",
       "      <td>2</td>\n",
       "      <td>1</td>\n",
       "      <td>1</td>\n",
       "      <td>0</td>\n",
       "      <td>38.0</td>\n",
       "      <td>1</td>\n",
       "      <td>0</td>\n",
       "      <td>71.2833</td>\n",
       "      <td>C</td>\n",
       "    </tr>\n",
       "    <tr>\n",
       "      <th>2</th>\n",
       "      <td>3</td>\n",
       "      <td>1</td>\n",
       "      <td>3</td>\n",
       "      <td>0</td>\n",
       "      <td>26.0</td>\n",
       "      <td>0</td>\n",
       "      <td>0</td>\n",
       "      <td>7.9250</td>\n",
       "      <td>S</td>\n",
       "    </tr>\n",
       "    <tr>\n",
       "      <th>3</th>\n",
       "      <td>4</td>\n",
       "      <td>1</td>\n",
       "      <td>1</td>\n",
       "      <td>0</td>\n",
       "      <td>35.0</td>\n",
       "      <td>1</td>\n",
       "      <td>0</td>\n",
       "      <td>53.1000</td>\n",
       "      <td>S</td>\n",
       "    </tr>\n",
       "    <tr>\n",
       "      <th>4</th>\n",
       "      <td>5</td>\n",
       "      <td>0</td>\n",
       "      <td>3</td>\n",
       "      <td>1</td>\n",
       "      <td>35.0</td>\n",
       "      <td>0</td>\n",
       "      <td>0</td>\n",
       "      <td>8.0500</td>\n",
       "      <td>S</td>\n",
       "    </tr>\n",
       "    <tr>\n",
       "      <th>...</th>\n",
       "      <td>...</td>\n",
       "      <td>...</td>\n",
       "      <td>...</td>\n",
       "      <td>...</td>\n",
       "      <td>...</td>\n",
       "      <td>...</td>\n",
       "      <td>...</td>\n",
       "      <td>...</td>\n",
       "      <td>...</td>\n",
       "    </tr>\n",
       "    <tr>\n",
       "      <th>886</th>\n",
       "      <td>887</td>\n",
       "      <td>0</td>\n",
       "      <td>2</td>\n",
       "      <td>1</td>\n",
       "      <td>27.0</td>\n",
       "      <td>0</td>\n",
       "      <td>0</td>\n",
       "      <td>13.0000</td>\n",
       "      <td>S</td>\n",
       "    </tr>\n",
       "    <tr>\n",
       "      <th>887</th>\n",
       "      <td>888</td>\n",
       "      <td>1</td>\n",
       "      <td>1</td>\n",
       "      <td>0</td>\n",
       "      <td>19.0</td>\n",
       "      <td>0</td>\n",
       "      <td>0</td>\n",
       "      <td>30.0000</td>\n",
       "      <td>S</td>\n",
       "    </tr>\n",
       "    <tr>\n",
       "      <th>888</th>\n",
       "      <td>889</td>\n",
       "      <td>0</td>\n",
       "      <td>3</td>\n",
       "      <td>0</td>\n",
       "      <td>NaN</td>\n",
       "      <td>1</td>\n",
       "      <td>2</td>\n",
       "      <td>23.4500</td>\n",
       "      <td>S</td>\n",
       "    </tr>\n",
       "    <tr>\n",
       "      <th>889</th>\n",
       "      <td>890</td>\n",
       "      <td>1</td>\n",
       "      <td>1</td>\n",
       "      <td>1</td>\n",
       "      <td>26.0</td>\n",
       "      <td>0</td>\n",
       "      <td>0</td>\n",
       "      <td>30.0000</td>\n",
       "      <td>C</td>\n",
       "    </tr>\n",
       "    <tr>\n",
       "      <th>890</th>\n",
       "      <td>891</td>\n",
       "      <td>0</td>\n",
       "      <td>3</td>\n",
       "      <td>1</td>\n",
       "      <td>32.0</td>\n",
       "      <td>0</td>\n",
       "      <td>0</td>\n",
       "      <td>7.7500</td>\n",
       "      <td>Q</td>\n",
       "    </tr>\n",
       "  </tbody>\n",
       "</table>\n",
       "<p>891 rows × 9 columns</p>\n",
       "</div>"
      ],
      "text/plain": [
       "     PassengerId  Survived  Pclass  Sex   Age  SibSp  Parch     Fare Embarked\n",
       "0              1         0       3    1  22.0      1      0   7.2500        S\n",
       "1              2         1       1    0  38.0      1      0  71.2833        C\n",
       "2              3         1       3    0  26.0      0      0   7.9250        S\n",
       "3              4         1       1    0  35.0      1      0  53.1000        S\n",
       "4              5         0       3    1  35.0      0      0   8.0500        S\n",
       "..           ...       ...     ...  ...   ...    ...    ...      ...      ...\n",
       "886          887         0       2    1  27.0      0      0  13.0000        S\n",
       "887          888         1       1    0  19.0      0      0  30.0000        S\n",
       "888          889         0       3    0   NaN      1      2  23.4500        S\n",
       "889          890         1       1    1  26.0      0      0  30.0000        C\n",
       "890          891         0       3    1  32.0      0      0   7.7500        Q\n",
       "\n",
       "[891 rows x 9 columns]"
      ]
     },
     "execution_count": 1297,
     "metadata": {},
     "output_type": "execute_result"
    }
   ],
   "source": [
    "df"
   ]
  },
  {
   "cell_type": "markdown",
   "id": "07e90316",
   "metadata": {},
   "source": [
    "# Column4 : Age"
   ]
  },
  {
   "cell_type": "code",
   "execution_count": 1298,
   "id": "9671e6d9",
   "metadata": {},
   "outputs": [
    {
     "data": {
      "text/plain": [
       "array([22.  , 38.  , 26.  , 35.  ,   nan, 54.  ,  2.  , 27.  , 14.  ,\n",
       "        4.  , 58.  , 20.  , 39.  , 55.  , 31.  , 34.  , 15.  , 28.  ,\n",
       "        8.  , 19.  , 40.  , 66.  , 42.  , 21.  , 18.  ,  3.  ,  7.  ,\n",
       "       49.  , 29.  , 65.  , 28.5 ,  5.  , 11.  , 45.  , 17.  , 32.  ,\n",
       "       16.  , 25.  ,  0.83, 30.  , 33.  , 23.  , 24.  , 46.  , 59.  ,\n",
       "       71.  , 37.  , 47.  , 14.5 , 70.5 , 32.5 , 12.  ,  9.  , 36.5 ,\n",
       "       51.  , 55.5 , 40.5 , 44.  ,  1.  , 61.  , 56.  , 50.  , 36.  ,\n",
       "       45.5 , 20.5 , 62.  , 41.  , 52.  , 63.  , 23.5 ,  0.92, 43.  ,\n",
       "       60.  , 10.  , 64.  , 13.  , 48.  ,  0.75, 53.  , 57.  , 80.  ,\n",
       "       70.  , 24.5 ,  6.  ,  0.67, 30.5 ,  0.42, 34.5 , 74.  ])"
      ]
     },
     "execution_count": 1298,
     "metadata": {},
     "output_type": "execute_result"
    }
   ],
   "source": [
    "df['Age'].unique() #check for unique value"
   ]
  },
  {
   "cell_type": "code",
   "execution_count": 1299,
   "id": "5781a03f",
   "metadata": {},
   "outputs": [
    {
     "data": {
      "text/plain": [
       "True"
      ]
     },
     "execution_count": 1299,
     "metadata": {},
     "output_type": "execute_result"
    }
   ],
   "source": [
    "df['Age'].all() #check for zero values"
   ]
  },
  {
   "cell_type": "code",
   "execution_count": 1300,
   "id": "b0735cce",
   "metadata": {},
   "outputs": [
    {
     "data": {
      "text/plain": [
       "177"
      ]
     },
     "execution_count": 1300,
     "metadata": {},
     "output_type": "execute_result"
    }
   ],
   "source": [
    "df['Age'].isna().sum() #check for null values"
   ]
  },
  {
   "cell_type": "code",
   "execution_count": 1301,
   "id": "a794c63c",
   "metadata": {},
   "outputs": [],
   "source": [
    "si = SimpleImputer() #using simple imputer to remove null values"
   ]
  },
  {
   "cell_type": "code",
   "execution_count": 1302,
   "id": "363001e2",
   "metadata": {},
   "outputs": [],
   "source": [
    "ct = make_column_transformer((si, ['Age']), remainder = 'passthrough')"
   ]
  },
  {
   "cell_type": "code",
   "execution_count": 1303,
   "id": "b3217c0c",
   "metadata": {},
   "outputs": [],
   "source": [
    "a = ct.fit_transform(df)"
   ]
  },
  {
   "cell_type": "code",
   "execution_count": 1304,
   "id": "5af04148",
   "metadata": {},
   "outputs": [],
   "source": [
    "df['Age'] = a #save it to our column"
   ]
  },
  {
   "cell_type": "code",
   "execution_count": 1305,
   "id": "1c504fe8",
   "metadata": {},
   "outputs": [
    {
     "data": {
      "text/plain": [
       "0"
      ]
     },
     "execution_count": 1305,
     "metadata": {},
     "output_type": "execute_result"
    }
   ],
   "source": [
    "df['Age'].isna().sum() #now, check the null values"
   ]
  },
  {
   "cell_type": "code",
   "execution_count": 1306,
   "id": "0f3da26b",
   "metadata": {},
   "outputs": [
    {
     "data": {
      "text/plain": [
       "<AxesSubplot:>"
      ]
     },
     "execution_count": 1306,
     "metadata": {},
     "output_type": "execute_result"
    },
    {
     "data": {
      "image/png": "[encoded data removed]",
      "text/plain": [
       "<Figure size 432x288 with 1 Axes>"
      ]
     },
     "metadata": {
      "needs_background": "light"
     },
     "output_type": "display_data"
    }
   ],
   "source": [
    "sns.boxplot(data = df['Age']) #visualize by using boxplot"
   ]
  },
  {
   "cell_type": "code",
   "execution_count": 1307,
   "id": "5281ed50",
   "metadata": {},
   "outputs": [],
   "source": [
    "#Detecting the outlier by using iqr method and removing them.\n",
    "q1 = np.percentile(df['Age'], 25,\n",
    "                   interpolation = 'midpoint')\n",
    " \n",
    "q3 = np.percentile(df['Age'], 75,\n",
    "                   interpolation = 'midpoint')\n",
    "iqr = q3 - q1"
   ]
  },
  {
   "cell_type": "code",
   "execution_count": 1308,
   "id": "e2355e33",
   "metadata": {},
   "outputs": [
    {
     "name": "stdout",
     "output_type": "stream",
     "text": [
      "Higher: \n",
      " 0      False\n",
      "1      False\n",
      "2      False\n",
      "3      False\n",
      "4      False\n",
      "       ...  \n",
      "886    False\n",
      "887    False\n",
      "888    False\n",
      "889    False\n",
      "890    False\n",
      "Name: Age, Length: 891, dtype: bool\n",
      "(array([ 11,  15,  33,  54,  94,  96, 116, 152, 170, 174, 195, 232, 252,\n",
      "       268, 275, 280, 326, 366, 438, 456, 467, 483, 487, 492, 493, 545,\n",
      "       555, 570, 587, 625, 626, 630, 647, 659, 672, 684, 694, 745, 772,\n",
      "       829, 851, 879], dtype=int64),)\n",
      "Lower: \n",
      " 0      False\n",
      "1      False\n",
      "2      False\n",
      "3      False\n",
      "4      False\n",
      "       ...  \n",
      "886    False\n",
      "887    False\n",
      "888    False\n",
      "889    False\n",
      "890    False\n",
      "Name: Age, Length: 891, dtype: bool\n",
      "(array([  7,  16,  78, 119, 164, 172, 183, 205, 297, 305, 340, 381, 386,\n",
      "       469, 479, 530, 642, 644, 755, 788, 803, 824, 827, 831], dtype=int64),)\n",
      "old Shape:  (891, 9)\n"
     ]
    }
   ],
   "source": [
    "# higher side \n",
    "higher_side = df['Age'] >= (q3+1.5*iqr)\n",
    "print(\"Higher: \\n\", higher_side)\n",
    "print(np.where(higher_side))\n",
    "high = np.where(higher_side)\n",
    " \n",
    "# lower side \n",
    "lower_side = df['Age'] <= (q1-1.5*iqr)\n",
    "print(\"Lower: \\n\", lower_side)\n",
    "low = np.where(lower_side)\n",
    "print(np.where(lower_side))\n",
    "print(\"old Shape: \", df.shape)"
   ]
  },
  {
   "cell_type": "code",
   "execution_count": 1309,
   "id": "fbfafb24",
   "metadata": {},
   "outputs": [
    {
     "name": "stdout",
     "output_type": "stream",
     "text": [
      "Old Shape:  (891, 9)\n",
      "New Shape:  (825, 9)\n"
     ]
    }
   ],
   "source": [
    "#removing the outliers\n",
    "print(\"Old Shape: \", df.shape)\n",
    "df = df.drop(df.index[high])\n",
    "df = df.drop(df.index[low])\n",
    " \n",
    "print(\"New Shape: \", df.shape)"
   ]
  },
  {
   "cell_type": "code",
   "execution_count": 1310,
   "id": "7588bbca",
   "metadata": {},
   "outputs": [
    {
     "data": {
      "text/plain": [
       "(825, 9)"
      ]
     },
     "execution_count": 1310,
     "metadata": {},
     "output_type": "execute_result"
    }
   ],
   "source": [
    "df.shape #check the shape of the column"
   ]
  },
  {
   "cell_type": "markdown",
   "id": "6b43d242",
   "metadata": {},
   "source": [
    "# Column5: SibSp"
   ]
  },
  {
   "cell_type": "code",
   "execution_count": 1311,
   "id": "4cff365a",
   "metadata": {},
   "outputs": [
    {
     "data": {
      "text/plain": [
       "array([1, 0, 4, 3, 2, 5, 8], dtype=int64)"
      ]
     },
     "execution_count": 1311,
     "metadata": {},
     "output_type": "execute_result"
    }
   ],
   "source": [
    "df['SibSp'].unique() #check for unique values"
   ]
  },
  {
   "cell_type": "code",
   "execution_count": 1312,
   "id": "9ecd3f9e",
   "metadata": {},
   "outputs": [
    {
     "data": {
      "text/plain": [
       "0    552\n",
       "1    201\n",
       "2     28\n",
       "4     17\n",
       "3     15\n",
       "8      7\n",
       "5      5\n",
       "Name: SibSp, dtype: int64"
      ]
     },
     "execution_count": 1312,
     "metadata": {},
     "output_type": "execute_result"
    }
   ],
   "source": [
    "df['SibSp'].value_counts() #check for number of counts"
   ]
  },
  {
   "cell_type": "code",
   "execution_count": 1313,
   "id": "5c27e4ea",
   "metadata": {},
   "outputs": [
    {
     "data": {
      "text/plain": [
       "0"
      ]
     },
     "execution_count": 1313,
     "metadata": {},
     "output_type": "execute_result"
    }
   ],
   "source": [
    "df['SibSp'].isna().sum() #check for null values"
   ]
  },
  {
   "cell_type": "code",
   "execution_count": 1314,
   "id": "745fcd66",
   "metadata": {},
   "outputs": [
    {
     "data": {
      "text/plain": [
       "<AxesSubplot:xlabel='SibSp', ylabel='Count'>"
      ]
     },
     "execution_count": 1314,
     "metadata": {},
     "output_type": "execute_result"
    },
    {
     "data": {
      "image/png": "[encoded data removed]",
      "text/plain": [
       "<Figure size 432x288 with 1 Axes>"
      ]
     },
     "metadata": {
      "needs_background": "light"
     },
     "output_type": "display_data"
    }
   ],
   "source": [
    "sns.histplot(df['SibSp']) #visualize by using histogram"
   ]
  },
  {
   "cell_type": "code",
   "execution_count": 1315,
   "id": "65789805",
   "metadata": {},
   "outputs": [
    {
     "name": "stdout",
     "output_type": "stream",
     "text": [
      "mean of the column------->  0.5466666666666666\n",
      "median of the column-------->  0.0\n",
      "mode of the column-------->  0\n"
     ]
    }
   ],
   "source": [
    "# calculate the mean, median, mode to check how much our column is skewed  \n",
    "print('mean of the column-------> ',df['SibSp'].mean())\n",
    "print('median of the column--------> ',df['SibSp'].median())\n",
    "print('mode of the column--------> ', st.mode(df['SibSp']))"
   ]
  },
  {
   "cell_type": "markdown",
   "id": "f2cbe1ea",
   "metadata": {},
   "source": [
    "# Column6: Parch"
   ]
  },
  {
   "cell_type": "code",
   "execution_count": 1316,
   "id": "55b1d926",
   "metadata": {},
   "outputs": [
    {
     "data": {
      "text/plain": [
       "array([0, 2, 1, 5, 3, 4, 6], dtype=int64)"
      ]
     },
     "execution_count": 1316,
     "metadata": {},
     "output_type": "execute_result"
    }
   ],
   "source": [
    "df['Parch'].unique()"
   ]
  },
  {
   "cell_type": "code",
   "execution_count": 1317,
   "id": "5cd53993",
   "metadata": {},
   "outputs": [
    {
     "data": {
      "text/plain": [
       "0"
      ]
     },
     "execution_count": 1317,
     "metadata": {},
     "output_type": "execute_result"
    }
   ],
   "source": [
    "df['Parch'].isna().sum()"
   ]
  },
  {
   "cell_type": "code",
   "execution_count": 1318,
   "id": "114bd8cb",
   "metadata": {},
   "outputs": [
    {
     "data": {
      "text/plain": [
       "0    625\n",
       "1    109\n",
       "2     77\n",
       "3      5\n",
       "5      5\n",
       "4      3\n",
       "6      1\n",
       "Name: Parch, dtype: int64"
      ]
     },
     "execution_count": 1318,
     "metadata": {},
     "output_type": "execute_result"
    }
   ],
   "source": [
    "df['Parch'].value_counts()"
   ]
  },
  {
   "cell_type": "markdown",
   "id": "0b8909e2",
   "metadata": {},
   "source": [
    "# Column7: fare"
   ]
  },
  {
   "cell_type": "code",
   "execution_count": 1319,
   "id": "fb1b0865",
   "metadata": {},
   "outputs": [
    {
     "data": {
      "text/plain": [
       "array([  7.25  ,  71.2833,   7.925 ,  53.1   ,   8.05  ,   8.4583,\n",
       "        51.8625,  11.1333,  30.0708,  16.7   ,  31.275 ,   7.8542,\n",
       "        29.125 ,  13.    ,   7.225 ,  26.    ,   8.0292,  35.5   ,\n",
       "        21.075 ,  31.3875, 263.    ,   7.8792,   7.8958,  27.7208,\n",
       "       146.5208,   7.75  ,  82.1708,  52.    ,   7.2292,  18.    ,\n",
       "        11.2417,   9.475 ,  21.    ,  41.5792,  15.5   ,  21.6792,\n",
       "        17.8   ,  39.6875,   7.8   ,  76.7292,  10.5   ,  27.75  ,\n",
       "        46.9   ,  80.    ,  83.475 ,  27.9   ,  15.2458,   8.1583,\n",
       "         8.6625,  73.5   ,  14.4542,  56.4958,   7.65  ,  29.    ,\n",
       "        12.475 ,   9.    ,   9.5   ,  47.1   ,  15.85  ,  34.375 ,\n",
       "        61.175 ,  20.575 ,  63.3583,  23.    ,  77.2875,   8.6542,\n",
       "         7.775 ,  24.15  ,   9.825 ,  14.4583, 247.5208,   7.1417,\n",
       "        22.3583,   6.975 ,   7.05  ,  14.5   ,  15.0458,  26.2833,\n",
       "         9.2167,  79.2   ,   6.75  ,  11.5   ,  36.75  ,   7.7958,\n",
       "        12.525 ,  66.6   ,   7.3125,  61.3792,   7.7333,  69.55  ,\n",
       "        16.1   ,  15.75  ,  20.525 ,  55.    ,  25.925 ,  25.4667,\n",
       "        28.7125,   0.    ,  15.05  ,  39.    ,  22.025 ,  50.    ,\n",
       "        26.55  ,   8.4042,   6.4958,  10.4625,  18.7875,  31.    ,\n",
       "       113.275 ,  27.    ,  76.2917,  90.    ,   9.35  ,   7.55  ,\n",
       "        26.25  ,  12.275 ,   7.125 ,  52.5542,  20.2125,  86.5   ,\n",
       "       512.3292,  79.65  , 135.6333,  19.5   ,  29.7   ,  20.25  ,\n",
       "        78.85  ,  91.0792,  12.875 ,   8.85  , 151.55  ,  30.5   ,\n",
       "        23.25  ,  12.35  , 110.8833, 108.9   ,  24.    ,  56.9292,\n",
       "        83.1583, 262.375 ,  14.    , 164.8667, 134.5   ,  57.9792,\n",
       "        28.5   , 153.4625, 133.65  ,  15.9   ,   9.225 ,  35.    ,\n",
       "        69.3   ,  55.4417, 211.5   ,   4.0125, 227.525 ,  15.7417,\n",
       "         7.7292,  12.    , 120.    ,  18.75  ,   6.8583,  32.5   ,\n",
       "         7.875 ,  14.4   ,  55.9   ,   8.1125,  81.8583,  19.2583,\n",
       "        19.9667,  89.1042,  38.5   ,   7.725 ,  13.7917,   9.8375,\n",
       "         7.0458,   7.5208,  12.2875,  78.2667,  15.1   ,   7.6292,\n",
       "         9.5875,  22.525 ,  26.2875,  59.4   ,   7.4958,  34.0208,\n",
       "        93.5   , 221.7792, 106.425 ,  49.5   ,  71.    ,  13.8625,\n",
       "         7.8292,  39.6   ,  17.4   ,  13.5   ,  51.4792,  26.3875,\n",
       "        30.    ,  40.125 ,   8.7125,  15.    ,  33.    ,  42.4   ,\n",
       "        15.55  ,  65.    ,  77.9583,   7.0542,   8.4333,  25.5875,\n",
       "         8.1375,  10.1708, 211.3375,  57.    ,  13.4167,   7.7417,\n",
       "        49.5042,   9.4833,   7.7375,   8.3625,  23.45  ,  30.6958,\n",
       "        25.9292,   8.6833,   8.5167,   7.8875,  37.0042,   6.45  ,\n",
       "         6.95  ,   8.3   ,  39.4   ,  14.1083,  13.8583,  50.4958,\n",
       "         9.8458,  10.5167])"
      ]
     },
     "execution_count": 1319,
     "metadata": {},
     "output_type": "execute_result"
    }
   ],
   "source": [
    "df['Fare'].unique()"
   ]
  },
  {
   "cell_type": "code",
   "execution_count": 1320,
   "id": "fad16cff",
   "metadata": {},
   "outputs": [
    {
     "data": {
      "text/plain": [
       "8.0500     41\n",
       "13.0000    40\n",
       "7.8958     35\n",
       "7.7500     31\n",
       "26.0000    29\n",
       "           ..\n",
       "61.1750     1\n",
       "15.0000     1\n",
       "7.5208      1\n",
       "26.3875     1\n",
       "8.4333      1\n",
       "Name: Fare, Length: 236, dtype: int64"
      ]
     },
     "execution_count": 1320,
     "metadata": {},
     "output_type": "execute_result"
    }
   ],
   "source": [
    "df['Fare'].value_counts()"
   ]
  },
  {
   "cell_type": "code",
   "execution_count": 1321,
   "id": "93bd0216",
   "metadata": {},
   "outputs": [
    {
     "data": {
      "text/plain": [
       "False"
      ]
     },
     "execution_count": 1321,
     "metadata": {},
     "output_type": "execute_result"
    }
   ],
   "source": [
    "df['Fare'].all()"
   ]
  },
  {
   "cell_type": "code",
   "execution_count": 1322,
   "id": "2e68445d",
   "metadata": {},
   "outputs": [],
   "source": [
    "df['Fare'] = df['Fare'].replace(0,df['Fare'].mean())"
   ]
  },
  {
   "cell_type": "code",
   "execution_count": 1323,
   "id": "6d4c4be8",
   "metadata": {},
   "outputs": [
    {
     "data": {
      "text/plain": [
       "True"
      ]
     },
     "execution_count": 1323,
     "metadata": {},
     "output_type": "execute_result"
    }
   ],
   "source": [
    "df['Fare'].all()"
   ]
  },
  {
   "cell_type": "code",
   "execution_count": 1324,
   "id": "ce9e6144",
   "metadata": {},
   "outputs": [
    {
     "data": {
      "text/plain": [
       "0"
      ]
     },
     "execution_count": 1324,
     "metadata": {},
     "output_type": "execute_result"
    }
   ],
   "source": [
    "df['Fare'].isna().sum()"
   ]
  },
  {
   "cell_type": "code",
   "execution_count": 1325,
   "id": "0247b0e2",
   "metadata": {},
   "outputs": [
    {
     "data": {
      "text/plain": [
       "<AxesSubplot:>"
      ]
     },
     "execution_count": 1325,
     "metadata": {},
     "output_type": "execute_result"
    },
    {
     "data": {
      "image/png": "[encoded data removed]",
      "text/plain": [
       "<Figure size 432x288 with 1 Axes>"
      ]
     },
     "metadata": {
      "needs_background": "light"
     },
     "output_type": "display_data"
    }
   ],
   "source": [
    "sns.boxplot(data = df['Fare'])"
   ]
  },
  {
   "cell_type": "code",
   "execution_count": 1326,
   "id": "f42f343b",
   "metadata": {},
   "outputs": [
    {
     "data": {
      "text/plain": [
       "<AxesSubplot:xlabel='Fare', ylabel='Density'>"
      ]
     },
     "execution_count": 1326,
     "metadata": {},
     "output_type": "execute_result"
    },
    {
     "data": {
      "image/png": "[encoded data removed]",
      "text/plain": [
       "<Figure size 432x288 with 1 Axes>"
      ]
     },
     "metadata": {
      "needs_background": "light"
     },
     "output_type": "display_data"
    }
   ],
   "source": [
    "sns.distplot(df['Fare'])"
   ]
  },
  {
   "cell_type": "code",
   "execution_count": 1327,
   "id": "1349f2db",
   "metadata": {},
   "outputs": [],
   "source": [
    "#Detecting the outlier by using iqr method and removing them.\n",
    "q1 = np.percentile(df['Fare'], 25,\n",
    "                   interpolation = 'midpoint')\n",
    " \n",
    "q3 = np.percentile(df['Fare'], 60,\n",
    "                   interpolation = 'midpoint')\n",
    "iqr = q3 - q1"
   ]
  },
  {
   "cell_type": "code",
   "execution_count": 1328,
   "id": "1b18d168",
   "metadata": {},
   "outputs": [
    {
     "name": "stdout",
     "output_type": "stream",
     "text": [
      "Higher: 0      False\n",
      "1       True\n",
      "2      False\n",
      "3       True\n",
      "4      False\n",
      "       ...  \n",
      "886    False\n",
      "887    False\n",
      "888    False\n",
      "889    False\n",
      "890    False\n",
      "Name: Fare, Length: 825, dtype: bool\n",
      "(array([  1,   3,   6,  23,  27,  29,  30,  47,  53,  55,  56,  65,  66,\n",
      "        68,  76,  81,  85,  88,  93, 101, 108, 110, 114, 126, 128, 140,\n",
      "       143, 147, 154, 157, 165, 169, 183, 197, 199, 205, 211, 225, 228,\n",
      "       235, 236, 237, 241, 247, 266, 267, 273, 275, 281, 282, 283, 285,\n",
      "       286, 287, 293, 294, 298, 299, 302, 305, 307, 309, 310, 314, 329,\n",
      "       340, 341, 344, 346, 348, 351, 354, 356, 357, 361, 364, 381, 403,\n",
      "       404, 413, 421, 424, 441, 446, 449, 451, 457, 459, 465, 469, 473,\n",
      "       480, 483, 487, 497, 499, 500, 504, 509, 515, 527, 533, 537, 541,\n",
      "       546, 554, 564, 570, 576, 580, 593, 595, 597, 606, 610, 615, 619,\n",
      "       621, 626, 628, 630, 635, 636, 638, 643, 645, 653, 655, 657, 661,\n",
      "       669, 675, 682, 686, 687, 692, 698, 703, 707, 709, 722, 724, 732,\n",
      "       735, 744, 751, 762, 768, 775, 778, 785, 788, 794, 801, 804, 807],\n",
      "      dtype=int64),)\n",
      "Lower: 0      False\n",
      "1      False\n",
      "2      False\n",
      "3      False\n",
      "4      False\n",
      "       ...  \n",
      "886    False\n",
      "887    False\n",
      "888    False\n",
      "889    False\n",
      "890    False\n",
      "Name: Fare, Length: 825, dtype: bool\n",
      "(array([], dtype=int64),)\n",
      "old Shape:  (825, 9)\n"
     ]
    }
   ],
   "source": [
    "# higher side \n",
    "higher_side = df['Fare'] >= (q3+1.5*iqr)\n",
    "print(\"Higher:\", higher_side)\n",
    "print(np.where(higher_side))\n",
    "high = np.where(higher_side)\n",
    " \n",
    "# lower side \n",
    "lower_side = df['Fare'] <= (q1-1.5*iqr)\n",
    "print(\"Lower:\", lower_side)\n",
    "low = np.where(lower_side)\n",
    "print(np.where(lower_side))\n",
    "print(\"old Shape: \", df.shape)"
   ]
  },
  {
   "cell_type": "code",
   "execution_count": 1329,
   "id": "95230a96",
   "metadata": {},
   "outputs": [
    {
     "name": "stdout",
     "output_type": "stream",
     "text": [
      "New Shape:  (669, 9)\n"
     ]
    }
   ],
   "source": [
    "#removing the outliers\n",
    "df = df.drop(df.index[low])\n",
    "df = df.drop(df.index[high])\n",
    " \n",
    "print(\"New Shape: \", df.shape)"
   ]
  },
  {
   "cell_type": "code",
   "execution_count": 1330,
   "id": "5f481b6c",
   "metadata": {},
   "outputs": [
    {
     "data": {
      "text/plain": [
       "<AxesSubplot:>"
      ]
     },
     "execution_count": 1330,
     "metadata": {},
     "output_type": "execute_result"
    },
    {
     "data": {
      "image/png": "[encoded data removed]",
      "text/plain": [
       "<Figure size 432x288 with 1 Axes>"
      ]
     },
     "metadata": {
      "needs_background": "light"
     },
     "output_type": "display_data"
    }
   ],
   "source": [
    "sns.boxplot(data = df['Fare'])"
   ]
  },
  {
   "cell_type": "code",
   "execution_count": 1331,
   "id": "c79111f5",
   "metadata": {},
   "outputs": [
    {
     "data": {
      "text/html": [
       "<div>\n",
       "<style scoped>\n",
       "    .dataframe tbody tr th:only-of-type {\n",
       "        vertical-align: middle;\n",
       "    }\n",
       "\n",
       "    .dataframe tbody tr th {\n",
       "        vertical-align: top;\n",
       "    }\n",
       "\n",
       "    .dataframe thead th {\n",
       "        text-align: right;\n",
       "    }\n",
       "</style>\n",
       "<table border=\"1\" class=\"dataframe\">\n",
       "  <thead>\n",
       "    <tr style=\"text-align: right;\">\n",
       "      <th></th>\n",
       "      <th>PassengerId</th>\n",
       "      <th>Survived</th>\n",
       "      <th>Pclass</th>\n",
       "      <th>Sex</th>\n",
       "      <th>Age</th>\n",
       "      <th>SibSp</th>\n",
       "      <th>Parch</th>\n",
       "      <th>Fare</th>\n",
       "      <th>Embarked</th>\n",
       "    </tr>\n",
       "  </thead>\n",
       "  <tbody>\n",
       "    <tr>\n",
       "      <th>0</th>\n",
       "      <td>1</td>\n",
       "      <td>0</td>\n",
       "      <td>3</td>\n",
       "      <td>1</td>\n",
       "      <td>22.0</td>\n",
       "      <td>1</td>\n",
       "      <td>0</td>\n",
       "      <td>7.25</td>\n",
       "      <td>S</td>\n",
       "    </tr>\n",
       "  </tbody>\n",
       "</table>\n",
       "</div>"
      ],
      "text/plain": [
       "   PassengerId  Survived  Pclass  Sex   Age  SibSp  Parch  Fare Embarked\n",
       "0            1         0       3    1  22.0      1      0  7.25        S"
      ]
     },
     "execution_count": 1331,
     "metadata": {},
     "output_type": "execute_result"
    }
   ],
   "source": [
    "df.head(1)"
   ]
  },
  {
   "cell_type": "markdown",
   "id": "4df65ff1",
   "metadata": {},
   "source": [
    "# Column8: Embarked"
   ]
  },
  {
   "cell_type": "code",
   "execution_count": 1332,
   "id": "238df270",
   "metadata": {},
   "outputs": [
    {
     "data": {
      "text/plain": [
       "array(['S', 'Q', 'C'], dtype=object)"
      ]
     },
     "execution_count": 1332,
     "metadata": {},
     "output_type": "execute_result"
    }
   ],
   "source": [
    "df['Embarked'].unique()"
   ]
  },
  {
   "cell_type": "code",
   "execution_count": 1333,
   "id": "fff86195",
   "metadata": {},
   "outputs": [],
   "source": [
    "lab_enc = LabelEncoder()"
   ]
  },
  {
   "cell_type": "code",
   "execution_count": 1334,
   "id": "c5996e9b",
   "metadata": {},
   "outputs": [],
   "source": [
    "df_e = lab_enc.fit_transform(df['Embarked'])"
   ]
  },
  {
   "cell_type": "code",
   "execution_count": 1335,
   "id": "44881377",
   "metadata": {},
   "outputs": [],
   "source": [
    "df['Embarked'] = df_e"
   ]
  },
  {
   "cell_type": "code",
   "execution_count": 1336,
   "id": "05e7e3ee",
   "metadata": {},
   "outputs": [
    {
     "data": {
      "text/plain": [
       "array([2, 1, 0])"
      ]
     },
     "execution_count": 1336,
     "metadata": {},
     "output_type": "execute_result"
    }
   ],
   "source": [
    "df['Embarked'].unique()"
   ]
  },
  {
   "cell_type": "code",
   "execution_count": 1337,
   "id": "7c881aa2",
   "metadata": {},
   "outputs": [
    {
     "data": {
      "text/plain": [
       "0"
      ]
     },
     "execution_count": 1337,
     "metadata": {},
     "output_type": "execute_result"
    }
   ],
   "source": [
    "df['Embarked'].isna().sum()"
   ]
  },
  {
   "cell_type": "code",
   "execution_count": 1338,
   "id": "9c9a45a1",
   "metadata": {},
   "outputs": [
    {
     "data": {
      "text/plain": [
       "(8, 8)"
      ]
     },
     "execution_count": 1338,
     "metadata": {},
     "output_type": "execute_result"
    }
   ],
   "source": [
    "# analyize the correlation\n",
    "corr = df.corr()\n",
    "corr.shape"
   ]
  },
  {
   "cell_type": "code",
   "execution_count": 1339,
   "id": "93153bf7",
   "metadata": {},
   "outputs": [
    {
     "data": {
      "text/plain": [
       "<function matplotlib.pyplot.show(close=None, block=None)>"
      ]
     },
     "execution_count": 1339,
     "metadata": {},
     "output_type": "execute_result"
    },
    {
     "data": {
      "image/png": "[encoded data removed]",
      "text/plain": [
       "<Figure size 864x720 with 2 Axes>"
      ]
     },
     "metadata": {
      "needs_background": "light"
     },
     "output_type": "display_data"
    }
   ],
   "source": [
    "# Visualize the corrrelation by using heatmap\n",
    "plt.figure(figsize=(12,10))\n",
    "sns.heatmap(corr, annot=True)\n",
    "plt.show"
   ]
  },
  {
   "cell_type": "code",
   "execution_count": 1340,
   "id": "cf841e91",
   "metadata": {},
   "outputs": [],
   "source": [
    "#split x and y\n",
    "x = df.drop(['Survived'], axis=1)\n",
    "y=df.Survived"
   ]
  },
  {
   "cell_type": "code",
   "execution_count": 1341,
   "id": "13aa7ca5",
   "metadata": {},
   "outputs": [
    {
     "data": {
      "text/plain": [
       "(669, 8)"
      ]
     },
     "execution_count": 1341,
     "metadata": {},
     "output_type": "execute_result"
    }
   ],
   "source": [
    "x.shape"
   ]
  },
  {
   "cell_type": "code",
   "execution_count": 1342,
   "id": "b4616821",
   "metadata": {},
   "outputs": [
    {
     "data": {
      "text/plain": [
       "(669,)"
      ]
     },
     "execution_count": 1342,
     "metadata": {},
     "output_type": "execute_result"
    }
   ],
   "source": [
    "y.shape"
   ]
  },
  {
   "cell_type": "code",
   "execution_count": 1343,
   "id": "85983d6d",
   "metadata": {},
   "outputs": [
    {
     "data": {
      "text/plain": [
       "array([[-1.72986177,  0.64448699,  0.67874788, ..., -0.43490177,\n",
       "        -0.89149778,  0.54487837],\n",
       "       [-1.72211659,  0.64448699, -1.47330109, ..., -0.43490177,\n",
       "        -0.81911372,  0.54487837],\n",
       "       [-1.7143714 ,  0.64448699,  0.67874788, ..., -0.43490177,\n",
       "        -0.80570926,  0.54487837],\n",
       "       ...,\n",
       "       [ 1.70899956,  0.64448699, -1.47330109, ...,  2.13987065,\n",
       "         0.84571957,  0.54487837],\n",
       "       [ 1.71287215, -2.47987384,  0.67874788, ..., -0.43490177,\n",
       "         1.548113  , -2.19590081],\n",
       "       [ 1.71674474,  0.64448699,  0.67874788, ..., -0.43490177,\n",
       "        -0.83787996, -0.82551122]])"
      ]
     },
     "execution_count": 1343,
     "metadata": {},
     "output_type": "execute_result"
    }
   ],
   "source": [
    "#scale the features\n",
    "scaler = StandardScaler()\n",
    "x_scaled = scaler.fit_transform(x)\n",
    "x_scaled"
   ]
  },
  {
   "cell_type": "code",
   "execution_count": 1344,
   "id": "a40f85aa",
   "metadata": {},
   "outputs": [
    {
     "data": {
      "text/html": [
       "<div>\n",
       "<style scoped>\n",
       "    .dataframe tbody tr th:only-of-type {\n",
       "        vertical-align: middle;\n",
       "    }\n",
       "\n",
       "    .dataframe tbody tr th {\n",
       "        vertical-align: top;\n",
       "    }\n",
       "\n",
       "    .dataframe thead th {\n",
       "        text-align: right;\n",
       "    }\n",
       "</style>\n",
       "<table border=\"1\" class=\"dataframe\">\n",
       "  <thead>\n",
       "    <tr style=\"text-align: right;\">\n",
       "      <th></th>\n",
       "      <th>vif</th>\n",
       "      <th>features</th>\n",
       "    </tr>\n",
       "  </thead>\n",
       "  <tbody>\n",
       "    <tr>\n",
       "      <th>0</th>\n",
       "      <td>1.015930</td>\n",
       "      <td>PassengerId</td>\n",
       "    </tr>\n",
       "    <tr>\n",
       "      <th>1</th>\n",
       "      <td>2.606756</td>\n",
       "      <td>Pclass</td>\n",
       "    </tr>\n",
       "    <tr>\n",
       "      <th>2</th>\n",
       "      <td>1.134741</td>\n",
       "      <td>Sex</td>\n",
       "    </tr>\n",
       "    <tr>\n",
       "      <th>3</th>\n",
       "      <td>1.221584</td>\n",
       "      <td>Age</td>\n",
       "    </tr>\n",
       "    <tr>\n",
       "      <th>4</th>\n",
       "      <td>1.914239</td>\n",
       "      <td>SibSp</td>\n",
       "    </tr>\n",
       "    <tr>\n",
       "      <th>5</th>\n",
       "      <td>1.678367</td>\n",
       "      <td>Parch</td>\n",
       "    </tr>\n",
       "    <tr>\n",
       "      <th>6</th>\n",
       "      <td>3.501757</td>\n",
       "      <td>Fare</td>\n",
       "    </tr>\n",
       "    <tr>\n",
       "      <th>7</th>\n",
       "      <td>1.019047</td>\n",
       "      <td>Embarked</td>\n",
       "    </tr>\n",
       "  </tbody>\n",
       "</table>\n",
       "</div>"
      ],
      "text/plain": [
       "        vif     features\n",
       "0  1.015930  PassengerId\n",
       "1  2.606756       Pclass\n",
       "2  1.134741          Sex\n",
       "3  1.221584          Age\n",
       "4  1.914239        SibSp\n",
       "5  1.678367        Parch\n",
       "6  3.501757         Fare\n",
       "7  1.019047     Embarked"
      ]
     },
     "execution_count": 1344,
     "metadata": {},
     "output_type": "execute_result"
    }
   ],
   "source": [
    "# Check the multicollinearity between the features\n",
    "#import library for VIF\n",
    "from statsmodels.stats.outliers_influence import variance_inflation_factor\n",
    "vif = pd.DataFrame()\n",
    "vif[\"vif\"]= [ variance_inflation_factor(x_scaled, i)\n",
    "               for i in range ( x_scaled.shape[1])]\n",
    "vif['features']= x.columns\n",
    "vif #less corelation between the features"
   ]
  },
  {
   "cell_type": "code",
   "execution_count": 1345,
   "id": "3262640f",
   "metadata": {},
   "outputs": [],
   "source": [
    "#split data into train and test.\n",
    "x_train, x_test, y_train, y_test = train_test_split(x_scaled, y,test_size = 0.25, random_state=42)"
   ]
  },
  {
   "cell_type": "code",
   "execution_count": 1346,
   "id": "98fe8b6b",
   "metadata": {},
   "outputs": [
    {
     "data": {
      "text/plain": [
       "121    0\n",
       "841    0\n",
       "472    1\n",
       "652    0\n",
       "464    0\n",
       "Name: Survived, dtype: int64"
      ]
     },
     "execution_count": 1346,
     "metadata": {},
     "output_type": "execute_result"
    }
   ],
   "source": [
    "y_train.head()"
   ]
  },
  {
   "cell_type": "markdown",
   "id": "100a1773",
   "metadata": {},
   "source": [
    "# Logistic Regression"
   ]
  },
  {
   "cell_type": "code",
   "execution_count": 1347,
   "id": "013af6f7",
   "metadata": {},
   "outputs": [
    {
     "data": {
      "text/plain": [
       "LogisticRegression()"
      ]
     },
     "execution_count": 1347,
     "metadata": {},
     "output_type": "execute_result"
    }
   ],
   "source": [
    "#Model instantiating and training\n",
    "log_reg = LogisticRegression()\n",
    "log_reg.fit(x_train, y_train)"
   ]
  },
  {
   "cell_type": "code",
   "execution_count": 1348,
   "id": "ede92063",
   "metadata": {},
   "outputs": [
    {
     "data": {
      "text/plain": [
       "0.8043912175648703"
      ]
     },
     "execution_count": 1348,
     "metadata": {},
     "output_type": "execute_result"
    }
   ],
   "source": [
    "#Train the model\n",
    "log_reg.score(x_train, y_train)"
   ]
  },
  {
   "cell_type": "code",
   "execution_count": 1349,
   "id": "0853e2b0",
   "metadata": {},
   "outputs": [
    {
     "data": {
      "text/plain": [
       "0.7857142857142857"
      ]
     },
     "execution_count": 1349,
     "metadata": {},
     "output_type": "execute_result"
    }
   ],
   "source": [
    "#Let's check how well model fits the test data\n",
    "log_reg.score(x_test,y_test)"
   ]
  },
  {
   "cell_type": "code",
   "execution_count": 1350,
   "id": "8c694ee6",
   "metadata": {},
   "outputs": [],
   "source": [
    "#make predictions\n",
    "pred_test= log_reg.predict(x_test)"
   ]
  },
  {
   "cell_type": "code",
   "execution_count": 1351,
   "id": "6f0a2eaf",
   "metadata": {},
   "outputs": [
    {
     "name": "stdout",
     "output_type": "stream",
     "text": [
      "At CV ------ 2\n",
      "CV Score is ----- 78.47394762713378\n",
      "Accuracy Score is ----- 78.57142857142857\n",
      "\n",
      "\n",
      "At CV ------ 3\n",
      "CV Score is ----- 78.1763826606876\n",
      "Accuracy Score is ----- 78.57142857142857\n",
      "\n",
      "\n",
      "At CV ------ 4\n",
      "CV Score is ----- 78.17222697462218\n",
      "Accuracy Score is ----- 78.57142857142857\n",
      "\n",
      "\n",
      "At CV ------ 5\n",
      "CV Score is ----- 78.62529457973292\n",
      "Accuracy Score is ----- 78.57142857142857\n",
      "\n",
      "\n",
      "At CV ------ 6\n",
      "CV Score is ----- 78.46954096954097\n",
      "Accuracy Score is ----- 78.57142857142857\n",
      "\n",
      "\n",
      "At CV ------ 7\n",
      "CV Score is ----- 77.87280701754385\n",
      "Accuracy Score is ----- 78.57142857142857\n",
      "\n",
      "\n",
      "At CV ------ 8\n",
      "CV Score is ----- 77.87937464142284\n",
      "Accuracy Score is ----- 78.57142857142857\n",
      "\n",
      "\n",
      "At CV ------ 9\n",
      "CV Score is ----- 79.07107107107107\n",
      "Accuracy Score is ----- 78.57142857142857\n",
      "\n",
      "\n"
     ]
    }
   ],
   "source": [
    "#Cross validation score for logistic regression\n",
    "lr_cv = log_reg.predict(x_test)\n",
    "from sklearn.model_selection import cross_val_score\n",
    "from sklearn.metrics import accuracy_score\n",
    "lr_acc= accuracy_score(y_test,lr_cv)\n",
    "for i in range (2,10):\n",
    "    lr_score= cross_val_score(log_reg,x,y,cv=i)\n",
    "    lr_sc=lr_score.mean()\n",
    "    print( 'At CV ------',i)\n",
    "    print(\"CV Score is -----\",lr_sc*100)\n",
    "    print(\"Accuracy Score is -----\",lr_acc*100)\n",
    "    print(\"\\n\")"
   ]
  },
  {
   "cell_type": "markdown",
   "id": "284e789d",
   "metadata": {},
   "source": [
    "# KNeighborsClassifier"
   ]
  },
  {
   "cell_type": "code",
   "execution_count": 1352,
   "id": "5b28598c",
   "metadata": {},
   "outputs": [
    {
     "data": {
      "text/plain": [
       "KNeighborsClassifier()"
      ]
     },
     "execution_count": 1352,
     "metadata": {},
     "output_type": "execute_result"
    }
   ],
   "source": [
    "Classifier = KNeighborsClassifier(n_neighbors=5)\n",
    "Classifier.fit(x_train,y_train) #first train the data"
   ]
  },
  {
   "cell_type": "code",
   "execution_count": 1353,
   "id": "9b1e24e3",
   "metadata": {},
   "outputs": [
    {
     "data": {
      "text/plain": [
       "0.8582834331337326"
      ]
     },
     "execution_count": 1353,
     "metadata": {},
     "output_type": "execute_result"
    }
   ],
   "source": [
    "Classifier.score(x_train,y_train) #train data score"
   ]
  },
  {
   "cell_type": "code",
   "execution_count": 1354,
   "id": "dcb7054b",
   "metadata": {},
   "outputs": [
    {
     "data": {
      "text/plain": [
       "0.7559523809523809"
      ]
     },
     "execution_count": 1354,
     "metadata": {},
     "output_type": "execute_result"
    }
   ],
   "source": [
    "Classifier.score(x_test,y_test) #test data score"
   ]
  },
  {
   "cell_type": "code",
   "execution_count": 1355,
   "id": "107f098d",
   "metadata": {},
   "outputs": [],
   "source": [
    "from sklearn.metrics import confusion_matrix, classification_report #import library"
   ]
  },
  {
   "cell_type": "code",
   "execution_count": 1356,
   "id": "b7a78246",
   "metadata": {},
   "outputs": [],
   "source": [
    "knn = KNeighborsClassifier()"
   ]
  },
  {
   "cell_type": "code",
   "execution_count": 1357,
   "id": "66142ea4",
   "metadata": {},
   "outputs": [
    {
     "data": {
      "text/plain": [
       "KNeighborsClassifier()"
      ]
     },
     "execution_count": 1357,
     "metadata": {},
     "output_type": "execute_result"
    }
   ],
   "source": [
    "knn.fit(x_train,y_train) #train the data"
   ]
  },
  {
   "cell_type": "code",
   "execution_count": 1358,
   "id": "17841438",
   "metadata": {},
   "outputs": [],
   "source": [
    "y_pred = knn.predict(x_test) #predict the data"
   ]
  },
  {
   "cell_type": "code",
   "execution_count": 1359,
   "id": "86bbb778",
   "metadata": {},
   "outputs": [
    {
     "data": {
      "text/plain": [
       "array([[95, 13],\n",
       "       [28, 32]], dtype=int64)"
      ]
     },
     "execution_count": 1359,
     "metadata": {},
     "output_type": "execute_result"
    }
   ],
   "source": [
    "cf = confusion_matrix(y_test, y_pred) #make confusion matrix\n",
    "cf"
   ]
  },
  {
   "cell_type": "code",
   "execution_count": 1360,
   "id": "65efa6d8",
   "metadata": {},
   "outputs": [
    {
     "name": "stdout",
     "output_type": "stream",
     "text": [
      "              precision    recall  f1-score   support\n",
      "\n",
      "           0       0.77      0.88      0.82       108\n",
      "           1       0.71      0.53      0.61        60\n",
      "\n",
      "    accuracy                           0.76       168\n",
      "   macro avg       0.74      0.71      0.72       168\n",
      "weighted avg       0.75      0.76      0.75       168\n",
      "\n"
     ]
    }
   ],
   "source": [
    "print(classification_report(y_test,y_pred,digits=2)) #make classification report"
   ]
  },
  {
   "cell_type": "code",
   "execution_count": 1390,
   "id": "36bcce92",
   "metadata": {},
   "outputs": [
    {
     "data": {
      "text/plain": [
       "array([0.75373134, 0.74626866, 0.8358209 , 0.8358209 , 0.82706767])"
      ]
     },
     "execution_count": 1390,
     "metadata": {},
     "output_type": "execute_result"
    }
   ],
   "source": [
    "#cross validation score to check if the model is overfitting\n",
    "from sklearn.model_selection import cross_val_score\n",
    "cross_val_score(knn,x_scaled,y,cv=5)"
   ]
  },
  {
   "cell_type": "code",
   "execution_count": 1391,
   "id": "6100bec7",
   "metadata": {},
   "outputs": [
    {
     "data": {
      "text/plain": [
       "0.7997418920435415"
      ]
     },
     "execution_count": 1391,
     "metadata": {},
     "output_type": "execute_result"
    }
   ],
   "source": [
    "cross_val_score(KNeighborsClassifier(),x_scaled,y,cv=5).mean() #mean of the cv score"
   ]
  },
  {
   "cell_type": "markdown",
   "id": "869fb99c",
   "metadata": {},
   "source": [
    "# GridsearchCV"
   ]
  },
  {
   "cell_type": "code",
   "execution_count": 1363,
   "id": "88139c37",
   "metadata": {},
   "outputs": [],
   "source": [
    "from sklearn.model_selection import GridSearchCV #import libary"
   ]
  },
  {
   "cell_type": "code",
   "execution_count": 1364,
   "id": "834f7004",
   "metadata": {},
   "outputs": [
    {
     "data": {
      "text/plain": [
       "GridSearchCV(estimator=KNeighborsClassifier(),\n",
       "             param_grid={'algorithm': ['kdtree', 'brute'],\n",
       "                         'leaf_size': [10, 11, 14, 15, 18, 20, 25],\n",
       "                         'n_neighbors': [3, 5, 7, 9, 11, 13]})"
      ]
     },
     "execution_count": 1364,
     "metadata": {},
     "output_type": "execute_result"
    }
   ],
   "source": [
    "param_grid = {'algorithm':['kdtree','brute'], 'leaf_size':[10,11,14,15,18,20,25], 'n_neighbors':[3,5,7,9,11,13]}\n",
    "gridsearch = GridSearchCV(estimator=knn, param_grid= param_grid)\n",
    "gridsearch.fit(x_train,y_train) #train the data"
   ]
  },
  {
   "cell_type": "code",
   "execution_count": 1365,
   "id": "1505f40b",
   "metadata": {},
   "outputs": [
    {
     "data": {
      "text/plain": [
       "{'algorithm': 'brute', 'leaf_size': 10, 'n_neighbors': 13}"
      ]
     },
     "execution_count": 1365,
     "metadata": {},
     "output_type": "execute_result"
    }
   ],
   "source": [
    "gridsearch.best_params_ #get best parameters"
   ]
  },
  {
   "cell_type": "code",
   "execution_count": 1366,
   "id": "54757383",
   "metadata": {},
   "outputs": [],
   "source": [
    "knn = KNeighborsClassifier(algorithm = 'brute', leaf_size = 10, n_neighbors = 5)"
   ]
  },
  {
   "cell_type": "code",
   "execution_count": 1367,
   "id": "a7e79355",
   "metadata": {},
   "outputs": [
    {
     "data": {
      "text/plain": [
       "KNeighborsClassifier(algorithm='brute', leaf_size=10)"
      ]
     },
     "execution_count": 1367,
     "metadata": {},
     "output_type": "execute_result"
    }
   ],
   "source": [
    "knn.fit(x_train,y_train) #train the data"
   ]
  },
  {
   "cell_type": "code",
   "execution_count": 1368,
   "id": "52dc1bdf",
   "metadata": {},
   "outputs": [],
   "source": [
    "y_pred = knn.predict(x_test) #make prediction"
   ]
  },
  {
   "cell_type": "code",
   "execution_count": 1369,
   "id": "c781124e",
   "metadata": {},
   "outputs": [
    {
     "data": {
      "text/plain": [
       "array([[95, 13],\n",
       "       [28, 32]], dtype=int64)"
      ]
     },
     "execution_count": 1369,
     "metadata": {},
     "output_type": "execute_result"
    }
   ],
   "source": [
    "cfm = confusion_matrix(y_test,y_pred)\n",
    "cfm #confusion matrix"
   ]
  },
  {
   "cell_type": "code",
   "execution_count": 1370,
   "id": "4d10cc5f",
   "metadata": {},
   "outputs": [
    {
     "name": "stdout",
     "output_type": "stream",
     "text": [
      "              precision    recall  f1-score   support\n",
      "\n",
      "           0       0.77      0.88      0.82       108\n",
      "           1       0.71      0.53      0.61        60\n",
      "\n",
      "    accuracy                           0.76       168\n",
      "   macro avg       0.74      0.71      0.72       168\n",
      "weighted avg       0.75      0.76      0.75       168\n",
      "\n"
     ]
    }
   ],
   "source": [
    "print(classification_report(y_test,y_pred,digits=2)) #make classification report"
   ]
  },
  {
   "cell_type": "markdown",
   "id": "4bd59eb3",
   "metadata": {},
   "source": [
    "# SVM"
   ]
  },
  {
   "cell_type": "code",
   "execution_count": 1371,
   "id": "30c63190",
   "metadata": {},
   "outputs": [],
   "source": [
    "from sklearn.svm import SVC #support vector machine"
   ]
  },
  {
   "cell_type": "code",
   "execution_count": 1372,
   "id": "cc298404",
   "metadata": {},
   "outputs": [],
   "source": [
    "svc = SVC()"
   ]
  },
  {
   "cell_type": "code",
   "execution_count": 1373,
   "id": "46b5826f",
   "metadata": {},
   "outputs": [
    {
     "data": {
      "text/plain": [
       "SVC()"
      ]
     },
     "execution_count": 1373,
     "metadata": {},
     "output_type": "execute_result"
    }
   ],
   "source": [
    "svc.fit(x_train,y_train) #ytrain the data"
   ]
  },
  {
   "cell_type": "code",
   "execution_count": 1374,
   "id": "cd47f7f6",
   "metadata": {},
   "outputs": [
    {
     "data": {
      "text/plain": [
       "0.8522954091816367"
      ]
     },
     "execution_count": 1374,
     "metadata": {},
     "output_type": "execute_result"
    }
   ],
   "source": [
    "svc.score(x_train,y_train) #score of train data"
   ]
  },
  {
   "cell_type": "code",
   "execution_count": 1375,
   "id": "3df6339b",
   "metadata": {},
   "outputs": [
    {
     "data": {
      "text/plain": [
       "0.7976190476190477"
      ]
     },
     "execution_count": 1375,
     "metadata": {},
     "output_type": "execute_result"
    }
   ],
   "source": [
    "svc.score(x_test,y_test) #score of test data"
   ]
  },
  {
   "cell_type": "code",
   "execution_count": 1376,
   "id": "4d712136",
   "metadata": {},
   "outputs": [],
   "source": [
    "y_pred = svc.predict(x_test) #make prediction"
   ]
  },
  {
   "cell_type": "code",
   "execution_count": 1377,
   "id": "4b249782",
   "metadata": {},
   "outputs": [
    {
     "name": "stdout",
     "output_type": "stream",
     "text": [
      "\n",
      " Accuracy Score--- 0.7976190476190477\n"
     ]
    }
   ],
   "source": [
    "print('\\n Accuracy Score---', accuracy_score(y_test, y_pred)) #get accuracy score"
   ]
  },
  {
   "cell_type": "code",
   "execution_count": 1378,
   "id": "35f1f217",
   "metadata": {},
   "outputs": [
    {
     "data": {
      "text/plain": [
       "array([[100,   8],\n",
       "       [ 26,  34]], dtype=int64)"
      ]
     },
     "execution_count": 1378,
     "metadata": {},
     "output_type": "execute_result"
    }
   ],
   "source": [
    "cf = confusion_matrix(y_test, y_pred)\n",
    "cf #confusin matrix"
   ]
  },
  {
   "cell_type": "code",
   "execution_count": 1379,
   "id": "69c33041",
   "metadata": {},
   "outputs": [
    {
     "name": "stdout",
     "output_type": "stream",
     "text": [
      "              precision    recall  f1-score   support\n",
      "\n",
      "           0       0.79      0.93      0.85       108\n",
      "           1       0.81      0.57      0.67        60\n",
      "\n",
      "    accuracy                           0.80       168\n",
      "   macro avg       0.80      0.75      0.76       168\n",
      "weighted avg       0.80      0.80      0.79       168\n",
      "\n"
     ]
    }
   ],
   "source": [
    "print(classification_report(y_test,y_pred,digits=2)) #make classification report"
   ]
  },
  {
   "cell_type": "markdown",
   "id": "971bfb26",
   "metadata": {},
   "source": [
    "# Plot ROC/AUC for multiple models"
   ]
  },
  {
   "cell_type": "code",
   "execution_count": 1380,
   "id": "a1b11461",
   "metadata": {},
   "outputs": [],
   "source": [
    "#see ROC/AUC by 4 models\n",
    "log_reg = LogisticRegression()\n",
    "dt = DecisionTreeClassifier()\n",
    "rf= RandomForestClassifier()\n",
    "knn = KNeighborsClassifier()"
   ]
  },
  {
   "cell_type": "code",
   "execution_count": 1381,
   "id": "e0d56154",
   "metadata": {},
   "outputs": [
    {
     "name": "stdout",
     "output_type": "stream",
     "text": [
      "all models are trained\n"
     ]
    }
   ],
   "source": [
    "log_reg.fit(x_train,y_train) #train all the models\n",
    "dt.fit(x_train,y_train)\n",
    "rf.fit(x_train,y_train)\n",
    "knn.fit(x_train,y_train)\n",
    "print(\"all models are trained\")"
   ]
  },
  {
   "cell_type": "code",
   "execution_count": 1382,
   "id": "5a9075f8",
   "metadata": {},
   "outputs": [
    {
     "name": "stdout",
     "output_type": "stream",
     "text": [
      "all models score are captured\n"
     ]
    }
   ],
   "source": [
    "log_reg.score(x_test,y_test) #captured all score \n",
    "dt.score(x_test,y_test)\n",
    "rf.score(x_test,y_test)\n",
    "knn.score(x_test,y_test)\n",
    "print(\"all models score are captured\")"
   ]
  },
  {
   "cell_type": "code",
   "execution_count": 1383,
   "id": "2f6440e7",
   "metadata": {},
   "outputs": [
    {
     "data": {
      "image/png": "[encoded data removed]",
      "text/plain": [
       "<Figure size 432x288 with 1 Axes>"
      ]
     },
     "metadata": {
      "needs_background": "light"
     },
     "output_type": "display_data"
    }
   ],
   "source": [
    "#how well out model works on test data\n",
    "disp = plot_roc_curve(dt,x_test,y_test)\n",
    "plot_roc_curve(log_reg,x_test,y_test, ax= disp.ax_)\n",
    "plot_roc_curve(rf,x_test,y_test, ax= disp.ax_)\n",
    "plot_roc_curve(knn,x_test,y_test, ax= disp.ax_)\n",
    "plt.show()"
   ]
  },
  {
   "cell_type": "markdown",
   "id": "ccb995fd",
   "metadata": {},
   "source": [
    "# RandomForestClassifier"
   ]
  },
  {
   "cell_type": "code",
   "execution_count": 1384,
   "id": "4dc02f68",
   "metadata": {},
   "outputs": [],
   "source": [
    "rf= RandomForestClassifier() #using one more model"
   ]
  },
  {
   "cell_type": "code",
   "execution_count": 1385,
   "id": "8d9f1428",
   "metadata": {},
   "outputs": [],
   "source": [
    "params = {'n_estimators':[13,15],\n",
    "         'criterion':['entropy'],\n",
    "         'max_depth':[10,15],\n",
    "         'min_samples_split':[10,11],\n",
    "         'min_samples_leaf':[5,6]}"
   ]
  },
  {
   "cell_type": "code",
   "execution_count": 1386,
   "id": "08bbc11c",
   "metadata": {},
   "outputs": [
    {
     "name": "stdout",
     "output_type": "stream",
     "text": [
      "best_param -  {'criterion': 'entropy', 'max_depth': 15, 'min_samples_leaf': 5, 'min_samples_split': 11, 'n_estimators': 15}\n"
     ]
    }
   ],
   "source": [
    "grd = GridSearchCV(rf, param_grid=params)\n",
    "grd.fit(x_train,y_train)\n",
    "print('best_param - ', grd.best_params_)"
   ]
  },
  {
   "cell_type": "code",
   "execution_count": 1387,
   "id": "625c509d",
   "metadata": {},
   "outputs": [
    {
     "name": "stdout",
     "output_type": "stream",
     "text": [
      "\n",
      " conf_mat --  \n",
      " [[103   5]\n",
      " [ 31  29]]\n",
      "\n",
      " Accuracy Score--- 0.7857142857142857\n"
     ]
    }
   ],
   "source": [
    "#Check the accuarcy of our model\n",
    "clf = grd.best_estimator_\n",
    "clf.fit(x_train,y_train)\n",
    "y_pred = clf.predict(x_test)\n",
    "rf_cfm = confusion_matrix(y_test, y_pred)\n",
    "print('\\n conf_mat -- ', '\\n', rf_cfm)\n",
    "print('\\n Accuracy Score---', accuracy_score(y_test, y_pred))"
   ]
  },
  {
   "cell_type": "code",
   "execution_count": 1388,
   "id": "c424486e",
   "metadata": {},
   "outputs": [
    {
     "name": "stdout",
     "output_type": "stream",
     "text": [
      "              precision    recall  f1-score   support\n",
      "\n",
      "           0       0.77      0.95      0.85       108\n",
      "           1       0.85      0.48      0.62        60\n",
      "\n",
      "    accuracy                           0.79       168\n",
      "   macro avg       0.81      0.72      0.73       168\n",
      "weighted avg       0.80      0.79      0.77       168\n",
      "\n"
     ]
    }
   ],
   "source": [
    "#To check recall\n",
    "report = classification_report(y_test, y_pred)\n",
    "print(report)"
   ]
  },
  {
   "cell_type": "markdown",
   "id": "ee8116c0",
   "metadata": {},
   "source": [
    "# saving the model to the local file system"
   ]
  },
  {
   "cell_type": "code",
   "execution_count": 1141,
   "id": "25e764cc",
   "metadata": {},
   "outputs": [],
   "source": [
    "with open('Red_wine_quality_model','wb') as f: #finally svaing the model\n",
    "    pickle.dump(log_reg,f)"
   ]
  },
  {
   "cell_type": "code",
   "execution_count": null,
   "id": "e09a954d",
   "metadata": {},
   "outputs": [],
   "source": []
  }
 ],
 "metadata": {
  "kernelspec": {
   "display_name": "Python 3",
   "language": "python",
   "name": "python3"
  },
  "language_info": {
   "codemirror_mode": {
    "name": "ipython",
    "version": 3
   },
   "file_extension": ".py",
   "mimetype": "text/x-python",
   "name": "python",
   "nbconvert_exporter": "python",
   "pygments_lexer": "ipython3",
   "version": "3.8.8"
  }
 },
 "nbformat": 4,
 "nbformat_minor": 5
}
