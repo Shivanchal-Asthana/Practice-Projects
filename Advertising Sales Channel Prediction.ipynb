{
 "cells": [
  {
   "cell_type": "code",
   "execution_count": 1286,
   "id": "65971628",
   "metadata": {},
   "outputs": [],
   "source": [
    "#importing necessary libraries\n",
    "import pandas as pd\n",
    "import numpy as np\n",
    "import statsmodels.formula.api as smf\n",
    "from sklearn.preprocessing import StandardScaler, OrdinalEncoder, OneHotEncoder, LabelEncoder, PowerTransformer\n",
    "from sklearn.impute import SimpleImputer\n",
    "from sklearn.compose import make_column_transformer\n",
    "from sklearn.linear_model import LinearRegression\n",
    "from sklearn.model_selection import train_test_split, RandomizedSearchCV\n",
    "from sklearn.feature_selection import SelectPercentile, chi2\n",
    "from sklearn.metrics import mean_squared_error, mean_absolute_error, r2_score\n",
    "from sklearn.ensemble import AdaBoostRegressor, GradientBoostingRegressor\n",
    "from scipy.stats import norm, stats\n",
    "import statistics as st\n",
    "import statsmodels.api as sm\n",
    "import seaborn as sns\n",
    "import matplotlib.pyplot as plt\n",
    "import pickle\n",
    "\n",
    "\n",
    "\n",
    "#import plotty\n",
    "import warnings\n",
    "warnings.filterwarnings('ignore')"
   ]
  },
  {
   "cell_type": "code",
   "execution_count": 1287,
   "id": "ef14038e",
   "metadata": {},
   "outputs": [
    {
     "data": {
      "text/html": [
       "<div>\n",
       "<style scoped>\n",
       "    .dataframe tbody tr th:only-of-type {\n",
       "        vertical-align: middle;\n",
       "    }\n",
       "\n",
       "    .dataframe tbody tr th {\n",
       "        vertical-align: top;\n",
       "    }\n",
       "\n",
       "    .dataframe thead th {\n",
       "        text-align: right;\n",
       "    }\n",
       "</style>\n",
       "<table border=\"1\" class=\"dataframe\">\n",
       "  <thead>\n",
       "    <tr style=\"text-align: right;\">\n",
       "      <th></th>\n",
       "      <th>Unnamed: 0</th>\n",
       "      <th>TV</th>\n",
       "      <th>radio</th>\n",
       "      <th>newspaper</th>\n",
       "      <th>sales</th>\n",
       "    </tr>\n",
       "  </thead>\n",
       "  <tbody>\n",
       "    <tr>\n",
       "      <th>0</th>\n",
       "      <td>1</td>\n",
       "      <td>230.1</td>\n",
       "      <td>37.8</td>\n",
       "      <td>69.2</td>\n",
       "      <td>22.1</td>\n",
       "    </tr>\n",
       "    <tr>\n",
       "      <th>1</th>\n",
       "      <td>2</td>\n",
       "      <td>44.5</td>\n",
       "      <td>39.3</td>\n",
       "      <td>45.1</td>\n",
       "      <td>10.4</td>\n",
       "    </tr>\n",
       "    <tr>\n",
       "      <th>2</th>\n",
       "      <td>3</td>\n",
       "      <td>17.2</td>\n",
       "      <td>45.9</td>\n",
       "      <td>69.3</td>\n",
       "      <td>9.3</td>\n",
       "    </tr>\n",
       "    <tr>\n",
       "      <th>3</th>\n",
       "      <td>4</td>\n",
       "      <td>151.5</td>\n",
       "      <td>41.3</td>\n",
       "      <td>58.5</td>\n",
       "      <td>18.5</td>\n",
       "    </tr>\n",
       "    <tr>\n",
       "      <th>4</th>\n",
       "      <td>5</td>\n",
       "      <td>180.8</td>\n",
       "      <td>10.8</td>\n",
       "      <td>58.4</td>\n",
       "      <td>12.9</td>\n",
       "    </tr>\n",
       "    <tr>\n",
       "      <th>...</th>\n",
       "      <td>...</td>\n",
       "      <td>...</td>\n",
       "      <td>...</td>\n",
       "      <td>...</td>\n",
       "      <td>...</td>\n",
       "    </tr>\n",
       "    <tr>\n",
       "      <th>195</th>\n",
       "      <td>196</td>\n",
       "      <td>38.2</td>\n",
       "      <td>3.7</td>\n",
       "      <td>13.8</td>\n",
       "      <td>7.6</td>\n",
       "    </tr>\n",
       "    <tr>\n",
       "      <th>196</th>\n",
       "      <td>197</td>\n",
       "      <td>94.2</td>\n",
       "      <td>4.9</td>\n",
       "      <td>8.1</td>\n",
       "      <td>9.7</td>\n",
       "    </tr>\n",
       "    <tr>\n",
       "      <th>197</th>\n",
       "      <td>198</td>\n",
       "      <td>177.0</td>\n",
       "      <td>9.3</td>\n",
       "      <td>6.4</td>\n",
       "      <td>12.8</td>\n",
       "    </tr>\n",
       "    <tr>\n",
       "      <th>198</th>\n",
       "      <td>199</td>\n",
       "      <td>283.6</td>\n",
       "      <td>42.0</td>\n",
       "      <td>66.2</td>\n",
       "      <td>25.5</td>\n",
       "    </tr>\n",
       "    <tr>\n",
       "      <th>199</th>\n",
       "      <td>200</td>\n",
       "      <td>232.1</td>\n",
       "      <td>8.6</td>\n",
       "      <td>8.7</td>\n",
       "      <td>13.4</td>\n",
       "    </tr>\n",
       "  </tbody>\n",
       "</table>\n",
       "<p>200 rows × 5 columns</p>\n",
       "</div>"
      ],
      "text/plain": [
       "     Unnamed: 0     TV  radio  newspaper  sales\n",
       "0             1  230.1   37.8       69.2   22.1\n",
       "1             2   44.5   39.3       45.1   10.4\n",
       "2             3   17.2   45.9       69.3    9.3\n",
       "3             4  151.5   41.3       58.5   18.5\n",
       "4             5  180.8   10.8       58.4   12.9\n",
       "..          ...    ...    ...        ...    ...\n",
       "195         196   38.2    3.7       13.8    7.6\n",
       "196         197   94.2    4.9        8.1    9.7\n",
       "197         198  177.0    9.3        6.4   12.8\n",
       "198         199  283.6   42.0       66.2   25.5\n",
       "199         200  232.1    8.6        8.7   13.4\n",
       "\n",
       "[200 rows x 5 columns]"
      ]
     },
     "execution_count": 1287,
     "metadata": {},
     "output_type": "execute_result"
    }
   ],
   "source": [
    "df = pd.read_csv('https://raw.githubusercontent.com/dsrscientist/DSData/master/Advertising.csv')  #Reading the csv file\n",
    "df"
   ]
  },
  {
   "cell_type": "code",
   "execution_count": 1288,
   "id": "7e6d27da",
   "metadata": {},
   "outputs": [],
   "source": [
    "df.drop(columns = 'Unnamed: 0', inplace = True) #Drop the unnecessary Column ['Unnamed']"
   ]
  },
  {
   "cell_type": "code",
   "execution_count": 1289,
   "id": "5ab84064",
   "metadata": {},
   "outputs": [
    {
     "data": {
      "text/html": [
       "<div>\n",
       "<style scoped>\n",
       "    .dataframe tbody tr th:only-of-type {\n",
       "        vertical-align: middle;\n",
       "    }\n",
       "\n",
       "    .dataframe tbody tr th {\n",
       "        vertical-align: top;\n",
       "    }\n",
       "\n",
       "    .dataframe thead th {\n",
       "        text-align: right;\n",
       "    }\n",
       "</style>\n",
       "<table border=\"1\" class=\"dataframe\">\n",
       "  <thead>\n",
       "    <tr style=\"text-align: right;\">\n",
       "      <th></th>\n",
       "      <th>TV</th>\n",
       "      <th>radio</th>\n",
       "      <th>newspaper</th>\n",
       "      <th>sales</th>\n",
       "    </tr>\n",
       "  </thead>\n",
       "  <tbody>\n",
       "    <tr>\n",
       "      <th>0</th>\n",
       "      <td>230.1</td>\n",
       "      <td>37.8</td>\n",
       "      <td>69.2</td>\n",
       "      <td>22.1</td>\n",
       "    </tr>\n",
       "    <tr>\n",
       "      <th>1</th>\n",
       "      <td>44.5</td>\n",
       "      <td>39.3</td>\n",
       "      <td>45.1</td>\n",
       "      <td>10.4</td>\n",
       "    </tr>\n",
       "    <tr>\n",
       "      <th>2</th>\n",
       "      <td>17.2</td>\n",
       "      <td>45.9</td>\n",
       "      <td>69.3</td>\n",
       "      <td>9.3</td>\n",
       "    </tr>\n",
       "    <tr>\n",
       "      <th>3</th>\n",
       "      <td>151.5</td>\n",
       "      <td>41.3</td>\n",
       "      <td>58.5</td>\n",
       "      <td>18.5</td>\n",
       "    </tr>\n",
       "    <tr>\n",
       "      <th>4</th>\n",
       "      <td>180.8</td>\n",
       "      <td>10.8</td>\n",
       "      <td>58.4</td>\n",
       "      <td>12.9</td>\n",
       "    </tr>\n",
       "    <tr>\n",
       "      <th>...</th>\n",
       "      <td>...</td>\n",
       "      <td>...</td>\n",
       "      <td>...</td>\n",
       "      <td>...</td>\n",
       "    </tr>\n",
       "    <tr>\n",
       "      <th>195</th>\n",
       "      <td>38.2</td>\n",
       "      <td>3.7</td>\n",
       "      <td>13.8</td>\n",
       "      <td>7.6</td>\n",
       "    </tr>\n",
       "    <tr>\n",
       "      <th>196</th>\n",
       "      <td>94.2</td>\n",
       "      <td>4.9</td>\n",
       "      <td>8.1</td>\n",
       "      <td>9.7</td>\n",
       "    </tr>\n",
       "    <tr>\n",
       "      <th>197</th>\n",
       "      <td>177.0</td>\n",
       "      <td>9.3</td>\n",
       "      <td>6.4</td>\n",
       "      <td>12.8</td>\n",
       "    </tr>\n",
       "    <tr>\n",
       "      <th>198</th>\n",
       "      <td>283.6</td>\n",
       "      <td>42.0</td>\n",
       "      <td>66.2</td>\n",
       "      <td>25.5</td>\n",
       "    </tr>\n",
       "    <tr>\n",
       "      <th>199</th>\n",
       "      <td>232.1</td>\n",
       "      <td>8.6</td>\n",
       "      <td>8.7</td>\n",
       "      <td>13.4</td>\n",
       "    </tr>\n",
       "  </tbody>\n",
       "</table>\n",
       "<p>200 rows × 4 columns</p>\n",
       "</div>"
      ],
      "text/plain": [
       "        TV  radio  newspaper  sales\n",
       "0    230.1   37.8       69.2   22.1\n",
       "1     44.5   39.3       45.1   10.4\n",
       "2     17.2   45.9       69.3    9.3\n",
       "3    151.5   41.3       58.5   18.5\n",
       "4    180.8   10.8       58.4   12.9\n",
       "..     ...    ...        ...    ...\n",
       "195   38.2    3.7       13.8    7.6\n",
       "196   94.2    4.9        8.1    9.7\n",
       "197  177.0    9.3        6.4   12.8\n",
       "198  283.6   42.0       66.2   25.5\n",
       "199  232.1    8.6        8.7   13.4\n",
       "\n",
       "[200 rows x 4 columns]"
      ]
     },
     "execution_count": 1289,
     "metadata": {},
     "output_type": "execute_result"
    }
   ],
   "source": [
    "df #Now check our dataset"
   ]
  },
  {
   "cell_type": "code",
   "execution_count": 1290,
   "id": "2db0477a",
   "metadata": {},
   "outputs": [
    {
     "data": {
      "text/html": [
       "<div>\n",
       "<style scoped>\n",
       "    .dataframe tbody tr th:only-of-type {\n",
       "        vertical-align: middle;\n",
       "    }\n",
       "\n",
       "    .dataframe tbody tr th {\n",
       "        vertical-align: top;\n",
       "    }\n",
       "\n",
       "    .dataframe thead th {\n",
       "        text-align: right;\n",
       "    }\n",
       "</style>\n",
       "<table border=\"1\" class=\"dataframe\">\n",
       "  <thead>\n",
       "    <tr style=\"text-align: right;\">\n",
       "      <th></th>\n",
       "      <th>TV</th>\n",
       "      <th>radio</th>\n",
       "      <th>newspaper</th>\n",
       "      <th>sales</th>\n",
       "    </tr>\n",
       "  </thead>\n",
       "  <tbody>\n",
       "    <tr>\n",
       "      <th>count</th>\n",
       "      <td>200.000000</td>\n",
       "      <td>200.000000</td>\n",
       "      <td>200.000000</td>\n",
       "      <td>200.000000</td>\n",
       "    </tr>\n",
       "    <tr>\n",
       "      <th>mean</th>\n",
       "      <td>147.042500</td>\n",
       "      <td>23.264000</td>\n",
       "      <td>30.554000</td>\n",
       "      <td>14.022500</td>\n",
       "    </tr>\n",
       "    <tr>\n",
       "      <th>std</th>\n",
       "      <td>85.854236</td>\n",
       "      <td>14.846809</td>\n",
       "      <td>21.778621</td>\n",
       "      <td>5.217457</td>\n",
       "    </tr>\n",
       "    <tr>\n",
       "      <th>min</th>\n",
       "      <td>0.700000</td>\n",
       "      <td>0.000000</td>\n",
       "      <td>0.300000</td>\n",
       "      <td>1.600000</td>\n",
       "    </tr>\n",
       "    <tr>\n",
       "      <th>25%</th>\n",
       "      <td>74.375000</td>\n",
       "      <td>9.975000</td>\n",
       "      <td>12.750000</td>\n",
       "      <td>10.375000</td>\n",
       "    </tr>\n",
       "    <tr>\n",
       "      <th>50%</th>\n",
       "      <td>149.750000</td>\n",
       "      <td>22.900000</td>\n",
       "      <td>25.750000</td>\n",
       "      <td>12.900000</td>\n",
       "    </tr>\n",
       "    <tr>\n",
       "      <th>75%</th>\n",
       "      <td>218.825000</td>\n",
       "      <td>36.525000</td>\n",
       "      <td>45.100000</td>\n",
       "      <td>17.400000</td>\n",
       "    </tr>\n",
       "    <tr>\n",
       "      <th>max</th>\n",
       "      <td>296.400000</td>\n",
       "      <td>49.600000</td>\n",
       "      <td>114.000000</td>\n",
       "      <td>27.000000</td>\n",
       "    </tr>\n",
       "  </tbody>\n",
       "</table>\n",
       "</div>"
      ],
      "text/plain": [
       "               TV       radio   newspaper       sales\n",
       "count  200.000000  200.000000  200.000000  200.000000\n",
       "mean   147.042500   23.264000   30.554000   14.022500\n",
       "std     85.854236   14.846809   21.778621    5.217457\n",
       "min      0.700000    0.000000    0.300000    1.600000\n",
       "25%     74.375000    9.975000   12.750000   10.375000\n",
       "50%    149.750000   22.900000   25.750000   12.900000\n",
       "75%    218.825000   36.525000   45.100000   17.400000\n",
       "max    296.400000   49.600000  114.000000   27.000000"
      ]
     },
     "execution_count": 1290,
     "metadata": {},
     "output_type": "execute_result"
    }
   ],
   "source": [
    "df.describe() #To check the Quartile range and missing values"
   ]
  },
  {
   "cell_type": "code",
   "execution_count": 1291,
   "id": "709a98c5",
   "metadata": {},
   "outputs": [
    {
     "name": "stdout",
     "output_type": "stream",
     "text": [
      "<class 'pandas.core.frame.DataFrame'>\n",
      "RangeIndex: 200 entries, 0 to 199\n",
      "Data columns (total 4 columns):\n",
      " #   Column     Non-Null Count  Dtype  \n",
      "---  ------     --------------  -----  \n",
      " 0   TV         200 non-null    float64\n",
      " 1   radio      200 non-null    float64\n",
      " 2   newspaper  200 non-null    float64\n",
      " 3   sales      200 non-null    float64\n",
      "dtypes: float64(4)\n",
      "memory usage: 6.4 KB\n"
     ]
    }
   ],
   "source": [
    "df.info() #Check the type of each and every column."
   ]
  },
  {
   "cell_type": "code",
   "execution_count": 1292,
   "id": "e9c16398",
   "metadata": {},
   "outputs": [
    {
     "data": {
      "text/plain": [
       "0"
      ]
     },
     "execution_count": 1292,
     "metadata": {},
     "output_type": "execute_result"
    }
   ],
   "source": [
    "df.duplicated().sum() #Check there is any duplicate rows in our columns or not"
   ]
  },
  {
   "cell_type": "code",
   "execution_count": 1293,
   "id": "a7e783da",
   "metadata": {},
   "outputs": [
    {
     "data": {
      "text/plain": [
       "TV           0\n",
       "radio        0\n",
       "newspaper    0\n",
       "sales        0\n",
       "dtype: int64"
      ]
     },
     "execution_count": 1293,
     "metadata": {},
     "output_type": "execute_result"
    }
   ],
   "source": [
    "df.isnull().sum() #check the null values in our dataset"
   ]
  },
  {
   "cell_type": "code",
   "execution_count": 1294,
   "id": "a62d703d",
   "metadata": {},
   "outputs": [
    {
     "data": {
      "text/plain": [
       "(200, 4)"
      ]
     },
     "execution_count": 1294,
     "metadata": {},
     "output_type": "execute_result"
    }
   ],
   "source": [
    "df.shape #Check the shape of our dataset"
   ]
  },
  {
   "cell_type": "code",
   "execution_count": 1295,
   "id": "949502d4",
   "metadata": {},
   "outputs": [
    {
     "data": {
      "text/plain": [
       "(4, 4)"
      ]
     },
     "execution_count": 1295,
     "metadata": {},
     "output_type": "execute_result"
    }
   ],
   "source": [
    "# analyize the correlation between features and label.\n",
    "corr = df.corr()\n",
    "corr.shape"
   ]
  },
  {
   "cell_type": "code",
   "execution_count": 1296,
   "id": "1ab5a23a",
   "metadata": {},
   "outputs": [
    {
     "data": {
      "text/plain": [
       "<function matplotlib.pyplot.show(close=None, block=None)>"
      ]
     },
     "execution_count": 1296,
     "metadata": {},
     "output_type": "execute_result"
    },
    {
     "data": {
      "image/png": "[encoded data removed]",
      "text/plain": [
       "<Figure size 864x648 with 2 Axes>"
      ]
     },
     "metadata": {
      "needs_background": "light"
     },
     "output_type": "display_data"
    }
   ],
   "source": [
    "# Visualize the corrrelation by using heatmap\n",
    "cbar_kws = {\"orientation\":\"horizontal\", \n",
    "            \"shrink\":1,\n",
    "            'extend':'max', \n",
    "            'extendfrac':0.1, \n",
    "            \"ticks\":np.arange(0,27), \n",
    "            \"drawedges\":True,\n",
    "           }\n",
    "plt.figure(figsize=(12,9))\n",
    "sns.heatmap(corr, annot=True, linewidths = 2, cmap=\"coolwarm\", cbar_kws=cbar_kws, vmax=1, vmin=0)\n",
    "plt.title('Heatmap', fontsize = 25)\n",
    "plt.show"
   ]
  },
  {
   "cell_type": "code",
   "execution_count": 1297,
   "id": "bc557448",
   "metadata": {},
   "outputs": [
    {
     "data": {
      "image/png": "[encoded data removed]",
      "text/plain": [
       "<Figure size 1080x3600 with 4 Axes>"
      ]
     },
     "metadata": {
      "needs_background": "light"
     },
     "output_type": "display_data"
    }
   ],
   "source": [
    "#visaulize the columns by using boxplot\n",
    "plt.figure(figsize =(15,50))\n",
    "graph=1\n",
    "for column in df:\n",
    "    if graph<30:\n",
    "        ax=plt.subplot(10,3,graph)\n",
    "        sns.boxplot(df[column])\n",
    "        plt.xlabel(column, fontsize=15)\n",
    "    graph+=1\n",
    "plt.show()  "
   ]
  },
  {
   "cell_type": "code",
   "execution_count": 1298,
   "id": "78fd57fd",
   "metadata": {},
   "outputs": [
    {
     "data": {
      "image/png": "[encoded data removed]",
      "text/plain": [
       "<Figure size 1440x1800 with 4 Axes>"
      ]
     },
     "metadata": {},
     "output_type": "display_data"
    }
   ],
   "source": [
    "#visaulize the columns by using distplot\n",
    "plt.figure(figsize=(20,25), facecolor='white')\n",
    "plotnumber=1\n",
    "for column in df:\n",
    "    if plotnumber<=9:\n",
    "        ax=plt.subplot(3,3,plotnumber)\n",
    "        sns.distplot(df[column])\n",
    "        plt.xlabel(column, fontsize=15)\n",
    "    plotnumber+=1\n",
    "plt.show()"
   ]
  },
  {
   "cell_type": "code",
   "execution_count": 1299,
   "id": "9bdd77be",
   "metadata": {},
   "outputs": [
    {
     "data": {
      "image/png": "[encoded data removed]",
      "text/plain": [
       "<Figure size 1152x576 with 3 Axes>"
      ]
     },
     "metadata": {
      "needs_background": "light"
     },
     "output_type": "display_data"
    }
   ],
   "source": [
    "#Visualize the relationship between feature and labels by using scatterplot\n",
    "fig, axs = plt.subplots(1,3)\n",
    "df.plot(kind='scatter', x = 'TV', y='sales', ax=axs[0], figsize = (16,8))\n",
    "df.plot(kind='scatter', x = 'radio', y='sales', ax=axs[1])\n",
    "df.plot(kind='scatter', x = 'newspaper', y='sales', ax=axs[2])\n",
    "fig.savefig('scatterdata.jpg')"
   ]
  },
  {
   "cell_type": "markdown",
   "id": "bab2d0ac",
   "metadata": {},
   "source": [
    "# Column1: TV"
   ]
  },
  {
   "cell_type": "code",
   "execution_count": 1302,
   "id": "469a01b6",
   "metadata": {},
   "outputs": [
    {
     "data": {
      "text/plain": [
       "array([230.1,  44.5,  17.2, 151.5, 180.8,   8.7,  57.5, 120.2,   8.6,\n",
       "       199.8,  66.1, 214.7,  23.8,  97.5, 204.1, 195.4,  67.8, 281.4,\n",
       "        69.2, 147.3, 218.4, 237.4,  13.2, 228.3,  62.3, 262.9, 142.9,\n",
       "       240.1, 248.8,  70.6, 292.9, 112.9,  97.2, 265.6,  95.7, 290.7,\n",
       "       266.9,  74.7,  43.1, 228. , 202.5, 177. , 293.6, 206.9,  25.1,\n",
       "       175.1,  89.7, 239.9, 227.2,  66.9, 100.4, 216.4, 182.6, 262.7,\n",
       "       198.9,   7.3, 136.2, 210.8, 210.7,  53.5, 261.3, 239.3, 102.7,\n",
       "       131.1,  69. ,  31.5, 139.3, 216.8, 199.1, 109.8,  26.8, 129.4,\n",
       "       213.4,  16.9,  27.5, 120.5,   5.4, 116. ,  76.4, 239.8,  75.3,\n",
       "        68.4, 213.5, 193.2,  76.3, 110.7,  88.3, 134.3,  28.6, 217.7,\n",
       "       250.9, 107.4, 163.3, 197.6, 184.9, 289.7, 135.2, 222.4, 296.4,\n",
       "       280.2, 187.9, 238.2, 137.9,  25. ,  90.4,  13.1, 255.4, 225.8,\n",
       "       241.7, 175.7, 209.6,  78.2,  75.1, 139.2, 125.7,  19.4, 141.3,\n",
       "        18.8, 224. , 123.1, 229.5,  87.2,   7.8,  80.2, 220.3,  59.6,\n",
       "         0.7, 265.2,   8.4, 219.8,  36.9,  48.3,  25.6, 273.7,  43. ,\n",
       "        73.4, 193.7, 220.5, 104.6,  96.2, 140.3, 243.2,  38. ,  44.7,\n",
       "       280.7, 121. , 171.3, 187.8,   4.1,  93.9, 149.8,  11.7, 131.7,\n",
       "       172.5,  85.7, 188.4, 163.5, 117.2, 234.5,  17.9, 206.8, 215.4,\n",
       "       284.3,  50. , 164.5,  19.6, 168.4, 276.9, 248.4, 170.2, 276.7,\n",
       "       165.6, 156.6, 218.5,  56.2, 287.6, 253.8, 205. , 139.5, 191.1,\n",
       "       286. ,  18.7,  39.5,  75.5, 166.8, 149.7,  38.2,  94.2, 283.6,\n",
       "       232.1])"
      ]
     },
     "execution_count": 1302,
     "metadata": {},
     "output_type": "execute_result"
    }
   ],
   "source": [
    "df['TV'].unique()  #Check the unique element in this column"
   ]
  },
  {
   "cell_type": "code",
   "execution_count": 1303,
   "id": "596e64f2",
   "metadata": {},
   "outputs": [
    {
     "data": {
      "text/plain": [
       "True"
      ]
     },
     "execution_count": 1303,
     "metadata": {},
     "output_type": "execute_result"
    }
   ],
   "source": [
    "df['TV'].all() #check there is any zero value or not"
   ]
  },
  {
   "cell_type": "code",
   "execution_count": 1304,
   "id": "35ce4a78",
   "metadata": {},
   "outputs": [
    {
     "data": {
      "text/plain": [
       "76.4     2\n",
       "17.2     2\n",
       "240.1    2\n",
       "197.6    2\n",
       "184.9    2\n",
       "        ..\n",
       "117.2    1\n",
       "289.7    1\n",
       "137.9    1\n",
       "220.5    1\n",
       "13.1     1\n",
       "Name: TV, Length: 190, dtype: int64"
      ]
     },
     "execution_count": 1304,
     "metadata": {},
     "output_type": "execute_result"
    }
   ],
   "source": [
    "df['TV'].value_counts() #Count the particular value of every data in this column"
   ]
  },
  {
   "cell_type": "code",
   "execution_count": 1305,
   "id": "166d368b",
   "metadata": {},
   "outputs": [
    {
     "data": {
      "text/plain": [
       "0"
      ]
     },
     "execution_count": 1305,
     "metadata": {},
     "output_type": "execute_result"
    }
   ],
   "source": [
    "df['TV'].isna().sum() #Check the null value of the column"
   ]
  },
  {
   "cell_type": "code",
   "execution_count": 1306,
   "id": "907fdede",
   "metadata": {},
   "outputs": [
    {
     "data": {
      "text/plain": [
       "Text(0.5, 0, 'TV')"
      ]
     },
     "execution_count": 1306,
     "metadata": {},
     "output_type": "execute_result"
    },
    {
     "data": {
      "image/png": "[encoded data removed]",
      "text/plain": [
       "<Figure size 432x288 with 1 Axes>"
      ]
     },
     "metadata": {
      "needs_background": "light"
     },
     "output_type": "display_data"
    }
   ],
   "source": [
    "#Check the outliers by using the boxplot\n",
    "sns.boxplot(data = df['TV'])\n",
    "plt.xlabel('TV', fontsize=20)"
   ]
  },
  {
   "cell_type": "code",
   "execution_count": 1307,
   "id": "aa305ba4",
   "metadata": {},
   "outputs": [
    {
     "name": "stdout",
     "output_type": "stream",
     "text": [
      "Mean of the Column \"TV\" is ------> 147.0425\n",
      "Std of the Column \"TV\" is ------> 85.8542363149081\n",
      "Median of the Column \"TV\" is ------> 149.75\n",
      "Mode of the Column \"TV\" is -------> 17.2\n"
     ]
    }
   ],
   "source": [
    "#Find the mean, std, median and mode of the Column 'TV'\n",
    "TV_mean = df.TV.mean()\n",
    "print('Mean of the Column \"TV\" is ------>',TV_mean)\n",
    "TV_std = df.TV.std()\n",
    "print('Std of the Column \"TV\" is ------>', TV_std)\n",
    "TV_median = df.TV.median()\n",
    "print('Median of the Column \"TV\" is ------>', TV_median)\n",
    "TV_mode = st.mode(df['TV'])\n",
    "print('Mode of the Column \"TV\" is ------->', TV_mode)"
   ]
  },
  {
   "cell_type": "code",
   "execution_count": 1308,
   "id": "218570ec",
   "metadata": {},
   "outputs": [
    {
     "data": {
      "text/plain": [
       "count    200.000000\n",
       "mean     147.042500\n",
       "std       85.854236\n",
       "min        0.700000\n",
       "25%       74.375000\n",
       "50%      149.750000\n",
       "75%      218.825000\n",
       "max      296.400000\n",
       "Name: TV, dtype: float64"
      ]
     },
     "execution_count": 1308,
     "metadata": {},
     "output_type": "execute_result"
    }
   ],
   "source": [
    "df['TV'].describe()"
   ]
  },
  {
   "cell_type": "code",
   "execution_count": 1310,
   "id": "f2283f10",
   "metadata": {},
   "outputs": [
    {
     "data": {
      "text/plain": [
       "Text(0, 0.5, 'counts')"
      ]
     },
     "execution_count": 1310,
     "metadata": {},
     "output_type": "execute_result"
    },
    {
     "data": {
      "image/png": "[encoded data removed]",
      "text/plain": [
       "<Figure size 432x288 with 1 Axes>"
      ]
     },
     "metadata": {
      "needs_background": "light"
     },
     "output_type": "display_data"
    }
   ],
   "source": [
    "# using distplot for normalization curve\n",
    "sns.distplot(df['TV'], color='red', rug = False, hist = True, kde = True)\n",
    "plt.title('Normalization curve', fontsize=20)\n",
    "plt.xlabel('TV', fontsize=14)\n",
    "plt.ylabel('counts', fontsize=14)"
   ]
  },
  {
   "cell_type": "code",
   "execution_count": 1311,
   "id": "e3adc08b",
   "metadata": {},
   "outputs": [
    {
     "data": {
      "text/plain": [
       "Text(0, 0.5, 'counts')"
      ]
     },
     "execution_count": 1311,
     "metadata": {},
     "output_type": "execute_result"
    },
    {
     "data": {
      "image/png": "[encoded data removed]",
      "text/plain": [
       "<Figure size 432x288 with 1 Axes>"
      ]
     },
     "metadata": {
      "needs_background": "light"
     },
     "output_type": "display_data"
    }
   ],
   "source": [
    "sns.histplot(data = df['TV']) # visualize by using histplot\n",
    "plt.ylabel('counts')"
   ]
  },
  {
   "cell_type": "code",
   "execution_count": 1312,
   "id": "b324288d",
   "metadata": {},
   "outputs": [
    {
     "data": {
      "text/plain": [
       "(200, 4)"
      ]
     },
     "execution_count": 1312,
     "metadata": {},
     "output_type": "execute_result"
    }
   ],
   "source": [
    "df.shape"
   ]
  },
  {
   "cell_type": "markdown",
   "id": "89eeac59",
   "metadata": {},
   "source": [
    "# Column2: 'Radio'"
   ]
  },
  {
   "cell_type": "code",
   "execution_count": 1313,
   "id": "8a1bd69e",
   "metadata": {},
   "outputs": [
    {
     "data": {
      "text/plain": [
       "array([37.8, 39.3, 45.9, 41.3, 10.8, 48.9, 32.8, 19.6,  2.1,  2.6,  5.8,\n",
       "       24. , 35.1,  7.6, 32.9, 47.7, 36.6, 39.6, 20.5, 23.9, 27.7,  5.1,\n",
       "       15.9, 16.9, 12.6,  3.5, 29.3, 16.7, 27.1, 16. , 28.3, 17.4,  1.5,\n",
       "       20. ,  1.4,  4.1, 43.8, 49.4, 26.7, 37.7, 22.3, 33.4,  8.4, 25.7,\n",
       "       22.5,  9.9, 41.5, 15.8, 11.7,  3.1,  9.6, 41.7, 46.2, 28.8, 28.1,\n",
       "       19.2, 49.6, 29.5,  2. , 42.7, 15.5, 29.6, 42.8,  9.3, 24.6, 14.5,\n",
       "       27.5, 43.9, 30.6, 14.3, 33. ,  5.7, 43.7,  1.6, 28.5, 29.9,  7.7,\n",
       "       20.3, 44.5, 43. , 18.4, 40.6, 25.5, 47.8,  4.9, 33.5, 36.5, 14. ,\n",
       "       31.6, 21. , 42.3,  4.3, 36.3, 10.1, 17.2, 34.3, 46.4, 11. ,  0.3,\n",
       "        0.4, 26.9,  8.2, 38. , 15.4, 20.6, 46.8, 35. ,  0.8, 36.9, 26.8,\n",
       "       21.7,  2.4, 34.6, 32.3, 11.8, 38.9,  0. , 49. , 12. ,  2.9, 27.2,\n",
       "       38.6, 47. , 39. , 28.9, 25.9, 17. , 35.4, 33.2, 14.8,  1.9,  7.3,\n",
       "       40.3, 25.8, 13.9, 23.3, 39.7, 21.1, 11.6, 43.5,  1.3, 18.1, 35.8,\n",
       "       36.8, 14.7,  3.4, 37.6,  5.2, 23.6, 10.6, 20.9, 20.1,  7.1, 30.2,\n",
       "        7.8,  2.3, 10. ,  5.4, 21.3, 45.1, 28.7, 12.1, 41.1, 42. , 35.6,\n",
       "        3.7,  8.6])"
      ]
     },
     "execution_count": 1313,
     "metadata": {},
     "output_type": "execute_result"
    }
   ],
   "source": [
    "df['radio'].unique() #Check the unique element in this column"
   ]
  },
  {
   "cell_type": "code",
   "execution_count": 1314,
   "id": "da14c611",
   "metadata": {},
   "outputs": [
    {
     "data": {
      "text/plain": [
       "False"
      ]
     },
     "execution_count": 1314,
     "metadata": {},
     "output_type": "execute_result"
    }
   ],
   "source": [
    "df['radio'].all() #Check any zero value exist in our column"
   ]
  },
  {
   "cell_type": "code",
   "execution_count": 1318,
   "id": "5f0c19c6",
   "metadata": {},
   "outputs": [
    {
     "data": {
      "text/plain": [
       "count    200.000000\n",
       "mean      23.380320\n",
       "std       14.754473\n",
       "min        0.300000\n",
       "25%       10.075000\n",
       "50%       23.282000\n",
       "75%       36.525000\n",
       "max       49.600000\n",
       "Name: radio, dtype: float64"
      ]
     },
     "execution_count": 1318,
     "metadata": {},
     "output_type": "execute_result"
    }
   ],
   "source": [
    "df['radio'].describe() # check the mean of this column"
   ]
  },
  {
   "cell_type": "code",
   "execution_count": 1319,
   "id": "7f4edbd3",
   "metadata": {},
   "outputs": [],
   "source": [
    "df['radio']= df['radio'].replace(0,df['radio'].mean()) # replace the zero value by column mean"
   ]
  },
  {
   "cell_type": "code",
   "execution_count": 1320,
   "id": "9a3eff82",
   "metadata": {},
   "outputs": [
    {
     "data": {
      "text/plain": [
       "True"
      ]
     },
     "execution_count": 1320,
     "metadata": {},
     "output_type": "execute_result"
    }
   ],
   "source": [
    "df['radio'].all() # Now, it's showing True, it means there is no zero value in this column."
   ]
  },
  {
   "cell_type": "code",
   "execution_count": 1321,
   "id": "66d925b1",
   "metadata": {},
   "outputs": [
    {
     "data": {
      "text/plain": [
       "0"
      ]
     },
     "execution_count": 1321,
     "metadata": {},
     "output_type": "execute_result"
    }
   ],
   "source": [
    "df['radio'].isnull().sum() # Check there is any null value or not, it is showing zero, it means there is no null value"
   ]
  },
  {
   "cell_type": "code",
   "execution_count": 1322,
   "id": "b09c905b",
   "metadata": {},
   "outputs": [
    {
     "data": {
      "text/plain": [
       "4.1     3\n",
       "5.7     3\n",
       "39.6    2\n",
       "2.6     2\n",
       "41.7    2\n",
       "       ..\n",
       "8.6     1\n",
       "11.8    1\n",
       "45.1    1\n",
       "23.3    1\n",
       "33.4    1\n",
       "Name: radio, Length: 167, dtype: int64"
      ]
     },
     "execution_count": 1322,
     "metadata": {},
     "output_type": "execute_result"
    }
   ],
   "source": [
    "df['radio'].value_counts() #Count the particular value of every data in this column"
   ]
  },
  {
   "cell_type": "code",
   "execution_count": 1323,
   "id": "213bfcb8",
   "metadata": {},
   "outputs": [
    {
     "data": {
      "text/plain": [
       "Text(0.5, 0, 'Radio')"
      ]
     },
     "execution_count": 1323,
     "metadata": {},
     "output_type": "execute_result"
    },
    {
     "data": {
      "image/png": "[encoded data removed]",
      "text/plain": [
       "<Figure size 432x288 with 1 Axes>"
      ]
     },
     "metadata": {
      "needs_background": "light"
     },
     "output_type": "display_data"
    }
   ],
   "source": [
    "#Visualize the outliers by using Boxplot\n",
    "sns.boxplot(data = df['radio'])\n",
    "plt.xlabel('Radio', fontsize=20)"
   ]
  },
  {
   "cell_type": "code",
   "execution_count": 1324,
   "id": "458b0251",
   "metadata": {},
   "outputs": [
    {
     "data": {
      "text/plain": [
       "Text(0, 0.5, 'sales')"
      ]
     },
     "execution_count": 1324,
     "metadata": {},
     "output_type": "execute_result"
    },
    {
     "data": {
      "image/png": "[encoded data removed]",
      "text/plain": [
       "<Figure size 432x288 with 1 Axes>"
      ]
     },
     "metadata": {
      "needs_background": "light"
     },
     "output_type": "display_data"
    }
   ],
   "source": [
    "#Visualize the normalization curve by using distplot\n",
    "sns.distplot(df['radio'], color= 'red', kde = True, hist = True)\n",
    "plt.title('Normalization curve', fontsize = 20)\n",
    "plt.xlabel('Radio', fontsize = 20)\n",
    "plt.ylabel('sales', fontsize = 20)"
   ]
  },
  {
   "cell_type": "code",
   "execution_count": 1325,
   "id": "49f20f37",
   "metadata": {},
   "outputs": [
    {
     "name": "stdout",
     "output_type": "stream",
     "text": [
      "Mean of the Column \"Radio\" is ------> 23.380320000000026\n",
      "Std of the Column \"Radio\" is ------> 14.754473137507391\n",
      "Median of the Column \"TV\" is ------> 23.28200000000001\n",
      "Mode of the Column \"radio\" is -----> 4.1\n"
     ]
    }
   ],
   "source": [
    "#Find the mean, std, median and mode of the Column 'TV'\n",
    "radio_mean = df.radio.mean()\n",
    "print('Mean of the Column \"Radio\" is ------>',radio_mean)\n",
    "Radio_std = df.radio.std()\n",
    "print('Std of the Column \"Radio\" is ------>', Radio_std)\n",
    "Radio_median = df.radio.median()\n",
    "print('Median of the Column \"TV\" is ------>', Radio_median)\n",
    "Radio_mode = st.mode(df['radio'])\n",
    "print('Mode of the Column \"radio\" is ----->', Radio_mode)"
   ]
  },
  {
   "cell_type": "code",
   "execution_count": 1326,
   "id": "7a568512",
   "metadata": {},
   "outputs": [
    {
     "data": {
      "text/plain": [
       "count    200.000000\n",
       "mean      23.380320\n",
       "std       14.754473\n",
       "min        0.300000\n",
       "25%       10.075000\n",
       "50%       23.282000\n",
       "75%       36.525000\n",
       "max       49.600000\n",
       "Name: radio, dtype: float64"
      ]
     },
     "execution_count": 1326,
     "metadata": {},
     "output_type": "execute_result"
    }
   ],
   "source": [
    "(df['radio']).describe()"
   ]
  },
  {
   "cell_type": "code",
   "execution_count": 1327,
   "id": "9b6dd1ee",
   "metadata": {},
   "outputs": [
    {
     "data": {
      "text/plain": [
       "<AxesSubplot:xlabel='radio', ylabel='Count'>"
      ]
     },
     "execution_count": 1327,
     "metadata": {},
     "output_type": "execute_result"
    },
    {
     "data": {
      "image/png": "[encoded data removed]",
      "text/plain": [
       "<Figure size 432x288 with 1 Axes>"
      ]
     },
     "metadata": {
      "needs_background": "light"
     },
     "output_type": "display_data"
    }
   ],
   "source": [
    "sns.histplot( data = df['radio'])"
   ]
  },
  {
   "cell_type": "code",
   "execution_count": 1328,
   "id": "c2a2c224",
   "metadata": {},
   "outputs": [
    {
     "data": {
      "text/plain": [
       "(200, 4)"
      ]
     },
     "execution_count": 1328,
     "metadata": {},
     "output_type": "execute_result"
    }
   ],
   "source": [
    "df.shape"
   ]
  },
  {
   "cell_type": "markdown",
   "id": "17d27c81",
   "metadata": {},
   "source": [
    "# Column3: 'Newspaper'"
   ]
  },
  {
   "cell_type": "code",
   "execution_count": 1329,
   "id": "9d4c79fe",
   "metadata": {},
   "outputs": [
    {
     "data": {
      "text/plain": [
       "array([ 69.2,  45.1,  69.3,  58.5,  58.4,  75. ,  23.5,  11.6,   1. ,\n",
       "        21.2,  24.2,   4. ,  65.9,   7.2,  46. ,  52.9, 114. ,  55.8,\n",
       "        18.3,  19.1,  53.4,  49.6,  26.2,  19.5,  12.6,  22.9,  40.8,\n",
       "        43.2,  38.6,  30. ,   0.3,   7.4,   8.5,   5. ,  45.7,  35.1,\n",
       "        32. ,  31.6,  38.7,   1.8,  26.4,  43.3,  31.5,  35.7,  18.5,\n",
       "        49.9,  36.8,  34.6,   3.6,  39.6,  58.7,  15.9,  60. ,  41.4,\n",
       "        16.6,  37.7,   9.3,  21.4,  54.7,  27.3,   8.4,  28.9,   0.9,\n",
       "         2.2,  10.2,  11. ,  27.2,  31.7,  19.3,  31.3,  13.1,  89.4,\n",
       "        20.7,  14.2,   9.4,  23.1,  22.3,  36.9,  32.5,  35.6,  33.8,\n",
       "        65.7,  16. ,  63.2,  73.4,  51.4,  33. ,  59. ,  72.3,  10.9,\n",
       "         5.9,  22. ,  51.2,  45.9,  49.8, 100.9,  17.9,   5.3,  29.7,\n",
       "        23.2,  25.6,   5.5,  56.5,   2.4,  10.7,  34.5,  52.7,  14.8,\n",
       "        79.2,  46.2,  50.4,  15.6,  12.4,  74.2,  25.9,  50.6,   9.2,\n",
       "         3.2,  43.1,   8.7,  43. ,   2.1,  65.6,  59.7,  20.5,   1.7,\n",
       "        12.9,  75.6,  37.9,  34.4,  38.9,   9. ,  44.3,  11.9,  20.6,\n",
       "        37. ,  48.7,   9.5,   5.7,  50.5,  24.3,  45.2,  30.7,  49.3,\n",
       "         5.4,  84.8,  21.6,  19.4,  57.6,   6.4,  18.4,  47.4,  17. ,\n",
       "        12.8,  41.8,  20.3,  35.2,  23.7,  17.6,   8.3,  27.4,  71.8,\n",
       "        19.6,  26.6,  18.2,   3.7,  23.4,   5.8,   6. ,  13.8,   8.1,\n",
       "        66.2])"
      ]
     },
     "execution_count": 1329,
     "metadata": {},
     "output_type": "execute_result"
    }
   ],
   "source": [
    "df['newspaper'].unique()   #Check the unique element in this column"
   ]
  },
  {
   "cell_type": "code",
   "execution_count": 1330,
   "id": "9cb7115f",
   "metadata": {},
   "outputs": [
    {
     "data": {
      "text/plain": [
       "True"
      ]
     },
     "execution_count": 1330,
     "metadata": {},
     "output_type": "execute_result"
    }
   ],
   "source": [
    "df['newspaper'].all() #Check any zero value exist in our column"
   ]
  },
  {
   "cell_type": "code",
   "execution_count": 1342,
   "id": "f3514162",
   "metadata": {},
   "outputs": [
    {
     "data": {
      "text/plain": [
       "0"
      ]
     },
     "execution_count": 1342,
     "metadata": {},
     "output_type": "execute_result"
    }
   ],
   "source": [
    "df['newspaper'].isnull().sum() # Check there is any null value or not, it is showing zero, it means there is no null value"
   ]
  },
  {
   "cell_type": "code",
   "execution_count": 1343,
   "id": "81ac827f",
   "metadata": {},
   "outputs": [
    {
     "data": {
      "text/plain": [
       "9.3     3\n",
       "8.7     3\n",
       "25.6    3\n",
       "6.4     2\n",
       "31.6    2\n",
       "       ..\n",
       "2.4     1\n",
       "13.8    1\n",
       "1.8     1\n",
       "57.6    1\n",
       "19.4    1\n",
       "Name: newspaper, Length: 167, dtype: int64"
      ]
     },
     "execution_count": 1343,
     "metadata": {},
     "output_type": "execute_result"
    }
   ],
   "source": [
    "df['newspaper'].value_counts() #Count the particular value of every data in this column"
   ]
  },
  {
   "cell_type": "code",
   "execution_count": 1344,
   "id": "e9df3cfc",
   "metadata": {},
   "outputs": [
    {
     "data": {
      "text/plain": [
       "Text(0.5, 0, 'Newspaper')"
      ]
     },
     "execution_count": 1344,
     "metadata": {},
     "output_type": "execute_result"
    },
    {
     "data": {
      "image/png": "[encoded data removed]",
      "text/plain": [
       "<Figure size 432x288 with 1 Axes>"
      ]
     },
     "metadata": {
      "needs_background": "light"
     },
     "output_type": "display_data"
    }
   ],
   "source": [
    "sns.boxplot(data = df['newspaper'])\n",
    "plt.xlabel('Newspaper', fontsize = 20)"
   ]
  },
  {
   "cell_type": "code",
   "execution_count": 1345,
   "id": "34368436",
   "metadata": {},
   "outputs": [
    {
     "data": {
      "text/plain": [
       "Text(0, 0.5, 'counts')"
      ]
     },
     "execution_count": 1345,
     "metadata": {},
     "output_type": "execute_result"
    },
    {
     "data": {
      "image/png": "[encoded data removed]",
      "text/plain": [
       "<Figure size 432x288 with 1 Axes>"
      ]
     },
     "metadata": {
      "needs_background": "light"
     },
     "output_type": "display_data"
    }
   ],
   "source": [
    "#Visualize the normalization curve by using distplot\n",
    "sns.distplot(df['newspaper'], color= 'red', kde = True, hist = True)\n",
    "plt.title('Normalization curve before removing outliers', fontsize = 15)\n",
    "plt.xlabel('newspaper', fontsize = 20)\n",
    "plt.ylabel('counts', fontsize = 20)"
   ]
  },
  {
   "cell_type": "code",
   "execution_count": 1346,
   "id": "1955b5c7",
   "metadata": {},
   "outputs": [],
   "source": [
    "#Detecting the outlier by using iqr method and removing them.\n",
    "q1 = np.percentile(df['newspaper'], 25,\n",
    "                   interpolation = 'midpoint')\n",
    " \n",
    "q3 = np.percentile(df['newspaper'], 70,\n",
    "                   interpolation = 'midpoint')\n",
    "iqr = q3 - q1"
   ]
  },
  {
   "cell_type": "code",
   "execution_count": 1347,
   "id": "aa2d43bf",
   "metadata": {},
   "outputs": [
    {
     "name": "stdout",
     "output_type": "stream",
     "text": [
      "newspaper: 0      False\n",
      "1      False\n",
      "2      False\n",
      "3      False\n",
      "4      False\n",
      "       ...  \n",
      "195    False\n",
      "196    False\n",
      "197    False\n",
      "198    False\n",
      "199    False\n",
      "Name: newspaper, Length: 195, dtype: bool\n",
      "(array([], dtype=int64),)\n",
      "Lower: 0      False\n",
      "1      False\n",
      "2      False\n",
      "3      False\n",
      "4      False\n",
      "       ...  \n",
      "195    False\n",
      "196    False\n",
      "197    False\n",
      "198    False\n",
      "199    False\n",
      "Name: newspaper, Length: 195, dtype: bool\n",
      "(array([], dtype=int64),)\n",
      "old Shape:  (195, 4)\n"
     ]
    }
   ],
   "source": [
    "# higher side \n",
    "higher_side = df['newspaper'] >= (q3+1.5*iqr)\n",
    "print(\"newspaper:\", higher_side)\n",
    "print(np.where(higher_side))\n",
    "high = np.where(higher_side)\n",
    " \n",
    "# lower side \n",
    "lower_side = df['newspaper'] <= (q1-1.5*iqr)\n",
    "print(\"Lower:\", lower_side)\n",
    "low = np.where(lower_side)\n",
    "print(np.where(lower_side))\n",
    "print(\"old Shape: \", df.shape)"
   ]
  },
  {
   "cell_type": "code",
   "execution_count": 1348,
   "id": "fa43c626",
   "metadata": {},
   "outputs": [
    {
     "name": "stdout",
     "output_type": "stream",
     "text": [
      "New Shape:  (195, 4)\n"
     ]
    }
   ],
   "source": [
    "#removing the outliers\n",
    "df = df.drop(df.index[high])\n",
    "df = df.drop(df.index[low])\n",
    " \n",
    "print(\"New Shape: \", df.shape)"
   ]
  },
  {
   "cell_type": "code",
   "execution_count": 1349,
   "id": "c1d10986",
   "metadata": {},
   "outputs": [
    {
     "data": {
      "text/plain": [
       "<AxesSubplot:>"
      ]
     },
     "execution_count": 1349,
     "metadata": {},
     "output_type": "execute_result"
    },
    {
     "data": {
      "image/png": "[encoded data removed]",
      "text/plain": [
       "<Figure size 432x288 with 1 Axes>"
      ]
     },
     "metadata": {
      "needs_background": "light"
     },
     "output_type": "display_data"
    }
   ],
   "source": [
    "sns.boxplot(data=df['newspaper'])"
   ]
  },
  {
   "cell_type": "code",
   "execution_count": 1350,
   "id": "940959f5",
   "metadata": {},
   "outputs": [
    {
     "data": {
      "text/plain": [
       "Text(0, 0.5, 'counts')"
      ]
     },
     "execution_count": 1350,
     "metadata": {},
     "output_type": "execute_result"
    },
    {
     "data": {
      "image/png": "[encoded data removed]",
      "text/plain": [
       "<Figure size 432x288 with 1 Axes>"
      ]
     },
     "metadata": {
      "needs_background": "light"
     },
     "output_type": "display_data"
    }
   ],
   "source": [
    "#Visualize the normalization curve by using distplot\n",
    "sns.distplot(df['newspaper'], color= 'red', kde = True, hist = True)\n",
    "plt.title('Normalization curve after removing outliers', fontsize = 15)\n",
    "plt.xlabel('newspaper', fontsize = 20)\n",
    "plt.ylabel('counts', fontsize = 20)"
   ]
  },
  {
   "cell_type": "code",
   "execution_count": 1351,
   "id": "79df98cc",
   "metadata": {},
   "outputs": [
    {
     "data": {
      "text/plain": [
       "count    195.000000\n",
       "mean      28.935897\n",
       "std       19.423799\n",
       "min        0.300000\n",
       "25%       12.500000\n",
       "50%       25.600000\n",
       "75%       43.150000\n",
       "max       75.600000\n",
       "Name: newspaper, dtype: float64"
      ]
     },
     "execution_count": 1351,
     "metadata": {},
     "output_type": "execute_result"
    }
   ],
   "source": [
    "df['newspaper'].describe()"
   ]
  },
  {
   "cell_type": "code",
   "execution_count": 1352,
   "id": "e8f23b38",
   "metadata": {},
   "outputs": [
    {
     "name": "stdout",
     "output_type": "stream",
     "text": [
      "Mean of the Column \"newspaper\" is ------> 28.935897435897427\n",
      "Std of the Column \"newspaper\" is ------> 19.423798867977734\n",
      "Median of the Column \"newspaper\" is ------> 25.6\n",
      "Mode of the Column \"newspaper\" is ------->  9.3\n"
     ]
    }
   ],
   "source": [
    "#Find the mean, std, median and mode of the Column 'TV'\n",
    "newspaper_mean = df.newspaper.mean()\n",
    "print('Mean of the Column \"newspaper\" is ------>',newspaper_mean)\n",
    "newspaper_std = df.newspaper.std()\n",
    "print('Std of the Column \"newspaper\" is ------>', newspaper_std)\n",
    "newspaper_median = df.newspaper.median()\n",
    "print('Median of the Column \"newspaper\" is ------>', newspaper_median)\n",
    "newspaper_mode = st.mode(df['newspaper'])\n",
    "print('Mode of the Column \"newspaper\" is -------> ', newspaper_mode)"
   ]
  },
  {
   "cell_type": "code",
   "execution_count": 1353,
   "id": "dc901087",
   "metadata": {},
   "outputs": [
    {
     "data": {
      "text/plain": [
       "(195, 4)"
      ]
     },
     "execution_count": 1353,
     "metadata": {},
     "output_type": "execute_result"
    }
   ],
   "source": [
    "df.shape # now shape of the dataset is changed "
   ]
  },
  {
   "cell_type": "markdown",
   "id": "cfea23e6",
   "metadata": {},
   "source": [
    "# Label: 'sales'"
   ]
  },
  {
   "cell_type": "code",
   "execution_count": 1355,
   "id": "a3133920",
   "metadata": {},
   "outputs": [
    {
     "data": {
      "text/plain": [
       "array([22.1, 10.4,  9.3, 18.5, 12.9,  7.2, 11.8, 13.2,  4.8, 10.6,  8.6,\n",
       "       17.4,  9.2,  9.7, 19. , 22.4, 24.4, 11.3, 14.6, 18. , 12.5,  5.6,\n",
       "       15.5, 12. , 15. , 15.9, 18.9, 10.5, 21.4, 11.9,  9.6,  9.5, 12.8,\n",
       "       25.4, 14.7, 10.1, 21.5, 16.6, 17.1, 20.7,  8.5, 14.9, 23.2, 14.8,\n",
       "       11.4, 10.7, 22.6, 21.2, 20.2, 23.7,  5.5, 23.8, 18.4,  8.1, 24.2,\n",
       "       15.7, 14. , 13.4, 22.3, 18.3, 12.4,  8.8, 11. , 17. ,  6.9, 14.2,\n",
       "        5.3, 12.3, 13.6, 21.7, 15.2, 16. , 16.7, 11.2,  7.3, 19.4, 22.2,\n",
       "       11.5, 16.9, 11.7, 17.2, 19.2,  8.7, 19.8, 21.8, 14.1, 12.6, 12.2,\n",
       "        9.4,  6.6,  7. , 11.6, 19.7, 24.7,  1.6, 12.7,  5.7, 19.6, 10.8,\n",
       "       20.8, 10.9, 20.1, 10.3, 16.1, 15.6,  3.2, 15.3, 14.4, 13.3,  8. ,\n",
       "        8.4, 14.5,  7.6, 27. , 26.2, 17.6, 17.3,  6.7,  9.9,  5.9, 25.5])"
      ]
     },
     "execution_count": 1355,
     "metadata": {},
     "output_type": "execute_result"
    }
   ],
   "source": [
    "df['sales'].unique() #Check the unique element in this column"
   ]
  },
  {
   "cell_type": "code",
   "execution_count": 1356,
   "id": "4110a697",
   "metadata": {},
   "outputs": [
    {
     "data": {
      "text/plain": [
       "True"
      ]
     },
     "execution_count": 1356,
     "metadata": {},
     "output_type": "execute_result"
    }
   ],
   "source": [
    "df['sales'].all() #check there is any zero value or not"
   ]
  },
  {
   "cell_type": "code",
   "execution_count": 1357,
   "id": "2c47a68c",
   "metadata": {},
   "outputs": [
    {
     "data": {
      "text/plain": [
       "0"
      ]
     },
     "execution_count": 1357,
     "metadata": {},
     "output_type": "execute_result"
    }
   ],
   "source": [
    "df['sales'].isnull().sum() # Check there is any null value or not, it is showing zero, it means there is no null value"
   ]
  },
  {
   "cell_type": "code",
   "execution_count": 1358,
   "id": "03548040",
   "metadata": {},
   "outputs": [
    {
     "data": {
      "text/plain": [
       "9.7     5\n",
       "11.7    4\n",
       "12.9    4\n",
       "11.6    3\n",
       "15.5    3\n",
       "       ..\n",
       "21.7    1\n",
       "14.5    1\n",
       "21.2    1\n",
       "22.1    1\n",
       "20.8    1\n",
       "Name: sales, Length: 121, dtype: int64"
      ]
     },
     "execution_count": 1358,
     "metadata": {},
     "output_type": "execute_result"
    }
   ],
   "source": [
    "df['sales'].value_counts() #Count the particular value of every data in this column"
   ]
  },
  {
   "cell_type": "code",
   "execution_count": 1359,
   "id": "6268337e",
   "metadata": {},
   "outputs": [
    {
     "data": {
      "text/plain": [
       "count    195.000000\n",
       "mean      14.008718\n",
       "std        5.218344\n",
       "min        1.600000\n",
       "25%       10.350000\n",
       "50%       12.900000\n",
       "75%       17.400000\n",
       "max       27.000000\n",
       "Name: sales, dtype: float64"
      ]
     },
     "execution_count": 1359,
     "metadata": {},
     "output_type": "execute_result"
    }
   ],
   "source": [
    "df['sales'].describe()"
   ]
  },
  {
   "cell_type": "code",
   "execution_count": 1360,
   "id": "7ab14340",
   "metadata": {},
   "outputs": [
    {
     "data": {
      "text/plain": [
       "Text(0.5, 0, 'sales')"
      ]
     },
     "execution_count": 1360,
     "metadata": {},
     "output_type": "execute_result"
    },
    {
     "data": {
      "image/png": "[encoded data removed]",
      "text/plain": [
       "<Figure size 432x288 with 1 Axes>"
      ]
     },
     "metadata": {
      "needs_background": "light"
     },
     "output_type": "display_data"
    }
   ],
   "source": [
    "#Visualize the outliers by using Boxplot\n",
    "sns.boxplot(data = df['sales'])\n",
    "plt.xlabel('sales', fontsize=20)"
   ]
  },
  {
   "cell_type": "code",
   "execution_count": 1361,
   "id": "81e021bc",
   "metadata": {},
   "outputs": [
    {
     "data": {
      "text/plain": [
       "Text(0, 0.5, 'counts')"
      ]
     },
     "execution_count": 1361,
     "metadata": {},
     "output_type": "execute_result"
    },
    {
     "data": {
      "image/png": "[encoded data removed]",
      "text/plain": [
       "<Figure size 432x288 with 1 Axes>"
      ]
     },
     "metadata": {
      "needs_background": "light"
     },
     "output_type": "display_data"
    }
   ],
   "source": [
    "#Visualize the normalization curve by using distplot\n",
    "sns.distplot(df['sales'], color= 'red', kde = True, hist = True)\n",
    "plt.title('Normalization curve', fontsize = 20)\n",
    "plt.xlabel('sales', fontsize = 20)\n",
    "plt.ylabel('counts', fontsize = 20)"
   ]
  },
  {
   "cell_type": "code",
   "execution_count": 1362,
   "id": "16aaf3ef",
   "metadata": {},
   "outputs": [
    {
     "name": "stdout",
     "output_type": "stream",
     "text": [
      "Mean of the Column \"sales\" is ------> 14.00871794871795\n",
      "Std of the Column \"sales\" is ------> 5.218343527654569\n",
      "Median of the Column \"TV\" is ------> 12.9\n",
      "Mode of the Column \"sales\" is ------>  9.7\n"
     ]
    }
   ],
   "source": [
    "#Find the mean, std, median and mode of the Column 'TV'\n",
    "sales_mean = df.sales.mean()\n",
    "print('Mean of the Column \"sales\" is ------>',sales_mean)\n",
    "sales_std = df.sales.std()\n",
    "print('Std of the Column \"sales\" is ------>', sales_std)\n",
    "sales_median = df.sales.median()\n",
    "print('Median of the Column \"TV\" is ------>', sales_median)\n",
    "sales_mode = st.mode(df['sales'])\n",
    "print('Mode of the Column \"sales\" is ------> ', sales_mode)"
   ]
  },
  {
   "cell_type": "code",
   "execution_count": 1363,
   "id": "8daa5966",
   "metadata": {},
   "outputs": [
    {
     "data": {
      "image/png": "[encoded data removed]",
      "text/plain": [
       "<Figure size 1080x3600 with 4 Axes>"
      ]
     },
     "metadata": {
      "needs_background": "light"
     },
     "output_type": "display_data"
    }
   ],
   "source": [
    "#visaulize the columns by using boxplot\n",
    "plt.figure(figsize =(15,50))\n",
    "graph=1\n",
    "for column in df:\n",
    "    if graph<30:\n",
    "        ax=plt.subplot(10,3,graph)\n",
    "        sns.boxplot(df[column])\n",
    "        plt.xlabel(column, fontsize=15)\n",
    "    graph+=1\n",
    "plt.show() "
   ]
  },
  {
   "cell_type": "code",
   "execution_count": 1364,
   "id": "627bd9de",
   "metadata": {},
   "outputs": [
    {
     "data": {
      "image/png": "[encoded data removed]",
      "text/plain": [
       "<Figure size 1440x1800 with 4 Axes>"
      ]
     },
     "metadata": {},
     "output_type": "display_data"
    }
   ],
   "source": [
    "#visaulize the columns by using distplot\n",
    "plt.figure(figsize=(20,25), facecolor='white')\n",
    "plotnumber=1\n",
    "for column in df:\n",
    "    if plotnumber<=9:\n",
    "        ax=plt.subplot(3,3,plotnumber)\n",
    "        sns.distplot(df[column])\n",
    "        plt.xlabel(column, fontsize=15)\n",
    "    plotnumber+=1\n",
    "plt.show()"
   ]
  },
  {
   "cell_type": "markdown",
   "id": "e1140643",
   "metadata": {},
   "source": [
    "# Using Multiple Linear Regression "
   ]
  },
  {
   "cell_type": "code",
   "execution_count": 1374,
   "id": "e8bd3f44",
   "metadata": {},
   "outputs": [],
   "source": [
    "# Using Multiple Linear Regression to find the value of r2 square, model confidence, p-value\n",
    "x = df[['TV','radio','newspaper']]\n",
    "y=df[['sales']]"
   ]
  },
  {
   "cell_type": "code",
   "execution_count": 1375,
   "id": "b1be09f0",
   "metadata": {},
   "outputs": [
    {
     "data": {
      "text/plain": [
       "(195, 3)"
      ]
     },
     "execution_count": 1375,
     "metadata": {},
     "output_type": "execute_result"
    }
   ],
   "source": [
    "x.shape #check the shape of features"
   ]
  },
  {
   "cell_type": "code",
   "execution_count": 1376,
   "id": "ef59a822",
   "metadata": {},
   "outputs": [
    {
     "data": {
      "text/plain": [
       "(195, 1)"
      ]
     },
     "execution_count": 1376,
     "metadata": {},
     "output_type": "execute_result"
    }
   ],
   "source": [
    "y.shape #check the shape of the labels"
   ]
  },
  {
   "cell_type": "code",
   "execution_count": 1377,
   "id": "f0e2b4da",
   "metadata": {},
   "outputs": [],
   "source": [
    "lm = LinearRegression()"
   ]
  },
  {
   "cell_type": "code",
   "execution_count": 1378,
   "id": "0cc431c2",
   "metadata": {},
   "outputs": [
    {
     "data": {
      "text/plain": [
       "LinearRegression()"
      ]
     },
     "execution_count": 1378,
     "metadata": {},
     "output_type": "execute_result"
    }
   ],
   "source": [
    "lm.fit(x,y)"
   ]
  },
  {
   "cell_type": "code",
   "execution_count": 1379,
   "id": "79e4bac3",
   "metadata": {},
   "outputs": [
    {
     "name": "stdout",
     "output_type": "stream",
     "text": [
      "Intercept and coefficient\n",
      "Intercept -----> [2.81923309]\n",
      "Coeficient of TV , radio, newspaper -----> [0.04568306 0.18751346 0.00442003]\n"
     ]
    }
   ],
   "source": [
    "print ('Intercept and coefficient')\n",
    "print('Intercept ----->', lm.intercept_)\n",
    "print('Coeficient of TV , radio, newspaper ----->' , lm.coef_[0])"
   ]
  },
  {
   "cell_type": "code",
   "execution_count": 1380,
   "id": "fae8167f",
   "metadata": {},
   "outputs": [
    {
     "data": {
      "text/html": [
       "<div>\n",
       "<style scoped>\n",
       "    .dataframe tbody tr th:only-of-type {\n",
       "        vertical-align: middle;\n",
       "    }\n",
       "\n",
       "    .dataframe tbody tr th {\n",
       "        vertical-align: top;\n",
       "    }\n",
       "\n",
       "    .dataframe thead th {\n",
       "        text-align: right;\n",
       "    }\n",
       "</style>\n",
       "<table border=\"1\" class=\"dataframe\">\n",
       "  <thead>\n",
       "    <tr style=\"text-align: right;\">\n",
       "      <th></th>\n",
       "      <th>0</th>\n",
       "      <th>1</th>\n",
       "    </tr>\n",
       "  </thead>\n",
       "  <tbody>\n",
       "    <tr>\n",
       "      <th>Intercept</th>\n",
       "      <td>2.191353</td>\n",
       "      <td>3.447114</td>\n",
       "    </tr>\n",
       "    <tr>\n",
       "      <th>TV</th>\n",
       "      <td>0.042887</td>\n",
       "      <td>0.048479</td>\n",
       "    </tr>\n",
       "    <tr>\n",
       "      <th>radio</th>\n",
       "      <td>0.170227</td>\n",
       "      <td>0.204800</td>\n",
       "    </tr>\n",
       "    <tr>\n",
       "      <th>newspaper</th>\n",
       "      <td>-0.008670</td>\n",
       "      <td>0.017510</td>\n",
       "    </tr>\n",
       "  </tbody>\n",
       "</table>\n",
       "</div>"
      ],
      "text/plain": [
       "                  0         1\n",
       "Intercept  2.191353  3.447114\n",
       "TV         0.042887  0.048479\n",
       "radio      0.170227  0.204800\n",
       "newspaper -0.008670  0.017510"
      ]
     },
     "execution_count": 1380,
     "metadata": {},
     "output_type": "execute_result"
    }
   ],
   "source": [
    "#check the model confidence\n",
    "lm = smf.ols(formula ='sales~ TV + radio + newspaper', data = df).fit()\n",
    "lm.conf_int()"
   ]
  },
  {
   "cell_type": "code",
   "execution_count": 1381,
   "id": "d810f7f3",
   "metadata": {},
   "outputs": [
    {
     "data": {
      "text/html": [
       "<table class=\"simpletable\">\n",
       "<caption>OLS Regression Results</caption>\n",
       "<tr>\n",
       "  <th>Dep. Variable:</th>          <td>sales</td>      <th>  R-squared:         </th> <td>   0.898</td>\n",
       "</tr>\n",
       "<tr>\n",
       "  <th>Model:</th>                   <td>OLS</td>       <th>  Adj. R-squared:    </th> <td>   0.896</td>\n",
       "</tr>\n",
       "<tr>\n",
       "  <th>Method:</th>             <td>Least Squares</td>  <th>  F-statistic:       </th> <td>   560.5</td>\n",
       "</tr>\n",
       "<tr>\n",
       "  <th>Date:</th>             <td>Sat, 25 Dec 2021</td> <th>  Prob (F-statistic):</th> <td>2.20e-94</td>\n",
       "</tr>\n",
       "<tr>\n",
       "  <th>Time:</th>                 <td>23:56:03</td>     <th>  Log-Likelihood:    </th> <td> -375.80</td>\n",
       "</tr>\n",
       "<tr>\n",
       "  <th>No. Observations:</th>      <td>   195</td>      <th>  AIC:               </th> <td>   759.6</td>\n",
       "</tr>\n",
       "<tr>\n",
       "  <th>Df Residuals:</th>          <td>   191</td>      <th>  BIC:               </th> <td>   772.7</td>\n",
       "</tr>\n",
       "<tr>\n",
       "  <th>Df Model:</th>              <td>     3</td>      <th>                     </th>     <td> </td>   \n",
       "</tr>\n",
       "<tr>\n",
       "  <th>Covariance Type:</th>      <td>nonrobust</td>    <th>                     </th>     <td> </td>   \n",
       "</tr>\n",
       "</table>\n",
       "<table class=\"simpletable\">\n",
       "<tr>\n",
       "      <td></td>         <th>coef</th>     <th>std err</th>      <th>t</th>      <th>P>|t|</th>  <th>[0.025</th>    <th>0.975]</th>  \n",
       "</tr>\n",
       "<tr>\n",
       "  <th>Intercept</th> <td>    2.8192</td> <td>    0.318</td> <td>    8.857</td> <td> 0.000</td> <td>    2.191</td> <td>    3.447</td>\n",
       "</tr>\n",
       "<tr>\n",
       "  <th>TV</th>        <td>    0.0457</td> <td>    0.001</td> <td>   32.228</td> <td> 0.000</td> <td>    0.043</td> <td>    0.048</td>\n",
       "</tr>\n",
       "<tr>\n",
       "  <th>radio</th>     <td>    0.1875</td> <td>    0.009</td> <td>   21.397</td> <td> 0.000</td> <td>    0.170</td> <td>    0.205</td>\n",
       "</tr>\n",
       "<tr>\n",
       "  <th>newspaper</th> <td>    0.0044</td> <td>    0.007</td> <td>    0.666</td> <td> 0.506</td> <td>   -0.009</td> <td>    0.018</td>\n",
       "</tr>\n",
       "</table>\n",
       "<table class=\"simpletable\">\n",
       "<tr>\n",
       "  <th>Omnibus:</th>       <td>59.986</td> <th>  Durbin-Watson:     </th> <td>   2.013</td>\n",
       "</tr>\n",
       "<tr>\n",
       "  <th>Prob(Omnibus):</th> <td> 0.000</td> <th>  Jarque-Bera (JB):  </th> <td> 151.483</td>\n",
       "</tr>\n",
       "<tr>\n",
       "  <th>Skew:</th>          <td>-1.341</td> <th>  Prob(JB):          </th> <td>1.28e-33</td>\n",
       "</tr>\n",
       "<tr>\n",
       "  <th>Kurtosis:</th>      <td> 6.383</td> <th>  Cond. No.          </th> <td>    458.</td>\n",
       "</tr>\n",
       "</table><br/><br/>Notes:<br/>[1] Standard Errors assume that the covariance matrix of the errors is correctly specified."
      ],
      "text/plain": [
       "<class 'statsmodels.iolib.summary.Summary'>\n",
       "\"\"\"\n",
       "                            OLS Regression Results                            \n",
       "==============================================================================\n",
       "Dep. Variable:                  sales   R-squared:                       0.898\n",
       "Model:                            OLS   Adj. R-squared:                  0.896\n",
       "Method:                 Least Squares   F-statistic:                     560.5\n",
       "Date:                Sat, 25 Dec 2021   Prob (F-statistic):           2.20e-94\n",
       "Time:                        23:56:03   Log-Likelihood:                -375.80\n",
       "No. Observations:                 195   AIC:                             759.6\n",
       "Df Residuals:                     191   BIC:                             772.7\n",
       "Df Model:                           3                                         \n",
       "Covariance Type:            nonrobust                                         \n",
       "==============================================================================\n",
       "                 coef    std err          t      P>|t|      [0.025      0.975]\n",
       "------------------------------------------------------------------------------\n",
       "Intercept      2.8192      0.318      8.857      0.000       2.191       3.447\n",
       "TV             0.0457      0.001     32.228      0.000       0.043       0.048\n",
       "radio          0.1875      0.009     21.397      0.000       0.170       0.205\n",
       "newspaper      0.0044      0.007      0.666      0.506      -0.009       0.018\n",
       "==============================================================================\n",
       "Omnibus:                       59.986   Durbin-Watson:                   2.013\n",
       "Prob(Omnibus):                  0.000   Jarque-Bera (JB):              151.483\n",
       "Skew:                          -1.341   Prob(JB):                     1.28e-33\n",
       "Kurtosis:                       6.383   Cond. No.                         458.\n",
       "==============================================================================\n",
       "\n",
       "Notes:\n",
       "[1] Standard Errors assume that the covariance matrix of the errors is correctly specified.\n",
       "\"\"\""
      ]
     },
     "execution_count": 1381,
     "metadata": {},
     "output_type": "execute_result"
    }
   ],
   "source": [
    "lm.summary() # to check the rsquared value"
   ]
  },
  {
   "cell_type": "code",
   "execution_count": 1382,
   "id": "f2e12e6e",
   "metadata": {},
   "outputs": [],
   "source": [
    "# pvalue of newspaper is not less than 0.05, so, we reject the null hypothesis that newspaper is related to sales"
   ]
  },
  {
   "cell_type": "code",
   "execution_count": 1383,
   "id": "8f145fc3",
   "metadata": {},
   "outputs": [
    {
     "data": {
      "text/plain": [
       "0.8977616971696134"
      ]
     },
     "execution_count": 1383,
     "metadata": {},
     "output_type": "execute_result"
    }
   ],
   "source": [
    "#check the model confidence with only two features( TV and radio)\n",
    "lm = smf.ols(formula ='sales~ TV + radio ', data = df).fit()\n",
    "lm.rsquared"
   ]
  },
  {
   "cell_type": "code",
   "execution_count": 1384,
   "id": "1a6d72c9",
   "metadata": {},
   "outputs": [
    {
     "data": {
      "text/plain": [
       "0.8979985852414586"
      ]
     },
     "execution_count": 1384,
     "metadata": {},
     "output_type": "execute_result"
    }
   ],
   "source": [
    "#check the model confidence with all features\n",
    "lm = smf.ols(formula ='sales~ TV + radio + newspaper', data = df).fit()\n",
    "lm.rsquared"
   ]
  },
  {
   "cell_type": "code",
   "execution_count": 1385,
   "id": "413f32c1",
   "metadata": {},
   "outputs": [],
   "source": [
    "#we see here, newspaper doesnot make any significant effect on sales \n",
    "#because r2 square value of all features and r2square value of two fveatures (TV, radio) doesnot have much change."
   ]
  },
  {
   "cell_type": "code",
   "execution_count": 1386,
   "id": "58714de5",
   "metadata": {},
   "outputs": [
    {
     "data": {
      "text/plain": [
       "array([[ 9.76020685e-01,  9.96791830e-01,  2.07826198e+00],\n",
       "       [-1.20417229e+00,  1.09902829e+00,  8.34322327e-01],\n",
       "       [-1.52485800e+00,  1.54886870e+00,  2.08342355e+00],\n",
       "       [ 5.27277551e-02,  1.23534356e+00,  1.52597342e+00],\n",
       "       [ 3.96906926e-01, -8.43464407e-01,  1.52081184e+00],\n",
       "       [-1.62470520e+00,  1.75334162e+00,  2.37763335e+00],\n",
       "       [-1.05146481e+00,  6.56003638e-01, -2.80577940e-01],\n",
       "       [-3.14944875e-01, -2.43677189e-01, -8.94805402e-01],\n",
       "       [-1.62587988e+00, -1.43643586e+00, -1.44193238e+00],\n",
       "       [ 6.20094785e-01, -1.40235704e+00, -3.99294172e-01],\n",
       "       [-9.50442935e-01, -1.18425260e+00, -2.44446913e-01],\n",
       "       [ 7.95121053e-01,  5.62164202e-02, -1.28708513e+00],\n",
       "       [-1.44732959e+00,  8.12766206e-01,  1.90792999e+00],\n",
       "       [-5.81595632e-01, -1.06156885e+00, -1.12191472e+00],\n",
       "       [ 6.70605721e-01,  6.62819402e-01,  8.80776505e-01],\n",
       "       [ 5.68409175e-01,  1.67155245e+00,  1.23692520e+00],\n",
       "       [ 1.57862790e+00,  1.11947558e+00,  1.38661089e+00],\n",
       "       [-9.14028074e-01, -1.82335314e-01, -5.48979856e-01],\n",
       "       [ 3.39149161e-03,  4.94006563e-02, -5.07687254e-01],\n",
       "       [ 8.38583951e-01,  3.08399682e-01,  1.26273308e+00],\n",
       "       [ 1.06177181e+00, -1.23196295e+00, -2.80577940e-01],\n",
       "       [-1.57184492e+00, -4.95860451e-01,  1.06659322e+00],\n",
       "       [ 9.54876572e-01, -4.27702812e-01, -1.41215407e-01],\n",
       "       [-9.95080507e-01, -7.20780658e-01, -5.48979856e-01],\n",
       "       [ 1.36131341e+00, -1.34101517e+00, -4.87040952e-01],\n",
       "       [-4.82941177e-02,  4.17451904e-01, -8.43189649e-01],\n",
       "       [ 1.09348798e+00, -4.41334340e-01, -3.11547392e-01],\n",
       "       [ 1.19568452e+00,  2.67505099e-01, -3.11547392e-01],\n",
       "       [-8.97582653e-01, -4.89044687e-01,  6.12374589e-01],\n",
       "       [ 1.71371529e+00,  3.49294265e-01,  7.36252396e-01],\n",
       "       [-4.00695999e-01, -3.93623993e-01,  4.98819932e-01],\n",
       "       [-5.85119651e-01, -1.47733044e+00,  5.49244552e-02],\n",
       "       [ 1.39302958e+00, -2.16414133e-01, -1.47806341e+00],\n",
       "       [-6.02739745e-01, -1.48414621e+00, -1.11159157e+00],\n",
       "       [ 1.68787249e+00, -1.30012058e+00, -1.05481424e+00],\n",
       "       [ 1.40830033e+00,  1.40573766e+00, -1.23546937e+00],\n",
       "       [-8.49421062e-01,  1.78742044e+00,  8.65291779e-01],\n",
       "       [-1.22061771e+00,  2.40242044e-01,  3.18164796e-01],\n",
       "       [ 9.51352554e-01,  9.89976066e-01,  1.58155961e-01],\n",
       "       [ 6.51810954e-01, -5.96515651e-02,  1.37509660e-01],\n",
       "       [ 3.52269355e-01,  6.96898221e-01,  5.03981507e-01],\n",
       "       [ 1.72193800e+00,  3.08399682e-01, -1.40063978e+00],\n",
       "       [ 7.03496563e-01, -1.00704274e+00, -1.30892256e-01],\n",
       "       [-1.43205884e+00,  1.72084405e-01,  7.41413972e-01],\n",
       "       [ 3.29950569e-01, -4.60200374e-02,  1.32348085e-01],\n",
       "       [-6.73220121e-01, -9.04806281e-01,  3.49134248e-01],\n",
       "       [ 1.09113863e+00,  1.24897509e+00, -5.38656706e-01],\n",
       "       [ 9.41955170e-01, -5.02676215e-01,  1.08207794e+00],\n",
       "       [-9.41045551e-01, -7.82122532e-01,  4.05911576e-01],\n",
       "       [ 6.20094785e-01, -1.36827822e+00,  2.92356920e-01],\n",
       "       [-5.47530117e-01, -9.25253573e-01, -1.30773143e+00],\n",
       "       [ 8.15090493e-01,  1.26260662e+00,  5.50435685e-01],\n",
       "       [ 4.18051039e-01,  1.56931599e+00,  1.53629657e+00],\n",
       "       [ 1.35896406e+00,  3.83373084e-01, -6.72857664e-01],\n",
       "       [ 6.09522728e-01,  1.78742044e+00,  1.60339705e+00],\n",
       "       [-1.64115062e+00,  3.35662738e-01,  6.43344041e-01],\n",
       "       [-1.26997205e-01, -2.70940244e-01, -6.36726636e-01],\n",
       "       [ 7.49308808e-01,  1.80105196e+00,  4.52365754e-01],\n",
       "       [ 7.48134135e-01,  4.31083431e-01, -1.01352163e+00],\n",
       "       [-1.09845173e+00, -1.44325162e+00, -3.88971022e-01],\n",
       "       [ 1.34251864e+00,  1.33076426e+00,  1.32983356e+00],\n",
       "       [ 1.08409060e+00, -5.23123506e-01, -8.44380782e-02],\n",
       "       [-5.20512639e-01,  4.37899195e-01, -1.05997581e+00],\n",
       "       [-1.86905525e-01,  1.33758002e+00, -1.85287319e-03],\n",
       "       [-9.16377420e-01, -9.45700864e-01, -1.44709396e+00],\n",
       "       [-1.35687977e+00,  9.71110032e-02, -1.37999348e+00],\n",
       "       [-9.05823435e-02, -5.91281145e-01, -9.67067456e-01],\n",
       "       [ 1.06177181e+00,  2.94768155e-01, -9.25774854e-01],\n",
       "       [ 8.19789184e-01,  1.41255342e+00, -8.95996535e-02],\n",
       "       [ 6.11872074e-01,  5.06056834e-01,  5.03981507e-01],\n",
       "       [-4.37110861e-01, -6.04912672e-01,  1.42671236e-01],\n",
       "       [-1.41208940e+00,  6.69635166e-01, -4.97364103e-01],\n",
       "       [-2.06874965e-01, -1.19106836e+00,  1.22024934e-01],\n",
       "       [ 7.79850304e-01,  9.71110032e-02, -8.17381772e-01],\n",
       "       [-1.40386669e+00, -1.47051468e+00, -4.25102049e-01],\n",
       "       [-3.11420856e-01,  3.62925793e-01, -7.60604444e-01],\n",
       "       [-1.66346941e+00,  4.58346487e-01, -1.00836006e+00],\n",
       "       [-3.64281138e-01, -1.05475309e+00, -3.01224241e-01],\n",
       "       [-8.29451622e-01,  2.40242044e-01, -3.42516844e-01],\n",
       "       [ 1.08996396e+00, -1.30012058e+00,  4.11073152e-01],\n",
       "       [-8.42373025e-01, -1.95966842e-01,  1.83963838e-01],\n",
       "       [-9.23425457e-01,  1.45344801e+00,  3.43972673e-01],\n",
       "       [ 7.81024977e-01,  1.35121155e+00,  2.51064317e-01],\n",
       "       [ 5.42566371e-01, -3.25466355e-01,  1.89760684e+00],\n",
       "       [-8.30626295e-01,  2.94768155e-01, -6.67696088e-01],\n",
       "       [-4.26538804e-01,  1.18763322e+00,  1.76856746e+00],\n",
       "       [-6.89665543e-01,  1.58452878e-01,  2.29504814e+00],\n",
       "       [-4.37110861e-01,  1.67836821e+00,  1.15950157e+00],\n",
       "       [-1.49315990e-01, -1.24559447e+00, -1.01352163e+00],\n",
       "       [-1.39094529e+00, -1.47733044e+00,  2.09771715e-01],\n",
       "       [ 8.30361241e-01,  7.03713985e-01,  1.55178130e+00],\n",
       "       [ 1.22035266e+00,  9.08186900e-01,  2.23827081e+00],\n",
       "       [-4.65303011e-01, -6.25359964e-01, -9.30936429e-01],\n",
       "       [ 1.91339162e-01,  5.74214472e-01,  1.23692520e+00],\n",
       "       [ 5.94251980e-01, -1.34101517e+00, -1.18901519e+00],\n",
       "       [ 4.45068517e-01, -1.48256495e-01, -3.58001570e-01],\n",
       "       [ 1.67612576e+00,  1.30350120e+00,  1.14917842e+00],\n",
       "       [-1.38743934e-01,  1.26260662e+00,  8.75614930e-01],\n",
       "       [ 8.85570869e-01, -1.28648906e+00,  1.07691637e+00],\n",
       "       [ 1.56453183e+00, -8.91174754e-01, -3.88971022e-01],\n",
       "       [ 4.80308705e-01, -4.07255521e-01, -5.69626157e-01],\n",
       "       [ 1.07116919e+00,  7.58240096e-01, -1.21998465e+00],\n",
       "       [-1.07027765e-01,  1.58294752e+00,  1.55178130e+00],\n",
       "       [-1.43323351e+00, -8.29832879e-01,  3.94397293e-02],\n",
       "       [-6.64997411e-01, -1.55911961e+00, -2.96062666e-01],\n",
       "       [-1.57301959e+00, -1.55230385e+00, -1.72184858e-01],\n",
       "       [ 1.27321294e+00,  2.53873572e-01, -1.20966150e+00],\n",
       "       [ 9.25509749e-01, -1.02067427e+00,  1.42274191e+00],\n",
       "       [ 1.11228275e+00,  1.01042336e+00, -2.96062666e-01],\n",
       "       [ 3.36998606e-01, -5.29939270e-01, -1.36967033e+00],\n",
       "       [ 7.35212733e-01, -1.75519550e-01, -9.41259580e-01],\n",
       "       [-8.08307509e-01,  1.61021058e+00,  2.87195344e-01],\n",
       "       [-8.44722370e-01,  8.05950443e-01,  1.22660205e+00],\n",
       "       [-9.17570165e-02, -6.04912672e-01, -1.72184858e-01],\n",
       "       [-8.29451622e-01, -1.52504079e+00, -7.29634992e-01],\n",
       "       [-1.49901520e+00, -4.89044687e-01, -3.42516844e-01],\n",
       "       [-6.70888847e-02,  2.47057808e-01,  8.91099656e-01],\n",
       "       [-1.50606324e+00, -1.00546148e-01,  1.10788582e+00],\n",
       "       [ 9.04365636e-01, -1.41598857e+00, -6.88342390e-01],\n",
       "       [-2.80879360e-01,  7.78687387e-01, -8.53512800e-01],\n",
       "       [ 9.68972648e-01,  6.21924819e-01,  2.33634074e+00],\n",
       "       [-7.02586945e-01, -7.75306768e-01, -1.56700133e-01],\n",
       "       [-1.63527726e+00,  1.07176523e+00,  1.11820897e+00],\n",
       "       [-7.84814051e-01,  6.05239829e-03, -1.01868321e+00],\n",
       "       [ 8.60902737e-01,  1.76015738e+00, -1.32837773e+00],\n",
       "       [-1.02679668e+00, -7.61675241e-01,  7.31090821e-01],\n",
       "       [-1.71867904e+00,  1.11947558e+00, -1.04449109e+00],\n",
       "       [ 1.38833089e+00, -1.38190975e+00,  7.25929246e-01],\n",
       "       [-1.62822922e+00,  2.74320863e-01, -1.38515506e+00],\n",
       "       [ 8.55029373e-01,  7.03713985e-01,  8.34322327e-01],\n",
       "       [-1.29344743e+00,  1.05131794e+00,  1.89244527e+00],\n",
       "       [-1.15953472e+00,  1.62384210e+00, -1.05481424e+00],\n",
       "       [-1.42618548e+00,  1.07858100e+00, -1.01352163e+00],\n",
       "       [ 1.48817809e+00,  3.90188848e-01,  1.58791232e+00],\n",
       "       [-1.22179238e+00,  1.85715933e-01, -4.35425199e-01],\n",
       "       [ 4.45068517e-01,  1.41255342e+00, -1.40580136e+00],\n",
       "       [-8.64691810e-01, -4.20887049e-01, -8.27704923e-01],\n",
       "       [ 5.48439735e-01,  8.33213498e-01,  2.40860280e+00],\n",
       "       [ 8.63252083e-01,  6.83266693e-01,  4.62688905e-01],\n",
       "       [-4.98193853e-01, -1.19106836e+00,  2.82033769e-01],\n",
       "       [-5.96866380e-01, -5.70833853e-01,  5.14304658e-01],\n",
       "       [-7.88356141e-02, -1.45006739e+00, -1.02900636e+00],\n",
       "       [ 1.09348798e+00, -1.08201614e+00, -1.04449109e+00],\n",
       "       [ 1.12990284e+00,  1.76015738e+00,  7.93029725e-01],\n",
       "       [-1.28052603e+00,  1.16718593e+00, -8.79320676e-01],\n",
       "       [-1.20182294e+00,  1.78900169e-01, -4.30263624e-01],\n",
       "       [ 1.57040519e+00, -6.32175728e-01,  4.16234727e-01],\n",
       "       [-3.05547491e-01, -1.00704274e+00,  1.02013904e+00],\n",
       "       [ 5.94251980e-01,  8.50607327e-03, -7.60604444e-01],\n",
       "       [ 2.85312997e-01,  1.12629134e+00,  4.52365754e-01],\n",
       "       [ 4.79134032e-01, -1.41440731e-01, -1.00319848e+00],\n",
       "       [-1.67874016e+00, -7.88938296e-01, -1.19933835e+00],\n",
       "       [-6.23883858e-01,  1.38529037e+00,  1.11304739e+00],\n",
       "       [ 3.27583151e-02, -1.49096197e+00, -2.39285337e-01],\n",
       "       [-1.58946501e+00,  9.35449956e-01,  8.39483903e-01],\n",
       "       [-1.79857487e-01, -3.25466355e-01,  2.92356920e-01],\n",
       "       [ 2.99409072e-01, -3.45913646e-01,  9.10554824e-02],\n",
       "       [-7.20207039e-01,  8.60476553e-01,  1.05110849e+00],\n",
       "       [ 4.86182070e-01, -3.45913646e-01, -1.72184858e-01],\n",
       "       [ 1.93688508e-01,  9.28634192e-01, -1.11159157e+00],\n",
       "       [-3.50185063e-01, -5.77649617e-01, -1.21482307e+00],\n",
       "       [-1.51663529e+00,  9.83160302e-01, -3.78647871e-01],\n",
       "       [ 7.02321890e-01, -1.22514718e+00, -4.92202528e-01],\n",
       "       [ 8.03343763e-01,  2.89533648e-02,  1.47951924e+00],\n",
       "       [ 1.61269342e+00, -8.57095934e-01, -1.16320732e+00],\n",
       "       [-1.13956528e+00, -7.88938296e-01, -5.43818281e-01],\n",
       "       [ 2.05435237e-01, -1.55072259e-01,  9.53038559e-01],\n",
       "       [-1.49666585e+00, -2.09598370e-01, -6.16080335e-01],\n",
       "       [ 2.51247482e-01, -1.09564767e+00, -8.32866498e-01],\n",
       "       [ 8.85570869e-01, -1.34783093e+00, -8.17381772e-01],\n",
       "       [ 1.52576762e+00,  1.75334162e+00,  6.63990342e-01],\n",
       "       [ 1.19098583e+00,  4.78793778e-01, -4.45748350e-01],\n",
       "       [ 2.72391595e-01, -1.04793732e+00,  3.23326371e-01],\n",
       "       [ 1.52341827e+00, -1.42280433e+00, -2.70254789e-01],\n",
       "       [ 2.18356639e-01, -8.97990517e-01, -5.85110883e-01],\n",
       "       [ 1.12636075e-01, -1.40235704e+00, -1.06513739e+00],\n",
       "       [ 8.39758624e-01, -1.21151565e+00, -7.92765029e-02],\n",
       "       [-1.06673556e+00, -1.19106836e+00,  3.94397293e-02],\n",
       "       [ 1.65145763e+00,  1.35121155e+00,  2.21246294e+00],\n",
       "       [ 1.25441817e+00, -1.27809204e-01,  5.49244552e-02],\n",
       "       [ 6.81177778e-01,  1.49434259e+00, -4.81879377e-01],\n",
       "       [-8.82329976e-02, -1.43643586e+00, -1.20569105e-01],\n",
       "       [ 5.17898239e-01,  3.76557321e-01, -5.54141431e-01],\n",
       "       [ 1.63266286e+00, -6.32175728e-01, -1.30256985e+00],\n",
       "       [-1.50723791e+00, -7.54859477e-01, -2.85739515e-01],\n",
       "       [-1.26290594e+00,  1.22171204e+00, -1.19417677e+00],\n",
       "       [-8.40023679e-01, -8.43464407e-01, -1.18385362e+00],\n",
       "       [-1.52485800e+00, -1.30012058e+00,  1.37509660e-01],\n",
       "       [ 2.32452715e-01,  1.28305391e+00, -1.30773143e+00],\n",
       "       [ 3.15836422e-02,  8.46845026e-01, -1.18385362e+00],\n",
       "       [-1.27817669e+00, -1.32738364e+00, -7.81250745e-01],\n",
       "       [-6.20359839e-01, -1.24559447e+00, -1.07546054e+00],\n",
       "       [ 3.52269355e-01, -9.45700864e-01, -1.16320732e+00],\n",
       "       [ 1.60447071e+00,  1.28305391e+00,  1.92341472e+00],\n",
       "       [ 9.99514144e-01, -9.93411211e-01, -1.04449109e+00]])"
      ]
     },
     "execution_count": 1386,
     "metadata": {},
     "output_type": "execute_result"
    }
   ],
   "source": [
    "#scale the value x\n",
    "Scaler = StandardScaler()\n",
    "x_scaled = Scaler.fit_transform(x)\n",
    "x_scaled"
   ]
  },
  {
   "cell_type": "code",
   "execution_count": 1387,
   "id": "94ebf59a",
   "metadata": {},
   "outputs": [
    {
     "data": {
      "text/html": [
       "<div>\n",
       "<style scoped>\n",
       "    .dataframe tbody tr th:only-of-type {\n",
       "        vertical-align: middle;\n",
       "    }\n",
       "\n",
       "    .dataframe tbody tr th {\n",
       "        vertical-align: top;\n",
       "    }\n",
       "\n",
       "    .dataframe thead th {\n",
       "        text-align: right;\n",
       "    }\n",
       "</style>\n",
       "<table border=\"1\" class=\"dataframe\">\n",
       "  <thead>\n",
       "    <tr style=\"text-align: right;\">\n",
       "      <th></th>\n",
       "      <th>vif</th>\n",
       "      <th>features</th>\n",
       "    </tr>\n",
       "  </thead>\n",
       "  <tbody>\n",
       "    <tr>\n",
       "      <th>0</th>\n",
       "      <td>1.006489</td>\n",
       "      <td>TV</td>\n",
       "    </tr>\n",
       "    <tr>\n",
       "      <th>1</th>\n",
       "      <td>1.142733</td>\n",
       "      <td>radio</td>\n",
       "    </tr>\n",
       "    <tr>\n",
       "      <th>2</th>\n",
       "      <td>1.142643</td>\n",
       "      <td>newspaper</td>\n",
       "    </tr>\n",
       "  </tbody>\n",
       "</table>\n",
       "</div>"
      ],
      "text/plain": [
       "        vif   features\n",
       "0  1.006489         TV\n",
       "1  1.142733      radio\n",
       "2  1.142643  newspaper"
      ]
     },
     "execution_count": 1387,
     "metadata": {},
     "output_type": "execute_result"
    }
   ],
   "source": [
    "# Check the multicollinearity between the features\n",
    "#import library for VIF\n",
    "from statsmodels.stats.outliers_influence import variance_inflation_factor\n",
    "vif = pd.DataFrame()\n",
    "vif[\"vif\"]= [ variance_inflation_factor(x_scaled, i)\n",
    "               for i in range ( x_scaled.shape[1])]\n",
    "vif['features']= x.columns\n",
    "vif #less corelation between the features"
   ]
  },
  {
   "cell_type": "code",
   "execution_count": 1388,
   "id": "f77ed4cf",
   "metadata": {},
   "outputs": [
    {
     "name": "stdout",
     "output_type": "stream",
     "text": [
      "shape of x ------> (195, 3)\n",
      "shape of y ------> (195, 1)\n"
     ]
    }
   ],
   "source": [
    "#check the shape of x and y\n",
    "print('shape of x ------>', x.shape)\n",
    "print('shape of y ------>', y.shape)"
   ]
  },
  {
   "cell_type": "code",
   "execution_count": 1389,
   "id": "633b67d2",
   "metadata": {},
   "outputs": [],
   "source": [
    "#split data into train and test.\n",
    "x_train, x_test, y_train, y_test = train_test_split(x_scaled, y,test_size = 0.25, random_state=42)"
   ]
  },
  {
   "cell_type": "code",
   "execution_count": 1390,
   "id": "f6f785fb",
   "metadata": {},
   "outputs": [
    {
     "data": {
      "text/html": [
       "<div>\n",
       "<style scoped>\n",
       "    .dataframe tbody tr th:only-of-type {\n",
       "        vertical-align: middle;\n",
       "    }\n",
       "\n",
       "    .dataframe tbody tr th {\n",
       "        vertical-align: top;\n",
       "    }\n",
       "\n",
       "    .dataframe thead th {\n",
       "        text-align: right;\n",
       "    }\n",
       "</style>\n",
       "<table border=\"1\" class=\"dataframe\">\n",
       "  <thead>\n",
       "    <tr style=\"text-align: right;\">\n",
       "      <th></th>\n",
       "      <th>sales</th>\n",
       "    </tr>\n",
       "  </thead>\n",
       "  <tbody>\n",
       "    <tr>\n",
       "      <th>66</th>\n",
       "      <td>9.5</td>\n",
       "    </tr>\n",
       "    <tr>\n",
       "      <th>107</th>\n",
       "      <td>8.7</td>\n",
       "    </tr>\n",
       "    <tr>\n",
       "      <th>163</th>\n",
       "      <td>18.0</td>\n",
       "    </tr>\n",
       "    <tr>\n",
       "      <th>80</th>\n",
       "      <td>11.8</td>\n",
       "    </tr>\n",
       "    <tr>\n",
       "      <th>78</th>\n",
       "      <td>5.3</td>\n",
       "    </tr>\n",
       "  </tbody>\n",
       "</table>\n",
       "</div>"
      ],
      "text/plain": [
       "     sales\n",
       "66     9.5\n",
       "107    8.7\n",
       "163   18.0\n",
       "80    11.8\n",
       "78     5.3"
      ]
     },
     "execution_count": 1390,
     "metadata": {},
     "output_type": "execute_result"
    }
   ],
   "source": [
    "y_train.head()"
   ]
  },
  {
   "cell_type": "markdown",
   "id": "946530d7",
   "metadata": {},
   "source": [
    "# LinearRegression"
   ]
  },
  {
   "cell_type": "code",
   "execution_count": 1391,
   "id": "bd17c507",
   "metadata": {},
   "outputs": [
    {
     "data": {
      "text/plain": [
       "LinearRegression()"
      ]
     },
     "execution_count": 1391,
     "metadata": {},
     "output_type": "execute_result"
    }
   ],
   "source": [
    "#Model instantiating and training\n",
    "lr = LinearRegression()\n",
    "lr.fit(x_train, y_train)"
   ]
  },
  {
   "cell_type": "code",
   "execution_count": 1392,
   "id": "757ad35f",
   "metadata": {},
   "outputs": [
    {
     "data": {
      "text/plain": [
       "0.899663283081576"
      ]
     },
     "execution_count": 1392,
     "metadata": {},
     "output_type": "execute_result"
    }
   ],
   "source": [
    "#How much my model learn ( model confidence)\n",
    "lr.score(x_train, y_train)"
   ]
  },
  {
   "cell_type": "code",
   "execution_count": 1393,
   "id": "7aa1a8d5",
   "metadata": {},
   "outputs": [
    {
     "data": {
      "text/plain": [
       "0.8870217375625356"
      ]
     },
     "execution_count": 1393,
     "metadata": {},
     "output_type": "execute_result"
    }
   ],
   "source": [
    "#Let's check how well model fits the test data\n",
    "lr.score(x_test,y_test)"
   ]
  },
  {
   "cell_type": "code",
   "execution_count": 1395,
   "id": "7a6ef6c3",
   "metadata": {},
   "outputs": [],
   "source": [
    "y_pred = lr.predict(x_test)"
   ]
  },
  {
   "cell_type": "code",
   "execution_count": 1397,
   "id": "ef0eb94e",
   "metadata": {},
   "outputs": [
    {
     "data": {
      "image/png": "[encoded data removed]",
      "text/plain": [
       "<Figure size 432x288 with 1 Axes>"
      ]
     },
     "metadata": {
      "needs_background": "light"
     },
     "output_type": "display_data"
    }
   ],
   "source": [
    "#plot the actual and predicted value\n",
    "plt.scatter(y_test,y_pred)\n",
    "plt.xlabel('Actual sales')\n",
    "plt.ylabel('predicted sales')\n",
    "plt.title('Actual vs predicted')\n",
    "plt.show()"
   ]
  },
  {
   "cell_type": "code",
   "execution_count": 1398,
   "id": "4f1bcbe0",
   "metadata": {},
   "outputs": [
    {
     "data": {
      "text/plain": [
       "<AxesSubplot:ylabel='Count'>"
      ]
     },
     "execution_count": 1398,
     "metadata": {},
     "output_type": "execute_result"
    },
    {
     "data": {
      "image/png": "[encoded data removed]",
      "text/plain": [
       "<Figure size 432x288 with 1 Axes>"
      ]
     },
     "metadata": {
      "needs_background": "light"
     },
     "output_type": "display_data"
    }
   ],
   "source": [
    "#show residuals on histogram\n",
    "residual = (y_pred - y_test)\n",
    "sns.histplot(data = residual)"
   ]
  },
  {
   "cell_type": "markdown",
   "id": "499c5290",
   "metadata": {},
   "source": [
    "# Model Evaluation"
   ]
  },
  {
   "cell_type": "code",
   "execution_count": 1400,
   "id": "c23e7a05",
   "metadata": {},
   "outputs": [
    {
     "data": {
      "text/plain": [
       "1.218560881647093"
      ]
     },
     "execution_count": 1400,
     "metadata": {},
     "output_type": "execute_result"
    }
   ],
   "source": [
    "#calculate Mean absolute error\n",
    "y_pred = lr.predict(x_test)\n",
    "mean_absolute_error(y_test, y_pred)"
   ]
  },
  {
   "cell_type": "code",
   "execution_count": 1401,
   "id": "293b68bd",
   "metadata": {},
   "outputs": [
    {
     "data": {
      "text/plain": [
       "3.019053971601285"
      ]
     },
     "execution_count": 1401,
     "metadata": {},
     "output_type": "execute_result"
    }
   ],
   "source": [
    "#calculate mean squared error\n",
    "mean_squared_error(y_test,y_pred)"
   ]
  },
  {
   "cell_type": "code",
   "execution_count": 1402,
   "id": "0308931c",
   "metadata": {},
   "outputs": [
    {
     "data": {
      "text/plain": [
       "1.737542509293308"
      ]
     },
     "execution_count": 1402,
     "metadata": {},
     "output_type": "execute_result"
    }
   ],
   "source": [
    "#calculate root mean square error\n",
    "np.sqrt(mean_squared_error(y_test,y_pred))"
   ]
  },
  {
   "cell_type": "markdown",
   "id": "5bcbdf77",
   "metadata": {},
   "source": [
    "# Lasso Regression"
   ]
  },
  {
   "cell_type": "code",
   "execution_count": 1403,
   "id": "fed6f1f2",
   "metadata": {},
   "outputs": [],
   "source": [
    "#import Ridge, Lasso, RidgeCV, LassoCV\n",
    "from sklearn.linear_model import Ridge, Lasso, RidgeCV, LassoCV"
   ]
  },
  {
   "cell_type": "code",
   "execution_count": 1404,
   "id": "3a7b6f8d",
   "metadata": {},
   "outputs": [],
   "source": [
    "#to find best alpha\n",
    "lassocv= LassoCV(alphas=None, max_iter = 1000, normalize = True)"
   ]
  },
  {
   "cell_type": "code",
   "execution_count": 1405,
   "id": "4398fdfc",
   "metadata": {},
   "outputs": [
    {
     "data": {
      "text/plain": [
       "LassoCV(normalize=True)"
      ]
     },
     "execution_count": 1405,
     "metadata": {},
     "output_type": "execute_result"
    }
   ],
   "source": [
    "#train the model\n",
    "lassocv.fit(x_train,y_train)"
   ]
  },
  {
   "cell_type": "code",
   "execution_count": 1406,
   "id": "e95b42ac",
   "metadata": {},
   "outputs": [
    {
     "data": {
      "text/plain": [
       "0.0007375266737421895"
      ]
     },
     "execution_count": 1406,
     "metadata": {},
     "output_type": "execute_result"
    }
   ],
   "source": [
    "#best alpha parameter\n",
    "alpha = lassocv.alpha_\n",
    "alpha"
   ]
  },
  {
   "cell_type": "code",
   "execution_count": 1407,
   "id": "772deeff",
   "metadata": {},
   "outputs": [],
   "source": [
    "#fit the data\n",
    "lasso_reg = Lasso(alpha)"
   ]
  },
  {
   "cell_type": "code",
   "execution_count": 1408,
   "id": "91ed72a4",
   "metadata": {},
   "outputs": [
    {
     "data": {
      "text/plain": [
       "Lasso(alpha=0.0007375266737421895)"
      ]
     },
     "execution_count": 1408,
     "metadata": {},
     "output_type": "execute_result"
    }
   ],
   "source": [
    "lasso_reg.fit(x_train,y_train) #train the data"
   ]
  },
  {
   "cell_type": "code",
   "execution_count": 1409,
   "id": "41bcc345",
   "metadata": {},
   "outputs": [
    {
     "data": {
      "text/plain": [
       "0.8870070882326537"
      ]
     },
     "execution_count": 1409,
     "metadata": {},
     "output_type": "execute_result"
    }
   ],
   "source": [
    "lasso_reg.score(x_test,y_test) #get the score of test data"
   ]
  },
  {
   "cell_type": "markdown",
   "id": "f2245a7f",
   "metadata": {},
   "source": [
    "# Ridge regression"
   ]
  },
  {
   "cell_type": "code",
   "execution_count": 1410,
   "id": "5cf0bb3f",
   "metadata": {},
   "outputs": [],
   "source": [
    "ridgecv= RidgeCV(alphas=np.arange(0.001,0.1,0.01), normalize = True)"
   ]
  },
  {
   "cell_type": "code",
   "execution_count": 1411,
   "id": "19278394",
   "metadata": {},
   "outputs": [
    {
     "data": {
      "text/plain": [
       "RidgeCV(alphas=array([0.001, 0.011, 0.021, 0.031, 0.041, 0.051, 0.061, 0.071, 0.081,\n",
       "       0.091]),\n",
       "        normalize=True)"
      ]
     },
     "execution_count": 1411,
     "metadata": {},
     "output_type": "execute_result"
    }
   ],
   "source": [
    "#train the data\n",
    "ridgecv.fit(x_train,y_train)"
   ]
  },
  {
   "cell_type": "code",
   "execution_count": 1412,
   "id": "b39fc4b8",
   "metadata": {},
   "outputs": [
    {
     "data": {
      "text/plain": [
       "0.001"
      ]
     },
     "execution_count": 1412,
     "metadata": {},
     "output_type": "execute_result"
    }
   ],
   "source": [
    "#best alpha parameter\n",
    "ridgecv.alpha_"
   ]
  },
  {
   "cell_type": "code",
   "execution_count": 1413,
   "id": "9e50eceb",
   "metadata": {},
   "outputs": [
    {
     "data": {
      "text/plain": [
       "Ridge(alpha=0.001)"
      ]
     },
     "execution_count": 1413,
     "metadata": {},
     "output_type": "execute_result"
    }
   ],
   "source": [
    "#fit the data\n",
    "ridge_model = Ridge(alpha = ridgecv.alpha_)\n",
    "ridge_model.fit(x_train,y_train)"
   ]
  },
  {
   "cell_type": "code",
   "execution_count": 1414,
   "id": "cfaea6e9",
   "metadata": {},
   "outputs": [
    {
     "data": {
      "text/plain": [
       "0.8870204813120982"
      ]
     },
     "execution_count": 1414,
     "metadata": {},
     "output_type": "execute_result"
    }
   ],
   "source": [
    "ridge_model.score(x_test,y_test) #get the score"
   ]
  },
  {
   "cell_type": "markdown",
   "id": "64d3875f",
   "metadata": {},
   "source": [
    "# Ada boost Regreesor"
   ]
  },
  {
   "cell_type": "code",
   "execution_count": 1415,
   "id": "8c58c219",
   "metadata": {},
   "outputs": [],
   "source": [
    "ada = AdaBoostRegressor() #using this to improve accuracy"
   ]
  },
  {
   "cell_type": "code",
   "execution_count": 1416,
   "id": "1ea4793a",
   "metadata": {},
   "outputs": [],
   "source": [
    "ada_model= ada.fit(x_train,y_train) # fit the data"
   ]
  },
  {
   "cell_type": "code",
   "execution_count": 1417,
   "id": "26c18148",
   "metadata": {},
   "outputs": [],
   "source": [
    "y_pred = ada_model.predict(x_test) #predict it"
   ]
  },
  {
   "cell_type": "code",
   "execution_count": 1418,
   "id": "7b5c1f54",
   "metadata": {},
   "outputs": [
    {
     "data": {
      "text/plain": [
       "0.9571460753475473"
      ]
     },
     "execution_count": 1418,
     "metadata": {},
     "output_type": "execute_result"
    }
   ],
   "source": [
    "r2_score(y_test,y_pred) #get the r2score"
   ]
  },
  {
   "cell_type": "markdown",
   "id": "2ba2f9b2",
   "metadata": {},
   "source": [
    "Hyperparameter tuning by using Linear Regression and Decision Tree to improve accuracy"
   ]
  },
  {
   "cell_type": "code",
   "execution_count": 1419,
   "id": "721ff832",
   "metadata": {},
   "outputs": [],
   "source": [
    "from sklearn.tree import DecisionTreeRegressor"
   ]
  },
  {
   "cell_type": "code",
   "execution_count": 1420,
   "id": "eea918d1",
   "metadata": {},
   "outputs": [],
   "source": [
    "lr = LinearRegression()"
   ]
  },
  {
   "cell_type": "code",
   "execution_count": 1421,
   "id": "787d5343",
   "metadata": {},
   "outputs": [],
   "source": [
    "params = {'n_estimators': [40,47,49,50], 'learning_rate' :[.30,.40,.45]}"
   ]
  },
  {
   "cell_type": "code",
   "execution_count": 1422,
   "id": "bdd9cb71",
   "metadata": {},
   "outputs": [],
   "source": [
    "rnd_srch = RandomizedSearchCV(AdaBoostRegressor(), cv =5, param_distributions = params ) #using randomsearchCv"
   ]
  },
  {
   "cell_type": "code",
   "execution_count": 1423,
   "id": "8c05928f",
   "metadata": {},
   "outputs": [
    {
     "data": {
      "text/plain": [
       "RandomizedSearchCV(cv=5, estimator=AdaBoostRegressor(),\n",
       "                   param_distributions={'learning_rate': [0.3, 0.4, 0.45],\n",
       "                                        'n_estimators': [40, 47, 49, 50]})"
      ]
     },
     "execution_count": 1423,
     "metadata": {},
     "output_type": "execute_result"
    }
   ],
   "source": [
    "rnd_srch.fit(x_train,y_train)"
   ]
  },
  {
   "cell_type": "code",
   "execution_count": 1424,
   "id": "848a1c2e",
   "metadata": {},
   "outputs": [
    {
     "data": {
      "text/plain": [
       "AdaBoostRegressor(learning_rate=0.45)"
      ]
     },
     "execution_count": 1424,
     "metadata": {},
     "output_type": "execute_result"
    }
   ],
   "source": [
    "rnd_srch.best_estimator_ "
   ]
  },
  {
   "cell_type": "code",
   "execution_count": 1425,
   "id": "ff82d1e9",
   "metadata": {},
   "outputs": [],
   "source": [
    "ada = AdaBoostRegressor( base_estimator = lr, learning_rate = 0.45, n_estimators = 47) #first by using linear regression"
   ]
  },
  {
   "cell_type": "code",
   "execution_count": 1426,
   "id": "0e32083e",
   "metadata": {},
   "outputs": [
    {
     "data": {
      "text/plain": [
       "AdaBoostRegressor(base_estimator=LinearRegression(), learning_rate=0.45,\n",
       "                  n_estimators=47)"
      ]
     },
     "execution_count": 1426,
     "metadata": {},
     "output_type": "execute_result"
    }
   ],
   "source": [
    "ada.fit(x_train,y_train) #fit the data"
   ]
  },
  {
   "cell_type": "code",
   "execution_count": 1427,
   "id": "11ca1f9c",
   "metadata": {},
   "outputs": [],
   "source": [
    "y_pred = ada.predict(x_test) #predict it"
   ]
  },
  {
   "cell_type": "code",
   "execution_count": 1428,
   "id": "36fcd825",
   "metadata": {},
   "outputs": [
    {
     "data": {
      "text/plain": [
       "0.8881051743861669"
      ]
     },
     "execution_count": 1428,
     "metadata": {},
     "output_type": "execute_result"
    }
   ],
   "source": [
    "r2_score(y_test,y_pred) #get the score"
   ]
  },
  {
   "cell_type": "code",
   "execution_count": 1429,
   "id": "6de230a1",
   "metadata": {},
   "outputs": [],
   "source": [
    "dt = DecisionTreeRegressor() #now by using decision tree"
   ]
  },
  {
   "cell_type": "code",
   "execution_count": 1430,
   "id": "2b151a47",
   "metadata": {},
   "outputs": [],
   "source": [
    "ada = AdaBoostRegressor( base_estimator = dt, learning_rate = 0.45, n_estimators = 47)"
   ]
  },
  {
   "cell_type": "code",
   "execution_count": 1431,
   "id": "a5cd7e0b",
   "metadata": {},
   "outputs": [
    {
     "data": {
      "text/plain": [
       "AdaBoostRegressor(base_estimator=DecisionTreeRegressor(), learning_rate=0.45,\n",
       "                  n_estimators=47)"
      ]
     },
     "execution_count": 1431,
     "metadata": {},
     "output_type": "execute_result"
    }
   ],
   "source": [
    "ada.fit(x_train,y_train) #fit the data"
   ]
  },
  {
   "cell_type": "code",
   "execution_count": 1432,
   "id": "7c6c92ad",
   "metadata": {},
   "outputs": [],
   "source": [
    "y_pred = ada.predict(x_test) #predict it"
   ]
  },
  {
   "cell_type": "code",
   "execution_count": 1433,
   "id": "9c522be6",
   "metadata": {},
   "outputs": [
    {
     "data": {
      "text/plain": [
       "0.9674430834144839"
      ]
     },
     "execution_count": 1433,
     "metadata": {},
     "output_type": "execute_result"
    }
   ],
   "source": [
    "r2_score(y_test,y_pred) #get the score"
   ]
  },
  {
   "cell_type": "markdown",
   "id": "32b0c94b",
   "metadata": {},
   "source": [
    "# Xgb Boost"
   ]
  },
  {
   "cell_type": "code",
   "execution_count": 1434,
   "id": "bd921e6b",
   "metadata": {},
   "outputs": [],
   "source": [
    "import xgboost as xgb #import libraries\n",
    "from sklearn.metrics import mean_squared_error\n",
    "from sklearn.metrics import r2_score"
   ]
  },
  {
   "cell_type": "code",
   "execution_count": 1435,
   "id": "2e93cf94",
   "metadata": {},
   "outputs": [
    {
     "data": {
      "text/plain": [
       "0.9644986846787034"
      ]
     },
     "execution_count": 1435,
     "metadata": {},
     "output_type": "execute_result"
    }
   ],
   "source": [
    "xgbr = xgb.XGBRegressor()  #to improve accuracy\n",
    "xgbr.fit(x_train,y_train)\n",
    "y_pred = xgbr.predict(x_test)\n",
    "r2_score(y_test, y_pred)"
   ]
  },
  {
   "cell_type": "markdown",
   "id": "5e2a2539",
   "metadata": {},
   "source": [
    "# GradientBoostingRegressor"
   ]
  },
  {
   "cell_type": "code",
   "execution_count": 1436,
   "id": "5d984352",
   "metadata": {},
   "outputs": [],
   "source": [
    "gradientregressor = GradientBoostingRegressor(max_depth=3, n_estimators=6, learning_rate=.4) #using GBR"
   ]
  },
  {
   "cell_type": "code",
   "execution_count": 1437,
   "id": "c7336d1b",
   "metadata": {},
   "outputs": [],
   "source": [
    "gbr = gradientregressor.fit(x_train,y_train) #fit the data"
   ]
  },
  {
   "cell_type": "code",
   "execution_count": 1438,
   "id": "8cfb625d",
   "metadata": {},
   "outputs": [
    {
     "data": {
      "text/plain": [
       "0.9644986846787034"
      ]
     },
     "execution_count": 1438,
     "metadata": {},
     "output_type": "execute_result"
    }
   ],
   "source": [
    "r2_score(y_test,y_pred) #predict it "
   ]
  },
  {
   "cell_type": "code",
   "execution_count": 1439,
   "id": "7761de7d",
   "metadata": {},
   "outputs": [],
   "source": [
    "from sklearn.model_selection import GridSearchCV #import libraries"
   ]
  },
  {
   "cell_type": "code",
   "execution_count": 1441,
   "id": "bda35237",
   "metadata": {},
   "outputs": [],
   "source": [
    "grid_params = {\n",
    "    'max_depth': range(4,12,2),\n",
    "    'learning_rate': np.arange(0.1,1,0.1),\n",
    "    'min_samples_split': range(4,8,2)\n",
    "}"
   ]
  },
  {
   "cell_type": "code",
   "execution_count": 1442,
   "id": "2ea49425",
   "metadata": {},
   "outputs": [],
   "source": [
    "grid = GridSearchCV(gbr, param_grid = grid_params)"
   ]
  },
  {
   "cell_type": "code",
   "execution_count": 1443,
   "id": "ec17d9f1",
   "metadata": {},
   "outputs": [
    {
     "data": {
      "text/plain": [
       "GridSearchCV(estimator=GradientBoostingRegressor(learning_rate=0.4,\n",
       "                                                 n_estimators=6),\n",
       "             param_grid={'learning_rate': array([0.1, 0.2, 0.3, 0.4, 0.5, 0.6, 0.7, 0.8, 0.9]),\n",
       "                         'max_depth': range(4, 12, 2),\n",
       "                         'min_samples_split': range(4, 8, 2)})"
      ]
     },
     "execution_count": 1443,
     "metadata": {},
     "output_type": "execute_result"
    }
   ],
   "source": [
    "grid.fit(x_train, y_train) #fit the data"
   ]
  },
  {
   "cell_type": "code",
   "execution_count": 1444,
   "id": "6c15a98a",
   "metadata": {},
   "outputs": [
    {
     "data": {
      "text/plain": [
       "{'learning_rate': 0.6, 'max_depth': 6, 'min_samples_split': 4}"
      ]
     },
     "execution_count": 1444,
     "metadata": {},
     "output_type": "execute_result"
    }
   ],
   "source": [
    "grid.best_params_ # get the best parameters"
   ]
  },
  {
   "cell_type": "code",
   "execution_count": 1445,
   "id": "a9770864",
   "metadata": {},
   "outputs": [],
   "source": [
    "a = grid.best_estimator_"
   ]
  },
  {
   "cell_type": "code",
   "execution_count": 1446,
   "id": "471a32f1",
   "metadata": {},
   "outputs": [
    {
     "data": {
      "text/plain": [
       "GradientBoostingRegressor(learning_rate=0.6, max_depth=6, min_samples_split=4,\n",
       "                          n_estimators=6)"
      ]
     },
     "execution_count": 1446,
     "metadata": {},
     "output_type": "execute_result"
    }
   ],
   "source": [
    "a.fit(x_train,y_train) # fit the data"
   ]
  },
  {
   "cell_type": "code",
   "execution_count": 1447,
   "id": "e18cfaa7",
   "metadata": {},
   "outputs": [],
   "source": [
    "y_pred = a.predict(x_test) # predict it"
   ]
  },
  {
   "cell_type": "code",
   "execution_count": 1448,
   "id": "2e2a6147",
   "metadata": {},
   "outputs": [
    {
     "data": {
      "text/plain": [
       "0.9646246419009902"
      ]
     },
     "execution_count": 1448,
     "metadata": {},
     "output_type": "execute_result"
    }
   ],
   "source": [
    "r2_score(y_test, y_pred) # get the improved r2 score"
   ]
  },
  {
   "cell_type": "markdown",
   "id": "84d9908a",
   "metadata": {},
   "source": [
    "# saving the model"
   ]
  },
  {
   "cell_type": "code",
   "execution_count": 1449,
   "id": "f9e2a96d",
   "metadata": {},
   "outputs": [],
   "source": [
    "with open('Adv_sales_channel_pred_model','wb') as f: #finally, svaing the model\n",
    "    pickle.dump(regression,f)"
   ]
  },
  {
   "cell_type": "code",
   "execution_count": null,
   "id": "4370ff72",
   "metadata": {},
   "outputs": [],
   "source": []
  }
 ],
 "metadata": {
  "kernelspec": {
   "display_name": "Python 3",
   "language": "python",
   "name": "python3"
  },
  "language_info": {
   "codemirror_mode": {
    "name": "ipython",
    "version": 3
   },
   "file_extension": ".py",
   "mimetype": "text/x-python",
   "name": "python",
   "nbconvert_exporter": "python",
   "pygments_lexer": "ipython3",
   "version": "3.8.8"
  }
 },
 "nbformat": 4,
 "nbformat_minor": 5
}
