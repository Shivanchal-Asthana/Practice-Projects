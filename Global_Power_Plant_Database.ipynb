{
 "cells": [
  {
   "cell_type": "code",
   "execution_count": 1,
   "id": "1d522ca1",
   "metadata": {},
   "outputs": [],
   "source": [
    "#importing necessary libraries\n",
    "import pandas as pd\n",
    "import numpy as np\n",
    "import statsmodels.formula.api as smf\n",
    "from sklearn.preprocessing import StandardScaler, OrdinalEncoder, OneHotEncoder, LabelEncoder, PowerTransformer\n",
    "from sklearn.impute import SimpleImputer\n",
    "from sklearn.compose import make_column_transformer\n",
    "from sklearn.linear_model import LinearRegression, LogisticRegression\n",
    "from sklearn.model_selection import train_test_split, RandomizedSearchCV, GridSearchCV\n",
    "from sklearn.feature_selection import SelectPercentile, chi2\n",
    "from sklearn.metrics import mean_squared_error, mean_absolute_error, r2_score,roc_curve, roc_auc_score, plot_roc_curve\n",
    "from sklearn.ensemble import AdaBoostRegressor, GradientBoostingRegressor,RandomForestClassifier, BaggingClassifier\n",
    "from sklearn.metrics import confusion_matrix, classification_report\n",
    "from scipy.stats import norm, stats\n",
    "from sklearn.neighbors import KNeighborsClassifier\n",
    "from sklearn.tree import DecisionTreeClassifier\n",
    "from sklearn.decomposition import PCA\n",
    "from sklearn.pipeline import Pipeline\n",
    "from sklearn.model_selection import cross_val_score\n",
    "from sklearn.metrics import accuracy_score\n",
    "from sklearn.svm import SVC\n",
    "import statistics as st\n",
    "import statsmodels.api as sm\n",
    "import seaborn as sns\n",
    "import matplotlib.pyplot as plt\n",
    "import pickle\n",
    "import time\n",
    "\n",
    "\n",
    "#import plotty\n",
    "import warnings\n",
    "warnings.filterwarnings('ignore')"
   ]
  },
  {
   "cell_type": "code",
   "execution_count": 2,
   "id": "72f11f05",
   "metadata": {},
   "outputs": [],
   "source": [
    "df = pd.read_csv(\"https://raw.githubusercontent.com/wri/global-power-plant-database/master/source_databases_csv/database_IND.csv\")"
   ]
  },
  {
   "cell_type": "code",
   "execution_count": 3,
   "id": "c11d0df5",
   "metadata": {},
   "outputs": [
    {
     "data": {
      "text/html": [
       "<div>\n",
       "<style scoped>\n",
       "    .dataframe tbody tr th:only-of-type {\n",
       "        vertical-align: middle;\n",
       "    }\n",
       "\n",
       "    .dataframe tbody tr th {\n",
       "        vertical-align: top;\n",
       "    }\n",
       "\n",
       "    .dataframe thead th {\n",
       "        text-align: right;\n",
       "    }\n",
       "</style>\n",
       "<table border=\"1\" class=\"dataframe\">\n",
       "  <thead>\n",
       "    <tr style=\"text-align: right;\">\n",
       "      <th></th>\n",
       "      <th>country</th>\n",
       "      <th>country_long</th>\n",
       "      <th>name</th>\n",
       "      <th>gppd_idnr</th>\n",
       "      <th>capacity_mw</th>\n",
       "      <th>latitude</th>\n",
       "      <th>longitude</th>\n",
       "      <th>primary_fuel</th>\n",
       "      <th>other_fuel1</th>\n",
       "      <th>other_fuel2</th>\n",
       "      <th>...</th>\n",
       "      <th>geolocation_source</th>\n",
       "      <th>wepp_id</th>\n",
       "      <th>year_of_capacity_data</th>\n",
       "      <th>generation_gwh_2013</th>\n",
       "      <th>generation_gwh_2014</th>\n",
       "      <th>generation_gwh_2015</th>\n",
       "      <th>generation_gwh_2016</th>\n",
       "      <th>generation_gwh_2017</th>\n",
       "      <th>generation_data_source</th>\n",
       "      <th>estimated_generation_gwh</th>\n",
       "    </tr>\n",
       "  </thead>\n",
       "  <tbody>\n",
       "    <tr>\n",
       "      <th>0</th>\n",
       "      <td>IND</td>\n",
       "      <td>India</td>\n",
       "      <td>ACME Solar Tower</td>\n",
       "      <td>WRI1020239</td>\n",
       "      <td>2.5</td>\n",
       "      <td>28.1839</td>\n",
       "      <td>73.2407</td>\n",
       "      <td>Solar</td>\n",
       "      <td>NaN</td>\n",
       "      <td>NaN</td>\n",
       "      <td>...</td>\n",
       "      <td>National Renewable Energy Laboratory</td>\n",
       "      <td>NaN</td>\n",
       "      <td>NaN</td>\n",
       "      <td>NaN</td>\n",
       "      <td>NaN</td>\n",
       "      <td>NaN</td>\n",
       "      <td>NaN</td>\n",
       "      <td>NaN</td>\n",
       "      <td>NaN</td>\n",
       "      <td>NaN</td>\n",
       "    </tr>\n",
       "    <tr>\n",
       "      <th>1</th>\n",
       "      <td>IND</td>\n",
       "      <td>India</td>\n",
       "      <td>ADITYA CEMENT WORKS</td>\n",
       "      <td>WRI1019881</td>\n",
       "      <td>98.0</td>\n",
       "      <td>24.7663</td>\n",
       "      <td>74.6090</td>\n",
       "      <td>Coal</td>\n",
       "      <td>NaN</td>\n",
       "      <td>NaN</td>\n",
       "      <td>...</td>\n",
       "      <td>WRI</td>\n",
       "      <td>NaN</td>\n",
       "      <td>NaN</td>\n",
       "      <td>NaN</td>\n",
       "      <td>NaN</td>\n",
       "      <td>NaN</td>\n",
       "      <td>NaN</td>\n",
       "      <td>NaN</td>\n",
       "      <td>NaN</td>\n",
       "      <td>NaN</td>\n",
       "    </tr>\n",
       "    <tr>\n",
       "      <th>2</th>\n",
       "      <td>IND</td>\n",
       "      <td>India</td>\n",
       "      <td>AES Saurashtra Windfarms</td>\n",
       "      <td>WRI1026669</td>\n",
       "      <td>39.2</td>\n",
       "      <td>21.9038</td>\n",
       "      <td>69.3732</td>\n",
       "      <td>Wind</td>\n",
       "      <td>NaN</td>\n",
       "      <td>NaN</td>\n",
       "      <td>...</td>\n",
       "      <td>WRI</td>\n",
       "      <td>NaN</td>\n",
       "      <td>NaN</td>\n",
       "      <td>NaN</td>\n",
       "      <td>NaN</td>\n",
       "      <td>NaN</td>\n",
       "      <td>NaN</td>\n",
       "      <td>NaN</td>\n",
       "      <td>NaN</td>\n",
       "      <td>NaN</td>\n",
       "    </tr>\n",
       "    <tr>\n",
       "      <th>3</th>\n",
       "      <td>IND</td>\n",
       "      <td>India</td>\n",
       "      <td>AGARTALA GT</td>\n",
       "      <td>IND0000001</td>\n",
       "      <td>135.0</td>\n",
       "      <td>23.8712</td>\n",
       "      <td>91.3602</td>\n",
       "      <td>Gas</td>\n",
       "      <td>NaN</td>\n",
       "      <td>NaN</td>\n",
       "      <td>...</td>\n",
       "      <td>WRI</td>\n",
       "      <td>NaN</td>\n",
       "      <td>2018.0</td>\n",
       "      <td>631.777928</td>\n",
       "      <td>617.789264</td>\n",
       "      <td>843.747</td>\n",
       "      <td>886.004428</td>\n",
       "      <td>663.774500</td>\n",
       "      <td>Central Electricity Authority</td>\n",
       "      <td>NaN</td>\n",
       "    </tr>\n",
       "    <tr>\n",
       "      <th>4</th>\n",
       "      <td>IND</td>\n",
       "      <td>India</td>\n",
       "      <td>AKALTARA TPP</td>\n",
       "      <td>IND0000002</td>\n",
       "      <td>1800.0</td>\n",
       "      <td>21.9603</td>\n",
       "      <td>82.4091</td>\n",
       "      <td>Coal</td>\n",
       "      <td>Oil</td>\n",
       "      <td>NaN</td>\n",
       "      <td>...</td>\n",
       "      <td>WRI</td>\n",
       "      <td>NaN</td>\n",
       "      <td>2018.0</td>\n",
       "      <td>1668.290000</td>\n",
       "      <td>3035.550000</td>\n",
       "      <td>5916.370</td>\n",
       "      <td>6243.000000</td>\n",
       "      <td>5385.579736</td>\n",
       "      <td>Central Electricity Authority</td>\n",
       "      <td>NaN</td>\n",
       "    </tr>\n",
       "  </tbody>\n",
       "</table>\n",
       "<p>5 rows × 25 columns</p>\n",
       "</div>"
      ],
      "text/plain": [
       "  country country_long                      name   gppd_idnr  capacity_mw  \\\n",
       "0     IND        India          ACME Solar Tower  WRI1020239          2.5   \n",
       "1     IND        India       ADITYA CEMENT WORKS  WRI1019881         98.0   \n",
       "2     IND        India  AES Saurashtra Windfarms  WRI1026669         39.2   \n",
       "3     IND        India               AGARTALA GT  IND0000001        135.0   \n",
       "4     IND        India              AKALTARA TPP  IND0000002       1800.0   \n",
       "\n",
       "   latitude  longitude primary_fuel other_fuel1 other_fuel2  ...  \\\n",
       "0   28.1839    73.2407        Solar         NaN         NaN  ...   \n",
       "1   24.7663    74.6090         Coal         NaN         NaN  ...   \n",
       "2   21.9038    69.3732         Wind         NaN         NaN  ...   \n",
       "3   23.8712    91.3602          Gas         NaN         NaN  ...   \n",
       "4   21.9603    82.4091         Coal         Oil         NaN  ...   \n",
       "\n",
       "                     geolocation_source  wepp_id year_of_capacity_data  \\\n",
       "0  National Renewable Energy Laboratory      NaN                   NaN   \n",
       "1                                   WRI      NaN                   NaN   \n",
       "2                                   WRI      NaN                   NaN   \n",
       "3                                   WRI      NaN                2018.0   \n",
       "4                                   WRI      NaN                2018.0   \n",
       "\n",
       "  generation_gwh_2013 generation_gwh_2014 generation_gwh_2015  \\\n",
       "0                 NaN                 NaN                 NaN   \n",
       "1                 NaN                 NaN                 NaN   \n",
       "2                 NaN                 NaN                 NaN   \n",
       "3          631.777928          617.789264             843.747   \n",
       "4         1668.290000         3035.550000            5916.370   \n",
       "\n",
       "   generation_gwh_2016  generation_gwh_2017         generation_data_source  \\\n",
       "0                  NaN                  NaN                            NaN   \n",
       "1                  NaN                  NaN                            NaN   \n",
       "2                  NaN                  NaN                            NaN   \n",
       "3           886.004428           663.774500  Central Electricity Authority   \n",
       "4          6243.000000          5385.579736  Central Electricity Authority   \n",
       "\n",
       "   estimated_generation_gwh  \n",
       "0                       NaN  \n",
       "1                       NaN  \n",
       "2                       NaN  \n",
       "3                       NaN  \n",
       "4                       NaN  \n",
       "\n",
       "[5 rows x 25 columns]"
      ]
     },
     "execution_count": 3,
     "metadata": {},
     "output_type": "execute_result"
    }
   ],
   "source": [
    "df.head() #read the csv file"
   ]
  },
  {
   "cell_type": "markdown",
   "id": "e572d207",
   "metadata": {},
   "source": [
    "Documentation:\n",
    "1. Out of 25 columns, 12 are in object form and rest are in float\n",
    "2. Missing values in latitute, longitude, commissioning_year,year_of_capacity_data,generation_gwh_2013,2014,2015, 2016, 2017\n",
    "3. There is no value in other_fuel3,wepp_id, estimated_generation_gwh\n",
    "4. Column: 'country', 'country_long' contains same value\n",
    "5. gppd_idnr is a code\n",
    "6. high skewness in 'capacity_mw'\n",
    "7. No duplicate rows\n",
    "8. By using, primary_fuel, then it will be a classification problem\n",
    "9. By using, capacity_mw, then it will be a regression problem"
   ]
  },
  {
   "cell_type": "code",
   "execution_count": 4,
   "id": "22260456",
   "metadata": {},
   "outputs": [
    {
     "data": {
      "text/plain": [
       "Index(['country', 'country_long', 'name', 'gppd_idnr', 'capacity_mw',\n",
       "       'latitude', 'longitude', 'primary_fuel', 'other_fuel1', 'other_fuel2',\n",
       "       'other_fuel3', 'commissioning_year', 'owner', 'source', 'url',\n",
       "       'geolocation_source', 'wepp_id', 'year_of_capacity_data',\n",
       "       'generation_gwh_2013', 'generation_gwh_2014', 'generation_gwh_2015',\n",
       "       'generation_gwh_2016', 'generation_gwh_2017', 'generation_data_source',\n",
       "       'estimated_generation_gwh'],\n",
       "      dtype='object')"
      ]
     },
     "execution_count": 4,
     "metadata": {},
     "output_type": "execute_result"
    }
   ],
   "source": [
    "df.columns #check the columns"
   ]
  },
  {
   "cell_type": "code",
   "execution_count": 5,
   "id": "3a5dec11",
   "metadata": {},
   "outputs": [
    {
     "data": {
      "text/plain": [
       "(908, 25)"
      ]
     },
     "execution_count": 5,
     "metadata": {},
     "output_type": "execute_result"
    }
   ],
   "source": [
    "df.shape #check the shape of the dataset"
   ]
  },
  {
   "cell_type": "code",
   "execution_count": 6,
   "id": "6408fabc",
   "metadata": {},
   "outputs": [
    {
     "data": {
      "text/html": [
       "<div>\n",
       "<style scoped>\n",
       "    .dataframe tbody tr th:only-of-type {\n",
       "        vertical-align: middle;\n",
       "    }\n",
       "\n",
       "    .dataframe tbody tr th {\n",
       "        vertical-align: top;\n",
       "    }\n",
       "\n",
       "    .dataframe thead th {\n",
       "        text-align: right;\n",
       "    }\n",
       "</style>\n",
       "<table border=\"1\" class=\"dataframe\">\n",
       "  <thead>\n",
       "    <tr style=\"text-align: right;\">\n",
       "      <th></th>\n",
       "      <th>capacity_mw</th>\n",
       "      <th>latitude</th>\n",
       "      <th>longitude</th>\n",
       "      <th>other_fuel3</th>\n",
       "      <th>commissioning_year</th>\n",
       "      <th>wepp_id</th>\n",
       "      <th>year_of_capacity_data</th>\n",
       "      <th>generation_gwh_2013</th>\n",
       "      <th>generation_gwh_2014</th>\n",
       "      <th>generation_gwh_2015</th>\n",
       "      <th>generation_gwh_2016</th>\n",
       "      <th>generation_gwh_2017</th>\n",
       "      <th>estimated_generation_gwh</th>\n",
       "    </tr>\n",
       "  </thead>\n",
       "  <tbody>\n",
       "    <tr>\n",
       "      <th>count</th>\n",
       "      <td>908.000000</td>\n",
       "      <td>862.000000</td>\n",
       "      <td>862.000000</td>\n",
       "      <td>0.0</td>\n",
       "      <td>528.000000</td>\n",
       "      <td>0.0</td>\n",
       "      <td>520.0</td>\n",
       "      <td>384.000000</td>\n",
       "      <td>401.000000</td>\n",
       "      <td>425.000000</td>\n",
       "      <td>437.000000</td>\n",
       "      <td>443.000000</td>\n",
       "      <td>0.0</td>\n",
       "    </tr>\n",
       "    <tr>\n",
       "      <th>mean</th>\n",
       "      <td>321.046378</td>\n",
       "      <td>21.196189</td>\n",
       "      <td>77.447848</td>\n",
       "      <td>NaN</td>\n",
       "      <td>1996.876894</td>\n",
       "      <td>NaN</td>\n",
       "      <td>2018.0</td>\n",
       "      <td>2304.059202</td>\n",
       "      <td>2420.393316</td>\n",
       "      <td>2414.072373</td>\n",
       "      <td>2453.936292</td>\n",
       "      <td>2531.754458</td>\n",
       "      <td>NaN</td>\n",
       "    </tr>\n",
       "    <tr>\n",
       "      <th>std</th>\n",
       "      <td>580.221767</td>\n",
       "      <td>6.248627</td>\n",
       "      <td>4.907260</td>\n",
       "      <td>NaN</td>\n",
       "      <td>17.047817</td>\n",
       "      <td>NaN</td>\n",
       "      <td>0.0</td>\n",
       "      <td>3794.767492</td>\n",
       "      <td>4013.558173</td>\n",
       "      <td>4183.203199</td>\n",
       "      <td>4152.038216</td>\n",
       "      <td>4187.236364</td>\n",
       "      <td>NaN</td>\n",
       "    </tr>\n",
       "    <tr>\n",
       "      <th>min</th>\n",
       "      <td>0.000000</td>\n",
       "      <td>8.168900</td>\n",
       "      <td>68.644700</td>\n",
       "      <td>NaN</td>\n",
       "      <td>1927.000000</td>\n",
       "      <td>NaN</td>\n",
       "      <td>2018.0</td>\n",
       "      <td>0.000000</td>\n",
       "      <td>0.000000</td>\n",
       "      <td>0.000000</td>\n",
       "      <td>0.000000</td>\n",
       "      <td>0.000000</td>\n",
       "      <td>NaN</td>\n",
       "    </tr>\n",
       "    <tr>\n",
       "      <th>25%</th>\n",
       "      <td>16.837500</td>\n",
       "      <td>16.771575</td>\n",
       "      <td>74.258975</td>\n",
       "      <td>NaN</td>\n",
       "      <td>1988.000000</td>\n",
       "      <td>NaN</td>\n",
       "      <td>2018.0</td>\n",
       "      <td>244.458088</td>\n",
       "      <td>223.650436</td>\n",
       "      <td>174.174750</td>\n",
       "      <td>187.193669</td>\n",
       "      <td>177.643170</td>\n",
       "      <td>NaN</td>\n",
       "    </tr>\n",
       "    <tr>\n",
       "      <th>50%</th>\n",
       "      <td>60.000000</td>\n",
       "      <td>21.778300</td>\n",
       "      <td>76.719250</td>\n",
       "      <td>NaN</td>\n",
       "      <td>2000.000000</td>\n",
       "      <td>NaN</td>\n",
       "      <td>2018.0</td>\n",
       "      <td>797.063475</td>\n",
       "      <td>805.760000</td>\n",
       "      <td>701.027250</td>\n",
       "      <td>716.728350</td>\n",
       "      <td>807.601700</td>\n",
       "      <td>NaN</td>\n",
       "    </tr>\n",
       "    <tr>\n",
       "      <th>75%</th>\n",
       "      <td>388.125000</td>\n",
       "      <td>25.516375</td>\n",
       "      <td>79.441475</td>\n",
       "      <td>NaN</td>\n",
       "      <td>2011.250000</td>\n",
       "      <td>NaN</td>\n",
       "      <td>2018.0</td>\n",
       "      <td>2795.021500</td>\n",
       "      <td>3034.575000</td>\n",
       "      <td>3080.000000</td>\n",
       "      <td>3263.483000</td>\n",
       "      <td>3258.785000</td>\n",
       "      <td>NaN</td>\n",
       "    </tr>\n",
       "    <tr>\n",
       "      <th>max</th>\n",
       "      <td>4760.000000</td>\n",
       "      <td>34.649000</td>\n",
       "      <td>95.408000</td>\n",
       "      <td>NaN</td>\n",
       "      <td>2018.000000</td>\n",
       "      <td>NaN</td>\n",
       "      <td>2018.0</td>\n",
       "      <td>27586.200000</td>\n",
       "      <td>28127.000000</td>\n",
       "      <td>30539.000000</td>\n",
       "      <td>30015.000000</td>\n",
       "      <td>35116.000000</td>\n",
       "      <td>NaN</td>\n",
       "    </tr>\n",
       "  </tbody>\n",
       "</table>\n",
       "</div>"
      ],
      "text/plain": [
       "       capacity_mw    latitude   longitude  other_fuel3  commissioning_year  \\\n",
       "count   908.000000  862.000000  862.000000          0.0          528.000000   \n",
       "mean    321.046378   21.196189   77.447848          NaN         1996.876894   \n",
       "std     580.221767    6.248627    4.907260          NaN           17.047817   \n",
       "min       0.000000    8.168900   68.644700          NaN         1927.000000   \n",
       "25%      16.837500   16.771575   74.258975          NaN         1988.000000   \n",
       "50%      60.000000   21.778300   76.719250          NaN         2000.000000   \n",
       "75%     388.125000   25.516375   79.441475          NaN         2011.250000   \n",
       "max    4760.000000   34.649000   95.408000          NaN         2018.000000   \n",
       "\n",
       "       wepp_id  year_of_capacity_data  generation_gwh_2013  \\\n",
       "count      0.0                  520.0           384.000000   \n",
       "mean       NaN                 2018.0          2304.059202   \n",
       "std        NaN                    0.0          3794.767492   \n",
       "min        NaN                 2018.0             0.000000   \n",
       "25%        NaN                 2018.0           244.458088   \n",
       "50%        NaN                 2018.0           797.063475   \n",
       "75%        NaN                 2018.0          2795.021500   \n",
       "max        NaN                 2018.0         27586.200000   \n",
       "\n",
       "       generation_gwh_2014  generation_gwh_2015  generation_gwh_2016  \\\n",
       "count           401.000000           425.000000           437.000000   \n",
       "mean           2420.393316          2414.072373          2453.936292   \n",
       "std            4013.558173          4183.203199          4152.038216   \n",
       "min               0.000000             0.000000             0.000000   \n",
       "25%             223.650436           174.174750           187.193669   \n",
       "50%             805.760000           701.027250           716.728350   \n",
       "75%            3034.575000          3080.000000          3263.483000   \n",
       "max           28127.000000         30539.000000         30015.000000   \n",
       "\n",
       "       generation_gwh_2017  estimated_generation_gwh  \n",
       "count           443.000000                       0.0  \n",
       "mean           2531.754458                       NaN  \n",
       "std            4187.236364                       NaN  \n",
       "min               0.000000                       NaN  \n",
       "25%             177.643170                       NaN  \n",
       "50%             807.601700                       NaN  \n",
       "75%            3258.785000                       NaN  \n",
       "max           35116.000000                       NaN  "
      ]
     },
     "execution_count": 6,
     "metadata": {},
     "output_type": "execute_result"
    }
   ],
   "source": [
    "df.describe() #Check the parameters of the columns"
   ]
  },
  {
   "cell_type": "code",
   "execution_count": 7,
   "id": "98dd214d",
   "metadata": {},
   "outputs": [
    {
     "name": "stdout",
     "output_type": "stream",
     "text": [
      "<class 'pandas.core.frame.DataFrame'>\n",
      "RangeIndex: 908 entries, 0 to 907\n",
      "Data columns (total 25 columns):\n",
      " #   Column                    Non-Null Count  Dtype  \n",
      "---  ------                    --------------  -----  \n",
      " 0   country                   908 non-null    object \n",
      " 1   country_long              908 non-null    object \n",
      " 2   name                      908 non-null    object \n",
      " 3   gppd_idnr                 908 non-null    object \n",
      " 4   capacity_mw               908 non-null    float64\n",
      " 5   latitude                  862 non-null    float64\n",
      " 6   longitude                 862 non-null    float64\n",
      " 7   primary_fuel              908 non-null    object \n",
      " 8   other_fuel1               199 non-null    object \n",
      " 9   other_fuel2               1 non-null      object \n",
      " 10  other_fuel3               0 non-null      float64\n",
      " 11  commissioning_year        528 non-null    float64\n",
      " 12  owner                     342 non-null    object \n",
      " 13  source                    908 non-null    object \n",
      " 14  url                       908 non-null    object \n",
      " 15  geolocation_source        889 non-null    object \n",
      " 16  wepp_id                   0 non-null      float64\n",
      " 17  year_of_capacity_data     520 non-null    float64\n",
      " 18  generation_gwh_2013       384 non-null    float64\n",
      " 19  generation_gwh_2014       401 non-null    float64\n",
      " 20  generation_gwh_2015       425 non-null    float64\n",
      " 21  generation_gwh_2016       437 non-null    float64\n",
      " 22  generation_gwh_2017       443 non-null    float64\n",
      " 23  generation_data_source    450 non-null    object \n",
      " 24  estimated_generation_gwh  0 non-null      float64\n",
      "dtypes: float64(13), object(12)\n",
      "memory usage: 177.5+ KB\n"
     ]
    }
   ],
   "source": [
    "df.info() #check the missing value and Datatype"
   ]
  },
  {
   "cell_type": "code",
   "execution_count": 8,
   "id": "17d38f2b",
   "metadata": {},
   "outputs": [
    {
     "data": {
      "text/plain": [
       "0"
      ]
     },
     "execution_count": 8,
     "metadata": {},
     "output_type": "execute_result"
    }
   ],
   "source": [
    "df.duplicated().sum() #check the duplicate value "
   ]
  },
  {
   "cell_type": "markdown",
   "id": "b304f24c",
   "metadata": {},
   "source": [
    "# Column1: country"
   ]
  },
  {
   "cell_type": "code",
   "execution_count": 9,
   "id": "098d5834",
   "metadata": {},
   "outputs": [
    {
     "data": {
      "text/plain": [
       "array(['IND'], dtype=object)"
      ]
     },
     "execution_count": 9,
     "metadata": {},
     "output_type": "execute_result"
    }
   ],
   "source": [
    "df['country'].unique() #check the unique values in column"
   ]
  },
  {
   "cell_type": "code",
   "execution_count": 10,
   "id": "0c4aad29",
   "metadata": {},
   "outputs": [
    {
     "data": {
      "text/plain": [
       "IND    908\n",
       "Name: country, dtype: int64"
      ]
     },
     "execution_count": 10,
     "metadata": {},
     "output_type": "execute_result"
    }
   ],
   "source": [
    "df['country'].value_counts() #check the counts of unique value"
   ]
  },
  {
   "cell_type": "code",
   "execution_count": 11,
   "id": "f1948ecf",
   "metadata": {},
   "outputs": [],
   "source": [
    "df.drop(columns = ['country'], inplace = True) #Drop the column"
   ]
  },
  {
   "cell_type": "code",
   "execution_count": 12,
   "id": "a42102f8",
   "metadata": {},
   "outputs": [
    {
     "name": "stdout",
     "output_type": "stream",
     "text": [
      "Actual shape of our Dataset now :--------> (908, 24)\n"
     ]
    }
   ],
   "source": [
    "#check the shape of our dataset\n",
    "print('Actual shape of our Dataset now :-------->', df.shape)"
   ]
  },
  {
   "cell_type": "markdown",
   "id": "aef4487c",
   "metadata": {},
   "source": [
    "Observation:\n",
    "1. As we see all the values in this column is same, so it is better to drop this column.\n",
    "2. When column contains same value, it will not give any significant change in our accuarcy."
   ]
  },
  {
   "cell_type": "markdown",
   "id": "e63d6b4f",
   "metadata": {},
   "source": [
    "# Column2: country_long"
   ]
  },
  {
   "cell_type": "code",
   "execution_count": 13,
   "id": "103bcb63",
   "metadata": {},
   "outputs": [
    {
     "data": {
      "text/plain": [
       "array(['India'], dtype=object)"
      ]
     },
     "execution_count": 13,
     "metadata": {},
     "output_type": "execute_result"
    }
   ],
   "source": [
    "df['country_long'].unique() #check the unique values in column"
   ]
  },
  {
   "cell_type": "code",
   "execution_count": 14,
   "id": "bff6db77",
   "metadata": {},
   "outputs": [
    {
     "data": {
      "text/plain": [
       "India    908\n",
       "Name: country_long, dtype: int64"
      ]
     },
     "execution_count": 14,
     "metadata": {},
     "output_type": "execute_result"
    }
   ],
   "source": [
    "df['country_long'].value_counts() #check the counts of unique value"
   ]
  },
  {
   "cell_type": "code",
   "execution_count": 15,
   "id": "60146536",
   "metadata": {},
   "outputs": [],
   "source": [
    "df.drop(columns = ['country_long'], inplace = True) #Drop the column"
   ]
  },
  {
   "cell_type": "code",
   "execution_count": 16,
   "id": "623b31a4",
   "metadata": {},
   "outputs": [
    {
     "name": "stdout",
     "output_type": "stream",
     "text": [
      "Actual shape of our Dataset now :--------> (908, 23)\n"
     ]
    }
   ],
   "source": [
    "#check the shape of our dataset\n",
    "print('Actual shape of our Dataset now :-------->', df.shape)"
   ]
  },
  {
   "cell_type": "markdown",
   "id": "235e2099",
   "metadata": {},
   "source": [
    "Observation:\n",
    "1. As we see, again there is same value in the column, that's why we drop it"
   ]
  },
  {
   "cell_type": "markdown",
   "id": "ad361f2c",
   "metadata": {},
   "source": [
    "# Column3: name"
   ]
  },
  {
   "cell_type": "code",
   "execution_count": 17,
   "id": "e10ec4d0",
   "metadata": {},
   "outputs": [
    {
     "data": {
      "text/plain": [
       "array(['ACME Solar Tower', 'ADITYA CEMENT WORKS',\n",
       "       'AES Saurashtra Windfarms', 'AGARTALA GT', 'AKALTARA TPP',\n",
       "       'AKRIMOTA LIG', 'ALIYAR', 'ALLAIN DUHANGAN', 'ALMATTI DAM',\n",
       "       'AMAR KANTAK', 'AMARAVATI TPP', 'ANANDPUR SAHIB ST-I&II',\n",
       "       'ANAPARA \"C\"', 'ANDHRA', 'ANOOPGARH ST I&II', 'ANPARA', 'ANTA GT',\n",
       "       'ANUPPUR', 'ANUPUR TPP', 'ARVINDNAGAR SUGAR', 'ASHOKNAGAR MILL',\n",
       "       'ATHANI SUGAR', 'AURAIYA GT', 'AVANTHA BHANDAR TPP',\n",
       "       'AWARPUR CEMENT PLANT', 'Abhijeet', 'Amarsar Solar Power Plant',\n",
       "       'Anabura Wind Farm', 'Ananthapur - Meil Solar Power Plant',\n",
       "       'Andrha Lake Wind Farm', 'Anikkadavu Wind Farm',\n",
       "       'Arasinagundi Wind Farm', 'Askandra - DREPL Solar Power Plant',\n",
       "       'Askandra - Electromech Maritech Solar Power Plant',\n",
       "       'Askandra - Finehope Solar Power Plant',\n",
       "       'Askandra - Khaya Solar Power Plant',\n",
       "       'Askandra - Newton Solar Power Plant',\n",
       "       'Askandra - Saidham Solar Power Plant',\n",
       "       'Askandra - Vasavi Solar Power Plant', 'B. BRIDGE D.G', 'BADARPUR',\n",
       "       'BAGALKOT ICP', 'BAGLIHAR HEP', 'BAGLIHAR HEP-II', 'BAIRA SIUL',\n",
       "       'BAKRESWAR', 'BALCO TPP', 'BALIMELA', 'BALLARPUR BILT POWER',\n",
       "       'BAMANIA CEMENT', 'BANDAKHAR TPP', 'BANDEL', 'BANER',\n",
       "       'BANSAGAR (I)', 'BANSAGAR (II)', 'BANSAGAR (III)', 'BANSAGAR (IV)',\n",
       "       'BANSWARA CEMENT', 'BARADARHA TPP', 'BARAMURA', 'BARAUNI', 'BARGI',\n",
       "       'BARH STPP II', 'BARKHERA TPP', 'BARSINGAR LIGNITE',\n",
       "       'BASIN BRIDGE GT', 'BASPA', 'BASSI', 'BCPL Wind Farm',\n",
       "       'BEL Chikhalhol Wind Farm', 'BELA NAGPUR', 'BELGAUM UGAR',\n",
       "       'BELLAD-BAGEWADI', 'BELLARY DG', 'BELLARY HOTHUR', 'BELLARY JANKI',\n",
       "       'BELLARY TPS', 'BHADRA', 'BHADRAVATI MILL', 'BHAKRA',\n",
       "       'BHANDARA STEEL MILL', 'BHANDARA VARAM', 'BHANDARDHARA',\n",
       "       'BHATGARH', 'BHATSA', 'BHAVNAGAR TPP', 'BHAWANI KATTALAI -II',\n",
       "       'BHAWANI KATTALAI -III', 'BHAWANI KATTALAI BARRAGE',\n",
       "       'BHIGWAN MILL', 'BHILAI TPP', 'BHIRA', 'BHIRA TAIL RACE',\n",
       "       'BHIVPURI', 'BHUSAWAL', 'BILIYAKALAN PLANT', 'BINA REFINERY',\n",
       "       'BINA TPP', 'BINANI CEMENT PLANT', 'BINJKOTE', 'BINWA',\n",
       "       'BIRSINGHPUR', \"BOKARO A ''EXP''\", 'BOKARO B', 'BONGAIGAON TPP',\n",
       "       'BP Brahmanvel Wind Farm', 'BRAMHAPURAM DG', 'BSES Kerala CCGT',\n",
       "       'BUDGE BUDGE', 'BUDHIL', 'BUTIBORI PLANT', 'BUTIBORI TPP -II',\n",
       "       'Bamani Solar Power Plant', 'Bamanwali Solar Power Plant',\n",
       "       'Bannari Amman Spinning Mills Wind Power Project',\n",
       "       'Bap - GIS 1-2 Solar Power Plant', 'Bap - GIS 3 Solar Power Plant',\n",
       "       'Bap - OPG Solar Power Plant',\n",
       "       'Bap - Punj Lloyd Solar Power Plant',\n",
       "       'Bapodar - Hiraco Solar Power Plant',\n",
       "       'Bapodar - MBEDL Solar Power Plant',\n",
       "       'Bavadi Barsingha - Giriraj Solar Power Plant',\n",
       "       'Bavadi Barsingha - LEPL Solar Power Plant', 'Belagau Wind Farm',\n",
       "       'Belagwi Wind Turbines', 'Belgaum Gadag Wind Farm',\n",
       "       'Belgaum Wind farm', 'Bera Wind Farm',\n",
       "       'Bhadrada Solar Power Plant', 'Bhat Khedi Wind Farm',\n",
       "       'Bhatkota Solar Power Plant', 'Bitta Solar Power Plant',\n",
       "       'Boha Solar Power Plant', 'Bonada Solar Power Plant',\n",
       "       'CHAKABURA TPP', 'CHAMERA II', 'CHAMERA-I', 'CHAMERA-III',\n",
       "       'CHANDA CEMENT WORKS', 'CHANDERIA CEMENT WORKS',\n",
       "       'CHANDERIA SMELTER', 'CHANDRAPUR GUPTA', 'CHANDRAPUR MANIKGHAR',\n",
       "       'CHANDRAPURA', 'CHANDRAPUR_Coal', 'CHANJU-I', 'CHEMBUKADAVU-II',\n",
       "       'CHENANI I to III', 'CHHABRA TPS', 'CHIBRO (YAMUNA)', 'CHILLA',\n",
       "       'CHUTAK', 'CHUZACHEN', 'CORE GREEN SUGAR',\n",
       "       'Chandrapur Solar Power Plant', 'Charanka Solar Power Plant',\n",
       "       'Chhadavada Wind Farm', 'Chingerbandh Solar Power Plant', 'D.P.L.',\n",
       "       'DADRI (NCTPP)', 'DADRI GT', 'DAE RAJASTHAN', 'DAHANU FRESNEL',\n",
       "       'DAMODARAM SANJEEVAIAH', 'DANAPUR BMM', 'DAUND SUGAR',\n",
       "       'DAVANGERE MILL', 'DEHAR', 'DERANG', 'DGEN MEGA CCCP', 'DHAKRANI',\n",
       "       'DHALIPUR', 'DHANU', 'DHARIWAL INF TPP', 'DHAULI GANGA', 'DHOLPUR',\n",
       "       'DHUVARAN CCPP', 'DIGHE WORKS', 'DIKCHU', 'DIMBE', 'DLF',\n",
       "       'DNYANESHWAR MILL', 'DOLVI ISPAT', 'DONKARAYI', 'DOYANG',\n",
       "       'DUDH GANGA', 'DUGGAVATHI MILL', 'DULHASTI', 'DURG SPONGE IRON',\n",
       "       'DURGAPUR', 'DURGAPUR STEEL TPS', 'Dadri Solar Power Plant',\n",
       "       'Dandeli Mill', 'Davangere Wind Farm', 'Deh Solar Power Plant',\n",
       "       'Devgarh Wind Farm', 'Dhabla Sondhya Solar Power Plant',\n",
       "       'Dhanera Solar Power Plant', 'Dhank - Aravali Solar Power Plant',\n",
       "       'Dhursar', 'Diwakar', 'Dugar Solar Power Plant', 'E.G. CANAL',\n",
       "       'ELDARI', 'EMCO Sonurle Wind Farm', 'ESSAR GT IMP.',\n",
       "       'Enercon Babarzar Wind Farm', 'Enercon Chitradurga Wind Farm',\n",
       "       'Enercon Sonoshi Wind Farm', 'Essel Mining Wind Farm',\n",
       "       'FARAKKA STPS', 'F_BAD CCGT',\n",
       "       'Frost International Palankottai Wind Farm', 'G.I.P.C.L. GT',\n",
       "       'GACL Kutch Wind Farm', 'GADEPAN WORKS', 'GAJ',\n",
       "       'GAMA CCPP  Module - 1', 'GANDHAR GT', 'GANDHARBAL',\n",
       "       'GANDHI NAGAR', 'GANDHI SAGAR', 'GANGUWAL', 'GAUTAMI CCCP', 'GEPL',\n",
       "       'GFL Gudhepanchgani', 'GHANVI', 'GHAT PRABHA', 'GHATGHAR PSS',\n",
       "       'GHTP (LEH.MOH.)', 'GHUGUS LMEL', 'GIRI BATA', 'GIWPP Telagi',\n",
       "       'GMR WARORA TPP', 'GNDTP(BHATINDA)', 'GODAVARI GT',\n",
       "       'GOINDWAL SAHIB TPP', 'GRACE INDUSTRIES', 'GREL CCPP (RAJAMUNDRY)',\n",
       "       'GULBARGA CEMENT', 'GUMTI', 'Gadag Wind Farm',\n",
       "       'Gadna 1 Solar Power Plant', 'Gadna 2 Solar Power Plant',\n",
       "       'Gandhinagar Solar Power Plant', 'Garacharma Solar Power Plant',\n",
       "       'Godawari', 'Godelai Solar Power Plant',\n",
       "       'Gondri Solar Power Plant', 'Gorsar Wind Farm',\n",
       "       'Grewal Solar Power Plant', 'Gujurat Solar On',\n",
       "       'Gulabpura Solar Power Plant', 'Gwal Pahari Solar Power Plant',\n",
       "       'HALDIA', 'HAMPI', 'HAPURI MILL', 'HASDEOBANGO', 'HAVALGA SUGAR',\n",
       "       'HAZIRA CCCP', 'HAZIRA-GSECL', 'HINGOLI MILL', 'HIRAKUD I&II',\n",
       "       'HIRIYUR BIOMASS', 'HZL Gadag Wind Farm',\n",
       "       'HZL Nandurbar Maharashtra', 'HZL Palladum Wind Farm',\n",
       "       'HZL Parewar Wind Farm', 'HZL Samana Wind Farm', 'H_GANJ B',\n",
       "       'Hirewaddatti Wind Farm', 'Horti Solar Power Plant', 'I.B.VALLEY',\n",
       "       'I.P.GT', 'IDAMALAYAR', 'IDUKKI', 'IEPL  BELA TPP',\n",
       "       'IL&FS Kaladeh Wind Farm', 'IND BARATH TPP',\n",
       "       'INDIA POWER TPP(HALDIA  HIRANMAYE )', 'INDIRA SAGAR',\n",
       "       'INDRA GANDHI STPP', 'ITPCL TPP', 'Ingaleshwar Wind Farm',\n",
       "       'Isanpur Solar Power Plant', 'Itnal Solar Power Plant', 'J.SAGAR',\n",
       "       'JAISALMER GODAWARI', 'JALDHAKA I&II', 'JALLIPPA KAPURDI TPP',\n",
       "       'JAYKAYPURAM PLANT', 'JAYPEE BELA CEMENT', 'JAYPEE REWA CEMENT',\n",
       "       'JAYPEE SIDHI CEMENT', 'JEGURUPADU GT', 'JOG', 'JOJBERA',\n",
       "       'JORETHANG LOOP', 'JSW RATNAGIRI TPP',\n",
       "       'Jafrabad Solar Power Plant', 'Jamuria Solar Power Plant',\n",
       "       'Jangi Wind Farm', 'Jangi village wind farm', 'Jeloo Wind Farm',\n",
       "       'Jodiya Wind Farm', 'K.N. Ram Kaltek Wind Farm', 'KADAMPARI',\n",
       "       'KADANA', 'KADRA', 'KAHALGAON', 'KAIGA', 'KAKATIYA TPP', 'KAKKAD',\n",
       "       'KAKRAPARA', 'KALINADI', 'KALINADI SUPA', 'KALISINDH', 'KALLADA',\n",
       "       'KALLUR GRINDING', 'KAMAL SPONGE', 'KAMALANGA', 'KANHER',\n",
       "       'KARAD MILL', 'KARAIKAL', 'KARBI LANGPI', 'KARCHAM WANGTOO',\n",
       "       'KARGIL', 'KARUPPUR GT', 'KASAIPALLI', 'KASARGODE DG',\n",
       "       'KASHANG INTEGRATED', 'KASHIPUR CCPP', 'KASRAWAD FACTORY',\n",
       "       'KATGHORA TPP', 'KATHALGURI GT', 'KAWAI TPP', 'KAWAS GT',\n",
       "       'KAYAM KULAM GT', 'KCSF SANGUR', 'KHADAVASLA I&II',\n",
       "       'KHAMBERKHERA IPP', 'KHANDONG', 'KHARA', 'KHATIMA', 'KHODRI',\n",
       "       'KHOPOLI', 'KHOPOLI WORKS', 'KISHENGANGA', 'KM DODDI SUGAR',\n",
       "       'KODASALI', 'KODAYAR-I&II', 'KODERMA', 'KOJIKODE DG', 'KOLAGHAT',\n",
       "       'KOLDAM', 'KOLHAPUR HEMARUS', 'KOLHAPUR KAGAL', 'KOLHAPUR KUMBHI',\n",
       "       'KOLLEGAL SUGAR', 'KONASEEMA CCCP', 'KONDAPALLI GT', 'KOPILI',\n",
       "       'KOPPA SUGAR', 'KOPPAL HKMP', 'KORADI', 'KORBA STPS', 'KORBA-EAST',\n",
       "       'KORBA-WEST', 'KOSI', 'KOTA', 'KOTA COMPLEX', 'KOTESHWAR', 'KOTLA',\n",
       "       'KOVILKALAPPAL', 'KOYNA COMPLEX', 'KS Oils Chinnakuyili Wind Farm',\n",
       "       'KUDGI', 'KULHAL', 'KUNDAH I-V', 'KUNDANKULAM', 'KUNDARGI MILL',\n",
       "       'KUNDARKI TPP', 'KUTCH LIG.', 'KUTHUNGAL', 'KUTTALAM GT',\n",
       "       'KUTTIADI', 'KUTTIYADI Add ext', 'KVK Energy Solar Project',\n",
       "       'KYMORE', 'KYREDEMKULAI', 'K_GUDEM', 'K_GUDEM NEW', 'K_KHEDA II',\n",
       "       'Kaladonger Wind Farm', 'Kamuthi Solar Power Plant',\n",
       "       'Karmaria Solar Power Plant', 'Karur Textile Park Wind Farm',\n",
       "       'Kathauti 1 Solar Power Plant', 'Kathauti 2 Solar Power Plant',\n",
       "       'Katol - Citra Solar Power Plant',\n",
       "       'Katol - Sepset Solar Power Plant', 'Khadoda Solar Power Plant',\n",
       "       'Khandala Solar Power Plant',\n",
       "       'Khetusar - Northern Solar Power Plant',\n",
       "       'Khetusar - Suryauday Solar Power Plant',\n",
       "       'Khilchipur Solar Power Plant',\n",
       "       'Khirsara - Unity Solar Power Plant',\n",
       "       'Khirsara - Welspun Solar Power Plant', 'Khirwa Solar Power Plant',\n",
       "       'Khori Wind Farm', 'Kohinoor Wind Farm',\n",
       "       'Komal West Solar Power Plant', 'Kosa Wind Farm',\n",
       "       'Kottamangalam Wind Farm', 'Kottathara Village Wind Farm',\n",
       "       'Kudankulam', 'LAKHERI CEMENT PLANT', 'LAKWA GT', 'LALITPUR TPP',\n",
       "       'LARA', 'LARGI', 'LEIMAKHONG DG', 'LIGANAMAKKI', 'LIKIM RO',\n",
       "       'LITL Uthumalai', 'LNJP Bahla Basti Wind Farm', 'LODHIVALI',\n",
       "       'LOKMANGAL SUGAR ETHANOL', 'LOKTAK', 'LOWER JHELUM',\n",
       "       'LOWER JURALA', 'LOWER LAGYAP', 'LOWER METTUR', 'LOWER PERIYAR',\n",
       "       'LOWER SILERU', 'LTML Wind Energy Project in Tamil Nadu',\n",
       "       'LVS POWER DG', 'Lakhewali Solar Power Plant',\n",
       "       'Lakhmirwala Solar Power Plant', 'Lallian Kalan Solar Power Plant',\n",
       "       'Lalpur Wind Farm', 'Landewadi Wind Farm',\n",
       "       'Lathi Solar Power Plant', 'Liberty Oil Satara Wind Farm',\n",
       "       'M.A.P.P.', 'MACHKUND', 'MADHAVAMANTRI', 'MADHIKHEDA',\n",
       "       'MAHADEV PRASAD STPP', 'MAHAN TPP', 'MAHATMA GANDHI TPP',\n",
       "       'MAHATMA SUGAR', 'MAHI BAJAJ I&II', 'MAHUL REFINERY',\n",
       "       'MAIHAR CEMENT PLANT', 'MAITHON', 'MAITHON RB TPP', 'MALANA',\n",
       "       'MALLARPUR', 'MANERI BHALI', 'MANGALORE REFINERY', 'MANGAON CCPP',\n",
       "       'MANGLAM CEMENT', 'MANI DPH', 'MANIKDOH', 'MANIKGARH CEMENT',\n",
       "       'MANIYAR', 'MAQSOODPUR  IPP', 'MARATHA CEMENT PLANT', 'MARWA TPP',\n",
       "       'MATATILLA', 'MEJA STPP', 'MEJIA', 'MEJIA TPS EXT',\n",
       "       'MELAMARUTHUR (MUTHIARA)', 'METTUR', 'METTUR DAM',\n",
       "       'METTUR TPS EXT', 'MIHAN TPP', 'MOHAMAD PUR', 'MOHARA',\n",
       "       'MONARCHAK CCPP', 'MORDI PLANT', 'MOUDA STPS', 'MOYAGCHU', 'MOYAR',\n",
       "       'MRMPL Mudari Wind Farm', 'MSPL Wind Farm', 'MUDHOL CEMENT',\n",
       "       'MUKERIAN I -IV', 'MUL GRETA', 'MUMBAI BPCL', 'MUMBAI JINDAL',\n",
       "       'MUMBAI ONGC', 'MUNDRA TPP', 'MUNDRA UMPP', 'MUNIRABAD',\n",
       "       'MUNOLI DISTILLERY', 'MURBAD PLANT', 'MUZAFFARPUR', 'MYNTDU',\n",
       "       'Maloshi Wind Farm', 'Mandrup - Giriraj Solar Power Plant',\n",
       "       'Megha Solar Plant', 'Mirpur Kalan - Alianz Eco Solar Power Plant',\n",
       "       'Mirpur Kalan - Nexgen Solux Solar Power Plant',\n",
       "       'Mithapur Solar Power Plant', 'Mokal Wind Farm', 'Mokla Wind farm',\n",
       "       'Mulshi Solar Power Plant',\n",
       "       'Muradwala Dal Singh Solar Power Plant', 'N.A.P.S',\n",
       "       'NABI NAGAR TPP', 'NAGARJUNA SAGAR', 'NAGARJUNA SAGAR   TPD',\n",
       "       'NAGDA GRASIM', 'NAGOTHANE COMPLEX', 'NAGPUR GMT', 'NAGPUR MILL',\n",
       "       'NAGPUR SPONGE IRON', 'NAMRUP GT', 'NARASINGPUR', 'NARAYANPUR',\n",
       "       'NARIMANGLAM', 'NASIK', 'NASIK SINNAR', 'NASIK TPP  PH 1',\n",
       "       'NATHPA JHAKRI', 'NAWAPARA', 'NEPANAGAR MILL', 'NEW UMTRU',\n",
       "       'NEYVELI FST EXT', 'NEYVELI ST I', 'NEYVELI ST II',\n",
       "       'NEYVELI TPS EXP -II', 'NEYVELI TPS(Z)', 'NIGRI',\n",
       "       'NIMBAHERA JK CEMENT', 'NIMOO BAZGO', 'NIRGAJANI(Ganga Canal)',\n",
       "       'NITIN PLANT', 'NIWARI TPP', 'NIZAM SAGAR',\n",
       "       'NMDC Anehalu Wind Farm', 'NORTH CHENNAI',\n",
       "       'NORTH CHENNAI EXTENSION', 'NSL Wind Farm', 'NURANANG',\n",
       "       'N_SAGAR LBC', 'N_SAGAR RBC', 'Nagda Hills Wind Energy project',\n",
       "       'Nagercoli Wind Farm', 'Naini Solar Power Plant',\n",
       "       'Nallakonda Wind Farm', 'Nargund Wind Farm',\n",
       "       'Nokh - GGEL Solar Power Plant',\n",
       "       'Nokh - Precision Technik Solar Power Plant',\n",
       "       'Nokha Daiya Solar Power Plant', 'NuPower Tirunelveli Wind Farm',\n",
       "       'OBRA', 'OBRA-A', 'OMKARESHWAR', 'ONGC Jerat Wind Farm',\n",
       "       'ONGC Kutch Wind Farm', 'P.NALLUR CCGT', 'PAGUTHAN', 'PAINAMPURAM',\n",
       "       'PAITHON', 'PALATANA CCPP', 'PALLIVASAL', 'PAMPORE GT', 'PANCHET',\n",
       "       'PANIPAT', 'PANKI', 'PANNIAR', 'PAPANASAM', 'PARAS', 'PARBATI-III',\n",
       "       'PARBHANI GANGAKHED', 'PARICHA', 'PARLI', 'PARSEN_S VALLE',\n",
       "       'PATALGANGA', 'PATHADI TPS PH -I', 'PATHRI', 'PAWANA',\n",
       "       'PEDDAPURAM CCGT(Samalkot)', 'PENCH', 'PENNA AHOBELAM', 'PERIYAR',\n",
       "       'PIPAVAV CCCP', 'POCHAMPAD', 'PONG', 'PORINGALKUTTU',\n",
       "       'PORINGALKUTTU L', 'PRAGATI CCCP -III', 'PRAGATI CCGT',\n",
       "       'PRIYADARSHNI JURALA', 'PRYAGRAJ (BARA) TPP', 'PULICHINTALA',\n",
       "       'PUNE MILL', 'PURULIA PSS', 'PYKARA', 'PYKARA ALIMATE',\n",
       "       'Panandhro Solar Power Plant', 'Patan Taluka Wind Farm',\n",
       "       'Patnaik Hatti Wind Farm', 'Patnaik Jamnagar Wind Farm',\n",
       "       'Patodi Solar Power Plant', 'Phagi Solar Power Plant',\n",
       "       'Pokhran FVE Solar Power Plant', 'Pokhran THE Solar Power Plant',\n",
       "       'Powerica Jangi Vandjiya', 'Powerica Kutch Wind Farm',\n",
       "       'Powerica Theni Wind Farm', 'Powerica Tirunelveli Wind Farm',\n",
       "       'Pratapgarh Solar Power Plant', 'Precious Solar Power Plant',\n",
       "       'Punjawa - Sikh Wala Solar Power Plant', 'R.A.P.S.', 'R.P.SAGAR',\n",
       "       'RABRIYAWAS CEMENT', 'RADHANAGRI', 'RAGHUNATHPUR TPP PH-I',\n",
       "       'RAICHUR', 'RAICHUR STEEL', 'RAIGARH TPP', 'RAIKHEDA',\n",
       "       'RAJASHREE CEMENT', 'RAJGHAT', 'RAJGHAT (MP)',\n",
       "       'RAJIV GANDHI  TPS HISAR', 'RAJPURA DARIBA MINE', 'RAJPURA TPP',\n",
       "       'RAMANAGARAM MILL', 'RAMGANGA', 'RAMGARH GT', 'RAMMAM', 'RAMPUR',\n",
       "       'RANGANADI', 'RANGIT-III', 'RANJANI MILL', 'RANJIT SAGAR',\n",
       "       'RAS CEMENT PLANT', 'RATIJA TPP', 'RATNAGIRI GAS', 'RAYAL SEEMA',\n",
       "       'RELIANCE ENERGY', 'RENGALI', 'RIHAND', 'RIHAND_Hydro',\n",
       "       'RITHALA CCCP', 'RMC MANGROL', 'ROKHIA GT', 'ROPAR',\n",
       "       'ROSA TPP PH - 1', 'RSMNL Wind Farm', 'R_GUNDEM - B',\n",
       "       'R_GUNDEM STPS', 'Rajgarh - NTPC Solar Power Plant',\n",
       "       'Rajgarh - Ujaas Solar Power Plant', 'Raksa Solar Power Plant',\n",
       "       'Ram Tirath Jaga Solar Power Plant',\n",
       "       'Ramagundam Solar Power Plant', 'Rapar Khokhara Solar Power Plant',\n",
       "       'Rasulpur Solar Power Plant', 'Ratedi Mondri Wind Farm',\n",
       "       'Ravra - IOC Solar Power Plant', 'Ravra - NWEPL Solar Power Plant',\n",
       "       'Ravra - SEI Solar Power Plant',\n",
       "       'Ravra - Welspun Solar Power Plant',\n",
       "       'Relaxo Footwear Kui Inda Wind Farm',\n",
       "       'Roaring 40s Wind Farms (Khandke) Private Limited - Phase II',\n",
       "       'Rojhani Solar Power Plant', 'Rucha Soya Wind Farm',\n",
       "       'Ruchi Soya Palsodi Wind Farm', 'S.SAROVAR CHPH', 'S.SAROVAR RBPH',\n",
       "       'SABARIGIRI', 'SAGARDIGHI TPP', 'SAHAKAR SHIROMANI', 'SAINJ',\n",
       "       'SALAL I & II', 'SALAYA TPP', 'SALORA', 'SAMALPATTI DG',\n",
       "       'SAMAYANALLUR DG', 'SAMEERWADI MILL', 'SANGLI KRANTI',\n",
       "       'SANGLI MIRAJ BIOMASS', 'SANGLI VASANTDADA', 'SANJAY BHABA',\n",
       "       'SANJAY GANDHI', 'SANKESHWAR MILL', 'SANTALDIH', 'SARKARPATHY',\n",
       "       'SASAN UMPP', 'SATNA CEMENT PLANT', 'SATPURA', 'SBT SUGAR',\n",
       "       'SEIONI TPP', 'SEMBCORP GAYATRI', 'SENGULAM', 'SERVALAR',\n",
       "       'SEWA-II', 'SEWA-III', 'SHAHPUR', 'SHANAN', 'SHARAVATHY',\n",
       "       'SHARAVATHY TAIL RACE (Gerusupa)', 'SHIMSAPURA', 'SHIROL MILL',\n",
       "       'SHIRPUR', 'SHIVAPURA', 'SHOLAYAR', 'SHOLAYAR I&II',\n",
       "       'SHREE MEGA POWER', 'SHRI MALAPRABHA', 'SHRI SHANKAR',\n",
       "       'SHRIRAM RAYONS PLANT', 'SIIL Jaibhim Wind Farm', 'SIKKA REP.',\n",
       "       'SIMHADRI', 'SIMHAPURI TPP', 'SINGARENI TPP', 'SINGRAULI STPS',\n",
       "       'SINGUR', 'SIPAT STPS', 'SITAPURAM POWER LIMITED', 'SIVASAMUNDRUM',\n",
       "       'SOLAPUR STPP', 'SONAI MILL', 'SONE EAST CANAL', 'SONE WEST CANAL',\n",
       "       'SOUTHERN REPL.', 'SRINAGAR', 'SRISAILAM', 'SRISAILAM LBPH',\n",
       "       'STAKNA', 'STERLITE TPP', 'SUBERNREKHA I&II', 'SUGEN CCCP',\n",
       "       'SURAT GARH', 'SURAT LIG.', 'SURATGARH', 'SURULIYAR', 'SURYA',\n",
       "       'SVPL', 'SWASTIK KORBA', 'SWPPL Madhavakurichi',\n",
       "       'SWPPL Manurpalayam', 'SWPPL Vadakkupanavadali',\n",
       "       'Sadeipali - ASPL Solar Power Plant',\n",
       "       'Sadeipali - REHPL Solar Power Plant', 'Sai Sulphonates Wind Mill',\n",
       "       'Sakri 1A Solar Power Plant', 'Sakri 1B Solar Power Plant',\n",
       "       'Sangatpura Solar Power Plant', 'Satara Wind Farm',\n",
       "       'Shiloj Solar Power Plant', 'Shirsoli Solar Power Plant',\n",
       "       'Shivasamundra Solar Power Plant',\n",
       "       'Shivlakha - Backbone Solar Power Plant',\n",
       "       'Shivlakha - CPEC Solar Power Plant',\n",
       "       'Shivlakha - Konark Solar Power Plant', 'Shree Nashik Wind Farm',\n",
       "       'Shree Sangli Wind Farm', 'Shree Southern Wind Farm',\n",
       "       'Shri Singaji MALWA TPP', 'Singrauli Solar Power Plant',\n",
       "       'Sivaganga Solar Power Plant', 'Sivalaperi Wind Farm',\n",
       "       'Solitaire Solar Power Plant', 'Sonu Wind Farm',\n",
       "       'Sterling Agro Akal Wind Farm', 'Sterling Agro Mokla Wind Farm',\n",
       "       'Sterling Karnataka site', 'Sterling Madhya Pradesh site',\n",
       "       'Sumilon Shikarpur Wind Farm', 'Sumilon Vershamedi Wind Farm',\n",
       "       'Supe Solar Power Plant', 'Surajbari Creek Wind Farm', 'T.B. DAM',\n",
       "       'TADALI', 'TADALI SPONGE IRON', 'TAGO', 'TALCHER', 'TALCHER STPS',\n",
       "       'TALWANDI SABO', 'TAMNAR TPP', 'TANAKPUR', 'TANDA', 'TANIR BAVI',\n",
       "       'TARAPUR', 'TASHIDING', 'TAWA', 'TEESTA  I-III', 'TEESTA -V',\n",
       "       'TEESTA LOW DAM -IV', 'TEESTA LOW DAM-III', 'TEESTA-III',\n",
       "       'TEHRI ST -1', 'TENUGHAT', 'THAL WORKS', 'THAMMINAPATNAM TPP',\n",
       "       'THANE PLANT', 'THIROT', 'TILLARI', 'TILLAYA', 'TIRORA TPP',\n",
       "       'TITAGARH', 'TORANGALLU EXT', 'TORANGALLU IMP', 'TORR POWER SAB.',\n",
       "       'TROMBAY', 'TROMBAY GT', 'TROMBAY WORKS', 'TROMBAY_Coal',\n",
       "       'TROMBAY_Oil', 'TUIRIAL', 'TUNGABHADRA SUGAR', 'TUTICORIN',\n",
       "       'TUTICORIN JV', 'TUTICORIN- IND BARATH', 'TVS Kunnur Wind Farm',\n",
       "       'TVS Tirunelveli Wind Farm', 'TVS Virali Wind Farm',\n",
       "       'Tadas wind farm', 'Talcher Kaniha Solar Power Plant',\n",
       "       'Tamilnadu Wind Farm',\n",
       "       'Tata BP - Electronics City Solar Panel Plant',\n",
       "       'Tata Power Gadag Plains Wind Farm', 'Tata Wind Farm',\n",
       "       'Teona Pujarian Solar Power Plant', 'Theni Wind Farm',\n",
       "       'Thimmapuram Wind Farm', 'Tinwari - MB Solar Power Plant',\n",
       "       'Tiruppur', 'Tiruppur 2', 'Torrent Gujurat Wind Farm',\n",
       "       'U.B.D.C. ST.-I& II', 'U.ROGNICHU', 'UCHPINDA TPP', 'UDUPI TPP',\n",
       "       'UJJAINI', 'UKAI LBC', 'UKAI_Coal', 'UKAI_Hydro', 'UMIAM I II &IV',\n",
       "       'UMTRU (NEW)', 'UNCHAHAR', 'UNO SUGEN', 'UPL Dharapuram Wind Farm',\n",
       "       'UPPAR INDRAVATI', 'UPPER KOLAB', 'UPPER SILERU I&II',\n",
       "       'UPPER SINDH I& II', 'URAN GT', 'URAN ONGC', 'URI', 'URI -II',\n",
       "       'URUMI', 'UTRAN CCCP EXT', 'UTRAULA TPP', 'Udumalpet Wind Farm',\n",
       "       'VAIGAI DAM', 'VAITARNA', 'VALANTHARVI GT', 'VALLUR ntpc/ntecl',\n",
       "       'VALUTHUR GT', 'VARAHI', 'VARDHAM BUDNI', 'VARDHAM SATLAPUR',\n",
       "       'VASAVADATTA CEMENT', 'VEMAGIRI CCCP', 'VENUNAGAR SUGAR',\n",
       "       'VIJAIPUR WORKS', 'VIJAYWADA', 'VIJAYWADA TPP-IV', 'VIJESWARAM GT',\n",
       "       'VIKRAM CEMENT', 'VINDH_CHAL STPS', 'VIR', 'VISHNU PRAYAG',\n",
       "       'VIZAG TPP', 'VRL Wind Farm', 'Vaayu Ashti Wind Farm',\n",
       "       'Vankuswade Wind Farm', 'Vastan Solar Power Plant',\n",
       "       'WADI CEMENT PLANT', 'WANAKBORI',\n",
       "       'WARDHA WARORA(Sai Wardha Power)', 'WARDHA WORKS', 'WARNA',\n",
       "       'WY.CANAL A -D', 'Wadgam Solar Power Plant',\n",
       "       'Warora Solar Power Plant', 'Weizzmann Forex Idukki Wind Farm',\n",
       "       'Wind power project by Riddhi Siddhi Gluco Biols Limited (RSGBL)',\n",
       "       'Wind power project in Rajasthan', 'YAMUNANAGAR TPP',\n",
       "       'YASHWANTRAO MOHITE', 'YELHANKA (DG)', 'YERMARUS TPP',\n",
       "       'Yelesandra Solar Power Plant', 'Yelisirur wind power project',\n",
       "       'ZAWAR MINES', 'iEnergy Theni Wind Farm'], dtype=object)"
      ]
     },
     "execution_count": 17,
     "metadata": {},
     "output_type": "execute_result"
    }
   ],
   "source": [
    "df['name'].unique() #check the unique values in column"
   ]
  },
  {
   "cell_type": "code",
   "execution_count": 18,
   "id": "ac2a328a",
   "metadata": {},
   "outputs": [
    {
     "data": {
      "text/plain": [
       "TARAPUR                              1\n",
       "Kohinoor Wind Farm                   1\n",
       "GACL Kutch Wind Farm                 1\n",
       "TVS Tirunelveli Wind Farm            1\n",
       "BAKRESWAR                            1\n",
       "                                    ..\n",
       "Dhank - Aravali Solar Power Plant    1\n",
       "CHENANI I to III                     1\n",
       "BANER                                1\n",
       "KISHENGANGA                          1\n",
       "NIMBAHERA JK CEMENT                  1\n",
       "Name: name, Length: 908, dtype: int64"
      ]
     },
     "execution_count": 18,
     "metadata": {},
     "output_type": "execute_result"
    }
   ],
   "source": [
    "df['name'].value_counts() #check the counts of unique value"
   ]
  },
  {
   "cell_type": "code",
   "execution_count": 19,
   "id": "6c453042",
   "metadata": {},
   "outputs": [
    {
     "data": {
      "text/plain": [
       "0"
      ]
     },
     "execution_count": 19,
     "metadata": {},
     "output_type": "execute_result"
    }
   ],
   "source": [
    "df['name'].duplicated().sum() #check if there is any duplicate data or not."
   ]
  },
  {
   "cell_type": "code",
   "execution_count": 20,
   "id": "c0355ee9",
   "metadata": {},
   "outputs": [
    {
     "data": {
      "text/plain": [
       "name                          capacity_mw\n",
       "ACME Solar Tower              2.5            1\n",
       "ADITYA CEMENT WORKS           98.0           1\n",
       "AES Saurashtra Windfarms      39.2           1\n",
       "AGARTALA GT                   135.0          1\n",
       "AKALTARA TPP                  1800.0         1\n",
       "                                            ..\n",
       "YERMARUS TPP                  1600.0         1\n",
       "Yelesandra Solar Power Plant  3.0            1\n",
       "Yelisirur wind power project  25.5           1\n",
       "ZAWAR MINES                   80.0           1\n",
       "iEnergy Theni Wind Farm       16.5           1\n",
       "Name: capacity_mw, Length: 908, dtype: int64"
      ]
     },
     "execution_count": 20,
     "metadata": {},
     "output_type": "execute_result"
    }
   ],
   "source": [
    "df.groupby('name')['capacity_mw'].value_counts() #check the relationship between column and label1"
   ]
  },
  {
   "cell_type": "code",
   "execution_count": 21,
   "id": "627fbf1b",
   "metadata": {},
   "outputs": [
    {
     "data": {
      "text/plain": [
       "name                          primary_fuel\n",
       "ACME Solar Tower              Solar           1\n",
       "ADITYA CEMENT WORKS           Coal            1\n",
       "AES Saurashtra Windfarms      Wind            1\n",
       "AGARTALA GT                   Gas             1\n",
       "AKALTARA TPP                  Coal            1\n",
       "                                             ..\n",
       "YERMARUS TPP                  Coal            1\n",
       "Yelesandra Solar Power Plant  Solar           1\n",
       "Yelisirur wind power project  Wind            1\n",
       "ZAWAR MINES                   Coal            1\n",
       "iEnergy Theni Wind Farm       Wind            1\n",
       "Name: primary_fuel, Length: 908, dtype: int64"
      ]
     },
     "execution_count": 21,
     "metadata": {},
     "output_type": "execute_result"
    }
   ],
   "source": [
    "df.groupby('name')['primary_fuel'].value_counts() #check the relationship between column and label2"
   ]
  },
  {
   "cell_type": "code",
   "execution_count": 22,
   "id": "098e504b",
   "metadata": {},
   "outputs": [
    {
     "data": {
      "text/plain": [
       "Coal       259\n",
       "Hydro      250\n",
       "Solar      127\n",
       "Wind       123\n",
       "Gas         69\n",
       "Biomass     50\n",
       "Oil         21\n",
       "Nuclear      9\n",
       "Name: primary_fuel, dtype: int64"
      ]
     },
     "execution_count": 22,
     "metadata": {},
     "output_type": "execute_result"
    }
   ],
   "source": [
    "df['primary_fuel'].value_counts() #check the counts of unique value\n",
    "#We can see Coal based power plants are more in number"
   ]
  },
  {
   "cell_type": "code",
   "execution_count": 23,
   "id": "a879a451",
   "metadata": {},
   "outputs": [
    {
     "data": {
      "text/plain": [
       "5.0       39\n",
       "10.0      22\n",
       "600.0     21\n",
       "15.0      20\n",
       "1200.0    19\n",
       "          ..\n",
       "645.0      1\n",
       "1188.0     1\n",
       "1720.0     1\n",
       "62.4       1\n",
       "816.4      1\n",
       "Name: capacity_mw, Length: 365, dtype: int64"
      ]
     },
     "execution_count": 23,
     "metadata": {},
     "output_type": "execute_result"
    }
   ],
   "source": [
    "df['capacity_mw'].value_counts().sort_values(ascending=False)#check the counts of unique value\n",
    "#We can see, Powerplants have 5mw capacity are more in numbers "
   ]
  },
  {
   "cell_type": "code",
   "execution_count": 24,
   "id": "30ac47b0",
   "metadata": {},
   "outputs": [
    {
     "data": {
      "text/plain": [
       "4760.0     1\n",
       "4620.0     1\n",
       "4000.0     1\n",
       "3960.0     1\n",
       "3300.0     1\n",
       "          ..\n",
       "1.8        1\n",
       "1.7        2\n",
       "1.5        3\n",
       "1.0       18\n",
       "0.0        1\n",
       "Name: capacity_mw, Length: 365, dtype: int64"
      ]
     },
     "execution_count": 24,
     "metadata": {},
     "output_type": "execute_result"
    }
   ],
   "source": [
    "df['capacity_mw'].value_counts().sort_index(ascending=False)#check the counts of unique value\n",
    "#the highest capacity powerplant is 4760.0mw and it is only one in count"
   ]
  },
  {
   "cell_type": "code",
   "execution_count": 25,
   "id": "e8973ff0",
   "metadata": {},
   "outputs": [
    {
     "data": {
      "text/plain": [
       "capacity_mw  primary_fuel\n",
       "0.00         Solar            1\n",
       "1.00         Solar           17\n",
       "             Wind             1\n",
       "1.50         Wind             3\n",
       "1.70         Wind             2\n",
       "1.80         Solar            1\n",
       "2.00         Solar            6\n",
       "2.10         Solar            2\n",
       "2.25         Wind             1\n",
       "2.40         Wind             1\n",
       "2.50         Solar            1\n",
       "3.00         Solar            6\n",
       "             Wind             2\n",
       "3.30         Hydro            1\n",
       "3.60         Wind             3\n",
       "3.75         Hydro            3\n",
       "4.00         Hydro            5\n",
       "             Wind             1\n",
       "4.20         Solar            1\n",
       "4.25         Wind             1\n",
       "4.50         Hydro            3\n",
       "4.80         Hydro            1\n",
       "5.00         Hydro            3\n",
       "             Solar           35\n",
       "             Wind             1\n",
       "Name: primary_fuel, dtype: int64"
      ]
     },
     "execution_count": 25,
     "metadata": {},
     "output_type": "execute_result"
    }
   ],
   "source": [
    "df.groupby('capacity_mw')['primary_fuel'].value_counts().sort_index(ascending=True).head(25)\n",
    "#Check the relationship between both the label\n",
    "#We can see, 5.00mw capacity powerplant are 39 in numbers\n",
    "#3 for hydro, 35 solar, 1 wind"
   ]
  },
  {
   "cell_type": "code",
   "execution_count": 26,
   "id": "65ae0ebd",
   "metadata": {},
   "outputs": [
    {
     "data": {
      "text/plain": [
       "capacity_mw  primary_fuel\n",
       "4760.0       Coal            1\n",
       "4620.0       Coal            1\n",
       "4000.0       Coal            1\n",
       "3960.0       Coal            1\n",
       "3300.0       Coal            1\n",
       "Name: primary_fuel, dtype: int64"
      ]
     },
     "execution_count": 26,
     "metadata": {},
     "output_type": "execute_result"
    }
   ],
   "source": [
    "df.groupby('capacity_mw')['primary_fuel'].value_counts().sort_index(ascending=False).head(5)\n",
    "#Check the relationship between both the label\n",
    "#Now, we can see, highest capacity powerplant is coal based"
   ]
  },
  {
   "cell_type": "code",
   "execution_count": 27,
   "id": "f1ddd138",
   "metadata": {},
   "outputs": [
    {
     "data": {
      "text/plain": [
       "capacity_mw  name           \n",
       "4760.0       VINDH_CHAL STPS    1\n",
       "4620.0       MUNDRA TPP         1\n",
       "4000.0       MUNDRA UMPP        1\n",
       "3960.0       SASAN UMPP         1\n",
       "3300.0       TIRORA TPP         1\n",
       "Name: name, dtype: int64"
      ]
     },
     "execution_count": 27,
     "metadata": {},
     "output_type": "execute_result"
    }
   ],
   "source": [
    "df.groupby('capacity_mw')['name'].value_counts().sort_index(ascending=False).head(5)\n",
    "#Check the relationship between both the label\n",
    "#We can see that the highest capacity powerplant is VINDH_CHAL STPS"
   ]
  },
  {
   "cell_type": "code",
   "execution_count": 28,
   "id": "531091b6",
   "metadata": {},
   "outputs": [
    {
     "data": {
      "text/plain": [
       "capacity_mw  name                                        \n",
       "0.0          Tata BP - Electronics City Solar Panel Plant    1\n",
       "1.0          Amarsar Solar Power Plant                       1\n",
       "             Bamani Solar Power Plant                        1\n",
       "             Bamanwali Solar Power Plant                     1\n",
       "             Belagau Wind Farm                               1\n",
       "             Bonada Solar Power Plant                        1\n",
       "             Dugar Solar Power Plant                         1\n",
       "             Gandhinagar Solar Power Plant                   1\n",
       "             Godelai Solar Power Plant                       1\n",
       "             Isanpur Solar Power Plant                       1\n",
       "Name: name, dtype: int64"
      ]
     },
     "execution_count": 28,
     "metadata": {},
     "output_type": "execute_result"
    }
   ],
   "source": [
    "df.groupby('capacity_mw')['name'].value_counts().sort_index(ascending=True).head(10)\n",
    "#Check the relationship between both the label\n",
    "#We can see that the lowest capacity powerplant is Tata BP - Electronics City Solar Panel Plant"
   ]
  },
  {
   "cell_type": "code",
   "execution_count": 29,
   "id": "e16cb021",
   "metadata": {},
   "outputs": [
    {
     "name": "stdout",
     "output_type": "stream",
     "text": [
      "Actual shape of our Dataset now :--------> (908, 23)\n"
     ]
    }
   ],
   "source": [
    "#check the shape of our dataset\n",
    "print('Actual shape of our Dataset now :-------->', df.shape)"
   ]
  },
  {
   "cell_type": "markdown",
   "id": "43b69db7",
   "metadata": {},
   "source": [
    "Observation:\n",
    "1. No Duplicate names found, all names are unique\n",
    "2. Coal based power plant is more in numbers\n",
    "3. 5.0 mw capacity powerplants are more in numbers\n",
    "4. In 5.0mw, 3 are Hydro Powerplants, 35 are Solar Powerplants, 1 is Wind Powerplant\n",
    "5. Highest capacity is 4760.0mw and it is coal based powerplant\n",
    "6. Lowest capacities is 0.0mw,1.0mw and mostly solar powerplant \n",
    "7. Highest capacity powerplant is 'VINDH_CHAL STPS'\n",
    "8. Lowest capacity powerplant is 'Tata BP - Electronics City Solar Panel Plant'"
   ]
  },
  {
   "cell_type": "markdown",
   "id": "3ebb5e84",
   "metadata": {},
   "source": [
    "# Column4: latitude"
   ]
  },
  {
   "cell_type": "code",
   "execution_count": 30,
   "id": "58167e78",
   "metadata": {},
   "outputs": [
    {
     "data": {
      "text/plain": [
       "array([28.1839, 24.7663, 21.9038, 23.8712, 21.9603, 23.7689, 10.4547,\n",
       "       32.2258, 16.33  , 23.1642, 21.0782, 31.2717, 24.2007, 31.2412,\n",
       "           nan, 24.201 , 25.1797, 23.0666, 23.0655, 18.0845, 19.5867,\n",
       "       16.7708, 26.6282, 21.7438, 19.7881, 28.3615, 14.5751, 14.9455,\n",
       "       18.858 , 10.7245, 14.4791, 27.3473, 27.36  , 27.3632, 27.3661,\n",
       "       27.3537, 27.3504, 27.3566, 13.0977, 28.506 , 16.2804, 33.1815,\n",
       "       32.8063, 23.8285, 18.1396, 19.8601, 24.6929, 22.3421, 22.9956,\n",
       "       32.1686, 24.1917, 24.223 , 23.6026, 21.9114, 23.807 , 25.3999,\n",
       "       22.9417, 25.4865, 28.4723, 27.8453, 13.1021, 31.4306, 31.9546,\n",
       "       17.3816, 20.805 , 16.6505, 16.2774, 15.1831, 15.1777, 15.1932,\n",
       "       13.7008, 13.8274, 31.4107, 21.232 , 21.0813, 19.5555, 18.1012,\n",
       "       19.5132, 21.5837, 11.331 , 11.2428, 11.3842, 18.2416, 21.184 ,\n",
       "       18.455 , 18.4426, 18.9368, 21.0483, 25.2267, 24.2508, 23.3172,\n",
       "       24.8263, 22.0103, 32.1121, 23.3256, 23.6783, 23.785 , 26.5145,\n",
       "       21.2083,  9.9975, 10.074 , 22.4673, 32.4584, 20.9225, 20.9286,\n",
       "       18.0791, 28.3683, 10.7389, 27.3827, 27.3893, 27.3525, 27.3851,\n",
       "       21.5967, 21.6024, 27.4387, 27.4523, 26.7272, 16.4961, 15.4038,\n",
       "       15.9349, 23.0544, 23.6688, 23.6756, 23.5594, 23.2579, 29.8504,\n",
       "       26.5249, 22.3932, 32.4734, 32.5966, 32.4733, 19.9213, 24.9293,\n",
       "       24.9637, 19.93  , 19.7218, 23.7376, 20.0063, 32.7369, 11.4645,\n",
       "       32.9578, 24.6217, 30.5559, 29.976 , 34.4903, 27.2093, 16.5471,\n",
       "       20.0209, 23.907 , 23.2443, 20.6729, 23.5211, 28.603 , 28.5932,\n",
       "       24.8747, 26.7803, 14.3444, 15.1707, 18.4271, 14.3277, 31.4133,\n",
       "       21.1238, 21.6923, 30.4561, 30.4354, 19.9545, 20.0102, 29.8783,\n",
       "       26.7024, 22.2396, 19.1896, 27.4028, 24.8271, 19.4496, 18.69  ,\n",
       "       17.8994, 26.2325, 16.3537, 14.6284, 33.3691, 21.1878, 23.531 ,\n",
       "       23.58  , 28.5787, 15.2529, 27.9253, 23.964 , 23.8267, 24.5216,\n",
       "       21.7766, 26.7846, 27.7355, 26.2776, 19.7197, 16.8265, 21.111 ,\n",
       "       22.1421, 13.7276, 19.6274, 24.772 , 28.3452,  9.1269, 22.3758,\n",
       "       23.0272, 25.1521, 32.2417, 29.1411, 21.8242, 34.2236, 25.2502,\n",
       "       24.6997, 31.268 , 17.0386, 19.9324, 17.1309, 31.5425, 16.1424,\n",
       "       19.5334, 30.2666, 19.9306, 30.5307, 14.6534, 20.2723, 30.2335,\n",
       "       17.0587, 31.3841, 20.0058, 16.9248, 17.1084, 23.4263, 15.3418,\n",
       "       27.4269, 27.4296, 23.1534, 11.6117, 27.6003, 26.6532, 18.3055,\n",
       "       21.3131, 30.4613, 25.86  , 28.4272, 22.1042, 15.2615, 16.6038,\n",
       "       22.604 , 17.1202, 22.3256, 21.1652, 19.2829, 21.5337, 13.9808,\n",
       "       15.3654, 21.3027, 10.8674, 27.2492, 22.0335, 28.0179, 15.1997,\n",
       "       17.9054, 21.6872, 28.6194, 10.207 ,  9.8503, 20.8102, 22.8396,\n",
       "       21.658 , 22.0774, 22.2791, 28.4849, 11.5214, 16.6208, 22.4809,\n",
       "       16.4018, 25.0369, 27.601 , 27.0297, 25.8888, 24.6963, 24.5286,\n",
       "       24.565 , 24.3272, 16.9312, 14.2273, 22.7554, 27.1598, 17.297 ,\n",
       "       20.8772, 23.7162, 23.2409, 23.208 , 26.5255, 22.7532, 21.2261,\n",
       "       10.4104, 23.3045, 14.8901, 25.2349, 14.865 , 18.3835,  9.3275,\n",
       "       21.2384, 15.2761, 24.5295,  8.9553, 17.3821, 24.6266, 20.87  ,\n",
       "       17.7384, 17.1657, 10.9325, 25.9552, 31.5156, 34.5605, 11.1208,\n",
       "       22.389 , 12.4837, 22.1335, 27.341 , 24.7773, 21.175 ,  9.2404,\n",
       "       14.7753, 18.3803, 28.017 , 25.5177, 30.3508, 28.9232, 30.5085,\n",
       "       18.7817, 18.7712, 34.649 , 12.4806, 14.955 ,  8.5319, 24.3858,\n",
       "       11.2054, 22.4157, 31.382 , 16.0327, 16.589 , 16.689 , 12.1056,\n",
       "       16.7346, 16.64  , 12.702 , 15.316 , 21.2414, 22.3881, 22.3828,\n",
       "       22.4118, 26.497 , 25.1712, 25.1386, 30.2594, 10.5415, 17.4599,\n",
       "       10.9328, 16.4994, 30.4289, 11.2861,  8.1691, 16.2651, 27.0786,\n",
       "       23.6626,  9.9356, 11.076 , 11.5484, 24.0529, 25.7848, 17.6219,\n",
       "       21.2818, 27.0931,  9.3381, 23.35  ,  8.3091, 27.224 , 27.2089,\n",
       "       21.317 , 21.3174, 23.443 , 18.6051, 27.3225, 27.3247, 24.0682,\n",
       "       23.3578, 23.3618, 27.301 , 21.167 , 26.6797, 11.0118, 23.3183,\n",
       "       10.6558, 11.0951,  8.1689, 25.6732, 27.0221, 24.7971, 21.757 ,\n",
       "       31.7196, 14.1704,  8.9969, 26.5114, 18.9002, 17.4462, 24.587 ,\n",
       "       34.2189, 16.3125, 11.6425,  9.9624, 17.8608,  9.087 , 30.4368,\n",
       "       29.8509, 31.2496, 22.1694, 27.0321, 17.8613, 12.5571, 18.5323,\n",
       "       12.2135, 25.5623, 22.8395, 24.0077, 28.49  , 20.8558, 23.5443,\n",
       "       19.0162, 24.2021, 23.7872, 23.8209, 32.0041, 15.3773, 30.7294,\n",
       "       12.9821, 18.3879, 24.7176, 13.6763, 19.2345, 19.7235,  9.3294,\n",
       "       19.703 , 22.0708, 25.1001, 25.1447, 23.4639,  8.9159, 11.7696,\n",
       "       11.8014, 21.0377, 23.438 , 23.5496, 21.1797, 11.6137, 26.8051,\n",
       "       15.1579, 16.2017, 31.9553, 20.0805, 19.016 , 18.5309, 18.9988,\n",
       "       22.823 , 22.8158, 15.2666, 15.8555, 19.261 , 26.1953, 25.2354,\n",
       "       17.5727, 17.4999, 29.7303, 29.7311, 22.4077, 27.1657, 27.1611,\n",
       "       18.4921, 28.156 , 24.7754, 16.5678, 16.626 , 23.4469, 18.8829,\n",
       "       21.0582, 20.8062, 20.9276, 27.1858, 22.9649, 16.2365,  9.9533,\n",
       "       19.9817, 19.8658, 31.564 , 21.92  , 21.4504, 26.0132, 11.5887,\n",
       "       11.5893, 11.5576, 11.5534, 11.5401, 24.15  , 24.6428, 34.2154,\n",
       "       25.2042, 18.2172, 14.098 , 13.245 , 27.5882, 16.5697, 22.8985,\n",
       "        8.1784, 25.3723, 14.1651, 15.7319, 27.6007, 27.5728, 28.1371,\n",
       "        9.0737, 24.4375, 24.4448, 22.2418, 26.818 , 23.1689, 11.0749,\n",
       "       21.78  , 14.3512, 19.4834, 23.4987, 10.0314, 34.004 , 23.6815,\n",
       "       29.3975, 26.4766,  9.9731,  8.7065, 20.7147, 31.7398, 18.9057,\n",
       "       25.5124, 18.8685, 11.3646, 18.8834, 22.2454, 29.9274, 18.6814,\n",
       "       17.0853, 21.4813, 14.6859,  9.6266, 20.8986, 18.9766, 31.9667,\n",
       "       10.3118, 28.7962, 28.6146, 16.3328, 25.196 , 16.7739, 18.2417,\n",
       "       23.1975, 11.5336, 23.6788, 17.2684, 21.1902, 22.0983, 26.0748,\n",
       "       26.5653, 26.8022, 26.7874, 23.2478, 23.1897,  9.9855,  9.0198,\n",
       "       23.3682, 23.9151, 30.0208, 24.9174, 26.2984, 16.4072, 23.622 ,\n",
       "       16.3532, 16.3027, 21.9846, 21.4499, 17.1427, 28.6361, 24.7635,\n",
       "       29.356 , 24.9643, 30.557 , 12.7145, 29.5169, 27.336 , 27.114 ,\n",
       "       31.4   , 27.3426, 27.2949, 18.5354, 32.4404, 26.263 , 22.3404,\n",
       "       17.5587, 14.704 , 15.3771, 21.2759, 24.027 , 24.1778, 28.7327,\n",
       "       25.1732, 23.626 , 31.0417, 27.818 , 18.7695, 18.7572, 23.9637,\n",
       "       23.9796, 25.4106, 29.9619, 18.764 , 23.2592, 27.9363, 26.8026,\n",
       "       27.4108, 27.4118, 27.4092, 27.4137, 26.4586, 19.1474, 23.7025,\n",
       "       23.0562, 21.8376, 21.8301,  9.3098, 24.3696, 17.708 , 33.142 ,\n",
       "       22.3049, 22.49  , 12.2995,  9.9751, 16.3918, 17.1354, 16.9171,\n",
       "       16.881 , 31.2642, 23.3026, 16.2478, 23.6013, 10.4558, 23.9784,\n",
       "       24.5959, 22.11  , 19.6125, 22.7355, 14.351 ,  9.976 ,  8.6895,\n",
       "       32.6762, 32.6029, 31.9894, 14.2352, 12.3409, 16.7493, 10.3046,\n",
       "       10.3575, 26.0743, 15.6933, 17.8676, 25.1296, 21.127 , 22.4208,\n",
       "       17.591 , 14.2133, 18.8372, 24.1033, 18.6609, 22.13  , 16.8301,\n",
       "       12.3082, 31.7537, 19.3804, 22.5488, 30.2313, 16.0869, 16.0929,\n",
       "       33.9594, 21.8144, 23.457 , 21.3395, 21.397 , 29.179 ,  9.62  ,\n",
       "       19.9214, 22.2915, 22.3005,  8.823 , 10.8166,  9.0782, 20.731 ,\n",
       "       20.7325, 10.9262, 21.0726, 21.0864, 29.9611, 17.2387, 20.8183,\n",
       "       12.3003, 23.3585, 23.383 , 23.3654, 19.845 , 17.3031, 17.5724,\n",
       "       22.0971, 24.1185,  9.8043, 23.9116, 27.2081, 23.2414, 22.972 ,\n",
       "       18.3198, 23.3232, 20.0116, 20.0123, 20.9099, 21.0966, 29.924 ,\n",
       "       22.0987, 29.0057, 26.586 , 12.9019, 19.8294, 27.3403, 22.5616,\n",
       "       26.4875, 27.2517, 26.9279, 27.0017, 27.5981, 30.3787, 23.7573,\n",
       "       18.7026, 19.0875, 32.659 , 15.8094, 24.3249, 21.4129, 22.7318,\n",
       "       15.1839, 23.0701, 19.0004, 19.0018, 19.0366, 24.3588, 15.6609,\n",
       "        8.7635,  8.7603,  9.9438,  8.9165, 17.501 , 15.1069, 21.0866,\n",
       "       12.8491, 15.3302, 19.1757,  9.9621, 14.7053, 26.5182, 10.8139,\n",
       "       10.79  , 22.104 , 32.3367, 27.2614, 21.8858, 13.1596, 18.0723,\n",
       "       21.2323, 21.2093, 21.2478, 25.6593, 26.0069, 25.9131, 21.3411,\n",
       "       10.838 , 19.4269, 18.8315, 18.0313, 34.198 , 18.88  , 18.8681,\n",
       "       34.1442, 34.0921, 11.3727, 21.2285, 27.3455, 10.6143, 10.0537,\n",
       "       19.7674,  9.3279, 13.2371,  9.3484, 13.6576, 22.7808, 23.0752,\n",
       "       17.1605, 16.9238, 17.7382, 24.4978, 16.5984, 16.5973, 16.9345,\n",
       "       24.5753, 24.0983, 18.121 , 30.5669, 17.5635, 19.108 , 21.4239,\n",
       "       17.0552, 22.8725, 20.2727, 20.6964, 17.1401, 30.3033, 22.3172,\n",
       "       20.301 ,  9.8881,  8.8709, 27.1715, 30.1081, 17.1653, 13.1156,\n",
       "       16.2949, 12.8932, 15.2758, 24.35  ,  9.9344])"
      ]
     },
     "execution_count": 30,
     "metadata": {},
     "output_type": "execute_result"
    }
   ],
   "source": [
    "df['latitude'].unique() #check the unique value"
   ]
  },
  {
   "cell_type": "code",
   "execution_count": 31,
   "id": "f9292380",
   "metadata": {},
   "outputs": [
    {
     "data": {
      "text/plain": [
       "24.1917    3\n",
       "19.0004    3\n",
       "16.5697    2\n",
       "23.4639    2\n",
       "13.2450    2\n",
       "          ..\n",
       "20.9099    1\n",
       "17.2387    1\n",
       "23.5594    1\n",
       "27.3426    1\n",
       "16.5973    1\n",
       "Name: latitude, Length: 837, dtype: int64"
      ]
     },
     "execution_count": 31,
     "metadata": {},
     "output_type": "execute_result"
    }
   ],
   "source": [
    "df['latitude'].value_counts() #check the counts of unique value"
   ]
  },
  {
   "cell_type": "code",
   "execution_count": 32,
   "id": "f517f5e7",
   "metadata": {},
   "outputs": [
    {
     "data": {
      "text/plain": [
       "count    862.000000\n",
       "mean      21.196189\n",
       "std        6.248627\n",
       "min        8.168900\n",
       "25%       16.771575\n",
       "50%       21.778300\n",
       "75%       25.516375\n",
       "max       34.649000\n",
       "Name: latitude, dtype: float64"
      ]
     },
     "execution_count": 32,
     "metadata": {},
     "output_type": "execute_result"
    }
   ],
   "source": [
    "df['latitude'].describe() #check the parameters"
   ]
  },
  {
   "cell_type": "code",
   "execution_count": 33,
   "id": "ae0b9b00",
   "metadata": {},
   "outputs": [
    {
     "data": {
      "text/plain": [
       "True"
      ]
     },
     "execution_count": 33,
     "metadata": {},
     "output_type": "execute_result"
    }
   ],
   "source": [
    "df['latitude'].all() #check the zeros in this column"
   ]
  },
  {
   "cell_type": "code",
   "execution_count": 34,
   "id": "a1d6d63d",
   "metadata": {},
   "outputs": [
    {
     "data": {
      "text/plain": [
       "46"
      ]
     },
     "execution_count": 34,
     "metadata": {},
     "output_type": "execute_result"
    }
   ],
   "source": [
    "df['latitude'].isnull().sum() #check the null value"
   ]
  },
  {
   "cell_type": "code",
   "execution_count": 35,
   "id": "4bfdbe6e",
   "metadata": {},
   "outputs": [],
   "source": [
    "df['latitude'].fillna(df['latitude'].mean(), inplace = True) #replace all NAN by column mean value"
   ]
  },
  {
   "cell_type": "code",
   "execution_count": 36,
   "id": "dfa218b6",
   "metadata": {},
   "outputs": [
    {
     "data": {
      "text/plain": [
       "0"
      ]
     },
     "execution_count": 36,
     "metadata": {},
     "output_type": "execute_result"
    }
   ],
   "source": [
    "df['latitude'].isnull().sum() #Now, check the null values"
   ]
  },
  {
   "cell_type": "code",
   "execution_count": 37,
   "id": "8aeacaa7",
   "metadata": {},
   "outputs": [
    {
     "data": {
      "text/plain": [
       "count    908.000000\n",
       "mean      21.196189\n",
       "std        6.088110\n",
       "min        8.168900\n",
       "25%       17.057825\n",
       "50%       21.278850\n",
       "75%       25.183775\n",
       "max       34.649000\n",
       "Name: latitude, dtype: float64"
      ]
     },
     "execution_count": 37,
     "metadata": {},
     "output_type": "execute_result"
    }
   ],
   "source": [
    "df['latitude'].describe() #check the parameters"
   ]
  },
  {
   "cell_type": "code",
   "execution_count": 38,
   "id": "6e94068c",
   "metadata": {},
   "outputs": [
    {
     "name": "stdout",
     "output_type": "stream",
     "text": [
      "Mean of the column:-----> 21.19618886310905\n",
      "Median of the column:-----> 21.27885\n",
      "Mode of the column:-----> 21.196188863109057\n",
      "std of the column:-----> 6.088110335332744\n"
     ]
    }
   ],
   "source": [
    "# Calculate mean, median, mode and std to check the normalization curve\n",
    "print('Mean of the column:----->',df['latitude'].mean())\n",
    "print('Median of the column:----->',df['latitude'].median())\n",
    "print('Mode of the column:----->',st.mode(df['latitude']))\n",
    "print('std of the column:----->',df['latitude'].std())"
   ]
  },
  {
   "cell_type": "code",
   "execution_count": 39,
   "id": "e82f9674",
   "metadata": {},
   "outputs": [
    {
     "data": {
      "text/plain": [
       "-0.14739148022373944"
      ]
     },
     "execution_count": 39,
     "metadata": {},
     "output_type": "execute_result"
    }
   ],
   "source": [
    "df['latitude'].skew() #check the skewness "
   ]
  },
  {
   "cell_type": "code",
   "execution_count": 40,
   "id": "d2504794",
   "metadata": {},
   "outputs": [
    {
     "data": {
      "image/png": "[encoded data removed]",
      "text/plain": [
       "<Figure size 1440x360 with 3 Axes>"
      ]
     },
     "metadata": {
      "needs_background": "light"
     },
     "output_type": "display_data"
    }
   ],
   "source": [
    "#Visualization\n",
    "plt.figure(figsize=(20,5))\n",
    "plt.subplot(1,3,1)\n",
    "sns.histplot(df['latitude']) #visualize the outliers by using histplot\n",
    "plt.title('Final Plot', fontsize=15)\n",
    "plt.xlabel('latitude', fontsize= 14)\n",
    "\n",
    "plt.subplot(1,3,2)\n",
    "sns.distplot(df['latitude'], color='r') #visualize the normalization curve by using distplot\n",
    "plt.title('Final Plot', fontsize=15)\n",
    "plt.xlabel('latitude', fontsize= 14)\n",
    "\n",
    "plt.subplot(1,3,3)\n",
    "sns.boxplot(data = df['latitude']) #visualize the outliers by using boxplot\n",
    "plt.title('Final Plot', fontsize=15)\n",
    "plt.xlabel('latitude', fontsize= 14)\n",
    "plt.show()"
   ]
  },
  {
   "cell_type": "code",
   "execution_count": 41,
   "id": "b00eab34",
   "metadata": {},
   "outputs": [
    {
     "data": {
      "text/plain": [
       "capacity_mw  latitude\n",
       "0.0          12.8491     1\n",
       "1.0          11.0118     1\n",
       "             18.0791     1\n",
       "             20.7325     1\n",
       "             22.4809     1\n",
       "             23.1534     1\n",
       "             26.0748     1\n",
       "             26.2776     1\n",
       "             26.5249     1\n",
       "             26.5653     1\n",
       "Name: latitude, dtype: int64"
      ]
     },
     "execution_count": 41,
     "metadata": {},
     "output_type": "execute_result"
    }
   ],
   "source": [
    "df.groupby('capacity_mw')['latitude'].value_counts().sort_index(ascending=True).head(10)\n",
    "#Checking the relationship between capacity_mw and latitude\n",
    "#The latitude of lowest capacity power plant is 12.8491"
   ]
  },
  {
   "cell_type": "code",
   "execution_count": 42,
   "id": "080590cb",
   "metadata": {},
   "outputs": [
    {
     "data": {
      "text/plain": [
       "capacity_mw  latitude\n",
       "4760.0       24.0983     1\n",
       "4620.0       22.8230     1\n",
       "4000.0       22.8158     1\n",
       "3960.0       23.9784     1\n",
       "3300.0       21.4129     1\n",
       "3000.0       24.0270     1\n",
       "             21.0966     1\n",
       "2980.0       22.1300     1\n",
       "2920.0       20.0063     1\n",
       "2630.0       24.2010     1\n",
       "Name: latitude, dtype: int64"
      ]
     },
     "execution_count": 42,
     "metadata": {},
     "output_type": "execute_result"
    }
   ],
   "source": [
    "df.groupby('capacity_mw')['latitude'].value_counts().sort_index(ascending=False).head(10)\n",
    "#Checking the relationship between capacity_mw and latitude\n",
    "#The latitude of Highest capacity power plant is 24.0983"
   ]
  },
  {
   "cell_type": "code",
   "execution_count": 43,
   "id": "b2767cd6",
   "metadata": {},
   "outputs": [
    {
     "data": {
      "text/plain": [
       "latitude  primary_fuel\n",
       "8.1689    Nuclear         1\n",
       "8.1691    Nuclear         1\n",
       "8.1784    Wind            1\n",
       "8.3091    Wind            1\n",
       "8.5319    Hydro           1\n",
       "8.6895    Hydro           1\n",
       "8.7065    Hydro           1\n",
       "8.7603    Coal            1\n",
       "8.7635    Coal            2\n",
       "8.8230    Wind            1\n",
       "Name: primary_fuel, dtype: int64"
      ]
     },
     "execution_count": 43,
     "metadata": {},
     "output_type": "execute_result"
    }
   ],
   "source": [
    "df.groupby('latitude')['primary_fuel'].value_counts().sort_index(ascending=True).head(10)\n",
    "#Checking the relationship between latitude and primary_fuel\n",
    "#The lowest latitude is 8.1689 and that is Nuclear Power Plant"
   ]
  },
  {
   "cell_type": "code",
   "execution_count": 44,
   "id": "b9576c19",
   "metadata": {},
   "outputs": [
    {
     "data": {
      "text/plain": [
       "latitude  primary_fuel\n",
       "34.6490   Hydro           1\n",
       "34.5605   Hydro           1\n",
       "34.4903   Hydro           1\n",
       "34.2236   Hydro           1\n",
       "34.2189   Hydro           1\n",
       "34.2154   Hydro           1\n",
       "34.1980   Hydro           1\n",
       "34.1442   Hydro           1\n",
       "34.0921   Hydro           1\n",
       "34.0040   Oil             1\n",
       "Name: primary_fuel, dtype: int64"
      ]
     },
     "execution_count": 44,
     "metadata": {},
     "output_type": "execute_result"
    }
   ],
   "source": [
    "df.groupby('latitude')['primary_fuel'].value_counts().sort_index(ascending=False).head(10)\n",
    "#Checking the relationship between latitude and primary_fuel\n",
    "#The Highest latitude is 34.6490 and that is Hydro Power Plant"
   ]
  },
  {
   "cell_type": "code",
   "execution_count": 45,
   "id": "3c50355d",
   "metadata": {},
   "outputs": [
    {
     "data": {
      "text/plain": [
       "latitude  name             \n",
       "34.6490   KISHENGANGA          1\n",
       "34.5605   KARGIL               1\n",
       "34.4903   CHUTAK               1\n",
       "34.2236   GANDHARBAL           1\n",
       "34.2189   LOWER JHELUM         1\n",
       "34.2154   NIMOO BAZGO          1\n",
       "34.1980   UPPER SINDH I& II    1\n",
       "34.1442   URI                  1\n",
       "34.0921   URI -II              1\n",
       "34.0040   PAMPORE GT           1\n",
       "Name: name, dtype: int64"
      ]
     },
     "execution_count": 45,
     "metadata": {},
     "output_type": "execute_result"
    }
   ],
   "source": [
    "df.groupby('latitude')['name'].value_counts().sort_index(ascending=False).head(10)\n",
    "#Checking the relationship between name and latitude\n",
    "#The Name of the power plant who have highest latitude is Kishenganga"
   ]
  },
  {
   "cell_type": "code",
   "execution_count": 46,
   "id": "b53b26a8",
   "metadata": {},
   "outputs": [
    {
     "data": {
      "text/plain": [
       "latitude  name                        \n",
       "8.1689    Kudankulam                      1\n",
       "8.1691    KUNDANKULAM                     1\n",
       "8.1784    Nagercoli Wind Farm             1\n",
       "8.3091    Karur Textile Park Wind Farm    1\n",
       "8.5319    KODAYAR-I&II                    1\n",
       "8.6895    SERVALAR                        1\n",
       "8.7065    PAPANASAM                       1\n",
       "8.7603    TUTICORIN JV                    1\n",
       "8.7635    TUTICORIN                       1\n",
       "          TUTICORIN- IND BARATH           1\n",
       "Name: name, dtype: int64"
      ]
     },
     "execution_count": 46,
     "metadata": {},
     "output_type": "execute_result"
    }
   ],
   "source": [
    "df.groupby('latitude')['name'].value_counts().sort_index(ascending=True).head(10)\n",
    "#Checking the relationship between name and latitude\n",
    "#The Name of the lowest latitude power plant is Kundankulam"
   ]
  },
  {
   "cell_type": "code",
   "execution_count": 47,
   "id": "6fe8b660",
   "metadata": {},
   "outputs": [
    {
     "name": "stdout",
     "output_type": "stream",
     "text": [
      "Actual shape of our Dataset now :--------> (908, 23)\n"
     ]
    }
   ],
   "source": [
    "#check the shape of our dataset\n",
    "print('Actual shape of our Dataset now :-------->', df.shape)"
   ]
  },
  {
   "cell_type": "markdown",
   "id": "a1a58a14",
   "metadata": {},
   "source": [
    "Observation:\n",
    "1. There is no zero value in this column\n",
    "2. There are 46 Null values which was replaced by column mean.\n",
    "3. No Outliers found\n",
    "4. Skewness of the column is very less\n",
    "5. Mean, median and mode values are almost equal\n",
    "6. Latitude of Lowest capacity power plant is 12.8491\n",
    "7. Latitude of Highest capacity power plant is 24.0983\n",
    "8. The lowest latitude is 8.1689 and it is Nuclear Powerplant, its name is 'Kudankulam'\n",
    "9. The highest latitude is 34.6490 and it is Hydro Powerplant, its name is 'KISHENGANGA'\n",
    "10. So, it means, Northern India have high latitude and they have Hydro Powerplant\n",
    "11. and Southern India have lowest latitude and they have Nuclear powerplant"
   ]
  },
  {
   "cell_type": "markdown",
   "id": "2bf65813",
   "metadata": {},
   "source": [
    "# Column5: longitude"
   ]
  },
  {
   "cell_type": "code",
   "execution_count": 48,
   "id": "56df9c1d",
   "metadata": {},
   "outputs": [
    {
     "data": {
      "text/plain": [
       "array([73.2407, 74.609 , 69.3732, 91.3602, 82.4091, 68.6447, 77.0078,\n",
       "       77.207 , 75.8863, 81.6373, 77.9009, 76.4938, 82.8   , 77.8769,\n",
       "           nan, 82.7891, 76.3188, 81.7841, 81.7865, 76.1851, 74.7061,\n",
       "       74.9191, 79.5286, 83.2741, 79.1518, 74.2402, 76.3926, 77.687 ,\n",
       "       73.6396, 77.1893, 76.3482, 71.6917, 71.6918, 71.6916, 80.2695,\n",
       "       77.3066, 75.225 , 75.3155, 76.1418, 87.4513, 82.1221, 79.3421,\n",
       "       74.689 , 82.4305, 88.4042, 76.4695, 81.2875, 81.2747, 74.2562,\n",
       "       83.1889, 91.565 , 86.0218, 79.925 , 85.7452, 79.8066, 73.2   ,\n",
       "       80.2682, 78.241 , 76.7986, 74.5345, 79.0547, 74.8209, 74.7111,\n",
       "       76.7909, 77.1036, 76.7195, 75.6373, 75.7131, 76.4328, 79.6311,\n",
       "       79.7708, 73.8087, 73.7252, 73.4173, 72.2222, 77.758 , 77.8659,\n",
       "       77.7145, 74.7529, 81.4237, 73.3907, 73.3498, 73.4527, 75.8425,\n",
       "       74.6216, 78.1606, 78.1336, 73.0901, 83.2058, 76.6537, 81.0333,\n",
       "       86.0888, 85.88  , 90.5287, 74.1543, 76.3744, 88.14  , 76.532 ,\n",
       "       78.9535, 78.9333, 76.1807, 73.5286, 77.416 , 72.3188, 72.3134,\n",
       "       72.3554, 72.3042, 69.843 , 69.8441, 72.3245, 72.3388, 70.8304,\n",
       "       74.5417, 75.5625, 74.7007, 68.8782, 71.5782, 75.0565, 73.286 ,\n",
       "       69.0255, 75.49  , 71.5212, 82.5532, 76.2552, 75.9857, 76.44  ,\n",
       "       79.1133, 74.6367, 74.6656, 79.1346, 79.1757, 86.1273, 79.29  ,\n",
       "       76.2477, 76.0376, 75.1705, 77.0357, 77.7915, 78.2203, 76.1137,\n",
       "       88.6659, 77.0825, 79.2712, 71.1881, 70.4603, 83.1107, 87.3023,\n",
       "       77.6078, 77.6101, 75.6189, 72.0091, 80.1264, 76.377 , 74.6338,\n",
       "       75.8808, 76.8686, 84.9843, 72.6215, 77.7368, 77.6821, 72.7478,\n",
       "       79.2033, 80.5727, 77.8492, 72.752 , 73.004 , 88.5247, 92.9737,\n",
       "       75.0382, 73.039 , 81.8296, 94.2612, 74.0095, 75.8448, 75.7985,\n",
       "       81.2099, 87.25  , 87.2043, 77.6314, 74.6283, 72.8899, 74.6215,\n",
       "       75.8988, 72.1999, 70.0773, 72.0083, 72.651 , 76.733 , 73.9269,\n",
       "       72.655 , 69.8442, 76.5137, 73.7839, 87.894 , 77.3615, 77.6458,\n",
       "       73.1017, 69.9494, 76.182 , 76.2787, 78.9632, 73.1136, 74.7781,\n",
       "       72.6765, 75.5529, 76.492 , 82.1286, 79.104 , 73.9765, 77.7786,\n",
       "       74.6447, 73.6509, 75.1661, 79.12  , 77.4968, 75.8613, 78.9793,\n",
       "       74.9247, 82.3097, 75.1464, 79.1845, 81.8111, 77.1325, 91.8223,\n",
       "       75.5868, 72.3896, 72.3969, 72.669 , 92.7109, 72.2241, 72.5377,\n",
       "       76.6551, 69.9187, 74.6188, 74.6567, 77.1596, 88.1764, 76.3379,\n",
       "       74.4045, 82.5977, 76.4004, 69.7399, 72.6613, 77.1384, 83.8754,\n",
       "       76.6279, 75.5639, 74.3091, 77.4588, 70.6722, 70.2313, 78.1326,\n",
       "       75.762 , 76.3224, 83.86  , 77.2504, 76.7137, 77.0555, 79.0556,\n",
       "       76.1906, 83.92  , 88.0995, 76.4728, 76.3754, 79.7515, 76.0223,\n",
       "       72.5235, 74.6641, 75.6778, 72.2242, 88.8747, 71.3236, 73.0017,\n",
       "       81.1698, 81.1748, 81.3293, 81.86  , 74.7994, 86.2491, 88.2924,\n",
       "       73.212 , 71.2801, 87.0695, 70.509 , 70.5465, 72.7629, 70.3961,\n",
       "       74.2393, 77.0435, 73.8254, 74.3916, 87.2635, 74.4385, 79.8265,\n",
       "       76.9717, 73.3489, 74.5268, 76.0986, 77.0697, 77.4389, 80.831 ,\n",
       "       85.2671, 73.917 , 74.2459, 79.8216, 92.5171, 78.1073, 76.1299,\n",
       "       79.5287, 82.5549, 74.9929, 75.4568, 95.408 , 76.737 , 72.6879,\n",
       "       76.4283, 75.3131, 73.6116, 80.8307, 92.6679, 77.6017, 80.0243,\n",
       "       77.8001, 73.3558, 73.259 , 74.7514, 77.0411, 74.5904, 77.3125,\n",
       "       85.5517, 75.8067, 87.8713, 76.8761, 74.4583, 74.2993, 74.1201,\n",
       "       76.7606, 81.8622, 80.5504, 76.9787, 76.2507, 79.096 , 82.6858,\n",
       "       82.7188, 82.6888, 86.9549, 75.8171, 75.8883, 78.4971, 79.4507,\n",
       "       73.684 , 77.0912, 75.8349, 77.6296, 76.6511, 77.1327, 75.5302,\n",
       "       82.0841, 68.7843, 77.1068, 79.57  , 80.6144, 91.7895, 80.6936,\n",
       "       79.116 , 70.9996, 78.3917, 70.388 , 77.6191, 74.2524, 74.2553,\n",
       "       78.6025, 78.6001, 73.2014, 75.0381, 71.9951, 71.991 , 76.589 ,\n",
       "       70.0548, 70.0536, 72.3236, 74.3272, 71.026 , 79.5898, 68.6988,\n",
       "       77.2471, 76.6709, 77.7126, 76.1901, 94.8833, 78.6463, 83.4573,\n",
       "       77.212 , 74.8388, 77.537 , 71.4974, 73.2032, 75.7161, 93.6696,\n",
       "       74.5281, 77.7773, 77.7583, 76.957 , 81.6814, 77.6055, 74.3316,\n",
       "       75.4023, 75.4826, 69.827 , 71.5322, 74.0733, 80.1754, 82.4645,\n",
       "       77.0225, 77.8348, 86.0613, 82.4172, 76.351 , 78.5814, 74.5062,\n",
       "       72.8963, 80.7997, 86.8284, 86.76  , 77.2494, 76.4591, 78.4238,\n",
       "       74.8496, 73.3529, 75.9522, 75.0462, 73.8144, 79.1761, 76.8798,\n",
       "       79.2206, 82.6022, 78.3717, 81.9415, 87.1311, 78.1374, 77.8138,\n",
       "       77.8085, 78.9334, 91.274 , 74.4072, 79.3978, 76.6919, 70.7381,\n",
       "       75.7965, 75.3005, 75.836 , 79.7148, 72.8948, 72.9465, 72.8997,\n",
       "       69.5532, 69.5281, 76.3288, 75.1002, 73.3638, 85.3017, 92.2279,\n",
       "       73.9032, 75.781 , 75.3099, 75.308 , 68.9925, 70.7455, 70.681 ,\n",
       "       73.5081, 78.4089, 84.1588, 79.3442, 79.4909, 75.408 , 73.1862,\n",
       "       79.485 , 79.0548, 79.2455, 95.376 , 78.8132, 76.3369, 76.9792,\n",
       "       73.8896, 74.0835, 77.98  , 83.2788, 76.4014, 91.8239, 79.4611,\n",
       "       79.4704, 79.4417, 79.4408, 79.4159, 81.9045, 74.6843, 77.1842,\n",
       "       74.6092, 77.9576, 76.3154, 80.3257, 91.981 , 79.3389, 76.0718,\n",
       "       77.6873, 81.8717, 77.5713, 75.3789, 72.206 , 72.9661, 77.4753,\n",
       "       82.9655, 82.9803, 76.1619, 71.0643, 68.6975, 79.834 , 72.979 ,\n",
       "       80.1431, 75.3696, 91.4385, 77.0548, 74.9175, 86.7473, 76.8763,\n",
       "       80.241 , 77.0281, 77.3627, 76.7948, 77.2576, 76.7282, 78.7588,\n",
       "       76.5254, 76.6045, 73.1814, 82.7246, 78.0415, 73.4948, 82.1283,\n",
       "       79.2086, 77.7147, 77.1905, 71.4693, 78.2563, 75.9469, 76.617 ,\n",
       "       77.0706, 77.2528, 77.7036, 81.6594, 80.0525, 74.7531, 86.097 ,\n",
       "       76.6011, 68.7653, 73.8368, 74.3795, 70.2729, 72.2677, 75.5622,\n",
       "       72.0078, 72.0099, 70.5948, 70.6216, 77.5777, 77.4501, 70.7432,\n",
       "       71.9424, 74.546 , 75.5794, 74.1234, 73.9616, 86.661 , 77.3422,\n",
       "       77.3608, 83.2331, 81.8525, 77.1749, 77.2542, 78.2322, 75.869 ,\n",
       "       74.1197, 76.577 , 77.4524, 78.7574, 70.538 , 88.1376, 77.5927,\n",
       "       93.8168, 88.2921, 76.245 , 75.7305, 74.1878, 82.493 , 73.167 ,\n",
       "       78.4577, 73.877 , 85.0355, 82.7915, 83.0361, 77.1016, 75.832 ,\n",
       "       91.1948, 76.5847, 79.936 , 79.4494, 79.456 , 76.719 , 76.7329,\n",
       "       78.4805, 75.1631, 79.4873, 70.0097, 75.679 , 70.7736, 72.2164,\n",
       "       72.2127, 72.2193, 72.1577, 72.4706, 74.8763, 75.9246, 70.6004,\n",
       "       73.7559, 73.7501, 77.0727, 88.1046, 75.1361, 74.8097, 69.7101,\n",
       "       82.6062, 78.4038, 78.0445, 75.0411, 74.4272, 74.4821, 74.5898,\n",
       "       78.4835, 81.0668, 74.5003, 86.4666, 76.8302, 82.6275, 80.858 ,\n",
       "       78.173 , 74.1924, 79.9123, 80.1443, 77.0309, 77.3048, 75.8215,\n",
       "       75.9006, 76.8072, 74.7673, 77.1906, 74.5854, 76.7305, 76.879 ,\n",
       "       74.3858, 74.7162, 74.8405, 75.8832, 74.2673, 69.8276, 83.0917,\n",
       "       80.0838, 79.5748, 82.7068, 78.0876, 82.293 , 80.0407, 77.165 ,\n",
       "       77.246 , 74.8397, 88.2926, 78.7924, 78.9007, 78.9118, 77.7142,\n",
       "       84.0404, 85.555 , 72.9889, 73.106 , 74.0202, 77.2726, 73.0575,\n",
       "       82.5257, 82.7047, 77.6271, 77.3199, 77.591 , 83.4538, 83.4632,\n",
       "       77.3841, 74.3862, 74.3529, 75.7767, 73.9096, 71.0063, 77.1638,\n",
       "       70.6206, 70.6146, 70.6268, 73.9074, 74.631 , 74.3386, 76.5317,\n",
       "       82.6415, 78.4487, 71.9324, 70.6958, 70.7262, 70.5443, 74.3686,\n",
       "       70.6417, 79.2036, 79.1863, 85.2072, 85.074 , 75.2372, 83.4513,\n",
       "       80.0946, 82.602 , 74.816 , 72.6617, 88.2332, 77.9635, 88.3155,\n",
       "       88.4604, 88.4562, 88.443 , 88.6505, 78.4795, 85.8936, 72.8709,\n",
       "       73.0258, 76.7817, 74.1588, 85.5198, 79.9671, 88.371 , 76.6622,\n",
       "       72.5933, 72.8983, 72.8967, 72.8892, 92.8837, 76.8756, 78.1753,\n",
       "       78.1699, 77.5077, 77.659 , 74.7001, 85.0987, 77.6752, 75.5767,\n",
       "       74.8441, 77.3709, 77.3355, 72.8536, 77.3785, 77.33  , 69.8323,\n",
       "       75.5819, 88.5572, 83.1215, 74.8002, 75.1197, 73.5917, 73.5574,\n",
       "       73.5866, 91.9003, 91.8114, 81.3274, 72.9895, 77.5123, 82.8594,\n",
       "       82.5934, 82.0179, 75.1245, 72.9715, 72.9293, 74.1857, 74.0318,\n",
       "       76.0584, 72.8705, 82.3166, 77.237 , 77.5905, 73.502 , 78.9215,\n",
       "       80.3023, 78.9235, 74.9484, 77.6515, 77.5526, 77.293 , 81.8141,\n",
       "       75.3218, 77.1513, 80.537 , 80.5382, 81.7245, 74.8012, 82.6719,\n",
       "       74.0968, 79.5468, 83.1382, 74.9885, 73.1273, 76.9775, 73.3588,\n",
       "       78.9792, 78.6385, 73.866 , 77.5684, 72.4397, 79.0237, 77.2216,\n",
       "       77.4466, 70.6877, 77.3257, 74.2456, 77.5838, 77.3568, 78.1654,\n",
       "       75.5811, 73.7477, 77.4768])"
      ]
     },
     "execution_count": 48,
     "metadata": {},
     "output_type": "execute_result"
    }
   ],
   "source": [
    "df['longitude'].unique() #check the unique value"
   ]
  },
  {
   "cell_type": "code",
   "execution_count": 49,
   "id": "ac0f6a47",
   "metadata": {},
   "outputs": [
    {
     "data": {
      "text/plain": [
       "71.6917    4\n",
       "71.6918    3\n",
       "75.8988    3\n",
       "72.8983    3\n",
       "81.2875    3\n",
       "          ..\n",
       "80.1264    1\n",
       "76.1137    1\n",
       "74.6447    1\n",
       "86.0970    1\n",
       "79.5748    1\n",
       "Name: longitude, Length: 828, dtype: int64"
      ]
     },
     "execution_count": 49,
     "metadata": {},
     "output_type": "execute_result"
    }
   ],
   "source": [
    "df['longitude'].value_counts() #check the counts of unique value"
   ]
  },
  {
   "cell_type": "code",
   "execution_count": 50,
   "id": "a1d562ab",
   "metadata": {},
   "outputs": [
    {
     "data": {
      "text/plain": [
       "count    862.000000\n",
       "mean      77.447848\n",
       "std        4.907260\n",
       "min       68.644700\n",
       "25%       74.258975\n",
       "50%       76.719250\n",
       "75%       79.441475\n",
       "max       95.408000\n",
       "Name: longitude, dtype: float64"
      ]
     },
     "execution_count": 50,
     "metadata": {},
     "output_type": "execute_result"
    }
   ],
   "source": [
    "df['longitude'].describe() #check the parameters"
   ]
  },
  {
   "cell_type": "code",
   "execution_count": 51,
   "id": "e7145bbf",
   "metadata": {},
   "outputs": [
    {
     "data": {
      "text/plain": [
       "True"
      ]
     },
     "execution_count": 51,
     "metadata": {},
     "output_type": "execute_result"
    }
   ],
   "source": [
    "df['longitude'].all() #check the zero values"
   ]
  },
  {
   "cell_type": "code",
   "execution_count": 52,
   "id": "f863f906",
   "metadata": {},
   "outputs": [
    {
     "data": {
      "text/plain": [
       "46"
      ]
     },
     "execution_count": 52,
     "metadata": {},
     "output_type": "execute_result"
    }
   ],
   "source": [
    "df['longitude'].isnull().sum() #check the null values"
   ]
  },
  {
   "cell_type": "code",
   "execution_count": 53,
   "id": "8be3dced",
   "metadata": {},
   "outputs": [],
   "source": [
    "df['longitude'].fillna(df['longitude'].mean(), inplace=True) #replace the null values by column mean"
   ]
  },
  {
   "cell_type": "code",
   "execution_count": 54,
   "id": "c4fa63f2",
   "metadata": {},
   "outputs": [
    {
     "data": {
      "text/plain": [
       "0"
      ]
     },
     "execution_count": 54,
     "metadata": {},
     "output_type": "execute_result"
    }
   ],
   "source": [
    "df['longitude'].isnull().sum() # Now, check the null values"
   ]
  },
  {
   "cell_type": "code",
   "execution_count": 55,
   "id": "ccac910e",
   "metadata": {},
   "outputs": [
    {
     "data": {
      "text/plain": [
       "count    908.000000\n",
       "mean      77.447848\n",
       "std        4.781201\n",
       "min       68.644700\n",
       "25%       74.390250\n",
       "50%       76.978950\n",
       "75%       79.211600\n",
       "max       95.408000\n",
       "Name: longitude, dtype: float64"
      ]
     },
     "execution_count": 55,
     "metadata": {},
     "output_type": "execute_result"
    }
   ],
   "source": [
    "df['longitude'].describe() #check the parameters"
   ]
  },
  {
   "cell_type": "code",
   "execution_count": 56,
   "id": "f85cac35",
   "metadata": {},
   "outputs": [
    {
     "name": "stdout",
     "output_type": "stream",
     "text": [
      "Mean of the column:-----> 77.44784779582375\n",
      "Median of the column:-----> 76.97895\n",
      "Mode of the column:-----> 77.44784779582372\n",
      "std of the column:-----> 4.781200569915295\n"
     ]
    }
   ],
   "source": [
    "# Calculate mean, median, mode and std to check the normalization curve\n",
    "print('Mean of the column:----->',df['longitude'].mean())\n",
    "print('Median of the column:----->',df['longitude'].median())\n",
    "print('Mode of the column:----->',st.mode(df['longitude']))\n",
    "print('std of the column:----->',df['longitude'].std())"
   ]
  },
  {
   "cell_type": "code",
   "execution_count": 57,
   "id": "dc31880c",
   "metadata": {},
   "outputs": [
    {
     "data": {
      "text/plain": [
       "1.1298360340203166"
      ]
     },
     "execution_count": 57,
     "metadata": {},
     "output_type": "execute_result"
    }
   ],
   "source": [
    "df['longitude'].skew() #check the skewness"
   ]
  },
  {
   "cell_type": "code",
   "execution_count": 58,
   "id": "e403cb2c",
   "metadata": {},
   "outputs": [
    {
     "data": {
      "image/png": "[encoded data removed]",
      "text/plain": [
       "<Figure size 1440x360 with 3 Axes>"
      ]
     },
     "metadata": {
      "needs_background": "light"
     },
     "output_type": "display_data"
    }
   ],
   "source": [
    "#Visualization\n",
    "plt.figure(figsize=(20,5))\n",
    "plt.subplot(1,3,1)\n",
    "sns.histplot(df['longitude']) #visualize the outliers by using histplot\n",
    "plt.title('Before Removing Outliers', fontsize=15)\n",
    "plt.xlabel('longitude', fontsize= 14)\n",
    "\n",
    "plt.subplot(1,3,2)\n",
    "sns.distplot(df['longitude'], color='r') #visualize the normalization curve by using distplot\n",
    "plt.title('Before Removing Outliers', fontsize=15)\n",
    "plt.xlabel('longitude', fontsize= 14)\n",
    "\n",
    "plt.subplot(1,3,3)\n",
    "sns.boxplot(data = df['longitude']) #visualize the outliers by using boxplot\n",
    "plt.title('Before Removing Outliers', fontsize=15)\n",
    "plt.xlabel('longitude', fontsize= 14)\n",
    "plt.show()"
   ]
  },
  {
   "cell_type": "code",
   "execution_count": 59,
   "id": "088c2fb1",
   "metadata": {},
   "outputs": [
    {
     "name": "stdout",
     "output_type": "stream",
     "text": [
      "Inter quartile range:------> 3.7825499999999863\n",
      "\n",
      " **************************************************\n",
      "Higher range:-\n",
      " (array([  3,  45,  51,  59,  60,  62, 102, 103, 104, 108, 143, 152, 158,\n",
      "       168, 178, 180, 184, 189, 190, 210, 240, 245, 254, 262, 272, 278,\n",
      "       279, 288, 296, 297, 300, 309, 320, 324, 334, 341, 351, 353, 361,\n",
      "       368, 389, 417, 428, 448, 455, 456, 472, 473, 481, 499, 500, 512,\n",
      "       520, 530, 547, 568, 571, 601, 623, 637, 639, 640, 648, 653, 679,\n",
      "       694, 734, 739, 740, 786, 787, 794, 796, 797, 798, 799, 800, 802,\n",
      "       808, 810, 819, 828, 841, 848, 849], dtype=int64),)\n",
      "\n",
      " **************************************************\n",
      "Lower range:- \n",
      " (array([  5, 412, 563], dtype=int64),)\n"
     ]
    }
   ],
   "source": [
    "#Detecting the outlier by using iqr method and removing them.\n",
    "q1 = np.percentile(df['longitude'], 25,\n",
    "                   interpolation = 'midpoint')\n",
    " \n",
    "q3 = np.percentile(df['longitude'], 69,\n",
    "                   interpolation = 'midpoint')\n",
    "iqr = q3 - q1\n",
    "print('Inter quartile range:------>',iqr)\n",
    "print(\"\\n\",'*'*50)\n",
    "\n",
    "# higher side \n",
    "higher_side = df['longitude'] >= (q3+1.5*iqr)\n",
    "print('Higher range:-\\n',np.where(higher_side))\n",
    "print(\"\\n\",'*'*50)\n",
    "\n",
    "# lower side \n",
    "lower_side = df['longitude'] <= (q1-1.5*iqr)\n",
    "print('Lower range:- \\n',np.where(lower_side))"
   ]
  },
  {
   "cell_type": "code",
   "execution_count": 60,
   "id": "6ece8122",
   "metadata": {},
   "outputs": [
    {
     "name": "stdout",
     "output_type": "stream",
     "text": [
      "old Shape:------>  (908, 23)\n",
      "New Shape:------>  (820, 23)\n"
     ]
    }
   ],
   "source": [
    "#First print the old shape and then compare\n",
    "print(\"old Shape:------> \", df.shape)\n",
    "#removing the outliers\n",
    "high=np.where(higher_side)\n",
    "low=np.where(lower_side)\n",
    "df=df.drop(df.index[high])\n",
    "df=df.drop(df.index[low])\n",
    " \n",
    "print(\"New Shape:------> \", df.shape)"
   ]
  },
  {
   "cell_type": "code",
   "execution_count": 61,
   "id": "317186cf",
   "metadata": {},
   "outputs": [
    {
     "data": {
      "image/png": "[encoded data removed]",
      "text/plain": [
       "<Figure size 1440x360 with 3 Axes>"
      ]
     },
     "metadata": {
      "needs_background": "light"
     },
     "output_type": "display_data"
    }
   ],
   "source": [
    "#Visualization\n",
    "plt.figure(figsize=(20,5))\n",
    "plt.subplot(1,3,1)\n",
    "sns.histplot(df['longitude']) #visualize the outliers by using histplot\n",
    "plt.title('Improved Plot', fontsize=15)\n",
    "plt.xlabel('longitude', fontsize= 14)\n",
    "\n",
    "plt.subplot(1,3,2)\n",
    "sns.distplot(df['longitude'], color='r') #visualize the normalization curve by using distplot\n",
    "plt.title('Improved Plot', fontsize=15)\n",
    "plt.xlabel('longitude', fontsize= 14)\n",
    "\n",
    "plt.subplot(1,3,3)\n",
    "sns.boxplot(data = df['longitude']) #visualize the outliers by using boxplot\n",
    "plt.title('Improved Plot', fontsize=15)\n",
    "plt.xlabel('longitude', fontsize= 14)\n",
    "plt.show()"
   ]
  },
  {
   "cell_type": "code",
   "execution_count": 62,
   "id": "441f7658",
   "metadata": {},
   "outputs": [
    {
     "name": "stdout",
     "output_type": "stream",
     "text": [
      "Mean of the column:-----> 76.30781694952195\n",
      "Median of the column:-----> 76.53184999999999\n",
      "Mode of the column:-----> 77.44784779582372\n",
      "std of the column:-----> 3.224219473389339\n"
     ]
    }
   ],
   "source": [
    "# Calculate mean, median, mode and std to check the normalization curve\n",
    "print('Mean of the column:----->',df['longitude'].mean())\n",
    "print('Median of the column:----->',df['longitude'].median())\n",
    "print('Mode of the column:----->',st.mode(df['longitude']))\n",
    "print('std of the column:----->',df['longitude'].std()) #parameters are not good right now"
   ]
  },
  {
   "cell_type": "code",
   "execution_count": 63,
   "id": "8f24ed8c",
   "metadata": {},
   "outputs": [],
   "source": [
    "df['longitude'] = df['longitude'].replace(77.44784779582372, df['longitude'].mean())\n",
    "#replace mode by column mean value to get good curve"
   ]
  },
  {
   "cell_type": "code",
   "execution_count": 64,
   "id": "28a14699",
   "metadata": {},
   "outputs": [
    {
     "name": "stdout",
     "output_type": "stream",
     "text": [
      "Mean of the column:-----> 76.2438639996073\n",
      "Median of the column:-----> 76.30781694952195\n",
      "Mode of the column:-----> 76.30781694952195\n",
      "std of the column:-----> 3.212242033553605\n"
     ]
    }
   ],
   "source": [
    "# Calculate mean, median, mode and std to check the normalization curve\n",
    "print('Mean of the column:----->',df['longitude'].mean())\n",
    "print('Median of the column:----->',df['longitude'].median())\n",
    "print('Mode of the column:----->',st.mode(df['longitude']))\n",
    "print('std of the column:----->',df['longitude'].std()) #Now, it is looking better"
   ]
  },
  {
   "cell_type": "code",
   "execution_count": 65,
   "id": "5cb4d7aa",
   "metadata": {},
   "outputs": [
    {
     "data": {
      "image/png": "[encoded data removed]",
      "text/plain": [
       "<Figure size 1440x360 with 3 Axes>"
      ]
     },
     "metadata": {
      "needs_background": "light"
     },
     "output_type": "display_data"
    }
   ],
   "source": [
    "#Visualization\n",
    "plt.figure(figsize=(20,5))\n",
    "plt.subplot(1,3,1)\n",
    "sns.histplot(df['longitude']) #visualize the outliers by using histplot\n",
    "plt.title('Final Plot', fontsize=15)\n",
    "plt.xlabel('longitude', fontsize= 14)\n",
    "\n",
    "plt.subplot(1,3,2)\n",
    "sns.distplot(df['longitude'], color='r') #visualize the normalization curve by using distplot\n",
    "plt.title('Final Plot', fontsize=15)\n",
    "plt.xlabel('longitude', fontsize= 14)\n",
    "\n",
    "plt.subplot(1,3,3)\n",
    "sns.boxplot(data = df['longitude']) #visualize the outliers by using boxplot\n",
    "plt.title('Final Plot', fontsize=15)\n",
    "plt.xlabel('longitude', fontsize= 14)\n",
    "plt.show()"
   ]
  },
  {
   "cell_type": "code",
   "execution_count": 66,
   "id": "12668945",
   "metadata": {},
   "outputs": [
    {
     "data": {
      "text/plain": [
       "0.09427580682186866"
      ]
     },
     "execution_count": 66,
     "metadata": {},
     "output_type": "execute_result"
    }
   ],
   "source": [
    "df['longitude'].skew() #Now, check the skewness"
   ]
  },
  {
   "cell_type": "code",
   "execution_count": 67,
   "id": "741637b3",
   "metadata": {},
   "outputs": [
    {
     "data": {
      "text/plain": [
       "capacity_mw  longitude\n",
       "0.0          77.6752      1\n",
       "1.0          70.8304      1\n",
       "             71.5212      1\n",
       "             71.5322      1\n",
       "             72.2677      1\n",
       "             72.3236      1\n",
       "             72.5235      1\n",
       "             72.5377      1\n",
       "             72.6510      1\n",
       "             72.6690      1\n",
       "Name: longitude, dtype: int64"
      ]
     },
     "execution_count": 67,
     "metadata": {},
     "output_type": "execute_result"
    }
   ],
   "source": [
    "df.groupby('capacity_mw')['longitude'].value_counts().sort_index(ascending=True).head(10)\n",
    "#Checking the relationship between capacity_mw and longitude\n",
    "#The longitude of lowest capacity power plant is 77.6752"
   ]
  },
  {
   "cell_type": "code",
   "execution_count": 68,
   "id": "6001131b",
   "metadata": {},
   "outputs": [
    {
     "data": {
      "text/plain": [
       "capacity_mw  longitude\n",
       "4760.0       82.6719      1\n",
       "4620.0       69.5532      1\n",
       "4000.0       69.5281      1\n",
       "3960.0       82.6275      1\n",
       "3300.0       79.9671      1\n",
       "3000.0       82.7915      1\n",
       "2980.0       82.2930      1\n",
       "2920.0       79.2900      1\n",
       "2630.0       82.7891      1\n",
       "2600.0       82.6858      1\n",
       "Name: longitude, dtype: int64"
      ]
     },
     "execution_count": 68,
     "metadata": {},
     "output_type": "execute_result"
    }
   ],
   "source": [
    "df.groupby('capacity_mw')['longitude'].value_counts().sort_index(ascending=False).head(10)\n",
    "#Checking the relationship between capacity_mw and longitude\n",
    "#The longitude of Highest capacity power plant is 82.6719"
   ]
  },
  {
   "cell_type": "code",
   "execution_count": 69,
   "id": "d3003672",
   "metadata": {},
   "outputs": [
    {
     "data": {
      "text/plain": [
       "longitude  primary_fuel\n",
       "68.6447    Coal            1\n",
       "68.6975    Wind            1\n",
       "68.6988    Wind            1\n",
       "68.7653    Solar           1\n",
       "68.7843    Coal            1\n",
       "68.8782    Wind            1\n",
       "68.9925    Solar           1\n",
       "69.0255    Solar           1\n",
       "69.3732    Wind            1\n",
       "69.5281    Coal            1\n",
       "Name: primary_fuel, dtype: int64"
      ]
     },
     "execution_count": 69,
     "metadata": {},
     "output_type": "execute_result"
    }
   ],
   "source": [
    "df.groupby('longitude')['primary_fuel'].value_counts().sort_index(ascending=True).head(10)\n",
    "#Checking the relationship between longitude and primary_fuel\n",
    "#The lowest longitude is 68.6447 and that is Coal Based Power Plant"
   ]
  },
  {
   "cell_type": "code",
   "execution_count": 70,
   "id": "aa831e55",
   "metadata": {},
   "outputs": [
    {
     "data": {
      "text/plain": [
       "longitude  primary_fuel\n",
       "83.4632    Solar           1\n",
       "83.4573    Coal            1\n",
       "83.4538    Solar           1\n",
       "83.4513    Coal            1\n",
       "83.2788    Coal            1\n",
       "83.2741    Coal            1\n",
       "83.2331    Coal            1\n",
       "83.2058    Coal            1\n",
       "83.1889    Coal            1\n",
       "83.1382    Coal            1\n",
       "Name: primary_fuel, dtype: int64"
      ]
     },
     "execution_count": 70,
     "metadata": {},
     "output_type": "execute_result"
    }
   ],
   "source": [
    "df.groupby('longitude')['primary_fuel'].value_counts().sort_index(ascending=False).head(10)\n",
    "#Checking the relationship between longitude and primary_fuel\n",
    "#The Highest longitude is 83.4632 and that is Solar Power Plant"
   ]
  },
  {
   "cell_type": "code",
   "execution_count": 71,
   "id": "fbdfb7aa",
   "metadata": {},
   "outputs": [
    {
     "data": {
      "text/plain": [
       "longitude  name                               \n",
       "83.4632    Sadeipali - REHPL Solar Power Plant    1\n",
       "83.4573    LARA                                   1\n",
       "83.4538    Sadeipali - ASPL Solar Power Plant     1\n",
       "83.4513    TAMNAR TPP                             1\n",
       "83.2788    NAWAPARA                               1\n",
       "83.2741    AVANTHA BHANDAR TPP                    1\n",
       "83.2331    RAIGARH TPP                            1\n",
       "83.2058    BINJKOTE                               1\n",
       "83.1889    BARADARHA TPP                          1\n",
       "83.1382    VIZAG TPP                              1\n",
       "Name: name, dtype: int64"
      ]
     },
     "execution_count": 71,
     "metadata": {},
     "output_type": "execute_result"
    }
   ],
   "source": [
    "df.groupby('longitude')['name'].value_counts().sort_index(ascending=False).head(10)\n",
    "#Checking the relationship between name and longitude\n",
    "#The Name of the power plant who have highest longitude is Sadeipali - REHPL Solar Power Plant"
   ]
  },
  {
   "cell_type": "code",
   "execution_count": 72,
   "id": "2f2dd2b4",
   "metadata": {},
   "outputs": [
    {
     "data": {
      "text/plain": [
       "longitude  name                       \n",
       "68.6447    AKRIMOTA LIG                   1\n",
       "68.6975    ONGC Kutch Wind Farm           1\n",
       "68.6988    Kosa Wind Farm                 1\n",
       "68.7653    Panandhro Solar Power Plant    1\n",
       "68.7843    KUTCH LIG.                     1\n",
       "68.8782    Bera Wind Farm                 1\n",
       "68.9925    Mithapur Solar Power Plant     1\n",
       "69.0255    Bitta Solar Power Plant        1\n",
       "69.3732    AES Saurashtra Windfarms       1\n",
       "69.5281    MUNDRA UMPP                    1\n",
       "Name: name, dtype: int64"
      ]
     },
     "execution_count": 72,
     "metadata": {},
     "output_type": "execute_result"
    }
   ],
   "source": [
    "df.groupby('longitude')['name'].value_counts().sort_index(ascending=True).head(10)\n",
    "#Checking the relationship between name and longitude\n",
    "#The Name of the lowest longitude power plant is AKRIMOTA LIG"
   ]
  },
  {
   "cell_type": "code",
   "execution_count": 73,
   "id": "0161157e",
   "metadata": {},
   "outputs": [
    {
     "name": "stdout",
     "output_type": "stream",
     "text": [
      "Actual shape of our Dataset now :--------> (820, 23)\n"
     ]
    }
   ],
   "source": [
    "#check the shape of our dataset\n",
    "print('Actual shape of our Dataset now :-------->', df.shape)"
   ]
  },
  {
   "cell_type": "markdown",
   "id": "012eb597",
   "metadata": {},
   "source": [
    "Observation:\n",
    "1. There is no zero value in this column\n",
    "2. There are 46 Null values which was replaced by column mean.\n",
    "3. Outliers found and we removed outliers\n",
    "4. Earlier, Skewness of the column is 1.12 and now, it is 0.094\n",
    "5. Mean, median and mode values are almost equal\n",
    "6. longitude of Lowest capacity power plant is 77.6752\n",
    "7. longitude of Highest capacity power plant is 82.6719\n",
    "8. The lowest longitude is 68.6447 and it is Coal based Powerplant, its name is 'AKRIMOTA LIG'\n",
    "9. The highest longitude is 83.4632 and it is Solar Powerplant, its name is 'Sadeipali - REHPL Solar Power Plant'\n",
    "10. So, it means, Eastern India have high longitude.\n",
    "11. and Western India have lowest longitude."
   ]
  },
  {
   "cell_type": "markdown",
   "id": "60052601",
   "metadata": {},
   "source": [
    "# Column6: other_fuel1"
   ]
  },
  {
   "cell_type": "code",
   "execution_count": 74,
   "id": "e0cea7b6",
   "metadata": {},
   "outputs": [
    {
     "data": {
      "text/plain": [
       "array([nan, 'Oil', 'Cogeneration', 'Gas'], dtype=object)"
      ]
     },
     "execution_count": 74,
     "metadata": {},
     "output_type": "execute_result"
    }
   ],
   "source": [
    "df['other_fuel1'].unique() #check the unique value"
   ]
  },
  {
   "cell_type": "code",
   "execution_count": 75,
   "id": "83c58bf2",
   "metadata": {},
   "outputs": [
    {
     "data": {
      "text/plain": [
       "Oil             157\n",
       "Gas               2\n",
       "Cogeneration      1\n",
       "Name: other_fuel1, dtype: int64"
      ]
     },
     "execution_count": 75,
     "metadata": {},
     "output_type": "execute_result"
    }
   ],
   "source": [
    "df['other_fuel1'].value_counts() #check the counts of unique value"
   ]
  },
  {
   "cell_type": "code",
   "execution_count": 76,
   "id": "032b8d97",
   "metadata": {},
   "outputs": [
    {
     "data": {
      "text/plain": [
       "True"
      ]
     },
     "execution_count": 76,
     "metadata": {},
     "output_type": "execute_result"
    }
   ],
   "source": [
    "df['other_fuel1'].all() #check the zero values"
   ]
  },
  {
   "cell_type": "code",
   "execution_count": 77,
   "id": "b5a4998b",
   "metadata": {},
   "outputs": [
    {
     "data": {
      "text/plain": [
       "660"
      ]
     },
     "execution_count": 77,
     "metadata": {},
     "output_type": "execute_result"
    }
   ],
   "source": [
    "df['other_fuel1'].isnull().sum() #check the null values"
   ]
  },
  {
   "cell_type": "code",
   "execution_count": 78,
   "id": "439a05a3",
   "metadata": {},
   "outputs": [],
   "source": [
    "df.drop(columns = ['other_fuel1'], inplace = True) #drop the column"
   ]
  },
  {
   "cell_type": "code",
   "execution_count": 79,
   "id": "18edce31",
   "metadata": {},
   "outputs": [
    {
     "name": "stdout",
     "output_type": "stream",
     "text": [
      "Actual shape of our Dataset now :--------> (820, 22)\n"
     ]
    }
   ],
   "source": [
    "#check the updated shape of our dataset\n",
    "print('Actual shape of our Dataset now :-------->', df.shape)"
   ]
  },
  {
   "cell_type": "markdown",
   "id": "4c513026",
   "metadata": {},
   "source": [
    "Observation:\n",
    "1. No Zero values found\n",
    "2. Column contains only 3 category:\n",
    "3. Oil - 157\n",
    "4. Gas- 2\n",
    "5. Cogeneration - 1\n",
    "6. Huge amount of Null Values, 660 numbers\n",
    "7. It is better to drop this column instead of replacing this Null values to any other category.\n",
    "8. if we drop this Null values than we can loose some useful information also. \n",
    "9. So, we decided to drop this column."
   ]
  },
  {
   "cell_type": "markdown",
   "id": "e080df7e",
   "metadata": {},
   "source": [
    "# Column7: other_fuel2"
   ]
  },
  {
   "cell_type": "code",
   "execution_count": 80,
   "id": "3270874b",
   "metadata": {},
   "outputs": [
    {
     "data": {
      "text/plain": [
       "array([nan, 'Oil'], dtype=object)"
      ]
     },
     "execution_count": 80,
     "metadata": {},
     "output_type": "execute_result"
    }
   ],
   "source": [
    "df['other_fuel2'].unique() #check the unique values"
   ]
  },
  {
   "cell_type": "code",
   "execution_count": 81,
   "id": "94fd0751",
   "metadata": {},
   "outputs": [
    {
     "data": {
      "text/plain": [
       "Oil    1\n",
       "Name: other_fuel2, dtype: int64"
      ]
     },
     "execution_count": 81,
     "metadata": {},
     "output_type": "execute_result"
    }
   ],
   "source": [
    "df['other_fuel2'].value_counts()  #check the counts of unique value"
   ]
  },
  {
   "cell_type": "code",
   "execution_count": 82,
   "id": "88cf84a8",
   "metadata": {},
   "outputs": [
    {
     "data": {
      "text/plain": [
       "True"
      ]
     },
     "execution_count": 82,
     "metadata": {},
     "output_type": "execute_result"
    }
   ],
   "source": [
    "df['other_fuel2'].all() #check the zero values"
   ]
  },
  {
   "cell_type": "code",
   "execution_count": 83,
   "id": "d1b555ad",
   "metadata": {},
   "outputs": [
    {
     "data": {
      "text/plain": [
       "819"
      ]
     },
     "execution_count": 83,
     "metadata": {},
     "output_type": "execute_result"
    }
   ],
   "source": [
    "df['other_fuel2'].isnull().sum() #check the null values"
   ]
  },
  {
   "cell_type": "code",
   "execution_count": 84,
   "id": "82b112b9",
   "metadata": {},
   "outputs": [],
   "source": [
    "df.drop(columns = ['other_fuel2'], inplace = True) #drop the column"
   ]
  },
  {
   "cell_type": "code",
   "execution_count": 85,
   "id": "f3e8af79",
   "metadata": {},
   "outputs": [
    {
     "name": "stdout",
     "output_type": "stream",
     "text": [
      "Actual shape of our Dataset now :--------> (820, 21)\n"
     ]
    }
   ],
   "source": [
    "#check the updated shape of our dataset\n",
    "print('Actual shape of our Dataset now :-------->', df.shape)"
   ]
  },
  {
   "cell_type": "markdown",
   "id": "8b97bbe8",
   "metadata": {},
   "source": [
    "Observation:\n",
    "1. No zero values found\n",
    "2. Column contains only null values except one value that is Oil\n",
    "3. So, it is better to drop this column instead of replacing all null values into Oil."
   ]
  },
  {
   "cell_type": "markdown",
   "id": "3cf0518a",
   "metadata": {},
   "source": [
    "# Column8: other_fuel3"
   ]
  },
  {
   "cell_type": "code",
   "execution_count": 86,
   "id": "d224e3ab",
   "metadata": {},
   "outputs": [
    {
     "data": {
      "text/plain": [
       "array([nan])"
      ]
     },
     "execution_count": 86,
     "metadata": {},
     "output_type": "execute_result"
    }
   ],
   "source": [
    "df['other_fuel3'].unique() #check the unique value"
   ]
  },
  {
   "cell_type": "code",
   "execution_count": 87,
   "id": "6638215b",
   "metadata": {},
   "outputs": [
    {
     "data": {
      "text/plain": [
       "Series([], Name: other_fuel3, dtype: int64)"
      ]
     },
     "execution_count": 87,
     "metadata": {},
     "output_type": "execute_result"
    }
   ],
   "source": [
    "df['other_fuel3'].value_counts() #check the counts of unique value"
   ]
  },
  {
   "cell_type": "code",
   "execution_count": 88,
   "id": "6f00dd9e",
   "metadata": {},
   "outputs": [
    {
     "data": {
      "text/plain": [
       "True"
      ]
     },
     "execution_count": 88,
     "metadata": {},
     "output_type": "execute_result"
    }
   ],
   "source": [
    "df['other_fuel3'].all() #check the zero values"
   ]
  },
  {
   "cell_type": "code",
   "execution_count": 89,
   "id": "d0ceb427",
   "metadata": {},
   "outputs": [],
   "source": [
    "df.drop(columns = ['other_fuel3'], inplace = True) #drop the column"
   ]
  },
  {
   "cell_type": "code",
   "execution_count": 90,
   "id": "2744c39a",
   "metadata": {},
   "outputs": [
    {
     "name": "stdout",
     "output_type": "stream",
     "text": [
      "Actual shape of our Dataset now :--------> (820, 20)\n"
     ]
    }
   ],
   "source": [
    "#check the updated shape of our dataset\n",
    "print('Actual shape of our Dataset now :-------->', df.shape)"
   ]
  },
  {
   "cell_type": "markdown",
   "id": "90de2d5f",
   "metadata": {},
   "source": [
    "Observation:\n",
    "1. No zero value found\n",
    "2. Column contains all null values\n",
    "3. So, it is better to drop this column"
   ]
  },
  {
   "cell_type": "markdown",
   "id": "3d20e8c6",
   "metadata": {},
   "source": [
    "# Column9: commissioning_year"
   ]
  },
  {
   "cell_type": "code",
   "execution_count": 91,
   "id": "f03b7d65",
   "metadata": {},
   "outputs": [
    {
     "data": {
      "text/plain": [
       "array([2011.,   nan, 2015., 2005., 2010., 2004., 2008., 2014., 1985.,\n",
       "       1986., 1987., 2000., 1989., 2017., 1998., 1977., 1980., 1984.,\n",
       "       1996., 1991., 2002., 2001., 2006., 1988., 2003., 1973., 2012.,\n",
       "       1968., 1964., 2016., 2013., 1962., 2007., 1997., 1999., 1994.,\n",
       "       1975., 1992., 1972., 1979., 1967., 1995., 1983., 1959., 1993.,\n",
       "       1961., 1957., 1978., 1976., 1963., 1981., 1955., 2018., 1970.,\n",
       "       2009., 1966., 1965., 1960., 1949., 1952., 1990., 1982., 1937.,\n",
       "       1956., 1946., 1958., 1943., 1954., 1969., 1939., 1971., 1927.,\n",
       "       1974.])"
      ]
     },
     "execution_count": 91,
     "metadata": {},
     "output_type": "execute_result"
    }
   ],
   "source": [
    "df['commissioning_year'].unique() #check the unique values"
   ]
  },
  {
   "cell_type": "code",
   "execution_count": 92,
   "id": "3d4c6fd8",
   "metadata": {},
   "outputs": [
    {
     "data": {
      "text/plain": [
       "2013.0    24\n",
       "2015.0    22\n",
       "2012.0    19\n",
       "2016.0    16\n",
       "2014.0    15\n",
       "          ..\n",
       "1971.0     1\n",
       "1927.0     1\n",
       "1954.0     1\n",
       "1956.0     1\n",
       "1946.0     1\n",
       "Name: commissioning_year, Length: 72, dtype: int64"
      ]
     },
     "execution_count": 92,
     "metadata": {},
     "output_type": "execute_result"
    }
   ],
   "source": [
    "df['commissioning_year'].value_counts() #check the counts of unique values"
   ]
  },
  {
   "cell_type": "code",
   "execution_count": 93,
   "id": "509c590b",
   "metadata": {},
   "outputs": [
    {
     "data": {
      "text/plain": [
       "True"
      ]
     },
     "execution_count": 93,
     "metadata": {},
     "output_type": "execute_result"
    }
   ],
   "source": [
    "df['commissioning_year'].all() #check the zero values in column"
   ]
  },
  {
   "cell_type": "code",
   "execution_count": 94,
   "id": "7d1b33cb",
   "metadata": {},
   "outputs": [
    {
     "data": {
      "text/plain": [
       "376"
      ]
     },
     "execution_count": 94,
     "metadata": {},
     "output_type": "execute_result"
    }
   ],
   "source": [
    "df['commissioning_year'].isnull().sum() #check the null values"
   ]
  },
  {
   "cell_type": "code",
   "execution_count": 95,
   "id": "87bc451e",
   "metadata": {},
   "outputs": [],
   "source": [
    "df.dropna(subset=[\"commissioning_year\"], inplace=True) #drop the null values"
   ]
  },
  {
   "cell_type": "code",
   "execution_count": 96,
   "id": "c8f500b7",
   "metadata": {},
   "outputs": [
    {
     "data": {
      "text/plain": [
       "0"
      ]
     },
     "execution_count": 96,
     "metadata": {},
     "output_type": "execute_result"
    }
   ],
   "source": [
    "df['commissioning_year'].isnull().sum() #Now, check the null values"
   ]
  },
  {
   "cell_type": "code",
   "execution_count": 97,
   "id": "481aa402",
   "metadata": {},
   "outputs": [
    {
     "data": {
      "text/plain": [
       "array([2011., 2015., 2005., 2010., 2004., 2008., 2014., 1985., 1986.,\n",
       "       1987., 2000., 1989., 2017., 1998., 1977., 1980., 1984., 1996.,\n",
       "       1991., 2002., 2001., 2006., 1988., 2003., 1973., 2012., 1968.,\n",
       "       1964., 2016., 2013., 1962., 2007., 1997., 1999., 1994., 1975.,\n",
       "       1992., 1972., 1979., 1967., 1995., 1983., 1959., 1993., 1961.,\n",
       "       1957., 1978., 1976., 1963., 1981., 1955., 2018., 1970., 2009.,\n",
       "       1966., 1965., 1960., 1949., 1952., 1990., 1982., 1937., 1956.,\n",
       "       1946., 1958., 1943., 1954., 1969., 1939., 1971., 1927., 1974.])"
      ]
     },
     "execution_count": 97,
     "metadata": {},
     "output_type": "execute_result"
    }
   ],
   "source": [
    "df['commissioning_year'].unique() #Now, check the unique values"
   ]
  },
  {
   "cell_type": "code",
   "execution_count": 98,
   "id": "5902b471",
   "metadata": {},
   "outputs": [
    {
     "data": {
      "text/plain": [
       "2013.0    24\n",
       "2015.0    22\n",
       "2012.0    19\n",
       "2016.0    16\n",
       "2010.0    15\n",
       "          ..\n",
       "1971.0     1\n",
       "1959.0     1\n",
       "1943.0     1\n",
       "1939.0     1\n",
       "1974.0     1\n",
       "Name: commissioning_year, Length: 72, dtype: int64"
      ]
     },
     "execution_count": 98,
     "metadata": {},
     "output_type": "execute_result"
    }
   ],
   "source": [
    "df['commissioning_year'].value_counts() #check the counts of unique values"
   ]
  },
  {
   "cell_type": "code",
   "execution_count": 99,
   "id": "0abb90d7",
   "metadata": {},
   "outputs": [
    {
     "data": {
      "text/plain": [
       "latitude  commissioning_year\n",
       "34.6490   2018.0                1\n",
       "34.5605   1995.0                1\n",
       "34.4903   2012.0                1\n",
       "34.2236   1959.0                1\n",
       "34.2189   1978.0                1\n",
       "34.2154   2013.0                1\n",
       "34.1980   1996.0                1\n",
       "34.1442   1996.0                1\n",
       "34.0921   2013.0                1\n",
       "34.0040   1992.0                1\n",
       "Name: commissioning_year, dtype: int64"
      ]
     },
     "execution_count": 99,
     "metadata": {},
     "output_type": "execute_result"
    }
   ],
   "source": [
    "df.groupby('latitude')['commissioning_year'].value_counts().sort_index(ascending=False).head(10)\n",
    "#Checking the relationship between commissioning_year and latitude"
   ]
  },
  {
   "cell_type": "code",
   "execution_count": 100,
   "id": "26e25a39",
   "metadata": {},
   "outputs": [
    {
     "data": {
      "text/plain": [
       "2002.0    1\n",
       "Name: commissioning_year, dtype: int64"
      ]
     },
     "execution_count": 100,
     "metadata": {},
     "output_type": "execute_result"
    }
   ],
   "source": [
    "df['commissioning_year'][df.latitude==24.0983].value_counts()"
   ]
  },
  {
   "cell_type": "code",
   "execution_count": 101,
   "id": "abe972bc",
   "metadata": {},
   "outputs": [
    {
     "data": {
      "text/plain": [
       "commissioning_year  primary_fuel\n",
       "2018.0              Hydro            1\n",
       "                    Coal             2\n",
       "2017.0              Hydro            3\n",
       "                    Coal             5\n",
       "2016.0              Hydro            2\n",
       "                    Gas              3\n",
       "                    Coal            11\n",
       "2015.0              Solar            1\n",
       "                    Nuclear          1\n",
       "                    Hydro            4\n",
       "                    Gas              1\n",
       "                    Coal            15\n",
       "2014.0              Solar            3\n",
       "                    Hydro            1\n",
       "                    Gas              1\n",
       "                    Coal            10\n",
       "2013.0              Solar            3\n",
       "                    Hydro            4\n",
       "                    Gas              1\n",
       "                    Coal            16\n",
       "2012.0              Hydro            4\n",
       "                    Gas              3\n",
       "                    Coal            12\n",
       "2011.0              Solar            1\n",
       "                    Hydro            2\n",
       "                    Coal             8\n",
       "2010.0              Hydro            3\n",
       "                    Gas              2\n",
       "                    Coal            10\n",
       "2009.0              Hydro            1\n",
       "                    Gas              3\n",
       "                    Coal             5\n",
       "2008.0              Hydro            2\n",
       "                    Gas              3\n",
       "                    Coal             3\n",
       "2007.0              Hydro            2\n",
       "                    Gas              1\n",
       "                    Coal             3\n",
       "2006.0              Hydro            7\n",
       "                    Gas              1\n",
       "                    Coal             1\n",
       "2005.0              Hydro            3\n",
       "                    Gas              3\n",
       "                    Coal             2\n",
       "2004.0              Nuclear          1\n",
       "                    Hydro            5\n",
       "                    Coal             3\n",
       "2003.0              Hydro            4\n",
       "                    Gas              3\n",
       "                    Coal             1\n",
       "Name: primary_fuel, dtype: int64"
      ]
     },
     "execution_count": 101,
     "metadata": {},
     "output_type": "execute_result"
    }
   ],
   "source": [
    "df.groupby('commissioning_year')['primary_fuel'].value_counts().sort_index(ascending=False).head(50)\n",
    "#Checking the relationship between commissioning_year and primary_fuel"
   ]
  },
  {
   "cell_type": "code",
   "execution_count": 102,
   "id": "f4f28145",
   "metadata": {},
   "outputs": [
    {
     "data": {
      "text/plain": [
       "Text(0.5, 0, 'commissioning_year')"
      ]
     },
     "execution_count": 102,
     "metadata": {},
     "output_type": "execute_result"
    },
    {
     "data": {
      "image/png": "[encoded data removed]",
      "text/plain": [
       "<Figure size 432x288 with 1 Axes>"
      ]
     },
     "metadata": {
      "needs_background": "light"
     },
     "output_type": "display_data"
    }
   ],
   "source": [
    "#visualize this column by Histplot\n",
    "#Check the relationship between primary_fuel and commissioning_year\n",
    "sns.histplot(y = 'primary_fuel', x = 'commissioning_year', data=df)\n",
    "plt.ylabel('primary_fuel', fontsize = 14)\n",
    "plt.xlabel('commissioning_year', fontsize = 14)"
   ]
  },
  {
   "cell_type": "code",
   "execution_count": 103,
   "id": "34d260a5",
   "metadata": {},
   "outputs": [
    {
     "name": "stdout",
     "output_type": "stream",
     "text": [
      "Actual shape of our Dataset now :--------> (444, 20)\n"
     ]
    }
   ],
   "source": [
    "#check the Actual shape of our dataset\n",
    "print('Actual shape of our Dataset now :-------->', df.shape)"
   ]
  },
  {
   "cell_type": "markdown",
   "id": "f5603624",
   "metadata": {},
   "source": [
    "Observation:\n",
    "1. No zero values found\n",
    "2. Null values are found, we drop the null values for further analysis.\n",
    "3. 2013 is the highest commissioning year for powerplants.\n",
    "4. We can see, every year commissioning of Coal Plants are high than others.\n",
    "5. The commissioning year of 4760.0 MW is 2002.0, rest, 0.0MW values are Null values. "
   ]
  },
  {
   "cell_type": "markdown",
   "id": "15f76594",
   "metadata": {},
   "source": [
    "# Column10: gppd_idnr"
   ]
  },
  {
   "cell_type": "code",
   "execution_count": 104,
   "id": "db428c29",
   "metadata": {},
   "outputs": [
    {
     "data": {
      "text/plain": [
       "array(['WRI1020239', 'IND0000002', 'IND0000003', 'IND0000005',\n",
       "       'IND0000006', 'IND0000007', 'IND0000008', 'IND0000009',\n",
       "       'IND0000010', 'IND0000011', 'IND0000012', 'IND0000013',\n",
       "       'IND0000014', 'IND0000015', 'IND0000016', 'IND0000017',\n",
       "       'WRI1020238', 'IND0000018', 'IND0000019', 'IND0000020',\n",
       "       'IND0000021', 'IND0000022', 'IND0000025', 'IND0000024',\n",
       "       'IND0000026', 'IND0000028', 'IND0000029', 'IND0000030',\n",
       "       'IND0000031', 'IND0000032', 'IND0000033', 'IND0000036',\n",
       "       'IND0000038', 'IND0000039', 'IND0000040', 'IND0000041',\n",
       "       'IND0000042', 'IND0000044', 'IND0000045', 'IND0000046',\n",
       "       'IND0000047', 'IND0000048', 'IND0000049', 'IND0000050',\n",
       "       'IND0000514', 'IND0000052', 'IND0000053', 'IND0000051',\n",
       "       'IND0000054', 'IND0000055', 'IND0000056', 'IND0000057',\n",
       "       'IND0000058', 'IND0000059', 'IND0000527', 'IND0000060',\n",
       "       'IND0000061', 'IND0000067', 'IND0000068', 'IND0000070',\n",
       "       'IND0000071', 'IND0000072', 'IND0000073', 'IND0000074',\n",
       "       'IND0000075', 'IND0000076', 'IND0000515', 'IND0000079',\n",
       "       'IND0000080', 'IND0000081', 'IND0000082', 'IND0000083',\n",
       "       'IND0000084', 'IND0000088', 'IND0000089', 'IND0000086',\n",
       "       'IND0000090', 'IND0000091', 'IND0000093', 'IND0000094',\n",
       "       'IND0000095', 'IND0000096', 'IND0000097', 'IND0000098',\n",
       "       'IND0000099', 'IND0000101', 'IND0000102', 'IND0000104',\n",
       "       'IND0000106', 'IND0000107', 'WRI1020240', 'WRI1020241',\n",
       "       'IND0000110', 'IND0000111', 'IND0000114', 'IND0000115',\n",
       "       'IND0000118', 'IND0000119', 'IND0000516', 'IND0000120',\n",
       "       'IND0000121', 'IND0000122', 'IND0000123', 'IND0000124',\n",
       "       'IND0000125', 'IND0000126', 'IND0000127', 'IND0000128',\n",
       "       'IND0000129', 'IND0000130', 'IND0000132', 'IND0000112',\n",
       "       'IND0000133', 'IND0000134', 'IND0000136', 'IND0000137',\n",
       "       'WRI1020242', 'WRI1020243', 'IND0000140', 'IND0000141',\n",
       "       'IND0000142', 'IND0000143', 'IND0000138', 'IND0000146',\n",
       "       'IND0000148', 'IND0000149', 'IND0000150', 'IND0000151',\n",
       "       'IND0000154', 'IND0000152', 'IND0000155', 'IND0000157',\n",
       "       'IND0000158', 'IND0000159', 'IND0000162', 'IND0000166',\n",
       "       'IND0000167', 'IND0000168', 'IND0000170', 'IND0000171',\n",
       "       'IND0000172', 'IND0000173', 'IND0000174', 'IND0000175',\n",
       "       'IND0000176', 'IND0000177', 'IND0000179', 'IND0000180',\n",
       "       'IND0000182', 'IND0000183', 'IND0000184', 'IND0000185',\n",
       "       'IND0000186', 'IND0000517', 'IND0000518', 'IND0000187',\n",
       "       'IND0000189', 'IND0000190', 'IND0000191', 'IND0000192',\n",
       "       'IND0000193', 'IND0000195', 'IND0000196', 'IND0000197',\n",
       "       'IND0000198', 'IND0000530', 'IND0000199', 'IND0000200',\n",
       "       'IND0000202', 'IND0000204', 'IND0000205', 'IND0000206',\n",
       "       'IND0000208', 'IND0000209', 'IND0000210', 'IND0000211',\n",
       "       'IND0000213', 'IND0000214', 'IND0000215', 'IND0000216',\n",
       "       'IND0000217', 'IND0000519', 'IND0000218', 'IND0000219',\n",
       "       'IND0000220', 'IND0000221', 'IND0000222', 'IND0000223',\n",
       "       'IND0000224', 'IND0000225', 'IND0000226', 'WRI1020244',\n",
       "       'IND0000163', 'IND0000164', 'IND0000165', 'IND0000230',\n",
       "       'IND0000531', 'IND0000229', 'IND0000231', 'IND0000232',\n",
       "       'IND0000233', 'IND0000235', 'IND0000236', 'IND0000237',\n",
       "       'IND0000238', 'IND0000239', 'IND0000240', 'IND0000241',\n",
       "       'IND0000242', 'IND0000243', 'IND0000244', 'IND0000245',\n",
       "       'IND0000247', 'IND0000248', 'IND0000249', 'IND0000253',\n",
       "       'IND0000255', 'IND0000520', 'IND0000256', 'IND0000257',\n",
       "       'IND0000258', 'IND0000259', 'IND0000260', 'IND0000261',\n",
       "       'IND0000532', 'IND0000264', 'IND0000265', 'IND0000266',\n",
       "       'IND0000267', 'IND0000268', 'IND0000270', 'IND0000271',\n",
       "       'IND0000273', 'IND0000274', 'IND0000275', 'IND0000276',\n",
       "       'IND0000278', 'IND0000279', 'IND0000280', 'WRI1020245',\n",
       "       'IND0000283', 'IND0000286', 'IND0000521', 'IND0000289',\n",
       "       'IND0000291', 'IND0000292', 'IND0000293', 'IND0000294',\n",
       "       'IND0000522', 'IND0000297', 'IND0000298', 'IND0000299',\n",
       "       'IND0000300', 'IND0000301', 'IND0000302', 'IND0000303',\n",
       "       'IND0000304', 'IND0000305', 'IND0000306', 'IND0000307',\n",
       "       'IND0000308', 'IND0000284', 'IND0000285', 'IND0000310',\n",
       "       'IND0000311', 'IND0000312', 'IND0000313', 'IND0000314',\n",
       "       'IND0000315', 'IND0000316', 'IND0000318', 'IND0000319',\n",
       "       'IND0000321', 'IND0000322', 'IND0000323', 'IND0000324',\n",
       "       'IND0000325', 'IND0000326', 'IND0000327', 'IND0000328',\n",
       "       'IND0000329', 'IND0000330', 'IND0000331', 'IND0000333',\n",
       "       'IND0000334', 'IND0000335', 'IND0000336', 'IND0000337',\n",
       "       'IND0000338', 'IND0000339', 'IND0000340', 'IND0000341',\n",
       "       'IND0000342', 'IND0000343', 'IND0000344', 'IND0000345',\n",
       "       'IND0000346', 'IND0000523', 'IND0000348', 'IND0000349',\n",
       "       'IND0000350', 'IND0000351', 'IND0000354', 'IND0000356',\n",
       "       'IND0000357', 'IND0000358', 'IND0000359', 'IND0000360',\n",
       "       'IND0000361', 'IND0000362', 'IND0000363', 'IND0000364',\n",
       "       'IND0000366', 'IND0000369', 'IND0000370', 'IND0000371',\n",
       "       'IND0000372', 'IND0000373', 'IND0000375', 'IND0000376',\n",
       "       'IND0000377', 'IND0000378', 'IND0000380', 'IND0000381',\n",
       "       'IND0000352', 'IND0000353', 'IND0000382', 'IND0000383',\n",
       "       'IND0000384', 'IND0000534', 'IND0000386', 'IND0000387',\n",
       "       'IND0000388', 'IND0000389', 'IND0000390', 'IND0000391',\n",
       "       'IND0000392', 'IND0000394', 'IND0000395', 'IND0000396',\n",
       "       'IND0000397', 'IND0000524', 'IND0000398', 'IND0000399',\n",
       "       'IND0000400', 'IND0000401', 'IND0000402', 'IND0000403',\n",
       "       'IND0000404', 'IND0000405', 'IND0000406', 'IND0000535',\n",
       "       'IND0000407', 'IND0000408', 'IND0000409', 'IND0000411',\n",
       "       'IND0000412', 'IND0000413', 'IND0000414', 'IND0000415',\n",
       "       'IND0000416', 'IND0000417', 'IND0000525', 'IND0000418',\n",
       "       'IND0000536', 'IND0000419', 'IND0000420', 'IND0000422',\n",
       "       'IND0000423', 'IND0000424', 'IND0000425', 'IND0000428',\n",
       "       'IND0000429', 'IND0000430', 'IND0000431', 'IND0000432',\n",
       "       'IND0000433', 'IND0000434', 'IND0000435', 'IND0000410',\n",
       "       'IND0000436', 'IND0000437', 'IND0000440', 'IND0000441',\n",
       "       'IND0000442', 'IND0000443', 'IND0000444', 'IND0000445',\n",
       "       'IND0000446', 'IND0000451', 'IND0000453', 'IND0000454',\n",
       "       'IND0000455', 'IND0000457', 'IND0000459', 'IND0000460',\n",
       "       'IND0000461', 'IND0000462', 'IND0000463', 'IND0000464',\n",
       "       'IND0000465', 'IND0000466', 'IND0000468', 'IND0000467',\n",
       "       'IND0000469', 'IND0000471', 'IND0000472', 'IND0000473',\n",
       "       'IND0000474', 'IND0000475', 'IND0000476', 'IND0000479',\n",
       "       'IND0000480', 'IND0000481', 'IND0000482', 'IND0000483',\n",
       "       'IND0000484', 'IND0000485', 'IND0000486', 'IND0000487',\n",
       "       'IND0000488', 'IND0000489', 'IND0000491', 'IND0000492',\n",
       "       'IND0000493', 'IND0000494', 'IND0000495', 'IND0000496',\n",
       "       'IND0000497', 'IND0000499', 'IND0000500', 'IND0000501',\n",
       "       'IND0000502', 'IND0000503', 'IND0000504', 'IND0000505',\n",
       "       'IND0000506', 'IND0000507', 'IND0000508', 'IND0000509',\n",
       "       'IND0000510', 'IND0000511', 'IND0000512', 'IND0000513'],\n",
       "      dtype=object)"
      ]
     },
     "execution_count": 104,
     "metadata": {},
     "output_type": "execute_result"
    }
   ],
   "source": [
    "df['gppd_idnr'].unique() #check the unique values"
   ]
  },
  {
   "cell_type": "code",
   "execution_count": 105,
   "id": "bc62653d",
   "metadata": {},
   "outputs": [
    {
     "data": {
      "text/plain": [
       "IND0000444    1\n",
       "IND0000358    1\n",
       "IND0000404    1\n",
       "IND0000225    1\n",
       "IND0000434    1\n",
       "             ..\n",
       "IND0000535    1\n",
       "IND0000204    1\n",
       "IND0000333    1\n",
       "IND0000432    1\n",
       "IND0000016    1\n",
       "Name: gppd_idnr, Length: 444, dtype: int64"
      ]
     },
     "execution_count": 105,
     "metadata": {},
     "output_type": "execute_result"
    }
   ],
   "source": [
    "df['gppd_idnr'].value_counts() #check the counts of unique values"
   ]
  },
  {
   "cell_type": "code",
   "execution_count": 106,
   "id": "ba3cd996",
   "metadata": {},
   "outputs": [
    {
     "data": {
      "text/plain": [
       "0"
      ]
     },
     "execution_count": 106,
     "metadata": {},
     "output_type": "execute_result"
    }
   ],
   "source": [
    "df['gppd_idnr'].isnull().sum() #check the null values"
   ]
  },
  {
   "cell_type": "code",
   "execution_count": 107,
   "id": "06468f6b",
   "metadata": {},
   "outputs": [],
   "source": [
    "lab_enc = LabelEncoder() #using Label Encoder to transform our column data\n",
    "df['gppd_idnr'] = pd.Series(lab_enc.fit_transform(df['gppd_idnr']))"
   ]
  },
  {
   "cell_type": "code",
   "execution_count": 108,
   "id": "404f288c",
   "metadata": {},
   "outputs": [
    {
     "data": {
      "text/plain": [
       "array([437.,   3.,   4.,   6.,   7.,   8.,   9.,  10.,  11.,  12.,  13.,\n",
       "        14., 436.,  16.,  21.,  20.,  23.,  37.,  38.,  40.,  41., 417.,\n",
       "        44.,  42.,  47.,  49.,  50., 429.,  51.,  52.,  54.,  57.,  59.,\n",
       "        60.,  61., 418.,  62.,  69.,  71.,  72.,  74.,  77.,  78.,  79.,\n",
       "        80.,  81.,  82.,  83., 438., 439.,  85.,  86.,  88.,  91.,  92.,\n",
       "        93.,  94.,  99., 100., 102.,  87., 124., 128., 129., 130., 137.,\n",
       "       138., 139., 140., 141., 142., 143., 144., 150., 151., 152., 154.,\n",
       "       157., 159., 160., 161., 162., 163., 164., 165., 166., 169., 172.,\n",
       "       174., 176., 183., 184., 186., 187., 189., 195., 197., 200., 423.,\n",
       "       201., 202., 203., 204., 205., 206., 432., 208., 209., 210., 211.,\n",
       "       213., 215., 216., 217., 218., 220., 228., 232., 236., 238., 240.,\n",
       "       241., 248., 252., 253., 254., 255., 259., 260., 261., 265., 268.,\n",
       "       273., 274., 276., 286., 287., 288., 290., 291., 292., 293., 294.,\n",
       "       295., 296., 297., 301., 303., 281., 304., 305., 306., 433., 307.,\n",
       "       308., 310., 312., 313., 314., 316., 317., 318., 319., 320., 321.,\n",
       "       323., 325., 326., 327., 329., 335., 336., 435., 339., 340., 341.,\n",
       "       343., 345., 346., 347., 348., 350., 351., 352., 330., 354., 355.,\n",
       "       356., 357., 358., 359., 360., 363., 364., 365., 391., 392., 393.,\n",
       "       394., 395., 396., 402., 403., 404., 405., 406., 407., 409.,  nan])"
      ]
     },
     "execution_count": 108,
     "metadata": {},
     "output_type": "execute_result"
    }
   ],
   "source": [
    "df['gppd_idnr'].unique() #check the unique values"
   ]
  },
  {
   "cell_type": "code",
   "execution_count": 109,
   "id": "d8015454",
   "metadata": {},
   "outputs": [
    {
     "data": {
      "text/plain": [
       "350.0    1\n",
       "69.0     1\n",
       "364.0    1\n",
       "254.0    1\n",
       "343.0    1\n",
       "        ..\n",
       "297.0    1\n",
       "355.0    1\n",
       "62.0     1\n",
       "429.0    1\n",
       "436.0    1\n",
       "Name: gppd_idnr, Length: 208, dtype: int64"
      ]
     },
     "execution_count": 109,
     "metadata": {},
     "output_type": "execute_result"
    }
   ],
   "source": [
    "df['gppd_idnr'].value_counts() #check the counts of unique values"
   ]
  },
  {
   "cell_type": "code",
   "execution_count": 110,
   "id": "4d73dd15",
   "metadata": {},
   "outputs": [
    {
     "data": {
      "text/plain": [
       "Text(0, 0.5, 'Counts')"
      ]
     },
     "execution_count": 110,
     "metadata": {},
     "output_type": "execute_result"
    },
    {
     "data": {
      "image/png": "[encoded data removed]",
      "text/plain": [
       "<Figure size 3600x504 with 1 Axes>"
      ]
     },
     "metadata": {
      "needs_background": "light"
     },
     "output_type": "display_data"
    }
   ],
   "source": [
    "#visualize this column by Countplot\n",
    "plt.figure(figsize =(50,7))\n",
    "sns.countplot(x = 'gppd_idnr', data=df)\n",
    "plt.xlabel('gppd_idnr', fontsize = 14)\n",
    "plt.ylabel('Counts', fontsize = 14)"
   ]
  },
  {
   "cell_type": "code",
   "execution_count": 111,
   "id": "299c35ef",
   "metadata": {},
   "outputs": [],
   "source": [
    "df.drop(columns = ['gppd_idnr'], inplace = True) #drop the column"
   ]
  },
  {
   "cell_type": "code",
   "execution_count": 112,
   "id": "95cc05b7",
   "metadata": {},
   "outputs": [
    {
     "name": "stdout",
     "output_type": "stream",
     "text": [
      "Actual shape of our Dataset now :--------> (444, 19)\n"
     ]
    }
   ],
   "source": [
    "#check the updated shape of our dataset\n",
    "print('Actual shape of our Dataset now :-------->', df.shape)"
   ]
  },
  {
   "cell_type": "markdown",
   "id": "c2af4e77",
   "metadata": {},
   "source": [
    "Observation:\n",
    "1. No zero values are found\n",
    "2. All the values are unique in this column\n",
    "3. there are some null values also, but if we convert null values into other value,\n",
    "4. then normal curve will not look good\n",
    "5. It is better to drop this column"
   ]
  },
  {
   "cell_type": "markdown",
   "id": "c0e28bcc",
   "metadata": {},
   "source": [
    "# Column11: Owner"
   ]
  },
  {
   "cell_type": "code",
   "execution_count": 113,
   "id": "cc606cb6",
   "metadata": {},
   "outputs": [
    {
     "data": {
      "text/plain": [
       "array(['Solar Paces', nan, 'Ener-t International Ltd.', 'Reliance Power',\n",
       "       'Lanco Infratech', 'Godwari Green Energy Limited',\n",
       "       'Cargo Solar Power', 'KVK Energy Ventures Ltd',\n",
       "       'Megha Engineering and Infrastructure'], dtype=object)"
      ]
     },
     "execution_count": 113,
     "metadata": {},
     "output_type": "execute_result"
    }
   ],
   "source": [
    "df['owner'].unique() #check the unique values"
   ]
  },
  {
   "cell_type": "code",
   "execution_count": 114,
   "id": "6fab7648",
   "metadata": {},
   "outputs": [
    {
     "data": {
      "text/plain": [
       "Cargo Solar Power                       1\n",
       "Reliance Power                          1\n",
       "Solar Paces                             1\n",
       "Godwari Green Energy Limited            1\n",
       "KVK Energy Ventures Ltd                 1\n",
       "Lanco Infratech                         1\n",
       "Ener-t International Ltd.               1\n",
       "Megha Engineering and Infrastructure    1\n",
       "Name: owner, dtype: int64"
      ]
     },
     "execution_count": 114,
     "metadata": {},
     "output_type": "execute_result"
    }
   ],
   "source": [
    "df['owner'].value_counts() #check the counts of unique values"
   ]
  },
  {
   "cell_type": "code",
   "execution_count": 115,
   "id": "a14e5d7d",
   "metadata": {},
   "outputs": [
    {
     "data": {
      "text/plain": [
       "436"
      ]
     },
     "execution_count": 115,
     "metadata": {},
     "output_type": "execute_result"
    }
   ],
   "source": [
    "df['owner'].isnull().sum() #check the for null values"
   ]
  },
  {
   "cell_type": "code",
   "execution_count": 116,
   "id": "93e2e7e0",
   "metadata": {},
   "outputs": [
    {
     "name": "stdout",
     "output_type": "stream",
     "text": [
      "Actual shape of our Dataset now :--------> (444, 19)\n"
     ]
    }
   ],
   "source": [
    "#check the updated shape of our dataset\n",
    "print('Actual shape of our Dataset now :-------->', df.shape)"
   ]
  },
  {
   "cell_type": "code",
   "execution_count": 117,
   "id": "da1527f6",
   "metadata": {},
   "outputs": [
    {
     "name": "stdout",
     "output_type": "stream",
     "text": [
      "Percentage of Null values in our column:-----> [  98.1981982  2294.73684211]\n"
     ]
    }
   ],
   "source": [
    "#percentage of null values in our column \n",
    "print('Percentage of Null values in our column:----->',(df['owner'].isnull().sum())/(df.shape)*100)"
   ]
  },
  {
   "cell_type": "code",
   "execution_count": 118,
   "id": "14d8337b",
   "metadata": {},
   "outputs": [],
   "source": [
    "df.drop(columns = ['owner'], inplace = True) #drop the column"
   ]
  },
  {
   "cell_type": "code",
   "execution_count": 119,
   "id": "3eef6a36",
   "metadata": {},
   "outputs": [
    {
     "name": "stdout",
     "output_type": "stream",
     "text": [
      "Actual shape of our Dataset now :--------> (444, 18)\n"
     ]
    }
   ],
   "source": [
    "#check the updated shape of our dataset\n",
    "print('Actual shape of our Dataset now :-------->', df.shape)"
   ]
  },
  {
   "cell_type": "markdown",
   "id": "b72fc55b",
   "metadata": {},
   "source": [
    "Observation:\n",
    "1. 98.198% Null Values are found in this column, that's why we drop this column"
   ]
  },
  {
   "cell_type": "markdown",
   "id": "403c5b50",
   "metadata": {},
   "source": [
    "# Columns12: source"
   ]
  },
  {
   "cell_type": "code",
   "execution_count": 120,
   "id": "c3ee1ac2",
   "metadata": {},
   "outputs": [
    {
     "data": {
      "text/plain": [
       "array(['National Renewable Energy Laboratory',\n",
       "       'Central Electricity Authority'], dtype=object)"
      ]
     },
     "execution_count": 120,
     "metadata": {},
     "output_type": "execute_result"
    }
   ],
   "source": [
    "df['source'].unique() #check the unique values"
   ]
  },
  {
   "cell_type": "code",
   "execution_count": 121,
   "id": "ce06dd73",
   "metadata": {},
   "outputs": [
    {
     "data": {
      "text/plain": [
       "Central Electricity Authority           436\n",
       "National Renewable Energy Laboratory      8\n",
       "Name: source, dtype: int64"
      ]
     },
     "execution_count": 121,
     "metadata": {},
     "output_type": "execute_result"
    }
   ],
   "source": [
    "df['source'].value_counts() #check the counts of unique values"
   ]
  },
  {
   "cell_type": "code",
   "execution_count": 122,
   "id": "e074d706",
   "metadata": {},
   "outputs": [
    {
     "data": {
      "text/plain": [
       "0"
      ]
     },
     "execution_count": 122,
     "metadata": {},
     "output_type": "execute_result"
    }
   ],
   "source": [
    "df['source'].isnull().sum() #check for null values"
   ]
  },
  {
   "cell_type": "code",
   "execution_count": 123,
   "id": "17502400",
   "metadata": {},
   "outputs": [
    {
     "data": {
      "text/plain": [
       "source                                primary_fuel\n",
       "Central Electricity Authority         Coal            152\n",
       "                                      Gas              50\n",
       "                                      Hydro           213\n",
       "                                      Nuclear           8\n",
       "                                      Oil              13\n",
       "National Renewable Energy Laboratory  Solar             8\n",
       "Name: primary_fuel, dtype: int64"
      ]
     },
     "execution_count": 123,
     "metadata": {},
     "output_type": "execute_result"
    }
   ],
   "source": [
    "df.groupby('source')['primary_fuel'].value_counts().sort_index(ascending=True).head(50)\n",
    "#Checking the relationship between source and primary_fuel"
   ]
  },
  {
   "cell_type": "code",
   "execution_count": 124,
   "id": "ef313814",
   "metadata": {},
   "outputs": [
    {
     "data": {
      "text/plain": [
       "source                         capacity_mw\n",
       "Central Electricity Authority  3.30           1\n",
       "                               3.75           3\n",
       "                               4.00           4\n",
       "                               4.50           3\n",
       "                               4.80           1\n",
       "                                             ..\n",
       "                               165.00         1\n",
       "                               172.00         1\n",
       "                               175.00         1\n",
       "                               180.00         3\n",
       "                               186.00         1\n",
       "Name: capacity_mw, Length: 100, dtype: int64"
      ]
     },
     "execution_count": 124,
     "metadata": {},
     "output_type": "execute_result"
    }
   ],
   "source": [
    "df.groupby('source')['capacity_mw'].value_counts().sort_index(ascending=True).head(100)\n",
    "#Checking the relationship between source and primary_fuel"
   ]
  },
  {
   "cell_type": "code",
   "execution_count": 125,
   "id": "9326cebc",
   "metadata": {},
   "outputs": [
    {
     "data": {
      "text/plain": [
       "capacity_mw\n",
       "2.50       National Renewable Energy Laboratory\n",
       "3.30              Central Electricity Authority\n",
       "3.75              Central Electricity Authority\n",
       "4.00              Central Electricity Authority\n",
       "4.50              Central Electricity Authority\n",
       "                           ...                 \n",
       "3300.00           Central Electricity Authority\n",
       "3960.00           Central Electricity Authority\n",
       "4000.00           Central Electricity Authority\n",
       "4620.00           Central Electricity Authority\n",
       "4760.00           Central Electricity Authority\n",
       "Name: source, Length: 235, dtype: object"
      ]
     },
     "execution_count": 125,
     "metadata": {},
     "output_type": "execute_result"
    }
   ],
   "source": [
    "#check the relationship between capacity_mw and source\n",
    "df.groupby('capacity_mw').source.min() "
   ]
  },
  {
   "cell_type": "code",
   "execution_count": 126,
   "id": "02091528",
   "metadata": {},
   "outputs": [
    {
     "data": {
      "text/plain": [
       "4760.0"
      ]
     },
     "execution_count": 126,
     "metadata": {},
     "output_type": "execute_result"
    }
   ],
   "source": [
    "#check the source of highest capacity in mw power plant\n",
    "df['capacity_mw'][df.source=='Central Electricity Authority'].max()"
   ]
  },
  {
   "cell_type": "code",
   "execution_count": 127,
   "id": "720f6c08",
   "metadata": {},
   "outputs": [
    {
     "data": {
      "text/plain": [
       "Hydro      213\n",
       "Coal       152\n",
       "Gas         50\n",
       "Oil         13\n",
       "Nuclear      8\n",
       "Name: primary_fuel, dtype: int64"
      ]
     },
     "execution_count": 127,
     "metadata": {},
     "output_type": "execute_result"
    }
   ],
   "source": [
    "#Check the counts of primary fuel in Central Electricity Authority\n",
    "df['primary_fuel'][df.source=='Central Electricity Authority'].value_counts()"
   ]
  },
  {
   "cell_type": "code",
   "execution_count": 128,
   "id": "85f42be0",
   "metadata": {},
   "outputs": [],
   "source": [
    "#change the string value into integer\n",
    "df['source'] = df['source'].map({'Central Electricity Authority':1, 'National Renewable Energy Laboratory':0})"
   ]
  },
  {
   "cell_type": "code",
   "execution_count": 129,
   "id": "108be8ee",
   "metadata": {},
   "outputs": [
    {
     "data": {
      "text/plain": [
       "array([0, 1], dtype=int64)"
      ]
     },
     "execution_count": 129,
     "metadata": {},
     "output_type": "execute_result"
    }
   ],
   "source": [
    "df['source'].unique() #check the unique values now"
   ]
  },
  {
   "cell_type": "markdown",
   "id": "521a66c0",
   "metadata": {},
   "source": [
    "Observation:\n",
    "1. No zero values found\n",
    "2. Central Electricity Authority makes coal and hydro power plants more\n",
    "3. The source of highest capacity power plant '4760.0' is Central Electricity Authority\n",
    "4. 'Central Electricity Authority' = 1\n",
    "5. 'National Renewable Energy Laboratory' = 0"
   ]
  },
  {
   "cell_type": "markdown",
   "id": "37cc69f7",
   "metadata": {},
   "source": [
    "# Column13: Url"
   ]
  },
  {
   "cell_type": "code",
   "execution_count": 130,
   "id": "350cb417",
   "metadata": {},
   "outputs": [
    {
     "data": {
      "text/plain": [
       "array(['http://www.nrel.gov/csp/solarpaces/project_detail.cfm/projectID=262',\n",
       "       'http://www.cea.nic.in/',\n",
       "       'http://www.nrel.gov/csp/solarpaces/project_detail.cfm/projectID=254',\n",
       "       'http://www.nrel.gov/csp/solarpaces/project_detail.cfm/projectID=272',\n",
       "       'http://www.nrel.gov/csp/solarpaces/project_detail.cfm/projectID=258',\n",
       "       'http://www.nrel.gov/csp/solarpaces/project_detail.cfm/projectID=247',\n",
       "       'http://www.nrel.gov/csp/solarpaces/project_detail.cfm/projectID=263',\n",
       "       'http://www.nrel.gov/csp/solarpaces/project_detail.cfm/projectID=260',\n",
       "       'http://www.nrel.gov/csp/solarpaces/project_detail.cfm/projectID=264'],\n",
       "      dtype=object)"
      ]
     },
     "execution_count": 130,
     "metadata": {},
     "output_type": "execute_result"
    }
   ],
   "source": [
    "df['url'].unique() #Check the unique values"
   ]
  },
  {
   "cell_type": "code",
   "execution_count": 131,
   "id": "2cebb3e6",
   "metadata": {},
   "outputs": [
    {
     "data": {
      "text/plain": [
       "http://www.cea.nic.in/                                                 436\n",
       "http://www.nrel.gov/csp/solarpaces/project_detail.cfm/projectID=272      1\n",
       "http://www.nrel.gov/csp/solarpaces/project_detail.cfm/projectID=264      1\n",
       "http://www.nrel.gov/csp/solarpaces/project_detail.cfm/projectID=254      1\n",
       "http://www.nrel.gov/csp/solarpaces/project_detail.cfm/projectID=247      1\n",
       "http://www.nrel.gov/csp/solarpaces/project_detail.cfm/projectID=263      1\n",
       "http://www.nrel.gov/csp/solarpaces/project_detail.cfm/projectID=258      1\n",
       "http://www.nrel.gov/csp/solarpaces/project_detail.cfm/projectID=260      1\n",
       "http://www.nrel.gov/csp/solarpaces/project_detail.cfm/projectID=262      1\n",
       "Name: url, dtype: int64"
      ]
     },
     "execution_count": 131,
     "metadata": {},
     "output_type": "execute_result"
    }
   ],
   "source": [
    "df['url'].value_counts() #check the counts of unique values"
   ]
  },
  {
   "cell_type": "code",
   "execution_count": 132,
   "id": "e126343b",
   "metadata": {},
   "outputs": [],
   "source": [
    "df.drop(columns = ['url'], inplace = True) #drop the column"
   ]
  },
  {
   "cell_type": "code",
   "execution_count": 133,
   "id": "ded3110d",
   "metadata": {},
   "outputs": [
    {
     "name": "stdout",
     "output_type": "stream",
     "text": [
      "Actual shape of our Dataset now :--------> (444, 17)\n"
     ]
    }
   ],
   "source": [
    "#check the updated shape of our dataset\n",
    "print('Actual shape of our Dataset now :-------->', df.shape)"
   ]
  },
  {
   "cell_type": "markdown",
   "id": "57d3d416",
   "metadata": {},
   "source": [
    "# column14: geolocation_source"
   ]
  },
  {
   "cell_type": "code",
   "execution_count": 134,
   "id": "438b851c",
   "metadata": {},
   "outputs": [
    {
     "data": {
      "text/plain": [
       "array(['National Renewable Energy Laboratory', 'WRI', nan], dtype=object)"
      ]
     },
     "execution_count": 134,
     "metadata": {},
     "output_type": "execute_result"
    }
   ],
   "source": [
    "df['geolocation_source'].unique() #check the null values "
   ]
  },
  {
   "cell_type": "code",
   "execution_count": 135,
   "id": "2c4b3694",
   "metadata": {},
   "outputs": [
    {
     "data": {
      "text/plain": [
       "WRI                                     436\n",
       "National Renewable Energy Laboratory      4\n",
       "Name: geolocation_source, dtype: int64"
      ]
     },
     "execution_count": 135,
     "metadata": {},
     "output_type": "execute_result"
    }
   ],
   "source": [
    "df['geolocation_source'].value_counts() #check the counts of unique values"
   ]
  },
  {
   "cell_type": "code",
   "execution_count": 136,
   "id": "c8c809c2",
   "metadata": {},
   "outputs": [
    {
     "data": {
      "text/plain": [
       "4"
      ]
     },
     "execution_count": 136,
     "metadata": {},
     "output_type": "execute_result"
    }
   ],
   "source": [
    "df['geolocation_source'].isnull().sum() #check the null values"
   ]
  },
  {
   "cell_type": "code",
   "execution_count": 137,
   "id": "822daaa7",
   "metadata": {},
   "outputs": [],
   "source": [
    "df.dropna(subset=[\"geolocation_source\"], inplace=True) #drop the null values"
   ]
  },
  {
   "cell_type": "code",
   "execution_count": 138,
   "id": "f9b0df46",
   "metadata": {},
   "outputs": [
    {
     "data": {
      "text/plain": [
       "array(['National Renewable Energy Laboratory', 'WRI'], dtype=object)"
      ]
     },
     "execution_count": 138,
     "metadata": {},
     "output_type": "execute_result"
    }
   ],
   "source": [
    "df['geolocation_source'].unique() #check the null values "
   ]
  },
  {
   "cell_type": "code",
   "execution_count": 139,
   "id": "8abc5067",
   "metadata": {},
   "outputs": [
    {
     "data": {
      "text/plain": [
       "geolocation_source                    primary_fuel\n",
       "National Renewable Energy Laboratory  Solar             4\n",
       "WRI                                   Coal            152\n",
       "                                      Gas              50\n",
       "                                      Hydro           213\n",
       "                                      Nuclear           8\n",
       "                                      Oil              13\n",
       "Name: primary_fuel, dtype: int64"
      ]
     },
     "execution_count": 139,
     "metadata": {},
     "output_type": "execute_result"
    }
   ],
   "source": [
    "df.groupby('geolocation_source')['primary_fuel'].value_counts().sort_index(ascending=True).head(50)"
   ]
  },
  {
   "cell_type": "code",
   "execution_count": 140,
   "id": "b63ffe55",
   "metadata": {},
   "outputs": [
    {
     "data": {
      "text/plain": [
       "array(['National Renewable Energy Laboratory', 'WRI'], dtype=object)"
      ]
     },
     "execution_count": 140,
     "metadata": {},
     "output_type": "execute_result"
    }
   ],
   "source": [
    "df['geolocation_source'].unique()#check the null values "
   ]
  },
  {
   "cell_type": "code",
   "execution_count": 141,
   "id": "7f0a5fb9",
   "metadata": {},
   "outputs": [],
   "source": [
    "df.drop(columns = ['geolocation_source'], inplace = True) #drop the column"
   ]
  },
  {
   "cell_type": "markdown",
   "id": "56f4c68c",
   "metadata": {},
   "source": [
    "Observation:\n",
    "1. There are only two Categories: WRI and National Renewable Energy Laboratory\n",
    "2. 4 Null values are found and treated by using dropna method\n",
    "3. WRI is 436 now and National Renewable Energy Laboratory and 4 now\n",
    "4. if we look at 'source' column, \n",
    "5. it has 'Central Electricity Authority'-436 and 'National Renewable Energy Laboratory' - 8 but now, it has 4 beacuse we drop 4 null values which are in 'geolocation_source' column.\n",
    "6. So, both the columns are exactly similar"
   ]
  },
  {
   "cell_type": "code",
   "execution_count": 142,
   "id": "3b50d197",
   "metadata": {},
   "outputs": [
    {
     "name": "stdout",
     "output_type": "stream",
     "text": [
      "Actual shape of our Dataset now :--------> (440, 16)\n"
     ]
    }
   ],
   "source": [
    "#check the updated shape of our dataset\n",
    "print('Actual shape of our Dataset now :-------->', df.shape)"
   ]
  },
  {
   "cell_type": "markdown",
   "id": "1a70a89a",
   "metadata": {},
   "source": [
    "# Column15: wepp_id"
   ]
  },
  {
   "cell_type": "code",
   "execution_count": 143,
   "id": "e293a683",
   "metadata": {},
   "outputs": [
    {
     "data": {
      "text/plain": [
       "array([nan])"
      ]
     },
     "execution_count": 143,
     "metadata": {},
     "output_type": "execute_result"
    }
   ],
   "source": [
    "df['wepp_id'].unique() #check the unique values"
   ]
  },
  {
   "cell_type": "code",
   "execution_count": 144,
   "id": "440dc02b",
   "metadata": {},
   "outputs": [
    {
     "data": {
      "text/plain": [
       "Series([], Name: wepp_id, dtype: int64)"
      ]
     },
     "execution_count": 144,
     "metadata": {},
     "output_type": "execute_result"
    }
   ],
   "source": [
    "df['wepp_id'].value_counts() # check the counts of unique values"
   ]
  },
  {
   "cell_type": "code",
   "execution_count": 145,
   "id": "2cdff5be",
   "metadata": {},
   "outputs": [],
   "source": [
    "df.drop(columns = ['wepp_id'], inplace = True) #drop the column"
   ]
  },
  {
   "cell_type": "markdown",
   "id": "7a9ae138",
   "metadata": {},
   "source": [
    "Observation:\n",
    "1. There is nothing in this column, all values are null, so, we drop this column"
   ]
  },
  {
   "cell_type": "code",
   "execution_count": 146,
   "id": "5ea718c4",
   "metadata": {},
   "outputs": [
    {
     "name": "stdout",
     "output_type": "stream",
     "text": [
      "Actual shape of our Dataset now :--------> (440, 15)\n"
     ]
    }
   ],
   "source": [
    "#check the updated shape of our dataset\n",
    "print('Actual shape of our Dataset now :-------->', df.shape)"
   ]
  },
  {
   "cell_type": "markdown",
   "id": "381fb0d6",
   "metadata": {},
   "source": [
    "# Column16: year_of_capacity_data"
   ]
  },
  {
   "cell_type": "code",
   "execution_count": 147,
   "id": "c18d47c3",
   "metadata": {},
   "outputs": [
    {
     "data": {
      "text/plain": [
       "array([  nan, 2018.])"
      ]
     },
     "execution_count": 147,
     "metadata": {},
     "output_type": "execute_result"
    }
   ],
   "source": [
    "df['year_of_capacity_data'].unique() #check the unique values"
   ]
  },
  {
   "cell_type": "code",
   "execution_count": 148,
   "id": "15dd815d",
   "metadata": {},
   "outputs": [
    {
     "data": {
      "text/plain": [
       "2018.0    436\n",
       "Name: year_of_capacity_data, dtype: int64"
      ]
     },
     "execution_count": 148,
     "metadata": {},
     "output_type": "execute_result"
    }
   ],
   "source": [
    "df['year_of_capacity_data'].value_counts() # check the counts of unique values"
   ]
  },
  {
   "cell_type": "code",
   "execution_count": 149,
   "id": "fcea898f",
   "metadata": {},
   "outputs": [],
   "source": [
    "df.drop(columns = ['year_of_capacity_data'], inplace = True) #drop the column"
   ]
  },
  {
   "cell_type": "markdown",
   "id": "5914a0d8",
   "metadata": {},
   "source": [
    "Observation:\n",
    "1. all values are same in this column if we remove null values\n",
    "2. So, we drop this column"
   ]
  },
  {
   "cell_type": "code",
   "execution_count": 150,
   "id": "f2538ab1",
   "metadata": {},
   "outputs": [
    {
     "name": "stdout",
     "output_type": "stream",
     "text": [
      "Actual shape of our Dataset now :--------> (440, 14)\n"
     ]
    }
   ],
   "source": [
    "#check the updated shape of our dataset\n",
    "print('Actual shape of our Dataset now :-------->', df.shape)"
   ]
  },
  {
   "cell_type": "markdown",
   "id": "9823892f",
   "metadata": {},
   "source": [
    "# Column17: generation_gwh_2013"
   ]
  },
  {
   "cell_type": "code",
   "execution_count": 151,
   "id": "ec4d4773",
   "metadata": {},
   "outputs": [
    {
     "data": {
      "text/plain": [
       "array([           nan, 1.66829000e+03, 8.21798000e+02, 6.96738800e+02,\n",
       "       5.04813250e+02, 2.64232200e+03, 1.03405000e+03, 7.31334950e+02,\n",
       "       6.39700000e+03, 7.13299500e+03, 1.91994200e+03, 1.73000000e+03,\n",
       "       0.00000000e+00, 8.04286000e+02, 3.76900000e+03, 2.78580100e+03,\n",
       "       6.34849800e+02, 1.64754090e+03, 1.65046620e+03, 1.47080900e+02,\n",
       "       1.23778000e+02, 2.27570000e+00, 5.44672950e+02, 4.48100000e+02,\n",
       "       1.25663600e+03, 8.21705000e-01, 1.33876255e+03, 2.27506750e+02,\n",
       "       5.65200000e+03, 6.34710500e+01, 6.17923855e+03, 9.03460000e+01,\n",
       "       8.56894000e+01, 2.49148000e+01, 4.10935000e+01, 3.31861000e+03,\n",
       "       9.64612700e+02, 9.48732500e+01, 3.03007350e+02, 4.36099800e+03,\n",
       "       1.42839040e+03, 2.79729000e+01, 3.36680000e+02, 2.20064150e+02,\n",
       "       4.16100000e+02, 3.30880000e+00, 1.38911950e+03, 2.32916565e+03,\n",
       "       9.33170700e+02, 9.91777200e+03, 8.65650000e+01, 2.82268300e+03,\n",
       "       9.45051000e+02, 7.80686950e+02, 3.40091000e+01, 1.23120000e+04,\n",
       "       3.31500000e+03, 3.14288660e+03, 1.69766900e+02, 2.53884200e+02,\n",
       "       3.73881000e+03, 1.66920000e+02, 2.80898450e+02, 9.33068600e+02,\n",
       "       1.82130000e+02, 2.13933955e+03, 1.68662000e+03, 1.01502000e+03,\n",
       "       1.28100000e+03, 1.71001200e+03, 4.03562050e+02, 5.03171500e+02,\n",
       "       9.50000000e+01, 8.17492000e+01, 3.92089700e+02, 5.47516000e+03,\n",
       "       2.29068900e+02, 1.98499000e+03, 1.45288900e+03, 1.05642300e+03,\n",
       "       2.50252450e+02, 2.67900000e+02, 2.43267930e+03, 1.00904300e+03,\n",
       "       3.84149600e+02, 2.72508610e+03, 2.27550000e+01, 4.05828660e+03,\n",
       "       4.92362800e+03, 3.20817850e+02, 3.69734000e+03, 9.60735000e+02,\n",
       "       2.66053050e+02, 6.76875000e+03, 5.01997400e+02, 4.09024600e+02,\n",
       "       3.65075450e+02, 5.93797000e+03, 2.94281000e+03, 2.46421700e+02,\n",
       "       2.99902300e+03, 2.63011335e+03, 4.67331600e+02, 2.41245410e+02,\n",
       "       4.62999370e+03, 6.96220000e+02, 1.67305600e+03, 3.43900000e+03,\n",
       "       1.35000000e+03, 9.41000000e+02, 4.40420000e+02, 4.16526900e+02,\n",
       "       1.14216050e+02, 4.33760300e+02, 3.21315350e+02, 3.26300300e+02,\n",
       "       1.58035850e+02, 1.86779240e+02, 1.39963000e+03, 2.06639000e+03,\n",
       "       1.93530000e+04, 4.32904000e+03, 7.11889000e+03, 8.52627600e+03,\n",
       "       1.51424075e+03, 4.81520300e+02, 4.60268000e+02, 3.80910875e+03,\n",
       "       1.77627400e+02, 1.52060875e+03, 4.43420000e+02, 1.55296000e+03,\n",
       "       5.94390000e+02, 8.45560950e+02, 3.82249200e+03, 6.49200000e+03,\n",
       "       6.45709000e+03, 5.95746300e+02, 2.66600300e+02, 5.13917500e+02,\n",
       "       2.78251750e+02, 5.98004950e+02, 1.26213760e+03, 1.89200000e+03,\n",
       "       5.70025550e+02, 1.35847350e+02, 7.34090000e+02, 5.82462000e+03,\n",
       "       2.25964500e+02, 6.54918950e+02, 1.20923345e+03, 4.63230000e+02,\n",
       "       1.15400100e+02, 5.92809700e+03, 4.59063150e+02, 1.84619200e+03,\n",
       "       2.44388000e+02, 6.64000000e+02, 1.47687850e+02, 1.24049635e+03,\n",
       "       2.75862000e+04, 2.19730000e+04, 1.01878050e+02, 2.40300000e+03,\n",
       "       1.30858420e+03, 3.63941150e+02, 3.82174000e+03, 7.15457735e+03,\n",
       "       3.01355400e+03, 3.59497100e+03, 1.01043300e+04, 1.89090000e+01,\n",
       "       1.71826400e+03, 5.03669000e+01, 2.73580000e+02, 3.72006400e+03,\n",
       "       1.89946110e+03, 9.77388500e+01, 2.50322100e+02, 2.02134250e+02,\n",
       "       3.54860900e+03, 1.62505390e+03, 1.42571413e+03, 2.46820000e+02,\n",
       "       2.14472250e+02, 4.65907630e+03, 6.28421400e+02, 1.69478350e+02,\n",
       "       1.37011500e+02, 2.99863200e+03, 4.75610000e+00, 5.77078000e+03,\n",
       "       2.99844600e+03, 4.24964500e+01, 2.03600000e+03, 4.66297800e+02,\n",
       "       4.25153550e+02, 4.60635250e+02, 8.48635500e+01, 1.75819485e+03,\n",
       "       1.22096450e+02, 6.05533700e+02, 2.35681600e+03, 2.69436050e+02,\n",
       "       6.43665500e+01, 3.97343300e+02, 8.21100000e+03, 5.07897750e+02,\n",
       "       8.80142000e+03, 7.44344000e+03, 3.23041500e+02, 5.61478500e+01,\n",
       "       4.12632080e+03, 3.49190000e+02, 2.32422050e+02, 6.12577000e+02,\n",
       "       1.99000000e-02, 1.56801055e+03, 1.84214000e+02, 1.40918600e+03,\n",
       "       6.34832000e+03, 2.34000000e+02, 1.70610000e+04, 5.01460100e+02,\n",
       "       7.33019000e+03, 6.89900000e+03, 3.95054800e+02, 1.85600000e+04,\n",
       "       6.57217400e+02, 5.19568105e+03, 1.62703395e+03, 3.21849665e+03,\n",
       "       5.03100000e+03, 2.99152903e+02, 3.46690000e+02, 5.33797600e+02,\n",
       "       7.30767900e+03, 1.37300050e+02, 2.74791825e+03, 4.19136400e+03,\n",
       "       1.41150700e+02, 4.99012400e+02, 3.54110550e+02, 5.56550265e+03,\n",
       "       6.16084100e+02, 2.32163350e+02, 2.65754550e+02, 5.25139000e+02,\n",
       "       1.38390000e+04, 1.97100700e+03, 1.48818800e+04, 1.80330000e+04,\n",
       "       2.17974650e+02, 1.30827575e+03, 1.45688895e+03, 2.23000000e+03,\n",
       "       2.61703300e+03, 8.55642400e+03, 9.99477500e+01, 1.96230000e+02,\n",
       "       8.06646500e+01, 9.24400000e+01, 3.82259100e+02, 3.15200000e+03,\n",
       "       8.96559500e+03, 4.04012785e+03, 1.26499000e+03, 1.16096600e+02,\n",
       "       9.61535000e+03, 4.56445000e+03, 2.02878000e+03, 2.46553000e+03,\n",
       "       4.53680000e+02, 1.24160000e+03, 5.00400000e+03, 7.25261700e+03,\n",
       "       7.82209087e+02, 3.60190000e+02, 6.37182000e+03, 4.49976400e+03,\n",
       "       8.08835500e+02, 7.20449000e+03, 2.50448465e+03, 8.67550450e+02,\n",
       "       4.57839300e+02, 2.13815550e+02, 3.19367700e+03, 2.50815620e+03,\n",
       "       4.01741200e+02, 7.95500000e+00, 4.78470000e+02, 1.32305150e+02,\n",
       "       3.62206000e+02, 3.68391000e+03, 1.18079100e+03, 1.31386765e+03,\n",
       "       1.71970000e+02, 8.18743000e+03, 3.59555300e+03, 1.02479700e+03,\n",
       "       2.67613900e+04, 4.35710500e+02, 4.54202800e+03, 2.31132000e+03,\n",
       "       2.03975000e+02, 3.15801600e+03, 2.09000000e+01])"
      ]
     },
     "execution_count": 151,
     "metadata": {},
     "output_type": "execute_result"
    }
   ],
   "source": [
    "df['generation_gwh_2013'].unique() #check the unique values"
   ]
  },
  {
   "cell_type": "code",
   "execution_count": 152,
   "id": "ddffd7e0",
   "metadata": {},
   "outputs": [
    {
     "data": {
      "text/plain": [
       "0.00000       19\n",
       "2942.81000     1\n",
       "246.42170      1\n",
       "504.81325      1\n",
       "1256.63600     1\n",
       "              ..\n",
       "1647.54090     1\n",
       "2329.16565     1\n",
       "84.86355       1\n",
       "22.75500       1\n",
       "137.01150      1\n",
       "Name: generation_gwh_2013, Length: 306, dtype: int64"
      ]
     },
     "execution_count": 152,
     "metadata": {},
     "output_type": "execute_result"
    }
   ],
   "source": [
    "df['generation_gwh_2013'].value_counts() # check the counts of unique values"
   ]
  },
  {
   "cell_type": "code",
   "execution_count": 153,
   "id": "edf19d1a",
   "metadata": {},
   "outputs": [
    {
     "data": {
      "text/plain": [
       "116"
      ]
     },
     "execution_count": 153,
     "metadata": {},
     "output_type": "execute_result"
    }
   ],
   "source": [
    "df['generation_gwh_2013'].isnull().sum() #check the null values"
   ]
  },
  {
   "cell_type": "code",
   "execution_count": 154,
   "id": "3126fc64",
   "metadata": {},
   "outputs": [],
   "source": [
    "df.dropna(subset=[\"generation_gwh_2013\"], inplace=True) #drop the null values"
   ]
  },
  {
   "cell_type": "code",
   "execution_count": 155,
   "id": "03ad7eb4",
   "metadata": {},
   "outputs": [
    {
     "data": {
      "text/plain": [
       "0"
      ]
     },
     "execution_count": 155,
     "metadata": {},
     "output_type": "execute_result"
    }
   ],
   "source": [
    "df['generation_gwh_2013'].isnull().sum() #check the null values"
   ]
  },
  {
   "cell_type": "code",
   "execution_count": 156,
   "id": "45b195c9",
   "metadata": {},
   "outputs": [
    {
     "data": {
      "text/plain": [
       "False"
      ]
     },
     "execution_count": 156,
     "metadata": {},
     "output_type": "execute_result"
    }
   ],
   "source": [
    "df['generation_gwh_2013'].all() #check the zero values"
   ]
  },
  {
   "cell_type": "code",
   "execution_count": 157,
   "id": "4d0595a7",
   "metadata": {},
   "outputs": [],
   "source": [
    "#replace the zeros with mean of the column\n",
    "df['generation_gwh_2013'] = df['generation_gwh_2013'].replace(0.0, df['generation_gwh_2013'].mean())"
   ]
  },
  {
   "cell_type": "code",
   "execution_count": 158,
   "id": "2727f509",
   "metadata": {},
   "outputs": [
    {
     "data": {
      "text/plain": [
       "True"
      ]
     },
     "execution_count": 158,
     "metadata": {},
     "output_type": "execute_result"
    }
   ],
   "source": [
    "df['generation_gwh_2013'].all()#check the zero values"
   ]
  },
  {
   "cell_type": "code",
   "execution_count": 159,
   "id": "488d439f",
   "metadata": {},
   "outputs": [
    {
     "data": {
      "text/plain": [
       "2290.110318    19\n",
       "2785.801000     1\n",
       "186.779240      1\n",
       "246.421700      1\n",
       "504.813250      1\n",
       "               ..\n",
       "1627.033950     1\n",
       "1647.540900     1\n",
       "2329.165650     1\n",
       "84.863550       1\n",
       "137.011500      1\n",
       "Name: generation_gwh_2013, Length: 306, dtype: int64"
      ]
     },
     "execution_count": 159,
     "metadata": {},
     "output_type": "execute_result"
    }
   ],
   "source": [
    "df['generation_gwh_2013'].value_counts() # check the counts of unique values"
   ]
  },
  {
   "cell_type": "code",
   "execution_count": 160,
   "id": "34038f34",
   "metadata": {},
   "outputs": [
    {
     "data": {
      "text/plain": [
       "capacity_mw  generation_gwh_2013\n",
       "4760.0       26761.39               1\n",
       "Name: generation_gwh_2013, dtype: int64"
      ]
     },
     "execution_count": 160,
     "metadata": {},
     "output_type": "execute_result"
    }
   ],
   "source": [
    "#check the relationship between capacity_mw and generation_gwh_2013\n",
    "df.groupby('capacity_mw')['generation_gwh_2013'].value_counts().sort_index(ascending=True).tail(1)"
   ]
  },
  {
   "cell_type": "code",
   "execution_count": 161,
   "id": "c8942de2",
   "metadata": {},
   "outputs": [
    {
     "data": {
      "text/plain": [
       "Text(0, 0.5, 'capacity_mw')"
      ]
     },
     "execution_count": 161,
     "metadata": {},
     "output_type": "execute_result"
    },
    {
     "data": {
      "image/png": "[encoded data removed]",
      "text/plain": [
       "<Figure size 432x288 with 1 Axes>"
      ]
     },
     "metadata": {
      "needs_background": "light"
     },
     "output_type": "display_data"
    }
   ],
   "source": [
    "#visualize this column by lineplot\n",
    "sns.lineplot(x= 'generation_gwh_2013', y = 'capacity_mw', data=df)\n",
    "plt.xlabel('generation_gwh_2013', fontsize = 14)\n",
    "plt.ylabel('capacity_mw', fontsize = 14)"
   ]
  },
  {
   "cell_type": "code",
   "execution_count": 162,
   "id": "562e236d",
   "metadata": {},
   "outputs": [
    {
     "data": {
      "text/plain": [
       "Text(0, 0.5, 'primary_fuel')"
      ]
     },
     "execution_count": 162,
     "metadata": {},
     "output_type": "execute_result"
    },
    {
     "data": {
      "image/png": "[encoded data removed]",
      "text/plain": [
       "<Figure size 432x288 with 1 Axes>"
      ]
     },
     "metadata": {
      "needs_background": "light"
     },
     "output_type": "display_data"
    }
   ],
   "source": [
    "#visualize this column by barplot\n",
    "sns.barplot(x= 'generation_gwh_2013', y = 'primary_fuel', data=df)\n",
    "plt.xlabel('generation_gwh_2013', fontsize = 14)\n",
    "plt.ylabel('primary_fuel', fontsize = 14)"
   ]
  },
  {
   "cell_type": "markdown",
   "id": "298cc511",
   "metadata": {},
   "source": [
    "Observation:\n",
    "1. Zero values and Null values are found\n",
    "2. We can see, the highest capacity power plant have 26761.39 Generation in gwh in 2013\n",
    "3. We can see, the power plant those have less capacity generates less.\n",
    "4. we can see, coal and nuclear powe rplants generates high than others"
   ]
  },
  {
   "cell_type": "code",
   "execution_count": 163,
   "id": "1068f37f",
   "metadata": {},
   "outputs": [
    {
     "name": "stdout",
     "output_type": "stream",
     "text": [
      "Actual shape of our Dataset now :--------> (324, 14)\n"
     ]
    }
   ],
   "source": [
    "#check the updated shape of our dataset\n",
    "print('Actual shape of our Dataset now :-------->', df.shape)"
   ]
  },
  {
   "cell_type": "markdown",
   "id": "6f4d32ee",
   "metadata": {},
   "source": [
    "# Column18: generation_gwh_2014"
   ]
  },
  {
   "cell_type": "code",
   "execution_count": 164,
   "id": "8cb830e8",
   "metadata": {},
   "outputs": [
    {
     "data": {
      "text/plain": [
       "array([3.03555000e+03, 1.15342100e+03, 6.74391100e+02, 4.80594950e+02,\n",
       "       1.88790400e+03, 1.92097100e+03, 6.14412500e+02, 7.74400000e+03,\n",
       "       9.67087900e+03, 1.61198700e+03, 1.60700000e+03, 0.00000000e+00,\n",
       "       5.73274000e+02, 2.93600000e+03, 2.92521045e+03, 7.92686650e+02,\n",
       "       1.33253385e+03, 1.07595320e+03, 8.56595500e+01, 1.20444750e+02,\n",
       "       2.65780000e+02, 4.95967700e+02, 5.05760000e+02, 1.25573200e+03,\n",
       "       2.85387000e+00, 1.24631710e+03, 2.93534950e+02, 5.44576300e+03,\n",
       "       5.03370500e+01, 5.24180925e+03, 6.50730000e+01, 1.36872200e+02,\n",
       "       6.75605000e+01, 2.96272000e+03, 8.32884650e+02, 9.07937500e+01,\n",
       "       2.99176600e+02, 5.85507000e+03, 2.23699080e+03, 8.11580000e+00,\n",
       "       1.45560000e+02, 2.34650850e+02, 3.30595670e+03, 3.73919000e+02,\n",
       "       1.49121645e+03, 2.53904100e+03, 1.01567610e+03, 1.13858420e+04,\n",
       "       5.71269300e+01, 4.08853900e+03, 8.67739500e+02, 7.96487550e+02,\n",
       "       3.53225000e+01, 1.14660000e+04, 2.46200000e+03, 3.13530470e+03,\n",
       "       1.48662950e+02, 2.29984300e+02, 3.64226000e+03, 3.82450000e+02,\n",
       "       7.39772550e+02, 8.29114200e+02, 1.45814000e+02, 2.16554785e+03,\n",
       "       1.52700000e+03, 6.99400000e+02, 1.56200000e+03, 3.03457500e+03,\n",
       "       2.70789250e+02, 4.20775550e+02, 6.57098000e+01, 3.18648750e+02,\n",
       "       4.11733900e+03, 1.98820900e+02, 3.27735000e+03, 1.28612000e+03,\n",
       "       5.25099000e+02, 2.56889100e+02, 2.06547000e+02, 3.27484000e+03,\n",
       "       9.04388000e+02, 3.70796700e+02, 2.48172900e+03, 2.52919050e+03,\n",
       "       6.58752700e+03, 2.94689150e+02, 6.55564000e+03, 5.73441000e+02,\n",
       "       3.45155550e+02, 6.94229000e+03, 4.99987500e+02, 2.10472350e+02,\n",
       "       4.03114300e+02, 5.86694000e+03, 4.10629000e+03, 1.91975300e+02,\n",
       "       3.15500000e+03, 3.23914290e+03, 4.51053400e+02, 9.50355786e+01,\n",
       "       4.21922785e+03, 5.60352000e+02, 1.56416300e+03, 7.39900000e+03,\n",
       "       1.69400000e+03, 7.92000000e+02, 4.74370000e+02, 3.62100400e+02,\n",
       "       4.49541000e+01, 4.04955050e+02, 3.02231250e+02, 3.83831200e+02,\n",
       "       2.01009900e+02, 1.94114790e+02, 5.59010000e+02, 2.02257000e+03,\n",
       "       1.88070000e+04, 5.37374580e+03, 9.01341730e+03, 8.01025300e+03,\n",
       "       1.20411915e+03, 4.28168400e+02, 3.73224700e+02, 3.03654100e+03,\n",
       "       1.55379200e+02, 1.54291665e+03, 4.83043000e+02, 1.39387900e+03,\n",
       "       4.52527000e+02, 7.36767650e+02, 3.96814100e+03, 6.79230300e+03,\n",
       "       7.51313400e+03, 6.06641550e+02, 2.54988650e+02, 5.97865650e+02,\n",
       "       2.65376450e+02, 5.74264250e+02, 1.28067445e+03, 2.35663000e+03,\n",
       "       5.17191050e+02, 9.66742000e+01, 4.68360000e+02, 6.14780000e+03,\n",
       "       1.84910800e+02, 5.75945800e+02, 1.26171970e+03, 4.73910000e+02,\n",
       "       8.01373000e+01, 5.69739900e+03, 4.40406900e+02, 2.80237000e+03,\n",
       "       2.09600000e+03, 1.44006350e+02, 1.04569525e+03, 2.81270000e+04,\n",
       "       2.45010000e+04, 1.06664000e+02, 2.53900000e+03, 1.02746685e+03,\n",
       "       3.41583500e+02, 3.73010200e+03, 6.80331250e+03, 3.10728200e+03,\n",
       "       3.19310100e+03, 1.00631800e+04, 1.25380000e+02, 1.68097600e+03,\n",
       "       7.51722500e+01, 2.98280000e+02, 3.86443400e+03, 5.18707940e+03,\n",
       "       4.18596500e+01, 1.86353550e+02, 2.27855000e+02, 3.18274200e+03,\n",
       "       1.12328535e+03, 1.14296577e+03, 2.90590000e+02, 2.10601700e+02,\n",
       "       3.92179000e+03, 8.52537000e+02, 1.54125500e+02, 1.17638850e+02,\n",
       "       2.59861800e+03, 6.57476100e+02, 5.67337400e+03, 4.07952500e+03,\n",
       "       3.46558500e+01, 2.04234000e+03, 1.60872800e+02, 3.88179350e+02,\n",
       "       5.24922200e+02, 2.20585000e+00, 1.28056500e+01, 1.32072320e+03,\n",
       "       1.50264900e+02, 2.15608000e+03, 1.79997600e+03, 2.23526750e+02,\n",
       "       3.88050000e+01, 3.65194850e+02, 6.94500000e+03, 3.79413400e+02,\n",
       "       9.98301800e+03, 7.36839000e+03, 3.59139800e+02, 8.21173500e+01,\n",
       "       5.38026710e+03, 5.37391000e+03, 2.68480850e+02, 1.15389723e+03,\n",
       "       1.31098215e+03, 1.85348600e+03, 2.15210000e+02, 4.53550000e-02,\n",
       "       6.42038600e+03, 1.22140000e+01, 1.97840000e+04, 5.71358850e+02,\n",
       "       5.26071000e+03, 7.84742000e+03, 1.73111100e+02, 1.92240000e+04,\n",
       "       6.08611650e+02, 2.28626125e+03, 1.21860635e+03, 3.47412210e+03,\n",
       "       6.22400000e+03, 2.23650436e+02, 2.43634000e+02, 5.42364550e+02,\n",
       "       6.22979300e+03, 1.33568800e+02, 1.50690000e+04, 5.53293700e+03,\n",
       "       1.50613150e+02, 5.94074700e+02, 5.05280900e+02, 5.22918270e+03,\n",
       "       5.54115500e+02, 2.37058750e+02, 2.60272100e+02, 8.29691000e+02,\n",
       "       1.41960000e+04, 2.88157400e+03, 1.34310000e+04, 2.06030000e+04,\n",
       "       2.20820350e+02, 1.14696635e+03, 1.79258205e+03, 2.51900000e+03,\n",
       "       2.86678400e+03, 9.15518000e+03, 1.02912850e+02, 1.58458100e+03,\n",
       "       1.81687000e+02, 2.32160000e+03, 4.44476450e+02, 2.79000000e+03,\n",
       "       9.33500000e+03, 3.00843225e+03, 1.38061000e+03, 1.13290700e+02,\n",
       "       1.55010000e+04, 4.73513000e+03, 2.07431000e+03, 2.72000000e+03,\n",
       "       7.70180000e+02, 1.11927000e+03, 3.79700000e+03, 7.04332900e+03,\n",
       "       1.26260000e+03, 3.81958610e+02, 6.02085000e+03, 6.10591600e+03,\n",
       "       6.87176850e+02, 6.92500000e+03, 2.68294785e+03, 7.30807600e+02,\n",
       "       5.19857650e+02, 3.01803400e+02, 3.39300900e+03, 3.06123690e+03,\n",
       "       1.18223910e+03, 1.29215000e+02, 4.85620000e+02, 2.02800900e+02,\n",
       "       3.86916000e+02, 5.33731000e+03, 1.01480000e+03, 1.31386765e+03,\n",
       "       8.19797000e+03, 3.42930000e+03, 6.38988500e+02, 2.75940000e+04,\n",
       "       1.80686030e+03, 6.75387000e+03, 1.04582000e+03, 1.84453100e+02,\n",
       "       3.19435982e+03])"
      ]
     },
     "execution_count": 164,
     "metadata": {},
     "output_type": "execute_result"
    }
   ],
   "source": [
    "df['generation_gwh_2014'].unique() #check the unique values"
   ]
  },
  {
   "cell_type": "code",
   "execution_count": 165,
   "id": "0c6f52c0",
   "metadata": {},
   "outputs": [
    {
     "data": {
      "text/plain": [
       "0.00000       24\n",
       "191.97530      1\n",
       "113.29070      1\n",
       "34.65585       1\n",
       "1310.98215     1\n",
       "              ..\n",
       "2790.00000     1\n",
       "6147.80000     1\n",
       "7744.00000     1\n",
       "517.19105      1\n",
       "106.66400      1\n",
       "Name: generation_gwh_2014, Length: 301, dtype: int64"
      ]
     },
     "execution_count": 165,
     "metadata": {},
     "output_type": "execute_result"
    }
   ],
   "source": [
    "df['generation_gwh_2014'].value_counts() # check the counts of unique values"
   ]
  },
  {
   "cell_type": "code",
   "execution_count": 166,
   "id": "41c88ae8",
   "metadata": {},
   "outputs": [
    {
     "data": {
      "text/plain": [
       "0"
      ]
     },
     "execution_count": 166,
     "metadata": {},
     "output_type": "execute_result"
    }
   ],
   "source": [
    "df['generation_gwh_2014'].isnull().sum() #check the null values"
   ]
  },
  {
   "cell_type": "code",
   "execution_count": 167,
   "id": "7d2327ab",
   "metadata": {},
   "outputs": [
    {
     "data": {
      "text/plain": [
       "capacity_mw  generation_gwh_2014\n",
       "4760.0       27594.0                1\n",
       "Name: generation_gwh_2014, dtype: int64"
      ]
     },
     "execution_count": 167,
     "metadata": {},
     "output_type": "execute_result"
    }
   ],
   "source": [
    "#check the relationship between capacity_mw and generation_gwh_2014\n",
    "df.groupby('capacity_mw')['generation_gwh_2014'].value_counts().sort_index(ascending=True).tail(1)"
   ]
  },
  {
   "cell_type": "code",
   "execution_count": 168,
   "id": "875953d0",
   "metadata": {},
   "outputs": [
    {
     "data": {
      "text/plain": [
       "Text(0, 0.5, 'capacity_mw')"
      ]
     },
     "execution_count": 168,
     "metadata": {},
     "output_type": "execute_result"
    },
    {
     "data": {
      "image/png": "[encoded data removed]",
      "text/plain": [
       "<Figure size 432x288 with 1 Axes>"
      ]
     },
     "metadata": {
      "needs_background": "light"
     },
     "output_type": "display_data"
    }
   ],
   "source": [
    "#visualize this column by lineplot\n",
    "sns.lineplot(x= 'generation_gwh_2014', y = 'capacity_mw', data=df)\n",
    "plt.xlabel('generation_gwh_2014', fontsize = 14)\n",
    "plt.ylabel('capacity_mw', fontsize = 14)"
   ]
  },
  {
   "cell_type": "code",
   "execution_count": 169,
   "id": "ebc5f957",
   "metadata": {},
   "outputs": [
    {
     "data": {
      "text/plain": [
       "Text(0, 0.5, 'primary_fuel')"
      ]
     },
     "execution_count": 169,
     "metadata": {},
     "output_type": "execute_result"
    },
    {
     "data": {
      "image/png": "[encoded data removed]",
      "text/plain": [
       "<Figure size 432x288 with 1 Axes>"
      ]
     },
     "metadata": {
      "needs_background": "light"
     },
     "output_type": "display_data"
    }
   ],
   "source": [
    "#visualize this column by barplot\n",
    "sns.barplot(x= 'generation_gwh_2014', y = 'primary_fuel', data=df)\n",
    "plt.xlabel('generation_gwh_2014', fontsize = 14)\n",
    "plt.ylabel('primary_fuel', fontsize = 14)"
   ]
  },
  {
   "cell_type": "markdown",
   "id": "3a499f40",
   "metadata": {},
   "source": [
    "observation:\n",
    "1. Zero values and Null values are found\n",
    "2. We can see, the highest capacity power plant '4760.0' have 27594.0 generation in ghw in 2014\n",
    "3. We can see, the power plant those have less capacity generates less.\n",
    "4. we can see, coal and nuclear power plants generates higher than others"
   ]
  },
  {
   "cell_type": "code",
   "execution_count": 170,
   "id": "93c6513d",
   "metadata": {},
   "outputs": [
    {
     "name": "stdout",
     "output_type": "stream",
     "text": [
      "Actual shape of our Dataset now :--------> (324, 14)\n"
     ]
    }
   ],
   "source": [
    "#check the updated shape of our dataset\n",
    "print('Actual shape of our Dataset now :-------->', df.shape)"
   ]
  },
  {
   "cell_type": "markdown",
   "id": "a470be0a",
   "metadata": {},
   "source": [
    "# Column18: generation_gwh_2015"
   ]
  },
  {
   "cell_type": "code",
   "execution_count": 171,
   "id": "021b4543",
   "metadata": {},
   "outputs": [
    {
     "data": {
      "text/plain": [
       "array([5.91637000e+03, 1.20885200e+03, 7.21335200e+02, 1.44434200e+02,\n",
       "       1.64304600e+03, 5.62966300e+03, 6.65197300e+02, 8.07681050e+03,\n",
       "       1.11510695e+04, 9.09000000e+02, 1.46500000e+03, 9.86247350e+02,\n",
       "       0.00000000e+00, 2.01300000e+03, 2.98513930e+03, 7.41862050e+02,\n",
       "       6.18909900e+02, 5.71607600e+02, 1.06942600e+02, 3.96806000e+01,\n",
       "       2.31610720e+03, 3.26459500e+02, 3.06379000e+02, 1.16531800e+03,\n",
       "       8.29591247e+00, 1.29797750e+03, 3.14320500e+02, 5.74131900e+03,\n",
       "       3.98796000e+01, 5.86315690e+03, 8.21372500e+01, 6.99485000e+00,\n",
       "       5.65160000e+00, 1.55727450e+02, 3.26358400e+03, 6.37138300e+02,\n",
       "       7.35006500e+01, 1.95935400e+02, 7.50597200e+03, 1.20406750e+03,\n",
       "       1.28899000e+01, 3.41720000e+00, 2.86410750e+02, 3.66456950e+03,\n",
       "       4.17168000e+02, 1.51636010e+03, 2.61058150e+03, 1.03840190e+03,\n",
       "       1.11586970e+04, 6.95455250e+01, 3.99151200e+03, 8.09711100e+02,\n",
       "       7.49901650e+02, 3.67254500e+01, 9.33300000e+03, 2.92400000e+03,\n",
       "       3.32244430e+03, 2.63686400e+03, 1.36175700e+02, 2.04034700e+02,\n",
       "       3.48074000e+03, 3.34900000e+02, 1.08418185e+03, 2.82700000e+02,\n",
       "       3.84538000e+02, 2.34967260e+03, 1.06800000e+03, 9.32130000e+02,\n",
       "       9.23000000e+02, 2.44121000e+03, 3.81134750e+02, 4.19820350e+02,\n",
       "       1.00650000e+02, 3.17803000e+01, 3.00350700e+02, 2.85346000e+03,\n",
       "       1.88114700e+02, 3.63524000e+03, 8.14866000e+02, 5.35411000e+02,\n",
       "       3.21683500e+02, 1.36064400e+02, 3.45484053e+03, 4.45882000e+02,\n",
       "       2.71635000e+02, 2.36053800e+03, 1.96433895e+03, 5.41876700e+03,\n",
       "       3.47603250e+02, 6.39637000e+03, 6.66941000e+02, 3.16768200e+02,\n",
       "       7.64555000e+03, 4.10566850e+02, 2.88460450e+02, 2.19377600e+02,\n",
       "       6.99600000e+03, 3.40869000e+03, 1.83298900e+02, 1.78400000e+03,\n",
       "       1.93873760e+03, 3.23315300e+02, 2.12919179e+02, 4.70268840e+03,\n",
       "       6.20207000e+02, 1.68359700e+03, 8.22700000e+03, 1.17400000e+03,\n",
       "       1.31000000e+02, 2.89245000e+02, 3.19454700e+02, 1.19847750e+02,\n",
       "       3.74060300e+02, 2.59923850e+02, 2.02243700e+02, 2.77187100e+02,\n",
       "       1.33406400e+02, 2.02461000e+03, 2.72569064e+03, 1.91760000e+04,\n",
       "       5.64538900e+03, 8.69185700e+03, 6.99232100e+03, 1.24180975e+03,\n",
       "       4.28297750e+02, 3.63398000e+02, 2.96193590e+03, 1.38285100e+02,\n",
       "       1.36557780e+03, 3.36854000e+02, 1.37534800e+03, 5.18844000e+02,\n",
       "       5.56443800e+02, 1.87159500e+01, 3.97206800e+03, 6.10841900e+03,\n",
       "       7.44494800e+03, 6.53565750e+02, 1.18345300e+02, 6.62878950e+02,\n",
       "       2.22253150e+02, 5.08166400e+02, 1.22697430e+03, 2.92700000e+03,\n",
       "       4.75082650e+02, 9.16992000e+01, 4.63857000e+03, 1.65518250e+02,\n",
       "       6.92878200e+02, 1.70701205e+03, 2.81730000e+02, 5.92967650e+01,\n",
       "       7.86149500e+01, 5.47132800e+03, 3.39722850e+02, 3.67416000e+03,\n",
       "       1.71800000e+03, 1.03121800e+02, 1.16361270e+03, 3.05390000e+04,\n",
       "       2.36790000e+04, 6.15208500e+01, 3.08000000e+03, 8.77092500e+01,\n",
       "       3.48747500e+02, 3.87006950e+03, 7.27722105e+03, 3.00006100e+03,\n",
       "       2.77694700e+03, 9.54664800e+03, 6.60780000e+02, 1.38303700e+03,\n",
       "       9.00574500e+01, 1.24924800e+02, 4.04639400e+03, 6.03195650e+03,\n",
       "       1.59289550e+02, 3.50561100e+03, 9.50234950e+02, 1.52252966e+02,\n",
       "       8.75540000e+02, 2.17596550e+02, 1.51372000e+03, 4.54121500e+02,\n",
       "       1.73428500e+02, 1.15987150e+02, 3.17547300e+03, 6.39785000e+02,\n",
       "       6.03988000e+03, 1.14401405e+03, 2.55018500e+01, 2.70250000e+03,\n",
       "       3.76617450e+02, 5.02256100e+02, 4.54954000e+02, 1.72608620e+03,\n",
       "       1.58901500e+02, 1.83611480e+03, 1.49779800e+03, 3.02679000e+01,\n",
       "       5.66055500e+01, 2.79157200e+02, 7.61200000e+03, 5.15509500e+02,\n",
       "       1.04226900e+04, 4.66318000e+03, 3.82122500e+01, 3.67553000e+01,\n",
       "       4.38956090e+03, 7.26250057e+03, 5.00017350e+02, 1.45939953e+03,\n",
       "       1.97349295e+03, 1.94748365e+03, 2.18930000e+02, 1.15049700e+03,\n",
       "       6.53261500e+03, 1.96280000e+04, 3.73045400e+02, 3.60070000e+03,\n",
       "       6.43400000e+03, 3.56966000e+02, 1.89900000e+04, 7.01027250e+02,\n",
       "       1.45855060e+03, 1.16531415e+03, 3.57340320e+03, 4.91200000e+03,\n",
       "       3.75606432e+01, 3.99540000e+01, 6.48394100e+03, 7.88836000e+01,\n",
       "       2.93420000e+04, 4.95934000e+03, 1.60185050e+02, 5.94084650e+02,\n",
       "       5.29907150e+02, 2.65117750e+03, 3.01674050e+02, 2.08959950e+02,\n",
       "       2.62471050e+02, 7.78430000e+02, 1.36560000e+04, 3.68490000e+03,\n",
       "       1.50540000e+04, 2.10780000e+04, 2.15377700e+02, 2.05019750e+02,\n",
       "       1.54006100e+02, 3.51644900e+03, 2.69796900e+03, 5.28200000e+03,\n",
       "       9.20375000e+01, 5.19464000e+01, 3.96058400e+03, 1.20335300e+02,\n",
       "       4.10153000e+03, 4.50098200e+02, 2.75700000e+03, 9.45300000e+03,\n",
       "       3.08549500e+03, 1.51887000e+03, 4.39392000e+01, 1.89640000e+04,\n",
       "       4.22998000e+03, 2.02920000e+03, 2.18900000e+03, 1.50000000e+01,\n",
       "       1.14900000e+03, 5.06400000e+03, 6.50137300e+03, 7.28364000e+02,\n",
       "       3.06460000e+02, 7.62900000e+03, 5.10021400e+03, 4.89052450e+02,\n",
       "       6.35300000e+03, 1.75163780e+03, 7.63234650e+02, 4.62953600e+02,\n",
       "       2.57058250e+02, 2.80153000e+03, 3.26655515e+03, 1.18957225e+03,\n",
       "       1.23758900e+03, 3.26849000e+02, 1.22006900e+02, 1.70734000e+02,\n",
       "       7.13050700e+03, 6.80475000e+02, 7.48628050e+02, 5.88748000e+02,\n",
       "       8.13118000e+03, 2.83689000e+03, 6.93874313e+02, 2.90470000e+04,\n",
       "       1.20459675e+03, 5.16153800e+03, 1.65115890e+03, 1.83000000e+02,\n",
       "       3.70955220e+03])"
      ]
     },
     "execution_count": 171,
     "metadata": {},
     "output_type": "execute_result"
    }
   ],
   "source": [
    "df['generation_gwh_2015'].unique() #check the unique values"
   ]
  },
  {
   "cell_type": "code",
   "execution_count": 172,
   "id": "b9871402",
   "metadata": {},
   "outputs": [
    {
     "data": {
      "text/plain": [
       "0.000000       24\n",
       "3664.569500     1\n",
       "1707.012050     1\n",
       "1163.612700     1\n",
       "3454.840529     1\n",
       "               ..\n",
       "91.699200       1\n",
       "6996.000000     1\n",
       "3085.495000     1\n",
       "2801.530000     1\n",
       "508.166400      1\n",
       "Name: generation_gwh_2015, Length: 301, dtype: int64"
      ]
     },
     "execution_count": 172,
     "metadata": {},
     "output_type": "execute_result"
    }
   ],
   "source": [
    "df['generation_gwh_2015'].value_counts() # check the counts of unique values"
   ]
  },
  {
   "cell_type": "code",
   "execution_count": 173,
   "id": "498fc414",
   "metadata": {},
   "outputs": [
    {
     "data": {
      "text/plain": [
       "0"
      ]
     },
     "execution_count": 173,
     "metadata": {},
     "output_type": "execute_result"
    }
   ],
   "source": [
    "df['generation_gwh_2015'].isnull().sum() #check the null values"
   ]
  },
  {
   "cell_type": "code",
   "execution_count": 174,
   "id": "b2ef9d35",
   "metadata": {},
   "outputs": [
    {
     "data": {
      "text/plain": [
       "False"
      ]
     },
     "execution_count": 174,
     "metadata": {},
     "output_type": "execute_result"
    }
   ],
   "source": [
    "df['generation_gwh_2015'].all() #check the zero values"
   ]
  },
  {
   "cell_type": "code",
   "execution_count": 175,
   "id": "24a56530",
   "metadata": {},
   "outputs": [],
   "source": [
    "#replace the zero values by mean values\n",
    "df['generation_gwh_2015'] = df['generation_gwh_2015'].replace(0.0, df['generation_gwh_2015'].mean())"
   ]
  },
  {
   "cell_type": "code",
   "execution_count": 176,
   "id": "d79ba79b",
   "metadata": {},
   "outputs": [
    {
     "data": {
      "text/plain": [
       "True"
      ]
     },
     "execution_count": 176,
     "metadata": {},
     "output_type": "execute_result"
    }
   ],
   "source": [
    "df['generation_gwh_2015'].all() #check the zero values"
   ]
  },
  {
   "cell_type": "code",
   "execution_count": 177,
   "id": "6766ac49",
   "metadata": {},
   "outputs": [
    {
     "data": {
      "text/plain": [
       "capacity_mw  generation_gwh_2015\n",
       "4760.0       29047.0                1\n",
       "Name: generation_gwh_2015, dtype: int64"
      ]
     },
     "execution_count": 177,
     "metadata": {},
     "output_type": "execute_result"
    }
   ],
   "source": [
    "#check the relationship between capacity_mw and generation_gwh_2015\n",
    "df.groupby('capacity_mw')['generation_gwh_2015'].value_counts().sort_index(ascending=True).tail(1)"
   ]
  },
  {
   "cell_type": "code",
   "execution_count": 178,
   "id": "5af70630",
   "metadata": {},
   "outputs": [
    {
     "data": {
      "text/plain": [
       "Text(0, 0.5, 'capacity_mw')"
      ]
     },
     "execution_count": 178,
     "metadata": {},
     "output_type": "execute_result"
    },
    {
     "data": {
      "image/png": "[encoded data removed]",
      "text/plain": [
       "<Figure size 432x288 with 1 Axes>"
      ]
     },
     "metadata": {
      "needs_background": "light"
     },
     "output_type": "display_data"
    }
   ],
   "source": [
    "#visualize this column by lineplot\n",
    "sns.lineplot(x= 'generation_gwh_2015', y = 'capacity_mw', data=df)\n",
    "plt.xlabel('generation_gwh_2015', fontsize = 14)\n",
    "plt.ylabel('capacity_mw', fontsize = 14)"
   ]
  },
  {
   "cell_type": "code",
   "execution_count": 179,
   "id": "3468fd68",
   "metadata": {},
   "outputs": [
    {
     "data": {
      "text/plain": [
       "Text(0, 0.5, 'primary_fuel')"
      ]
     },
     "execution_count": 179,
     "metadata": {},
     "output_type": "execute_result"
    },
    {
     "data": {
      "image/png": "[encoded data removed]",
      "text/plain": [
       "<Figure size 432x288 with 1 Axes>"
      ]
     },
     "metadata": {
      "needs_background": "light"
     },
     "output_type": "display_data"
    }
   ],
   "source": [
    "#visualize this column by barplot\n",
    "sns.barplot(x= 'generation_gwh_2015', y = 'primary_fuel', data=df)\n",
    "plt.xlabel('generation_gwh_2015', fontsize = 14)\n",
    "plt.ylabel('primary_fuel', fontsize = 14)"
   ]
  },
  {
   "cell_type": "markdown",
   "id": "24359da1",
   "metadata": {},
   "source": [
    "observation:\n",
    "1. Zero values and Null values are not found\n",
    "2. We can see, the highest capacity power plant '4760.0' have 29047.0 generation in ghw in 2015"
   ]
  },
  {
   "cell_type": "code",
   "execution_count": 180,
   "id": "6238548c",
   "metadata": {},
   "outputs": [
    {
     "name": "stdout",
     "output_type": "stream",
     "text": [
      "Actual shape of our Dataset now :--------> (324, 14)\n"
     ]
    }
   ],
   "source": [
    "#check the updated shape of our dataset\n",
    "print('Actual shape of our Dataset now :-------->', df.shape)"
   ]
  },
  {
   "cell_type": "markdown",
   "id": "4c5e9bc1",
   "metadata": {},
   "source": [
    "# Column19: generation_gwh_2016"
   ]
  },
  {
   "cell_type": "code",
   "execution_count": 181,
   "id": "9cf24b0e",
   "metadata": {},
   "outputs": [
    {
     "data": {
      "text/plain": [
       "array([6.24300000e+03, 1.17576500e+03, 6.75724400e+02, 4.02029750e+02,\n",
       "       1.33809300e+03, 1.70100800e+03, 6.70500650e+02, 7.90202160e+03,\n",
       "       1.32273523e+04, 6.66420000e+02, 5.09000000e+02, 2.83200000e+02,\n",
       "       0.00000000e+00, 1.51100000e+03, 2.17363720e+03, 6.65983350e+02,\n",
       "       9.96373100e+02, 1.23282490e+03, 1.09181350e+02, 5.32126000e+01,\n",
       "       6.77378800e+03, 4.43242650e+02, 3.54900000e+02, 1.27499900e+03,\n",
       "       1.04689800e+01, 1.33603625e+03, 2.96271200e+02, 5.99932000e+03,\n",
       "       2.69247000e+01, 5.14242865e+03, 4.68844000e+01, 1.97308500e+01,\n",
       "       1.73826500e+01, 2.04870500e+01, 3.37910050e+03, 9.46871850e+02,\n",
       "       1.01072100e+02, 2.05557050e+02, 5.66607190e+03, 7.39155400e+02,\n",
       "       5.11710000e+00, 2.59943750e+02, 3.44980000e+03, 4.33848000e+02,\n",
       "       1.43671035e+03, 2.21326805e+03, 9.12504550e+02, 1.36754400e+04,\n",
       "       8.16317900e+01, 6.13378400e+03, 7.10430000e+02, 7.65503250e+02,\n",
       "       4.38994000e+01, 8.19700000e+03, 2.17800000e+03, 3.16875660e+03,\n",
       "       2.97000000e+00, 1.19589050e+02, 1.79498000e+02, 3.39436700e+03,\n",
       "       1.41300000e+03, 9.51349350e+02, 9.48550000e+01, 2.83748110e+02,\n",
       "       2.26861990e+03, 1.00490800e+03, 7.51743000e+02, 2.29081100e+03,\n",
       "       1.93824900e+03, 3.49245000e+02, 4.14457300e+02, 4.84963000e+01,\n",
       "       3.81950650e+02, 2.49369000e+03, 1.39897000e+02, 3.38931000e+03,\n",
       "       6.20678000e+02, 9.33370000e+02, 1.52991200e+02, 2.33745500e+01,\n",
       "       2.22817300e+02, 3.51831000e+03, 6.73162000e+02, 1.70861400e+02,\n",
       "       1.37315970e+03, 3.30418605e+03, 5.10949700e+03, 3.06012250e+02,\n",
       "       5.82629000e+03, 9.99650000e+02, 2.86808750e+02, 6.06320000e+03,\n",
       "       2.87943050e+02, 3.37314950e+02, 1.75537900e+02, 5.93149000e+03,\n",
       "       6.13001993e+03, 1.31021600e+02, 1.33809590e+03, 2.38004000e+02,\n",
       "       2.31324710e+02, 4.35042855e+03, 4.80967000e+02, 1.78633000e+03,\n",
       "       7.85600000e+03, 1.67300000e+03, 1.41076923e+01, 3.40200000e+02,\n",
       "       2.67585350e+02, 1.79239300e+02, 3.31623550e+02, 3.05703800e+02,\n",
       "       1.53389200e+02, 1.68582850e+02, 3.63404400e+01, 2.21118800e+03,\n",
       "       4.87581000e+03, 1.90780000e+04, 5.67024700e+03, 8.65544700e+03,\n",
       "       6.62879200e+03, 1.21842725e+03, 4.28427100e+02, 3.08967000e+02,\n",
       "       3.28932075e+03, 1.21589000e+02, 8.11531950e+02, 4.18960000e+02,\n",
       "       1.25912300e+03, 3.35927000e+02, 3.25603800e+02, 1.50722600e+02,\n",
       "       3.53752000e+03, 6.06233949e+03, 7.06207100e+03, 6.08601700e+02,\n",
       "       1.05111800e+02, 4.80734250e+02, 9.18086500e+01, 3.05693850e+02,\n",
       "       8.27740500e+02, 2.91667000e+03, 6.96808450e+02, 1.46473950e+02,\n",
       "       2.43038000e+03, 2.70941000e+03, 2.08611700e+02, 7.16728350e+02,\n",
       "       1.59292535e+03, 3.78680000e+02, 2.18042900e+03, 1.22066600e+02,\n",
       "       5.23970300e+03, 1.24852600e+02, 3.21270000e+03, 3.83800000e+03,\n",
       "       6.12124000e+01, 1.07809245e+03, 2.80780000e+04, 2.53030000e+04,\n",
       "       3.13325500e+01, 3.03689000e+03, 1.85219250e+02, 1.96313500e+02,\n",
       "       2.97275300e+03, 7.01538680e+03, 3.05530500e+03, 3.25685100e+03,\n",
       "       9.98775200e+03, 1.12829400e+03, 1.00266600e+03, 9.47339500e+01,\n",
       "       2.08788800e+02, 3.36574600e+03, 5.91239600e+03, 4.12925000e+00,\n",
       "       2.15626450e+02, 3.35981400e+03, 1.42056150e+03, 1.95884661e+02,\n",
       "       2.73010000e+02, 1.65219750e+02, 1.97880000e+03, 6.64884900e+02,\n",
       "       6.20183500e+01, 6.62073000e+01, 2.68116600e+03, 6.79067600e+02,\n",
       "       5.47415000e+03, 1.42041200e+03, 2.38302500e+01, 4.07698000e+03,\n",
       "       3.58339300e+02, 9.34404500e+01, 2.16621274e+02, 7.49135500e+01,\n",
       "       1.36308035e+03, 9.06445000e+01, 1.97337400e+03, 1.75918200e+03,\n",
       "       2.10930050e+02, 1.26763000e+01, 1.91587250e+02, 6.68460000e+03,\n",
       "       4.46536100e+02, 1.05038820e+04, 4.04510400e+03, 6.19487000e+01,\n",
       "       3.57423490e+03, 8.95247000e+03, 1.80035300e+02, 1.36792423e+03,\n",
       "       1.95061790e+03, 1.29954960e+03, 3.44356238e+02, 4.47209800e+03,\n",
       "       6.02084870e+03, 2.04860000e+04, 5.64403800e+02, 2.50811000e+03,\n",
       "       7.27028000e+03, 4.03960000e+02, 1.83570000e+04, 8.71958300e+02,\n",
       "       2.32120565e+03, 7.94796050e+02, 3.40597455e+03, 4.88900000e+03,\n",
       "       1.13080440e+01, 1.86463000e+02, 6.31603000e+03, 6.29735500e+01,\n",
       "       2.76710000e+04, 3.26034800e+03, 1.15081700e+02, 4.68256950e+02,\n",
       "       4.70515600e+02, 2.69522615e+03, 2.75217000e+02, 1.66015750e+02,\n",
       "       2.26969450e+02, 1.92774700e+03, 1.33890000e+04, 1.43936300e+03,\n",
       "       1.39980000e+04, 2.25220000e+04, 1.44414300e+02, 6.37406950e+02,\n",
       "       6.14133900e+02, 4.65418000e+03, 2.76937100e+03, 4.03081800e+03,\n",
       "       4.24964500e+01, 2.58452000e+02, 2.29092000e+03, 8.07542000e+01,\n",
       "       4.52960000e+03, 4.28138550e+02, 2.85800000e+03, 9.88720000e+03,\n",
       "       3.13058840e+03, 1.21164200e+03, 1.05629200e+02, 1.66650000e+04,\n",
       "       2.47863000e+03, 1.59098000e+03, 2.52100000e+03, 1.37200000e+03,\n",
       "       4.68300000e+03, 5.08965500e+03, 2.17304000e+01, 3.40339750e+02,\n",
       "       7.41200000e+03, 4.89339200e+03, 3.93681700e+02, 6.33500000e+03,\n",
       "       1.51403180e+03, 6.16243300e+02, 3.38707950e+02, 3.61095450e+02,\n",
       "       3.20330000e+03, 2.78908450e+03, 1.46458030e+03, 1.45405000e+02,\n",
       "       3.76200000e+02, 1.52752400e+02, 3.74892000e+02, 8.56437900e+03,\n",
       "       9.06996000e+02, 7.37046250e+02, 3.01170000e+02, 7.26206000e+03,\n",
       "       3.35790000e+03, 6.69578138e+02, 3.00150000e+04, 2.03183975e+03,\n",
       "       3.53963000e+03, 1.22948000e+03, 2.04253600e+02, 3.12357206e+03])"
      ]
     },
     "execution_count": 181,
     "metadata": {},
     "output_type": "execute_result"
    }
   ],
   "source": [
    "df['generation_gwh_2016'].unique() #check the unique values"
   ]
  },
  {
   "cell_type": "code",
   "execution_count": 182,
   "id": "377b24d0",
   "metadata": {},
   "outputs": [
    {
     "data": {
      "text/plain": [
       "0.000000       25\n",
       "8655.446996     1\n",
       "6133.784000     1\n",
       "306.012250      1\n",
       "3449.800000     1\n",
       "               ..\n",
       "2.970000        1\n",
       "1701.008000     1\n",
       "81.631790       1\n",
       "446.536100      1\n",
       "1436.710350     1\n",
       "Name: generation_gwh_2016, Length: 300, dtype: int64"
      ]
     },
     "execution_count": 182,
     "metadata": {},
     "output_type": "execute_result"
    }
   ],
   "source": [
    "df['generation_gwh_2016'].value_counts() # check the counts of unique values"
   ]
  },
  {
   "cell_type": "code",
   "execution_count": 183,
   "id": "9dcee101",
   "metadata": {},
   "outputs": [
    {
     "data": {
      "text/plain": [
       "False"
      ]
     },
     "execution_count": 183,
     "metadata": {},
     "output_type": "execute_result"
    }
   ],
   "source": [
    "df['generation_gwh_2016'].all() #check the zero values"
   ]
  },
  {
   "cell_type": "code",
   "execution_count": 184,
   "id": "1178a9d0",
   "metadata": {},
   "outputs": [],
   "source": [
    "#replace the zero values by mean values\n",
    "df['generation_gwh_2016'] = df['generation_gwh_2016'].replace(0.0, df['generation_gwh_2016'].mean())"
   ]
  },
  {
   "cell_type": "code",
   "execution_count": 185,
   "id": "8d29479f",
   "metadata": {},
   "outputs": [
    {
     "data": {
      "text/plain": [
       "True"
      ]
     },
     "execution_count": 185,
     "metadata": {},
     "output_type": "execute_result"
    }
   ],
   "source": [
    "df['generation_gwh_2016'].all() #check the zero values"
   ]
  },
  {
   "cell_type": "code",
   "execution_count": 186,
   "id": "11c209c7",
   "metadata": {},
   "outputs": [
    {
     "data": {
      "text/plain": [
       "0"
      ]
     },
     "execution_count": 186,
     "metadata": {},
     "output_type": "execute_result"
    }
   ],
   "source": [
    "df['generation_gwh_2016'].isnull().sum()"
   ]
  },
  {
   "cell_type": "code",
   "execution_count": 187,
   "id": "f0bffbc0",
   "metadata": {},
   "outputs": [
    {
     "data": {
      "text/plain": [
       "capacity_mw  generation_gwh_2016\n",
       "4760.0       30015.0                1\n",
       "Name: generation_gwh_2016, dtype: int64"
      ]
     },
     "execution_count": 187,
     "metadata": {},
     "output_type": "execute_result"
    }
   ],
   "source": [
    "#check the relationship between capacity_mw and generation_gwh_2016\n",
    "df.groupby('capacity_mw')['generation_gwh_2016'].value_counts().sort_index(ascending=True).tail(1)"
   ]
  },
  {
   "cell_type": "code",
   "execution_count": 188,
   "id": "adf7a462",
   "metadata": {},
   "outputs": [
    {
     "data": {
      "text/plain": [
       "Text(0, 0.5, 'capacity_mw')"
      ]
     },
     "execution_count": 188,
     "metadata": {},
     "output_type": "execute_result"
    },
    {
     "data": {
      "image/png": "[encoded data removed]",
      "text/plain": [
       "<Figure size 432x288 with 1 Axes>"
      ]
     },
     "metadata": {
      "needs_background": "light"
     },
     "output_type": "display_data"
    }
   ],
   "source": [
    "#visualize this column by lineplot\n",
    "sns.lineplot(x= 'generation_gwh_2016', y = 'capacity_mw', data=df)\n",
    "plt.xlabel('generation_gwh_2016', fontsize = 14)\n",
    "plt.ylabel('capacity_mw', fontsize = 14)"
   ]
  },
  {
   "cell_type": "code",
   "execution_count": 189,
   "id": "d9a5574c",
   "metadata": {},
   "outputs": [
    {
     "data": {
      "text/plain": [
       "Text(0, 0.5, 'primary_fuel')"
      ]
     },
     "execution_count": 189,
     "metadata": {},
     "output_type": "execute_result"
    },
    {
     "data": {
      "image/png": "[encoded data removed]",
      "text/plain": [
       "<Figure size 432x288 with 1 Axes>"
      ]
     },
     "metadata": {
      "needs_background": "light"
     },
     "output_type": "display_data"
    }
   ],
   "source": [
    "#visualize this column by Barplot\n",
    "sns.barplot(x= 'generation_gwh_2016', y = 'primary_fuel', data=df)\n",
    "plt.xlabel('generation_gwh_2016', fontsize = 14)\n",
    "plt.ylabel('primary_fuel', fontsize = 14)"
   ]
  },
  {
   "cell_type": "markdown",
   "id": "d132e972",
   "metadata": {},
   "source": [
    "observation:\n",
    "1. Zero values and Null values are not found\n",
    "2. We can see, the highest capacity power plant '4760.0' have 30015.0 generation in ghw in 2016"
   ]
  },
  {
   "cell_type": "code",
   "execution_count": 190,
   "id": "a5bfec24",
   "metadata": {},
   "outputs": [
    {
     "name": "stdout",
     "output_type": "stream",
     "text": [
      "Actual shape of our Dataset now :--------> (324, 14)\n"
     ]
    }
   ],
   "source": [
    "#check the updated shape of our dataset\n",
    "print('Actual shape of our Dataset now :-------->', df.shape)"
   ]
  },
  {
   "cell_type": "markdown",
   "id": "4210c5af",
   "metadata": {},
   "source": [
    "# Column20: generation_gwh_2017"
   ]
  },
  {
   "cell_type": "code",
   "execution_count": 191,
   "id": "f044ee0c",
   "metadata": {},
   "outputs": [
    {
     "data": {
      "text/plain": [
       "array([5.38557974e+03, 1.14791300e+03, 6.79594950e+02, 4.39372100e+02,\n",
       "       1.56345700e+03, 4.35055800e+03, 6.44570950e+02, 7.94074000e+03,\n",
       "       1.53348763e+04, 4.30000000e+02, 3.57000000e+02, 5.40290000e+02,\n",
       "       0.00000000e+00, 1.39500000e+03, 2.49417645e+03, 6.38521350e+02,\n",
       "       1.46980405e+03, 5.42643150e+02, 5.58394000e+01, 6.84560000e+01,\n",
       "       6.15376000e+03, 1.58254750e+02, 1.71355000e+02, 1.43607200e+03,\n",
       "       5.85771000e+00, 1.32996675e+03, 3.13594150e+02, 3.73840000e+03,\n",
       "       1.56115500e+01, 5.10834990e+03, 4.23372500e+01, 3.74319000e+01,\n",
       "       1.68752000e+01, 3.59090000e+03, 8.87838500e+02, 9.66642500e+01,\n",
       "       3.05664000e+02, 6.15962100e+03, 2.26547000e+03, 4.25768796e-01,\n",
       "       6.07180000e+01, 3.16041850e+02, 3.03264960e+03, 4.20909000e+02,\n",
       "       1.47967445e+03, 2.33235960e+03, 1.06270975e+03, 1.37802300e+04,\n",
       "       8.26556450e+01, 6.87063795e+03, 7.79652150e+02, 8.07601700e+02,\n",
       "       4.54914000e+01, 9.27100000e+03, 1.57500000e+03, 3.07080880e+03,\n",
       "       1.29031600e+02, 1.85776450e+02, 3.18980000e+03, 2.20511000e+03,\n",
       "       1.14739420e+03, 2.10230500e+02, 5.49869300e+02, 2.33214070e+03,\n",
       "       8.11000000e+02, 6.93296000e+02, 3.03100000e+03, 3.35873300e+03,\n",
       "       3.49623100e+02, 4.91619550e+02, 4.81281500e+01, 1.52065850e+02,\n",
       "       2.68588000e+03, 1.69090300e+02, 3.43821000e+03, 2.63847000e+02,\n",
       "       5.53615000e+02, 1.77179650e+02, 1.87800000e+00, 1.85639000e+02,\n",
       "       3.52322000e+03, 5.62509000e+02, 2.54978700e+02, 1.60300470e+03,\n",
       "       7.28250000e+01, 8.77351200e+02, 7.29056800e+03, 2.59794500e+02,\n",
       "       6.14008000e+03, 1.03099000e+03, 1.90522600e+02, 6.10993000e+03,\n",
       "       3.82438200e+02, 3.07375400e+02, 1.91945450e+02, 6.82573000e+03,\n",
       "       7.00679130e+03, 1.59080600e+02, 1.52959360e+03, 2.89525100e+02,\n",
       "       2.12377444e+02, 4.54708035e+03, 4.69440000e+02, 1.71291200e+03,\n",
       "       4.78800000e+03, 2.34000000e+03, 1.63611000e+02, 2.57844300e+02,\n",
       "       2.11537000e+02, 3.53971250e+02, 3.14798100e+02, 1.70085300e+02,\n",
       "       1.23360100e+02, 7.46530000e-01,            nan, 6.44400000e+02,\n",
       "       8.67084580e+03, 1.92290000e+04, 5.27466250e+03, 8.77335753e+03,\n",
       "       6.41502900e+03, 1.21422835e+03, 5.05678900e+02, 2.66158000e+02,\n",
       "       2.61759625e+03, 1.23350150e+02, 8.02198850e+02, 1.73234000e+02,\n",
       "       1.09075000e+03, 3.09549000e+02, 4.27969400e+02, 3.45969500e+03,\n",
       "       6.57679600e+03, 5.63060100e+03, 6.09298200e+02, 1.24922250e+02,\n",
       "       4.78585050e+02, 1.31290250e+02, 5.05201300e+02, 1.10422115e+03,\n",
       "       2.70438000e+03, 4.65361500e+02, 2.24074000e+01, 2.71600000e+03,\n",
       "       6.88957000e+03, 1.79269150e+02, 7.11604100e+02, 1.66306290e+03,\n",
       "       1.50952000e+02, 5.34163900e+03, 9.33409500e+01, 4.66667200e+03,\n",
       "       2.14482200e+02, 2.27306000e+03, 7.27600000e+03, 9.39280000e+01,\n",
       "       1.26440620e+03, 2.03110000e+04, 2.45990000e+04, 5.11231000e+01,\n",
       "       3.26857000e+03, 1.83567550e+02, 3.09047000e+02, 2.58014500e+03,\n",
       "       7.17169135e+03, 2.97281400e+03, 2.93988800e+03, 9.24606200e+03,\n",
       "       1.68704400e+03, 9.20129000e+02, 9.83358500e+01, 7.73344000e+01,\n",
       "       3.82413900e+03, 5.44746970e+03, 1.27360000e+01, 5.94313500e+01,\n",
       "       2.98460200e+02, 3.86670700e+03, 4.41382000e+02, 4.24730000e+02,\n",
       "       1.87448050e+02, 2.32790000e+03, 2.89283800e+02, 1.28822650e+02,\n",
       "       1.14703600e+02, 2.81062500e+03, 7.06977350e+02, 5.79584800e+03,\n",
       "       2.73705800e+03, 2.69744500e+01, 3.80559000e+03, 1.58732350e+02,\n",
       "       2.85664500e+02, 1.60528200e+02, 3.55115500e+01, 1.63236715e+03,\n",
       "       1.16156300e+02, 2.84450740e+03, 1.90843700e+03, 2.16313000e+02,\n",
       "       9.75100000e-01, 2.72739450e+02, 7.72062000e+03, 3.76368700e+02,\n",
       "       9.83369000e+03, 3.80142000e+03, 5.79189500e+01, 4.40453200e+03,\n",
       "       8.64743000e+03, 2.49386800e+02, 1.39101485e+03, 2.00492500e+03,\n",
       "       1.79440290e+03, 6.41872000e+02, 4.41871500e+03, 6.21663810e+03,\n",
       "       2.20190000e+04, 8.29611100e+02, 2.06827600e+03, 7.09090000e+03,\n",
       "       4.21720000e+02, 1.77040000e+04, 5.60045700e+02, 3.74726950e+02,\n",
       "       9.63617700e+02, 3.23085455e+03, 2.51400000e+03, 4.90923050e+02,\n",
       "       6.87785900e+03, 8.50327000e+01, 2.99090000e+04, 4.52435700e+03,\n",
       "       1.44185450e+02, 5.03858050e+02, 5.05977400e+02, 2.70873825e+03,\n",
       "       2.79485550e+02, 2.03666550e+02, 1.56941350e+02, 2.41908700e+03,\n",
       "       1.10620000e+04, 2.20000000e+01, 1.36160000e+04, 2.17710000e+04,\n",
       "       1.75925950e+02, 5.72075250e+02, 8.24954500e+02, 6.39612000e+03,\n",
       "       2.85119100e+03, 4.45320300e+03, 7.03365500e+01, 3.52708500e+03,\n",
       "       9.72214500e+01, 6.33763000e+03, 4.57441300e+02, 2.88700000e+03,\n",
       "       6.17362000e+03, 3.06553530e+03, 5.18720000e+02, 5.75209500e+01,\n",
       "       1.66040000e+04, 2.15269000e+03, 1.55069000e+03, 2.40644000e+03,\n",
       "       1.31400000e+03, 4.65500000e+03, 4.81282000e+03, 4.07044550e+02,\n",
       "       5.80900000e+03, 6.22569300e+03, 3.02012350e+02, 6.33700000e+03,\n",
       "       1.73684215e+03, 7.03335650e+02, 4.79808900e+02, 3.25603800e+02,\n",
       "       3.11986300e+03, 2.33791170e+03, 1.20140280e+03, 2.42181000e+02,\n",
       "       1.74145000e+02, 2.03596900e+02, 3.70625000e+02, 6.60525900e+03,\n",
       "       1.19813600e+03, 7.58627800e+02, 6.99278000e+03, 2.85205000e+03,\n",
       "       1.15630580e+03, 3.51160000e+04, 2.15009550e+03, 7.01821700e+03,\n",
       "       9.99170000e+02, 1.75866250e+02, 3.15605367e+03])"
      ]
     },
     "execution_count": 191,
     "metadata": {},
     "output_type": "execute_result"
    }
   ],
   "source": [
    "df['generation_gwh_2017'].unique() #check the unique values"
   ]
  },
  {
   "cell_type": "code",
   "execution_count": 192,
   "id": "0c88b3c5",
   "metadata": {},
   "outputs": [
    {
     "data": {
      "text/plain": [
       "0.00000       24\n",
       "170.08530      2\n",
       "7006.79130     1\n",
       "307.37540      1\n",
       "6992.78000     1\n",
       "              ..\n",
       "9271.00000     1\n",
       "15.61155       1\n",
       "7090.90000     1\n",
       "85.03270       1\n",
       "158.73235      1\n",
       "Name: generation_gwh_2017, Length: 294, dtype: int64"
      ]
     },
     "execution_count": 192,
     "metadata": {},
     "output_type": "execute_result"
    }
   ],
   "source": [
    "df['generation_gwh_2017'].value_counts() # check the counts of unique values"
   ]
  },
  {
   "cell_type": "code",
   "execution_count": 193,
   "id": "34081de2",
   "metadata": {},
   "outputs": [
    {
     "data": {
      "text/plain": [
       "False"
      ]
     },
     "execution_count": 193,
     "metadata": {},
     "output_type": "execute_result"
    }
   ],
   "source": [
    "df['generation_gwh_2017'].all() #check the zeros"
   ]
  },
  {
   "cell_type": "code",
   "execution_count": 194,
   "id": "a5c92d7e",
   "metadata": {},
   "outputs": [],
   "source": [
    "#replace the zero values by mean values\n",
    "df['generation_gwh_2017'] = df['generation_gwh_2017'].replace(0.0, df['generation_gwh_2017'].mean())"
   ]
  },
  {
   "cell_type": "code",
   "execution_count": 195,
   "id": "de3e01f4",
   "metadata": {},
   "outputs": [
    {
     "data": {
      "text/plain": [
       "True"
      ]
     },
     "execution_count": 195,
     "metadata": {},
     "output_type": "execute_result"
    }
   ],
   "source": [
    "df['generation_gwh_2017'].all()#check the zeros "
   ]
  },
  {
   "cell_type": "code",
   "execution_count": 196,
   "id": "e000c55a",
   "metadata": {},
   "outputs": [
    {
     "data": {
      "text/plain": [
       "6"
      ]
     },
     "execution_count": 196,
     "metadata": {},
     "output_type": "execute_result"
    }
   ],
   "source": [
    "df['generation_gwh_2017'].isnull().sum()"
   ]
  },
  {
   "cell_type": "code",
   "execution_count": 197,
   "id": "4d0b6936",
   "metadata": {},
   "outputs": [],
   "source": [
    "df.dropna(subset=[\"generation_gwh_2017\"], inplace=True) #drop the null values"
   ]
  },
  {
   "cell_type": "code",
   "execution_count": 198,
   "id": "25c931e1",
   "metadata": {},
   "outputs": [
    {
     "data": {
      "text/plain": [
       "0"
      ]
     },
     "execution_count": 198,
     "metadata": {},
     "output_type": "execute_result"
    }
   ],
   "source": [
    "df['generation_gwh_2017'].isnull().sum()"
   ]
  },
  {
   "cell_type": "code",
   "execution_count": 199,
   "id": "b5ae8e5c",
   "metadata": {},
   "outputs": [
    {
     "data": {
      "text/plain": [
       "capacity_mw  generation_gwh_2017\n",
       "4760.0       35116.0                1\n",
       "Name: generation_gwh_2017, dtype: int64"
      ]
     },
     "execution_count": 199,
     "metadata": {},
     "output_type": "execute_result"
    }
   ],
   "source": [
    "#check the relationship between capacity_mw and generation_gwh_2017\n",
    "df.groupby('capacity_mw')['generation_gwh_2017'].value_counts().sort_index(ascending=True).tail(1)"
   ]
  },
  {
   "cell_type": "code",
   "execution_count": 200,
   "id": "a3402cf9",
   "metadata": {},
   "outputs": [
    {
     "data": {
      "text/plain": [
       "Text(0, 0.5, 'capacity_mw')"
      ]
     },
     "execution_count": 200,
     "metadata": {},
     "output_type": "execute_result"
    },
    {
     "data": {
      "image/png": "[encoded data removed]",
      "text/plain": [
       "<Figure size 432x288 with 1 Axes>"
      ]
     },
     "metadata": {
      "needs_background": "light"
     },
     "output_type": "display_data"
    }
   ],
   "source": [
    "#visualize this column by lineplot\n",
    "sns.lineplot(x= 'generation_gwh_2017', y = 'capacity_mw', data=df)\n",
    "plt.xlabel('generation_gwh_2017', fontsize = 14)\n",
    "plt.ylabel('capacity_mw', fontsize = 14)"
   ]
  },
  {
   "cell_type": "code",
   "execution_count": 201,
   "id": "fb4d15db",
   "metadata": {},
   "outputs": [
    {
     "data": {
      "text/plain": [
       "Text(0, 0.5, 'primary_fuel')"
      ]
     },
     "execution_count": 201,
     "metadata": {},
     "output_type": "execute_result"
    },
    {
     "data": {
      "image/png": "[encoded data removed]",
      "text/plain": [
       "<Figure size 432x288 with 1 Axes>"
      ]
     },
     "metadata": {
      "needs_background": "light"
     },
     "output_type": "display_data"
    }
   ],
   "source": [
    "#visualize this column by Barplot\n",
    "sns.barplot(x= 'generation_gwh_2017', y = 'primary_fuel', data=df)\n",
    "plt.xlabel('generation_gwh_2017', fontsize = 14)\n",
    "plt.ylabel('primary_fuel', fontsize = 14)"
   ]
  },
  {
   "cell_type": "code",
   "execution_count": 202,
   "id": "21ea1c81",
   "metadata": {},
   "outputs": [],
   "source": [
    "t = df.groupby([\"generation_gwh_2013\", \"generation_gwh_2014\",\"generation_gwh_2015\",\"generation_gwh_2016\",\"generation_gwh_2017\"])['primary_fuel'].sum()"
   ]
  },
  {
   "cell_type": "code",
   "execution_count": 203,
   "id": "aeab3d6e",
   "metadata": {},
   "outputs": [
    {
     "data": {
      "text/plain": [
       "generation_gwh_2013  generation_gwh_2014  generation_gwh_2015  generation_gwh_2016  generation_gwh_2017\n",
       "0.019900             1310.98215           1973.492950          1950.61790           2004.92500             Hydro\n",
       "0.821705             2.85387              8.295912             10.46898             5.85771                  Gas\n",
       "2.275700             265.78000            2316.107200          6773.78800           6153.76000              Coal\n",
       "3.308800             373.91900            417.168000           433.84800            420.90900               Coal\n",
       "4.756100             657.47610            639.785000           679.06760            706.97735              Hydro\n",
       "                                                                                                           ...  \n",
       "18560.000000         19224.00000          18990.000000         18357.00000          17704.00000             Coal\n",
       "19353.000000         18807.00000          19176.000000         19078.00000          19229.00000             Coal\n",
       "21973.000000         24501.00000          23679.000000         25303.00000          24599.00000             Coal\n",
       "26761.390000         27594.00000          29047.000000         30015.00000          35116.00000             Coal\n",
       "27586.200000         28127.00000          30539.000000         28078.00000          20311.00000             Coal\n",
       "Name: primary_fuel, Length: 310, dtype: object"
      ]
     },
     "execution_count": 203,
     "metadata": {},
     "output_type": "execute_result"
    }
   ],
   "source": [
    "t"
   ]
  },
  {
   "cell_type": "markdown",
   "id": "341274d3",
   "metadata": {},
   "source": [
    "observation:\n",
    "1. Zero values and Null values are not found\n",
    "2. We can see, the highest capacity power plant '4760.0' have 35116.0 generation in ghw in 2017\n",
    "3. We can say, the generation is improving year by year of highest capacity power plant '4760.0'"
   ]
  },
  {
   "cell_type": "code",
   "execution_count": 204,
   "id": "26bb8633",
   "metadata": {},
   "outputs": [
    {
     "name": "stdout",
     "output_type": "stream",
     "text": [
      "Actual shape of our Dataset now :--------> (318, 14)\n"
     ]
    }
   ],
   "source": [
    "#check the updated shape of our dataset\n",
    "print('Actual shape of our Dataset now :-------->', df.shape)"
   ]
  },
  {
   "cell_type": "markdown",
   "id": "4e4cfee9",
   "metadata": {},
   "source": [
    "# Column21: generation_data_source"
   ]
  },
  {
   "cell_type": "code",
   "execution_count": 205,
   "id": "be3354bc",
   "metadata": {},
   "outputs": [
    {
     "data": {
      "text/plain": [
       "array(['Central Electricity Authority'], dtype=object)"
      ]
     },
     "execution_count": 205,
     "metadata": {},
     "output_type": "execute_result"
    }
   ],
   "source": [
    "df['generation_data_source'].unique() #check the unique values"
   ]
  },
  {
   "cell_type": "code",
   "execution_count": 206,
   "id": "ac7628cb",
   "metadata": {},
   "outputs": [
    {
     "data": {
      "text/plain": [
       "Central Electricity Authority    318\n",
       "Name: generation_data_source, dtype: int64"
      ]
     },
     "execution_count": 206,
     "metadata": {},
     "output_type": "execute_result"
    }
   ],
   "source": [
    "df['generation_data_source'].value_counts() # check the counts of unique values"
   ]
  },
  {
   "cell_type": "code",
   "execution_count": 207,
   "id": "7ba9d7f9",
   "metadata": {},
   "outputs": [],
   "source": [
    "df.drop(columns = ['generation_data_source'], inplace = True) #drop the column"
   ]
  },
  {
   "cell_type": "code",
   "execution_count": 208,
   "id": "d6fc8a7d",
   "metadata": {},
   "outputs": [
    {
     "name": "stdout",
     "output_type": "stream",
     "text": [
      "Actual shape of our Dataset now :--------> (318, 13)\n"
     ]
    }
   ],
   "source": [
    "#check the updated shape of our dataset\n",
    "print('Actual shape of our Dataset now :-------->', df.shape)"
   ]
  },
  {
   "cell_type": "markdown",
   "id": "41695e64",
   "metadata": {},
   "source": [
    "# Column22: estimated_generation_gwh"
   ]
  },
  {
   "cell_type": "code",
   "execution_count": 209,
   "id": "b46098c0",
   "metadata": {},
   "outputs": [
    {
     "data": {
      "text/plain": [
       "array([nan])"
      ]
     },
     "execution_count": 209,
     "metadata": {},
     "output_type": "execute_result"
    }
   ],
   "source": [
    "df['estimated_generation_gwh'].unique() #check the unique values"
   ]
  },
  {
   "cell_type": "code",
   "execution_count": 210,
   "id": "7a03c26e",
   "metadata": {},
   "outputs": [
    {
     "data": {
      "text/plain": [
       "Series([], Name: estimated_generation_gwh, dtype: int64)"
      ]
     },
     "execution_count": 210,
     "metadata": {},
     "output_type": "execute_result"
    }
   ],
   "source": [
    "df['estimated_generation_gwh'].value_counts() # check the counts of unique values"
   ]
  },
  {
   "cell_type": "code",
   "execution_count": 211,
   "id": "aaaf33b2",
   "metadata": {},
   "outputs": [],
   "source": [
    "df.drop(columns = ['estimated_generation_gwh'], inplace = True) #drop the column"
   ]
  },
  {
   "cell_type": "code",
   "execution_count": 212,
   "id": "8d8d1305",
   "metadata": {},
   "outputs": [
    {
     "name": "stdout",
     "output_type": "stream",
     "text": [
      "Actual shape of our Dataset now :--------> (318, 12)\n"
     ]
    }
   ],
   "source": [
    "#check the updated shape of our dataset\n",
    "print('Actual shape of our Dataset now :-------->', df.shape)"
   ]
  },
  {
   "cell_type": "code",
   "execution_count": 213,
   "id": "003c5714",
   "metadata": {},
   "outputs": [],
   "source": [
    "df.drop(columns = ['name'], inplace = True) #drop the column\n",
    "df.drop(columns = ['source'], inplace = True) "
   ]
  },
  {
   "cell_type": "markdown",
   "id": "20ea5fdc",
   "metadata": {},
   "source": [
    "# Label1: Primary_fuel"
   ]
  },
  {
   "cell_type": "code",
   "execution_count": 214,
   "id": "946af972",
   "metadata": {},
   "outputs": [
    {
     "data": {
      "text/plain": [
       "array(['Coal', 'Hydro', 'Gas', 'Oil', 'Nuclear'], dtype=object)"
      ]
     },
     "execution_count": 214,
     "metadata": {},
     "output_type": "execute_result"
    }
   ],
   "source": [
    "df['primary_fuel'].unique() #check the unique values"
   ]
  },
  {
   "cell_type": "code",
   "execution_count": 215,
   "id": "fa85069c",
   "metadata": {},
   "outputs": [
    {
     "data": {
      "text/plain": [
       "Hydro      141\n",
       "Coal       120\n",
       "Gas         43\n",
       "Oil          8\n",
       "Nuclear      6\n",
       "Name: primary_fuel, dtype: int64"
      ]
     },
     "execution_count": 215,
     "metadata": {},
     "output_type": "execute_result"
    }
   ],
   "source": [
    "df['primary_fuel'].value_counts() #check the counts of unique values"
   ]
  },
  {
   "cell_type": "code",
   "execution_count": 216,
   "id": "ecdb3258",
   "metadata": {},
   "outputs": [
    {
     "data": {
      "text/plain": [
       "0"
      ]
     },
     "execution_count": 216,
     "metadata": {},
     "output_type": "execute_result"
    }
   ],
   "source": [
    "df['primary_fuel'].isnull().sum() #check for null values"
   ]
  },
  {
   "cell_type": "code",
   "execution_count": 217,
   "id": "01a6106e",
   "metadata": {},
   "outputs": [],
   "source": [
    "#convert string into integer\n",
    "df['primary_fuel'] = df['primary_fuel'].map({'Hydro':0, 'Coal':1, 'Gas': 2, 'Oil':3, 'Nuclear':4})"
   ]
  },
  {
   "cell_type": "code",
   "execution_count": 218,
   "id": "3bf61174",
   "metadata": {},
   "outputs": [
    {
     "data": {
      "text/plain": [
       "array([1, 0, 2, 3, 4], dtype=int64)"
      ]
     },
     "execution_count": 218,
     "metadata": {},
     "output_type": "execute_result"
    }
   ],
   "source": [
    "df['primary_fuel'].unique() #check the unique values"
   ]
  },
  {
   "cell_type": "code",
   "execution_count": 219,
   "id": "06b9a9c5",
   "metadata": {},
   "outputs": [
    {
     "data": {
      "text/plain": [
       "0    141\n",
       "1    120\n",
       "2     43\n",
       "3      8\n",
       "4      6\n",
       "Name: primary_fuel, dtype: int64"
      ]
     },
     "execution_count": 219,
     "metadata": {},
     "output_type": "execute_result"
    }
   ],
   "source": [
    "df['primary_fuel'].value_counts() #check the counts of unique values"
   ]
  },
  {
   "cell_type": "code",
   "execution_count": 220,
   "id": "42f1ea80",
   "metadata": {},
   "outputs": [
    {
     "name": "stdout",
     "output_type": "stream",
     "text": [
      "Actual shape of our Dataset now :--------> (318, 10)\n"
     ]
    }
   ],
   "source": [
    "#check the updated shape of our dataset\n",
    "print('Actual shape of our Dataset now :-------->', df.shape)"
   ]
  },
  {
   "cell_type": "markdown",
   "id": "d512e00e",
   "metadata": {},
   "source": [
    "# Label2: capacity_mw"
   ]
  },
  {
   "cell_type": "code",
   "execution_count": 221,
   "id": "0a1da6e4",
   "metadata": {},
   "outputs": [
    {
     "data": {
      "text/plain": [
       "array([1800.   ,  250.   ,  192.   ,  290.   ,  210.   , 1350.   ,\n",
       "        134.   , 1200.   , 2630.   ,  419.33 ,  652.   ,  600.   ,\n",
       "        200.   ,  705.   ,  450.   ,  180.   ,  510.   ,  315.   ,\n",
       "         30.   ,   60.   ,   90.   ,  120.   ,  300.   ,   64.   ,\n",
       "         25.2  , 1700.   ,   39.2  , 1325.   ,   34.   ,  500.   ,\n",
       "         80.   ,   75.   , 1210.   ,  165.   ,   70.   ,  540.   ,\n",
       "        231.   , 2920.   ,   32.8  , 1660.   ,  240.   ,  144.   ,\n",
       "         44.   , 1820.   ,  816.4  ,  990.   ,   33.75 ,   51.   ,\n",
       "        280.   ,  330.   ,  595.2  ,  390.   ,  515.   ,  431.586,\n",
       "        310.   ,  648.   ,  630.   ,  115.   ,   77.65 ,  468.57 ,\n",
       "         32.   ,  920.   ,  440.   ,  205.24 ,  156.1  ,  351.43 ,\n",
       "        605.   ,  270.   ,  780.   , 1000.   , 1500.   ,   99.   ,\n",
       "       1080.   ,  445.674,  139.2  ,  400.   ,  150.   ,  880.   ,\n",
       "       1100.   ,   50.   ,  855.   ,  100.   ,   32.5  ,  119.8  ,\n",
       "         35.   , 1320.   ,  645.   ,  350.   ,   72.   ,   41.4  ,\n",
       "         96.   , 1458.   , 2400.   , 2600.   ,  890.   , 1340.   ,\n",
       "       1240.   ,  107.88 , 1956.   ,  555.   ,  101.   ,  125.   ,\n",
       "        720.   ,  126.   ,   36.   ,   55.   ,  105.   ,  460.   ,\n",
       "         36.8  ,  114.75 ,  140.   ,  186.   ,  394.   ,   30.6  ,\n",
       "        840.   ,  246.   , 2320.   ,  207.   , 4620.   , 4000.   ,\n",
       "         28.3  ,  815.6  ,  420.   , 1470.   ,   45.   , 1188.   ,\n",
       "        520.   ,  330.5  ,  655.   ,   37.5  ,  175.   , 1140.   ,\n",
       "       1170.   ,  220.   ,  160.   ,  161.   ,  702.86 ,   27.   ,\n",
       "        396.   , 1371.2  ,  234.   ,   59.2  ,  172.   , 1720.   ,\n",
       "        135.   , 1400.   ,  198.   ,  270.5  ,  412.02 , 1967.08 ,\n",
       "       1650.   , 3000.   ,   94.8  , 1260.   ,   62.5  ,  690.   ,\n",
       "       3960.   , 1330.   ,   48.   ,  110.   , 1035.   ,   54.   ,\n",
       "         95.   , 2000.   , 2980.   ,   42.   ,  770.   ,  900.   ,\n",
       "       1147.5  ,   63.   ,   94.2  , 3300.   ,  260.   ,  422.   ,\n",
       "        750.   , 1050.   ,   91.35 , 1110.   , 1550.   ,  320.   ,\n",
       "        127.6  ,  672.   ,  480.   ,  374.571,   52.8  ,  186.2  ,\n",
       "        388.5  ,  272.3  , 4760.   ,   62.4  ])"
      ]
     },
     "execution_count": 221,
     "metadata": {},
     "output_type": "execute_result"
    }
   ],
   "source": [
    "df['capacity_mw'].unique() #check the unique values"
   ]
  },
  {
   "cell_type": "code",
   "execution_count": 222,
   "id": "207f290e",
   "metadata": {},
   "outputs": [
    {
     "data": {
      "text/plain": [
       "600.0     13\n",
       "1200.0    11\n",
       "500.0      9\n",
       "300.0      8\n",
       "120.0      8\n",
       "          ..\n",
       "231.0      1\n",
       "648.0      1\n",
       "1330.0     1\n",
       "2320.0     1\n",
       "2980.0     1\n",
       "Name: capacity_mw, Length: 190, dtype: int64"
      ]
     },
     "execution_count": 222,
     "metadata": {},
     "output_type": "execute_result"
    }
   ],
   "source": [
    "df['capacity_mw'].value_counts() #check the counts of unique values"
   ]
  },
  {
   "cell_type": "code",
   "execution_count": 223,
   "id": "66b0e96f",
   "metadata": {},
   "outputs": [
    {
     "data": {
      "text/plain": [
       "0"
      ]
     },
     "execution_count": 223,
     "metadata": {},
     "output_type": "execute_result"
    }
   ],
   "source": [
    "df['capacity_mw'].isnull().sum()"
   ]
  },
  {
   "cell_type": "code",
   "execution_count": 224,
   "id": "d55fd1e4",
   "metadata": {},
   "outputs": [
    {
     "data": {
      "text/plain": [
       "Text(0, 0.5, 'primary_fuel')"
      ]
     },
     "execution_count": 224,
     "metadata": {},
     "output_type": "execute_result"
    },
    {
     "data": {
      "image/png": "[encoded data removed]",
      "text/plain": [
       "<Figure size 432x288 with 1 Axes>"
      ]
     },
     "metadata": {
      "needs_background": "light"
     },
     "output_type": "display_data"
    }
   ],
   "source": [
    "#visualize this column by Barplot\n",
    "sns.scatterplot(x= 'capacity_mw', y = 'primary_fuel', data=df)\n",
    "plt.xlabel('capacity_mw', fontsize = 14)\n",
    "plt.ylabel('primary_fuel', fontsize = 14)"
   ]
  },
  {
   "cell_type": "code",
   "execution_count": 225,
   "id": "e5411114",
   "metadata": {},
   "outputs": [
    {
     "name": "stdout",
     "output_type": "stream",
     "text": [
      "correlation between the Features and with label:-----> (10, 10)\n",
      "\n",
      " **************************************************\n"
     ]
    },
    {
     "data": {
      "text/plain": [
       "<function matplotlib.pyplot.show(close=None, block=None)>"
      ]
     },
     "execution_count": 225,
     "metadata": {},
     "output_type": "execute_result"
    },
    {
     "data": {
      "image/png": "[encoded data removed]",
      "text/plain": [
       "<Figure size 1800x864 with 2 Axes>"
      ]
     },
     "metadata": {
      "needs_background": "light"
     },
     "output_type": "display_data"
    }
   ],
   "source": [
    "# Check the correlation \n",
    "corr = df.corr()\n",
    "print('correlation between the Features and with label:----->',corr.shape)\n",
    "print(\"\\n\",'*'*50)\n",
    "# Visualize the corrrelation by using heatmap\n",
    "plt.figure(figsize=(25,12))\n",
    "sns.heatmap(corr, annot=True)\n",
    "plt.show "
   ]
  },
  {
   "cell_type": "code",
   "execution_count": 226,
   "id": "2195b914",
   "metadata": {},
   "outputs": [],
   "source": [
    "df.drop(columns= ['generation_gwh_2013'], inplace = True) #drop the highly corelated columns\n",
    "df.drop(columns= ['generation_gwh_2014'], inplace = True)\n",
    "df.drop(columns= ['generation_gwh_2015'], inplace = True)\n",
    "df.drop(columns= ['generation_gwh_2016'], inplace = True)"
   ]
  },
  {
   "cell_type": "code",
   "execution_count": 227,
   "id": "ea411f04",
   "metadata": {},
   "outputs": [
    {
     "name": "stdout",
     "output_type": "stream",
     "text": [
      "correlation between the Features and with label:-----> (6, 6)\n",
      "\n",
      " **************************************************\n"
     ]
    },
    {
     "data": {
      "text/plain": [
       "<function matplotlib.pyplot.show(close=None, block=None)>"
      ]
     },
     "execution_count": 227,
     "metadata": {},
     "output_type": "execute_result"
    },
    {
     "data": {
      "image/png": "[encoded data removed]",
      "text/plain": [
       "<Figure size 1800x864 with 2 Axes>"
      ]
     },
     "metadata": {
      "needs_background": "light"
     },
     "output_type": "display_data"
    }
   ],
   "source": [
    "# Check the correlation \n",
    "corr = df.corr()\n",
    "print('correlation between the Features and with label:----->',corr.shape)\n",
    "print(\"\\n\",'*'*50)\n",
    "# Visualize the corrrelation by using heatmap\n",
    "plt.figure(figsize=(25,12))\n",
    "sns.heatmap(corr, annot=True)\n",
    "plt.show "
   ]
  },
  {
   "cell_type": "code",
   "execution_count": 228,
   "id": "410c3828",
   "metadata": {},
   "outputs": [],
   "source": [
    "#split x and y\n",
    "x = df.drop(['primary_fuel'], axis=1)\n",
    "y=df.primary_fuel"
   ]
  },
  {
   "cell_type": "code",
   "execution_count": 229,
   "id": "63e769ab",
   "metadata": {},
   "outputs": [
    {
     "data": {
      "text/plain": [
       "array([[ 1.5874205 ,  0.08559897,  1.59159269,  1.20193228,  0.59764843],\n",
       "       [-0.48625691,  0.34019883, -2.80532908,  0.595916  , -0.36322289],\n",
       "       [-0.56385258,  1.53069176, -0.07017439,  0.89892414, -0.46941184],\n",
       "       ...,\n",
       "       [-0.09827856, -0.1519675 ,  0.49593999,  0.89892414, -0.39694968],\n",
       "       [-0.73723877,  1.260058  ,  0.0452718 , -0.25250678, -0.58363   ],\n",
       "       [-0.01800717,  1.23257935, -0.03225667,  0.71711926,  0.09211371]])"
      ]
     },
     "execution_count": 229,
     "metadata": {},
     "output_type": "execute_result"
    }
   ],
   "source": [
    "#scale the value x\n",
    "Scaler = StandardScaler()\n",
    "x_scaled = Scaler.fit_transform(x)\n",
    "x_scaled"
   ]
  },
  {
   "cell_type": "code",
   "execution_count": 230,
   "id": "3d66c7e9",
   "metadata": {},
   "outputs": [
    {
     "data": {
      "text/html": [
       "<div>\n",
       "<style scoped>\n",
       "    .dataframe tbody tr th:only-of-type {\n",
       "        vertical-align: middle;\n",
       "    }\n",
       "\n",
       "    .dataframe tbody tr th {\n",
       "        vertical-align: top;\n",
       "    }\n",
       "\n",
       "    .dataframe thead th {\n",
       "        text-align: right;\n",
       "    }\n",
       "</style>\n",
       "<table border=\"1\" class=\"dataframe\">\n",
       "  <thead>\n",
       "    <tr style=\"text-align: right;\">\n",
       "      <th></th>\n",
       "      <th>vif</th>\n",
       "      <th>features</th>\n",
       "    </tr>\n",
       "  </thead>\n",
       "  <tbody>\n",
       "    <tr>\n",
       "      <th>0</th>\n",
       "      <td>5.880184</td>\n",
       "      <td>capacity_mw</td>\n",
       "    </tr>\n",
       "    <tr>\n",
       "      <th>1</th>\n",
       "      <td>1.027942</td>\n",
       "      <td>latitude</td>\n",
       "    </tr>\n",
       "    <tr>\n",
       "      <th>2</th>\n",
       "      <td>1.056938</td>\n",
       "      <td>longitude</td>\n",
       "    </tr>\n",
       "    <tr>\n",
       "      <th>3</th>\n",
       "      <td>1.114187</td>\n",
       "      <td>commissioning_year</td>\n",
       "    </tr>\n",
       "    <tr>\n",
       "      <th>4</th>\n",
       "      <td>5.853156</td>\n",
       "      <td>generation_gwh_2017</td>\n",
       "    </tr>\n",
       "  </tbody>\n",
       "</table>\n",
       "</div>"
      ],
      "text/plain": [
       "        vif             features\n",
       "0  5.880184          capacity_mw\n",
       "1  1.027942             latitude\n",
       "2  1.056938            longitude\n",
       "3  1.114187   commissioning_year\n",
       "4  5.853156  generation_gwh_2017"
      ]
     },
     "execution_count": 230,
     "metadata": {},
     "output_type": "execute_result"
    }
   ],
   "source": [
    "# Check the multicollinearity between the features\n",
    "#import library for VIF\n",
    "from statsmodels.stats.outliers_influence import variance_inflation_factor\n",
    "vif = pd.DataFrame()\n",
    "vif[\"vif\"]= [ variance_inflation_factor(x_scaled, i)\n",
    "               for i in range ( x_scaled.shape[1])]\n",
    "vif['features']= x.columns\n",
    "vif "
   ]
  },
  {
   "cell_type": "code",
   "execution_count": 231,
   "id": "22c3564b",
   "metadata": {},
   "outputs": [],
   "source": [
    "#split data into train and test.\n",
    "x_train, x_test, y_train, y_test = train_test_split(x_scaled, y,test_size = 0.25, random_state=42)"
   ]
  },
  {
   "cell_type": "code",
   "execution_count": 232,
   "id": "73600c53",
   "metadata": {},
   "outputs": [
    {
     "data": {
      "text/plain": [
       "450    1\n",
       "170    0\n",
       "336    2\n",
       "11     0\n",
       "570    3\n",
       "Name: primary_fuel, dtype: int64"
      ]
     },
     "execution_count": 232,
     "metadata": {},
     "output_type": "execute_result"
    }
   ],
   "source": [
    "y_train.head()"
   ]
  },
  {
   "cell_type": "markdown",
   "id": "690c0ce0",
   "metadata": {},
   "source": [
    "# Check the Accuracy by using 5 classification models"
   ]
  },
  {
   "cell_type": "code",
   "execution_count": 233,
   "id": "b6e837fc",
   "metadata": {},
   "outputs": [],
   "source": [
    "log_reg = LogisticRegression() #Model instantiating\n",
    "dt = DecisionTreeClassifier()\n",
    "rf= RandomForestClassifier()\n",
    "knn = KNeighborsClassifier()\n",
    "svc = SVC()"
   ]
  },
  {
   "cell_type": "code",
   "execution_count": 234,
   "id": "bb22f609",
   "metadata": {},
   "outputs": [
    {
     "name": "stdout",
     "output_type": "stream",
     "text": [
      "all models are trained\n"
     ]
    }
   ],
   "source": [
    "#train the model\n",
    "log_reg.fit(x_train,y_train)\n",
    "dt.fit(x_train,y_train)\n",
    "rf.fit(x_train,y_train)\n",
    "knn.fit(x_train,y_train)\n",
    "svc.fit(x_train,y_train)\n",
    "print(\"all models are trained\")"
   ]
  },
  {
   "cell_type": "code",
   "execution_count": 235,
   "id": "343242a2",
   "metadata": {},
   "outputs": [
    {
     "name": "stdout",
     "output_type": "stream",
     "text": [
      "all models score are captured\n"
     ]
    }
   ],
   "source": [
    "log_reg.score(x_test,y_test) #Let's check how well model fits the test data\n",
    "dt.score(x_test,y_test)\n",
    "rf.score(x_test,y_test)\n",
    "knn.score(x_test,y_test)\n",
    "svc.score(x_test,y_test)\n",
    "print(\"all models score are captured\")"
   ]
  },
  {
   "cell_type": "code",
   "execution_count": 236,
   "id": "dff5d66a",
   "metadata": {},
   "outputs": [],
   "source": [
    "y_pred_log_reg = log_reg.predict(x_test) #save the predictions in some variables\n",
    "y_pred_dt = dt.predict(x_test) \n",
    "y_pred_rf = rf.predict(x_test) \n",
    "y_pred_knn = knn.predict(x_test) \n",
    "y_pred_svc = svc.predict(x_test) "
   ]
  },
  {
   "cell_type": "code",
   "execution_count": 237,
   "id": "c5560a45",
   "metadata": {},
   "outputs": [
    {
     "name": "stdout",
     "output_type": "stream",
     "text": [
      "Accuracy_score of Logistic regression:-------->   0.6625\n",
      "Confusion_matrix:\n",
      " [[33  6  0  0]\n",
      " [ 9 19  0  0]\n",
      " [ 7  3  1  0]\n",
      " [ 1  1  0  0]]\n",
      "Classification_report:\n",
      "               precision    recall  f1-score   support\n",
      "\n",
      "           0       0.66      0.85      0.74        39\n",
      "           1       0.66      0.68      0.67        28\n",
      "           2       1.00      0.09      0.17        11\n",
      "           4       0.00      0.00      0.00         2\n",
      "\n",
      "    accuracy                           0.66        80\n",
      "   macro avg       0.58      0.40      0.39        80\n",
      "weighted avg       0.69      0.66      0.62        80\n",
      "\n",
      "\n",
      " **************************************************\n",
      "\n",
      " **************************************************\n",
      "Accuracy_score of Decision Tree:-------->   0.7875\n",
      "Confusion_matrix:\n",
      " [[34  3  1  1  0]\n",
      " [ 3 21  2  2  0]\n",
      " [ 2  1  8  0  0]\n",
      " [ 0  0  0  0  0]\n",
      " [ 0  1  1  0  0]]\n",
      "Classification_report:\n",
      "               precision    recall  f1-score   support\n",
      "\n",
      "           0       0.87      0.87      0.87        39\n",
      "           1       0.81      0.75      0.78        28\n",
      "           2       0.67      0.73      0.70        11\n",
      "           3       0.00      0.00      0.00         0\n",
      "           4       0.00      0.00      0.00         2\n",
      "\n",
      "    accuracy                           0.79        80\n",
      "   macro avg       0.47      0.47      0.47        80\n",
      "weighted avg       0.80      0.79      0.79        80\n",
      "\n",
      "\n",
      " **************************************************\n",
      "\n",
      " **************************************************\n",
      "Accuracy_score of Random forest:-------->   0.725\n",
      "Confusion_matrix:\n",
      " [[32  5  2  0]\n",
      " [ 5 22  1  0]\n",
      " [ 5  2  4  0]\n",
      " [ 0  1  1  0]]\n",
      "Classification_report:\n",
      "               precision    recall  f1-score   support\n",
      "\n",
      "           0       0.76      0.82      0.79        39\n",
      "           1       0.73      0.79      0.76        28\n",
      "           2       0.50      0.36      0.42        11\n",
      "           4       0.00      0.00      0.00         2\n",
      "\n",
      "    accuracy                           0.73        80\n",
      "   macro avg       0.50      0.49      0.49        80\n",
      "weighted avg       0.70      0.72      0.71        80\n",
      "\n",
      "\n",
      " **************************************************\n",
      "\n",
      " **************************************************\n",
      "Accuracy_score of KNeighbors Classifiers:-------->   0.7375\n",
      "Confusion_matrix:\n",
      " [[33  4  2  0]\n",
      " [ 5 20  3  0]\n",
      " [ 2  3  6  0]\n",
      " [ 0  1  1  0]]\n",
      "Classification_report:\n",
      "               precision    recall  f1-score   support\n",
      "\n",
      "           0       0.82      0.85      0.84        39\n",
      "           1       0.71      0.71      0.71        28\n",
      "           2       0.50      0.55      0.52        11\n",
      "           4       0.00      0.00      0.00         2\n",
      "\n",
      "    accuracy                           0.74        80\n",
      "   macro avg       0.51      0.53      0.52        80\n",
      "weighted avg       0.72      0.74      0.73        80\n",
      "\n",
      "\n",
      " **************************************************\n",
      "\n",
      " **************************************************\n",
      "Accuracy_score of Support Vector Machine:-------->   0.7\n",
      "Confusion_matrix:\n",
      " [[31  7  1  0]\n",
      " [ 5 22  1  0]\n",
      " [ 4  4  3  0]\n",
      " [ 0  2  0  0]]\n",
      "Classification_report:\n",
      "               precision    recall  f1-score   support\n",
      "\n",
      "           0       0.78      0.79      0.78        39\n",
      "           1       0.63      0.79      0.70        28\n",
      "           2       0.60      0.27      0.37        11\n",
      "           4       0.00      0.00      0.00         2\n",
      "\n",
      "    accuracy                           0.70        80\n",
      "   macro avg       0.50      0.46      0.46        80\n",
      "weighted avg       0.68      0.70      0.68        80\n",
      "\n"
     ]
    }
   ],
   "source": [
    "#check the accuracy score, confusion matrix and classification report\n",
    "print('Accuracy_score of Logistic regression:-------->  ',accuracy_score(y_test,y_pred_log_reg))\n",
    "time.sleep(2)\n",
    "print('Confusion_matrix:\\n' , confusion_matrix(y_test,y_pred_log_reg))\n",
    "time.sleep(2)\n",
    "print('Classification_report:\\n' , classification_report(y_test,y_pred_log_reg))\n",
    "\n",
    "time.sleep(2)\n",
    "print(\"\\n\",'*'*50)\n",
    "print(\"\\n\",'*'*50)\n",
    "time.sleep(2)\n",
    "\n",
    "\n",
    "print('Accuracy_score of Decision Tree:-------->  ',accuracy_score(y_test,y_pred_dt))\n",
    "time.sleep(2)\n",
    "print('Confusion_matrix:\\n' , confusion_matrix(y_test,y_pred_dt))\n",
    "time.sleep(2)\n",
    "print('Classification_report:\\n' , classification_report(y_test,y_pred_dt))\n",
    "\n",
    "time.sleep(2)\n",
    "print(\"\\n\",'*'*50)\n",
    "print(\"\\n\",'*'*50)\n",
    "time.sleep(2)\n",
    "\n",
    "print('Accuracy_score of Random forest:-------->  ',accuracy_score(y_test,y_pred_rf))\n",
    "time.sleep(2)\n",
    "print('Confusion_matrix:\\n' , confusion_matrix(y_test,y_pred_rf))\n",
    "time.sleep(2)\n",
    "print('Classification_report:\\n' , classification_report(y_test,y_pred_rf))\n",
    "\n",
    "time.sleep(2)\n",
    "print(\"\\n\",'*'*50)\n",
    "print(\"\\n\",'*'*50)\n",
    "time.sleep(2)\n",
    "\n",
    "print('Accuracy_score of KNeighbors Classifiers:-------->  ',accuracy_score(y_test,y_pred_knn))\n",
    "time.sleep(2)\n",
    "print('Confusion_matrix:\\n' , confusion_matrix(y_test,y_pred_knn))\n",
    "time.sleep(2)\n",
    "print('Classification_report:\\n' , classification_report(y_test,y_pred_knn))\n",
    "\n",
    "time.sleep(2)\n",
    "print(\"\\n\",'*'*50)\n",
    "print(\"\\n\",'*'*50)\n",
    "time.sleep(2)\n",
    "\n",
    "print('Accuracy_score of Support Vector Machine:-------->  ',accuracy_score(y_test,y_pred_svc))\n",
    "time.sleep(2)\n",
    "print('Confusion_matrix:\\n' , confusion_matrix(y_test,y_pred_svc))\n",
    "time.sleep(2)\n",
    "print('Classification_report:\\n' , classification_report(y_test,y_pred_svc))"
   ]
  },
  {
   "cell_type": "code",
   "execution_count": 238,
   "id": "35352b55",
   "metadata": {},
   "outputs": [
    {
     "name": "stdout",
     "output_type": "stream",
     "text": [
      "Logistic regression CV Score:\n",
      "[0.703125   0.703125   0.671875   0.74603175 0.71428571]\n",
      "\n",
      " **************************************************\n",
      "Decision Tree CV Score:\n",
      "[0.78125    0.71875    0.625      0.74603175 0.6984127 ]\n",
      "\n",
      " **************************************************\n",
      "Random Forest CV Score:\n",
      "[0.75       0.796875   0.796875   0.80952381 0.79365079]\n",
      "\n",
      " **************************************************\n",
      "KNeighbour Classifier CV Score:\n",
      "[0.703125   0.828125   0.75       0.74603175 0.74603175]\n",
      "\n",
      " **************************************************\n",
      "Support Vector Machine CV Score:\n",
      "[0.75       0.734375   0.671875   0.76190476 0.80952381]\n"
     ]
    }
   ],
   "source": [
    "#check all model cv score\n",
    "print(\"Logistic regression CV Score:\")\n",
    "print(cross_val_score(log_reg,x_scaled,y,cv=5))\n",
    "\n",
    "time.sleep(2)\n",
    "print(\"\\n\",'*'*50)\n",
    "\n",
    "print(\"Decision Tree CV Score:\")\n",
    "print(cross_val_score(dt,x_scaled,y,cv=5))\n",
    "\n",
    "time.sleep(2)\n",
    "print(\"\\n\",'*'*50)\n",
    "\n",
    "print(\"Random Forest CV Score:\")\n",
    "print(cross_val_score(rf,x_scaled,y,cv=5))\n",
    "\n",
    "time.sleep(2)\n",
    "print(\"\\n\",'*'*50)\n",
    "\n",
    "print(\"KNeighbour Classifier CV Score:\")\n",
    "print(cross_val_score(knn,x_scaled,y,cv=5))\n",
    "\n",
    "time.sleep(2)\n",
    "print(\"\\n\",'*'*50)\n",
    "\n",
    "print(\"Support Vector Machine CV Score:\")\n",
    "print(cross_val_score(svc,x_scaled,y,cv=5))"
   ]
  },
  {
   "cell_type": "code",
   "execution_count": 239,
   "id": "0a0ec2cd",
   "metadata": {},
   "outputs": [
    {
     "name": "stdout",
     "output_type": "stream",
     "text": [
      "Logistic regression CV Score:\n",
      "0.707688492063492\n",
      "\n",
      " **************************************************\n",
      "Decision Tree CV Score:\n",
      "0.7013392857142857\n",
      "\n",
      " **************************************************\n",
      "Random Forest CV Score:\n",
      "0.7862103174603174\n",
      "\n",
      " **************************************************\n",
      "KNeighbour Classifier CV Score:\n",
      "0.7546626984126984\n",
      "\n",
      " **************************************************\n",
      "Support Vector Machine CV Score:\n",
      "0.7455357142857142\n"
     ]
    }
   ],
   "source": [
    "#Check the mean of all models cv score one by one\n",
    "print(\"Logistic regression CV Score:\")\n",
    "print(cross_val_score(log_reg,x_scaled,y,cv=5).mean())\n",
    "\n",
    "time.sleep(2)\n",
    "print(\"\\n\",'*'*50)\n",
    "\n",
    "print(\"Decision Tree CV Score:\")\n",
    "print(cross_val_score(dt,x_scaled,y,cv=5).mean())\n",
    "\n",
    "time.sleep(2)\n",
    "print(\"\\n\",'*'*50)\n",
    "\n",
    "print(\"Random Forest CV Score:\")\n",
    "print(cross_val_score(rf,x_scaled,y,cv=5).mean())\n",
    "\n",
    "time.sleep(2)\n",
    "print(\"\\n\",'*'*50)\n",
    "\n",
    "print(\"KNeighbour Classifier CV Score:\")\n",
    "print(cross_val_score(knn,x_scaled,y,cv=5).mean())\n",
    "\n",
    "time.sleep(2)\n",
    "print(\"\\n\",'*'*50)\n",
    "\n",
    "print(\"Support Vector Machine CV Score:\")\n",
    "print(cross_val_score(svc,x_scaled,y,cv=5).mean())"
   ]
  },
  {
   "cell_type": "markdown",
   "id": "302e8987",
   "metadata": {},
   "source": [
    "# GridSearchCV By using Knn as a estimator"
   ]
  },
  {
   "cell_type": "code",
   "execution_count": 242,
   "id": "de0ae965",
   "metadata": {},
   "outputs": [
    {
     "name": "stdout",
     "output_type": "stream",
     "text": [
      "GridSearchCV(estimator=KNeighborsClassifier(),\n",
      "             param_grid={'algorithm': ['kdtree', 'brute'],\n",
      "                         'leaf_size': [12, 11, 14, 15, 18, 20, 25],\n",
      "                         'n_neighbors': [3, 5, 7, 9, 11, 13]})\n",
      "\n",
      " **************************************************\n",
      "GridSearchCV best parameters:-----> {'algorithm': 'brute', 'leaf_size': 12, 'n_neighbors': 3}\n",
      "\n",
      " **************************************************\n",
      "Trained Model using best parameters:-----> KNeighborsClassifier(algorithm='brute', leaf_size=12, n_neighbors=3)\n",
      "\n",
      " **************************************************\n",
      "Accuracy score:------> 0.8613445378151261\n"
     ]
    }
   ],
   "source": [
    "param_grid = {'algorithm':['kdtree','brute'], 'leaf_size':[12,11,14,15,18,20,25], 'n_neighbors':[3,5,7,9,11,13]}\n",
    "gridsearch = GridSearchCV(estimator=knn, param_grid= param_grid) #apply GridSearchCV\n",
    "time.sleep(2)\n",
    "print(gridsearch.fit(x_train,y_train)) #train the model\n",
    "time.sleep(1)\n",
    "print(\"\\n\",'*'*50)\n",
    "time.sleep(1)\n",
    "print('GridSearchCV best parameters:----->',gridsearch.best_params_) #get best parameters\n",
    "time.sleep(1)\n",
    "print(\"\\n\",'*'*50)\n",
    "time.sleep(1)\n",
    "#put best params into knn\n",
    "knn1 = gridsearch.best_estimator_ #save that best param into one variable\n",
    "print('Trained Model using best parameters:----->',knn1.fit(x_train,y_train))#train the model\n",
    "time.sleep(1)\n",
    "print(\"\\n\",'*'*50)\n",
    "time.sleep(1)\n",
    "print('Accuracy score:------>',knn1.score(x_train,y_train)) #check the accuracy score"
   ]
  },
  {
   "cell_type": "markdown",
   "id": "ef797e3d",
   "metadata": {},
   "source": [
    "# GridSearchCV By using SVC as a estimator"
   ]
  },
  {
   "cell_type": "code",
   "execution_count": 243,
   "id": "9a1ed3e6",
   "metadata": {},
   "outputs": [
    {
     "name": "stdout",
     "output_type": "stream",
     "text": [
      "GridSearchCV(estimator=SVC(),\n",
      "             param_grid={'C': [1, 2, 4, 5, 6, 7, 8, 9, 10],\n",
      "                         'gamma': [0.2, 0.3, 0.4, 0.5, 0.6, 0.7, 0.8],\n",
      "                         'kernel': ['rbf']})\n",
      "\n",
      " **************************************************\n",
      "GridSearchCV best parameters:-----> {'C': 2, 'gamma': 0.5, 'kernel': 'rbf'}\n",
      "\n",
      " **************************************************\n",
      "Trained Model using best parameters:-----> SVC(C=2, gamma=0.5)\n",
      "\n",
      " **************************************************\n",
      "Accuracy score:------> 0.8949579831932774\n"
     ]
    }
   ],
   "source": [
    "param_grid = {'C': [1,2,4,5,6,7,8,9,10],         \n",
    "             'gamma': [0.2,0.3,0.4,0.5,0.6,0.7,0.8],\n",
    "             'kernel': ['rbf']}\n",
    "gridsearch = GridSearchCV(estimator=svc, param_grid= param_grid)#apply GridSearchCV\n",
    "time.sleep(2)\n",
    "print(gridsearch.fit(x_train,y_train)) #train the model\n",
    "time.sleep(1)\n",
    "print(\"\\n\",'*'*50)\n",
    "time.sleep(1)\n",
    "print('GridSearchCV best parameters:----->',gridsearch.best_params_) #get best parameters\n",
    "time.sleep(1)\n",
    "print(\"\\n\",'*'*50)\n",
    "time.sleep(1)\n",
    "#put best params into svc\n",
    "svc1 = gridsearch.best_estimator_#save that best param into one variable\n",
    "print('Trained Model using best parameters:----->',svc1.fit(x_train,y_train))#train the model\n",
    "time.sleep(1)\n",
    "print(\"\\n\",'*'*50)\n",
    "time.sleep(1)\n",
    "print('Accuracy score:------>',svc1.score(x_train,y_train))#check the accuracy score"
   ]
  },
  {
   "cell_type": "markdown",
   "id": "9ae59838",
   "metadata": {},
   "source": [
    "# GridSearchCV By using RandomForestClassifier as a estimator"
   ]
  },
  {
   "cell_type": "code",
   "execution_count": 244,
   "id": "f4c2189f",
   "metadata": {},
   "outputs": [
    {
     "name": "stdout",
     "output_type": "stream",
     "text": [
      "GridSearchCV(estimator=RandomForestClassifier(),\n",
      "             param_grid={'criterion': ['entropy'], 'max_depth': [10, 15],\n",
      "                         'min_samples_leaf': [5, 6],\n",
      "                         'min_samples_split': [10, 11],\n",
      "                         'n_estimators': [13, 15]})\n",
      "\n",
      " **************************************************\n",
      "GridSearchCV best parameters:-----> {'criterion': 'entropy', 'max_depth': 15, 'min_samples_leaf': 5, 'min_samples_split': 10, 'n_estimators': 13}\n",
      "\n",
      " **************************************************\n",
      "Trained Model using best parameters:-----> RandomForestClassifier(criterion='entropy', max_depth=15, min_samples_leaf=5,\n",
      "                       min_samples_split=10, n_estimators=13)\n",
      "\n",
      " **************************************************\n",
      "Accuracy score:------> 0.8823529411764706\n"
     ]
    }
   ],
   "source": [
    "params = {'n_estimators':[13,15],\n",
    "         'criterion':['entropy'],\n",
    "         'max_depth':[10,15],\n",
    "         'min_samples_split':[10,11],\n",
    "         'min_samples_leaf':[5,6]}\n",
    "gridsearch = GridSearchCV(estimator=rf, param_grid= params)#apply GridSearchCV\n",
    "time.sleep(2)\n",
    "print(gridsearch.fit(x_train,y_train)) #train the model\n",
    "time.sleep(1)\n",
    "print(\"\\n\",'*'*50)\n",
    "time.sleep(1)\n",
    "print('GridSearchCV best parameters:----->',gridsearch.best_params_) #get best parameters\n",
    "time.sleep(1)\n",
    "print(\"\\n\",'*'*50)\n",
    "time.sleep(1)\n",
    "#put best params into knn\n",
    "rfc = gridsearch.best_estimator_\n",
    "print('Trained Model using best parameters:----->',rfc.fit(x_train,y_train)) #train the model\n",
    "time.sleep(1)\n",
    "print(\"\\n\",'*'*50)\n",
    "time.sleep(1)\n",
    "print('Accuracy score:------>',rfc.score(x_train,y_train))#check the accuracy score"
   ]
  },
  {
   "cell_type": "markdown",
   "id": "e71a9c26",
   "metadata": {},
   "source": [
    "# GridSearchCV By using DecisionTreeClassifier as a estimator"
   ]
  },
  {
   "cell_type": "code",
   "execution_count": 245,
   "id": "550c856f",
   "metadata": {},
   "outputs": [
    {
     "name": "stdout",
     "output_type": "stream",
     "text": [
      "GridSearchCV(estimator=DecisionTreeClassifier(),\n",
      "             param_grid={'criterion': ['entropy', 'gini'],\n",
      "                         'max_depth': range(10, 15),\n",
      "                         'min_samples_leaf': [2, 10],\n",
      "                         'min_samples_split': [3, 10]})\n",
      "\n",
      " **************************************************\n",
      "GridSearchCV best parameters:-----> {'criterion': 'entropy', 'max_depth': 12, 'min_samples_leaf': 2, 'min_samples_split': 3}\n",
      "\n",
      " **************************************************\n",
      "Trained Model using best parameters:-----> DecisionTreeClassifier(criterion='entropy', max_depth=12, min_samples_leaf=2,\n",
      "                       min_samples_split=3)\n",
      "\n",
      " **************************************************\n",
      "Accuracy score:------> 0.9495798319327731\n"
     ]
    }
   ],
   "source": [
    "params = {'criterion':['entropy','gini'],\n",
    "         'max_depth':range(10,15),\n",
    "         'min_samples_split':[3,10],\n",
    "         'min_samples_leaf':[2,10]}\n",
    "gridsearch = GridSearchCV(estimator=dt, param_grid= params)#apply GridSearchCV\n",
    "time.sleep(2)\n",
    "print(gridsearch.fit(x_train,y_train)) #train the model\n",
    "time.sleep(1)\n",
    "print(\"\\n\",'*'*50)\n",
    "time.sleep(1)\n",
    "print('GridSearchCV best parameters:----->',gridsearch.best_params_) #get best parameters\n",
    "time.sleep(1)\n",
    "print(\"\\n\",'*'*50)\n",
    "time.sleep(1)\n",
    "#put best params into knn\n",
    "dtr = gridsearch.best_estimator_\n",
    "print('Trained Model using best parameters:----->',dtr.fit(x_train,y_train))#train the model\n",
    "time.sleep(1)\n",
    "print(\"\\n\",'*'*50)\n",
    "time.sleep(1)\n",
    "print('Accuracy score:------>',dtr.score(x_train,y_train))#check the accuracy score"
   ]
  },
  {
   "cell_type": "markdown",
   "id": "e50667b0",
   "metadata": {},
   "source": [
    "# Bagging Classifier with Bootstrap = True (Using 4 models)"
   ]
  },
  {
   "cell_type": "markdown",
   "id": "78a55aa9",
   "metadata": {},
   "source": [
    "Using knn as a best estimator"
   ]
  },
  {
   "cell_type": "code",
   "execution_count": 255,
   "id": "950cf771",
   "metadata": {},
   "outputs": [
    {
     "name": "stdout",
     "output_type": "stream",
     "text": [
      "Model is Trained:-  BaggingClassifier(base_estimator=KNeighborsClassifier(), max_samples=0.5,\n",
      "                  random_state=5)\n",
      "\n",
      " **************************************************\n",
      "Accuracy score by using BaggingClassifier:- 0.725\n"
     ]
    }
   ],
   "source": [
    "bag_knn = BaggingClassifier(KNeighborsClassifier(n_neighbors=5),\n",
    "                           n_estimators=10, max_samples=0.5,\n",
    "                           bootstrap=True, random_state=5,\n",
    "                           oob_score=False)\n",
    "time.sleep(2)\n",
    "print('Model is Trained:- ', bag_knn.fit(x_train,y_train))\n",
    "time.sleep(1)\n",
    "print(\"\\n\",'*'*50)\n",
    "time.sleep(1)\n",
    "print('Accuracy score by using BaggingClassifier:-', bag_knn.score(x_test,y_test))"
   ]
  },
  {
   "cell_type": "markdown",
   "id": "ac2b9cc2",
   "metadata": {},
   "source": [
    "Using svc as a best estimator"
   ]
  },
  {
   "cell_type": "code",
   "execution_count": 247,
   "id": "71ed2747",
   "metadata": {},
   "outputs": [
    {
     "name": "stdout",
     "output_type": "stream",
     "text": [
      "Model is Trained:-  BaggingClassifier(base_estimator=SVC(), n_estimators=15, oob_score=True,\n",
      "                  random_state=5)\n",
      "\n",
      " **************************************************\n",
      "Accuracy score by using BaggingClassifier:- 0.675\n"
     ]
    }
   ],
   "source": [
    "bag_svc = BaggingClassifier(SVC(),                       #using svc as a best estimator\n",
    "                           n_estimators=15,\n",
    "                           bootstrap=True, random_state=5,\n",
    "                           oob_score=True)\n",
    "time.sleep(2)\n",
    "print('Model is Trained:- ', bag_svc.fit(x_train,y_train))\n",
    "time.sleep(1)\n",
    "print(\"\\n\",'*'*50)\n",
    "time.sleep(1)\n",
    "print('Accuracy score by using BaggingClassifier:-', bag_svc.score(x_test,y_test))"
   ]
  },
  {
   "cell_type": "markdown",
   "id": "f4d188b1",
   "metadata": {},
   "source": [
    "Using RandomForestClassifier as a best estimator"
   ]
  },
  {
   "cell_type": "code",
   "execution_count": 248,
   "id": "07b4adea",
   "metadata": {},
   "outputs": [
    {
     "name": "stdout",
     "output_type": "stream",
     "text": [
      "Model is Trained:-  BaggingClassifier(base_estimator=RandomForestClassifier(), n_estimators=15,\n",
      "                  oob_score=True, random_state=7)\n",
      "\n",
      " **************************************************\n",
      "Accuracy score by using BaggingClassifier:- 0.7375\n"
     ]
    }
   ],
   "source": [
    "bag_rf = BaggingClassifier(RandomForestClassifier(),#using RandomForest as a best estimator\n",
    "                           n_estimators=15,\n",
    "                           bootstrap=True, random_state=7,\n",
    "                           oob_score=True)\n",
    "time.sleep(2)\n",
    "print('Model is Trained:- ', bag_rf.fit(x_train,y_train))\n",
    "time.sleep(1)\n",
    "print(\"\\n\",'*'*50)\n",
    "time.sleep(1)\n",
    "print('Accuracy score by using BaggingClassifier:-', bag_rf.score(x_test,y_test))"
   ]
  },
  {
   "cell_type": "markdown",
   "id": "98479b56",
   "metadata": {},
   "source": [
    "Using DecisionTreeClassifier as a best estimator"
   ]
  },
  {
   "cell_type": "code",
   "execution_count": 249,
   "id": "7b9e1c9d",
   "metadata": {},
   "outputs": [
    {
     "name": "stdout",
     "output_type": "stream",
     "text": [
      "Model is Trained:-  BaggingClassifier(base_estimator=DecisionTreeClassifier(), n_estimators=15,\n",
      "                  oob_score=True, random_state=7)\n",
      "\n",
      " **************************************************\n",
      "Accuracy score by using BaggingClassifier:- 0.7625\n"
     ]
    }
   ],
   "source": [
    "bag_dt = BaggingClassifier(dt,                        #using DecisionTree as a best estimator\n",
    "                           n_estimators=15,\n",
    "                           bootstrap=True, random_state=7,\n",
    "                           oob_score=True)\n",
    "time.sleep(2)\n",
    "print('Model is Trained:- ', bag_dt.fit(x_train,y_train))\n",
    "time.sleep(1)\n",
    "print(\"\\n\",'*'*50)\n",
    "time.sleep(1)\n",
    "print('Accuracy score by using BaggingClassifier:-', bag_dt.score(x_test,y_test))"
   ]
  },
  {
   "cell_type": "markdown",
   "id": "6286f2ce",
   "metadata": {},
   "source": [
    "# Bagging Classifier with Bootstrap = False (Using 4 models)"
   ]
  },
  {
   "cell_type": "markdown",
   "id": "0d9ada30",
   "metadata": {},
   "source": [
    "Using knn as a best estimator"
   ]
  },
  {
   "cell_type": "code",
   "execution_count": 250,
   "id": "6771f821",
   "metadata": {},
   "outputs": [
    {
     "name": "stdout",
     "output_type": "stream",
     "text": [
      "Model is Trained:-  BaggingClassifier(base_estimator=KNeighborsClassifier(), bootstrap=False,\n",
      "                  max_samples=0.5, random_state=3)\n",
      "\n",
      " **************************************************\n",
      "Accuracy score by using BaggingClassifier:- 0.725\n"
     ]
    }
   ],
   "source": [
    "bag_knn = BaggingClassifier(KNeighborsClassifier(n_neighbors=5),#using knn as a best estimator\n",
    "                           n_estimators=10, max_samples=0.5,\n",
    "                           bootstrap=False, random_state=3,\n",
    "                           )\n",
    "time.sleep(2)\n",
    "print('Model is Trained:- ', bag_knn.fit(x_train,y_train))\n",
    "time.sleep(1)\n",
    "print(\"\\n\",'*'*50)\n",
    "time.sleep(1)\n",
    "print('Accuracy score by using BaggingClassifier:-', bag_knn.score(x_test,y_test))"
   ]
  },
  {
   "cell_type": "markdown",
   "id": "f7ee530e",
   "metadata": {},
   "source": [
    "Using svc as a best estimator"
   ]
  },
  {
   "cell_type": "code",
   "execution_count": 251,
   "id": "d6d8a5d6",
   "metadata": {},
   "outputs": [
    {
     "name": "stdout",
     "output_type": "stream",
     "text": [
      "Model is Trained:-  BaggingClassifier(base_estimator=SVC(), bootstrap=False, n_estimators=15,\n",
      "                  random_state=5)\n",
      "\n",
      " **************************************************\n",
      "Accuracy score by using BaggingClassifier:- 0.7\n"
     ]
    }
   ],
   "source": [
    "bag_svc = BaggingClassifier(SVC(),                  #using svc as a best estimator\n",
    "                           n_estimators=15,\n",
    "                           bootstrap=False, random_state=5,\n",
    "                           )\n",
    "time.sleep(2)\n",
    "print('Model is Trained:- ', bag_svc.fit(x_train,y_train))\n",
    "time.sleep(1)\n",
    "print(\"\\n\",'*'*50)\n",
    "time.sleep(1)\n",
    "print('Accuracy score by using BaggingClassifier:-', bag_svc.score(x_test,y_test))"
   ]
  },
  {
   "cell_type": "markdown",
   "id": "17e7d2bd",
   "metadata": {},
   "source": [
    "Using RandomForestClassifier as a best estimator"
   ]
  },
  {
   "cell_type": "code",
   "execution_count": 252,
   "id": "e26213ac",
   "metadata": {},
   "outputs": [
    {
     "name": "stdout",
     "output_type": "stream",
     "text": [
      "Model is Trained:-  BaggingClassifier(base_estimator=RandomForestClassifier(), bootstrap=False,\n",
      "                  n_estimators=15, random_state=7)\n",
      "\n",
      " **************************************************\n",
      "Accuracy score by using BaggingClassifier:- 0.725\n"
     ]
    }
   ],
   "source": [
    "bag_rf = BaggingClassifier(RandomForestClassifier(),   #using RandomForest as a best estimator\n",
    "                           n_estimators=15,\n",
    "                           bootstrap=False, random_state=7,\n",
    "                           )\n",
    "time.sleep(2)\n",
    "print('Model is Trained:- ', bag_rf.fit(x_train,y_train))\n",
    "time.sleep(1)\n",
    "print(\"\\n\",'*'*50)\n",
    "time.sleep(1)\n",
    "print('Accuracy score by using BaggingClassifier:-', bag_rf.score(x_test,y_test))"
   ]
  },
  {
   "cell_type": "markdown",
   "id": "4e6d6e2e",
   "metadata": {},
   "source": [
    "Using DecisionTreeClassifier as a best estimator"
   ]
  },
  {
   "cell_type": "code",
   "execution_count": 253,
   "id": "a38b983d",
   "metadata": {},
   "outputs": [
    {
     "name": "stdout",
     "output_type": "stream",
     "text": [
      "Model is Trained:-  BaggingClassifier(base_estimator=DecisionTreeClassifier(), bootstrap=False,\n",
      "                  n_estimators=15, random_state=7)\n",
      "\n",
      " **************************************************\n",
      "Accuracy score by using BaggingClassifier:- 0.8125\n"
     ]
    }
   ],
   "source": [
    "bag_dt = BaggingClassifier(dt,                       #using DecisionTree as a best estimator\n",
    "                           n_estimators=15,\n",
    "                           bootstrap=False, random_state=7,\n",
    "                           )\n",
    "time.sleep(2)\n",
    "print('Model is Trained:- ', bag_dt.fit(x_train,y_train))\n",
    "time.sleep(1)\n",
    "print(\"\\n\",'*'*50)\n",
    "time.sleep(1)\n",
    "print('Accuracy score by using BaggingClassifier:-', bag_dt.score(x_test,y_test))"
   ]
  },
  {
   "cell_type": "code",
   "execution_count": null,
   "id": "0e8dcf6c",
   "metadata": {},
   "outputs": [],
   "source": []
  },
  {
   "cell_type": "code",
   "execution_count": 256,
   "id": "a6ef3c81",
   "metadata": {},
   "outputs": [
    {
     "data": {
      "text/plain": [
       "Index(['capacity_mw', 'latitude', 'longitude', 'primary_fuel',\n",
       "       'commissioning_year', 'generation_gwh_2017'],\n",
       "      dtype='object')"
      ]
     },
     "execution_count": 256,
     "metadata": {},
     "output_type": "execute_result"
    }
   ],
   "source": [
    "df.columns"
   ]
  },
  {
   "cell_type": "code",
   "execution_count": 257,
   "id": "ea753716",
   "metadata": {},
   "outputs": [],
   "source": [
    "#split x and y\n",
    "x = df.drop(['capacity_mw'], axis=1)\n",
    "y=df.capacity_mw"
   ]
  },
  {
   "cell_type": "code",
   "execution_count": 258,
   "id": "578c6b9e",
   "metadata": {},
   "outputs": [
    {
     "data": {
      "text/plain": [
       "array([[ 0.08559897,  1.59159269,  0.22382001,  1.20193228,  0.59764843],\n",
       "       [ 0.34019883, -2.80532908,  0.22382001,  0.595916  , -0.36322289],\n",
       "       [ 1.53069176, -0.07017439, -0.88828566,  0.89892414, -0.46941184],\n",
       "       ...,\n",
       "       [-0.1519675 ,  0.49593999,  0.22382001,  0.89892414, -0.39694968],\n",
       "       [ 1.260058  ,  0.0452718 , -0.88828566, -0.25250678, -0.58363   ],\n",
       "       [ 1.23257935, -0.03225667,  0.22382001,  0.71711926,  0.09211371]])"
      ]
     },
     "execution_count": 258,
     "metadata": {},
     "output_type": "execute_result"
    }
   ],
   "source": [
    "#scale the value x\n",
    "Scaler = StandardScaler()\n",
    "x_scaled = Scaler.fit_transform(x)\n",
    "x_scaled"
   ]
  },
  {
   "cell_type": "code",
   "execution_count": 259,
   "id": "f07281fb",
   "metadata": {},
   "outputs": [
    {
     "data": {
      "text/html": [
       "<div>\n",
       "<style scoped>\n",
       "    .dataframe tbody tr th:only-of-type {\n",
       "        vertical-align: middle;\n",
       "    }\n",
       "\n",
       "    .dataframe tbody tr th {\n",
       "        vertical-align: top;\n",
       "    }\n",
       "\n",
       "    .dataframe thead th {\n",
       "        text-align: right;\n",
       "    }\n",
       "</style>\n",
       "<table border=\"1\" class=\"dataframe\">\n",
       "  <thead>\n",
       "    <tr style=\"text-align: right;\">\n",
       "      <th></th>\n",
       "      <th>vif</th>\n",
       "      <th>features</th>\n",
       "    </tr>\n",
       "  </thead>\n",
       "  <tbody>\n",
       "    <tr>\n",
       "      <th>0</th>\n",
       "      <td>1.066719</td>\n",
       "      <td>latitude</td>\n",
       "    </tr>\n",
       "    <tr>\n",
       "      <th>1</th>\n",
       "      <td>1.047545</td>\n",
       "      <td>longitude</td>\n",
       "    </tr>\n",
       "    <tr>\n",
       "      <th>2</th>\n",
       "      <td>1.191891</td>\n",
       "      <td>primary_fuel</td>\n",
       "    </tr>\n",
       "    <tr>\n",
       "      <th>3</th>\n",
       "      <td>1.207718</td>\n",
       "      <td>commissioning_year</td>\n",
       "    </tr>\n",
       "    <tr>\n",
       "      <th>4</th>\n",
       "      <td>1.122812</td>\n",
       "      <td>generation_gwh_2017</td>\n",
       "    </tr>\n",
       "  </tbody>\n",
       "</table>\n",
       "</div>"
      ],
      "text/plain": [
       "        vif             features\n",
       "0  1.066719             latitude\n",
       "1  1.047545            longitude\n",
       "2  1.191891         primary_fuel\n",
       "3  1.207718   commissioning_year\n",
       "4  1.122812  generation_gwh_2017"
      ]
     },
     "execution_count": 259,
     "metadata": {},
     "output_type": "execute_result"
    }
   ],
   "source": [
    "# Check the multicollinearity between the features\n",
    "#import library for VIF\n",
    "from statsmodels.stats.outliers_influence import variance_inflation_factor\n",
    "vif = pd.DataFrame()\n",
    "vif[\"vif\"]= [ variance_inflation_factor(x_scaled, i)\n",
    "               for i in range ( x_scaled.shape[1])]\n",
    "vif['features']= x.columns\n",
    "vif "
   ]
  },
  {
   "cell_type": "code",
   "execution_count": 260,
   "id": "bdb63f97",
   "metadata": {},
   "outputs": [],
   "source": [
    "#split data into train and test.\n",
    "x_train, x_test, y_train, y_test = train_test_split(x_scaled, y,test_size = 0.25, random_state=42)"
   ]
  },
  {
   "cell_type": "code",
   "execution_count": 261,
   "id": "566f1fdc",
   "metadata": {},
   "outputs": [
    {
     "data": {
      "text/plain": [
       "450    1320.00\n",
       "170      33.75\n",
       "336     645.00\n",
       "11      134.00\n",
       "570     175.00\n",
       "Name: capacity_mw, dtype: float64"
      ]
     },
     "execution_count": 261,
     "metadata": {},
     "output_type": "execute_result"
    }
   ],
   "source": [
    "y_train.head()"
   ]
  },
  {
   "cell_type": "markdown",
   "id": "b5b4906e",
   "metadata": {},
   "source": [
    "# Linear regression"
   ]
  },
  {
   "cell_type": "code",
   "execution_count": 290,
   "id": "c0ce1520",
   "metadata": {},
   "outputs": [],
   "source": [
    "from sklearn.tree import DecisionTreeRegressor\n",
    "from sklearn.ensemble import RandomForestRegressor #import library\n",
    "from sklearn import metrics"
   ]
  },
  {
   "cell_type": "code",
   "execution_count": 279,
   "id": "1a877b5f",
   "metadata": {},
   "outputs": [],
   "source": [
    "#Model instantiating and training\n",
    "lr = LinearRegression()\n",
    "dtr=DecisionTreeRegressor()\n",
    "rfo = RandomForestRegressor()"
   ]
  },
  {
   "cell_type": "code",
   "execution_count": 282,
   "id": "f0e99cb9",
   "metadata": {},
   "outputs": [
    {
     "name": "stdout",
     "output_type": "stream",
     "text": [
      "Linear Regression LinearRegression()\n",
      "Decsion Tree DecisionTreeRegressor()\n",
      "Random Forest RandomForestRegressor()\n"
     ]
    }
   ],
   "source": [
    "print('Linear Regression',lr.fit(x_train, y_train))\n",
    "time.sleep(2)\n",
    "print('Decsion Tree',dtr.fit(x_train, y_train))\n",
    "time.sleep(2)\n",
    "print('Random Forest',rfo.fit(x_train, y_train))"
   ]
  },
  {
   "cell_type": "code",
   "execution_count": 284,
   "id": "bf5dcd82",
   "metadata": {},
   "outputs": [
    {
     "name": "stdout",
     "output_type": "stream",
     "text": [
      "Linear regression Score:--------> 0.8485916213051886\n",
      "Decision Tree score:-------> 0.9999995521090058\n",
      "Random Forest score:------> 0.9765566147811714\n"
     ]
    }
   ],
   "source": [
    "#Check How much our model learn\n",
    "print('Linear regression Score:-------->', lr.score(x_train, y_train))\n",
    "time.sleep(2)\n",
    "print('Decision Tree score:------->', dtr.score(x_train,y_train))\n",
    "time.sleep(2)\n",
    "print('Random Forest score:------>',rfo.score(x_train, y_train))"
   ]
  },
  {
   "cell_type": "code",
   "execution_count": 286,
   "id": "997e34ab",
   "metadata": {},
   "outputs": [
    {
     "name": "stdout",
     "output_type": "stream",
     "text": [
      "Linear regression Score:--------> 0.7224499620460401\n",
      "Decision Tree score:-------> 0.3402183788078318\n",
      "Random Forest score:------> 0.6955739793473408\n"
     ]
    }
   ],
   "source": [
    "#Let's check how well model fits the test data\n",
    "print('Linear regression Score:-------->', lr.score(x_test, y_test))\n",
    "time.sleep(2)\n",
    "print('Decision Tree score:------->', dtr.score(x_test,y_test))\n",
    "time.sleep(2)\n",
    "print('Random Forest score:------>',rfo.score(x_test, y_test))"
   ]
  },
  {
   "cell_type": "code",
   "execution_count": 287,
   "id": "aee8c7e3",
   "metadata": {},
   "outputs": [],
   "source": [
    "y_pred_lr = lr.predict(x_test)#save the predictions in some variables\n",
    "y_pred_dtr = dtr.predict(x_test)\n",
    "y_pred_rfo = rfo.predict(x_test)"
   ]
  },
  {
   "cell_type": "code",
   "execution_count": 288,
   "id": "46958ca6",
   "metadata": {},
   "outputs": [
    {
     "name": "stdout",
     "output_type": "stream",
     "text": [
      "Linear Regression\n"
     ]
    },
    {
     "data": {
      "image/png": "[encoded data removed]",
      "text/plain": [
       "<Figure size 432x288 with 1 Axes>"
      ]
     },
     "metadata": {
      "needs_background": "light"
     },
     "output_type": "display_data"
    },
    {
     "name": "stdout",
     "output_type": "stream",
     "text": [
      "Decision Tree\n"
     ]
    },
    {
     "data": {
      "image/png": "[encoded data removed]",
      "text/plain": [
       "<Figure size 432x288 with 1 Axes>"
      ]
     },
     "metadata": {
      "needs_background": "light"
     },
     "output_type": "display_data"
    },
    {
     "name": "stdout",
     "output_type": "stream",
     "text": [
      "Random Forest\n"
     ]
    },
    {
     "data": {
      "image/png": "[encoded data removed]",
      "text/plain": [
       "<Figure size 432x288 with 1 Axes>"
      ]
     },
     "metadata": {
      "needs_background": "light"
     },
     "output_type": "display_data"
    }
   ],
   "source": [
    "#plot the actual and predicted value\n",
    "print(\"Linear Regression:\")\n",
    "plt.scatter(y_test,y_pred_lr)\n",
    "plt.xlabel('Y_test')\n",
    "plt.ylabel('Y_pred_lr')\n",
    "plt.show()\n",
    "time.sleep(2)\n",
    "print(\"Decision Tree:\")\n",
    "plt.scatter(y_test,y_pred_dtr)\n",
    "plt.xlabel('Y_test')\n",
    "plt.ylabel('Y_pred_dtr')\n",
    "plt.show()\n",
    "time.sleep(2)\n",
    "print(\"Random Forest:\")\n",
    "plt.scatter(y_test,y_pred_rfo)\n",
    "plt.xlabel('Y_test')\n",
    "plt.ylabel('Y_pred_rfo')\n",
    "plt.show()"
   ]
  },
  {
   "cell_type": "code",
   "execution_count": 291,
   "id": "2f62b041",
   "metadata": {},
   "outputs": [
    {
     "name": "stdout",
     "output_type": "stream",
     "text": [
      "Linear Regression:\n",
      "MAE:---------> 199.84464121239597\n",
      "MSE:-----------> 91982.4550741229\n",
      "RSME:---------> 303.28609442920873\n",
      "Decision Tree:\n",
      "MAE:---------> 279.3440875\n",
      "MSE:-----------> 218657.2690727125\n",
      "RSME:---------> 467.60802930735963\n",
      "Random Forest:\n",
      "MAE:---------> 204.90357304166665\n",
      "MSE:-----------> 100889.38547622242\n",
      "RSME:---------> 317.6308950278962\n"
     ]
    }
   ],
   "source": [
    "#calculate Mean absolute error\n",
    "print(\"Linear Regression:\")\n",
    "print('MAE:--------->',mean_absolute_error(y_test, y_pred_lr))#calculate Mean absolute error\n",
    "time.sleep(1)\n",
    "print('MSE:----------->',mean_squared_error(y_test,y_pred_lr))#calculate mean squared error\n",
    "time.sleep(1)\n",
    "print('RSME:--------->',np.sqrt(mean_squared_error(y_test,y_pred_lr)))#calculate root mean square error\n",
    "\n",
    "time.sleep(2)\n",
    "print(\"Decision Tree:\")\n",
    "print('MAE:--------->',mean_absolute_error(y_test, y_pred_dtr))#calculate Mean absolute error\n",
    "time.sleep(1)\n",
    "print('MSE:----------->',mean_squared_error(y_test,y_pred_dtr))#calculate mean squared error\n",
    "time.sleep(1)\n",
    "print('RSME:--------->',np.sqrt(mean_squared_error(y_test,y_pred_dtr)))#calculate root mean square error\n",
    "time.sleep(2)\n",
    "print(\"Random Forest:\")\n",
    "print('MAE:--------->',mean_absolute_error(y_test, y_pred_rfo))#calculate Mean absolute error\n",
    "time.sleep(1)\n",
    "print('MSE:----------->',mean_squared_error(y_test,y_pred_rfo))#calculate mean squared error\n",
    "time.sleep(1)\n",
    "print('RSME:--------->',np.sqrt(mean_squared_error(y_test,y_pred_rfo)))#calculate root mean square error"
   ]
  },
  {
   "cell_type": "markdown",
   "id": "c7d73a43",
   "metadata": {},
   "source": [
    "# Lasso Regression"
   ]
  },
  {
   "cell_type": "code",
   "execution_count": 292,
   "id": "b75bde4b",
   "metadata": {},
   "outputs": [],
   "source": [
    "#import Ridge, Lasso, RidgeCV, LassoCV\n",
    "from sklearn.linear_model import Ridge, Lasso, RidgeCV, LassoCV"
   ]
  },
  {
   "cell_type": "code",
   "execution_count": 293,
   "id": "a2085429",
   "metadata": {},
   "outputs": [],
   "source": [
    "#to find best alpha\n",
    "lassocv= LassoCV(alphas=None, max_iter = 1000, normalize = True)"
   ]
  },
  {
   "cell_type": "code",
   "execution_count": 294,
   "id": "20b5fba2",
   "metadata": {},
   "outputs": [
    {
     "data": {
      "text/plain": [
       "LassoCV(normalize=True)"
      ]
     },
     "execution_count": 294,
     "metadata": {},
     "output_type": "execute_result"
    }
   ],
   "source": [
    "#train the model\n",
    "lassocv.fit(x_train,y_train)"
   ]
  },
  {
   "cell_type": "code",
   "execution_count": 295,
   "id": "bbd2c4f4",
   "metadata": {},
   "outputs": [
    {
     "data": {
      "text/plain": [
       "1.4425272091959136"
      ]
     },
     "execution_count": 295,
     "metadata": {},
     "output_type": "execute_result"
    }
   ],
   "source": [
    "#best alpha parameter\n",
    "alpha = lassocv.alpha_\n",
    "alpha"
   ]
  },
  {
   "cell_type": "code",
   "execution_count": 296,
   "id": "d3a230fc",
   "metadata": {},
   "outputs": [],
   "source": [
    "#fit the data\n",
    "lasso_reg = Lasso(alpha)"
   ]
  },
  {
   "cell_type": "code",
   "execution_count": 297,
   "id": "1b15911d",
   "metadata": {},
   "outputs": [
    {
     "data": {
      "text/plain": [
       "Lasso(alpha=1.4425272091959136)"
      ]
     },
     "execution_count": 297,
     "metadata": {},
     "output_type": "execute_result"
    }
   ],
   "source": [
    "lasso_reg.fit(x_train,y_train) #train the data"
   ]
  },
  {
   "cell_type": "code",
   "execution_count": 298,
   "id": "93128b03",
   "metadata": {},
   "outputs": [
    {
     "data": {
      "text/plain": [
       "0.7223018039811275"
      ]
     },
     "execution_count": 298,
     "metadata": {},
     "output_type": "execute_result"
    }
   ],
   "source": [
    "lasso_reg.score(x_test,y_test) #get the score of test data"
   ]
  },
  {
   "cell_type": "markdown",
   "id": "6d7d73ee",
   "metadata": {},
   "source": [
    "# Ridge Regression"
   ]
  },
  {
   "cell_type": "code",
   "execution_count": 299,
   "id": "974f2f86",
   "metadata": {},
   "outputs": [],
   "source": [
    "ridgecv= RidgeCV(alphas=np.arange(0.001,0.1,0.01), normalize = True)"
   ]
  },
  {
   "cell_type": "code",
   "execution_count": 300,
   "id": "375bafba",
   "metadata": {},
   "outputs": [
    {
     "data": {
      "text/plain": [
       "RidgeCV(alphas=array([0.001, 0.011, 0.021, 0.031, 0.041, 0.051, 0.061, 0.071, 0.081,\n",
       "       0.091]),\n",
       "        normalize=True)"
      ]
     },
     "execution_count": 300,
     "metadata": {},
     "output_type": "execute_result"
    }
   ],
   "source": [
    "#train the data\n",
    "ridgecv.fit(x_train,y_train)"
   ]
  },
  {
   "cell_type": "code",
   "execution_count": 301,
   "id": "29890807",
   "metadata": {},
   "outputs": [
    {
     "data": {
      "text/plain": [
       "0.020999999999999998"
      ]
     },
     "execution_count": 301,
     "metadata": {},
     "output_type": "execute_result"
    }
   ],
   "source": [
    "#best alpha parameter\n",
    "ridgecv.alpha_"
   ]
  },
  {
   "cell_type": "code",
   "execution_count": 302,
   "id": "4d8a9249",
   "metadata": {},
   "outputs": [
    {
     "data": {
      "text/plain": [
       "Ridge(alpha=0.020999999999999998)"
      ]
     },
     "execution_count": 302,
     "metadata": {},
     "output_type": "execute_result"
    }
   ],
   "source": [
    "#fit the data\n",
    "ridge_model = Ridge(alpha = ridgecv.alpha_)\n",
    "ridge_model.fit(x_train,y_train)"
   ]
  },
  {
   "cell_type": "code",
   "execution_count": 303,
   "id": "6f08b36a",
   "metadata": {},
   "outputs": [
    {
     "data": {
      "text/plain": [
       "0.7224460906115826"
      ]
     },
     "execution_count": 303,
     "metadata": {},
     "output_type": "execute_result"
    }
   ],
   "source": [
    "ridge_model.score(x_test,y_test) #get the score"
   ]
  },
  {
   "cell_type": "markdown",
   "id": "87b6bd6f",
   "metadata": {},
   "source": [
    "# Ada Boost Regressor"
   ]
  },
  {
   "cell_type": "code",
   "execution_count": 304,
   "id": "0b195395",
   "metadata": {},
   "outputs": [],
   "source": [
    "ada = AdaBoostRegressor() #using this to improve accuracy"
   ]
  },
  {
   "cell_type": "code",
   "execution_count": 305,
   "id": "c195ad51",
   "metadata": {},
   "outputs": [],
   "source": [
    "ada_model= ada.fit(x_train,y_train) # fit the data"
   ]
  },
  {
   "cell_type": "code",
   "execution_count": 306,
   "id": "13483b68",
   "metadata": {},
   "outputs": [],
   "source": [
    "y_pred = ada_model.predict(x_test) #predict it"
   ]
  },
  {
   "cell_type": "code",
   "execution_count": 307,
   "id": "ee8defdd",
   "metadata": {},
   "outputs": [
    {
     "data": {
      "text/plain": [
       "0.5135823007772207"
      ]
     },
     "execution_count": 307,
     "metadata": {},
     "output_type": "execute_result"
    }
   ],
   "source": [
    "from sklearn.metrics import mean_squared_error, mean_absolute_error, r2_score\n",
    "r2_score(y_test,y_pred) #get the r2score"
   ]
  },
  {
   "cell_type": "markdown",
   "id": "eb69eccd",
   "metadata": {},
   "source": [
    "# Using RandomSearchCV by using LinearRegression as a estimator"
   ]
  },
  {
   "cell_type": "code",
   "execution_count": 308,
   "id": "2699ff34",
   "metadata": {},
   "outputs": [],
   "source": [
    "params = {'n_estimators': [40,47,49,50], 'learning_rate' :[.30,.40,.45]}"
   ]
  },
  {
   "cell_type": "code",
   "execution_count": 309,
   "id": "2a7d5797",
   "metadata": {},
   "outputs": [],
   "source": [
    "rnd_srch = RandomizedSearchCV(AdaBoostRegressor(), cv =5, param_distributions = params ) \n",
    "#using randomsearchCv"
   ]
  },
  {
   "cell_type": "code",
   "execution_count": 310,
   "id": "c2053237",
   "metadata": {},
   "outputs": [
    {
     "data": {
      "text/plain": [
       "RandomizedSearchCV(cv=5, estimator=AdaBoostRegressor(),\n",
       "                   param_distributions={'learning_rate': [0.3, 0.4, 0.45],\n",
       "                                        'n_estimators': [40, 47, 49, 50]})"
      ]
     },
     "execution_count": 310,
     "metadata": {},
     "output_type": "execute_result"
    }
   ],
   "source": [
    "rnd_srch.fit(x_train,y_train)"
   ]
  },
  {
   "cell_type": "code",
   "execution_count": 311,
   "id": "63318fe0",
   "metadata": {},
   "outputs": [
    {
     "data": {
      "text/plain": [
       "AdaBoostRegressor(learning_rate=0.3, n_estimators=47)"
      ]
     },
     "execution_count": 311,
     "metadata": {},
     "output_type": "execute_result"
    }
   ],
   "source": [
    "rnd_srch.best_estimator_ "
   ]
  },
  {
   "cell_type": "code",
   "execution_count": 312,
   "id": "717b84c7",
   "metadata": {},
   "outputs": [],
   "source": [
    "ada = AdaBoostRegressor( base_estimator = lr, learning_rate = 0.45, n_estimators = 47)"
   ]
  },
  {
   "cell_type": "code",
   "execution_count": 313,
   "id": "c20d2dcb",
   "metadata": {},
   "outputs": [
    {
     "data": {
      "text/plain": [
       "AdaBoostRegressor(base_estimator=LinearRegression(), learning_rate=0.45,\n",
       "                  n_estimators=47)"
      ]
     },
     "execution_count": 313,
     "metadata": {},
     "output_type": "execute_result"
    }
   ],
   "source": [
    "ada.fit(x_train,y_train) #fit the data"
   ]
  },
  {
   "cell_type": "code",
   "execution_count": 314,
   "id": "4c3d5ef6",
   "metadata": {},
   "outputs": [],
   "source": [
    "y_pred = ada.predict(x_test) #predict it"
   ]
  },
  {
   "cell_type": "code",
   "execution_count": 315,
   "id": "83ecb5c1",
   "metadata": {},
   "outputs": [
    {
     "data": {
      "text/plain": [
       "0.6977062102838537"
      ]
     },
     "execution_count": 315,
     "metadata": {},
     "output_type": "execute_result"
    }
   ],
   "source": [
    "r2_score(y_test,y_pred) #get the score"
   ]
  },
  {
   "cell_type": "markdown",
   "id": "870146a6",
   "metadata": {},
   "source": [
    "# Using GridSearchCV by using DecisionTree as a estimator"
   ]
  },
  {
   "cell_type": "code",
   "execution_count": 316,
   "id": "4e3e1fdd",
   "metadata": {},
   "outputs": [],
   "source": [
    "ada = AdaBoostRegressor( base_estimator = dtr, learning_rate = 0.45, n_estimators = 47)"
   ]
  },
  {
   "cell_type": "code",
   "execution_count": 317,
   "id": "df86b577",
   "metadata": {},
   "outputs": [
    {
     "data": {
      "text/plain": [
       "AdaBoostRegressor(base_estimator=DecisionTreeRegressor(), learning_rate=0.45,\n",
       "                  n_estimators=47)"
      ]
     },
     "execution_count": 317,
     "metadata": {},
     "output_type": "execute_result"
    }
   ],
   "source": [
    "ada.fit(x_train,y_train) #fit the data"
   ]
  },
  {
   "cell_type": "code",
   "execution_count": 318,
   "id": "f0a85fca",
   "metadata": {},
   "outputs": [],
   "source": [
    "y_pred = ada.predict(x_test) #predict it"
   ]
  },
  {
   "cell_type": "code",
   "execution_count": 319,
   "id": "144c9f0a",
   "metadata": {},
   "outputs": [
    {
     "data": {
      "text/plain": [
       "0.6004227883676294"
      ]
     },
     "execution_count": 319,
     "metadata": {},
     "output_type": "execute_result"
    }
   ],
   "source": [
    "r2_score(y_test,y_pred) #get the score"
   ]
  },
  {
   "cell_type": "markdown",
   "id": "47f38447",
   "metadata": {},
   "source": [
    "# xgboost regressor"
   ]
  },
  {
   "cell_type": "code",
   "execution_count": 320,
   "id": "3c5087df",
   "metadata": {},
   "outputs": [],
   "source": [
    "import xgboost as xgb #import libraries\n",
    "from sklearn.metrics import mean_squared_error\n",
    "from sklearn.metrics import r2_score"
   ]
  },
  {
   "cell_type": "code",
   "execution_count": 321,
   "id": "1f9c2417",
   "metadata": {},
   "outputs": [
    {
     "data": {
      "text/plain": [
       "0.5916537539236557"
      ]
     },
     "execution_count": 321,
     "metadata": {},
     "output_type": "execute_result"
    }
   ],
   "source": [
    "xgbr = xgb.XGBRegressor()  #to improve accuracy\n",
    "xgbr.fit(x_train,y_train)\n",
    "y_pred = xgbr.predict(x_test)\n",
    "r2_score(y_test, y_pred)"
   ]
  },
  {
   "cell_type": "markdown",
   "id": "6589e3ed",
   "metadata": {},
   "source": [
    "# GradientBoostingRegressor"
   ]
  },
  {
   "cell_type": "code",
   "execution_count": 322,
   "id": "46196ba8",
   "metadata": {},
   "outputs": [],
   "source": [
    "gradientregressor = GradientBoostingRegressor(max_depth=3, n_estimators=6, learning_rate=.4) \n",
    "#using GBR"
   ]
  },
  {
   "cell_type": "code",
   "execution_count": 323,
   "id": "ed879251",
   "metadata": {},
   "outputs": [],
   "source": [
    "gbr = gradientregressor.fit(x_train,y_train) #fit the data"
   ]
  },
  {
   "cell_type": "code",
   "execution_count": 324,
   "id": "b618ab70",
   "metadata": {},
   "outputs": [
    {
     "data": {
      "text/plain": [
       "0.5916537539236557"
      ]
     },
     "execution_count": 324,
     "metadata": {},
     "output_type": "execute_result"
    }
   ],
   "source": [
    "r2_score(y_test,y_pred) #predict it"
   ]
  },
  {
   "cell_type": "markdown",
   "id": "247dc17f",
   "metadata": {},
   "source": [
    "# Using GridSearchCV for GBR to improve accuracy"
   ]
  },
  {
   "cell_type": "code",
   "execution_count": 325,
   "id": "68495882",
   "metadata": {},
   "outputs": [],
   "source": [
    "grid_params = {\n",
    "    'max_depth': range(4,12,2),\n",
    "    'learning_rate': np.arange(0.1,1,0.1),\n",
    "    'min_samples_split': range(4,8,2)\n",
    "}"
   ]
  },
  {
   "cell_type": "code",
   "execution_count": 326,
   "id": "71b564e6",
   "metadata": {},
   "outputs": [],
   "source": [
    "grid = GridSearchCV(gbr, param_grid = grid_params)"
   ]
  },
  {
   "cell_type": "code",
   "execution_count": 327,
   "id": "1d2516ba",
   "metadata": {},
   "outputs": [
    {
     "data": {
      "text/plain": [
       "GridSearchCV(estimator=GradientBoostingRegressor(learning_rate=0.4,\n",
       "                                                 n_estimators=6),\n",
       "             param_grid={'learning_rate': array([0.1, 0.2, 0.3, 0.4, 0.5, 0.6, 0.7, 0.8, 0.9]),\n",
       "                         'max_depth': range(4, 12, 2),\n",
       "                         'min_samples_split': range(4, 8, 2)})"
      ]
     },
     "execution_count": 327,
     "metadata": {},
     "output_type": "execute_result"
    }
   ],
   "source": [
    "grid.fit(x_train, y_train) #fit the data"
   ]
  },
  {
   "cell_type": "code",
   "execution_count": 328,
   "id": "3ade38f0",
   "metadata": {},
   "outputs": [
    {
     "data": {
      "text/plain": [
       "{'learning_rate': 0.4, 'max_depth': 4, 'min_samples_split': 6}"
      ]
     },
     "execution_count": 328,
     "metadata": {},
     "output_type": "execute_result"
    }
   ],
   "source": [
    "grid.best_params_ # get the best parameters"
   ]
  },
  {
   "cell_type": "code",
   "execution_count": 329,
   "id": "17165920",
   "metadata": {},
   "outputs": [],
   "source": [
    "a = grid.best_estimator_"
   ]
  },
  {
   "cell_type": "code",
   "execution_count": 330,
   "id": "b94f6a69",
   "metadata": {},
   "outputs": [
    {
     "data": {
      "text/plain": [
       "GradientBoostingRegressor(learning_rate=0.4, max_depth=4, min_samples_split=6,\n",
       "                          n_estimators=6)"
      ]
     },
     "execution_count": 330,
     "metadata": {},
     "output_type": "execute_result"
    }
   ],
   "source": [
    "a.fit(x_train,y_train) # fit the data"
   ]
  },
  {
   "cell_type": "code",
   "execution_count": 331,
   "id": "8ff434a9",
   "metadata": {},
   "outputs": [],
   "source": [
    "y_pred = a.predict(x_test) # predict it"
   ]
  },
  {
   "cell_type": "code",
   "execution_count": 332,
   "id": "2f2fa74e",
   "metadata": {},
   "outputs": [
    {
     "data": {
      "text/plain": [
       "0.6640672295778111"
      ]
     },
     "execution_count": 332,
     "metadata": {},
     "output_type": "execute_result"
    }
   ],
   "source": [
    "r2_score(y_test, y_pred) # get the improved r2 score"
   ]
  },
  {
   "cell_type": "markdown",
   "id": "57b07023",
   "metadata": {},
   "source": [
    "# Saving the model"
   ]
  },
  {
   "cell_type": "code",
   "execution_count": null,
   "id": "0945dad4",
   "metadata": {},
   "outputs": [],
   "source": [
    "#Linear Regression is giving us better accuracy than others."
   ]
  },
  {
   "cell_type": "code",
   "execution_count": 333,
   "id": "f8f365bd",
   "metadata": {},
   "outputs": [],
   "source": [
    "with open('Avacado project','wb') as f:\n",
    "    pickle.dump(lr,f)"
   ]
  },
  {
   "cell_type": "code",
   "execution_count": null,
   "id": "dc6159bc",
   "metadata": {},
   "outputs": [],
   "source": []
  }
 ],
 "metadata": {
  "kernelspec": {
   "display_name": "Python 3",
   "language": "python",
   "name": "python3"
  },
  "language_info": {
   "codemirror_mode": {
    "name": "ipython",
    "version": 3
   },
   "file_extension": ".py",
   "mimetype": "text/x-python",
   "name": "python",
   "nbconvert_exporter": "python",
   "pygments_lexer": "ipython3",
   "version": "3.8.8"
  }
 },
 "nbformat": 4,
 "nbformat_minor": 5
}
