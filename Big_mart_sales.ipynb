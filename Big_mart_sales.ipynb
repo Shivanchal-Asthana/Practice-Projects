{
 "cells": [
  {
   "cell_type": "code",
   "execution_count": 906,
   "id": "483b5efb",
   "metadata": {},
   "outputs": [],
   "source": [
    "#importing necessary libraries\n",
    "import pandas as pd\n",
    "import numpy as np\n",
    "import statsmodels.formula.api as smf\n",
    "from sklearn.preprocessing import StandardScaler, OrdinalEncoder, OneHotEncoder, LabelEncoder, PowerTransformer\n",
    "from sklearn.impute import SimpleImputer\n",
    "from sklearn.compose import make_column_transformer\n",
    "from sklearn.linear_model import LinearRegression\n",
    "from sklearn.model_selection import train_test_split, RandomizedSearchCV\n",
    "from sklearn.feature_selection import SelectPercentile, chi2\n",
    "from sklearn.metrics import mean_squared_error, mean_absolute_error, r2_score\n",
    "from sklearn.ensemble import AdaBoostRegressor, GradientBoostingRegressor\n",
    "from scipy.stats import norm, stats, zscore\n",
    "import statistics as st\n",
    "import statsmodels.api as sm\n",
    "import seaborn as sns\n",
    "import matplotlib.pyplot as plt\n",
    "import pickle\n",
    "\n",
    "\n",
    "\n",
    "#import plotty\n",
    "import warnings\n",
    "warnings.filterwarnings('ignore')"
   ]
  },
  {
   "cell_type": "code",
   "execution_count": 907,
   "id": "a4294d5b",
   "metadata": {},
   "outputs": [],
   "source": [
    "# first do some work on Train data"
   ]
  },
  {
   "cell_type": "code",
   "execution_count": 908,
   "id": "92633907",
   "metadata": {},
   "outputs": [
    {
     "data": {
      "text/html": [
       "<div>\n",
       "<style scoped>\n",
       "    .dataframe tbody tr th:only-of-type {\n",
       "        vertical-align: middle;\n",
       "    }\n",
       "\n",
       "    .dataframe tbody tr th {\n",
       "        vertical-align: top;\n",
       "    }\n",
       "\n",
       "    .dataframe thead th {\n",
       "        text-align: right;\n",
       "    }\n",
       "</style>\n",
       "<table border=\"1\" class=\"dataframe\">\n",
       "  <thead>\n",
       "    <tr style=\"text-align: right;\">\n",
       "      <th></th>\n",
       "      <th>Item_Identifier</th>\n",
       "      <th>Item_Weight</th>\n",
       "      <th>Item_Fat_Content</th>\n",
       "      <th>Item_Visibility</th>\n",
       "      <th>Item_Type</th>\n",
       "      <th>Item_MRP</th>\n",
       "      <th>Outlet_Identifier</th>\n",
       "      <th>Outlet_Establishment_Year</th>\n",
       "      <th>Outlet_Size</th>\n",
       "      <th>Outlet_Location_Type</th>\n",
       "      <th>Outlet_Type</th>\n",
       "      <th>Item_Outlet_Sales</th>\n",
       "    </tr>\n",
       "  </thead>\n",
       "  <tbody>\n",
       "    <tr>\n",
       "      <th>0</th>\n",
       "      <td>FDA15</td>\n",
       "      <td>9.30</td>\n",
       "      <td>Low Fat</td>\n",
       "      <td>0.016047</td>\n",
       "      <td>Dairy</td>\n",
       "      <td>249.8092</td>\n",
       "      <td>OUT049</td>\n",
       "      <td>1999</td>\n",
       "      <td>Medium</td>\n",
       "      <td>Tier 1</td>\n",
       "      <td>Supermarket Type1</td>\n",
       "      <td>3735.1380</td>\n",
       "    </tr>\n",
       "    <tr>\n",
       "      <th>1</th>\n",
       "      <td>DRC01</td>\n",
       "      <td>5.92</td>\n",
       "      <td>Regular</td>\n",
       "      <td>0.019278</td>\n",
       "      <td>Soft Drinks</td>\n",
       "      <td>48.2692</td>\n",
       "      <td>OUT018</td>\n",
       "      <td>2009</td>\n",
       "      <td>Medium</td>\n",
       "      <td>Tier 3</td>\n",
       "      <td>Supermarket Type2</td>\n",
       "      <td>443.4228</td>\n",
       "    </tr>\n",
       "    <tr>\n",
       "      <th>2</th>\n",
       "      <td>FDN15</td>\n",
       "      <td>17.50</td>\n",
       "      <td>Low Fat</td>\n",
       "      <td>0.016760</td>\n",
       "      <td>Meat</td>\n",
       "      <td>141.6180</td>\n",
       "      <td>OUT049</td>\n",
       "      <td>1999</td>\n",
       "      <td>Medium</td>\n",
       "      <td>Tier 1</td>\n",
       "      <td>Supermarket Type1</td>\n",
       "      <td>2097.2700</td>\n",
       "    </tr>\n",
       "    <tr>\n",
       "      <th>3</th>\n",
       "      <td>FDX07</td>\n",
       "      <td>19.20</td>\n",
       "      <td>Regular</td>\n",
       "      <td>0.000000</td>\n",
       "      <td>Fruits and Vegetables</td>\n",
       "      <td>182.0950</td>\n",
       "      <td>OUT010</td>\n",
       "      <td>1998</td>\n",
       "      <td>NaN</td>\n",
       "      <td>Tier 3</td>\n",
       "      <td>Grocery Store</td>\n",
       "      <td>732.3800</td>\n",
       "    </tr>\n",
       "    <tr>\n",
       "      <th>4</th>\n",
       "      <td>NCD19</td>\n",
       "      <td>8.93</td>\n",
       "      <td>Low Fat</td>\n",
       "      <td>0.000000</td>\n",
       "      <td>Household</td>\n",
       "      <td>53.8614</td>\n",
       "      <td>OUT013</td>\n",
       "      <td>1987</td>\n",
       "      <td>High</td>\n",
       "      <td>Tier 3</td>\n",
       "      <td>Supermarket Type1</td>\n",
       "      <td>994.7052</td>\n",
       "    </tr>\n",
       "  </tbody>\n",
       "</table>\n",
       "</div>"
      ],
      "text/plain": [
       "  Item_Identifier  Item_Weight Item_Fat_Content  Item_Visibility  \\\n",
       "0           FDA15         9.30          Low Fat         0.016047   \n",
       "1           DRC01         5.92          Regular         0.019278   \n",
       "2           FDN15        17.50          Low Fat         0.016760   \n",
       "3           FDX07        19.20          Regular         0.000000   \n",
       "4           NCD19         8.93          Low Fat         0.000000   \n",
       "\n",
       "               Item_Type  Item_MRP Outlet_Identifier  \\\n",
       "0                  Dairy  249.8092            OUT049   \n",
       "1            Soft Drinks   48.2692            OUT018   \n",
       "2                   Meat  141.6180            OUT049   \n",
       "3  Fruits and Vegetables  182.0950            OUT010   \n",
       "4              Household   53.8614            OUT013   \n",
       "\n",
       "   Outlet_Establishment_Year Outlet_Size Outlet_Location_Type  \\\n",
       "0                       1999      Medium               Tier 1   \n",
       "1                       2009      Medium               Tier 3   \n",
       "2                       1999      Medium               Tier 1   \n",
       "3                       1998         NaN               Tier 3   \n",
       "4                       1987        High               Tier 3   \n",
       "\n",
       "         Outlet_Type  Item_Outlet_Sales  \n",
       "0  Supermarket Type1          3735.1380  \n",
       "1  Supermarket Type2           443.4228  \n",
       "2  Supermarket Type1          2097.2700  \n",
       "3      Grocery Store           732.3800  \n",
       "4  Supermarket Type1           994.7052  "
      ]
     },
     "execution_count": 908,
     "metadata": {},
     "output_type": "execute_result"
    }
   ],
   "source": [
    "df_x = pd.read_csv('https://raw.githubusercontent.com/dsrscientist/bigdatamart_rep/master/bigdatamart_Train.csv')\n",
    "df_x.head(5) # read the csv file of train data"
   ]
  },
  {
   "cell_type": "code",
   "execution_count": 909,
   "id": "01cb3275",
   "metadata": {},
   "outputs": [
    {
     "data": {
      "text/plain": [
       "(8523, 12)"
      ]
     },
     "execution_count": 909,
     "metadata": {},
     "output_type": "execute_result"
    }
   ],
   "source": [
    "df_x.shape # check tyhe shape of the train dataset"
   ]
  },
  {
   "cell_type": "code",
   "execution_count": 910,
   "id": "9402be77",
   "metadata": {},
   "outputs": [
    {
     "data": {
      "text/html": [
       "<div>\n",
       "<style scoped>\n",
       "    .dataframe tbody tr th:only-of-type {\n",
       "        vertical-align: middle;\n",
       "    }\n",
       "\n",
       "    .dataframe tbody tr th {\n",
       "        vertical-align: top;\n",
       "    }\n",
       "\n",
       "    .dataframe thead th {\n",
       "        text-align: right;\n",
       "    }\n",
       "</style>\n",
       "<table border=\"1\" class=\"dataframe\">\n",
       "  <thead>\n",
       "    <tr style=\"text-align: right;\">\n",
       "      <th></th>\n",
       "      <th>Item_Weight</th>\n",
       "      <th>Item_Visibility</th>\n",
       "      <th>Item_MRP</th>\n",
       "      <th>Outlet_Establishment_Year</th>\n",
       "      <th>Item_Outlet_Sales</th>\n",
       "    </tr>\n",
       "  </thead>\n",
       "  <tbody>\n",
       "    <tr>\n",
       "      <th>count</th>\n",
       "      <td>7060.000000</td>\n",
       "      <td>8523.000000</td>\n",
       "      <td>8523.000000</td>\n",
       "      <td>8523.000000</td>\n",
       "      <td>8523.000000</td>\n",
       "    </tr>\n",
       "    <tr>\n",
       "      <th>mean</th>\n",
       "      <td>12.857645</td>\n",
       "      <td>0.066132</td>\n",
       "      <td>140.992782</td>\n",
       "      <td>1997.831867</td>\n",
       "      <td>2181.288914</td>\n",
       "    </tr>\n",
       "    <tr>\n",
       "      <th>std</th>\n",
       "      <td>4.643456</td>\n",
       "      <td>0.051598</td>\n",
       "      <td>62.275067</td>\n",
       "      <td>8.371760</td>\n",
       "      <td>1706.499616</td>\n",
       "    </tr>\n",
       "    <tr>\n",
       "      <th>min</th>\n",
       "      <td>4.555000</td>\n",
       "      <td>0.000000</td>\n",
       "      <td>31.290000</td>\n",
       "      <td>1985.000000</td>\n",
       "      <td>33.290000</td>\n",
       "    </tr>\n",
       "    <tr>\n",
       "      <th>25%</th>\n",
       "      <td>8.773750</td>\n",
       "      <td>0.026989</td>\n",
       "      <td>93.826500</td>\n",
       "      <td>1987.000000</td>\n",
       "      <td>834.247400</td>\n",
       "    </tr>\n",
       "    <tr>\n",
       "      <th>50%</th>\n",
       "      <td>12.600000</td>\n",
       "      <td>0.053931</td>\n",
       "      <td>143.012800</td>\n",
       "      <td>1999.000000</td>\n",
       "      <td>1794.331000</td>\n",
       "    </tr>\n",
       "    <tr>\n",
       "      <th>75%</th>\n",
       "      <td>16.850000</td>\n",
       "      <td>0.094585</td>\n",
       "      <td>185.643700</td>\n",
       "      <td>2004.000000</td>\n",
       "      <td>3101.296400</td>\n",
       "    </tr>\n",
       "    <tr>\n",
       "      <th>max</th>\n",
       "      <td>21.350000</td>\n",
       "      <td>0.328391</td>\n",
       "      <td>266.888400</td>\n",
       "      <td>2009.000000</td>\n",
       "      <td>13086.964800</td>\n",
       "    </tr>\n",
       "  </tbody>\n",
       "</table>\n",
       "</div>"
      ],
      "text/plain": [
       "       Item_Weight  Item_Visibility     Item_MRP  Outlet_Establishment_Year  \\\n",
       "count  7060.000000      8523.000000  8523.000000                8523.000000   \n",
       "mean     12.857645         0.066132   140.992782                1997.831867   \n",
       "std       4.643456         0.051598    62.275067                   8.371760   \n",
       "min       4.555000         0.000000    31.290000                1985.000000   \n",
       "25%       8.773750         0.026989    93.826500                1987.000000   \n",
       "50%      12.600000         0.053931   143.012800                1999.000000   \n",
       "75%      16.850000         0.094585   185.643700                2004.000000   \n",
       "max      21.350000         0.328391   266.888400                2009.000000   \n",
       "\n",
       "       Item_Outlet_Sales  \n",
       "count        8523.000000  \n",
       "mean         2181.288914  \n",
       "std          1706.499616  \n",
       "min            33.290000  \n",
       "25%           834.247400  \n",
       "50%          1794.331000  \n",
       "75%          3101.296400  \n",
       "max         13086.964800  "
      ]
     },
     "execution_count": 910,
     "metadata": {},
     "output_type": "execute_result"
    }
   ],
   "source": [
    "df_x.describe() # check the missing values but it is showing only text column"
   ]
  },
  {
   "cell_type": "code",
   "execution_count": 911,
   "id": "5349696a",
   "metadata": {},
   "outputs": [
    {
     "name": "stdout",
     "output_type": "stream",
     "text": [
      "<class 'pandas.core.frame.DataFrame'>\n",
      "RangeIndex: 8523 entries, 0 to 8522\n",
      "Data columns (total 12 columns):\n",
      " #   Column                     Non-Null Count  Dtype  \n",
      "---  ------                     --------------  -----  \n",
      " 0   Item_Identifier            8523 non-null   object \n",
      " 1   Item_Weight                7060 non-null   float64\n",
      " 2   Item_Fat_Content           8523 non-null   object \n",
      " 3   Item_Visibility            8523 non-null   float64\n",
      " 4   Item_Type                  8523 non-null   object \n",
      " 5   Item_MRP                   8523 non-null   float64\n",
      " 6   Outlet_Identifier          8523 non-null   object \n",
      " 7   Outlet_Establishment_Year  8523 non-null   int64  \n",
      " 8   Outlet_Size                6113 non-null   object \n",
      " 9   Outlet_Location_Type       8523 non-null   object \n",
      " 10  Outlet_Type                8523 non-null   object \n",
      " 11  Item_Outlet_Sales          8523 non-null   float64\n",
      "dtypes: float64(4), int64(1), object(7)\n",
      "memory usage: 799.2+ KB\n"
     ]
    }
   ],
   "source": [
    "df_x.info() # check the Dtype of the column"
   ]
  },
  {
   "cell_type": "code",
   "execution_count": 912,
   "id": "72d624b6",
   "metadata": {},
   "outputs": [
    {
     "data": {
      "text/plain": [
       "Item_Identifier               True\n",
       "Item_Weight                   True\n",
       "Item_Fat_Content              True\n",
       "Item_Visibility              False\n",
       "Item_Type                     True\n",
       "Item_MRP                      True\n",
       "Outlet_Identifier             True\n",
       "Outlet_Establishment_Year     True\n",
       "Outlet_Size                   True\n",
       "Outlet_Location_Type          True\n",
       "Outlet_Type                   True\n",
       "Item_Outlet_Sales             True\n",
       "dtype: bool"
      ]
     },
     "execution_count": 912,
     "metadata": {},
     "output_type": "execute_result"
    }
   ],
   "source": [
    "df_x.all() #check the zero value"
   ]
  },
  {
   "cell_type": "code",
   "execution_count": 913,
   "id": "a334dfbe",
   "metadata": {},
   "outputs": [
    {
     "data": {
      "text/plain": [
       "Item_Identifier                 0\n",
       "Item_Weight                  1463\n",
       "Item_Fat_Content                0\n",
       "Item_Visibility                 0\n",
       "Item_Type                       0\n",
       "Item_MRP                        0\n",
       "Outlet_Identifier               0\n",
       "Outlet_Establishment_Year       0\n",
       "Outlet_Size                  2410\n",
       "Outlet_Location_Type            0\n",
       "Outlet_Type                     0\n",
       "Item_Outlet_Sales               0\n",
       "dtype: int64"
      ]
     },
     "execution_count": 913,
     "metadata": {},
     "output_type": "execute_result"
    }
   ],
   "source": [
    "df_x.isna().sum() # check the null values"
   ]
  },
  {
   "cell_type": "code",
   "execution_count": 914,
   "id": "471bbed8",
   "metadata": {},
   "outputs": [
    {
     "data": {
      "text/plain": [
       "(4650, 12)"
      ]
     },
     "execution_count": 914,
     "metadata": {},
     "output_type": "execute_result"
    }
   ],
   "source": [
    "df_x.dropna(inplace = True) # drop null values in our train dataset\n",
    "df_x.shape #now our train dataset contains that rows and column"
   ]
  },
  {
   "cell_type": "markdown",
   "id": "eab6e999",
   "metadata": {},
   "source": [
    "# Column1: Item_Identifier"
   ]
  },
  {
   "cell_type": "code",
   "execution_count": 915,
   "id": "ccd65516",
   "metadata": {},
   "outputs": [
    {
     "data": {
      "text/plain": [
       "array(['FDA15', 'DRC01', 'FDN15', ..., 'FDC28', 'FDV31', 'FDO03'],\n",
       "      dtype=object)"
      ]
     },
     "execution_count": 915,
     "metadata": {},
     "output_type": "execute_result"
    }
   ],
   "source": [
    "df_x['Item_Identifier'].unique() #check the unique value "
   ]
  },
  {
   "cell_type": "code",
   "execution_count": 916,
   "id": "b8102024",
   "metadata": {},
   "outputs": [
    {
     "data": {
      "text/plain": [
       "FDN21    5\n",
       "FDB15    5\n",
       "NCK53    5\n",
       "FDO58    5\n",
       "FDI45    5\n",
       "        ..\n",
       "FDF17    1\n",
       "NCU29    1\n",
       "FDO03    1\n",
       "FDK32    1\n",
       "FDF50    1\n",
       "Name: Item_Identifier, Length: 1535, dtype: int64"
      ]
     },
     "execution_count": 916,
     "metadata": {},
     "output_type": "execute_result"
    }
   ],
   "source": [
    "df_x['Item_Identifier'].value_counts() #Count the particular value of every data in this column"
   ]
  },
  {
   "cell_type": "code",
   "execution_count": 917,
   "id": "837ddb5e",
   "metadata": {},
   "outputs": [
    {
     "data": {
      "text/plain": [
       "0"
      ]
     },
     "execution_count": 917,
     "metadata": {},
     "output_type": "execute_result"
    }
   ],
   "source": [
    "df_x['Item_Identifier'].isna().sum() #check the null values"
   ]
  },
  {
   "cell_type": "code",
   "execution_count": 918,
   "id": "d47f2916",
   "metadata": {},
   "outputs": [
    {
     "data": {
      "text/plain": [
       "count      4650\n",
       "unique     1535\n",
       "top       FDN21\n",
       "freq          5\n",
       "Name: Item_Identifier, dtype: object"
      ]
     },
     "execution_count": 918,
     "metadata": {},
     "output_type": "execute_result"
    }
   ],
   "source": [
    "df_x['Item_Identifier'].describe()  #describe the column to get more information like mean, std etc"
   ]
  },
  {
   "cell_type": "code",
   "execution_count": 1082,
   "id": "f80a0a06",
   "metadata": {},
   "outputs": [],
   "source": [
    "lab_enc = LabelEncoder() #use label encoder to convert object into integer"
   ]
  },
  {
   "cell_type": "code",
   "execution_count": 1083,
   "id": "073f3030",
   "metadata": {},
   "outputs": [],
   "source": [
    "df_identifier = lab_enc.fit_transform(df_x['Item_Identifier'])"
   ]
  },
  {
   "cell_type": "code",
   "execution_count": 1084,
   "id": "70b7a13b",
   "metadata": {},
   "outputs": [],
   "source": [
    "m = pd.Series(df_identifier)"
   ]
  },
  {
   "cell_type": "code",
   "execution_count": 1086,
   "id": "713f9149",
   "metadata": {},
   "outputs": [
    {
     "data": {
      "text/plain": [
       "0        145\n",
       "1          8\n",
       "2        611\n",
       "4       1180\n",
       "5        697\n",
       "        ... \n",
       "8515     410\n",
       "8516    1232\n",
       "8518     341\n",
       "8520    1233\n",
       "8522      45\n",
       "Name: Item_Identifier, Length: 3720, dtype: int32"
      ]
     },
     "execution_count": 1086,
     "metadata": {},
     "output_type": "execute_result"
    }
   ],
   "source": [
    "df_x['Item_Identifier'] = df_identifier #save the values in our column\n",
    "df_x['Item_Identifier']"
   ]
  },
  {
   "cell_type": "code",
   "execution_count": 1087,
   "id": "8f34c429",
   "metadata": {},
   "outputs": [
    {
     "data": {
      "text/plain": [
       "array([145,   8, 611, ..., 607, 234, 951])"
      ]
     },
     "execution_count": 1087,
     "metadata": {},
     "output_type": "execute_result"
    }
   ],
   "source": [
    "df_x['Item_Identifier'].unique() #check the unique value"
   ]
  },
  {
   "cell_type": "code",
   "execution_count": 1088,
   "id": "e3729771",
   "metadata": {},
   "outputs": [
    {
     "data": {
      "text/plain": [
       "937     5\n",
       "183     5\n",
       "1250    5\n",
       "1248    5\n",
       "1142    5\n",
       "       ..\n",
       "960     1\n",
       "847     1\n",
       "990     1\n",
       "833     1\n",
       "1417    1\n",
       "Name: Item_Identifier, Length: 1418, dtype: int64"
      ]
     },
     "execution_count": 1088,
     "metadata": {},
     "output_type": "execute_result"
    }
   ],
   "source": [
    "df_x['Item_Identifier'].value_counts() #check the number of counts"
   ]
  },
  {
   "cell_type": "code",
   "execution_count": 1089,
   "id": "1c2c16c5",
   "metadata": {},
   "outputs": [
    {
     "data": {
      "text/plain": [
       "<AxesSubplot:>"
      ]
     },
     "execution_count": 1089,
     "metadata": {},
     "output_type": "execute_result"
    },
    {
     "data": {
      "image/png": "[encoded data removed]",
      "text/plain": [
       "<Figure size 432x288 with 1 Axes>"
      ]
     },
     "metadata": {
      "needs_background": "light"
     },
     "output_type": "display_data"
    }
   ],
   "source": [
    "sns.boxplot(data = df_x['Item_Identifier']) # visualize by using boxplot"
   ]
  },
  {
   "cell_type": "code",
   "execution_count": 1090,
   "id": "877a52ab",
   "metadata": {},
   "outputs": [
    {
     "data": {
      "text/plain": [
       "<AxesSubplot:xlabel='Item_Identifier', ylabel='Density'>"
      ]
     },
     "execution_count": 1090,
     "metadata": {},
     "output_type": "execute_result"
    },
    {
     "data": {
      "image/png": "[encoded data removed]",
      "text/plain": [
       "<Figure size 432x288 with 1 Axes>"
      ]
     },
     "metadata": {
      "needs_background": "light"
     },
     "output_type": "display_data"
    }
   ],
   "source": [
    "sns.distplot(df_x['Item_Identifier']) #visualize by using distplot"
   ]
  },
  {
   "cell_type": "code",
   "execution_count": 1091,
   "id": "de1e1a20",
   "metadata": {},
   "outputs": [
    {
     "name": "stdout",
     "output_type": "stream",
     "text": [
      "mean of the column------->  709.3287634408603\n",
      "median of the column-------->  713.0\n",
      "mode of the column-------->  50\n"
     ]
    }
   ],
   "source": [
    "# calculate the mean, median, mode to check how much our column is skewed  \n",
    "print('mean of the column-------> ',df_x['Item_Identifier'].mean())\n",
    "print('median of the column--------> ',df_x['Item_Identifier'].median())\n",
    "print('mode of the column--------> ', st.mode(df_x['Item_Identifier']))"
   ]
  },
  {
   "cell_type": "code",
   "execution_count": 919,
   "id": "f4de1c1a",
   "metadata": {},
   "outputs": [
    {
     "data": {
      "text/plain": [
       "(4650, 12)"
      ]
     },
     "execution_count": 919,
     "metadata": {},
     "output_type": "execute_result"
    }
   ],
   "source": [
    "df_x.shape #check the shape of the dataset"
   ]
  },
  {
   "cell_type": "markdown",
   "id": "61ae8367",
   "metadata": {},
   "source": [
    "# column2: Item_Weight"
   ]
  },
  {
   "cell_type": "code",
   "execution_count": 920,
   "id": "b9853f00",
   "metadata": {},
   "outputs": [
    {
     "data": {
      "text/plain": [
       "array([ 9.3  ,  5.92 , 17.5  ,  8.93 , 10.395, 13.65 , 11.8  , 18.5  ,\n",
       "       15.1  , 17.6  , 16.35 ,  9.   , 13.35 , 18.85 , 14.6  , 13.85 ,\n",
       "        7.645, 11.65 , 18.6  , 18.7  , 10.   ,  8.85 ,  9.8  , 13.6  ,\n",
       "       21.35 , 12.15 , 15.85 ,  7.39 , 10.195,  9.895,  7.905,  8.365,\n",
       "       19.35 ,  8.645, 15.6  ,  7.825,  8.39 , 12.85 ,  7.76 , 16.75 ,\n",
       "        6.055,  6.305, 20.85 ,  8.895, 19.7  ,  8.75 ,  8.31 , 19.75 ,\n",
       "       17.1  , 10.5  , 14.15 , 13.3  ,  7.5  ,  7.485,  8.6  , 17.7  ,\n",
       "        8.88 , 13.5  ,  7.855,  7.235,  8.02 , 16.6  , 14.   , 16.   ,\n",
       "       21.25 ,  7.365, 18.35 ,  5.465,  5.905,  7.27 ,  6.155, 12.6  ,\n",
       "       14.5  , 13.1  ,  5.75 , 11.35 ,  6.525, 10.3  ,  5.78 , 19.   ,\n",
       "        5.26 ,  9.5  , 13.8  , 17.2  ,  6.32 ,  4.88 , 12.65 , 20.75 ,\n",
       "        7.55 , 13.   , 12.3  , 14.1  , 12.   , 10.1  ,  7.785, 12.8  ,\n",
       "        7.63 ,  7.975, 15.7  ,  8.985, 20.35 ,  6.59 , 19.85 , 16.85 ,\n",
       "        6.26 , 20.25 ,  8.695,  7.075,  8.195,  7.09 ,  6.095,  6.15 ,\n",
       "       17.85 ,  6.445, 19.1  , 15.   ,  6.67 , 16.7  ,  9.695, 20.7  ,\n",
       "        5.5  , 17.35 ,  7.285,  6.17 , 19.5  , 19.2  , 11.395,  7.97 ,\n",
       "        7.71 , 19.25 , 11.6  , 12.1  ,  8.1  ,  8.05 ,  6.785,  7.575,\n",
       "       18.2  ,  7.47 ,  6.11 , 15.25 , 18.   , 21.2  ,  6.865, 10.8  ,\n",
       "       15.15 , 20.1  , 11.3  , 15.5  , 15.35 , 12.35 ,  6.85 ,  8.775,\n",
       "       14.85 , 20.5  ,  7.84 , 12.5  ,  8.325, 17.25 ,  5.765, 14.3  ,\n",
       "       18.25 , 10.895,  6.65 ,  9.195,  9.395,  5.695,  6.635,  8.3  ,\n",
       "       18.1  ,  6.695, 14.8  ,  8.71 ,  8.575,  6.57 ,  6.92 , 16.5  ,\n",
       "        8.68 ,  5.63 ,  6.715,  5.82 ,  7.93 ,  5.   ,  7.445,  6.675,\n",
       "        6.98 , 20.6  ,  7.475,  7.895,  8.355,  9.285, 20.2  ,  5.655,\n",
       "        5.175,  8.975,  7.67 ,  4.785, 20.   ,  8.395,  6.175,  8.21 ,\n",
       "       19.6  ,  5.845,  7.17 , 11.1  ,  5.32 ,  8.18 ,  5.03 , 13.15 ,\n",
       "        6.28 ,  5.925, 16.1  ,  9.31 ,  7.02 ,  5.46 ,  6.13 ,  6.55 ,\n",
       "       17.   , 16.25 ,  5.15 ,  7.865,  6.575, 15.2  ,  7.07 ,  5.785,\n",
       "        7.42 ,  6.36 , 11.85 ,  6.75 ,  9.6  ,  5.86 ,  5.035, 11.15 ,\n",
       "        6.38 ,  5.675, 11.5  ,  6.655, 21.   ,  6.405, 14.7  ,  8.185,\n",
       "        8.655,  6.235,  8.42 ,  7.85 , 21.1  ,  4.59 ,  7.51 ,  6.71 ,\n",
       "        8.5  ,  9.1  , 14.75 ,  7.565,  7.59 ,  5.155,  6.365, 17.75 ,\n",
       "        6.42 ,  8.235,  8.485, 14.65 ,  7.56 ,  4.92 ,  6.385,  8.26 ,\n",
       "        8.63 ,  9.21 ,  8.905,  7.21 ,  7.3  ,  9.27 , 14.35 ,  6.215,\n",
       "        7.72 , 10.6  ,  6.035,  6.78 , 15.3  ,  7.105, 11.   ,  7.52 ,\n",
       "        4.805,  6.425,  7.6  , 10.695,  7.325,  5.94 ,  5.635,  7.935,\n",
       "        6.48 ,  5.985,  5.825,  6.63 ,  6.61 , 16.2  ,  7.05 , 18.75 ,\n",
       "        6.8  ,  7.035,  6.115,  8.96 ,  8.97 ,  8.43 ,  8.27 ,  5.44 ,\n",
       "       10.85 ,  5.405,  7.435, 10.65 ,  5.735,  6.465,  8.84 ,  7.405,\n",
       "        7.75 ,  9.065,  8.89 ,  4.615,  8.76 ,  7.1  ,  7.35 ,  4.61 ,\n",
       "        6.195,  7.655,  8.52 ,  7.26 ,  5.59 ,  5.88 ,  8.51 ,  6.985,\n",
       "        9.06 ,  8.615,  6.765,  8.115,  7.275,  6.96 ,  9.17 ,  8.785,\n",
       "        8.155,  5.19 ,  7.81 ,  6.135,  5.73 , 15.75 ,  4.635,  6.825,\n",
       "        7.64 ,  5.34 ,  7.22 ,  6.615,  6.76 ,  8.315,  5.98 ,  8.06 ,\n",
       "        5.095,  6.3  ,  8.8  ,  6.885,  9.13 ,  6.325,  5.615,  9.035,\n",
       "        7.145,  5.51 ,  4.555,  8.   ,  7.315,  7.31 ,  7.36 ,  6.89 ,\n",
       "        4.905,  6.935,  6.69 ,  6.03 ,  5.885,  7.06 ,  6.46 ,  5.48 ,\n",
       "        8.01 ,  5.8  ,  5.945,  6.965,  7.535,  7.68 ,  7.96 ,  5.11 ,\n",
       "        7.   ,  5.365,  7.945,  7.685,  8.275,  8.38 ,  7.155,  6.775,\n",
       "        8.935,  8.945,  6.895,  6.86 ,  8.35 ,  6.4  ,  8.77 ,  7.725,\n",
       "        6.52 ,  8.67 ,  5.325,  7.89 ,  5.21 ,  5.305,  5.425,  5.485,\n",
       "        6.44 ])"
      ]
     },
     "execution_count": 920,
     "metadata": {},
     "output_type": "execute_result"
    }
   ],
   "source": [
    "df_x['Item_Weight'].unique() #check the unique value of the column"
   ]
  },
  {
   "cell_type": "code",
   "execution_count": 921,
   "id": "c76e4c39",
   "metadata": {},
   "outputs": [
    {
     "data": {
      "text/plain": [
       "True"
      ]
     },
     "execution_count": 921,
     "metadata": {},
     "output_type": "execute_result"
    }
   ],
   "source": [
    "df_x['Item_Weight'].all() # check any zero value present in our column or not"
   ]
  },
  {
   "cell_type": "code",
   "execution_count": 922,
   "id": "48176b7f",
   "metadata": {},
   "outputs": [
    {
     "data": {
      "text/plain": [
       "0"
      ]
     },
     "execution_count": 922,
     "metadata": {},
     "output_type": "execute_result"
    }
   ],
   "source": [
    "df_x['Item_Weight'].isna().sum() # check the null value"
   ]
  },
  {
   "cell_type": "code",
   "execution_count": 923,
   "id": "9e76dcec",
   "metadata": {},
   "outputs": [
    {
     "data": {
      "text/plain": [
       "12.150    58\n",
       "17.600    55\n",
       "13.650    49\n",
       "11.800    49\n",
       "16.000    45\n",
       "          ..\n",
       "4.905      1\n",
       "9.035      1\n",
       "7.890      1\n",
       "6.400      1\n",
       "5.000      1\n",
       "Name: Item_Weight, Length: 409, dtype: int64"
      ]
     },
     "execution_count": 923,
     "metadata": {},
     "output_type": "execute_result"
    }
   ],
   "source": [
    "df_x['Item_Weight'].value_counts() # check the number of count of particular value"
   ]
  },
  {
   "cell_type": "code",
   "execution_count": 924,
   "id": "57c090cc",
   "metadata": {},
   "outputs": [
    {
     "data": {
      "text/plain": [
       "count    4650.000000\n",
       "mean       12.898675\n",
       "std         4.670973\n",
       "min         4.555000\n",
       "25%         8.770000\n",
       "50%        12.650000\n",
       "75%        17.000000\n",
       "max        21.350000\n",
       "Name: Item_Weight, dtype: float64"
      ]
     },
     "execution_count": 924,
     "metadata": {},
     "output_type": "execute_result"
    }
   ],
   "source": [
    "df_x['Item_Weight'].describe() # describe the column to get mean, std "
   ]
  },
  {
   "cell_type": "code",
   "execution_count": 925,
   "id": "026fffe7",
   "metadata": {},
   "outputs": [
    {
     "data": {
      "text/plain": [
       "Text(0.5, 0, 'Item_weight')"
      ]
     },
     "execution_count": 925,
     "metadata": {},
     "output_type": "execute_result"
    },
    {
     "data": {
      "image/png": "[encoded data removed]",
      "text/plain": [
       "<Figure size 432x288 with 1 Axes>"
      ]
     },
     "metadata": {
      "needs_background": "light"
     },
     "output_type": "display_data"
    }
   ],
   "source": [
    "# Visualize using boxplot to check the outliers\n",
    "sns.boxplot( data = df_x['Item_Weight'])\n",
    "plt.xlabel('Item_weight', fontsize = 15)"
   ]
  },
  {
   "cell_type": "code",
   "execution_count": 926,
   "id": "a79cb951",
   "metadata": {},
   "outputs": [
    {
     "data": {
      "text/plain": [
       "<AxesSubplot:xlabel='Item_Weight', ylabel='Density'>"
      ]
     },
     "execution_count": 926,
     "metadata": {},
     "output_type": "execute_result"
    },
    {
     "data": {
      "image/png": "[encoded data removed]",
      "text/plain": [
       "<Figure size 432x288 with 1 Axes>"
      ]
     },
     "metadata": {
      "needs_background": "light"
     },
     "output_type": "display_data"
    }
   ],
   "source": [
    "sns.distplot(df_x['Item_Weight']) #visualize it by using distplot"
   ]
  },
  {
   "cell_type": "code",
   "execution_count": 927,
   "id": "1916258c",
   "metadata": {},
   "outputs": [
    {
     "name": "stdout",
     "output_type": "stream",
     "text": [
      "mean of the column------->  12.898675268816925\n",
      "median of the column-------->  12.65\n",
      "mode of the column-------->  12.15\n"
     ]
    }
   ],
   "source": [
    "# calculate the mean, median, mode to check how much our column is skewed  \n",
    "print('mean of the column-------> ',df_x['Item_Weight'].mean())\n",
    "print('median of the column--------> ',df_x['Item_Weight'].median())\n",
    "print('mode of the column--------> ', st.mode(df_x['Item_Weight']))"
   ]
  },
  {
   "cell_type": "code",
   "execution_count": 928,
   "id": "40801906",
   "metadata": {},
   "outputs": [
    {
     "data": {
      "text/plain": [
       "<AxesSubplot:xlabel='Item_Weight', ylabel='Count'>"
      ]
     },
     "execution_count": 928,
     "metadata": {},
     "output_type": "execute_result"
    },
    {
     "data": {
      "image/png": "[encoded data removed]",
      "text/plain": [
       "<Figure size 432x288 with 1 Axes>"
      ]
     },
     "metadata": {
      "needs_background": "light"
     },
     "output_type": "display_data"
    }
   ],
   "source": [
    "sns.histplot(df_x['Item_Weight']) # visualize it by using histogram"
   ]
  },
  {
   "cell_type": "code",
   "execution_count": 932,
   "id": "bf7f0d24",
   "metadata": {},
   "outputs": [],
   "source": [
    "# now, we store this column into a and label into b, to find the relationship, column confidence and r2 score of this column.\n",
    "a = df_x[['Item_Weight']]\n",
    "b = df_x.Item_Outlet_Sales"
   ]
  },
  {
   "cell_type": "code",
   "execution_count": 933,
   "id": "86aa190d",
   "metadata": {},
   "outputs": [],
   "source": [
    "lm1 = LinearRegression()"
   ]
  },
  {
   "cell_type": "code",
   "execution_count": 934,
   "id": "6ab03280",
   "metadata": {},
   "outputs": [],
   "source": [
    "#split data into train and test.\n",
    "a_train, a_test, b_train, b_test = train_test_split(a, b,test_size = 0.25, random_state=42)"
   ]
  },
  {
   "cell_type": "code",
   "execution_count": 935,
   "id": "588cfede",
   "metadata": {},
   "outputs": [
    {
     "data": {
      "text/plain": [
       "LinearRegression()"
      ]
     },
     "execution_count": 935,
     "metadata": {},
     "output_type": "execute_result"
    }
   ],
   "source": [
    "lm1.fit(a_train,b_train) #we train the data"
   ]
  },
  {
   "cell_type": "code",
   "execution_count": 936,
   "id": "4fd40a06",
   "metadata": {},
   "outputs": [
    {
     "data": {
      "text/plain": [
       "0.00025520755532304484"
      ]
     },
     "execution_count": 936,
     "metadata": {},
     "output_type": "execute_result"
    }
   ],
   "source": [
    "lm1.score(a_train,b_train) # Train score is very less here"
   ]
  },
  {
   "cell_type": "code",
   "execution_count": 939,
   "id": "b4189a16",
   "metadata": {},
   "outputs": [
    {
     "data": {
      "text/plain": [
       "-0.0004730970369219989"
      ]
     },
     "execution_count": 939,
     "metadata": {},
     "output_type": "execute_result"
    }
   ],
   "source": [
    "lm1.score(a_test,b_test) # now, this is our column score or confidence"
   ]
  },
  {
   "cell_type": "code",
   "execution_count": 940,
   "id": "e2183937",
   "metadata": {},
   "outputs": [
    {
     "name": "stdout",
     "output_type": "stream",
     "text": [
      "2208.856989884554\n",
      "[5.12760509]\n"
     ]
    }
   ],
   "source": [
    "print(lm1.intercept_) # check the intercept and coeficient value \n",
    "print(lm1.coef_)"
   ]
  },
  {
   "cell_type": "code",
   "execution_count": 941,
   "id": "aa610f45",
   "metadata": {},
   "outputs": [
    {
     "data": {
      "text/html": [
       "<div>\n",
       "<style scoped>\n",
       "    .dataframe tbody tr th:only-of-type {\n",
       "        vertical-align: middle;\n",
       "    }\n",
       "\n",
       "    .dataframe tbody tr th {\n",
       "        vertical-align: top;\n",
       "    }\n",
       "\n",
       "    .dataframe thead th {\n",
       "        text-align: right;\n",
       "    }\n",
       "</style>\n",
       "<table border=\"1\" class=\"dataframe\">\n",
       "  <thead>\n",
       "    <tr style=\"text-align: right;\">\n",
       "      <th></th>\n",
       "      <th>Item_Weight</th>\n",
       "    </tr>\n",
       "  </thead>\n",
       "  <tbody>\n",
       "    <tr>\n",
       "      <th>0</th>\n",
       "      <td>9.3</td>\n",
       "    </tr>\n",
       "  </tbody>\n",
       "</table>\n",
       "</div>"
      ],
      "text/plain": [
       "   Item_Weight\n",
       "0          9.3"
      ]
     },
     "execution_count": 941,
     "metadata": {},
     "output_type": "execute_result"
    }
   ],
   "source": [
    "a_new = pd.DataFrame({'Item_Weight': [9.3]}) # now, predict the value\n",
    "a_new"
   ]
  },
  {
   "cell_type": "code",
   "execution_count": 942,
   "id": "42482216",
   "metadata": {},
   "outputs": [
    {
     "data": {
      "text/plain": [
       "array([2256.54371725])"
      ]
     },
     "execution_count": 942,
     "metadata": {},
     "output_type": "execute_result"
    }
   ],
   "source": [
    "lm1.predict(a_new) # Actual value of sales here is 3735 and it is showing 2256.54, \n",
    "#it means this column has less confidence and less accuracy with label and this is our first proof"
   ]
  },
  {
   "cell_type": "code",
   "execution_count": 943,
   "id": "f18d4a91",
   "metadata": {},
   "outputs": [
    {
     "data": {
      "text/plain": [
       "<seaborn.axisgrid.FacetGrid at 0x1603d50ad60>"
      ]
     },
     "execution_count": 943,
     "metadata": {},
     "output_type": "execute_result"
    },
    {
     "data": {
      "image/png": "[encoded data removed]",
      "text/plain": [
       "<Figure size 360x360 with 1 Axes>"
      ]
     },
     "metadata": {
      "needs_background": "light"
     },
     "output_type": "display_data"
    }
   ],
   "source": [
    "sns.lmplot(x = 'Item_Weight', y ='Item_Outlet_Sales', data = df_x) #visualize the column values by using linear regression plot"
   ]
  },
  {
   "cell_type": "code",
   "execution_count": 944,
   "id": "4560964b",
   "metadata": {},
   "outputs": [
    {
     "data": {
      "text/html": [
       "<div>\n",
       "<style scoped>\n",
       "    .dataframe tbody tr th:only-of-type {\n",
       "        vertical-align: middle;\n",
       "    }\n",
       "\n",
       "    .dataframe tbody tr th {\n",
       "        vertical-align: top;\n",
       "    }\n",
       "\n",
       "    .dataframe thead th {\n",
       "        text-align: right;\n",
       "    }\n",
       "</style>\n",
       "<table border=\"1\" class=\"dataframe\">\n",
       "  <thead>\n",
       "    <tr style=\"text-align: right;\">\n",
       "      <th></th>\n",
       "      <th>0</th>\n",
       "      <th>1</th>\n",
       "    </tr>\n",
       "  </thead>\n",
       "  <tbody>\n",
       "    <tr>\n",
       "      <th>Intercept</th>\n",
       "      <td>2100.151016</td>\n",
       "      <td>2353.152726</td>\n",
       "    </tr>\n",
       "    <tr>\n",
       "      <th>Item_Weight</th>\n",
       "      <td>-5.702760</td>\n",
       "      <td>12.740012</td>\n",
       "    </tr>\n",
       "  </tbody>\n",
       "</table>\n",
       "</div>"
      ],
      "text/plain": [
       "                       0            1\n",
       "Intercept    2100.151016  2353.152726\n",
       "Item_Weight    -5.702760    12.740012"
      ]
     },
     "execution_count": 944,
     "metadata": {},
     "output_type": "execute_result"
    }
   ],
   "source": [
    "lm = smf.ols(formula = 'Item_Outlet_Sales~ Item_Weight', data = df_x).fit() #again, check for model confidence for second proof\n",
    "lm.conf_int()"
   ]
  },
  {
   "cell_type": "code",
   "execution_count": 945,
   "id": "4c496268",
   "metadata": {},
   "outputs": [
    {
     "data": {
      "text/plain": [
       "Intercept      1.595749e-232\n",
       "Item_Weight     4.544600e-01\n",
       "dtype: float64"
      ]
     },
     "execution_count": 945,
     "metadata": {},
     "output_type": "execute_result"
    }
   ],
   "source": [
    "lm.pvalues #check the pvalues for hypothesis testing"
   ]
  },
  {
   "cell_type": "code",
   "execution_count": 946,
   "id": "1d1d12dd",
   "metadata": {},
   "outputs": [],
   "source": [
    "# Null Hypothesis is there is no relationship between item_weight and item_outlet_sales\n",
    "# Alternate Hypothesis is vice versa of null hypothesis\n",
    "# pvalue is greater than alpha value which is 0.05, so, we accept the null hypothesis.\n"
   ]
  },
  {
   "cell_type": "code",
   "execution_count": 947,
   "id": "b988a185",
   "metadata": {},
   "outputs": [
    {
     "data": {
      "text/plain": [
       "0.012038098007183251"
      ]
     },
     "execution_count": 947,
     "metadata": {},
     "output_type": "execute_result"
    }
   ],
   "source": [
    "(lm.rsquared)*100 #r2 value is very less, so, it means there is very less confidence between this column and label"
   ]
  },
  {
   "cell_type": "code",
   "execution_count": 948,
   "id": "23420b2a",
   "metadata": {},
   "outputs": [],
   "source": [
    "# finallyu, we decided to drop this column\n",
    "df_x.drop(columns = 'Item_Weight', inplace = True)"
   ]
  },
  {
   "cell_type": "code",
   "execution_count": 949,
   "id": "9d5b4d2a",
   "metadata": {},
   "outputs": [
    {
     "data": {
      "text/plain": [
       "(4650, 11)"
      ]
     },
     "execution_count": 949,
     "metadata": {},
     "output_type": "execute_result"
    }
   ],
   "source": [
    "df_x.shape #now, this is the shape of our dataset"
   ]
  },
  {
   "cell_type": "markdown",
   "id": "ea523fcb",
   "metadata": {},
   "source": [
    "# Column3: Item_Fat_Content"
   ]
  },
  {
   "cell_type": "code",
   "execution_count": 950,
   "id": "4c9e2762",
   "metadata": {},
   "outputs": [
    {
     "data": {
      "text/plain": [
       "array(['Low Fat', 'Regular', 'low fat', 'reg', 'LF'], dtype=object)"
      ]
     },
     "execution_count": 950,
     "metadata": {},
     "output_type": "execute_result"
    }
   ],
   "source": [
    "df_x['Item_Fat_Content'].unique() #check the unique value"
   ]
  },
  {
   "cell_type": "code",
   "execution_count": 951,
   "id": "f4c6363c",
   "metadata": {},
   "outputs": [
    {
     "data": {
      "text/plain": [
       "count        4650\n",
       "unique          5\n",
       "top       Low Fat\n",
       "freq         2774\n",
       "Name: Item_Fat_Content, dtype: object"
      ]
     },
     "execution_count": 951,
     "metadata": {},
     "output_type": "execute_result"
    }
   ],
   "source": [
    "df_x['Item_Fat_Content'].describe() # analyize little bit more"
   ]
  },
  {
   "cell_type": "code",
   "execution_count": 952,
   "id": "ac14a7df",
   "metadata": {},
   "outputs": [],
   "source": [
    "lab_enc = LabelEncoder() # use label encoder to convert this column into integer"
   ]
  },
  {
   "cell_type": "code",
   "execution_count": 953,
   "id": "681085a3",
   "metadata": {},
   "outputs": [
    {
     "data": {
      "text/plain": [
       "0       1\n",
       "1       2\n",
       "2       1\n",
       "3       1\n",
       "4       2\n",
       "       ..\n",
       "4645    4\n",
       "4646    1\n",
       "4647    1\n",
       "4648    2\n",
       "4649    1\n",
       "Length: 4650, dtype: int32"
      ]
     },
     "execution_count": 953,
     "metadata": {},
     "output_type": "execute_result"
    }
   ],
   "source": [
    "df_fat = lab_enc.fit_transform(df_x['Item_Fat_Content'])\n",
    "pd.Series(df_fat)"
   ]
  },
  {
   "cell_type": "code",
   "execution_count": 954,
   "id": "d77a4a30",
   "metadata": {},
   "outputs": [],
   "source": [
    "df_x['Item_Fat_Content'] = df_fat # save it into our dataset column"
   ]
  },
  {
   "cell_type": "code",
   "execution_count": 955,
   "id": "90318bb4",
   "metadata": {},
   "outputs": [
    {
     "data": {
      "text/plain": [
       "array([1, 2, 3, 4, 0])"
      ]
     },
     "execution_count": 955,
     "metadata": {},
     "output_type": "execute_result"
    }
   ],
   "source": [
    "df_x['Item_Fat_Content'].unique() # now, check the unique values interms of integers"
   ]
  },
  {
   "cell_type": "code",
   "execution_count": 956,
   "id": "2e65b0aa",
   "metadata": {},
   "outputs": [
    {
     "data": {
      "text/plain": [
       "1    2774\n",
       "2    1575\n",
       "0     177\n",
       "4      71\n",
       "3      53\n",
       "Name: Item_Fat_Content, dtype: int64"
      ]
     },
     "execution_count": 956,
     "metadata": {},
     "output_type": "execute_result"
    }
   ],
   "source": [
    "df_x['Item_Fat_Content'].value_counts() # check the number of counts assign"
   ]
  },
  {
   "cell_type": "code",
   "execution_count": 957,
   "id": "7d2a4bcf",
   "metadata": {},
   "outputs": [
    {
     "data": {
      "text/plain": [
       "<AxesSubplot:>"
      ]
     },
     "execution_count": 957,
     "metadata": {},
     "output_type": "execute_result"
    },
    {
     "data": {
      "image/png": "[encoded data removed]",
      "text/plain": [
       "<Figure size 432x288 with 1 Axes>"
      ]
     },
     "metadata": {
      "needs_background": "light"
     },
     "output_type": "display_data"
    }
   ],
   "source": [
    "sns.boxplot(data= df_x['Item_Fat_Content']) # visualize it by using boxplot"
   ]
  },
  {
   "cell_type": "code",
   "execution_count": 958,
   "id": "98bdff3e",
   "metadata": {},
   "outputs": [
    {
     "data": {
      "text/plain": [
       "<AxesSubplot:xlabel='Item_Fat_Content', ylabel='Density'>"
      ]
     },
     "execution_count": 958,
     "metadata": {},
     "output_type": "execute_result"
    },
    {
     "data": {
      "image/png": "[encoded data removed]",
      "text/plain": [
       "<Figure size 432x288 with 1 Axes>"
      ]
     },
     "metadata": {
      "needs_background": "light"
     },
     "output_type": "display_data"
    }
   ],
   "source": [
    "sns.distplot(df_x['Item_Fat_Content']) # visualize it by using distplot"
   ]
  },
  {
   "cell_type": "code",
   "execution_count": 959,
   "id": "24a22bb3",
   "metadata": {},
   "outputs": [],
   "source": [
    "#Detecting the outlier by using iqr method and removing them.\n",
    "q1 = np.percentile(df_x['Item_Fat_Content'], 25,\n",
    "                   interpolation = 'midpoint')\n",
    " \n",
    "q3 = np.percentile(df_x['Item_Fat_Content'], 75,\n",
    "                   interpolation = 'midpoint')\n",
    "iqr = q3 - q1"
   ]
  },
  {
   "cell_type": "code",
   "execution_count": 960,
   "id": "5baf818f",
   "metadata": {},
   "outputs": [
    {
     "name": "stdout",
     "output_type": "stream",
     "text": [
      "Higher:\n",
      " 0       False\n",
      "1       False\n",
      "2       False\n",
      "4       False\n",
      "5       False\n",
      "        ...  \n",
      "8517     True\n",
      "8518    False\n",
      "8520    False\n",
      "8521    False\n",
      "8522    False\n",
      "Name: Item_Fat_Content, Length: 4650, dtype: bool\n",
      "(array([  46,   82,  204,  319,  387,  402,  447,  477,  538,  593,  597,\n",
      "        625,  640,  757,  802,  815,  820,  835,  861,  942,  952, 1133,\n",
      "       1255, 1312, 1379, 1589, 1623, 1624, 1643, 1767, 1778, 1830, 1846,\n",
      "       1905, 1921, 1964, 1976, 2326, 2407, 2418, 2560, 2661, 2773, 2777,\n",
      "       2830, 2991, 3079, 3354, 3377, 3481, 3485, 3545, 3557, 3590, 3680,\n",
      "       3731, 3833, 3904, 3933, 3994, 4092, 4114, 4199, 4214, 4220, 4234,\n",
      "       4312, 4331, 4415, 4492, 4645], dtype=int64),)\n",
      "Lower:\n",
      " 0       False\n",
      "1       False\n",
      "2       False\n",
      "4       False\n",
      "5       False\n",
      "        ...  \n",
      "8517    False\n",
      "8518    False\n",
      "8520    False\n",
      "8521    False\n",
      "8522    False\n",
      "Name: Item_Fat_Content, Length: 4650, dtype: bool\n",
      "(array([], dtype=int64),)\n",
      "old Shape:  (8523, 12)\n"
     ]
    }
   ],
   "source": [
    "# higher side \n",
    "higher_side = df_x['Item_Fat_Content'] >= (q3+1.5*iqr)\n",
    "print(\"Higher:\\n\", higher_side)\n",
    "high = np.where(higher_side)\n",
    "print(high)\n",
    " \n",
    "# lower side \n",
    "lower_side = df_x['Item_Fat_Content'] <= (q1-1.5*iqr)\n",
    "print(\"Lower:\\n\", lower_side)\n",
    "low = np.where(lower_side)\n",
    "print(low)\n",
    "print(\"old Shape: \", df.shape)"
   ]
  },
  {
   "cell_type": "code",
   "execution_count": 961,
   "id": "a7596459",
   "metadata": {},
   "outputs": [
    {
     "name": "stdout",
     "output_type": "stream",
     "text": [
      "New Shape:  (4579, 11)\n"
     ]
    }
   ],
   "source": [
    "#removing the outliers\n",
    "df_x = df_x.drop(df_x.index[high])\n",
    " \n",
    "print(\"New Shape: \", df_x.shape)"
   ]
  },
  {
   "cell_type": "code",
   "execution_count": 962,
   "id": "08fbbdba",
   "metadata": {},
   "outputs": [
    {
     "data": {
      "text/plain": [
       "Text(0.5, 0, 'item_fat_content')"
      ]
     },
     "execution_count": 962,
     "metadata": {},
     "output_type": "execute_result"
    },
    {
     "data": {
      "image/png": "[encoded data removed]",
      "text/plain": [
       "<Figure size 432x288 with 1 Axes>"
      ]
     },
     "metadata": {
      "needs_background": "light"
     },
     "output_type": "display_data"
    }
   ],
   "source": [
    "#visualize the outliers by using boxplot\n",
    "sns.boxplot(data = df_x['Item_Fat_Content'])\n",
    "plt.xlabel('item_fat_content', fontsize = 15)"
   ]
  },
  {
   "cell_type": "code",
   "execution_count": 963,
   "id": "e8f77416",
   "metadata": {},
   "outputs": [
    {
     "data": {
      "text/plain": [
       "<seaborn.axisgrid.FacetGrid at 0x1603d50ac10>"
      ]
     },
     "execution_count": 963,
     "metadata": {},
     "output_type": "execute_result"
    },
    {
     "data": {
      "image/png": "[encoded data removed]",
      "text/plain": [
       "<Figure size 360x360 with 1 Axes>"
      ]
     },
     "metadata": {
      "needs_background": "light"
     },
     "output_type": "display_data"
    }
   ],
   "source": [
    "#visualize it by using categorical plot\n",
    "sns.catplot(x = 'Item_Fat_Content', y = 'Item_Outlet_Sales', data = df_x, kind = 'bar', hue = \"Item_Fat_Content\" )"
   ]
  },
  {
   "cell_type": "code",
   "execution_count": 964,
   "id": "054555d4",
   "metadata": {},
   "outputs": [
    {
     "data": {
      "text/plain": [
       "(4579, 11)"
      ]
     },
     "execution_count": 964,
     "metadata": {},
     "output_type": "execute_result"
    }
   ],
   "source": [
    "df_x.shape # shape of our dataset right now"
   ]
  },
  {
   "cell_type": "markdown",
   "id": "50fee224",
   "metadata": {},
   "source": [
    "# Column4: Item_Visibility"
   ]
  },
  {
   "cell_type": "code",
   "execution_count": 965,
   "id": "d996fe1e",
   "metadata": {},
   "outputs": [
    {
     "data": {
      "text/plain": [
       "array([0.0160473 , 0.01927822, 0.01676007, ..., 0.03518627, 0.14522065,\n",
       "       0.04487828])"
      ]
     },
     "execution_count": 965,
     "metadata": {},
     "output_type": "execute_result"
    }
   ],
   "source": [
    "df_x['Item_Visibility'].unique() #check the unique value"
   ]
  },
  {
   "cell_type": "code",
   "execution_count": 966,
   "id": "24f41ab6",
   "metadata": {},
   "outputs": [
    {
     "data": {
      "text/plain": [
       "False"
      ]
     },
     "execution_count": 966,
     "metadata": {},
     "output_type": "execute_result"
    }
   ],
   "source": [
    "df_x['Item_Visibility'].all() # check if there is any zero value lies in our column or not"
   ]
  },
  {
   "cell_type": "code",
   "execution_count": 967,
   "id": "caf2a149",
   "metadata": {},
   "outputs": [],
   "source": [
    "df_x['Item_Visibility'] = df_x['Item_Visibility'].replace(0,df_x['Item_Visibility'].mean()) # Replace the zero value by column mean"
   ]
  },
  {
   "cell_type": "code",
   "execution_count": 968,
   "id": "19fe277c",
   "metadata": {},
   "outputs": [
    {
     "data": {
      "text/plain": [
       "True"
      ]
     },
     "execution_count": 968,
     "metadata": {},
     "output_type": "execute_result"
    }
   ],
   "source": [
    "df_x['Item_Visibility'].all() # now check if there is still any zero value left in our column or not"
   ]
  },
  {
   "cell_type": "code",
   "execution_count": 969,
   "id": "790697c4",
   "metadata": {},
   "outputs": [
    {
     "data": {
      "text/plain": [
       "0.060710    290\n",
       "0.076975      3\n",
       "0.040912      2\n",
       "0.037734      2\n",
       "0.059836      2\n",
       "           ... \n",
       "0.114543      1\n",
       "0.044607      1\n",
       "0.026564      1\n",
       "0.019457      1\n",
       "0.137253      1\n",
       "Name: Item_Visibility, Length: 4212, dtype: int64"
      ]
     },
     "execution_count": 969,
     "metadata": {},
     "output_type": "execute_result"
    }
   ],
   "source": [
    "df_x['Item_Visibility'].value_counts() #check the number of counts assign"
   ]
  },
  {
   "cell_type": "code",
   "execution_count": 970,
   "id": "0601e3f2",
   "metadata": {},
   "outputs": [
    {
     "data": {
      "text/plain": [
       "<AxesSubplot:xlabel='Item_Visibility', ylabel='Item_Outlet_Sales'>"
      ]
     },
     "execution_count": 970,
     "metadata": {},
     "output_type": "execute_result"
    },
    {
     "data": {
      "image/png": "[encoded data removed]",
      "text/plain": [
       "<Figure size 432x288 with 1 Axes>"
      ]
     },
     "metadata": {
      "needs_background": "light"
     },
     "output_type": "display_data"
    }
   ],
   "source": [
    "sns.scatterplot(x = 'Item_Visibility', y = 'Item_Outlet_Sales', data = df_x ) #visualize it by using scatterplot"
   ]
  },
  {
   "cell_type": "code",
   "execution_count": 971,
   "id": "cfe5a8c9",
   "metadata": {},
   "outputs": [
    {
     "data": {
      "text/plain": [
       "<AxesSubplot:>"
      ]
     },
     "execution_count": 971,
     "metadata": {},
     "output_type": "execute_result"
    },
    {
     "data": {
      "image/png": "[encoded data removed]",
      "text/plain": [
       "<Figure size 432x288 with 1 Axes>"
      ]
     },
     "metadata": {
      "needs_background": "light"
     },
     "output_type": "display_data"
    }
   ],
   "source": [
    "sns.boxplot(data = df_x['Item_Visibility'] ) #visualize it by using boxplot"
   ]
  },
  {
   "cell_type": "code",
   "execution_count": 972,
   "id": "96505ac0",
   "metadata": {},
   "outputs": [],
   "source": [
    "#there are some outliers in our column, so, by using this method we are going to remove them.\n",
    "q1 = np.percentile( df_x['Item_Visibility'], 25, interpolation = 'midpoint')\n",
    "q1\n",
    "q3 = np.percentile( df_x['Item_Visibility'], 68, interpolation = 'midpoint')\n",
    "q3\n",
    "iqr = q3-q1"
   ]
  },
  {
   "cell_type": "code",
   "execution_count": 973,
   "id": "ec4a5208",
   "metadata": {},
   "outputs": [
    {
     "name": "stdout",
     "output_type": "stream",
     "text": [
      "Higher: \n",
      " 0       False\n",
      "1       False\n",
      "2       False\n",
      "4       False\n",
      "5       False\n",
      "        ...  \n",
      "8516    False\n",
      "8518    False\n",
      "8520    False\n",
      "8521     True\n",
      "8522    False\n",
      "Name: Item_Visibility, Length: 4579, dtype: bool\n",
      "(array([  32,   36,   39,   42,   68,   79,   99,  110,  129,  143,  154,\n",
      "        199,  200,  212,  221,  228,  234,  270,  310,  322,  326,  330,\n",
      "        334,  342,  347,  352,  378,  396,  427,  428,  435,  453,  463,\n",
      "        470,  478,  481,  486,  507,  515,  532,  545,  549,  586,  597,\n",
      "        605,  611,  613,  631,  639,  641,  676,  680,  688,  712,  716,\n",
      "        722,  738,  762,  775,  803,  828,  843,  849,  862,  894,  904,\n",
      "        909,  917,  948,  961,  978,  995, 1018, 1113, 1114, 1136, 1148,\n",
      "       1217, 1229, 1254, 1264, 1267, 1352, 1436, 1442, 1475, 1495, 1498,\n",
      "       1502, 1519, 1568, 1581, 1586, 1603, 1612, 1653, 1656, 1691, 1692,\n",
      "       1693, 1712, 1722, 1726, 1746, 1757, 1769, 1774, 1814, 1838, 1854,\n",
      "       1858, 1876, 1890, 1892, 1927, 1936, 1937, 1943, 1947, 1971, 1982,\n",
      "       1993, 2066, 2087, 2103, 2110, 2130, 2145, 2157, 2178, 2184, 2188,\n",
      "       2289, 2290, 2311, 2336, 2383, 2395, 2421, 2436, 2445, 2461, 2471,\n",
      "       2494, 2512, 2526, 2539, 2554, 2564, 2612, 2633, 2646, 2650, 2652,\n",
      "       2669, 2682, 2733, 2748, 2755, 2770, 2773, 2798, 2807, 2809, 2810,\n",
      "       2838, 2850, 2874, 2885, 2888, 2901, 2942, 2987, 2991, 3003, 3010,\n",
      "       3057, 3092, 3103, 3110, 3128, 3136, 3137, 3139, 3173, 3183, 3194,\n",
      "       3196, 3206, 3209, 3211, 3226, 3228, 3245, 3247, 3251, 3364, 3392,\n",
      "       3405, 3440, 3452, 3463, 3490, 3497, 3500, 3508, 3539, 3541, 3562,\n",
      "       3565, 3567, 3577, 3591, 3604, 3615, 3629, 3637, 3639, 3641, 3649,\n",
      "       3662, 3668, 3691, 3701, 3711, 3715, 3723, 3756, 3766, 3792, 3817,\n",
      "       3828, 3857, 3867, 3878, 3881, 3899, 3900, 3904, 3918, 3925, 3929,\n",
      "       3950, 3964, 3965, 3966, 3984, 4011, 4030, 4040, 4042, 4075, 4086,\n",
      "       4089, 4102, 4122, 4126, 4154, 4155, 4171, 4200, 4208, 4209, 4230,\n",
      "       4242, 4243, 4247, 4265, 4272, 4273, 4280, 4294, 4310, 4331, 4340,\n",
      "       4348, 4349, 4386, 4425, 4440, 4447, 4452, 4507, 4513, 4516, 4520,\n",
      "       4525, 4540, 4546, 4552, 4560, 4577], dtype=int64),)\n",
      "Lower: \n",
      " 0       False\n",
      "1       False\n",
      "2       False\n",
      "4       False\n",
      "5       False\n",
      "        ...  \n",
      "8516    False\n",
      "8518    False\n",
      "8520    False\n",
      "8521    False\n",
      "8522    False\n",
      "Name: Item_Visibility, Length: 4579, dtype: bool\n",
      "(array([], dtype=int64),)\n",
      "old Shape:  (8523, 12)\n"
     ]
    }
   ],
   "source": [
    "# higher side \n",
    "higher_side = df_x['Item_Visibility'] >= (q3+1.5*iqr)\n",
    "print(\"Higher: \\n\", higher_side)\n",
    "print(np.where(higher_side))\n",
    "high = np.where(higher_side)\n",
    " \n",
    "# lower side \n",
    "lower_side = df_x['Item_Visibility'] <= (q1-1.5*iqr)\n",
    "print(\"Lower: \\n\", lower_side)\n",
    "low = np.where(lower_side)\n",
    "print(np.where(lower_side))\n",
    "print(\"old Shape: \", df.shape)"
   ]
  },
  {
   "cell_type": "code",
   "execution_count": 974,
   "id": "c72eb0fd",
   "metadata": {},
   "outputs": [
    {
     "name": "stdout",
     "output_type": "stream",
     "text": [
      "New Shape:  (4287, 11)\n"
     ]
    }
   ],
   "source": [
    "#removing the outliers\n",
    "df_x = df_x.drop(df_x.index[high])\n",
    " \n",
    "print(\"New Shape: \", df_x.shape)"
   ]
  },
  {
   "cell_type": "code",
   "execution_count": 975,
   "id": "610a4e66",
   "metadata": {},
   "outputs": [
    {
     "data": {
      "text/plain": [
       "<AxesSubplot:>"
      ]
     },
     "execution_count": 975,
     "metadata": {},
     "output_type": "execute_result"
    },
    {
     "data": {
      "image/png": "[encoded data removed]",
      "text/plain": [
       "<Figure size 432x288 with 1 Axes>"
      ]
     },
     "metadata": {
      "needs_background": "light"
     },
     "output_type": "display_data"
    }
   ],
   "source": [
    "sns.boxplot(data = df_x['Item_Visibility'] ) #visualize it by using boxplot"
   ]
  },
  {
   "cell_type": "code",
   "execution_count": 976,
   "id": "52a52b45",
   "metadata": {},
   "outputs": [
    {
     "name": "stdout",
     "output_type": "stream",
     "text": [
      "Mean of the Column \"Item_Visibility\" is ------> 0.057892149091729544\n",
      "Std of the Column \"Item_Visibility\" is ------> 0.034068067448378585\n",
      "Median of the Column \"Item_Visibility\" is ------> 0.054474158\n",
      "Mode of the Column \"Item_Visibility\" is -------> 0.06071049516291763\n"
     ]
    }
   ],
   "source": [
    "#Find the mean, std, median and mode of the Column 'Item_Visibility'\n",
    "Item_Visibility_mean = df_x.Item_Visibility.mean()\n",
    "print('Mean of the Column \"Item_Visibility\" is ------>',Item_Visibility_mean)\n",
    "Item_Visibility_std = df_x.Item_Visibility.std()\n",
    "print('Std of the Column \"Item_Visibility\" is ------>', Item_Visibility_std)\n",
    "Item_Visibility_median = df_x.Item_Visibility.median()\n",
    "print('Median of the Column \"Item_Visibility\" is ------>', Item_Visibility_median)\n",
    "Item_Visibility_mode = st.mode(df_x['Item_Visibility'])\n",
    "print('Mode of the Column \"Item_Visibility\" is ------->', Item_Visibility_mode)"
   ]
  },
  {
   "cell_type": "code",
   "execution_count": null,
   "id": "789487b2",
   "metadata": {},
   "outputs": [],
   "source": [
    "#To get proper no9rmal distribution curve or bell curve, mean = median = mode.\n",
    "#here, in our case, mean, median and mode is approximately similar to each other."
   ]
  },
  {
   "cell_type": "code",
   "execution_count": 977,
   "id": "0ef22583",
   "metadata": {},
   "outputs": [
    {
     "data": {
      "text/plain": [
       "Text(0, 0.5, 'counts')"
      ]
     },
     "execution_count": 977,
     "metadata": {},
     "output_type": "execute_result"
    },
    {
     "data": {
      "image/png": "[encoded data removed]",
      "text/plain": [
       "<Figure size 432x288 with 1 Axes>"
      ]
     },
     "metadata": {
      "needs_background": "light"
     },
     "output_type": "display_data"
    }
   ],
   "source": [
    "# using distplot for normalization curve\n",
    "sns.distplot(df_x['Item_Visibility'], color='red', rug = False, hist = True, kde = True)\n",
    "plt.title('Normalization curve', fontsize=20)\n",
    "plt.xlabel('Item_Visibility', fontsize=14)\n",
    "plt.ylabel('counts', fontsize=14)"
   ]
  },
  {
   "cell_type": "code",
   "execution_count": 978,
   "id": "ca37124e",
   "metadata": {},
   "outputs": [
    {
     "data": {
      "text/plain": [
       "(4287, 11)"
      ]
     },
     "execution_count": 978,
     "metadata": {},
     "output_type": "execute_result"
    }
   ],
   "source": [
    "df_x.shape #shape of our dataset now"
   ]
  },
  {
   "cell_type": "markdown",
   "id": "573b0077",
   "metadata": {},
   "source": [
    "# Column5: Item_Type"
   ]
  },
  {
   "cell_type": "code",
   "execution_count": 979,
   "id": "36617ac6",
   "metadata": {},
   "outputs": [
    {
     "data": {
      "text/plain": [
       "array(['Dairy', 'Soft Drinks', 'Meat', 'Household', 'Baking Goods',\n",
       "       'Snack Foods', 'Fruits and Vegetables', 'Breakfast',\n",
       "       'Health and Hygiene', 'Frozen Foods', 'Hard Drinks', 'Canned',\n",
       "       'Starchy Foods', 'Breads', 'Others', 'Seafood'], dtype=object)"
      ]
     },
     "execution_count": 979,
     "metadata": {},
     "output_type": "execute_result"
    }
   ],
   "source": [
    "df_x['Item_Type'].unique() #check the unique value of the column"
   ]
  },
  {
   "cell_type": "code",
   "execution_count": 980,
   "id": "94598452",
   "metadata": {},
   "outputs": [
    {
     "data": {
      "text/plain": [
       "Snack Foods              607\n",
       "Fruits and Vegetables    607\n",
       "Household                462\n",
       "Frozen Foods             443\n",
       "Dairy                    346\n",
       "Baking Goods             332\n",
       "Canned                   325\n",
       "Health and Hygiene       263\n",
       "Soft Drinks              223\n",
       "Meat                     194\n",
       "Breads                   123\n",
       "Hard Drinks              114\n",
       "Others                    88\n",
       "Starchy Foods             80\n",
       "Breakfast                 50\n",
       "Seafood                   30\n",
       "Name: Item_Type, dtype: int64"
      ]
     },
     "execution_count": 980,
     "metadata": {},
     "output_type": "execute_result"
    }
   ],
   "source": [
    "df_x['Item_Type'].value_counts() #check the number of counts assign to a particular value in our column"
   ]
  },
  {
   "cell_type": "code",
   "execution_count": 981,
   "id": "06173565",
   "metadata": {},
   "outputs": [],
   "source": [
    "lab_enc = LabelEncoder() #using labelencoder to convert object value into integer"
   ]
  },
  {
   "cell_type": "code",
   "execution_count": 982,
   "id": "55f61c62",
   "metadata": {},
   "outputs": [],
   "source": [
    "df_type = lab_enc.fit_transform(df_x['Item_Type'])"
   ]
  },
  {
   "cell_type": "code",
   "execution_count": 983,
   "id": "3dea2166",
   "metadata": {},
   "outputs": [
    {
     "data": {
      "text/plain": [
       "0        4\n",
       "1       14\n",
       "2       10\n",
       "3        9\n",
       "4        0\n",
       "        ..\n",
       "4282     0\n",
       "4283    11\n",
       "4284    13\n",
       "4285     8\n",
       "4286    14\n",
       "Length: 4287, dtype: int32"
      ]
     },
     "execution_count": 983,
     "metadata": {},
     "output_type": "execute_result"
    }
   ],
   "source": [
    "pd.Series(df_type)"
   ]
  },
  {
   "cell_type": "code",
   "execution_count": 984,
   "id": "91ba19e2",
   "metadata": {},
   "outputs": [
    {
     "data": {
      "text/html": [
       "<div>\n",
       "<style scoped>\n",
       "    .dataframe tbody tr th:only-of-type {\n",
       "        vertical-align: middle;\n",
       "    }\n",
       "\n",
       "    .dataframe tbody tr th {\n",
       "        vertical-align: top;\n",
       "    }\n",
       "\n",
       "    .dataframe thead th {\n",
       "        text-align: right;\n",
       "    }\n",
       "</style>\n",
       "<table border=\"1\" class=\"dataframe\">\n",
       "  <thead>\n",
       "    <tr style=\"text-align: right;\">\n",
       "      <th></th>\n",
       "      <th>Item_Identifier</th>\n",
       "      <th>Item_Fat_Content</th>\n",
       "      <th>Item_Visibility</th>\n",
       "      <th>Item_Type</th>\n",
       "      <th>Item_MRP</th>\n",
       "      <th>Outlet_Identifier</th>\n",
       "      <th>Outlet_Establishment_Year</th>\n",
       "      <th>Outlet_Size</th>\n",
       "      <th>Outlet_Location_Type</th>\n",
       "      <th>Outlet_Type</th>\n",
       "      <th>Item_Outlet_Sales</th>\n",
       "    </tr>\n",
       "  </thead>\n",
       "  <tbody>\n",
       "    <tr>\n",
       "      <th>0</th>\n",
       "      <td>FDA15</td>\n",
       "      <td>1</td>\n",
       "      <td>0.016047</td>\n",
       "      <td>4</td>\n",
       "      <td>249.8092</td>\n",
       "      <td>OUT049</td>\n",
       "      <td>1999</td>\n",
       "      <td>Medium</td>\n",
       "      <td>Tier 1</td>\n",
       "      <td>Supermarket Type1</td>\n",
       "      <td>3735.1380</td>\n",
       "    </tr>\n",
       "    <tr>\n",
       "      <th>1</th>\n",
       "      <td>DRC01</td>\n",
       "      <td>2</td>\n",
       "      <td>0.019278</td>\n",
       "      <td>14</td>\n",
       "      <td>48.2692</td>\n",
       "      <td>OUT018</td>\n",
       "      <td>2009</td>\n",
       "      <td>Medium</td>\n",
       "      <td>Tier 3</td>\n",
       "      <td>Supermarket Type2</td>\n",
       "      <td>443.4228</td>\n",
       "    </tr>\n",
       "    <tr>\n",
       "      <th>2</th>\n",
       "      <td>FDN15</td>\n",
       "      <td>1</td>\n",
       "      <td>0.016760</td>\n",
       "      <td>10</td>\n",
       "      <td>141.6180</td>\n",
       "      <td>OUT049</td>\n",
       "      <td>1999</td>\n",
       "      <td>Medium</td>\n",
       "      <td>Tier 1</td>\n",
       "      <td>Supermarket Type1</td>\n",
       "      <td>2097.2700</td>\n",
       "    </tr>\n",
       "    <tr>\n",
       "      <th>4</th>\n",
       "      <td>NCD19</td>\n",
       "      <td>1</td>\n",
       "      <td>0.060710</td>\n",
       "      <td>9</td>\n",
       "      <td>53.8614</td>\n",
       "      <td>OUT013</td>\n",
       "      <td>1987</td>\n",
       "      <td>High</td>\n",
       "      <td>Tier 3</td>\n",
       "      <td>Supermarket Type1</td>\n",
       "      <td>994.7052</td>\n",
       "    </tr>\n",
       "    <tr>\n",
       "      <th>5</th>\n",
       "      <td>FDP36</td>\n",
       "      <td>2</td>\n",
       "      <td>0.060710</td>\n",
       "      <td>0</td>\n",
       "      <td>51.4008</td>\n",
       "      <td>OUT018</td>\n",
       "      <td>2009</td>\n",
       "      <td>Medium</td>\n",
       "      <td>Tier 3</td>\n",
       "      <td>Supermarket Type2</td>\n",
       "      <td>556.6088</td>\n",
       "    </tr>\n",
       "  </tbody>\n",
       "</table>\n",
       "</div>"
      ],
      "text/plain": [
       "  Item_Identifier  Item_Fat_Content  Item_Visibility  Item_Type  Item_MRP  \\\n",
       "0           FDA15                 1         0.016047          4  249.8092   \n",
       "1           DRC01                 2         0.019278         14   48.2692   \n",
       "2           FDN15                 1         0.016760         10  141.6180   \n",
       "4           NCD19                 1         0.060710          9   53.8614   \n",
       "5           FDP36                 2         0.060710          0   51.4008   \n",
       "\n",
       "  Outlet_Identifier  Outlet_Establishment_Year Outlet_Size  \\\n",
       "0            OUT049                       1999      Medium   \n",
       "1            OUT018                       2009      Medium   \n",
       "2            OUT049                       1999      Medium   \n",
       "4            OUT013                       1987        High   \n",
       "5            OUT018                       2009      Medium   \n",
       "\n",
       "  Outlet_Location_Type        Outlet_Type  Item_Outlet_Sales  \n",
       "0               Tier 1  Supermarket Type1          3735.1380  \n",
       "1               Tier 3  Supermarket Type2           443.4228  \n",
       "2               Tier 1  Supermarket Type1          2097.2700  \n",
       "4               Tier 3  Supermarket Type1           994.7052  \n",
       "5               Tier 3  Supermarket Type2           556.6088  "
      ]
     },
     "execution_count": 984,
     "metadata": {},
     "output_type": "execute_result"
    }
   ],
   "source": [
    "df_x['Item_Type'] = df_type #save the value in our column\n",
    "df_x.head(5)"
   ]
  },
  {
   "cell_type": "code",
   "execution_count": 985,
   "id": "11a87d79",
   "metadata": {},
   "outputs": [
    {
     "data": {
      "text/plain": [
       "Text(0.5, 0, 'Item_Type')"
      ]
     },
     "execution_count": 985,
     "metadata": {},
     "output_type": "execute_result"
    },
    {
     "data": {
      "image/png": "[encoded data removed]",
      "text/plain": [
       "<Figure size 432x288 with 1 Axes>"
      ]
     },
     "metadata": {
      "needs_background": "light"
     },
     "output_type": "display_data"
    }
   ],
   "source": [
    "sns.boxplot(data = df_x['Item_Type'] ) #visualize it by using boxplot\n",
    "plt.xlabel('Item_Type', fontsize = 15)"
   ]
  },
  {
   "cell_type": "code",
   "execution_count": 986,
   "id": "2e2c1166",
   "metadata": {},
   "outputs": [
    {
     "data": {
      "text/plain": [
       "<seaborn.axisgrid.FacetGrid at 0x1603e930250>"
      ]
     },
     "execution_count": 986,
     "metadata": {},
     "output_type": "execute_result"
    },
    {
     "data": {
      "image/png": "[encoded data removed]",
      "text/plain": [
       "<Figure size 360x360 with 1 Axes>"
      ]
     },
     "metadata": {
      "needs_background": "light"
     },
     "output_type": "display_data"
    }
   ],
   "source": [
    "sns.catplot(x = 'Item_Type', y = 'Item_Outlet_Sales', data = df_x ) #visualize it by using catplot"
   ]
  },
  {
   "cell_type": "code",
   "execution_count": 987,
   "id": "2e031907",
   "metadata": {},
   "outputs": [
    {
     "data": {
      "text/plain": [
       "Text(0.5, 0, 'Item_Type')"
      ]
     },
     "execution_count": 987,
     "metadata": {},
     "output_type": "execute_result"
    },
    {
     "data": {
      "image/png": "[encoded data removed]",
      "text/plain": [
       "<Figure size 432x288 with 1 Axes>"
      ]
     },
     "metadata": {
      "needs_background": "light"
     },
     "output_type": "display_data"
    }
   ],
   "source": [
    "sns.distplot(df_x['Item_Type'] ) #visualize it by using distplot\n",
    "plt.xlabel('Item_Type', fontsize = 15)"
   ]
  },
  {
   "cell_type": "code",
   "execution_count": 988,
   "id": "d0a2a315",
   "metadata": {},
   "outputs": [
    {
     "name": "stdout",
     "output_type": "stream",
     "text": [
      "Mean of the Column \"Item_Type\" is ------> 7.226498717051551\n",
      "Std of the Column \"Item_Type\" is ------> 4.220173252745417\n",
      "Median of the Column \"Item_Type\" is ------> 6.0\n",
      "Mode of the Column \"Item_Type\" is -------> 13\n"
     ]
    }
   ],
   "source": [
    "#Find the mean, std, median and mode of the Column 'Item_Type'\n",
    "Item_Type_mean = df_x.Item_Type.mean()\n",
    "print('Mean of the Column \"Item_Type\" is ------>',Item_Type_mean)\n",
    "Item_Type_std = df_x.Item_Type.std()\n",
    "print('Std of the Column \"Item_Type\" is ------>', Item_Type_std)\n",
    "Item_Type_median = df_x.Item_Type.median()\n",
    "print('Median of the Column \"Item_Type\" is ------>', Item_Type_median)\n",
    "Item_Type_mode = st.mode(df_x['Item_Type'])\n",
    "print('Mode of the Column \"Item_Type\" is ------->', Item_Type_mode)"
   ]
  },
  {
   "cell_type": "code",
   "execution_count": 989,
   "id": "310c58cb",
   "metadata": {},
   "outputs": [
    {
     "data": {
      "text/plain": [
       "False"
      ]
     },
     "execution_count": 989,
     "metadata": {},
     "output_type": "execute_result"
    }
   ],
   "source": [
    "df_x['Item_Type'].all() #check is there any zero lies in our column or not"
   ]
  },
  {
   "cell_type": "code",
   "execution_count": 990,
   "id": "7a40fc40",
   "metadata": {},
   "outputs": [
    {
     "data": {
      "text/plain": [
       "True"
      ]
     },
     "execution_count": 990,
     "metadata": {},
     "output_type": "execute_result"
    }
   ],
   "source": [
    "df_x['Item_Type'] = df_x['Item_Type'].replace(0,df_x['Item_Type'].mean()) #replace that zero values by its column mean\n",
    "df_x['Item_Type'].all()"
   ]
  },
  {
   "cell_type": "code",
   "execution_count": 991,
   "id": "c46617f7",
   "metadata": {},
   "outputs": [
    {
     "name": "stdout",
     "output_type": "stream",
     "text": [
      "Mean of the Column \"Item_Type\" is ------> 7.786143590870378\n",
      "Std of the Column \"Item_Type\" is ------> 3.6676109743634795\n",
      "Median of the Column \"Item_Type\" is ------> 7.226498717051551\n",
      "Mode of the Column \"Item_Type\" is -------> 13.0\n"
     ]
    }
   ],
   "source": [
    "#Find the mean, std, median and mode of the Column 'Item_Type'\n",
    "#again check the mean, median, mode value \n",
    "Item_Type_mean = df_x.Item_Type.mean()\n",
    "print('Mean of the Column \"Item_Type\" is ------>',Item_Type_mean)\n",
    "Item_Type_std = df_x.Item_Type.std()\n",
    "print('Std of the Column \"Item_Type\" is ------>', Item_Type_std)\n",
    "Item_Type_median = df_x.Item_Type.median()\n",
    "print('Median of the Column \"Item_Type\" is ------>', Item_Type_median)\n",
    "Item_Type_mode = st.mode(df_x['Item_Type'])\n",
    "print('Mode of the Column \"Item_Type\" is ------->', Item_Type_mode)"
   ]
  },
  {
   "cell_type": "code",
   "execution_count": 992,
   "id": "59f4e7b4",
   "metadata": {},
   "outputs": [
    {
     "data": {
      "text/plain": [
       "(4287, 11)"
      ]
     },
     "execution_count": 992,
     "metadata": {},
     "output_type": "execute_result"
    }
   ],
   "source": [
    "df_x.shape #check the shape of our dataset now "
   ]
  },
  {
   "cell_type": "markdown",
   "id": "c7f726b8",
   "metadata": {},
   "source": [
    "# Column6: Item_MRP"
   ]
  },
  {
   "cell_type": "code",
   "execution_count": 993,
   "id": "e3ebe9ca",
   "metadata": {},
   "outputs": [
    {
     "data": {
      "text/plain": [
       "array([249.8092,  48.2692, 141.618 , ..., 214.5218,  85.1224,  75.467 ])"
      ]
     },
     "execution_count": 993,
     "metadata": {},
     "output_type": "execute_result"
    }
   ],
   "source": [
    "df_x['Item_MRP'].unique() #chekc the unique value"
   ]
  },
  {
   "cell_type": "code",
   "execution_count": 994,
   "id": "ec7abec5",
   "metadata": {},
   "outputs": [
    {
     "data": {
      "text/plain": [
       "142.0154    6\n",
       "100.1016    4\n",
       "172.0422    4\n",
       "89.8856     3\n",
       "189.2530    3\n",
       "           ..\n",
       "93.6462     1\n",
       "112.2886    1\n",
       "186.4240    1\n",
       "45.5744     1\n",
       "47.0402     1\n",
       "Name: Item_MRP, Length: 3556, dtype: int64"
      ]
     },
     "execution_count": 994,
     "metadata": {},
     "output_type": "execute_result"
    }
   ],
   "source": [
    "df_x['Item_MRP'].value_counts() #check the number of counts assign to a particular value"
   ]
  },
  {
   "cell_type": "code",
   "execution_count": 995,
   "id": "8797f11f",
   "metadata": {},
   "outputs": [
    {
     "data": {
      "text/plain": [
       "True"
      ]
     },
     "execution_count": 995,
     "metadata": {},
     "output_type": "execute_result"
    }
   ],
   "source": [
    "df_x['Item_MRP'].all() #check is there any zero value lies in our column or not"
   ]
  },
  {
   "cell_type": "code",
   "execution_count": 996,
   "id": "e3c0f58f",
   "metadata": {},
   "outputs": [
    {
     "data": {
      "text/plain": [
       "0"
      ]
     },
     "execution_count": 996,
     "metadata": {},
     "output_type": "execute_result"
    }
   ],
   "source": [
    "df_x['Item_MRP'].isna().sum() # check the null values in our column"
   ]
  },
  {
   "cell_type": "code",
   "execution_count": 998,
   "id": "9bc74364",
   "metadata": {},
   "outputs": [
    {
     "data": {
      "text/plain": [
       "count    4287.000000\n",
       "mean      142.130159\n",
       "std        62.313385\n",
       "min        31.490000\n",
       "25%        95.141000\n",
       "50%       142.947000\n",
       "75%       187.089800\n",
       "max       266.888400\n",
       "Name: Item_MRP, dtype: float64"
      ]
     },
     "execution_count": 998,
     "metadata": {},
     "output_type": "execute_result"
    }
   ],
   "source": [
    "df_x['Item_MRP'].describe() #describe our column to get more information like mean, std etc"
   ]
  },
  {
   "cell_type": "code",
   "execution_count": 999,
   "id": "e0d09453",
   "metadata": {},
   "outputs": [
    {
     "data": {
      "text/plain": [
       "<AxesSubplot:>"
      ]
     },
     "execution_count": 999,
     "metadata": {},
     "output_type": "execute_result"
    },
    {
     "data": {
      "image/png": "[encoded data removed]",
      "text/plain": [
       "<Figure size 432x288 with 1 Axes>"
      ]
     },
     "metadata": {
      "needs_background": "light"
     },
     "output_type": "display_data"
    }
   ],
   "source": [
    "sns.boxplot(data = df_x['Item_MRP']) #visualize it by using boxplot"
   ]
  },
  {
   "cell_type": "code",
   "execution_count": 1000,
   "id": "efbd6c86",
   "metadata": {},
   "outputs": [
    {
     "data": {
      "text/plain": [
       "<AxesSubplot:xlabel='Item_MRP', ylabel='Density'>"
      ]
     },
     "execution_count": 1000,
     "metadata": {},
     "output_type": "execute_result"
    },
    {
     "data": {
      "image/png": "[encoded data removed]",
      "text/plain": [
       "<Figure size 432x288 with 1 Axes>"
      ]
     },
     "metadata": {
      "needs_background": "light"
     },
     "output_type": "display_data"
    }
   ],
   "source": [
    "sns.distplot(df_x['Item_MRP']) #visualize it by using distplot"
   ]
  },
  {
   "cell_type": "code",
   "execution_count": 1001,
   "id": "f616c8e8",
   "metadata": {},
   "outputs": [
    {
     "name": "stdout",
     "output_type": "stream",
     "text": [
      "Mean of the Column \"Item_MRP\" is ------> 142.13015913226027\n",
      "Std of the Column \"Item_MRP\" is ------> 62.313384743353815\n",
      "Median of the Column \"Item_MRP\" is ------> 142.947\n",
      "Mode of the Column \"Item_MRP\" is -------> 142.0154\n"
     ]
    }
   ],
   "source": [
    "#Find the mean, std, median and mode of the Column 'Item_MRP'\n",
    "Item_MRP_mean = df_x.Item_MRP.mean()\n",
    "print('Mean of the Column \"Item_MRP\" is ------>', Item_MRP_mean)\n",
    "Item_MRP_std = df_x.Item_MRP.std()\n",
    "print('Std of the Column \"Item_MRP\" is ------>', Item_MRP_std)\n",
    "Item_MRP_median = df_x.Item_MRP.median()\n",
    "print('Median of the Column \"Item_MRP\" is ------>', Item_MRP_median)\n",
    "Item_MRP_mode = st.mode(df_x['Item_MRP'])\n",
    "print('Mode of the Column \"Item_MRP\" is ------->', Item_MRP_mode)"
   ]
  },
  {
   "cell_type": "code",
   "execution_count": 1002,
   "id": "f404f31d",
   "metadata": {},
   "outputs": [
    {
     "data": {
      "text/plain": [
       "(4287, 11)"
      ]
     },
     "execution_count": 1002,
     "metadata": {},
     "output_type": "execute_result"
    }
   ],
   "source": [
    "df_x.shape # now check the shape of our dataset now"
   ]
  },
  {
   "cell_type": "markdown",
   "id": "7458bff1",
   "metadata": {},
   "source": [
    "# Column7: Outlet_Identifier"
   ]
  },
  {
   "cell_type": "code",
   "execution_count": 1003,
   "id": "af298db6",
   "metadata": {},
   "outputs": [
    {
     "data": {
      "text/plain": [
       "array(['OUT049', 'OUT018', 'OUT013', 'OUT046', 'OUT035'], dtype=object)"
      ]
     },
     "execution_count": 1003,
     "metadata": {},
     "output_type": "execute_result"
    }
   ],
   "source": [
    "df_x['Outlet_Identifier'].unique() #check the unique value in our dataset"
   ]
  },
  {
   "cell_type": "code",
   "execution_count": null,
   "id": "a15c2c49",
   "metadata": {},
   "outputs": [],
   "source": [
    "df_x['Outlet_Identifier'].describe() #describe our column to get more information like mean, std etc"
   ]
  },
  {
   "cell_type": "code",
   "execution_count": 1004,
   "id": "22da4859",
   "metadata": {},
   "outputs": [],
   "source": [
    "lab_enc = LabelEncoder() #Convert object into integer by using label encoder"
   ]
  },
  {
   "cell_type": "code",
   "execution_count": 1005,
   "id": "e0dbbd07",
   "metadata": {},
   "outputs": [
    {
     "data": {
      "text/plain": [
       "array([4, 1, 4, ..., 0, 2, 3])"
      ]
     },
     "execution_count": 1005,
     "metadata": {},
     "output_type": "execute_result"
    }
   ],
   "source": [
    "df_identifier = lab_enc.fit_transform(df_x['Outlet_Identifier'])\n",
    "df_identifier"
   ]
  },
  {
   "cell_type": "code",
   "execution_count": 1006,
   "id": "a046919a",
   "metadata": {},
   "outputs": [],
   "source": [
    "ab = pd.Series(df_identifier)"
   ]
  },
  {
   "cell_type": "code",
   "execution_count": 1007,
   "id": "dbb38153",
   "metadata": {},
   "outputs": [],
   "source": [
    "df_x['Outlet_Identifier'] = ab #save it into our column"
   ]
  },
  {
   "cell_type": "code",
   "execution_count": 1008,
   "id": "78d4c7a9",
   "metadata": {},
   "outputs": [
    {
     "data": {
      "text/plain": [
       "0    4.0\n",
       "1    1.0\n",
       "2    4.0\n",
       "4    1.0\n",
       "5    0.0\n",
       "Name: Outlet_Identifier, dtype: float64"
      ]
     },
     "execution_count": 1008,
     "metadata": {},
     "output_type": "execute_result"
    }
   ],
   "source": [
    "df_x['Outlet_Identifier'].head(5) #check the column now"
   ]
  },
  {
   "cell_type": "code",
   "execution_count": 1009,
   "id": "c77bf324",
   "metadata": {},
   "outputs": [
    {
     "data": {
      "text/plain": [
       "array([ 4.,  1.,  0.,  3.,  2., nan])"
      ]
     },
     "execution_count": 1009,
     "metadata": {},
     "output_type": "execute_result"
    }
   ],
   "source": [
    "df_x['Outlet_Identifier'].unique() # now, again check the unique value in our column or not"
   ]
  },
  {
   "cell_type": "code",
   "execution_count": 1010,
   "id": "bee0e841",
   "metadata": {},
   "outputs": [
    {
     "data": {
      "text/plain": [
       "2.0    443\n",
       "1.0    440\n",
       "0.0    436\n",
       "3.0    434\n",
       "4.0    428\n",
       "Name: Outlet_Identifier, dtype: int64"
      ]
     },
     "execution_count": 1010,
     "metadata": {},
     "output_type": "execute_result"
    }
   ],
   "source": [
    "df_x['Outlet_Identifier'].value_counts() #check the number of counts"
   ]
  },
  {
   "cell_type": "code",
   "execution_count": 1011,
   "id": "5df7605c",
   "metadata": {},
   "outputs": [
    {
     "data": {
      "text/plain": [
       "2106"
      ]
     },
     "execution_count": 1011,
     "metadata": {},
     "output_type": "execute_result"
    }
   ],
   "source": [
    "df_x['Outlet_Identifier'].isna().sum() # check the null values"
   ]
  },
  {
   "cell_type": "code",
   "execution_count": 1013,
   "id": "0fd7e703",
   "metadata": {},
   "outputs": [],
   "source": [
    "#there are lot of null values in this column, so, we decided to drop this column\n",
    "df_x.drop(columns = 'Outlet_Identifier', inplace = True) "
   ]
  },
  {
   "cell_type": "code",
   "execution_count": 1014,
   "id": "1e6aff9d",
   "metadata": {},
   "outputs": [
    {
     "data": {
      "text/html": [
       "<div>\n",
       "<style scoped>\n",
       "    .dataframe tbody tr th:only-of-type {\n",
       "        vertical-align: middle;\n",
       "    }\n",
       "\n",
       "    .dataframe tbody tr th {\n",
       "        vertical-align: top;\n",
       "    }\n",
       "\n",
       "    .dataframe thead th {\n",
       "        text-align: right;\n",
       "    }\n",
       "</style>\n",
       "<table border=\"1\" class=\"dataframe\">\n",
       "  <thead>\n",
       "    <tr style=\"text-align: right;\">\n",
       "      <th></th>\n",
       "      <th>Item_Identifier</th>\n",
       "      <th>Item_Fat_Content</th>\n",
       "      <th>Item_Visibility</th>\n",
       "      <th>Item_Type</th>\n",
       "      <th>Item_MRP</th>\n",
       "      <th>Outlet_Establishment_Year</th>\n",
       "      <th>Outlet_Size</th>\n",
       "      <th>Outlet_Location_Type</th>\n",
       "      <th>Outlet_Type</th>\n",
       "      <th>Item_Outlet_Sales</th>\n",
       "    </tr>\n",
       "  </thead>\n",
       "  <tbody>\n",
       "    <tr>\n",
       "      <th>0</th>\n",
       "      <td>FDA15</td>\n",
       "      <td>1</td>\n",
       "      <td>0.016047</td>\n",
       "      <td>4.000000</td>\n",
       "      <td>249.8092</td>\n",
       "      <td>1999</td>\n",
       "      <td>Medium</td>\n",
       "      <td>Tier 1</td>\n",
       "      <td>Supermarket Type1</td>\n",
       "      <td>3735.1380</td>\n",
       "    </tr>\n",
       "    <tr>\n",
       "      <th>1</th>\n",
       "      <td>DRC01</td>\n",
       "      <td>2</td>\n",
       "      <td>0.019278</td>\n",
       "      <td>14.000000</td>\n",
       "      <td>48.2692</td>\n",
       "      <td>2009</td>\n",
       "      <td>Medium</td>\n",
       "      <td>Tier 3</td>\n",
       "      <td>Supermarket Type2</td>\n",
       "      <td>443.4228</td>\n",
       "    </tr>\n",
       "    <tr>\n",
       "      <th>2</th>\n",
       "      <td>FDN15</td>\n",
       "      <td>1</td>\n",
       "      <td>0.016760</td>\n",
       "      <td>10.000000</td>\n",
       "      <td>141.6180</td>\n",
       "      <td>1999</td>\n",
       "      <td>Medium</td>\n",
       "      <td>Tier 1</td>\n",
       "      <td>Supermarket Type1</td>\n",
       "      <td>2097.2700</td>\n",
       "    </tr>\n",
       "    <tr>\n",
       "      <th>4</th>\n",
       "      <td>NCD19</td>\n",
       "      <td>1</td>\n",
       "      <td>0.060710</td>\n",
       "      <td>9.000000</td>\n",
       "      <td>53.8614</td>\n",
       "      <td>1987</td>\n",
       "      <td>High</td>\n",
       "      <td>Tier 3</td>\n",
       "      <td>Supermarket Type1</td>\n",
       "      <td>994.7052</td>\n",
       "    </tr>\n",
       "    <tr>\n",
       "      <th>5</th>\n",
       "      <td>FDP36</td>\n",
       "      <td>2</td>\n",
       "      <td>0.060710</td>\n",
       "      <td>7.226499</td>\n",
       "      <td>51.4008</td>\n",
       "      <td>2009</td>\n",
       "      <td>Medium</td>\n",
       "      <td>Tier 3</td>\n",
       "      <td>Supermarket Type2</td>\n",
       "      <td>556.6088</td>\n",
       "    </tr>\n",
       "  </tbody>\n",
       "</table>\n",
       "</div>"
      ],
      "text/plain": [
       "  Item_Identifier  Item_Fat_Content  Item_Visibility  Item_Type  Item_MRP  \\\n",
       "0           FDA15                 1         0.016047   4.000000  249.8092   \n",
       "1           DRC01                 2         0.019278  14.000000   48.2692   \n",
       "2           FDN15                 1         0.016760  10.000000  141.6180   \n",
       "4           NCD19                 1         0.060710   9.000000   53.8614   \n",
       "5           FDP36                 2         0.060710   7.226499   51.4008   \n",
       "\n",
       "   Outlet_Establishment_Year Outlet_Size Outlet_Location_Type  \\\n",
       "0                       1999      Medium               Tier 1   \n",
       "1                       2009      Medium               Tier 3   \n",
       "2                       1999      Medium               Tier 1   \n",
       "4                       1987        High               Tier 3   \n",
       "5                       2009      Medium               Tier 3   \n",
       "\n",
       "         Outlet_Type  Item_Outlet_Sales  \n",
       "0  Supermarket Type1          3735.1380  \n",
       "1  Supermarket Type2           443.4228  \n",
       "2  Supermarket Type1          2097.2700  \n",
       "4  Supermarket Type1           994.7052  \n",
       "5  Supermarket Type2           556.6088  "
      ]
     },
     "execution_count": 1014,
     "metadata": {},
     "output_type": "execute_result"
    }
   ],
   "source": [
    "df_x.head(5) #our required dataset"
   ]
  },
  {
   "cell_type": "code",
   "execution_count": 1015,
   "id": "b219eb63",
   "metadata": {},
   "outputs": [
    {
     "data": {
      "text/plain": [
       "(4287, 10)"
      ]
     },
     "execution_count": 1015,
     "metadata": {},
     "output_type": "execute_result"
    }
   ],
   "source": [
    "df_x.shape #check the shape of our dataset now"
   ]
  },
  {
   "cell_type": "markdown",
   "id": "29abc3d7",
   "metadata": {},
   "source": [
    "# Column8: Outlet_Establishment_Year"
   ]
  },
  {
   "cell_type": "code",
   "execution_count": 1016,
   "id": "f7d05856",
   "metadata": {},
   "outputs": [
    {
     "data": {
      "text/plain": [
       "array([1999, 2009, 1987, 1997, 2004], dtype=int64)"
      ]
     },
     "execution_count": 1016,
     "metadata": {},
     "output_type": "execute_result"
    }
   ],
   "source": [
    "df_x['Outlet_Establishment_Year'].unique() #check the unique value "
   ]
  },
  {
   "cell_type": "code",
   "execution_count": 1017,
   "id": "16e70cdc",
   "metadata": {},
   "outputs": [
    {
     "data": {
      "text/plain": [
       "2004    864\n",
       "1997    862\n",
       "1987    860\n",
       "1999    851\n",
       "2009    850\n",
       "Name: Outlet_Establishment_Year, dtype: int64"
      ]
     },
     "execution_count": 1017,
     "metadata": {},
     "output_type": "execute_result"
    }
   ],
   "source": [
    "df_x['Outlet_Establishment_Year'].value_counts() #check the number of counts "
   ]
  },
  {
   "cell_type": "code",
   "execution_count": 1018,
   "id": "4f481009",
   "metadata": {},
   "outputs": [
    {
     "data": {
      "text/plain": [
       "True"
      ]
     },
     "execution_count": 1018,
     "metadata": {},
     "output_type": "execute_result"
    }
   ],
   "source": [
    "df_x['Outlet_Establishment_Year'].all() #check the zero values"
   ]
  },
  {
   "cell_type": "code",
   "execution_count": 1019,
   "id": "cb7c8e5f",
   "metadata": {},
   "outputs": [
    {
     "data": {
      "text/plain": [
       "0"
      ]
     },
     "execution_count": 1019,
     "metadata": {},
     "output_type": "execute_result"
    }
   ],
   "source": [
    "df_x['Outlet_Establishment_Year'].isna().sum() #check the null values "
   ]
  },
  {
   "cell_type": "code",
   "execution_count": 1020,
   "id": "2d83e78f",
   "metadata": {},
   "outputs": [
    {
     "data": {
      "text/plain": [
       "count    4287.000000\n",
       "mean     1999.181012\n",
       "std         7.384948\n",
       "min      1987.000000\n",
       "25%      1997.000000\n",
       "50%      1999.000000\n",
       "75%      2004.000000\n",
       "max      2009.000000\n",
       "Name: Outlet_Establishment_Year, dtype: float64"
      ]
     },
     "execution_count": 1020,
     "metadata": {},
     "output_type": "execute_result"
    }
   ],
   "source": [
    "df_x['Outlet_Establishment_Year'].describe() # #describe our column to get more information like mean, std etc"
   ]
  },
  {
   "cell_type": "code",
   "execution_count": 1021,
   "id": "7220a560",
   "metadata": {},
   "outputs": [
    {
     "data": {
      "text/plain": [
       "<AxesSubplot:>"
      ]
     },
     "execution_count": 1021,
     "metadata": {},
     "output_type": "execute_result"
    },
    {
     "data": {
      "image/png": "[encoded data removed]",
      "text/plain": [
       "<Figure size 432x288 with 1 Axes>"
      ]
     },
     "metadata": {
      "needs_background": "light"
     },
     "output_type": "display_data"
    }
   ],
   "source": [
    "sns.boxplot(data = df_x['Outlet_Establishment_Year']) #visualize it by using boxplot"
   ]
  },
  {
   "cell_type": "code",
   "execution_count": 1022,
   "id": "640124f1",
   "metadata": {},
   "outputs": [
    {
     "data": {
      "text/plain": [
       "<AxesSubplot:xlabel='Outlet_Establishment_Year', ylabel='Density'>"
      ]
     },
     "execution_count": 1022,
     "metadata": {},
     "output_type": "execute_result"
    },
    {
     "data": {
      "image/png": "[encoded data removed]",
      "text/plain": [
       "<Figure size 432x288 with 1 Axes>"
      ]
     },
     "metadata": {
      "needs_background": "light"
     },
     "output_type": "display_data"
    }
   ],
   "source": [
    "sns.distplot(df_x['Outlet_Establishment_Year']) #visualize it by using distplot"
   ]
  },
  {
   "cell_type": "code",
   "execution_count": 1023,
   "id": "13bf7b43",
   "metadata": {},
   "outputs": [
    {
     "name": "stdout",
     "output_type": "stream",
     "text": [
      "Mean of the Column \"Outlet_Establishment_Year\" is ------> 1999.1810123629577\n",
      "Std of the Column \"Outlet_Establishment_Year\" is ------> 7.38494790307361\n",
      "Median of the Column \"Outlet_Establishment_Year\" is ------> 1999.0\n",
      "Mode of the Column \"Outlet_Establishment_Year\" is -------> 2004\n"
     ]
    }
   ],
   "source": [
    "#Find the mean, std, median and mode of the Column 'Outlet_Size'\n",
    "Outlet_Establishment_Year_mean = df_x.Outlet_Establishment_Year.mean()\n",
    "print('Mean of the Column \"Outlet_Establishment_Year\" is ------>',Outlet_Establishment_Year_mean)\n",
    "Outlet_Establishment_Year_std = df_x.Outlet_Establishment_Year.std()\n",
    "print('Std of the Column \"Outlet_Establishment_Year\" is ------>', Outlet_Establishment_Year_std)\n",
    "Outlet_Establishment_Year_median = df_x.Outlet_Establishment_Year.median()\n",
    "print('Median of the Column \"Outlet_Establishment_Year\" is ------>', Outlet_Establishment_Year_median)\n",
    "Outlet_Establishment_Year_mode = st.mode(df_x['Outlet_Establishment_Year'])\n",
    "print('Mode of the Column \"Outlet_Establishment_Year\" is ------->', Outlet_Establishment_Year_mode)"
   ]
  },
  {
   "cell_type": "code",
   "execution_count": 1024,
   "id": "1b4547a4",
   "metadata": {},
   "outputs": [
    {
     "data": {
      "text/plain": [
       "(4287, 10)"
      ]
     },
     "execution_count": 1024,
     "metadata": {},
     "output_type": "execute_result"
    }
   ],
   "source": [
    "df_x.shape #now, check the shape of our dataset"
   ]
  },
  {
   "cell_type": "markdown",
   "id": "7e1728b4",
   "metadata": {},
   "source": [
    "# Column9: Outlet_Size"
   ]
  },
  {
   "cell_type": "code",
   "execution_count": 1025,
   "id": "4bdcc6bc",
   "metadata": {},
   "outputs": [
    {
     "data": {
      "text/plain": [
       "array(['Medium', 'High', 'Small'], dtype=object)"
      ]
     },
     "execution_count": 1025,
     "metadata": {},
     "output_type": "execute_result"
    }
   ],
   "source": [
    "df_x['Outlet_Size'].unique() # check the unique value"
   ]
  },
  {
   "cell_type": "code",
   "execution_count": 1026,
   "id": "e393ed4a",
   "metadata": {},
   "outputs": [
    {
     "data": {
      "text/plain": [
       "Small     1726\n",
       "Medium    1701\n",
       "High       860\n",
       "Name: Outlet_Size, dtype: int64"
      ]
     },
     "execution_count": 1026,
     "metadata": {},
     "output_type": "execute_result"
    }
   ],
   "source": [
    "df_x['Outlet_Size'].value_counts() # check the number of counts"
   ]
  },
  {
   "cell_type": "code",
   "execution_count": 1027,
   "id": "431a3515",
   "metadata": {},
   "outputs": [
    {
     "data": {
      "text/plain": [
       "count      4287\n",
       "unique        3\n",
       "top       Small\n",
       "freq       1726\n",
       "Name: Outlet_Size, dtype: object"
      ]
     },
     "execution_count": 1027,
     "metadata": {},
     "output_type": "execute_result"
    }
   ],
   "source": [
    "df_x['Outlet_Size'].describe() # describe the column to get more information about mean, std etc"
   ]
  },
  {
   "cell_type": "code",
   "execution_count": 1028,
   "id": "a6326492",
   "metadata": {},
   "outputs": [
    {
     "data": {
      "text/plain": [
       "0"
      ]
     },
     "execution_count": 1028,
     "metadata": {},
     "output_type": "execute_result"
    }
   ],
   "source": [
    "df_x['Outlet_Size'].isna().sum() #check the null values"
   ]
  },
  {
   "cell_type": "code",
   "execution_count": 1029,
   "id": "a389317e",
   "metadata": {},
   "outputs": [],
   "source": [
    "lab_enc = LabelEncoder() # now convert our column values into integers"
   ]
  },
  {
   "cell_type": "code",
   "execution_count": 1030,
   "id": "2ef721e4",
   "metadata": {},
   "outputs": [],
   "source": [
    "df_size = lab_enc.fit_transform(df_x['Outlet_Size']) "
   ]
  },
  {
   "cell_type": "code",
   "execution_count": 1031,
   "id": "c330477e",
   "metadata": {},
   "outputs": [
    {
     "data": {
      "text/plain": [
       "0       1\n",
       "1       1\n",
       "2       1\n",
       "3       0\n",
       "4       1\n",
       "       ..\n",
       "4282    1\n",
       "4283    1\n",
       "4284    0\n",
       "4285    2\n",
       "4286    2\n",
       "Length: 4287, dtype: int32"
      ]
     },
     "execution_count": 1031,
     "metadata": {},
     "output_type": "execute_result"
    }
   ],
   "source": [
    "pd.Series(df_size)"
   ]
  },
  {
   "cell_type": "code",
   "execution_count": 1032,
   "id": "2b6c0782",
   "metadata": {},
   "outputs": [
    {
     "data": {
      "text/plain": [
       "0    1\n",
       "1    1\n",
       "2    1\n",
       "4    0\n",
       "5    1\n",
       "Name: Outlet_Size, dtype: int32"
      ]
     },
     "execution_count": 1032,
     "metadata": {},
     "output_type": "execute_result"
    }
   ],
   "source": [
    "df_x['Outlet_Size'] = df_size\n",
    "df_x['Outlet_Size'].head() # save it into our column"
   ]
  },
  {
   "cell_type": "code",
   "execution_count": 1033,
   "id": "c0a64bf3",
   "metadata": {},
   "outputs": [
    {
     "data": {
      "text/plain": [
       "array([1, 0, 2])"
      ]
     },
     "execution_count": 1033,
     "metadata": {},
     "output_type": "execute_result"
    }
   ],
   "source": [
    "df_x['Outlet_Size'].unique() # now, again check the unique values"
   ]
  },
  {
   "cell_type": "code",
   "execution_count": 1034,
   "id": "e7f4524d",
   "metadata": {},
   "outputs": [
    {
     "data": {
      "text/plain": [
       "<AxesSubplot:xlabel='Outlet_Size', ylabel='Density'>"
      ]
     },
     "execution_count": 1034,
     "metadata": {},
     "output_type": "execute_result"
    },
    {
     "data": {
      "image/png": "[encoded data removed]",
      "text/plain": [
       "<Figure size 432x288 with 1 Axes>"
      ]
     },
     "metadata": {
      "needs_background": "light"
     },
     "output_type": "display_data"
    }
   ],
   "source": [
    "sns.distplot(df_x['Outlet_Size']) #visualize it by using distplot"
   ]
  },
  {
   "cell_type": "code",
   "execution_count": 1035,
   "id": "858f499d",
   "metadata": {},
   "outputs": [
    {
     "data": {
      "text/plain": [
       "2    1726\n",
       "1    1701\n",
       "0     860\n",
       "Name: Outlet_Size, dtype: int64"
      ]
     },
     "execution_count": 1035,
     "metadata": {},
     "output_type": "execute_result"
    }
   ],
   "source": [
    "df_x['Outlet_Size'].value_counts() # count the values"
   ]
  },
  {
   "cell_type": "code",
   "execution_count": 1036,
   "id": "cf187fc4",
   "metadata": {},
   "outputs": [
    {
     "data": {
      "text/plain": [
       "count    4287.000000\n",
       "mean        1.202006\n",
       "std         0.750029\n",
       "min         0.000000\n",
       "25%         1.000000\n",
       "50%         1.000000\n",
       "75%         2.000000\n",
       "max         2.000000\n",
       "Name: Outlet_Size, dtype: float64"
      ]
     },
     "execution_count": 1036,
     "metadata": {},
     "output_type": "execute_result"
    }
   ],
   "source": [
    "df_x['Outlet_Size'].describe() # describe the column"
   ]
  },
  {
   "cell_type": "code",
   "execution_count": 1037,
   "id": "5ffef86d",
   "metadata": {},
   "outputs": [
    {
     "name": "stdout",
     "output_type": "stream",
     "text": [
      "Mean of the Column \"Outlet_Size\" is ------> 1.2020060648472124\n",
      "Std of the Column \"Outlet_Size\" is ------> 0.7500292027045034\n",
      "Median of the Column \"Outlet_Size\" is ------> 1.0\n",
      "Mode of the Column \"Outlet_Size\" is -------> 2\n"
     ]
    }
   ],
   "source": [
    "#Find the mean, std, median and mode of the Column 'Outlet_Size'\n",
    "Outlet_Size_mean = df_x.Outlet_Size.mean()\n",
    "print('Mean of the Column \"Outlet_Size\" is ------>',Outlet_Size_mean)\n",
    "Outlet_Size_std = df_x.Outlet_Size.std()\n",
    "print('Std of the Column \"Outlet_Size\" is ------>', Outlet_Size_std)\n",
    "Outlet_Size_median = df_x.Outlet_Size.median()\n",
    "print('Median of the Column \"Outlet_Size\" is ------>', Outlet_Size_median)\n",
    "Outlet_Size_mode = st.mode(df_x['Outlet_Size'])\n",
    "print('Mode of the Column \"Outlet_Size\" is ------->', Outlet_Size_mode)"
   ]
  },
  {
   "cell_type": "code",
   "execution_count": 1038,
   "id": "654ac35c",
   "metadata": {},
   "outputs": [
    {
     "data": {
      "text/plain": [
       "(4287, 10)"
      ]
     },
     "execution_count": 1038,
     "metadata": {},
     "output_type": "execute_result"
    }
   ],
   "source": [
    "df_x.shape #now, check the shape of our column"
   ]
  },
  {
   "cell_type": "markdown",
   "id": "2d963525",
   "metadata": {},
   "source": [
    "# Column10: Outlet_Location_Type"
   ]
  },
  {
   "cell_type": "code",
   "execution_count": 1039,
   "id": "ca5411c9",
   "metadata": {},
   "outputs": [
    {
     "data": {
      "text/plain": [
       "array(['Tier 1', 'Tier 3', 'Tier 2'], dtype=object)"
      ]
     },
     "execution_count": 1039,
     "metadata": {},
     "output_type": "execute_result"
    }
   ],
   "source": [
    "df_x['Outlet_Location_Type'].unique() # chekc the unique value"
   ]
  },
  {
   "cell_type": "code",
   "execution_count": 1040,
   "id": "52cf2af9",
   "metadata": {},
   "outputs": [
    {
     "data": {
      "text/plain": [
       "Tier 1    1713\n",
       "Tier 3    1710\n",
       "Tier 2     864\n",
       "Name: Outlet_Location_Type, dtype: int64"
      ]
     },
     "execution_count": 1040,
     "metadata": {},
     "output_type": "execute_result"
    }
   ],
   "source": [
    "df_x['Outlet_Location_Type'].value_counts() #check the number of counts"
   ]
  },
  {
   "cell_type": "code",
   "execution_count": 1041,
   "id": "9491fb56",
   "metadata": {},
   "outputs": [],
   "source": [
    "lab_enc = LabelEncoder() #use label encoder to convert object values into integer"
   ]
  },
  {
   "cell_type": "code",
   "execution_count": 1042,
   "id": "71cd08f1",
   "metadata": {},
   "outputs": [],
   "source": [
    "df_loc = lab_enc.fit_transform(df_x['Outlet_Location_Type'])"
   ]
  },
  {
   "cell_type": "code",
   "execution_count": 1043,
   "id": "1edb0346",
   "metadata": {},
   "outputs": [
    {
     "data": {
      "text/plain": [
       "0       0\n",
       "1       2\n",
       "2       0\n",
       "3       2\n",
       "4       2\n",
       "       ..\n",
       "4282    2\n",
       "4283    2\n",
       "4284    2\n",
       "4285    1\n",
       "4286    0\n",
       "Length: 4287, dtype: int32"
      ]
     },
     "execution_count": 1043,
     "metadata": {},
     "output_type": "execute_result"
    }
   ],
   "source": [
    "pd.Series(df_loc)"
   ]
  },
  {
   "cell_type": "code",
   "execution_count": 1045,
   "id": "a7a39975",
   "metadata": {},
   "outputs": [],
   "source": [
    "df_x['Outlet_Location_Type'] = df_loc #save values into our column"
   ]
  },
  {
   "cell_type": "code",
   "execution_count": 1046,
   "id": "7f4c16a7",
   "metadata": {},
   "outputs": [
    {
     "data": {
      "text/plain": [
       "array([0, 2, 1])"
      ]
     },
     "execution_count": 1046,
     "metadata": {},
     "output_type": "execute_result"
    }
   ],
   "source": [
    "df_x['Outlet_Location_Type'].unique() # now, check the unique values"
   ]
  },
  {
   "cell_type": "code",
   "execution_count": 1048,
   "id": "ea5d6b6f",
   "metadata": {},
   "outputs": [
    {
     "data": {
      "text/plain": [
       "0"
      ]
     },
     "execution_count": 1048,
     "metadata": {},
     "output_type": "execute_result"
    }
   ],
   "source": [
    "df_x['Outlet_Location_Type'].isna().sum()  # check the null values "
   ]
  },
  {
   "cell_type": "code",
   "execution_count": 1049,
   "id": "e7773119",
   "metadata": {},
   "outputs": [
    {
     "data": {
      "text/plain": [
       "<seaborn.axisgrid.FacetGrid at 0x1603ecb6a30>"
      ]
     },
     "execution_count": 1049,
     "metadata": {},
     "output_type": "execute_result"
    },
    {
     "data": {
      "image/png": "[encoded data removed]",
      "text/plain": [
       "<Figure size 360x360 with 1 Axes>"
      ]
     },
     "metadata": {
      "needs_background": "light"
     },
     "output_type": "display_data"
    }
   ],
   "source": [
    "sns.catplot(x = 'Outlet_Location_Type', y = 'Item_Outlet_Sales', data = df_x ) #visualize it by using catplot"
   ]
  },
  {
   "cell_type": "code",
   "execution_count": 1050,
   "id": "ca0b8528",
   "metadata": {},
   "outputs": [
    {
     "data": {
      "text/plain": [
       "0    1713\n",
       "2    1710\n",
       "1     864\n",
       "Name: Outlet_Location_Type, dtype: int64"
      ]
     },
     "execution_count": 1050,
     "metadata": {},
     "output_type": "execute_result"
    }
   ],
   "source": [
    "df_x['Outlet_Location_Type'].value_counts() #check the number of counts"
   ]
  },
  {
   "cell_type": "code",
   "execution_count": 1051,
   "id": "a326dffe",
   "metadata": {},
   "outputs": [
    {
     "data": {
      "text/plain": [
       "(4287, 10)"
      ]
     },
     "execution_count": 1051,
     "metadata": {},
     "output_type": "execute_result"
    }
   ],
   "source": [
    "df_x.shape # now, check the shape of pur dataset"
   ]
  },
  {
   "cell_type": "markdown",
   "id": "2b580abb",
   "metadata": {},
   "source": [
    "# Column11: Outlet_Type"
   ]
  },
  {
   "cell_type": "code",
   "execution_count": 1052,
   "id": "c406187b",
   "metadata": {},
   "outputs": [
    {
     "data": {
      "text/plain": [
       "array(['Supermarket Type1', 'Supermarket Type2'], dtype=object)"
      ]
     },
     "execution_count": 1052,
     "metadata": {},
     "output_type": "execute_result"
    }
   ],
   "source": [
    "df_x['Outlet_Type'].unique() # check the unique values"
   ]
  },
  {
   "cell_type": "code",
   "execution_count": 1053,
   "id": "a7a88d1c",
   "metadata": {},
   "outputs": [],
   "source": [
    "lab_enc = LabelEncoder() #use label encoder to convert object into integer"
   ]
  },
  {
   "cell_type": "code",
   "execution_count": 1054,
   "id": "4fd0d193",
   "metadata": {},
   "outputs": [],
   "source": [
    "df_ot = lab_enc.fit_transform(df_x['Outlet_Type'])"
   ]
  },
  {
   "cell_type": "code",
   "execution_count": 1055,
   "id": "83bba8d1",
   "metadata": {},
   "outputs": [
    {
     "data": {
      "text/plain": [
       "0       0\n",
       "1       1\n",
       "2       0\n",
       "3       0\n",
       "4       1\n",
       "       ..\n",
       "4282    1\n",
       "4283    1\n",
       "4284    0\n",
       "4285    0\n",
       "4286    0\n",
       "Length: 4287, dtype: int32"
      ]
     },
     "execution_count": 1055,
     "metadata": {},
     "output_type": "execute_result"
    }
   ],
   "source": [
    "pd.Series(df_ot)"
   ]
  },
  {
   "cell_type": "code",
   "execution_count": 1056,
   "id": "53334236",
   "metadata": {},
   "outputs": [],
   "source": [
    "df_x['Outlet_Type'] = df_ot #save the values in our column"
   ]
  },
  {
   "cell_type": "code",
   "execution_count": 1057,
   "id": "72992143",
   "metadata": {},
   "outputs": [
    {
     "data": {
      "text/plain": [
       "array([0, 1])"
      ]
     },
     "execution_count": 1057,
     "metadata": {},
     "output_type": "execute_result"
    }
   ],
   "source": [
    "df_x['Outlet_Type'].unique() #now, check the unique value"
   ]
  },
  {
   "cell_type": "code",
   "execution_count": 1058,
   "id": "db70ab1f",
   "metadata": {},
   "outputs": [
    {
     "data": {
      "text/plain": [
       "0    3437\n",
       "1     850\n",
       "Name: Outlet_Type, dtype: int64"
      ]
     },
     "execution_count": 1058,
     "metadata": {},
     "output_type": "execute_result"
    }
   ],
   "source": [
    "df_x['Outlet_Type'].value_counts() #check the number of counts"
   ]
  },
  {
   "cell_type": "code",
   "execution_count": 1060,
   "id": "808c5c65",
   "metadata": {},
   "outputs": [
    {
     "data": {
      "text/plain": [
       "0"
      ]
     },
     "execution_count": 1060,
     "metadata": {},
     "output_type": "execute_result"
    }
   ],
   "source": [
    "df_x['Outlet_Type'].isna().sum() # check thye null values"
   ]
  },
  {
   "cell_type": "code",
   "execution_count": 1061,
   "id": "b57e7a0d",
   "metadata": {},
   "outputs": [
    {
     "data": {
      "text/plain": [
       "(4287, 10)"
      ]
     },
     "execution_count": 1061,
     "metadata": {},
     "output_type": "execute_result"
    }
   ],
   "source": [
    "df_x.shape #now, check the shape of our dataset"
   ]
  },
  {
   "cell_type": "markdown",
   "id": "eeb28ed4",
   "metadata": {},
   "source": [
    "# Label: Item_Outlet_Sales"
   ]
  },
  {
   "cell_type": "code",
   "execution_count": 1062,
   "id": "e9c1b6f0",
   "metadata": {},
   "outputs": [
    {
     "data": {
      "text/plain": [
       "array([3735.138 ,  443.4228, 2097.27  , ..., 2479.4392,  858.882 ,\n",
       "       2778.3834])"
      ]
     },
     "execution_count": 1062,
     "metadata": {},
     "output_type": "execute_result"
    }
   ],
   "source": [
    "df_x['Item_Outlet_Sales'].unique() # check the unique values"
   ]
  },
  {
   "cell_type": "code",
   "execution_count": 1063,
   "id": "98a7fd61",
   "metadata": {},
   "outputs": [
    {
     "data": {
      "text/plain": [
       "1438.1280    11\n",
       "703.0848     10\n",
       "1342.2528    10\n",
       "958.7520      9\n",
       "1416.8224     9\n",
       "             ..\n",
       "3195.8400     1\n",
       "1050.6324     1\n",
       "1443.4544     1\n",
       "4681.9056     1\n",
       "3653.9104     1\n",
       "Name: Item_Outlet_Sales, Length: 2329, dtype: int64"
      ]
     },
     "execution_count": 1063,
     "metadata": {},
     "output_type": "execute_result"
    }
   ],
   "source": [
    "df_x['Item_Outlet_Sales'].value_counts() #check the number of counts"
   ]
  },
  {
   "cell_type": "code",
   "execution_count": 1064,
   "id": "30c1dc00",
   "metadata": {},
   "outputs": [
    {
     "data": {
      "text/plain": [
       "True"
      ]
     },
     "execution_count": 1064,
     "metadata": {},
     "output_type": "execute_result"
    }
   ],
   "source": [
    "df_x['Item_Outlet_Sales'].all() #check the zero value in our column"
   ]
  },
  {
   "cell_type": "code",
   "execution_count": 1065,
   "id": "30eaea05",
   "metadata": {},
   "outputs": [
    {
     "data": {
      "text/plain": [
       "0"
      ]
     },
     "execution_count": 1065,
     "metadata": {},
     "output_type": "execute_result"
    }
   ],
   "source": [
    "df_x['Item_Outlet_Sales'].isna().sum() # check the null values "
   ]
  },
  {
   "cell_type": "code",
   "execution_count": 1066,
   "id": "ad8b1ec8",
   "metadata": {},
   "outputs": [
    {
     "data": {
      "text/plain": [
       "count     4287.000000\n",
       "mean      2284.947636\n",
       "std       1502.251143\n",
       "min         75.901200\n",
       "25%       1133.857400\n",
       "50%       1960.115200\n",
       "75%       3121.936200\n",
       "max      10256.649000\n",
       "Name: Item_Outlet_Sales, dtype: float64"
      ]
     },
     "execution_count": 1066,
     "metadata": {},
     "output_type": "execute_result"
    }
   ],
   "source": [
    "df_x['Item_Outlet_Sales'].describe() # describe the column"
   ]
  },
  {
   "cell_type": "code",
   "execution_count": 1067,
   "id": "8b01425e",
   "metadata": {},
   "outputs": [
    {
     "data": {
      "text/plain": [
       "<AxesSubplot:>"
      ]
     },
     "execution_count": 1067,
     "metadata": {},
     "output_type": "execute_result"
    },
    {
     "data": {
      "image/png": "[encoded data removed]",
      "text/plain": [
       "<Figure size 432x288 with 1 Axes>"
      ]
     },
     "metadata": {
      "needs_background": "light"
     },
     "output_type": "display_data"
    }
   ],
   "source": [
    "sns.boxplot(data = df_x['Item_Outlet_Sales']) #visualize it by using boxplot"
   ]
  },
  {
   "cell_type": "code",
   "execution_count": 1068,
   "id": "2739def6",
   "metadata": {},
   "outputs": [],
   "source": [
    "#Detecting the outlier by using iqr method and removing them.\n",
    "q1 = np.percentile(df_x['Item_Outlet_Sales'], 25,\n",
    "                   interpolation = 'midpoint')\n",
    " \n",
    "q3 = np.percentile(df_x['Item_Outlet_Sales'], 70,\n",
    "                   interpolation = 'midpoint')\n",
    "iqr = q3 - q1"
   ]
  },
  {
   "cell_type": "code",
   "execution_count": 1069,
   "id": "d824f849",
   "metadata": {},
   "outputs": [
    {
     "name": "stdout",
     "output_type": "stream",
     "text": [
      "Higher: 0       False\n",
      "1       False\n",
      "2       False\n",
      "4       False\n",
      "5       False\n",
      "        ...  \n",
      "8515    False\n",
      "8516    False\n",
      "8518    False\n",
      "8520    False\n",
      "8522    False\n",
      "Name: Item_Outlet_Sales, Length: 4287, dtype: bool\n",
      "(array([  28,   33,   59,   71,   72,   97,  102,  130,  132,  136,  143,\n",
      "        164,  176,  179,  191,  193,  201,  202,  203,  287,  309,  319,\n",
      "        441,  513,  516,  578,  600,  603,  651,  688,  698,  723,  725,\n",
      "        751,  771,  802,  804,  813,  815,  821,  853,  854,  893,  898,\n",
      "        900,  908,  936,  947, 1002, 1020, 1033, 1037, 1131, 1143, 1252,\n",
      "       1255, 1257, 1270, 1295, 1320, 1344, 1404, 1417, 1437, 1450, 1462,\n",
      "       1464, 1487, 1528, 1553, 1555, 1558, 1560, 1586, 1596, 1625, 1645,\n",
      "       1656, 1679, 1723, 1766, 1768, 1792, 1794, 1814, 1841, 1853, 1898,\n",
      "       1903, 1969, 1970, 2031, 2105, 2108, 2134, 2182, 2189, 2202, 2205,\n",
      "       2273, 2280, 2295, 2309, 2375, 2400, 2455, 2481, 2483, 2486, 2491,\n",
      "       2498, 2519, 2537, 2572, 2675, 2681, 2695, 2711, 2742, 2756, 2773,\n",
      "       2819, 2837, 2855, 2880, 2915, 2925, 2972, 2996, 3031, 3068, 3085,\n",
      "       3092, 3101, 3119, 3139, 3184, 3194, 3255, 3284, 3311, 3336, 3337,\n",
      "       3341, 3342, 3397, 3422, 3434, 3466, 3494, 3507, 3519, 3520, 3551,\n",
      "       3554, 3580, 3604, 3618, 3622, 3667, 3682, 3766, 3799, 3816, 3824,\n",
      "       3853, 3935, 3990, 4004, 4008, 4072, 4084, 4091, 4149, 4181, 4191,\n",
      "       4204, 4278], dtype=int64),)\n",
      "Lower: 0       False\n",
      "1       False\n",
      "2       False\n",
      "4       False\n",
      "5       False\n",
      "        ...  \n",
      "8515    False\n",
      "8516    False\n",
      "8518    False\n",
      "8520    False\n",
      "8522    False\n",
      "Name: Item_Outlet_Sales, Length: 4287, dtype: bool\n",
      "(array([], dtype=int64),)\n",
      "old Shape:  (4287, 10)\n"
     ]
    }
   ],
   "source": [
    "# higher side \n",
    "higher_side = df_x['Item_Outlet_Sales'] >= (q3+1.5*iqr)\n",
    "print(\"Higher:\", higher_side)\n",
    "print(np.where(higher_side))\n",
    "high = np.where(higher_side)\n",
    " \n",
    "# lower side \n",
    "lower_side = df_x['Item_Outlet_Sales'] <= (q1-1.5*iqr)\n",
    "print(\"Lower:\", lower_side)\n",
    "low = np.where(lower_side)\n",
    "print(np.where(lower_side))\n",
    "print(\"old Shape: \", df_x.shape)"
   ]
  },
  {
   "cell_type": "code",
   "execution_count": 1070,
   "id": "1134cfd3",
   "metadata": {},
   "outputs": [
    {
     "name": "stdout",
     "output_type": "stream",
     "text": [
      "New Shape:  (4109, 10)\n"
     ]
    }
   ],
   "source": [
    "#removing the outliers\n",
    "df_x = df_x.drop(df_x.index[high])\n",
    "df_x = df_x.drop(df_x.index[low])\n",
    " \n",
    "print(\"New Shape: \", df_x.shape)"
   ]
  },
  {
   "cell_type": "code",
   "execution_count": 1071,
   "id": "0036e642",
   "metadata": {},
   "outputs": [
    {
     "data": {
      "text/plain": [
       "<AxesSubplot:>"
      ]
     },
     "execution_count": 1071,
     "metadata": {},
     "output_type": "execute_result"
    },
    {
     "data": {
      "image/png": "[encoded data removed]",
      "text/plain": [
       "<Figure size 432x288 with 1 Axes>"
      ]
     },
     "metadata": {
      "needs_background": "light"
     },
     "output_type": "display_data"
    }
   ],
   "source": [
    "sns.boxplot(data = df_x['Item_Outlet_Sales']) #visualize it by using boxplot"
   ]
  },
  {
   "cell_type": "code",
   "execution_count": 1072,
   "id": "1d27361a",
   "metadata": {},
   "outputs": [
    {
     "data": {
      "text/plain": [
       "<AxesSubplot:xlabel='Item_Outlet_Sales', ylabel='Density'>"
      ]
     },
     "execution_count": 1072,
     "metadata": {},
     "output_type": "execute_result"
    },
    {
     "data": {
      "image/png": "[encoded data removed]",
      "text/plain": [
       "<Figure size 432x288 with 1 Axes>"
      ]
     },
     "metadata": {
      "needs_background": "light"
     },
     "output_type": "display_data"
    }
   ],
   "source": [
    "sns.distplot(df_x['Item_Outlet_Sales']) #visualize it by using distplot"
   ]
  },
  {
   "cell_type": "code",
   "execution_count": 1073,
   "id": "1876f124",
   "metadata": {},
   "outputs": [
    {
     "name": "stdout",
     "output_type": "stream",
     "text": [
      "Mean of the Column \"Item_Outlet_Sales\" is ------> 2110.926920710631\n",
      "Std of the Column \"Item_Outlet_Sales\" is ------> 1264.4316016928183\n",
      "Median of the Column \"Item_Outlet_Sales\" is ------> 1877.556\n",
      "Mode of the Column \"Item_Outlet_Sales\" is -------> 1438.128\n"
     ]
    }
   ],
   "source": [
    "#Find the mean, std, median and mode of the Column 'Item_Outlet_Sales'\n",
    "Item_Outlet_Sales_mean = df_x.Item_Outlet_Sales.mean()\n",
    "print('Mean of the Column \"Item_Outlet_Sales\" is ------>', Item_Outlet_Sales_mean)\n",
    "Item_Outlet_Sales_std = df_x.Item_Outlet_Sales.std()\n",
    "print('Std of the Column \"Item_Outlet_Sales\" is ------>', Item_Outlet_Sales_std)\n",
    "Item_Outlet_Sales_median = df_x.Item_Outlet_Sales.median()\n",
    "print('Median of the Column \"Item_Outlet_Sales\" is ------>', Item_Outlet_Sales_median)\n",
    "Item_Outlet_Sales_mode = st.mode(df_x['Item_Outlet_Sales'])\n",
    "print('Mode of the Column \"Item_Outlet_Sales\" is ------->', Item_Outlet_Sales_mode)"
   ]
  },
  {
   "cell_type": "code",
   "execution_count": null,
   "id": "8acb90ea",
   "metadata": {},
   "outputs": [],
   "source": [
    "#To get proper normalization curve, mean= median=mode but in our column, all are different, \n",
    "#so, to get proper curve, we shrink our range to eliminate more outliers"
   ]
  },
  {
   "cell_type": "code",
   "execution_count": 1075,
   "id": "3872b88f",
   "metadata": {},
   "outputs": [],
   "source": [
    "#Detecting the outlier by using iqr method and removing them.\n",
    "q1 = np.percentile(df_x['Item_Outlet_Sales'], 25,\n",
    "                   interpolation = 'midpoint')\n",
    " \n",
    "q3 = np.percentile(df_x['Item_Outlet_Sales'], 60,\n",
    "                   interpolation = 'midpoint')\n",
    "iqr = q3 - q1"
   ]
  },
  {
   "cell_type": "code",
   "execution_count": 1076,
   "id": "c9977743",
   "metadata": {},
   "outputs": [
    {
     "name": "stdout",
     "output_type": "stream",
     "text": [
      "Higher: 0       False\n",
      "1       False\n",
      "2       False\n",
      "4       False\n",
      "5       False\n",
      "        ...  \n",
      "8515    False\n",
      "8516    False\n",
      "8518    False\n",
      "8520    False\n",
      "8522    False\n",
      "Name: Item_Outlet_Sales, Length: 4109, dtype: bool\n",
      "(array([  17,   34,   40,   88,   93,  114,  140,  146,  155,  162,  168,\n",
      "        181,  185,  187,  205,  222,  226,  231,  247,  256,  287,  297,\n",
      "        313,  314,  315,  335,  337,  350,  354,  360,  368,  385,  386,\n",
      "        387,  400,  409,  423,  435,  459,  473,  489,  493,  509,  523,\n",
      "        533,  586,  591,  614,  619,  623,  644,  661,  669,  672,  677,\n",
      "        679,  682,  687,  688,  703,  721,  727,  733,  742,  745,  757,\n",
      "        766,  790,  791,  815,  826,  832,  849,  855,  878,  889,  909,\n",
      "        915,  918,  920,  930,  944,  960,  972,  986,  994, 1009, 1017,\n",
      "       1026, 1030, 1033, 1041, 1053, 1060, 1073, 1075, 1084, 1110, 1116,\n",
      "       1119, 1125, 1127, 1140, 1147, 1166, 1170, 1180, 1197, 1206, 1215,\n",
      "       1221, 1224, 1231, 1247, 1255, 1272, 1281, 1300, 1306, 1314, 1316,\n",
      "       1323, 1341, 1350, 1363, 1373, 1379, 1385, 1396, 1418, 1438, 1441,\n",
      "       1443, 1458, 1470, 1535, 1550, 1559, 1579, 1581, 1594, 1598, 1648,\n",
      "       1669, 1677, 1688, 1692, 1697, 1711, 1739, 1740, 1753, 1756, 1759,\n",
      "       1776, 1789, 1795, 1819, 1829, 1846, 1853, 1860, 1870, 1877, 1886,\n",
      "       1889, 1892, 1906, 1931, 1933, 1934, 1946, 1950, 1953, 1960, 1970,\n",
      "       1983, 1996, 2009, 2015, 2073, 2093, 2097, 2111, 2116, 2120, 2136,\n",
      "       2144, 2153, 2168, 2176, 2182, 2188, 2206, 2228, 2233, 2245, 2246,\n",
      "       2258, 2283, 2296, 2302, 2315, 2324, 2327, 2338, 2357, 2358, 2391,\n",
      "       2405, 2412, 2434, 2439, 2456, 2458, 2468, 2488, 2493, 2502, 2503,\n",
      "       2526, 2554, 2568, 2598, 2610, 2611, 2612, 2614, 2620, 2627, 2638,\n",
      "       2641, 2643, 2672, 2676, 2703, 2711, 2715, 2720, 2739, 2748, 2755,\n",
      "       2761, 2769, 2773, 2782, 2785, 2795, 2812, 2824, 2836, 2854, 2859,\n",
      "       2860, 2877, 2897, 2900, 2901, 2911, 2916, 2926, 2941, 2958, 2972,\n",
      "       2973, 2980, 2986, 2988, 2999, 3002, 3013, 3014, 3015, 3016, 3027,\n",
      "       3030, 3036, 3066, 3072, 3084, 3104, 3108, 3110, 3112, 3127, 3131,\n",
      "       3151, 3161, 3163, 3179, 3188, 3205, 3225, 3231, 3232, 3239, 3242,\n",
      "       3250, 3255, 3263, 3275, 3280, 3294, 3297, 3306, 3308, 3314, 3323,\n",
      "       3326, 3334, 3355, 3363, 3372, 3385, 3389, 3390, 3404, 3423, 3433,\n",
      "       3440, 3458, 3466, 3483, 3491, 3508, 3536, 3558, 3567, 3573, 3580,\n",
      "       3581, 3599, 3600, 3616, 3633, 3642, 3644, 3646, 3658, 3659, 3662,\n",
      "       3667, 3695, 3697, 3708, 3712, 3724, 3730, 3732, 3757, 3790, 3798,\n",
      "       3807, 3814, 3822, 3823, 3826, 3831, 3832, 3854, 3855, 3858, 3869,\n",
      "       3882, 3887, 3890, 3891, 3930, 3936, 3948, 3955, 3962, 3973, 3976,\n",
      "       4001, 4008, 4010, 4011, 4024, 4033, 4041, 4053, 4063, 4069, 4082,\n",
      "       4087, 4092, 4093, 4101], dtype=int64),)\n",
      "Lower: 0       False\n",
      "1       False\n",
      "2       False\n",
      "4       False\n",
      "5       False\n",
      "        ...  \n",
      "8515    False\n",
      "8516    False\n",
      "8518    False\n",
      "8520    False\n",
      "8522    False\n",
      "Name: Item_Outlet_Sales, Length: 4109, dtype: bool\n",
      "(array([], dtype=int64),)\n",
      "old Shape:  (4109, 10)\n"
     ]
    }
   ],
   "source": [
    "# higher side \n",
    "higher_side = df_x['Item_Outlet_Sales'] >= (q3+1.5*iqr)\n",
    "print(\"Higher:\", higher_side)\n",
    "print(np.where(higher_side))\n",
    "high = np.where(higher_side)\n",
    " \n",
    "# lower side \n",
    "lower_side = df_x['Item_Outlet_Sales'] <= (q1-1.5*iqr)\n",
    "print(\"Lower:\", lower_side)\n",
    "low = np.where(lower_side)\n",
    "print(np.where(lower_side))\n",
    "print(\"old Shape: \", df_x.shape)"
   ]
  },
  {
   "cell_type": "code",
   "execution_count": 1077,
   "id": "feb8cceb",
   "metadata": {},
   "outputs": [
    {
     "name": "stdout",
     "output_type": "stream",
     "text": [
      "New Shape:  (3720, 10)\n"
     ]
    }
   ],
   "source": [
    "#removing the outliers\n",
    "df_x = df_x.drop(df_x.index[high])\n",
    "df_x = df_x.drop(df_x.index[low])\n",
    " \n",
    "print(\"New Shape: \", df_x.shape)"
   ]
  },
  {
   "cell_type": "code",
   "execution_count": 1078,
   "id": "e04634d3",
   "metadata": {},
   "outputs": [
    {
     "data": {
      "text/plain": [
       "<AxesSubplot:xlabel='Item_Outlet_Sales', ylabel='Density'>"
      ]
     },
     "execution_count": 1078,
     "metadata": {},
     "output_type": "execute_result"
    },
    {
     "data": {
      "image/png": "[encoded data removed]",
      "text/plain": [
       "<Figure size 432x288 with 1 Axes>"
      ]
     },
     "metadata": {
      "needs_background": "light"
     },
     "output_type": "display_data"
    }
   ],
   "source": [
    "sns.distplot(df_x['Item_Outlet_Sales']) #visualize it by using distplot"
   ]
  },
  {
   "cell_type": "code",
   "execution_count": 1079,
   "id": "139f5846",
   "metadata": {},
   "outputs": [
    {
     "data": {
      "text/plain": [
       "<AxesSubplot:>"
      ]
     },
     "execution_count": 1079,
     "metadata": {},
     "output_type": "execute_result"
    },
    {
     "data": {
      "image/png": "[encoded data removed]",
      "text/plain": [
       "<Figure size 432x288 with 1 Axes>"
      ]
     },
     "metadata": {
      "needs_background": "light"
     },
     "output_type": "display_data"
    }
   ],
   "source": [
    "sns.boxplot(data = df_x['Item_Outlet_Sales']) #visualize it by using boxplot"
   ]
  },
  {
   "cell_type": "code",
   "execution_count": 1080,
   "id": "d0f75052",
   "metadata": {},
   "outputs": [
    {
     "name": "stdout",
     "output_type": "stream",
     "text": [
      "Mean of the Column \"Item_Outlet_Sales\" is ------> 1844.3341908064479\n",
      "Std of the Column \"Item_Outlet_Sales\" is ------> 999.580302931219\n",
      "Median of the Column \"Item_Outlet_Sales\" is ------> 1720.7601\n",
      "Mode of the Column \"Item_Outlet_Sales\" is -------> 1438.128\n"
     ]
    }
   ],
   "source": [
    "#Find the mean, std, median and mode of the Column 'Item_Outlet_Sales'\n",
    "Item_Outlet_Sales_mean = df_x.Item_Outlet_Sales.mean()\n",
    "print('Mean of the Column \"Item_Outlet_Sales\" is ------>', Item_Outlet_Sales_mean)\n",
    "Item_Outlet_Sales_std = df_x.Item_Outlet_Sales.std()\n",
    "print('Std of the Column \"Item_Outlet_Sales\" is ------>', Item_Outlet_Sales_std)\n",
    "Item_Outlet_Sales_median = df_x.Item_Outlet_Sales.median()\n",
    "print('Median of the Column \"Item_Outlet_Sales\" is ------>', Item_Outlet_Sales_median)\n",
    "Item_Outlet_Sales_mode = st.mode(df_x['Item_Outlet_Sales'])\n",
    "print('Mode of the Column \"Item_Outlet_Sales\" is ------->', Item_Outlet_Sales_mode)"
   ]
  },
  {
   "cell_type": "code",
   "execution_count": 1081,
   "id": "5a1d1a4f",
   "metadata": {},
   "outputs": [
    {
     "data": {
      "text/plain": [
       "(3720, 10)"
      ]
     },
     "execution_count": 1081,
     "metadata": {},
     "output_type": "execute_result"
    }
   ],
   "source": [
    "df_x.shape #now, check the shape of the dataset"
   ]
  },
  {
   "cell_type": "code",
   "execution_count": 1094,
   "id": "aad8de8a",
   "metadata": {},
   "outputs": [],
   "source": [
    "#split x and y\n",
    "x = df_x.drop(['Item_Outlet_Sales'], axis=1)\n",
    "y=df_x.Item_Outlet_Sales"
   ]
  },
  {
   "cell_type": "code",
   "execution_count": 1095,
   "id": "37c5fbfd",
   "metadata": {},
   "outputs": [
    {
     "data": {
      "text/plain": [
       "(3720, 9)"
      ]
     },
     "execution_count": 1095,
     "metadata": {},
     "output_type": "execute_result"
    }
   ],
   "source": [
    "x.shape"
   ]
  },
  {
   "cell_type": "code",
   "execution_count": 1096,
   "id": "7ceecf67",
   "metadata": {},
   "outputs": [
    {
     "data": {
      "text/plain": [
       "(3720,)"
      ]
     },
     "execution_count": 1096,
     "metadata": {},
     "output_type": "execute_result"
    }
   ],
   "source": [
    "y.shape"
   ]
  },
  {
   "cell_type": "code",
   "execution_count": 1097,
   "id": "ed8aae74",
   "metadata": {},
   "outputs": [
    {
     "data": {
      "text/plain": [
       "array([[-1.37095489, -0.56709406, -1.2173401 , ..., -0.25803184,\n",
       "        -1.12500066, -0.51006137],\n",
       "       [-1.70377652,  1.20418209, -1.12289567, ..., -0.25803184,\n",
       "         1.10224918,  1.96054839],\n",
       "       [-0.23887547, -0.56709406, -1.19650466, ..., -0.25803184,\n",
       "        -1.12500066, -0.51006137],\n",
       "       ...,\n",
       "       [-0.89480131, -0.56709406, -0.02656395, ..., -1.59490987,\n",
       "         1.10224918, -0.51006137],\n",
       "       [ 1.27218332, -0.56709406, -0.65787968, ...,  1.0788462 ,\n",
       "        -0.01137574, -0.51006137],\n",
       "       [-1.61389038, -0.56709406, -0.37456791, ...,  1.0788462 ,\n",
       "        -1.12500066, -0.51006137]])"
      ]
     },
     "execution_count": 1097,
     "metadata": {},
     "output_type": "execute_result"
    }
   ],
   "source": [
    "#scale the features\n",
    "scaler = StandardScaler()\n",
    "x_scaled = scaler.fit_transform(x)\n",
    "x_scaled"
   ]
  },
  {
   "cell_type": "code",
   "execution_count": 1099,
   "id": "8acd4415",
   "metadata": {},
   "outputs": [
    {
     "data": {
      "text/html": [
       "<div>\n",
       "<style scoped>\n",
       "    .dataframe tbody tr th:only-of-type {\n",
       "        vertical-align: middle;\n",
       "    }\n",
       "\n",
       "    .dataframe tbody tr th {\n",
       "        vertical-align: top;\n",
       "    }\n",
       "\n",
       "    .dataframe thead th {\n",
       "        text-align: right;\n",
       "    }\n",
       "</style>\n",
       "<table border=\"1\" class=\"dataframe\">\n",
       "  <thead>\n",
       "    <tr style=\"text-align: right;\">\n",
       "      <th></th>\n",
       "      <th>vif</th>\n",
       "      <th>features</th>\n",
       "    </tr>\n",
       "  </thead>\n",
       "  <tbody>\n",
       "    <tr>\n",
       "      <th>0</th>\n",
       "      <td>1.017730</td>\n",
       "      <td>Item_Identifier</td>\n",
       "    </tr>\n",
       "    <tr>\n",
       "      <th>1</th>\n",
       "      <td>1.025194</td>\n",
       "      <td>Item_Fat_Content</td>\n",
       "    </tr>\n",
       "    <tr>\n",
       "      <th>2</th>\n",
       "      <td>1.008322</td>\n",
       "      <td>Item_Visibility</td>\n",
       "    </tr>\n",
       "    <tr>\n",
       "      <th>3</th>\n",
       "      <td>1.014007</td>\n",
       "      <td>Item_Type</td>\n",
       "    </tr>\n",
       "    <tr>\n",
       "      <th>4</th>\n",
       "      <td>1.002962</td>\n",
       "      <td>Item_MRP</td>\n",
       "    </tr>\n",
       "    <tr>\n",
       "      <th>5</th>\n",
       "      <td>6.401475</td>\n",
       "      <td>Outlet_Establishment_Year</td>\n",
       "    </tr>\n",
       "    <tr>\n",
       "      <th>6</th>\n",
       "      <td>3.881315</td>\n",
       "      <td>Outlet_Size</td>\n",
       "    </tr>\n",
       "    <tr>\n",
       "      <th>7</th>\n",
       "      <td>2.566050</td>\n",
       "      <td>Outlet_Location_Type</td>\n",
       "    </tr>\n",
       "    <tr>\n",
       "      <th>8</th>\n",
       "      <td>5.738894</td>\n",
       "      <td>Outlet_Type</td>\n",
       "    </tr>\n",
       "  </tbody>\n",
       "</table>\n",
       "</div>"
      ],
      "text/plain": [
       "        vif                   features\n",
       "0  1.017730            Item_Identifier\n",
       "1  1.025194           Item_Fat_Content\n",
       "2  1.008322            Item_Visibility\n",
       "3  1.014007                  Item_Type\n",
       "4  1.002962                   Item_MRP\n",
       "5  6.401475  Outlet_Establishment_Year\n",
       "6  3.881315                Outlet_Size\n",
       "7  2.566050       Outlet_Location_Type\n",
       "8  5.738894                Outlet_Type"
      ]
     },
     "execution_count": 1099,
     "metadata": {},
     "output_type": "execute_result"
    }
   ],
   "source": [
    "# Check the multicollinearity between the features\n",
    "#import library for VIF\n",
    "from statsmodels.stats.outliers_influence import variance_inflation_factor\n",
    "vif = pd.DataFrame()\n",
    "vif[\"vif\"]= [ variance_inflation_factor(x_scaled, i)\n",
    "               for i in range ( x_scaled.shape[1])]\n",
    "vif['features']= x.columns\n",
    "vif #same have less correlationa dn some have high"
   ]
  },
  {
   "cell_type": "markdown",
   "id": "249748bb",
   "metadata": {},
   "source": [
    "# Now, come to the Test data"
   ]
  },
  {
   "cell_type": "code",
   "execution_count": 1548,
   "id": "2fb6775f",
   "metadata": {},
   "outputs": [
    {
     "data": {
      "text/html": [
       "<div>\n",
       "<style scoped>\n",
       "    .dataframe tbody tr th:only-of-type {\n",
       "        vertical-align: middle;\n",
       "    }\n",
       "\n",
       "    .dataframe tbody tr th {\n",
       "        vertical-align: top;\n",
       "    }\n",
       "\n",
       "    .dataframe thead th {\n",
       "        text-align: right;\n",
       "    }\n",
       "</style>\n",
       "<table border=\"1\" class=\"dataframe\">\n",
       "  <thead>\n",
       "    <tr style=\"text-align: right;\">\n",
       "      <th></th>\n",
       "      <th>Item_Identifier</th>\n",
       "      <th>Item_Weight</th>\n",
       "      <th>Item_Fat_Content</th>\n",
       "      <th>Item_Visibility</th>\n",
       "      <th>Item_Type</th>\n",
       "      <th>Item_MRP</th>\n",
       "      <th>Outlet_Identifier</th>\n",
       "      <th>Outlet_Establishment_Year</th>\n",
       "      <th>Outlet_Size</th>\n",
       "      <th>Outlet_Location_Type</th>\n",
       "      <th>Outlet_Type</th>\n",
       "    </tr>\n",
       "  </thead>\n",
       "  <tbody>\n",
       "    <tr>\n",
       "      <th>0</th>\n",
       "      <td>FDW58</td>\n",
       "      <td>20.750</td>\n",
       "      <td>Low Fat</td>\n",
       "      <td>0.007565</td>\n",
       "      <td>Snack Foods</td>\n",
       "      <td>107.8622</td>\n",
       "      <td>OUT049</td>\n",
       "      <td>1999</td>\n",
       "      <td>Medium</td>\n",
       "      <td>Tier 1</td>\n",
       "      <td>Supermarket Type1</td>\n",
       "    </tr>\n",
       "    <tr>\n",
       "      <th>1</th>\n",
       "      <td>FDW14</td>\n",
       "      <td>8.300</td>\n",
       "      <td>reg</td>\n",
       "      <td>0.038428</td>\n",
       "      <td>Dairy</td>\n",
       "      <td>87.3198</td>\n",
       "      <td>OUT017</td>\n",
       "      <td>2007</td>\n",
       "      <td>NaN</td>\n",
       "      <td>Tier 2</td>\n",
       "      <td>Supermarket Type1</td>\n",
       "    </tr>\n",
       "    <tr>\n",
       "      <th>2</th>\n",
       "      <td>NCN55</td>\n",
       "      <td>14.600</td>\n",
       "      <td>Low Fat</td>\n",
       "      <td>0.099575</td>\n",
       "      <td>Others</td>\n",
       "      <td>241.7538</td>\n",
       "      <td>OUT010</td>\n",
       "      <td>1998</td>\n",
       "      <td>NaN</td>\n",
       "      <td>Tier 3</td>\n",
       "      <td>Grocery Store</td>\n",
       "    </tr>\n",
       "    <tr>\n",
       "      <th>3</th>\n",
       "      <td>FDQ58</td>\n",
       "      <td>7.315</td>\n",
       "      <td>Low Fat</td>\n",
       "      <td>0.015388</td>\n",
       "      <td>Snack Foods</td>\n",
       "      <td>155.0340</td>\n",
       "      <td>OUT017</td>\n",
       "      <td>2007</td>\n",
       "      <td>NaN</td>\n",
       "      <td>Tier 2</td>\n",
       "      <td>Supermarket Type1</td>\n",
       "    </tr>\n",
       "    <tr>\n",
       "      <th>4</th>\n",
       "      <td>FDY38</td>\n",
       "      <td>NaN</td>\n",
       "      <td>Regular</td>\n",
       "      <td>0.118599</td>\n",
       "      <td>Dairy</td>\n",
       "      <td>234.2300</td>\n",
       "      <td>OUT027</td>\n",
       "      <td>1985</td>\n",
       "      <td>Medium</td>\n",
       "      <td>Tier 3</td>\n",
       "      <td>Supermarket Type3</td>\n",
       "    </tr>\n",
       "  </tbody>\n",
       "</table>\n",
       "</div>"
      ],
      "text/plain": [
       "  Item_Identifier  Item_Weight Item_Fat_Content  Item_Visibility    Item_Type  \\\n",
       "0           FDW58       20.750          Low Fat         0.007565  Snack Foods   \n",
       "1           FDW14        8.300              reg         0.038428        Dairy   \n",
       "2           NCN55       14.600          Low Fat         0.099575       Others   \n",
       "3           FDQ58        7.315          Low Fat         0.015388  Snack Foods   \n",
       "4           FDY38          NaN          Regular         0.118599        Dairy   \n",
       "\n",
       "   Item_MRP Outlet_Identifier  Outlet_Establishment_Year Outlet_Size  \\\n",
       "0  107.8622            OUT049                       1999      Medium   \n",
       "1   87.3198            OUT017                       2007         NaN   \n",
       "2  241.7538            OUT010                       1998         NaN   \n",
       "3  155.0340            OUT017                       2007         NaN   \n",
       "4  234.2300            OUT027                       1985      Medium   \n",
       "\n",
       "  Outlet_Location_Type        Outlet_Type  \n",
       "0               Tier 1  Supermarket Type1  \n",
       "1               Tier 2  Supermarket Type1  \n",
       "2               Tier 3      Grocery Store  \n",
       "3               Tier 2  Supermarket Type1  \n",
       "4               Tier 3  Supermarket Type3  "
      ]
     },
     "execution_count": 1548,
     "metadata": {},
     "output_type": "execute_result"
    }
   ],
   "source": [
    "df_y = pd.read_csv('https://raw.githubusercontent.com/dsrscientist/bigdatamart_rep/master/bigdatamart_Test.csv')\n",
    "df_y.head() #read the csv file first"
   ]
  },
  {
   "cell_type": "code",
   "execution_count": 1549,
   "id": "914654c8",
   "metadata": {},
   "outputs": [
    {
     "data": {
      "text/plain": [
       "(5681, 11)"
      ]
     },
     "execution_count": 1549,
     "metadata": {},
     "output_type": "execute_result"
    }
   ],
   "source": [
    "df_y.shape #check the shape of the dataset"
   ]
  },
  {
   "cell_type": "code",
   "execution_count": 1550,
   "id": "fa403802",
   "metadata": {},
   "outputs": [
    {
     "data": {
      "text/html": [
       "<div>\n",
       "<style scoped>\n",
       "    .dataframe tbody tr th:only-of-type {\n",
       "        vertical-align: middle;\n",
       "    }\n",
       "\n",
       "    .dataframe tbody tr th {\n",
       "        vertical-align: top;\n",
       "    }\n",
       "\n",
       "    .dataframe thead th {\n",
       "        text-align: right;\n",
       "    }\n",
       "</style>\n",
       "<table border=\"1\" class=\"dataframe\">\n",
       "  <thead>\n",
       "    <tr style=\"text-align: right;\">\n",
       "      <th></th>\n",
       "      <th>Item_Weight</th>\n",
       "      <th>Item_Visibility</th>\n",
       "      <th>Item_MRP</th>\n",
       "      <th>Outlet_Establishment_Year</th>\n",
       "    </tr>\n",
       "  </thead>\n",
       "  <tbody>\n",
       "    <tr>\n",
       "      <th>count</th>\n",
       "      <td>4705.000000</td>\n",
       "      <td>5681.000000</td>\n",
       "      <td>5681.000000</td>\n",
       "      <td>5681.000000</td>\n",
       "    </tr>\n",
       "    <tr>\n",
       "      <th>mean</th>\n",
       "      <td>12.695633</td>\n",
       "      <td>0.065684</td>\n",
       "      <td>141.023273</td>\n",
       "      <td>1997.828903</td>\n",
       "    </tr>\n",
       "    <tr>\n",
       "      <th>std</th>\n",
       "      <td>4.664849</td>\n",
       "      <td>0.051252</td>\n",
       "      <td>61.809091</td>\n",
       "      <td>8.372256</td>\n",
       "    </tr>\n",
       "    <tr>\n",
       "      <th>min</th>\n",
       "      <td>4.555000</td>\n",
       "      <td>0.000000</td>\n",
       "      <td>31.990000</td>\n",
       "      <td>1985.000000</td>\n",
       "    </tr>\n",
       "    <tr>\n",
       "      <th>25%</th>\n",
       "      <td>8.645000</td>\n",
       "      <td>0.027047</td>\n",
       "      <td>94.412000</td>\n",
       "      <td>1987.000000</td>\n",
       "    </tr>\n",
       "    <tr>\n",
       "      <th>50%</th>\n",
       "      <td>12.500000</td>\n",
       "      <td>0.054154</td>\n",
       "      <td>141.415400</td>\n",
       "      <td>1999.000000</td>\n",
       "    </tr>\n",
       "    <tr>\n",
       "      <th>75%</th>\n",
       "      <td>16.700000</td>\n",
       "      <td>0.093463</td>\n",
       "      <td>186.026600</td>\n",
       "      <td>2004.000000</td>\n",
       "    </tr>\n",
       "    <tr>\n",
       "      <th>max</th>\n",
       "      <td>21.350000</td>\n",
       "      <td>0.323637</td>\n",
       "      <td>266.588400</td>\n",
       "      <td>2009.000000</td>\n",
       "    </tr>\n",
       "  </tbody>\n",
       "</table>\n",
       "</div>"
      ],
      "text/plain": [
       "       Item_Weight  Item_Visibility     Item_MRP  Outlet_Establishment_Year\n",
       "count  4705.000000      5681.000000  5681.000000                5681.000000\n",
       "mean     12.695633         0.065684   141.023273                1997.828903\n",
       "std       4.664849         0.051252    61.809091                   8.372256\n",
       "min       4.555000         0.000000    31.990000                1985.000000\n",
       "25%       8.645000         0.027047    94.412000                1987.000000\n",
       "50%      12.500000         0.054154   141.415400                1999.000000\n",
       "75%      16.700000         0.093463   186.026600                2004.000000\n",
       "max      21.350000         0.323637   266.588400                2009.000000"
      ]
     },
     "execution_count": 1550,
     "metadata": {},
     "output_type": "execute_result"
    }
   ],
   "source": [
    "df_y.describe() #describe the column"
   ]
  },
  {
   "cell_type": "code",
   "execution_count": 1551,
   "id": "d7f9e605",
   "metadata": {},
   "outputs": [
    {
     "name": "stdout",
     "output_type": "stream",
     "text": [
      "<class 'pandas.core.frame.DataFrame'>\n",
      "RangeIndex: 5681 entries, 0 to 5680\n",
      "Data columns (total 11 columns):\n",
      " #   Column                     Non-Null Count  Dtype  \n",
      "---  ------                     --------------  -----  \n",
      " 0   Item_Identifier            5681 non-null   object \n",
      " 1   Item_Weight                4705 non-null   float64\n",
      " 2   Item_Fat_Content           5681 non-null   object \n",
      " 3   Item_Visibility            5681 non-null   float64\n",
      " 4   Item_Type                  5681 non-null   object \n",
      " 5   Item_MRP                   5681 non-null   float64\n",
      " 6   Outlet_Identifier          5681 non-null   object \n",
      " 7   Outlet_Establishment_Year  5681 non-null   int64  \n",
      " 8   Outlet_Size                4075 non-null   object \n",
      " 9   Outlet_Location_Type       5681 non-null   object \n",
      " 10  Outlet_Type                5681 non-null   object \n",
      "dtypes: float64(3), int64(1), object(7)\n",
      "memory usage: 488.3+ KB\n"
     ]
    }
   ],
   "source": [
    "df_y.info() #check the missing values and type of the column"
   ]
  },
  {
   "cell_type": "markdown",
   "id": "d2230b1d",
   "metadata": {},
   "source": [
    "# Column1: Item_Identifier"
   ]
  },
  {
   "cell_type": "code",
   "execution_count": 1552,
   "id": "23a8d0be",
   "metadata": {},
   "outputs": [
    {
     "data": {
      "text/plain": [
       "array(['FDW58', 'FDW14', 'NCN55', ..., 'NCI29', 'FDP28', 'FDF04'],\n",
       "      dtype=object)"
      ]
     },
     "execution_count": 1552,
     "metadata": {},
     "output_type": "execute_result"
    }
   ],
   "source": [
    "df_y['Item_Identifier'].unique() #check the unique values"
   ]
  },
  {
   "cell_type": "code",
   "execution_count": 1553,
   "id": "35711010",
   "metadata": {},
   "outputs": [
    {
     "data": {
      "text/plain": [
       "FDW10    8\n",
       "FDN52    8\n",
       "FDZ50    8\n",
       "FDQ60    8\n",
       "FDP15    8\n",
       "        ..\n",
       "NCI54    1\n",
       "FDU23    1\n",
       "DRP35    1\n",
       "FDG09    1\n",
       "DRF27    1\n",
       "Name: Item_Identifier, Length: 1543, dtype: int64"
      ]
     },
     "execution_count": 1553,
     "metadata": {},
     "output_type": "execute_result"
    }
   ],
   "source": [
    "df_y['Item_Identifier'].value_counts() #check the number of counts"
   ]
  },
  {
   "cell_type": "code",
   "execution_count": 1554,
   "id": "0c97e9e4",
   "metadata": {},
   "outputs": [],
   "source": [
    "lab_enc = LabelEncoder() #using label encoder to convert object into integer"
   ]
  },
  {
   "cell_type": "code",
   "execution_count": 1555,
   "id": "c1771cc5",
   "metadata": {},
   "outputs": [],
   "source": [
    "df_iden = lab_enc.fit_transform(df_y['Item_Identifier'])"
   ]
  },
  {
   "cell_type": "code",
   "execution_count": 1556,
   "id": "9335e5af",
   "metadata": {},
   "outputs": [],
   "source": [
    "a=pd.Series(df_iden)"
   ]
  },
  {
   "cell_type": "code",
   "execution_count": 1557,
   "id": "44ef8b45",
   "metadata": {},
   "outputs": [],
   "source": [
    "df_y['Item_Identifier']=a #save the values into our column"
   ]
  },
  {
   "cell_type": "code",
   "execution_count": 1558,
   "id": "f9e18984",
   "metadata": {},
   "outputs": [
    {
     "data": {
      "text/plain": [
       "array([1103, 1067, 1406, ..., 1332,  745,  356])"
      ]
     },
     "execution_count": 1558,
     "metadata": {},
     "output_type": "execute_result"
    }
   ],
   "source": [
    "df_y['Item_Identifier'].unique() #now, check the unique value"
   ]
  },
  {
   "cell_type": "code",
   "execution_count": 1559,
   "id": "ef82d209",
   "metadata": {},
   "outputs": [
    {
     "data": {
      "text/plain": [
       "680     8\n",
       "573     8\n",
       "45      8\n",
       "1242    8\n",
       "734     8\n",
       "       ..\n",
       "1193    1\n",
       "1368    1\n",
       "1372    1\n",
       "1424    1\n",
       "766     1\n",
       "Name: Item_Identifier, Length: 1543, dtype: int64"
      ]
     },
     "execution_count": 1559,
     "metadata": {},
     "output_type": "execute_result"
    }
   ],
   "source": [
    "df_y['Item_Identifier'].value_counts() #check the number of counts"
   ]
  },
  {
   "cell_type": "code",
   "execution_count": 1560,
   "id": "711a9859",
   "metadata": {},
   "outputs": [
    {
     "data": {
      "text/plain": [
       "False"
      ]
     },
     "execution_count": 1560,
     "metadata": {},
     "output_type": "execute_result"
    }
   ],
   "source": [
    "df_y['Item_Identifier'].all() #check the value of zero in our column"
   ]
  },
  {
   "cell_type": "code",
   "execution_count": 1561,
   "id": "94146257",
   "metadata": {},
   "outputs": [],
   "source": [
    "df_y['Item_Identifier'] = df_y['Item_Identifier'].replace(0,df_y['Item_Identifier'].mean())\n",
    "#replace the zero value by its column mean"
   ]
  },
  {
   "cell_type": "code",
   "execution_count": 1562,
   "id": "21c5abcb",
   "metadata": {},
   "outputs": [
    {
     "data": {
      "text/plain": [
       "True"
      ]
     },
     "execution_count": 1562,
     "metadata": {},
     "output_type": "execute_result"
    }
   ],
   "source": [
    "df_y['Item_Identifier'].all() #now, check the zero value"
   ]
  },
  {
   "cell_type": "code",
   "execution_count": 1563,
   "id": "de714fb8",
   "metadata": {},
   "outputs": [
    {
     "data": {
      "text/plain": [
       "0"
      ]
     },
     "execution_count": 1563,
     "metadata": {},
     "output_type": "execute_result"
    }
   ],
   "source": [
    "df_y['Item_Identifier'].isna().sum() #check the null value "
   ]
  },
  {
   "cell_type": "code",
   "execution_count": 1564,
   "id": "b2d057fe",
   "metadata": {},
   "outputs": [
    {
     "data": {
      "text/plain": [
       "<AxesSubplot:>"
      ]
     },
     "execution_count": 1564,
     "metadata": {},
     "output_type": "execute_result"
    },
    {
     "data": {
      "image/png": "[encoded data removed]",
      "text/plain": [
       "<Figure size 432x288 with 1 Axes>"
      ]
     },
     "metadata": {
      "needs_background": "light"
     },
     "output_type": "display_data"
    }
   ],
   "source": [
    "sns.boxplot(data = df_y['Item_Identifier']) #visualize it by using boxplot"
   ]
  },
  {
   "cell_type": "code",
   "execution_count": 1565,
   "id": "917d1bce",
   "metadata": {},
   "outputs": [
    {
     "data": {
      "text/plain": [
       "<AxesSubplot:xlabel='Item_Identifier', ylabel='Density'>"
      ]
     },
     "execution_count": 1565,
     "metadata": {},
     "output_type": "execute_result"
    },
    {
     "data": {
      "image/png": "[encoded data removed]",
      "text/plain": [
       "<Figure size 432x288 with 1 Axes>"
      ]
     },
     "metadata": {
      "needs_background": "light"
     },
     "output_type": "display_data"
    }
   ],
   "source": [
    "sns.distplot(df_y['Item_Identifier']) #visualize it by using distplot"
   ]
  },
  {
   "cell_type": "code",
   "execution_count": 1566,
   "id": "2adb305c",
   "metadata": {},
   "outputs": [
    {
     "name": "stdout",
     "output_type": "stream",
     "text": [
      "mean of the column------->  773.7947824550106\n",
      "median of the column-------->  772.0\n",
      "mode of the column-------->  1470.0\n"
     ]
    }
   ],
   "source": [
    "# calculate the mean, median, mode to check how much our column is skewed  \n",
    "print('mean of the column-------> ',df_y['Item_Identifier'].mean())\n",
    "print('median of the column--------> ',df_y['Item_Identifier'].median())\n",
    "print('mode of the column--------> ', st.mode(df_y['Item_Identifier']))"
   ]
  },
  {
   "cell_type": "code",
   "execution_count": 1567,
   "id": "dd6fbf29",
   "metadata": {},
   "outputs": [
    {
     "data": {
      "text/plain": [
       "(5681, 11)"
      ]
     },
     "execution_count": 1567,
     "metadata": {},
     "output_type": "execute_result"
    }
   ],
   "source": [
    "df_y.shape #now, check the shape of the dataset"
   ]
  },
  {
   "cell_type": "markdown",
   "id": "5011d758",
   "metadata": {},
   "source": [
    "# Column2: Item_Weight"
   ]
  },
  {
   "cell_type": "code",
   "execution_count": 1568,
   "id": "daba8366",
   "metadata": {},
   "outputs": [],
   "source": [
    "df_y.drop(columns = 'Item_Weight', inplace = True) #we have delete this column in training data"
   ]
  },
  {
   "cell_type": "code",
   "execution_count": 1569,
   "id": "976cb8e2",
   "metadata": {},
   "outputs": [
    {
     "data": {
      "text/plain": [
       "(5681, 10)"
      ]
     },
     "execution_count": 1569,
     "metadata": {},
     "output_type": "execute_result"
    }
   ],
   "source": [
    "df_y.shape #now, check the shape of the column"
   ]
  },
  {
   "cell_type": "markdown",
   "id": "bf961f30",
   "metadata": {},
   "source": [
    "# Column3: Item_Fat_Content"
   ]
  },
  {
   "cell_type": "code",
   "execution_count": 1570,
   "id": "5a3a7073",
   "metadata": {},
   "outputs": [
    {
     "data": {
      "text/plain": [
       "array(['Low Fat', 'reg', 'Regular', 'LF', 'low fat'], dtype=object)"
      ]
     },
     "execution_count": 1570,
     "metadata": {},
     "output_type": "execute_result"
    }
   ],
   "source": [
    "df_y['Item_Fat_Content'].unique() #check the unique values"
   ]
  },
  {
   "cell_type": "code",
   "execution_count": 1571,
   "id": "855fcb4d",
   "metadata": {},
   "outputs": [],
   "source": [
    "lab_enc = LabelEncoder() #using label encoder to convert object into integer"
   ]
  },
  {
   "cell_type": "code",
   "execution_count": 1572,
   "id": "a6ca3e73",
   "metadata": {},
   "outputs": [],
   "source": [
    "df_fc = lab_enc.fit_transform(df_y['Item_Fat_Content'])"
   ]
  },
  {
   "cell_type": "code",
   "execution_count": 1573,
   "id": "4e2af44f",
   "metadata": {},
   "outputs": [],
   "source": [
    "b = pd.Series(df_fc)"
   ]
  },
  {
   "cell_type": "code",
   "execution_count": 1574,
   "id": "158f162e",
   "metadata": {},
   "outputs": [],
   "source": [
    "df_y['Item_Fat_Content'] = b #save values into our column"
   ]
  },
  {
   "cell_type": "code",
   "execution_count": 1575,
   "id": "82bf24fd",
   "metadata": {},
   "outputs": [
    {
     "data": {
      "text/plain": [
       "array([1, 4, 2, 0, 3])"
      ]
     },
     "execution_count": 1575,
     "metadata": {},
     "output_type": "execute_result"
    }
   ],
   "source": [
    "df_y['Item_Fat_Content'].unique() #check the unique values"
   ]
  },
  {
   "cell_type": "code",
   "execution_count": 1576,
   "id": "c2c88afe",
   "metadata": {},
   "outputs": [
    {
     "data": {
      "text/plain": [
       "1    3396\n",
       "2    1935\n",
       "0     206\n",
       "4      78\n",
       "3      66\n",
       "Name: Item_Fat_Content, dtype: int64"
      ]
     },
     "execution_count": 1576,
     "metadata": {},
     "output_type": "execute_result"
    }
   ],
   "source": [
    "df_y['Item_Fat_Content'].value_counts() #check the number of counts"
   ]
  },
  {
   "cell_type": "code",
   "execution_count": 1577,
   "id": "7ceea492",
   "metadata": {},
   "outputs": [
    {
     "data": {
      "text/plain": [
       "<AxesSubplot:>"
      ]
     },
     "execution_count": 1577,
     "metadata": {},
     "output_type": "execute_result"
    },
    {
     "data": {
      "image/png": "[encoded data removed]",
      "text/plain": [
       "<Figure size 432x288 with 1 Axes>"
      ]
     },
     "metadata": {
      "needs_background": "light"
     },
     "output_type": "display_data"
    }
   ],
   "source": [
    "sns.boxplot(data = df_y['Item_Fat_Content']) #visualize by using boxplot"
   ]
  },
  {
   "cell_type": "code",
   "execution_count": 1578,
   "id": "42e3a594",
   "metadata": {},
   "outputs": [],
   "source": [
    "#Detecting the outlier by using iqr method and removing them.\n",
    "q1 = np.percentile(df_y['Item_Fat_Content'], 25,\n",
    "                   interpolation = 'midpoint')\n",
    " \n",
    "q3 = np.percentile(df_y['Item_Fat_Content'], 75,\n",
    "                   interpolation = 'midpoint')\n",
    "iqr = q3 - q1"
   ]
  },
  {
   "cell_type": "code",
   "execution_count": 1579,
   "id": "a24f284d",
   "metadata": {},
   "outputs": [
    {
     "name": "stdout",
     "output_type": "stream",
     "text": [
      "Higher: 0       False\n",
      "1        True\n",
      "2       False\n",
      "3       False\n",
      "4       False\n",
      "        ...  \n",
      "5676    False\n",
      "5677    False\n",
      "5678    False\n",
      "5679    False\n",
      "5680    False\n",
      "Name: Item_Fat_Content, Length: 5681, dtype: bool\n",
      "(array([   1,  103,  242,  369,  499,  595,  739,  783,  797,  815,  985,\n",
      "        996, 1025, 1037, 1105, 1143, 1256, 1284, 1314, 1321, 1422, 1437,\n",
      "       1539, 1757, 1780, 1853, 1927, 2070, 2167, 2271, 2275, 2365, 2595,\n",
      "       2798, 2866, 2915, 2926, 3039, 3077, 3097, 3357, 3362, 3461, 3565,\n",
      "       3622, 3744, 3778, 3783, 3950, 4021, 4133, 4146, 4148, 4232, 4330,\n",
      "       4334, 4340, 4352, 4478, 4542, 4616, 4692, 4726, 4845, 4870, 4921,\n",
      "       4941, 4965, 4970, 5132, 5154, 5168, 5323, 5328, 5429, 5447, 5542,\n",
      "       5671], dtype=int64),)\n",
      "Lower: 0       False\n",
      "1       False\n",
      "2       False\n",
      "3       False\n",
      "4       False\n",
      "        ...  \n",
      "5676    False\n",
      "5677    False\n",
      "5678    False\n",
      "5679    False\n",
      "5680    False\n",
      "Name: Item_Fat_Content, Length: 5681, dtype: bool\n",
      "(array([], dtype=int64),)\n",
      "old Shape:  (5681, 10)\n"
     ]
    }
   ],
   "source": [
    "# higher side \n",
    "higher_side = df_y['Item_Fat_Content'] >= (q3+1.5*iqr)\n",
    "print(\"Higher:\", higher_side)\n",
    "print(np.where(higher_side))\n",
    "high = np.where(higher_side)\n",
    " \n",
    "# lower side \n",
    "lower_side = df_y['Item_Fat_Content'] <= (q1-1.5*iqr)\n",
    "print(\"Lower:\", lower_side)\n",
    "low = np.where(lower_side)\n",
    "print(np.where(lower_side))\n",
    "print(\"old Shape: \", df_y.shape)"
   ]
  },
  {
   "cell_type": "code",
   "execution_count": 1580,
   "id": "65154106",
   "metadata": {},
   "outputs": [
    {
     "name": "stdout",
     "output_type": "stream",
     "text": [
      "Old Shape:  (5681, 10)\n",
      "New Shape:  (5603, 10)\n"
     ]
    }
   ],
   "source": [
    "#removing the outliers\n",
    "print(\"Old Shape: \", df_y.shape)\n",
    "df_y = df_y.drop(df_y.index[high])\n",
    "df_y = df_y.drop(df_y.index[low])\n",
    " \n",
    "print(\"New Shape: \", df_y.shape)"
   ]
  },
  {
   "cell_type": "code",
   "execution_count": 1581,
   "id": "b3807b8d",
   "metadata": {},
   "outputs": [
    {
     "data": {
      "text/plain": [
       "<AxesSubplot:>"
      ]
     },
     "execution_count": 1581,
     "metadata": {},
     "output_type": "execute_result"
    },
    {
     "data": {
      "image/png": "[encoded data removed]",
      "text/plain": [
       "<Figure size 432x288 with 1 Axes>"
      ]
     },
     "metadata": {
      "needs_background": "light"
     },
     "output_type": "display_data"
    }
   ],
   "source": [
    "sns.boxplot(data = df_y['Item_Fat_Content'] ) #visualize by using boxplot"
   ]
  },
  {
   "cell_type": "code",
   "execution_count": 1582,
   "id": "b8324e87",
   "metadata": {},
   "outputs": [
    {
     "name": "stdout",
     "output_type": "stream",
     "text": [
      "mean of the column------->  1.3321434945564876\n",
      "median of the column-------->  1.0\n",
      "mode of the column-------->  1\n"
     ]
    }
   ],
   "source": [
    "# calculate the mean, median, mode to check how much our column is skewed  \n",
    "print('mean of the column-------> ',df_y['Item_Fat_Content'].mean())\n",
    "print('median of the column--------> ',df_y['Item_Fat_Content'].median())\n",
    "print('mode of the column--------> ', st.mode(df_y['Item_Fat_Content']))"
   ]
  },
  {
   "cell_type": "code",
   "execution_count": 1583,
   "id": "d94a2c25",
   "metadata": {},
   "outputs": [
    {
     "data": {
      "text/plain": [
       "(5603, 10)"
      ]
     },
     "execution_count": 1583,
     "metadata": {},
     "output_type": "execute_result"
    }
   ],
   "source": [
    "df_y.shape #now, check the shape of our dataset"
   ]
  },
  {
   "cell_type": "markdown",
   "id": "a6dfeeb2",
   "metadata": {},
   "source": [
    "# column4: Item_Visibility"
   ]
  },
  {
   "cell_type": "code",
   "execution_count": 1584,
   "id": "87def3e9",
   "metadata": {},
   "outputs": [
    {
     "data": {
      "text/plain": [
       "array([0.00756484, 0.09957491, 0.01538839, ..., 0.1429909 , 0.07352856,\n",
       "       0.10472015])"
      ]
     },
     "execution_count": 1584,
     "metadata": {},
     "output_type": "execute_result"
    }
   ],
   "source": [
    "df_y['Item_Visibility'].unique() #check the unique values"
   ]
  },
  {
   "cell_type": "code",
   "execution_count": 1585,
   "id": "ad34a2fa",
   "metadata": {},
   "outputs": [
    {
     "data": {
      "text/plain": [
       "0.000000    350\n",
       "0.026711      2\n",
       "0.060091      2\n",
       "0.077011      2\n",
       "0.093531      2\n",
       "           ... \n",
       "0.062538      1\n",
       "0.078021      1\n",
       "0.041908      1\n",
       "0.015941      1\n",
       "0.042629      1\n",
       "Name: Item_Visibility, Length: 5202, dtype: int64"
      ]
     },
     "execution_count": 1585,
     "metadata": {},
     "output_type": "execute_result"
    }
   ],
   "source": [
    "df_y['Item_Visibility'].value_counts() #check the number of counts"
   ]
  },
  {
   "cell_type": "code",
   "execution_count": 1586,
   "id": "4843ba36",
   "metadata": {},
   "outputs": [
    {
     "data": {
      "text/plain": [
       "False"
      ]
     },
     "execution_count": 1586,
     "metadata": {},
     "output_type": "execute_result"
    }
   ],
   "source": [
    "df_y['Item_Visibility'].all() #check the zero values in our column"
   ]
  },
  {
   "cell_type": "code",
   "execution_count": 1587,
   "id": "a2ab6ed8",
   "metadata": {},
   "outputs": [],
   "source": [
    "#Replace the zero value by its column mean\n",
    "df_y['Item_Visibility'] = df_y['Item_Visibility'].replace(0, df_y['Item_Visibility'].mean())"
   ]
  },
  {
   "cell_type": "code",
   "execution_count": 1588,
   "id": "a0330948",
   "metadata": {},
   "outputs": [
    {
     "data": {
      "text/plain": [
       "True"
      ]
     },
     "execution_count": 1588,
     "metadata": {},
     "output_type": "execute_result"
    }
   ],
   "source": [
    "df_y['Item_Visibility'].all() #Now, check the zeros present in our column or not"
   ]
  },
  {
   "cell_type": "code",
   "execution_count": 1589,
   "id": "8f27a758",
   "metadata": {},
   "outputs": [
    {
     "data": {
      "text/plain": [
       "<AxesSubplot:>"
      ]
     },
     "execution_count": 1589,
     "metadata": {},
     "output_type": "execute_result"
    },
    {
     "data": {
      "image/png": "[encoded data removed]",
      "text/plain": [
       "<Figure size 432x288 with 1 Axes>"
      ]
     },
     "metadata": {
      "needs_background": "light"
     },
     "output_type": "display_data"
    }
   ],
   "source": [
    "sns.boxplot( data = df_y['Item_Visibility']) #visualize it by using boxplot"
   ]
  },
  {
   "cell_type": "code",
   "execution_count": 1590,
   "id": "e9088e41",
   "metadata": {},
   "outputs": [],
   "source": [
    "#Detecting the outlier by using iqr method and removing them.\n",
    "q1 = np.percentile(df_y['Item_Visibility'], 25,\n",
    "                   interpolation = 'midpoint')\n",
    " \n",
    "q3 = np.percentile(df_y['Item_Visibility'], 65,\n",
    "                   interpolation = 'midpoint')\n",
    "iqr = q3 - q1"
   ]
  },
  {
   "cell_type": "code",
   "execution_count": 1591,
   "id": "965c0143",
   "metadata": {},
   "outputs": [
    {
     "name": "stdout",
     "output_type": "stream",
     "text": [
      "Higher: \n",
      " 0       False\n",
      "2       False\n",
      "3       False\n",
      "4       False\n",
      "5       False\n",
      "        ...  \n",
      "5676    False\n",
      "5677     True\n",
      "5678    False\n",
      "5679    False\n",
      "5680    False\n",
      "Name: Item_Visibility, Length: 5603, dtype: bool\n",
      "(array([  11,   18,   20,   41,   45,   75,   76,   77,   87,   88,  102,\n",
      "        112,  132,  136,  139,  153,  158,  170,  174,  194,  223,  229,\n",
      "        260,  273,  274,  275,  299,  302,  330,  334,  349,  357,  358,\n",
      "        363,  381,  385,  399,  415,  422,  425,  433,  448,  451,  469,\n",
      "        470,  474,  479,  490,  505,  514,  515,  522,  528,  536,  538,\n",
      "        571,  574,  578,  602,  630,  631,  634,  656,  667,  679,  688,\n",
      "        708,  711,  715,  717,  758,  762,  778,  781,  813,  837,  848,\n",
      "        861,  870,  876,  878,  902,  923,  928,  938,  953,  957,  959,\n",
      "        960,  976,  983, 1004, 1009, 1017, 1028, 1032, 1055, 1066, 1069,\n",
      "       1076, 1079, 1093, 1128, 1159, 1165, 1175, 1179, 1188, 1211, 1215,\n",
      "       1229, 1250, 1253, 1268, 1275, 1288, 1348, 1357, 1371, 1374, 1379,\n",
      "       1391, 1395, 1419, 1443, 1451, 1474, 1480, 1485, 1488, 1494, 1499,\n",
      "       1524, 1526, 1547, 1549, 1554, 1564, 1573, 1574, 1583, 1593, 1599,\n",
      "       1621, 1625, 1633, 1686, 1687, 1695, 1709, 1729, 1731, 1738, 1769,\n",
      "       1787, 1790, 1794, 1798, 1810, 1818, 1830, 1831, 1859, 1874, 1876,\n",
      "       1886, 1889, 1893, 1904, 1938, 1945, 1956, 1974, 1988, 1992, 2006,\n",
      "       2014, 2024, 2031, 2046, 2048, 2084, 2115, 2126, 2150, 2157, 2158,\n",
      "       2166, 2168, 2185, 2201, 2203, 2208, 2221, 2239, 2244, 2248, 2252,\n",
      "       2264, 2270, 2280, 2282, 2310, 2311, 2328, 2344, 2348, 2361, 2372,\n",
      "       2374, 2380, 2381, 2385, 2392, 2416, 2422, 2450, 2472, 2473, 2480,\n",
      "       2481, 2484, 2529, 2553, 2557, 2572, 2576, 2592, 2595, 2604, 2619,\n",
      "       2623, 2629, 2630, 2644, 2646, 2647, 2648, 2676, 2684, 2687, 2688,\n",
      "       2689, 2691, 2693, 2694, 2708, 2716, 2718, 2733, 2746, 2764, 2770,\n",
      "       2772, 2773, 2777, 2782, 2789, 2802, 2803, 2809, 2823, 2827, 2857,\n",
      "       2862, 2875, 2905, 2909, 2917, 2933, 2952, 2980, 2985, 2990, 3028,\n",
      "       3074, 3091, 3101, 3103, 3104, 3105, 3106, 3123, 3130, 3165, 3168,\n",
      "       3173, 3179, 3182, 3191, 3199, 3218, 3221, 3225, 3227, 3254, 3268,\n",
      "       3273, 3276, 3300, 3302, 3306, 3336, 3338, 3370, 3394, 3397, 3417,\n",
      "       3441, 3454, 3459, 3465, 3478, 3514, 3528, 3544, 3549, 3552, 3556,\n",
      "       3563, 3566, 3574, 3579, 3585, 3593, 3594, 3605, 3634, 3654, 3664,\n",
      "       3669, 3674, 3679, 3680, 3683, 3700, 3707, 3722, 3735, 3739, 3748,\n",
      "       3760, 3778, 3787, 3794, 3800, 3813, 3817, 3827, 3860, 3881, 3897,\n",
      "       3901, 3905, 3921, 3928, 3930, 3934, 3948, 3949, 3958, 4002, 4009,\n",
      "       4011, 4014, 4019, 4027, 4038, 4058, 4063, 4068, 4075, 4078, 4086,\n",
      "       4095, 4102, 4104, 4106, 4109, 4111, 4122, 4139, 4145, 4155, 4190,\n",
      "       4201, 4207, 4214, 4220, 4246, 4247, 4249, 4259, 4260, 4267, 4274,\n",
      "       4275, 4280, 4282, 4305, 4307, 4322, 4333, 4363, 4372, 4374, 4393,\n",
      "       4436, 4447, 4472, 4486, 4492, 4498, 4501, 4515, 4534, 4539, 4546,\n",
      "       4550, 4563, 4571, 4579, 4592, 4608, 4618, 4622, 4626, 4628, 4632,\n",
      "       4651, 4670, 4687, 4688, 4703, 4712, 4738, 4741, 4750, 4768, 4782,\n",
      "       4784, 4790, 4794, 4807, 4819, 4848, 4854, 4858, 4891, 4898, 4907,\n",
      "       4930, 4952, 4956, 4957, 4996, 5000, 5007, 5016, 5024, 5031, 5033,\n",
      "       5052, 5063, 5086, 5103, 5116, 5117, 5119, 5131, 5133, 5145, 5150,\n",
      "       5155, 5205, 5214, 5218, 5231, 5232, 5285, 5305, 5307, 5315, 5335,\n",
      "       5357, 5360, 5372, 5380, 5386, 5389, 5393, 5397, 5406, 5408, 5420,\n",
      "       5429, 5438, 5446, 5464, 5491, 5493, 5494, 5497, 5505, 5508, 5524,\n",
      "       5544, 5579, 5591, 5599], dtype=int64),)\n",
      "Lower: \n",
      " 0       False\n",
      "2       False\n",
      "3       False\n",
      "4       False\n",
      "5       False\n",
      "        ...  \n",
      "5676    False\n",
      "5677    False\n",
      "5678    False\n",
      "5679    False\n",
      "5680    False\n",
      "Name: Item_Visibility, Length: 5603, dtype: bool\n",
      "(array([], dtype=int64),)\n",
      "old Shape:  (5603, 10)\n"
     ]
    }
   ],
   "source": [
    "# higher side \n",
    "higher_side = df_y['Item_Visibility'] >= (q3+1.5*iqr)\n",
    "print(\"Higher: \\n\", higher_side)\n",
    "print(np.where(higher_side))\n",
    "high = np.where(higher_side)\n",
    " \n",
    "# lower side \n",
    "lower_side = df_y['Item_Visibility'] <= (q1-1.5*iqr)\n",
    "print(\"Lower: \\n\", lower_side)\n",
    "low = np.where(lower_side)\n",
    "print(np.where(lower_side))\n",
    "print(\"old Shape: \", df_y.shape)"
   ]
  },
  {
   "cell_type": "code",
   "execution_count": 1592,
   "id": "50976c46",
   "metadata": {},
   "outputs": [
    {
     "name": "stdout",
     "output_type": "stream",
     "text": [
      "Old Shape:  (5603, 10)\n",
      "New Shape:  (5093, 10)\n"
     ]
    }
   ],
   "source": [
    "#removing the outliers\n",
    "print(\"Old Shape: \", df_y.shape)\n",
    "df_y = df_y.drop(df_y.index[high])\n",
    "df_y = df_y.drop(df_y.index[low])\n",
    " \n",
    "print(\"New Shape: \", df_y.shape)"
   ]
  },
  {
   "cell_type": "code",
   "execution_count": 1593,
   "id": "de06ad56",
   "metadata": {},
   "outputs": [
    {
     "data": {
      "text/plain": [
       "<AxesSubplot:>"
      ]
     },
     "execution_count": 1593,
     "metadata": {},
     "output_type": "execute_result"
    },
    {
     "data": {
      "image/png": "[encoded data removed]",
      "text/plain": [
       "<Figure size 432x288 with 1 Axes>"
      ]
     },
     "metadata": {
      "needs_background": "light"
     },
     "output_type": "display_data"
    }
   ],
   "source": [
    "sns.boxplot(data = df_y['Item_Visibility']) #visualize it by using boxplot"
   ]
  },
  {
   "cell_type": "code",
   "execution_count": 1594,
   "id": "b3d98a42",
   "metadata": {},
   "outputs": [
    {
     "data": {
      "text/plain": [
       "<AxesSubplot:xlabel='Item_Visibility', ylabel='Density'>"
      ]
     },
     "execution_count": 1594,
     "metadata": {},
     "output_type": "execute_result"
    },
    {
     "data": {
      "image/png": "[encoded data removed]",
      "text/plain": [
       "<Figure size 432x288 with 1 Axes>"
      ]
     },
     "metadata": {
      "needs_background": "light"
     },
     "output_type": "display_data"
    }
   ],
   "source": [
    "sns.distplot(df_y['Item_Visibility']) #visualize it by using distplot"
   ]
  },
  {
   "cell_type": "code",
   "execution_count": 1595,
   "id": "64143a80",
   "metadata": {},
   "outputs": [
    {
     "name": "stdout",
     "output_type": "stream",
     "text": [
      "mean of the column------->  0.058848299587788505\n",
      "median of the column-------->  0.056077341\n",
      "mode of the column-------->  0.06559950108459743\n"
     ]
    }
   ],
   "source": [
    "# calculate the mean, median, mode to check how much our column is skewed  \n",
    "print('mean of the column-------> ',df_y['Item_Visibility'].mean())\n",
    "print('median of the column--------> ',df_y['Item_Visibility'].median())\n",
    "print('mode of the column--------> ', st.mode(df_y['Item_Visibility']))"
   ]
  },
  {
   "cell_type": "code",
   "execution_count": 1596,
   "id": "0ef46242",
   "metadata": {},
   "outputs": [
    {
     "data": {
      "text/plain": [
       "(5093, 10)"
      ]
     },
     "execution_count": 1596,
     "metadata": {},
     "output_type": "execute_result"
    }
   ],
   "source": [
    "df_y.shape #check the present shape of our dataset"
   ]
  },
  {
   "cell_type": "markdown",
   "id": "56606ede",
   "metadata": {},
   "source": [
    "# Column5: Item_Type"
   ]
  },
  {
   "cell_type": "code",
   "execution_count": 1597,
   "id": "07ea9c80",
   "metadata": {},
   "outputs": [
    {
     "data": {
      "text/plain": [
       "array(['Snack Foods', 'Others', 'Dairy', 'Fruits and Vegetables',\n",
       "       'Baking Goods', 'Breads', 'Hard Drinks', 'Seafood', 'Soft Drinks',\n",
       "       'Household', 'Frozen Foods', 'Meat', 'Canned',\n",
       "       'Health and Hygiene', 'Starchy Foods', 'Breakfast'], dtype=object)"
      ]
     },
     "execution_count": 1597,
     "metadata": {},
     "output_type": "execute_result"
    }
   ],
   "source": [
    "df_y['Item_Type'].unique() #check the unique value"
   ]
  },
  {
   "cell_type": "code",
   "execution_count": 1598,
   "id": "b036a5cb",
   "metadata": {},
   "outputs": [
    {
     "data": {
      "text/plain": [
       "Snack Foods              708\n",
       "Fruits and Vegetables    697\n",
       "Household                597\n",
       "Frozen Foods             509\n",
       "Baking Goods             407\n",
       "Dairy                    397\n",
       "Canned                   373\n",
       "Health and Hygiene       309\n",
       "Meat                     276\n",
       "Soft Drinks              244\n",
       "Breads                   142\n",
       "Hard Drinks              134\n",
       "Starchy Foods            107\n",
       "Others                   106\n",
       "Breakfast                 64\n",
       "Seafood                   23\n",
       "Name: Item_Type, dtype: int64"
      ]
     },
     "execution_count": 1598,
     "metadata": {},
     "output_type": "execute_result"
    }
   ],
   "source": [
    "df_y['Item_Type'].value_counts() #check the number of counts"
   ]
  },
  {
   "cell_type": "code",
   "execution_count": 1600,
   "id": "a60fae3f",
   "metadata": {},
   "outputs": [],
   "source": [
    "lab_enc = LabelEncoder() #using label encoder to convert object value into integer"
   ]
  },
  {
   "cell_type": "code",
   "execution_count": 1601,
   "id": "1baa8a03",
   "metadata": {},
   "outputs": [],
   "source": [
    "df_item = lab_enc.fit_transform(df_y['Item_Type'])"
   ]
  },
  {
   "cell_type": "code",
   "execution_count": 1604,
   "id": "37212486",
   "metadata": {},
   "outputs": [],
   "source": [
    "a = pd.Series(df_item) "
   ]
  },
  {
   "cell_type": "code",
   "execution_count": 1605,
   "id": "9decc773",
   "metadata": {},
   "outputs": [],
   "source": [
    "df_y['Item_Type'] = a # save it to our column"
   ]
  },
  {
   "cell_type": "code",
   "execution_count": 1606,
   "id": "8e5227cf",
   "metadata": {},
   "outputs": [
    {
     "data": {
      "text/plain": [
       "array([13.,  4.,  6.,  0.,  1., 12., 14.,  9.,  5., 10.,  3., 11.,  8.,\n",
       "        7., 15.,  2., nan])"
      ]
     },
     "execution_count": 1606,
     "metadata": {},
     "output_type": "execute_result"
    }
   ],
   "source": [
    "df_y['Item_Type'].unique() #now, check the unique values"
   ]
  },
  {
   "cell_type": "code",
   "execution_count": 1607,
   "id": "9c3a731b",
   "metadata": {},
   "outputs": [
    {
     "data": {
      "text/plain": [
       "528"
      ]
     },
     "execution_count": 1607,
     "metadata": {},
     "output_type": "execute_result"
    }
   ],
   "source": [
    "df_y['Item_Type'].isna().sum() #check the null values"
   ]
  },
  {
   "cell_type": "code",
   "execution_count": 1609,
   "id": "a8839fe1",
   "metadata": {},
   "outputs": [
    {
     "data": {
      "text/plain": [
       "6.0     624\n",
       "13.0    620\n",
       "9.0     546\n",
       "5.0     458\n",
       "0.0     372\n",
       "4.0     362\n",
       "3.0     335\n",
       "8.0     272\n",
       "10.0    246\n",
       "14.0    220\n",
       "1.0     126\n",
       "7.0     119\n",
       "15.0     97\n",
       "11.0     88\n",
       "2.0      60\n",
       "12.0     20\n",
       "Name: Item_Type, dtype: int64"
      ]
     },
     "execution_count": 1609,
     "metadata": {},
     "output_type": "execute_result"
    }
   ],
   "source": [
    "df_y['Item_Type'].value_counts() #check the number of counts"
   ]
  },
  {
   "cell_type": "code",
   "execution_count": 1610,
   "id": "eed53786",
   "metadata": {},
   "outputs": [],
   "source": [
    "#using simple imputer to treat the null values\n",
    "si = SimpleImputer()"
   ]
  },
  {
   "cell_type": "code",
   "execution_count": 1611,
   "id": "d2a242b8",
   "metadata": {},
   "outputs": [],
   "source": [
    "ct = make_column_transformer((si,['Item_Type']), remainder = 'passthrough')\n",
    "a = ct.fit_transform(df_y)"
   ]
  },
  {
   "cell_type": "code",
   "execution_count": 1612,
   "id": "fc0bce9d",
   "metadata": {},
   "outputs": [],
   "source": [
    "df_y['Item_Type'] = a #save it to our column"
   ]
  },
  {
   "cell_type": "code",
   "execution_count": 1613,
   "id": "b4866151",
   "metadata": {},
   "outputs": [
    {
     "data": {
      "text/plain": [
       "0"
      ]
     },
     "execution_count": 1613,
     "metadata": {},
     "output_type": "execute_result"
    }
   ],
   "source": [
    "df_y['Item_Type'].isna().sum() #now, check the null value"
   ]
  },
  {
   "cell_type": "code",
   "execution_count": 1614,
   "id": "83befc46",
   "metadata": {},
   "outputs": [
    {
     "data": {
      "text/plain": [
       "6.000000     624\n",
       "13.000000    620\n",
       "9.000000     546\n",
       "7.211172     528\n",
       "5.000000     458\n",
       "0.000000     372\n",
       "4.000000     362\n",
       "3.000000     335\n",
       "8.000000     272\n",
       "10.000000    246\n",
       "14.000000    220\n",
       "1.000000     126\n",
       "7.000000     119\n",
       "15.000000     97\n",
       "11.000000     88\n",
       "2.000000      60\n",
       "12.000000     20\n",
       "Name: Item_Type, dtype: int64"
      ]
     },
     "execution_count": 1614,
     "metadata": {},
     "output_type": "execute_result"
    }
   ],
   "source": [
    "df_y['Item_Type'].value_counts() #these null values replaced by column mean value."
   ]
  },
  {
   "cell_type": "code",
   "execution_count": 1615,
   "id": "09fe5774",
   "metadata": {},
   "outputs": [
    {
     "data": {
      "text/plain": [
       "<AxesSubplot:xlabel='Item_Type', ylabel='Density'>"
      ]
     },
     "execution_count": 1615,
     "metadata": {},
     "output_type": "execute_result"
    },
    {
     "data": {
      "image/png": "[encoded data removed]",
      "text/plain": [
       "<Figure size 432x288 with 1 Axes>"
      ]
     },
     "metadata": {
      "needs_background": "light"
     },
     "output_type": "display_data"
    }
   ],
   "source": [
    "sns.distplot(df_y['Item_Type']) #visualize it by using distplot"
   ]
  },
  {
   "cell_type": "code",
   "execution_count": 1616,
   "id": "216dd903",
   "metadata": {},
   "outputs": [
    {
     "name": "stdout",
     "output_type": "stream",
     "text": [
      "mean of the column------->  7.211171960569318\n",
      "median of the column-------->  7.211171960569551\n",
      "mode of the column-------->  6.0\n"
     ]
    }
   ],
   "source": [
    "# calculate the mean, median, mode to check how much our column is skewed  \n",
    "print('mean of the column-------> ',df_y['Item_Type'].mean())\n",
    "print('median of the column--------> ',df_y['Item_Type'].median())\n",
    "print('mode of the column--------> ', st.mode(df_y['Item_Type']))"
   ]
  },
  {
   "cell_type": "code",
   "execution_count": 1618,
   "id": "5ca5c756",
   "metadata": {},
   "outputs": [
    {
     "data": {
      "text/plain": [
       "(5093, 10)"
      ]
     },
     "execution_count": 1618,
     "metadata": {},
     "output_type": "execute_result"
    }
   ],
   "source": [
    "df_y.shape #now check the shape of the dataset"
   ]
  },
  {
   "cell_type": "markdown",
   "id": "c6417237",
   "metadata": {},
   "source": [
    "# Column6: Item_MRP"
   ]
  },
  {
   "cell_type": "code",
   "execution_count": 1619,
   "id": "38cd6b86",
   "metadata": {},
   "outputs": [
    {
     "data": {
      "text/plain": [
       "array([107.8622, 241.7538, 155.034 , ..., 141.3154, 214.6218,  79.796 ])"
      ]
     },
     "execution_count": 1619,
     "metadata": {},
     "output_type": "execute_result"
    }
   ],
   "source": [
    "df_y['Item_MRP'].unique() #check the unique values"
   ]
  },
  {
   "cell_type": "code",
   "execution_count": 1620,
   "id": "24a6aaa9",
   "metadata": {},
   "outputs": [
    {
     "data": {
      "text/plain": [
       "189.6214    4\n",
       "141.2154    4\n",
       "173.6422    4\n",
       "99.4700     4\n",
       "55.3588     4\n",
       "           ..\n",
       "176.3396    1\n",
       "110.1254    1\n",
       "212.3928    1\n",
       "186.4240    1\n",
       "185.3582    1\n",
       "Name: Item_MRP, Length: 4050, dtype: int64"
      ]
     },
     "execution_count": 1620,
     "metadata": {},
     "output_type": "execute_result"
    }
   ],
   "source": [
    "df_y['Item_MRP'].value_counts() #check the number of counts"
   ]
  },
  {
   "cell_type": "code",
   "execution_count": 1621,
   "id": "8596e173",
   "metadata": {},
   "outputs": [
    {
     "data": {
      "text/plain": [
       "True"
      ]
     },
     "execution_count": 1621,
     "metadata": {},
     "output_type": "execute_result"
    }
   ],
   "source": [
    "df_y['Item_MRP'].all() #check the zero value in the column"
   ]
  },
  {
   "cell_type": "code",
   "execution_count": 1622,
   "id": "b2590252",
   "metadata": {},
   "outputs": [
    {
     "data": {
      "text/plain": [
       "0"
      ]
     },
     "execution_count": 1622,
     "metadata": {},
     "output_type": "execute_result"
    }
   ],
   "source": [
    "df_y['Item_MRP'].isna().sum() #check the null values of the column"
   ]
  },
  {
   "cell_type": "code",
   "execution_count": 1623,
   "id": "fc32b4f5",
   "metadata": {},
   "outputs": [
    {
     "data": {
      "text/plain": [
       "<AxesSubplot:>"
      ]
     },
     "execution_count": 1623,
     "metadata": {},
     "output_type": "execute_result"
    },
    {
     "data": {
      "image/png": "[encoded data removed]",
      "text/plain": [
       "<Figure size 432x288 with 1 Axes>"
      ]
     },
     "metadata": {
      "needs_background": "light"
     },
     "output_type": "display_data"
    }
   ],
   "source": [
    "sns.boxplot(data = df_y['Item_MRP']) # visualize it by using boxplot"
   ]
  },
  {
   "cell_type": "code",
   "execution_count": 1624,
   "id": "ec005202",
   "metadata": {},
   "outputs": [
    {
     "data": {
      "text/plain": [
       "<AxesSubplot:xlabel='Item_MRP', ylabel='Density'>"
      ]
     },
     "execution_count": 1624,
     "metadata": {},
     "output_type": "execute_result"
    },
    {
     "data": {
      "image/png": "[encoded data removed]",
      "text/plain": [
       "<Figure size 432x288 with 1 Axes>"
      ]
     },
     "metadata": {
      "needs_background": "light"
     },
     "output_type": "display_data"
    }
   ],
   "source": [
    "sns.distplot(df_y['Item_MRP']) #visualize it by using distplot"
   ]
  },
  {
   "cell_type": "code",
   "execution_count": 1625,
   "id": "7747c0be",
   "metadata": {},
   "outputs": [
    {
     "name": "stdout",
     "output_type": "stream",
     "text": [
      "mean of the column------->  141.39580137443542\n",
      "median of the column-------->  141.9154\n",
      "mode of the column-------->  194.9452\n"
     ]
    }
   ],
   "source": [
    "# calculate the mean, median, mode to check how much our column is skewed  \n",
    "print('mean of the column-------> ',df_y['Item_MRP'].mean())\n",
    "print('median of the column--------> ',df_y['Item_MRP'].median())\n",
    "print('mode of the column--------> ', st.mode(df_y['Item_MRP']))"
   ]
  },
  {
   "cell_type": "code",
   "execution_count": 1626,
   "id": "0672f490",
   "metadata": {},
   "outputs": [
    {
     "data": {
      "text/plain": [
       "(5093, 10)"
      ]
     },
     "execution_count": 1626,
     "metadata": {},
     "output_type": "execute_result"
    }
   ],
   "source": [
    "df_y.shape"
   ]
  },
  {
   "cell_type": "markdown",
   "id": "d53de23c",
   "metadata": {},
   "source": [
    "# Column7: Outlet_Identifier"
   ]
  },
  {
   "cell_type": "code",
   "execution_count": 1628,
   "id": "48a731b1",
   "metadata": {},
   "outputs": [],
   "source": [
    "df_y.drop(columns = 'Outlet_Identifier', inplace = True) #we delete this column in our training data"
   ]
  },
  {
   "cell_type": "code",
   "execution_count": 1629,
   "id": "209cf2d8",
   "metadata": {},
   "outputs": [
    {
     "data": {
      "text/plain": [
       "(5093, 9)"
      ]
     },
     "execution_count": 1629,
     "metadata": {},
     "output_type": "execute_result"
    }
   ],
   "source": [
    "df_y.shape"
   ]
  },
  {
   "cell_type": "markdown",
   "id": "67aa2deb",
   "metadata": {},
   "source": [
    "# Column8: Outlet_Establishment_Year"
   ]
  },
  {
   "cell_type": "code",
   "execution_count": 1630,
   "id": "1ec71ea0",
   "metadata": {},
   "outputs": [
    {
     "data": {
      "text/plain": [
       "array([1999, 1998, 2007, 1985, 1997, 2009, 2002, 1987, 2004], dtype=int64)"
      ]
     },
     "execution_count": 1630,
     "metadata": {},
     "output_type": "execute_result"
    }
   ],
   "source": [
    "df_y['Outlet_Establishment_Year'].unique() #check the unique values"
   ]
  },
  {
   "cell_type": "code",
   "execution_count": 1631,
   "id": "65c65a47",
   "metadata": {},
   "outputs": [
    {
     "data": {
      "text/plain": [
       "1985    819\n",
       "1999    579\n",
       "2009    574\n",
       "2007    573\n",
       "2002    572\n",
       "1987    572\n",
       "1997    570\n",
       "2004    560\n",
       "1998    274\n",
       "Name: Outlet_Establishment_Year, dtype: int64"
      ]
     },
     "execution_count": 1631,
     "metadata": {},
     "output_type": "execute_result"
    }
   ],
   "source": [
    "df_y['Outlet_Establishment_Year'].value_counts() #check the number of counts "
   ]
  },
  {
   "cell_type": "code",
   "execution_count": 1633,
   "id": "4236504b",
   "metadata": {},
   "outputs": [
    {
     "data": {
      "text/plain": [
       "0"
      ]
     },
     "execution_count": 1633,
     "metadata": {},
     "output_type": "execute_result"
    }
   ],
   "source": [
    "df_y['Outlet_Establishment_Year'].isna().sum() #check the null values"
   ]
  },
  {
   "cell_type": "code",
   "execution_count": 1634,
   "id": "82bb8b4e",
   "metadata": {},
   "outputs": [
    {
     "data": {
      "text/plain": [
       "True"
      ]
     },
     "execution_count": 1634,
     "metadata": {},
     "output_type": "execute_result"
    }
   ],
   "source": [
    "df_y['Outlet_Establishment_Year'].all() #check the zero value "
   ]
  },
  {
   "cell_type": "code",
   "execution_count": 1635,
   "id": "deee8336",
   "metadata": {},
   "outputs": [
    {
     "data": {
      "text/plain": [
       "<AxesSubplot:>"
      ]
     },
     "execution_count": 1635,
     "metadata": {},
     "output_type": "execute_result"
    },
    {
     "data": {
      "image/png": "[encoded data removed]",
      "text/plain": [
       "<Figure size 432x288 with 1 Axes>"
      ]
     },
     "metadata": {
      "needs_background": "light"
     },
     "output_type": "display_data"
    }
   ],
   "source": [
    "sns.boxplot(data = df_y['Outlet_Establishment_Year']) #visualize the column by using boxplot"
   ]
  },
  {
   "cell_type": "code",
   "execution_count": 1637,
   "id": "92cb4573",
   "metadata": {},
   "outputs": [
    {
     "name": "stdout",
     "output_type": "stream",
     "text": [
      "mean of the column------->  1998.037109758492\n",
      "median of the column-------->  1999.0\n",
      "mode of the column-------->  1985\n"
     ]
    }
   ],
   "source": [
    "# calculate the mean, median, mode to check how much our column is skewed  \n",
    "print('mean of the column-------> ',df_y['Outlet_Establishment_Year'].mean())\n",
    "print('median of the column--------> ',df_y['Outlet_Establishment_Year'].median())\n",
    "print('mode of the column--------> ', st.mode(df_y['Outlet_Establishment_Year']))"
   ]
  },
  {
   "cell_type": "code",
   "execution_count": 1638,
   "id": "35203ab0",
   "metadata": {},
   "outputs": [],
   "source": [
    "#Detecting the outlier by using iqr method and removing them.\n",
    "q1 = np.percentile(df_y['Outlet_Establishment_Year'], 25,\n",
    "                   interpolation = 'midpoint')\n",
    " \n",
    "q3 = np.percentile(df_y['Outlet_Establishment_Year'], 75,\n",
    "                   interpolation = 'midpoint')\n",
    "iqr = q3 - q1"
   ]
  },
  {
   "cell_type": "code",
   "execution_count": 1639,
   "id": "d5732b92",
   "metadata": {},
   "outputs": [
    {
     "name": "stdout",
     "output_type": "stream",
     "text": [
      "Higher: \n",
      " 0       False\n",
      "2       False\n",
      "3       False\n",
      "4       False\n",
      "5       False\n",
      "        ...  \n",
      "5675    False\n",
      "5676    False\n",
      "5678    False\n",
      "5679    False\n",
      "5680    False\n",
      "Name: Outlet_Establishment_Year, Length: 5093, dtype: bool\n",
      "(array([], dtype=int64),)\n",
      "Lower: \n",
      " 0       False\n",
      "2       False\n",
      "3       False\n",
      "4       False\n",
      "5       False\n",
      "        ...  \n",
      "5675    False\n",
      "5676    False\n",
      "5678    False\n",
      "5679    False\n",
      "5680    False\n",
      "Name: Outlet_Establishment_Year, Length: 5093, dtype: bool\n",
      "(array([], dtype=int64),)\n",
      "old Shape:  (5093, 9)\n"
     ]
    }
   ],
   "source": [
    "# higher side \n",
    "higher_side = df_y['Outlet_Establishment_Year'] >= (q3+1.5*iqr)\n",
    "print(\"Higher: \\n\", higher_side)\n",
    "print(np.where(higher_side))\n",
    "high = np.where(higher_side)\n",
    " \n",
    "# lower side \n",
    "lower_side = df_y['Outlet_Establishment_Year'] <= (q1-1.5*iqr)\n",
    "print(\"Lower: \\n\", lower_side)\n",
    "low = np.where(lower_side)\n",
    "print(np.where(lower_side))\n",
    "print(\"old Shape: \", df_y.shape)"
   ]
  },
  {
   "cell_type": "code",
   "execution_count": 1640,
   "id": "6d8323ef",
   "metadata": {},
   "outputs": [
    {
     "name": "stdout",
     "output_type": "stream",
     "text": [
      "Old Shape:  (5093, 9)\n",
      "New Shape:  (5093, 9)\n"
     ]
    }
   ],
   "source": [
    "#removing the outliers\n",
    "print(\"Old Shape: \", df_y.shape)\n",
    "df_y = df_y.drop(df_y.index[high])\n",
    "df_y = df_y.drop(df_y.index[low])\n",
    " \n",
    "print(\"New Shape: \", df_y.shape)"
   ]
  },
  {
   "cell_type": "code",
   "execution_count": 1636,
   "id": "3d304efc",
   "metadata": {},
   "outputs": [
    {
     "data": {
      "text/plain": [
       "(5093, 9)"
      ]
     },
     "execution_count": 1636,
     "metadata": {},
     "output_type": "execute_result"
    }
   ],
   "source": [
    "df_y.shape"
   ]
  },
  {
   "cell_type": "markdown",
   "id": "7ca13f0f",
   "metadata": {},
   "source": [
    "# Column9: Outlet_Size"
   ]
  },
  {
   "cell_type": "code",
   "execution_count": 1641,
   "id": "150f8017",
   "metadata": {},
   "outputs": [
    {
     "data": {
      "text/plain": [
       "array(['Medium', nan, 'Small', 'High'], dtype=object)"
      ]
     },
     "execution_count": 1641,
     "metadata": {},
     "output_type": "execute_result"
    }
   ],
   "source": [
    "df_y['Outlet_Size'].unique() #check the unique values"
   ]
  },
  {
   "cell_type": "code",
   "execution_count": 1642,
   "id": "9fe080f6",
   "metadata": {},
   "outputs": [
    {
     "data": {
      "text/plain": [
       "1419"
      ]
     },
     "execution_count": 1642,
     "metadata": {},
     "output_type": "execute_result"
    }
   ],
   "source": [
    "df_y['Outlet_Size'].isna().sum() #check the null values"
   ]
  },
  {
   "cell_type": "code",
   "execution_count": 1643,
   "id": "39ce2595",
   "metadata": {},
   "outputs": [],
   "source": [
    "lab_enc = LabelEncoder() #using label encoder to convert object into integer"
   ]
  },
  {
   "cell_type": "code",
   "execution_count": 1644,
   "id": "469456d5",
   "metadata": {},
   "outputs": [],
   "source": [
    "df_size = lab_enc.fit_transform(df_y['Outlet_Size'])"
   ]
  },
  {
   "cell_type": "code",
   "execution_count": 1645,
   "id": "fcdf328a",
   "metadata": {},
   "outputs": [],
   "source": [
    "a = pd.Series(df_size)"
   ]
  },
  {
   "cell_type": "code",
   "execution_count": 1646,
   "id": "0db487de",
   "metadata": {},
   "outputs": [],
   "source": [
    "df_y['Outlet_Size'] = a #save it into our column"
   ]
  },
  {
   "cell_type": "code",
   "execution_count": 1647,
   "id": "3ae3e580",
   "metadata": {},
   "outputs": [
    {
     "data": {
      "text/plain": [
       "array([ 1.,  3.,  2.,  0., nan])"
      ]
     },
     "execution_count": 1647,
     "metadata": {},
     "output_type": "execute_result"
    }
   ],
   "source": [
    "df_y['Outlet_Size'].unique() # check the unique values now"
   ]
  },
  {
   "cell_type": "code",
   "execution_count": 1648,
   "id": "a2f43af7",
   "metadata": {},
   "outputs": [
    {
     "data": {
      "text/plain": [
       "528"
      ]
     },
     "execution_count": 1648,
     "metadata": {},
     "output_type": "execute_result"
    }
   ],
   "source": [
    "df_y['Outlet_Size'].isna().sum() #check the null values"
   ]
  },
  {
   "cell_type": "code",
   "execution_count": 1649,
   "id": "451e6f50",
   "metadata": {},
   "outputs": [],
   "source": [
    "df_y.fillna(value = df_y['Outlet_Size'].mean(), inplace = True) #fill null values by its mean"
   ]
  },
  {
   "cell_type": "code",
   "execution_count": 1652,
   "id": "540fca6e",
   "metadata": {},
   "outputs": [
    {
     "data": {
      "text/plain": [
       "array([1.        , 3.        , 2.        , 0.        , 1.70887185])"
      ]
     },
     "execution_count": 1652,
     "metadata": {},
     "output_type": "execute_result"
    }
   ],
   "source": [
    "df_y['Outlet_Size'].unique() #check the unique value again"
   ]
  },
  {
   "cell_type": "code",
   "execution_count": 1653,
   "id": "42391dec",
   "metadata": {},
   "outputs": [
    {
     "data": {
      "text/plain": [
       "<AxesSubplot:xlabel='Outlet_Size', ylabel='Count'>"
      ]
     },
     "execution_count": 1653,
     "metadata": {},
     "output_type": "execute_result"
    },
    {
     "data": {
      "image/png": "[encoded data removed]",
      "text/plain": [
       "<Figure size 432x288 with 1 Axes>"
      ]
     },
     "metadata": {
      "needs_background": "light"
     },
     "output_type": "display_data"
    }
   ],
   "source": [
    "sns.histplot(df_y['Outlet_Size']) #visualize it by histogram"
   ]
  },
  {
   "cell_type": "code",
   "execution_count": 1655,
   "id": "5ef94f03",
   "metadata": {},
   "outputs": [
    {
     "data": {
      "text/plain": [
       "<AxesSubplot:>"
      ]
     },
     "execution_count": 1655,
     "metadata": {},
     "output_type": "execute_result"
    },
    {
     "data": {
      "image/png": "[encoded data removed]",
      "text/plain": [
       "<Figure size 432x288 with 1 Axes>"
      ]
     },
     "metadata": {
      "needs_background": "light"
     },
     "output_type": "display_data"
    }
   ],
   "source": [
    "sns.boxplot(data = df_y['Outlet_Size']) #visualize it by using boxplot"
   ]
  },
  {
   "cell_type": "code",
   "execution_count": 1656,
   "id": "57ac9483",
   "metadata": {},
   "outputs": [
    {
     "name": "stdout",
     "output_type": "stream",
     "text": [
      "mean of the column------->  1.7088718510405112\n",
      "median of the column-------->  1.7088718510405256\n",
      "mode of the column-------->  1.0\n"
     ]
    }
   ],
   "source": [
    "# calculate the mean, median, mode to check how much our column is skewed  \n",
    "print('mean of the column-------> ',df_y['Outlet_Size'].mean())\n",
    "print('median of the column--------> ',df_y['Outlet_Size'].median())\n",
    "print('mode of the column--------> ', st.mode(df_y['Outlet_Size']))"
   ]
  },
  {
   "cell_type": "code",
   "execution_count": 1657,
   "id": "8a3eaa4d",
   "metadata": {},
   "outputs": [
    {
     "data": {
      "text/plain": [
       "(5093, 9)"
      ]
     },
     "execution_count": 1657,
     "metadata": {},
     "output_type": "execute_result"
    }
   ],
   "source": [
    "df_y.shape"
   ]
  },
  {
   "cell_type": "markdown",
   "id": "da2f66c0",
   "metadata": {},
   "source": [
    "# Column10: Outlet_Location_Type"
   ]
  },
  {
   "cell_type": "code",
   "execution_count": 1658,
   "id": "85ffb49e",
   "metadata": {},
   "outputs": [
    {
     "data": {
      "text/plain": [
       "array(['Tier 1', 'Tier 3', 'Tier 2'], dtype=object)"
      ]
     },
     "execution_count": 1658,
     "metadata": {},
     "output_type": "execute_result"
    }
   ],
   "source": [
    "df_y['Outlet_Location_Type'].unique() #check the unique values "
   ]
  },
  {
   "cell_type": "code",
   "execution_count": 1659,
   "id": "4d06b852",
   "metadata": {},
   "outputs": [],
   "source": [
    "lab_enc = LabelEncoder() #using the label encoder to change object into integer"
   ]
  },
  {
   "cell_type": "code",
   "execution_count": 1660,
   "id": "25cb1bfa",
   "metadata": {},
   "outputs": [],
   "source": [
    "df_loc = lab_enc.fit_transform(df_y['Outlet_Location_Type'])"
   ]
  },
  {
   "cell_type": "code",
   "execution_count": 1661,
   "id": "79365ca0",
   "metadata": {},
   "outputs": [],
   "source": [
    "df_y['Outlet_Location_Type'] = df_loc #save it to our column"
   ]
  },
  {
   "cell_type": "code",
   "execution_count": 1662,
   "id": "5e2fb948",
   "metadata": {},
   "outputs": [
    {
     "data": {
      "text/plain": [
       "array([0, 2, 1])"
      ]
     },
     "execution_count": 1662,
     "metadata": {},
     "output_type": "execute_result"
    }
   ],
   "source": [
    "df_y['Outlet_Location_Type'].unique() #check the unique values now"
   ]
  },
  {
   "cell_type": "code",
   "execution_count": 1663,
   "id": "921a26fe",
   "metadata": {},
   "outputs": [
    {
     "data": {
      "text/plain": [
       "0"
      ]
     },
     "execution_count": 1663,
     "metadata": {},
     "output_type": "execute_result"
    }
   ],
   "source": [
    "df_y['Outlet_Location_Type'].isna().sum() #check the null values"
   ]
  },
  {
   "cell_type": "code",
   "execution_count": 1664,
   "id": "c70e642e",
   "metadata": {},
   "outputs": [
    {
     "data": {
      "text/plain": [
       "<AxesSubplot:xlabel='Outlet_Location_Type', ylabel='Density'>"
      ]
     },
     "execution_count": 1664,
     "metadata": {},
     "output_type": "execute_result"
    },
    {
     "data": {
      "image/png": "[encoded data removed]",
      "text/plain": [
       "<Figure size 432x288 with 1 Axes>"
      ]
     },
     "metadata": {
      "needs_background": "light"
     },
     "output_type": "display_data"
    }
   ],
   "source": [
    "sns.distplot(df_y['Outlet_Location_Type']) #visualize it by using distplot"
   ]
  },
  {
   "cell_type": "code",
   "execution_count": 1665,
   "id": "955b192a",
   "metadata": {},
   "outputs": [
    {
     "data": {
      "text/plain": [
       "(5093, 9)"
      ]
     },
     "execution_count": 1665,
     "metadata": {},
     "output_type": "execute_result"
    }
   ],
   "source": [
    "df_y.shape"
   ]
  },
  {
   "cell_type": "markdown",
   "id": "985d49c5",
   "metadata": {},
   "source": [
    "# Column11: Outlet_Type"
   ]
  },
  {
   "cell_type": "code",
   "execution_count": 1666,
   "id": "3076c8b6",
   "metadata": {},
   "outputs": [
    {
     "data": {
      "text/plain": [
       "array(['Supermarket Type1', 'Grocery Store', 'Supermarket Type3',\n",
       "       'Supermarket Type2'], dtype=object)"
      ]
     },
     "execution_count": 1666,
     "metadata": {},
     "output_type": "execute_result"
    }
   ],
   "source": [
    "df_y['Outlet_Type'].unique() #check the unique values "
   ]
  },
  {
   "cell_type": "code",
   "execution_count": 1667,
   "id": "1834973c",
   "metadata": {},
   "outputs": [
    {
     "data": {
      "text/plain": [
       "Supermarket Type1    3426\n",
       "Supermarket Type2     574\n",
       "Supermarket Type3     564\n",
       "Grocery Store         529\n",
       "Name: Outlet_Type, dtype: int64"
      ]
     },
     "execution_count": 1667,
     "metadata": {},
     "output_type": "execute_result"
    }
   ],
   "source": [
    "df_y['Outlet_Type'].value_counts() #count the number of values"
   ]
  },
  {
   "cell_type": "code",
   "execution_count": 1669,
   "id": "57b72f9f",
   "metadata": {},
   "outputs": [],
   "source": [
    "lab_enc = LabelEncoder() #using label encoder change object into integer"
   ]
  },
  {
   "cell_type": "code",
   "execution_count": 1670,
   "id": "54972f3b",
   "metadata": {},
   "outputs": [],
   "source": [
    "df_ot1 = lab_enc.fit_transform(df_y['Outlet_Type'])"
   ]
  },
  {
   "cell_type": "code",
   "execution_count": 1671,
   "id": "ece1f6e3",
   "metadata": {},
   "outputs": [],
   "source": [
    "df_y['Outlet_Type'] = df_ot1"
   ]
  },
  {
   "cell_type": "code",
   "execution_count": 1672,
   "id": "f81b91ab",
   "metadata": {},
   "outputs": [
    {
     "data": {
      "text/plain": [
       "array([1, 0, 3, 2])"
      ]
     },
     "execution_count": 1672,
     "metadata": {},
     "output_type": "execute_result"
    }
   ],
   "source": [
    "df_y['Outlet_Type'].unique() #check the unique value again"
   ]
  },
  {
   "cell_type": "code",
   "execution_count": 1673,
   "id": "c1c11e33",
   "metadata": {},
   "outputs": [
    {
     "data": {
      "text/plain": [
       "1    3426\n",
       "2     574\n",
       "3     564\n",
       "0     529\n",
       "Name: Outlet_Type, dtype: int64"
      ]
     },
     "execution_count": 1673,
     "metadata": {},
     "output_type": "execute_result"
    }
   ],
   "source": [
    "df_y['Outlet_Type'].value_counts() #count the number of values"
   ]
  },
  {
   "cell_type": "code",
   "execution_count": 1674,
   "id": "04515236",
   "metadata": {},
   "outputs": [
    {
     "data": {
      "text/plain": [
       "(5093, 9)"
      ]
     },
     "execution_count": 1674,
     "metadata": {},
     "output_type": "execute_result"
    }
   ],
   "source": [
    "df_y.shape"
   ]
  },
  {
   "cell_type": "code",
   "execution_count": 1676,
   "id": "5af536c1",
   "metadata": {},
   "outputs": [
    {
     "data": {
      "text/html": [
       "<div>\n",
       "<style scoped>\n",
       "    .dataframe tbody tr th:only-of-type {\n",
       "        vertical-align: middle;\n",
       "    }\n",
       "\n",
       "    .dataframe tbody tr th {\n",
       "        vertical-align: top;\n",
       "    }\n",
       "\n",
       "    .dataframe thead th {\n",
       "        text-align: right;\n",
       "    }\n",
       "</style>\n",
       "<table border=\"1\" class=\"dataframe\">\n",
       "  <thead>\n",
       "    <tr style=\"text-align: right;\">\n",
       "      <th></th>\n",
       "      <th>Item_Identifier</th>\n",
       "      <th>Item_Fat_Content</th>\n",
       "      <th>Item_Visibility</th>\n",
       "      <th>Item_Type</th>\n",
       "      <th>Item_MRP</th>\n",
       "      <th>Outlet_Establishment_Year</th>\n",
       "      <th>Outlet_Size</th>\n",
       "      <th>Outlet_Location_Type</th>\n",
       "      <th>Outlet_Type</th>\n",
       "      <th>Item_Outlet_Sales</th>\n",
       "    </tr>\n",
       "  </thead>\n",
       "  <tbody>\n",
       "    <tr>\n",
       "      <th>0</th>\n",
       "      <td>145</td>\n",
       "      <td>1</td>\n",
       "      <td>0.016047</td>\n",
       "      <td>4.0</td>\n",
       "      <td>249.8092</td>\n",
       "      <td>1999</td>\n",
       "      <td>1</td>\n",
       "      <td>0</td>\n",
       "      <td>0</td>\n",
       "      <td>3735.1380</td>\n",
       "    </tr>\n",
       "    <tr>\n",
       "      <th>1</th>\n",
       "      <td>8</td>\n",
       "      <td>2</td>\n",
       "      <td>0.019278</td>\n",
       "      <td>14.0</td>\n",
       "      <td>48.2692</td>\n",
       "      <td>2009</td>\n",
       "      <td>1</td>\n",
       "      <td>2</td>\n",
       "      <td>1</td>\n",
       "      <td>443.4228</td>\n",
       "    </tr>\n",
       "  </tbody>\n",
       "</table>\n",
       "</div>"
      ],
      "text/plain": [
       "   Item_Identifier  Item_Fat_Content  Item_Visibility  Item_Type  Item_MRP  \\\n",
       "0              145                 1         0.016047        4.0  249.8092   \n",
       "1                8                 2         0.019278       14.0   48.2692   \n",
       "\n",
       "   Outlet_Establishment_Year  Outlet_Size  Outlet_Location_Type  Outlet_Type  \\\n",
       "0                       1999            1                     0            0   \n",
       "1                       2009            1                     2            1   \n",
       "\n",
       "   Item_Outlet_Sales  \n",
       "0          3735.1380  \n",
       "1           443.4228  "
      ]
     },
     "execution_count": 1676,
     "metadata": {},
     "output_type": "execute_result"
    }
   ],
   "source": [
    "df_x.head(2)"
   ]
  },
  {
   "cell_type": "code",
   "execution_count": 1677,
   "id": "38307baa",
   "metadata": {},
   "outputs": [
    {
     "data": {
      "text/html": [
       "<div>\n",
       "<style scoped>\n",
       "    .dataframe tbody tr th:only-of-type {\n",
       "        vertical-align: middle;\n",
       "    }\n",
       "\n",
       "    .dataframe tbody tr th {\n",
       "        vertical-align: top;\n",
       "    }\n",
       "\n",
       "    .dataframe thead th {\n",
       "        text-align: right;\n",
       "    }\n",
       "</style>\n",
       "<table border=\"1\" class=\"dataframe\">\n",
       "  <thead>\n",
       "    <tr style=\"text-align: right;\">\n",
       "      <th></th>\n",
       "      <th>Item_Identifier</th>\n",
       "      <th>Item_Fat_Content</th>\n",
       "      <th>Item_Visibility</th>\n",
       "      <th>Item_Type</th>\n",
       "      <th>Item_MRP</th>\n",
       "      <th>Outlet_Establishment_Year</th>\n",
       "      <th>Outlet_Size</th>\n",
       "      <th>Outlet_Location_Type</th>\n",
       "      <th>Outlet_Type</th>\n",
       "    </tr>\n",
       "  </thead>\n",
       "  <tbody>\n",
       "    <tr>\n",
       "      <th>0</th>\n",
       "      <td>1103.0</td>\n",
       "      <td>1</td>\n",
       "      <td>0.007565</td>\n",
       "      <td>13.0</td>\n",
       "      <td>107.8622</td>\n",
       "      <td>1999</td>\n",
       "      <td>1.0</td>\n",
       "      <td>0</td>\n",
       "      <td>1</td>\n",
       "    </tr>\n",
       "    <tr>\n",
       "      <th>2</th>\n",
       "      <td>1406.0</td>\n",
       "      <td>1</td>\n",
       "      <td>0.099575</td>\n",
       "      <td>13.0</td>\n",
       "      <td>241.7538</td>\n",
       "      <td>1998</td>\n",
       "      <td>3.0</td>\n",
       "      <td>2</td>\n",
       "      <td>0</td>\n",
       "    </tr>\n",
       "  </tbody>\n",
       "</table>\n",
       "</div>"
      ],
      "text/plain": [
       "   Item_Identifier  Item_Fat_Content  Item_Visibility  Item_Type  Item_MRP  \\\n",
       "0           1103.0                 1         0.007565       13.0  107.8622   \n",
       "2           1406.0                 1         0.099575       13.0  241.7538   \n",
       "\n",
       "   Outlet_Establishment_Year  Outlet_Size  Outlet_Location_Type  Outlet_Type  \n",
       "0                       1999          1.0                     0            1  \n",
       "2                       1998          3.0                     2            0  "
      ]
     },
     "execution_count": 1677,
     "metadata": {},
     "output_type": "execute_result"
    }
   ],
   "source": [
    "df_y.head(2)"
   ]
  },
  {
   "cell_type": "code",
   "execution_count": null,
   "id": "30bb43cb",
   "metadata": {},
   "outputs": [],
   "source": []
  }
 ],
 "metadata": {
  "kernelspec": {
   "display_name": "Python 3",
   "language": "python",
   "name": "python3"
  },
  "language_info": {
   "codemirror_mode": {
    "name": "ipython",
    "version": 3
   },
   "file_extension": ".py",
   "mimetype": "text/x-python",
   "name": "python",
   "nbconvert_exporter": "python",
   "pygments_lexer": "ipython3",
   "version": "3.8.8"
  }
 },
 "nbformat": 4,
 "nbformat_minor": 5
}
